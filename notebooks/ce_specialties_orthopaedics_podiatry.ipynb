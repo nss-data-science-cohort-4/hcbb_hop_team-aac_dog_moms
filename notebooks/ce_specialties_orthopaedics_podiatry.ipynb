{
 "cells": [
  {
   "cell_type": "code",
   "execution_count": 147,
   "metadata": {},
   "outputs": [],
   "source": [
    "import pandas as pd\n",
    "import sqlite3\n",
    "from tqdm.notebook import tqdm\n",
    "import pandas as pd\n",
    "import numpy as np\n",
    "import re\n",
    "import plotly.express as px\n",
    "\n",
    "import plotly.graph_objects as go\n",
    "from ipywidgets import widgets\n",
    "\n",
    "import chart_studio.plotly as py\n",
    "\n",
    "import chart_studio\n",
    "chart_studio.tools.set_credentials_file(username='ceverest', api_key='V6TM2axFVMohJrseeMna')"
   ]
  },
  {
   "cell_type": "code",
   "execution_count": 5,
   "metadata": {},
   "outputs": [],
   "source": [
    "#Show all columns in dataframe by scrolling to the right\n",
    "pd.options.display.max_columns = None\n",
    "#Make each column accomodate full text\n",
    "pd.set_option('display.max_colwidth', 0)\n",
    "#Print up to 150 rows\n",
    "pd.options.display.max_rows = 150"
   ]
  },
  {
   "cell_type": "code",
   "execution_count": 135,
   "metadata": {},
   "outputs": [
    {
     "data": {
      "text/plain": [
       "(17, 3)"
      ]
     },
     "execution_count": 135,
     "metadata": {},
     "output_type": "execute_result"
    }
   ],
   "source": [
    "db = sqlite3.connect('../data/nppes_lite.sqlite') #reopen the connection\n",
    "\n",
    "#select facility name where facility has to_grouping of 'Hospitals'\n",
    "\n",
    "query = \"\"\"\n",
    "SELECT\n",
    "    from_display_name\n",
    "    , COUNT(DISTINCT(from_npi)) AS count_from_npi\n",
    "    , SUM(patient_count) AS total_patients\n",
    "FROM hosp_refs\n",
    "WHERE from_display_name IN ('Adult Reconstructive Orthopaedic Surgery Physician',\n",
    "                         'Orthopaedic Foot and Ankle Surgery Physician',\n",
    "                         'Orthopaedic Hand Surgery Physician',\n",
    "                         'Orthopaedic Surgery Physician',\n",
    "                         'Orthopaedic Surgery of the Spine Physician',\n",
    "                         'Orthopaedic Trauma Physician',\n",
    "                            'Sports Medicine (Orthopaedic Surgery) Physician',\n",
    "                            'Foot & Ankle Surgery Podiatrist',\n",
    "                         'Foot Surgery Podiatrist',\n",
    "                         'Podiatrist',\n",
    "                         'Primary Podiatric Medicine Podiatrist',\n",
    "                         'Sleep Medicine (Psychiatry & Neurology) Physician',\n",
    "                            'Pulmonary Disease Physician',\n",
    "                            'Rheumatology Physician',\n",
    "                            'Sleep Medicine (Internal Medicine) Physician',\n",
    "                            'Hypertension Specialist Physician',\n",
    "                            'Endocrinology, Diabetes & Metabolism Physician')\n",
    "GROUP BY from_display_name\n",
    "\"\"\"\n",
    "#                            \n",
    "\n",
    "npi_counts = pd.read_sql(query,db)\n",
    "\n",
    "db.close()\n",
    "npi_counts.shape"
   ]
  },
  {
   "cell_type": "code",
   "execution_count": 136,
   "metadata": {},
   "outputs": [
    {
     "data": {
      "text/html": [
       "<div>\n",
       "<style scoped>\n",
       "    .dataframe tbody tr th:only-of-type {\n",
       "        vertical-align: middle;\n",
       "    }\n",
       "\n",
       "    .dataframe tbody tr th {\n",
       "        vertical-align: top;\n",
       "    }\n",
       "\n",
       "    .dataframe thead th {\n",
       "        text-align: right;\n",
       "    }\n",
       "</style>\n",
       "<table border=\"1\" class=\"dataframe\">\n",
       "  <thead>\n",
       "    <tr style=\"text-align: right;\">\n",
       "      <th></th>\n",
       "      <th>from_display_name</th>\n",
       "      <th>count_from_npi</th>\n",
       "      <th>total_patients</th>\n",
       "    </tr>\n",
       "  </thead>\n",
       "  <tbody>\n",
       "    <tr>\n",
       "      <th>0</th>\n",
       "      <td>Adult Reconstructive Orthopaedic Surgery Physician</td>\n",
       "      <td>6</td>\n",
       "      <td>2484</td>\n",
       "    </tr>\n",
       "    <tr>\n",
       "      <th>1</th>\n",
       "      <td>Endocrinology, Diabetes &amp; Metabolism Physician</td>\n",
       "      <td>35</td>\n",
       "      <td>8882</td>\n",
       "    </tr>\n",
       "    <tr>\n",
       "      <th>2</th>\n",
       "      <td>Foot &amp; Ankle Surgery Podiatrist</td>\n",
       "      <td>21</td>\n",
       "      <td>5201</td>\n",
       "    </tr>\n",
       "    <tr>\n",
       "      <th>3</th>\n",
       "      <td>Foot Surgery Podiatrist</td>\n",
       "      <td>2</td>\n",
       "      <td>254</td>\n",
       "    </tr>\n",
       "    <tr>\n",
       "      <th>4</th>\n",
       "      <td>Hypertension Specialist Physician</td>\n",
       "      <td>1</td>\n",
       "      <td>203</td>\n",
       "    </tr>\n",
       "    <tr>\n",
       "      <th>5</th>\n",
       "      <td>Orthopaedic Foot and Ankle Surgery Physician</td>\n",
       "      <td>3</td>\n",
       "      <td>539</td>\n",
       "    </tr>\n",
       "    <tr>\n",
       "      <th>6</th>\n",
       "      <td>Orthopaedic Hand Surgery Physician</td>\n",
       "      <td>12</td>\n",
       "      <td>2524</td>\n",
       "    </tr>\n",
       "    <tr>\n",
       "      <th>7</th>\n",
       "      <td>Orthopaedic Surgery Physician</td>\n",
       "      <td>86</td>\n",
       "      <td>21316</td>\n",
       "    </tr>\n",
       "    <tr>\n",
       "      <th>8</th>\n",
       "      <td>Orthopaedic Surgery of the Spine Physician</td>\n",
       "      <td>11</td>\n",
       "      <td>3193</td>\n",
       "    </tr>\n",
       "    <tr>\n",
       "      <th>9</th>\n",
       "      <td>Orthopaedic Trauma Physician</td>\n",
       "      <td>6</td>\n",
       "      <td>804</td>\n",
       "    </tr>\n",
       "    <tr>\n",
       "      <th>10</th>\n",
       "      <td>Podiatrist</td>\n",
       "      <td>13</td>\n",
       "      <td>3839</td>\n",
       "    </tr>\n",
       "    <tr>\n",
       "      <th>11</th>\n",
       "      <td>Primary Podiatric Medicine Podiatrist</td>\n",
       "      <td>4</td>\n",
       "      <td>1049</td>\n",
       "    </tr>\n",
       "    <tr>\n",
       "      <th>12</th>\n",
       "      <td>Pulmonary Disease Physician</td>\n",
       "      <td>68</td>\n",
       "      <td>29087</td>\n",
       "    </tr>\n",
       "    <tr>\n",
       "      <th>13</th>\n",
       "      <td>Rheumatology Physician</td>\n",
       "      <td>26</td>\n",
       "      <td>7880</td>\n",
       "    </tr>\n",
       "    <tr>\n",
       "      <th>14</th>\n",
       "      <td>Sleep Medicine (Internal Medicine) Physician</td>\n",
       "      <td>4</td>\n",
       "      <td>1318</td>\n",
       "    </tr>\n",
       "    <tr>\n",
       "      <th>15</th>\n",
       "      <td>Sleep Medicine (Psychiatry &amp; Neurology) Physician</td>\n",
       "      <td>4</td>\n",
       "      <td>714</td>\n",
       "    </tr>\n",
       "    <tr>\n",
       "      <th>16</th>\n",
       "      <td>Sports Medicine (Orthopaedic Surgery) Physician</td>\n",
       "      <td>11</td>\n",
       "      <td>2752</td>\n",
       "    </tr>\n",
       "  </tbody>\n",
       "</table>\n",
       "</div>"
      ],
      "text/plain": [
       "                                     from_display_name  count_from_npi  \\\n",
       "0   Adult Reconstructive Orthopaedic Surgery Physician  6                \n",
       "1   Endocrinology, Diabetes & Metabolism Physician      35               \n",
       "2   Foot & Ankle Surgery Podiatrist                     21               \n",
       "3   Foot Surgery Podiatrist                             2                \n",
       "4   Hypertension Specialist Physician                   1                \n",
       "5   Orthopaedic Foot and Ankle Surgery Physician        3                \n",
       "6   Orthopaedic Hand Surgery Physician                  12               \n",
       "7   Orthopaedic Surgery Physician                       86               \n",
       "8   Orthopaedic Surgery of the Spine Physician          11               \n",
       "9   Orthopaedic Trauma Physician                        6                \n",
       "10  Podiatrist                                          13               \n",
       "11  Primary Podiatric Medicine Podiatrist               4                \n",
       "12  Pulmonary Disease Physician                         68               \n",
       "13  Rheumatology Physician                              26               \n",
       "14  Sleep Medicine (Internal Medicine) Physician        4                \n",
       "15  Sleep Medicine (Psychiatry & Neurology) Physician   4                \n",
       "16  Sports Medicine (Orthopaedic Surgery) Physician     11               \n",
       "\n",
       "    total_patients  \n",
       "0   2484            \n",
       "1   8882            \n",
       "2   5201            \n",
       "3   254             \n",
       "4   203             \n",
       "5   539             \n",
       "6   2524            \n",
       "7   21316           \n",
       "8   3193            \n",
       "9   804             \n",
       "10  3839            \n",
       "11  1049            \n",
       "12  29087           \n",
       "13  7880            \n",
       "14  1318            \n",
       "15  714             \n",
       "16  2752            "
      ]
     },
     "execution_count": 136,
     "metadata": {},
     "output_type": "execute_result"
    }
   ],
   "source": [
    "npi_counts"
   ]
  },
  {
   "cell_type": "markdown",
   "metadata": {},
   "source": [
    "### Orthopaedic Surgeons"
   ]
  },
  {
   "cell_type": "code",
   "execution_count": 6,
   "metadata": {},
   "outputs": [
    {
     "data": {
      "text/plain": [
       "(19, 7)"
      ]
     },
     "execution_count": 6,
     "metadata": {},
     "output_type": "execute_result"
    }
   ],
   "source": [
    "db = sqlite3.connect('../data/nppes_lite.sqlite') #reopen the connection\n",
    "\n",
    "#select facility name where facility has to_grouping of 'Hospitals'\n",
    "\n",
    "query = \"\"\"\n",
    "SELECT\n",
    "    from_classification,\n",
    "    hospital_group,\n",
    "    COUNT(DISTINCT(from_npi)) AS count_from_npi,\n",
    "    COUNT(DISTINCT(to_facility)) AS count_facilities,\n",
    "    SUM(patient_count) AS total_patients,\n",
    "    SUM(transaction_count) AS total_transactions,\n",
    "    ROUND((SUM(transaction_count)*1.00)/(SUM(patient_count)),2) as trans_per_pt\n",
    "FROM hosp_refs\n",
    "WHERE from_display_name IN ('Adult Reconstructive Orthopaedic Surgery Physician',\n",
    "                         'Orthopaedic Foot and Ankle Surgery Physician',\n",
    "                         'Orthopaedic Hand Surgery Physician',\n",
    "                         'Orthopaedic Surgery Physician',\n",
    "                         'Orthopaedic Surgery of the Spine Physician',\n",
    "                         'Orthopaedic Trauma Physician',\n",
    "                            'Sports Medicine (Orthopaedic Surgery) Physician',\n",
    "                            'Foot & Ankle Surgery Podiatrist',\n",
    "                         'Foot Surgery Podiatrist',\n",
    "                         'Podiatrist',\n",
    "                         'Primary Podiatric Medicine Podiatrist')\n",
    "GROUP BY from_classification, hospital_group\n",
    "\"\"\"\n",
    "#                            \n",
    "\n",
    "ortho = pd.read_sql(query,db)\n",
    "\n",
    "db.close()\n",
    "ortho.shape"
   ]
  },
  {
   "cell_type": "code",
   "execution_count": 8,
   "metadata": {},
   "outputs": [
    {
     "data": {
      "text/plain": [
       "278"
      ]
     },
     "execution_count": 8,
     "metadata": {},
     "output_type": "execute_result"
    }
   ],
   "source": [
    "ortho.count_from_npi.sum()"
   ]
  },
  {
   "cell_type": "code",
   "execution_count": 21,
   "metadata": {},
   "outputs": [
    {
     "data": {
      "text/plain": [
       "(1, 6)"
      ]
     },
     "execution_count": 21,
     "metadata": {},
     "output_type": "execute_result"
    }
   ],
   "source": [
    "db = sqlite3.connect('../data/nppes_lite.sqlite') #reopen the connection\n",
    "\n",
    "#select facility name where facility has to_grouping of 'Hospitals'\n",
    "\n",
    "query = \"\"\"\n",
    "SELECT\n",
    "    from_classification,\n",
    "    COUNT(DISTINCT(from_npi)) AS count_from_npi,\n",
    "    COUNT(DISTINCT(to_facility)) AS count_facilities,\n",
    "    SUM(patient_count) AS total_patients,\n",
    "    SUM(transaction_count) AS total_transactions,\n",
    "    ROUND((SUM(transaction_count)*1.00)/(SUM(patient_count)),2) as trans_per_pt\n",
    "FROM hosp_refs\n",
    "WHERE from_display_name IN ('Adult Reconstructive Orthopaedic Surgery Physician',\n",
    "                         'Orthopaedic Foot and Ankle Surgery Physician',\n",
    "                         'Orthopaedic Hand Surgery Physician',\n",
    "                         'Orthopaedic Surgery Physician',\n",
    "                         'Orthopaedic Surgery of the Spine Physician',\n",
    "                         'Orthopaedic Trauma Physician',\n",
    "                            'Sports Medicine (Orthopaedic Surgery) Physician')\n",
    "GROUP BY from_classification\n",
    "\"\"\"\n",
    "#                            \n",
    "\n",
    "ortho = pd.read_sql(query,db)\n",
    "\n",
    "db.close()\n",
    "ortho.shape"
   ]
  },
  {
   "cell_type": "code",
   "execution_count": 22,
   "metadata": {},
   "outputs": [
    {
     "data": {
      "text/html": [
       "<div>\n",
       "<style scoped>\n",
       "    .dataframe tbody tr th:only-of-type {\n",
       "        vertical-align: middle;\n",
       "    }\n",
       "\n",
       "    .dataframe tbody tr th {\n",
       "        vertical-align: top;\n",
       "    }\n",
       "\n",
       "    .dataframe thead th {\n",
       "        text-align: right;\n",
       "    }\n",
       "</style>\n",
       "<table border=\"1\" class=\"dataframe\">\n",
       "  <thead>\n",
       "    <tr style=\"text-align: right;\">\n",
       "      <th></th>\n",
       "      <th>from_classification</th>\n",
       "      <th>count_from_npi</th>\n",
       "      <th>count_facilities</th>\n",
       "      <th>total_patients</th>\n",
       "      <th>total_transactions</th>\n",
       "      <th>trans_per_pt</th>\n",
       "    </tr>\n",
       "  </thead>\n",
       "  <tbody>\n",
       "    <tr>\n",
       "      <th>0</th>\n",
       "      <td>Orthopaedic Surgery</td>\n",
       "      <td>135</td>\n",
       "      <td>21</td>\n",
       "      <td>33612</td>\n",
       "      <td>56335</td>\n",
       "      <td>1.68</td>\n",
       "    </tr>\n",
       "  </tbody>\n",
       "</table>\n",
       "</div>"
      ],
      "text/plain": [
       "   from_classification  count_from_npi  count_facilities  total_patients  \\\n",
       "0  Orthopaedic Surgery  135             21                33612            \n",
       "\n",
       "   total_transactions  trans_per_pt  \n",
       "0  56335               1.68          "
      ]
     },
     "execution_count": 22,
     "metadata": {},
     "output_type": "execute_result"
    }
   ],
   "source": [
    "ortho"
   ]
  },
  {
   "attachments": {
    "image.png": {
     "image/png": "[encoded data removed]"
    }
   },
   "cell_type": "markdown",
   "metadata": {},
   "source": [
    "![image.png](attachment:image.png)"
   ]
  },
  {
   "cell_type": "markdown",
   "metadata": {},
   "source": [
    "### Podiatry"
   ]
  },
  {
   "cell_type": "code",
   "execution_count": 19,
   "metadata": {},
   "outputs": [
    {
     "data": {
      "text/plain": [
       "(1, 6)"
      ]
     },
     "execution_count": 19,
     "metadata": {},
     "output_type": "execute_result"
    }
   ],
   "source": [
    "db = sqlite3.connect('../data/nppes_lite.sqlite') #reopen the connection\n",
    "\n",
    "#select facility name where facility has to_grouping of 'Hospitals'\n",
    "\n",
    "query = \"\"\"\n",
    "SELECT\n",
    "    from_classification,\n",
    "   ---- from_display_name,\n",
    "----    hospital_group,\n",
    "    COUNT(DISTINCT(from_npi)) AS count_from_npi,\n",
    "    COUNT(DISTINCT(to_facility)) AS count_facilities,\n",
    "    SUM(patient_count) AS total_patients,\n",
    "    SUM(transaction_count) AS total_transactions,\n",
    "    ROUND((SUM(transaction_count)*1.00)/(SUM(patient_count)),2) as trans_per_pt\n",
    "FROM hosp_refs\n",
    "WHERE from_display_name IN ('Foot & Ankle Surgery Podiatrist',\n",
    "                         'Foot Surgery Podiatrist',\n",
    "                         'Podiatrist',\n",
    "                         'Primary Podiatric Medicine Podiatrist')\n",
    "GROUP BY from_classification \n",
    "     ---   , hospital_group\n",
    "\"\"\"\n",
    "#                            \n",
    "\n",
    "pods= pd.read_sql(query,db)\n",
    "\n",
    "db.close()\n",
    "pods.shape"
   ]
  },
  {
   "cell_type": "code",
   "execution_count": 20,
   "metadata": {},
   "outputs": [
    {
     "data": {
      "text/html": [
       "<div>\n",
       "<style scoped>\n",
       "    .dataframe tbody tr th:only-of-type {\n",
       "        vertical-align: middle;\n",
       "    }\n",
       "\n",
       "    .dataframe tbody tr th {\n",
       "        vertical-align: top;\n",
       "    }\n",
       "\n",
       "    .dataframe thead th {\n",
       "        text-align: right;\n",
       "    }\n",
       "</style>\n",
       "<table border=\"1\" class=\"dataframe\">\n",
       "  <thead>\n",
       "    <tr style=\"text-align: right;\">\n",
       "      <th></th>\n",
       "      <th>from_classification</th>\n",
       "      <th>count_from_npi</th>\n",
       "      <th>count_facilities</th>\n",
       "      <th>total_patients</th>\n",
       "      <th>total_transactions</th>\n",
       "      <th>trans_per_pt</th>\n",
       "    </tr>\n",
       "  </thead>\n",
       "  <tbody>\n",
       "    <tr>\n",
       "      <th>0</th>\n",
       "      <td>Podiatrist</td>\n",
       "      <td>40</td>\n",
       "      <td>18</td>\n",
       "      <td>10343</td>\n",
       "      <td>18364</td>\n",
       "      <td>1.78</td>\n",
       "    </tr>\n",
       "  </tbody>\n",
       "</table>\n",
       "</div>"
      ],
      "text/plain": [
       "  from_classification  count_from_npi  count_facilities  total_patients  \\\n",
       "0  Podiatrist          40              18                10343            \n",
       "\n",
       "   total_transactions  trans_per_pt  \n",
       "0  18364               1.78          "
      ]
     },
     "execution_count": 20,
     "metadata": {},
     "output_type": "execute_result"
    }
   ],
   "source": [
    "pods"
   ]
  },
  {
   "cell_type": "code",
   "execution_count": null,
   "metadata": {},
   "outputs": [],
   "source": []
  },
  {
   "cell_type": "code",
   "execution_count": 131,
   "metadata": {},
   "outputs": [
    {
     "data": {
      "text/plain": [
       "(84, 8)"
      ]
     },
     "execution_count": 131,
     "metadata": {},
     "output_type": "execute_result"
    }
   ],
   "source": [
    "db = sqlite3.connect('../data/nppes_lite.sqlite') #reopen the connection\n",
    "\n",
    "#select facility name where facility has to_grouping of 'Hospitals'\n",
    "query = \"\"\"\n",
    "SELECT\n",
    "    from_display_name\n",
    "    , from_npi\n",
    "    , from_physician\n",
    "    , hospital_group\n",
    "    , SUM(COUNT(DISTINCT(hospital_group))) OVER (PARTITION BY from_physician) AS count_hospital_groups --- number of hospital groups to which provider refers\n",
    "   , SUM(patient_count) AS total_patients\n",
    "---    , SUM(transaction_count) AS total_transactions\n",
    "    , ROUND((SUM(transaction_count)*1.00)/(SUM(patient_count)),2) as trans_per_pt\n",
    "    , ROUND((SUM(patient_count)*1.00)/SUM(SUM(patient_count)) OVER (PARTITION BY from_physician),2) AS provider_patient_share  --- % share of providers patients referred to that group\n",
    "---   , ROUND((SUM(patient_count)*1.00)/SUM(SUM(patient_count)) OVER (PARTITION BY from_classification),2)  AS market_patient_share\n",
    "FROM hosp_refs\n",
    "WHERE from_display_name IN ('Foot & Ankle Surgery Podiatrist',\n",
    "                         'Foot Surgery Podiatrist',\n",
    "                         'Podiatrist',\n",
    "                         'Primary Podiatric Medicine Podiatrist')\n",
    "GROUP BY from_npi, from_physician, hospital_group\n",
    "\"\"\"\n",
    "\n",
    "# SELECT d1, d2, sum(v)/sum(sum(v)) OVER (PARTITION BY d1) AS share\n",
    "#FROM   test\n",
    "#GROUP  BY d1, d2;                           \n",
    "\n",
    "pods= pd.read_sql(query,db)\n",
    "\n",
    "db.close()\n",
    "pods.shape"
   ]
  },
  {
   "cell_type": "code",
   "execution_count": 132,
   "metadata": {},
   "outputs": [],
   "source": [
    "pods['provider_patient_share']=pods['provider_patient_share']*100"
   ]
  },
  {
   "cell_type": "code",
   "execution_count": 133,
   "metadata": {},
   "outputs": [
    {
     "data": {
      "text/html": [
       "<div>\n",
       "<style scoped>\n",
       "    .dataframe tbody tr th:only-of-type {\n",
       "        vertical-align: middle;\n",
       "    }\n",
       "\n",
       "    .dataframe tbody tr th {\n",
       "        vertical-align: top;\n",
       "    }\n",
       "\n",
       "    .dataframe thead th {\n",
       "        text-align: right;\n",
       "    }\n",
       "</style>\n",
       "<table border=\"1\" class=\"dataframe\">\n",
       "  <thead>\n",
       "    <tr style=\"text-align: right;\">\n",
       "      <th></th>\n",
       "      <th>from_display_name</th>\n",
       "      <th>from_npi</th>\n",
       "      <th>from_physician</th>\n",
       "      <th>hospital_group</th>\n",
       "      <th>count_hospital_groups</th>\n",
       "      <th>total_patients</th>\n",
       "      <th>trans_per_pt</th>\n",
       "      <th>provider_patient_share</th>\n",
       "    </tr>\n",
       "  </thead>\n",
       "  <tbody>\n",
       "    <tr>\n",
       "      <th>0</th>\n",
       "      <td>Podiatrist</td>\n",
       "      <td>1952542698</td>\n",
       "      <td>ADAM HICKS</td>\n",
       "      <td>Vanderbilt University Medical Center</td>\n",
       "      <td>1</td>\n",
       "      <td>691</td>\n",
       "      <td>2.36</td>\n",
       "      <td>100.0</td>\n",
       "    </tr>\n",
       "    <tr>\n",
       "      <th>1</th>\n",
       "      <td>Foot &amp; Ankle Surgery Podiatrist</td>\n",
       "      <td>1003855537</td>\n",
       "      <td>CAROLINE GANNON</td>\n",
       "      <td>Vanderbilt University Medical Center</td>\n",
       "      <td>2</td>\n",
       "      <td>98</td>\n",
       "      <td>1.79</td>\n",
       "      <td>41.0</td>\n",
       "    </tr>\n",
       "    <tr>\n",
       "      <th>2</th>\n",
       "      <td>Foot &amp; Ankle Surgery Podiatrist</td>\n",
       "      <td>1003855537</td>\n",
       "      <td>CAROLINE GANNON</td>\n",
       "      <td>Williamson Medical Center</td>\n",
       "      <td>2</td>\n",
       "      <td>142</td>\n",
       "      <td>1.61</td>\n",
       "      <td>59.0</td>\n",
       "    </tr>\n",
       "    <tr>\n",
       "      <th>3</th>\n",
       "      <td>Foot &amp; Ankle Surgery Podiatrist</td>\n",
       "      <td>1205155850</td>\n",
       "      <td>CHRISTOPHER BENAC</td>\n",
       "      <td>Vanderbilt University Medical Center</td>\n",
       "      <td>1</td>\n",
       "      <td>96</td>\n",
       "      <td>1.66</td>\n",
       "      <td>100.0</td>\n",
       "    </tr>\n",
       "    <tr>\n",
       "      <th>4</th>\n",
       "      <td>Foot &amp; Ankle Surgery Podiatrist</td>\n",
       "      <td>1902015019</td>\n",
       "      <td>CHRISTOPHER FRAZIER</td>\n",
       "      <td>HCA</td>\n",
       "      <td>5</td>\n",
       "      <td>62</td>\n",
       "      <td>1.44</td>\n",
       "      <td>12.0</td>\n",
       "    </tr>\n",
       "    <tr>\n",
       "      <th>5</th>\n",
       "      <td>Foot &amp; Ankle Surgery Podiatrist</td>\n",
       "      <td>1902015019</td>\n",
       "      <td>CHRISTOPHER FRAZIER</td>\n",
       "      <td>Macon County General Hospital</td>\n",
       "      <td>5</td>\n",
       "      <td>34</td>\n",
       "      <td>1.59</td>\n",
       "      <td>7.0</td>\n",
       "    </tr>\n",
       "    <tr>\n",
       "      <th>6</th>\n",
       "      <td>Foot &amp; Ankle Surgery Podiatrist</td>\n",
       "      <td>1902015019</td>\n",
       "      <td>CHRISTOPHER FRAZIER</td>\n",
       "      <td>Riverview Regional Medical Center</td>\n",
       "      <td>5</td>\n",
       "      <td>102</td>\n",
       "      <td>1.66</td>\n",
       "      <td>20.0</td>\n",
       "    </tr>\n",
       "    <tr>\n",
       "      <th>7</th>\n",
       "      <td>Foot &amp; Ankle Surgery Podiatrist</td>\n",
       "      <td>1902015019</td>\n",
       "      <td>CHRISTOPHER FRAZIER</td>\n",
       "      <td>Sumner Regional Medical Center</td>\n",
       "      <td>5</td>\n",
       "      <td>264</td>\n",
       "      <td>2.98</td>\n",
       "      <td>52.0</td>\n",
       "    </tr>\n",
       "    <tr>\n",
       "      <th>8</th>\n",
       "      <td>Foot &amp; Ankle Surgery Podiatrist</td>\n",
       "      <td>1902015019</td>\n",
       "      <td>CHRISTOPHER FRAZIER</td>\n",
       "      <td>Vanderbilt University Medical Center</td>\n",
       "      <td>5</td>\n",
       "      <td>41</td>\n",
       "      <td>1.80</td>\n",
       "      <td>8.0</td>\n",
       "    </tr>\n",
       "    <tr>\n",
       "      <th>9</th>\n",
       "      <td>Podiatrist</td>\n",
       "      <td>1518078039</td>\n",
       "      <td>DAVID SONG</td>\n",
       "      <td>Vanderbilt University Medical Center</td>\n",
       "      <td>2</td>\n",
       "      <td>74</td>\n",
       "      <td>1.68</td>\n",
       "      <td>47.0</td>\n",
       "    </tr>\n",
       "    <tr>\n",
       "      <th>10</th>\n",
       "      <td>Podiatrist</td>\n",
       "      <td>1518078039</td>\n",
       "      <td>DAVID SONG</td>\n",
       "      <td>Williamson Medical Center</td>\n",
       "      <td>2</td>\n",
       "      <td>82</td>\n",
       "      <td>1.66</td>\n",
       "      <td>53.0</td>\n",
       "    </tr>\n",
       "    <tr>\n",
       "      <th>11</th>\n",
       "      <td>Foot &amp; Ankle Surgery Podiatrist</td>\n",
       "      <td>1558306217</td>\n",
       "      <td>DAVID TRENNER</td>\n",
       "      <td>Sumner Regional Medical Center</td>\n",
       "      <td>3</td>\n",
       "      <td>40</td>\n",
       "      <td>1.65</td>\n",
       "      <td>7.0</td>\n",
       "    </tr>\n",
       "    <tr>\n",
       "      <th>12</th>\n",
       "      <td>Foot &amp; Ankle Surgery Podiatrist</td>\n",
       "      <td>1558306217</td>\n",
       "      <td>DAVID TRENNER</td>\n",
       "      <td>Vanderbilt University Medical Center</td>\n",
       "      <td>3</td>\n",
       "      <td>452</td>\n",
       "      <td>2.30</td>\n",
       "      <td>80.0</td>\n",
       "    </tr>\n",
       "    <tr>\n",
       "      <th>13</th>\n",
       "      <td>Foot &amp; Ankle Surgery Podiatrist</td>\n",
       "      <td>1558306217</td>\n",
       "      <td>DAVID TRENNER</td>\n",
       "      <td>Williamson Medical Center</td>\n",
       "      <td>3</td>\n",
       "      <td>70</td>\n",
       "      <td>1.26</td>\n",
       "      <td>12.0</td>\n",
       "    </tr>\n",
       "    <tr>\n",
       "      <th>14</th>\n",
       "      <td>Foot &amp; Ankle Surgery Podiatrist</td>\n",
       "      <td>1164765798</td>\n",
       "      <td>ELIZABETH WAKEFIELD</td>\n",
       "      <td>HCA</td>\n",
       "      <td>2</td>\n",
       "      <td>184</td>\n",
       "      <td>1.45</td>\n",
       "      <td>80.0</td>\n",
       "    </tr>\n",
       "    <tr>\n",
       "      <th>15</th>\n",
       "      <td>Foot &amp; Ankle Surgery Podiatrist</td>\n",
       "      <td>1164765798</td>\n",
       "      <td>ELIZABETH WAKEFIELD</td>\n",
       "      <td>Vanderbilt University Medical Center</td>\n",
       "      <td>2</td>\n",
       "      <td>45</td>\n",
       "      <td>1.42</td>\n",
       "      <td>20.0</td>\n",
       "    </tr>\n",
       "    <tr>\n",
       "      <th>16</th>\n",
       "      <td>Foot &amp; Ankle Surgery Podiatrist</td>\n",
       "      <td>1992805220</td>\n",
       "      <td>GINA MENDOZA</td>\n",
       "      <td>HCA</td>\n",
       "      <td>1</td>\n",
       "      <td>194</td>\n",
       "      <td>2.14</td>\n",
       "      <td>100.0</td>\n",
       "    </tr>\n",
       "    <tr>\n",
       "      <th>17</th>\n",
       "      <td>Foot Surgery Podiatrist</td>\n",
       "      <td>1306825211</td>\n",
       "      <td>I RETIEF</td>\n",
       "      <td>HCA</td>\n",
       "      <td>2</td>\n",
       "      <td>134</td>\n",
       "      <td>1.52</td>\n",
       "      <td>74.0</td>\n",
       "    </tr>\n",
       "    <tr>\n",
       "      <th>18</th>\n",
       "      <td>Foot Surgery Podiatrist</td>\n",
       "      <td>1306825211</td>\n",
       "      <td>I RETIEF</td>\n",
       "      <td>Vanderbilt University Medical Center</td>\n",
       "      <td>2</td>\n",
       "      <td>46</td>\n",
       "      <td>1.93</td>\n",
       "      <td>26.0</td>\n",
       "    </tr>\n",
       "    <tr>\n",
       "      <th>19</th>\n",
       "      <td>Podiatrist</td>\n",
       "      <td>1487680237</td>\n",
       "      <td>IRENE CAMPBELL</td>\n",
       "      <td>Ascension Saint Thomas</td>\n",
       "      <td>5</td>\n",
       "      <td>45</td>\n",
       "      <td>1.20</td>\n",
       "      <td>5.0</td>\n",
       "    </tr>\n",
       "    <tr>\n",
       "      <th>20</th>\n",
       "      <td>Podiatrist</td>\n",
       "      <td>1487680237</td>\n",
       "      <td>IRENE CAMPBELL</td>\n",
       "      <td>HCA</td>\n",
       "      <td>5</td>\n",
       "      <td>121</td>\n",
       "      <td>1.43</td>\n",
       "      <td>14.0</td>\n",
       "    </tr>\n",
       "    <tr>\n",
       "      <th>21</th>\n",
       "      <td>Podiatrist</td>\n",
       "      <td>1487680237</td>\n",
       "      <td>IRENE CAMPBELL</td>\n",
       "      <td>Maury Regional Medical Center</td>\n",
       "      <td>5</td>\n",
       "      <td>45</td>\n",
       "      <td>1.18</td>\n",
       "      <td>5.0</td>\n",
       "    </tr>\n",
       "    <tr>\n",
       "      <th>22</th>\n",
       "      <td>Podiatrist</td>\n",
       "      <td>1487680237</td>\n",
       "      <td>IRENE CAMPBELL</td>\n",
       "      <td>Vanderbilt University Medical Center</td>\n",
       "      <td>5</td>\n",
       "      <td>245</td>\n",
       "      <td>1.73</td>\n",
       "      <td>28.0</td>\n",
       "    </tr>\n",
       "    <tr>\n",
       "      <th>23</th>\n",
       "      <td>Podiatrist</td>\n",
       "      <td>1487680237</td>\n",
       "      <td>IRENE CAMPBELL</td>\n",
       "      <td>Williamson Medical Center</td>\n",
       "      <td>5</td>\n",
       "      <td>409</td>\n",
       "      <td>1.76</td>\n",
       "      <td>47.0</td>\n",
       "    </tr>\n",
       "    <tr>\n",
       "      <th>24</th>\n",
       "      <td>Podiatrist</td>\n",
       "      <td>1578665188</td>\n",
       "      <td>JAMES SUDBERRY</td>\n",
       "      <td>HCA</td>\n",
       "      <td>2</td>\n",
       "      <td>214</td>\n",
       "      <td>2.49</td>\n",
       "      <td>78.0</td>\n",
       "    </tr>\n",
       "    <tr>\n",
       "      <th>25</th>\n",
       "      <td>Podiatrist</td>\n",
       "      <td>1578665188</td>\n",
       "      <td>JAMES SUDBERRY</td>\n",
       "      <td>Vanderbilt University Medical Center</td>\n",
       "      <td>2</td>\n",
       "      <td>59</td>\n",
       "      <td>1.71</td>\n",
       "      <td>22.0</td>\n",
       "    </tr>\n",
       "    <tr>\n",
       "      <th>26</th>\n",
       "      <td>Foot &amp; Ankle Surgery Podiatrist</td>\n",
       "      <td>1225384209</td>\n",
       "      <td>JAMIL HOSSAIN</td>\n",
       "      <td>Maury Regional Medical Center</td>\n",
       "      <td>2</td>\n",
       "      <td>135</td>\n",
       "      <td>1.59</td>\n",
       "      <td>73.0</td>\n",
       "    </tr>\n",
       "    <tr>\n",
       "      <th>27</th>\n",
       "      <td>Foot &amp; Ankle Surgery Podiatrist</td>\n",
       "      <td>1225384209</td>\n",
       "      <td>JAMIL HOSSAIN</td>\n",
       "      <td>Vanderbilt University Medical Center</td>\n",
       "      <td>2</td>\n",
       "      <td>49</td>\n",
       "      <td>1.65</td>\n",
       "      <td>27.0</td>\n",
       "    </tr>\n",
       "    <tr>\n",
       "      <th>28</th>\n",
       "      <td>Foot &amp; Ankle Surgery Podiatrist</td>\n",
       "      <td>1033311196</td>\n",
       "      <td>JARED BRAMLETT</td>\n",
       "      <td>Vanderbilt University Medical Center</td>\n",
       "      <td>1</td>\n",
       "      <td>47</td>\n",
       "      <td>1.15</td>\n",
       "      <td>100.0</td>\n",
       "    </tr>\n",
       "    <tr>\n",
       "      <th>29</th>\n",
       "      <td>Foot &amp; Ankle Surgery Podiatrist</td>\n",
       "      <td>1912219296</td>\n",
       "      <td>JEFFREY MITCHELL</td>\n",
       "      <td>HCA</td>\n",
       "      <td>3</td>\n",
       "      <td>47</td>\n",
       "      <td>1.49</td>\n",
       "      <td>28.0</td>\n",
       "    </tr>\n",
       "    <tr>\n",
       "      <th>30</th>\n",
       "      <td>Foot &amp; Ankle Surgery Podiatrist</td>\n",
       "      <td>1912219296</td>\n",
       "      <td>JEFFREY MITCHELL</td>\n",
       "      <td>Maury Regional Medical Center</td>\n",
       "      <td>3</td>\n",
       "      <td>70</td>\n",
       "      <td>1.50</td>\n",
       "      <td>41.0</td>\n",
       "    </tr>\n",
       "    <tr>\n",
       "      <th>31</th>\n",
       "      <td>Foot &amp; Ankle Surgery Podiatrist</td>\n",
       "      <td>1912219296</td>\n",
       "      <td>JEFFREY MITCHELL</td>\n",
       "      <td>Vanderbilt University Medical Center</td>\n",
       "      <td>3</td>\n",
       "      <td>52</td>\n",
       "      <td>1.35</td>\n",
       "      <td>31.0</td>\n",
       "    </tr>\n",
       "    <tr>\n",
       "      <th>32</th>\n",
       "      <td>Foot &amp; Ankle Surgery Podiatrist</td>\n",
       "      <td>1114967684</td>\n",
       "      <td>JEFFREY POOLE</td>\n",
       "      <td>Vanderbilt University Medical Center</td>\n",
       "      <td>2</td>\n",
       "      <td>98</td>\n",
       "      <td>1.50</td>\n",
       "      <td>36.0</td>\n",
       "    </tr>\n",
       "    <tr>\n",
       "      <th>33</th>\n",
       "      <td>Foot &amp; Ankle Surgery Podiatrist</td>\n",
       "      <td>1114967684</td>\n",
       "      <td>JEFFREY POOLE</td>\n",
       "      <td>Williamson Medical Center</td>\n",
       "      <td>2</td>\n",
       "      <td>173</td>\n",
       "      <td>1.67</td>\n",
       "      <td>64.0</td>\n",
       "    </tr>\n",
       "    <tr>\n",
       "      <th>34</th>\n",
       "      <td>Podiatrist</td>\n",
       "      <td>1598791790</td>\n",
       "      <td>KEITH OSORIO</td>\n",
       "      <td>Ascension Saint Thomas</td>\n",
       "      <td>4</td>\n",
       "      <td>59</td>\n",
       "      <td>1.29</td>\n",
       "      <td>13.0</td>\n",
       "    </tr>\n",
       "    <tr>\n",
       "      <th>35</th>\n",
       "      <td>Podiatrist</td>\n",
       "      <td>1598791790</td>\n",
       "      <td>KEITH OSORIO</td>\n",
       "      <td>HCA</td>\n",
       "      <td>4</td>\n",
       "      <td>48</td>\n",
       "      <td>1.44</td>\n",
       "      <td>11.0</td>\n",
       "    </tr>\n",
       "    <tr>\n",
       "      <th>36</th>\n",
       "      <td>Podiatrist</td>\n",
       "      <td>1598791790</td>\n",
       "      <td>KEITH OSORIO</td>\n",
       "      <td>Vanderbilt University Medical Center</td>\n",
       "      <td>4</td>\n",
       "      <td>162</td>\n",
       "      <td>1.88</td>\n",
       "      <td>36.0</td>\n",
       "    </tr>\n",
       "    <tr>\n",
       "      <th>37</th>\n",
       "      <td>Podiatrist</td>\n",
       "      <td>1598791790</td>\n",
       "      <td>KEITH OSORIO</td>\n",
       "      <td>Williamson Medical Center</td>\n",
       "      <td>4</td>\n",
       "      <td>175</td>\n",
       "      <td>1.70</td>\n",
       "      <td>39.0</td>\n",
       "    </tr>\n",
       "    <tr>\n",
       "      <th>38</th>\n",
       "      <td>Podiatrist</td>\n",
       "      <td>1326047119</td>\n",
       "      <td>KEVIN DAVIS</td>\n",
       "      <td>NorthCrest Medical Center</td>\n",
       "      <td>2</td>\n",
       "      <td>346</td>\n",
       "      <td>2.23</td>\n",
       "      <td>83.0</td>\n",
       "    </tr>\n",
       "    <tr>\n",
       "      <th>39</th>\n",
       "      <td>Podiatrist</td>\n",
       "      <td>1326047119</td>\n",
       "      <td>KEVIN DAVIS</td>\n",
       "      <td>Vanderbilt University Medical Center</td>\n",
       "      <td>2</td>\n",
       "      <td>71</td>\n",
       "      <td>1.58</td>\n",
       "      <td>17.0</td>\n",
       "    </tr>\n",
       "    <tr>\n",
       "      <th>40</th>\n",
       "      <td>Foot &amp; Ankle Surgery Podiatrist</td>\n",
       "      <td>1780764779</td>\n",
       "      <td>KIRBY DEETER</td>\n",
       "      <td>Vanderbilt University Medical Center</td>\n",
       "      <td>1</td>\n",
       "      <td>467</td>\n",
       "      <td>1.81</td>\n",
       "      <td>100.0</td>\n",
       "    </tr>\n",
       "    <tr>\n",
       "      <th>41</th>\n",
       "      <td>Primary Podiatric Medicine Podiatrist</td>\n",
       "      <td>1588606347</td>\n",
       "      <td>LAWRENCE BURNS</td>\n",
       "      <td>Ascension Saint Thomas</td>\n",
       "      <td>3</td>\n",
       "      <td>213</td>\n",
       "      <td>1.81</td>\n",
       "      <td>65.0</td>\n",
       "    </tr>\n",
       "    <tr>\n",
       "      <th>42</th>\n",
       "      <td>Primary Podiatric Medicine Podiatrist</td>\n",
       "      <td>1588606347</td>\n",
       "      <td>LAWRENCE BURNS</td>\n",
       "      <td>HCA</td>\n",
       "      <td>3</td>\n",
       "      <td>55</td>\n",
       "      <td>1.82</td>\n",
       "      <td>17.0</td>\n",
       "    </tr>\n",
       "    <tr>\n",
       "      <th>43</th>\n",
       "      <td>Primary Podiatric Medicine Podiatrist</td>\n",
       "      <td>1588606347</td>\n",
       "      <td>LAWRENCE BURNS</td>\n",
       "      <td>Vanderbilt University Medical Center</td>\n",
       "      <td>3</td>\n",
       "      <td>60</td>\n",
       "      <td>2.12</td>\n",
       "      <td>18.0</td>\n",
       "    </tr>\n",
       "    <tr>\n",
       "      <th>44</th>\n",
       "      <td>Foot &amp; Ankle Surgery Podiatrist</td>\n",
       "      <td>1245214899</td>\n",
       "      <td>MARDON DAY</td>\n",
       "      <td>Ascension Saint Thomas</td>\n",
       "      <td>3</td>\n",
       "      <td>127</td>\n",
       "      <td>1.29</td>\n",
       "      <td>31.0</td>\n",
       "    </tr>\n",
       "    <tr>\n",
       "      <th>45</th>\n",
       "      <td>Foot &amp; Ankle Surgery Podiatrist</td>\n",
       "      <td>1245214899</td>\n",
       "      <td>MARDON DAY</td>\n",
       "      <td>HCA</td>\n",
       "      <td>3</td>\n",
       "      <td>195</td>\n",
       "      <td>1.59</td>\n",
       "      <td>48.0</td>\n",
       "    </tr>\n",
       "    <tr>\n",
       "      <th>46</th>\n",
       "      <td>Foot &amp; Ankle Surgery Podiatrist</td>\n",
       "      <td>1245214899</td>\n",
       "      <td>MARDON DAY</td>\n",
       "      <td>Vanderbilt University Medical Center</td>\n",
       "      <td>3</td>\n",
       "      <td>85</td>\n",
       "      <td>1.81</td>\n",
       "      <td>21.0</td>\n",
       "    </tr>\n",
       "    <tr>\n",
       "      <th>47</th>\n",
       "      <td>Foot Surgery Podiatrist</td>\n",
       "      <td>1538158340</td>\n",
       "      <td>MARK WRIGHT</td>\n",
       "      <td>Vanderbilt University Medical Center</td>\n",
       "      <td>1</td>\n",
       "      <td>74</td>\n",
       "      <td>1.50</td>\n",
       "      <td>100.0</td>\n",
       "    </tr>\n",
       "    <tr>\n",
       "      <th>48</th>\n",
       "      <td>Podiatrist</td>\n",
       "      <td>1346239498</td>\n",
       "      <td>MATTHEW NEUHAUS</td>\n",
       "      <td>HCA</td>\n",
       "      <td>1</td>\n",
       "      <td>50</td>\n",
       "      <td>1.24</td>\n",
       "      <td>100.0</td>\n",
       "    </tr>\n",
       "    <tr>\n",
       "      <th>49</th>\n",
       "      <td>Foot &amp; Ankle Surgery Podiatrist</td>\n",
       "      <td>1720303498</td>\n",
       "      <td>MEEGHAN GILES</td>\n",
       "      <td>Ascension Saint Thomas</td>\n",
       "      <td>1</td>\n",
       "      <td>66</td>\n",
       "      <td>1.58</td>\n",
       "      <td>100.0</td>\n",
       "    </tr>\n",
       "    <tr>\n",
       "      <th>50</th>\n",
       "      <td>Foot &amp; Ankle Surgery Podiatrist</td>\n",
       "      <td>1295762789</td>\n",
       "      <td>MELVIN WILLIAMS</td>\n",
       "      <td>Vanderbilt University Medical Center</td>\n",
       "      <td>1</td>\n",
       "      <td>76</td>\n",
       "      <td>1.30</td>\n",
       "      <td>100.0</td>\n",
       "    </tr>\n",
       "    <tr>\n",
       "      <th>51</th>\n",
       "      <td>Foot &amp; Ankle Surgery Podiatrist</td>\n",
       "      <td>1841274404</td>\n",
       "      <td>MICHELE WHITTAKER</td>\n",
       "      <td>Ascension Saint Thomas</td>\n",
       "      <td>3</td>\n",
       "      <td>120</td>\n",
       "      <td>1.33</td>\n",
       "      <td>30.0</td>\n",
       "    </tr>\n",
       "    <tr>\n",
       "      <th>52</th>\n",
       "      <td>Foot &amp; Ankle Surgery Podiatrist</td>\n",
       "      <td>1841274404</td>\n",
       "      <td>MICHELE WHITTAKER</td>\n",
       "      <td>HCA</td>\n",
       "      <td>3</td>\n",
       "      <td>204</td>\n",
       "      <td>1.85</td>\n",
       "      <td>51.0</td>\n",
       "    </tr>\n",
       "    <tr>\n",
       "      <th>53</th>\n",
       "      <td>Foot &amp; Ankle Surgery Podiatrist</td>\n",
       "      <td>1841274404</td>\n",
       "      <td>MICHELE WHITTAKER</td>\n",
       "      <td>Vanderbilt University Medical Center</td>\n",
       "      <td>3</td>\n",
       "      <td>78</td>\n",
       "      <td>1.69</td>\n",
       "      <td>19.0</td>\n",
       "    </tr>\n",
       "    <tr>\n",
       "      <th>54</th>\n",
       "      <td>Foot &amp; Ankle Surgery Podiatrist</td>\n",
       "      <td>1619399540</td>\n",
       "      <td>NICHOLAS FUSSELL</td>\n",
       "      <td>Ascension Saint Thomas</td>\n",
       "      <td>3</td>\n",
       "      <td>91</td>\n",
       "      <td>1.60</td>\n",
       "      <td>30.0</td>\n",
       "    </tr>\n",
       "    <tr>\n",
       "      <th>55</th>\n",
       "      <td>Foot &amp; Ankle Surgery Podiatrist</td>\n",
       "      <td>1619399540</td>\n",
       "      <td>NICHOLAS FUSSELL</td>\n",
       "      <td>HCA</td>\n",
       "      <td>3</td>\n",
       "      <td>156</td>\n",
       "      <td>1.51</td>\n",
       "      <td>51.0</td>\n",
       "    </tr>\n",
       "    <tr>\n",
       "      <th>56</th>\n",
       "      <td>Foot &amp; Ankle Surgery Podiatrist</td>\n",
       "      <td>1619399540</td>\n",
       "      <td>NICHOLAS FUSSELL</td>\n",
       "      <td>Vanderbilt University Medical Center</td>\n",
       "      <td>3</td>\n",
       "      <td>59</td>\n",
       "      <td>1.66</td>\n",
       "      <td>19.0</td>\n",
       "    </tr>\n",
       "    <tr>\n",
       "      <th>57</th>\n",
       "      <td>Podiatrist</td>\n",
       "      <td>1083660518</td>\n",
       "      <td>RAMESH PAVULURI</td>\n",
       "      <td>HCA</td>\n",
       "      <td>2</td>\n",
       "      <td>76</td>\n",
       "      <td>1.25</td>\n",
       "      <td>68.0</td>\n",
       "    </tr>\n",
       "    <tr>\n",
       "      <th>58</th>\n",
       "      <td>Podiatrist</td>\n",
       "      <td>1083660518</td>\n",
       "      <td>RAMESH PAVULURI</td>\n",
       "      <td>Vanderbilt University Medical Center</td>\n",
       "      <td>2</td>\n",
       "      <td>36</td>\n",
       "      <td>1.75</td>\n",
       "      <td>32.0</td>\n",
       "    </tr>\n",
       "    <tr>\n",
       "      <th>59</th>\n",
       "      <td>Foot &amp; Ankle Surgery Podiatrist</td>\n",
       "      <td>1174789929</td>\n",
       "      <td>RAYMOND GILES</td>\n",
       "      <td>Ascension Saint Thomas</td>\n",
       "      <td>2</td>\n",
       "      <td>74</td>\n",
       "      <td>1.23</td>\n",
       "      <td>69.0</td>\n",
       "    </tr>\n",
       "    <tr>\n",
       "      <th>60</th>\n",
       "      <td>Foot &amp; Ankle Surgery Podiatrist</td>\n",
       "      <td>1174789929</td>\n",
       "      <td>RAYMOND GILES</td>\n",
       "      <td>Vanderbilt University Medical Center</td>\n",
       "      <td>2</td>\n",
       "      <td>33</td>\n",
       "      <td>1.70</td>\n",
       "      <td>31.0</td>\n",
       "    </tr>\n",
       "    <tr>\n",
       "      <th>61</th>\n",
       "      <td>Primary Podiatric Medicine Podiatrist</td>\n",
       "      <td>1659460699</td>\n",
       "      <td>RICHARD BREEDEN</td>\n",
       "      <td>Vanderbilt University Medical Center</td>\n",
       "      <td>1</td>\n",
       "      <td>57</td>\n",
       "      <td>1.33</td>\n",
       "      <td>100.0</td>\n",
       "    </tr>\n",
       "    <tr>\n",
       "      <th>62</th>\n",
       "      <td>Foot &amp; Ankle Surgery Podiatrist</td>\n",
       "      <td>1598749152</td>\n",
       "      <td>RICHELLE DAY</td>\n",
       "      <td>Ascension Saint Thomas</td>\n",
       "      <td>3</td>\n",
       "      <td>80</td>\n",
       "      <td>1.30</td>\n",
       "      <td>34.0</td>\n",
       "    </tr>\n",
       "    <tr>\n",
       "      <th>63</th>\n",
       "      <td>Foot &amp; Ankle Surgery Podiatrist</td>\n",
       "      <td>1598749152</td>\n",
       "      <td>RICHELLE DAY</td>\n",
       "      <td>HCA</td>\n",
       "      <td>3</td>\n",
       "      <td>104</td>\n",
       "      <td>2.09</td>\n",
       "      <td>45.0</td>\n",
       "    </tr>\n",
       "    <tr>\n",
       "      <th>64</th>\n",
       "      <td>Foot &amp; Ankle Surgery Podiatrist</td>\n",
       "      <td>1598749152</td>\n",
       "      <td>RICHELLE DAY</td>\n",
       "      <td>Vanderbilt University Medical Center</td>\n",
       "      <td>3</td>\n",
       "      <td>48</td>\n",
       "      <td>2.38</td>\n",
       "      <td>21.0</td>\n",
       "    </tr>\n",
       "    <tr>\n",
       "      <th>65</th>\n",
       "      <td>Podiatrist</td>\n",
       "      <td>1053421941</td>\n",
       "      <td>ROBERT FRANKFATHER</td>\n",
       "      <td>HCA</td>\n",
       "      <td>4</td>\n",
       "      <td>92</td>\n",
       "      <td>1.74</td>\n",
       "      <td>38.0</td>\n",
       "    </tr>\n",
       "    <tr>\n",
       "      <th>66</th>\n",
       "      <td>Podiatrist</td>\n",
       "      <td>1053421941</td>\n",
       "      <td>ROBERT FRANKFATHER</td>\n",
       "      <td>Maury Regional Medical Center</td>\n",
       "      <td>4</td>\n",
       "      <td>37</td>\n",
       "      <td>1.49</td>\n",
       "      <td>15.0</td>\n",
       "    </tr>\n",
       "    <tr>\n",
       "      <th>67</th>\n",
       "      <td>Podiatrist</td>\n",
       "      <td>1053421941</td>\n",
       "      <td>ROBERT FRANKFATHER</td>\n",
       "      <td>Vanderbilt University Medical Center</td>\n",
       "      <td>4</td>\n",
       "      <td>74</td>\n",
       "      <td>1.49</td>\n",
       "      <td>30.0</td>\n",
       "    </tr>\n",
       "    <tr>\n",
       "      <th>68</th>\n",
       "      <td>Podiatrist</td>\n",
       "      <td>1053421941</td>\n",
       "      <td>ROBERT FRANKFATHER</td>\n",
       "      <td>Williamson Medical Center</td>\n",
       "      <td>4</td>\n",
       "      <td>41</td>\n",
       "      <td>1.63</td>\n",
       "      <td>17.0</td>\n",
       "    </tr>\n",
       "    <tr>\n",
       "      <th>69</th>\n",
       "      <td>Primary Podiatric Medicine Podiatrist</td>\n",
       "      <td>1821009721</td>\n",
       "      <td>ROBERT MACARTHUR</td>\n",
       "      <td>Maury Regional Medical Center</td>\n",
       "      <td>1</td>\n",
       "      <td>132</td>\n",
       "      <td>1.45</td>\n",
       "      <td>100.0</td>\n",
       "    </tr>\n",
       "    <tr>\n",
       "      <th>70</th>\n",
       "      <td>Foot &amp; Ankle Surgery Podiatrist</td>\n",
       "      <td>1851445035</td>\n",
       "      <td>THERESE TLAPEK</td>\n",
       "      <td>Vanderbilt University Medical Center</td>\n",
       "      <td>1</td>\n",
       "      <td>53</td>\n",
       "      <td>1.34</td>\n",
       "      <td>100.0</td>\n",
       "    </tr>\n",
       "    <tr>\n",
       "      <th>71</th>\n",
       "      <td>Foot &amp; Ankle Surgery Podiatrist</td>\n",
       "      <td>1285920108</td>\n",
       "      <td>TIMOTHY BUSH</td>\n",
       "      <td>Ascension Saint Thomas</td>\n",
       "      <td>2</td>\n",
       "      <td>296</td>\n",
       "      <td>1.54</td>\n",
       "      <td>80.0</td>\n",
       "    </tr>\n",
       "    <tr>\n",
       "      <th>72</th>\n",
       "      <td>Foot &amp; Ankle Surgery Podiatrist</td>\n",
       "      <td>1285920108</td>\n",
       "      <td>TIMOTHY BUSH</td>\n",
       "      <td>Vanderbilt University Medical Center</td>\n",
       "      <td>2</td>\n",
       "      <td>76</td>\n",
       "      <td>1.70</td>\n",
       "      <td>20.0</td>\n",
       "    </tr>\n",
       "    <tr>\n",
       "      <th>73</th>\n",
       "      <td>Primary Podiatric Medicine Podiatrist</td>\n",
       "      <td>1417952581</td>\n",
       "      <td>TOD BUSHMAN</td>\n",
       "      <td>HCA</td>\n",
       "      <td>2</td>\n",
       "      <td>399</td>\n",
       "      <td>1.51</td>\n",
       "      <td>75.0</td>\n",
       "    </tr>\n",
       "    <tr>\n",
       "      <th>74</th>\n",
       "      <td>Primary Podiatric Medicine Podiatrist</td>\n",
       "      <td>1417952581</td>\n",
       "      <td>TOD BUSHMAN</td>\n",
       "      <td>Vanderbilt University Medical Center</td>\n",
       "      <td>2</td>\n",
       "      <td>133</td>\n",
       "      <td>1.65</td>\n",
       "      <td>25.0</td>\n",
       "    </tr>\n",
       "    <tr>\n",
       "      <th>75</th>\n",
       "      <td>Podiatrist</td>\n",
       "      <td>1275515223</td>\n",
       "      <td>TRACY MERRELL</td>\n",
       "      <td>Ascension Saint Thomas</td>\n",
       "      <td>2</td>\n",
       "      <td>142</td>\n",
       "      <td>1.99</td>\n",
       "      <td>72.0</td>\n",
       "    </tr>\n",
       "    <tr>\n",
       "      <th>76</th>\n",
       "      <td>Podiatrist</td>\n",
       "      <td>1275515223</td>\n",
       "      <td>TRACY MERRELL</td>\n",
       "      <td>Vanderbilt University Medical Center</td>\n",
       "      <td>2</td>\n",
       "      <td>55</td>\n",
       "      <td>1.64</td>\n",
       "      <td>28.0</td>\n",
       "    </tr>\n",
       "    <tr>\n",
       "      <th>77</th>\n",
       "      <td>Podiatrist</td>\n",
       "      <td>1871532333</td>\n",
       "      <td>VIJAY PAVULURI</td>\n",
       "      <td>HCA</td>\n",
       "      <td>2</td>\n",
       "      <td>79</td>\n",
       "      <td>1.22</td>\n",
       "      <td>61.0</td>\n",
       "    </tr>\n",
       "    <tr>\n",
       "      <th>78</th>\n",
       "      <td>Podiatrist</td>\n",
       "      <td>1871532333</td>\n",
       "      <td>VIJAY PAVULURI</td>\n",
       "      <td>Vanderbilt University Medical Center</td>\n",
       "      <td>2</td>\n",
       "      <td>51</td>\n",
       "      <td>1.80</td>\n",
       "      <td>39.0</td>\n",
       "    </tr>\n",
       "    <tr>\n",
       "      <th>79</th>\n",
       "      <td>Foot &amp; Ankle Surgery Podiatrist</td>\n",
       "      <td>1407845423</td>\n",
       "      <td>WILLIAM COHEN</td>\n",
       "      <td>Ascension Saint Thomas</td>\n",
       "      <td>2</td>\n",
       "      <td>138</td>\n",
       "      <td>1.33</td>\n",
       "      <td>63.0</td>\n",
       "    </tr>\n",
       "    <tr>\n",
       "      <th>80</th>\n",
       "      <td>Foot &amp; Ankle Surgery Podiatrist</td>\n",
       "      <td>1407845423</td>\n",
       "      <td>WILLIAM COHEN</td>\n",
       "      <td>Vanderbilt University Medical Center</td>\n",
       "      <td>2</td>\n",
       "      <td>80</td>\n",
       "      <td>1.66</td>\n",
       "      <td>37.0</td>\n",
       "    </tr>\n",
       "    <tr>\n",
       "      <th>81</th>\n",
       "      <td>Podiatrist</td>\n",
       "      <td>1134145204</td>\n",
       "      <td>WILLIAM LAMBERT</td>\n",
       "      <td>HCA</td>\n",
       "      <td>2</td>\n",
       "      <td>61</td>\n",
       "      <td>1.62</td>\n",
       "      <td>65.0</td>\n",
       "    </tr>\n",
       "    <tr>\n",
       "      <th>82</th>\n",
       "      <td>Podiatrist</td>\n",
       "      <td>1134145204</td>\n",
       "      <td>WILLIAM LAMBERT</td>\n",
       "      <td>Vanderbilt University Medical Center</td>\n",
       "      <td>2</td>\n",
       "      <td>33</td>\n",
       "      <td>2.30</td>\n",
       "      <td>35.0</td>\n",
       "    </tr>\n",
       "    <tr>\n",
       "      <th>83</th>\n",
       "      <td>Podiatrist</td>\n",
       "      <td>1588656664</td>\n",
       "      <td>YONG SUH</td>\n",
       "      <td>Vanderbilt University Medical Center</td>\n",
       "      <td>1</td>\n",
       "      <td>166</td>\n",
       "      <td>1.47</td>\n",
       "      <td>100.0</td>\n",
       "    </tr>\n",
       "  </tbody>\n",
       "</table>\n",
       "</div>"
      ],
      "text/plain": [
       "                        from_display_name    from_npi       from_physician  \\\n",
       "0   Podiatrist                             1952542698  ADAM HICKS            \n",
       "1   Foot & Ankle Surgery Podiatrist        1003855537  CAROLINE GANNON       \n",
       "2   Foot & Ankle Surgery Podiatrist        1003855537  CAROLINE GANNON       \n",
       "3   Foot & Ankle Surgery Podiatrist        1205155850  CHRISTOPHER BENAC     \n",
       "4   Foot & Ankle Surgery Podiatrist        1902015019  CHRISTOPHER FRAZIER   \n",
       "5   Foot & Ankle Surgery Podiatrist        1902015019  CHRISTOPHER FRAZIER   \n",
       "6   Foot & Ankle Surgery Podiatrist        1902015019  CHRISTOPHER FRAZIER   \n",
       "7   Foot & Ankle Surgery Podiatrist        1902015019  CHRISTOPHER FRAZIER   \n",
       "8   Foot & Ankle Surgery Podiatrist        1902015019  CHRISTOPHER FRAZIER   \n",
       "9   Podiatrist                             1518078039  DAVID SONG            \n",
       "10  Podiatrist                             1518078039  DAVID SONG            \n",
       "11  Foot & Ankle Surgery Podiatrist        1558306217  DAVID TRENNER         \n",
       "12  Foot & Ankle Surgery Podiatrist        1558306217  DAVID TRENNER         \n",
       "13  Foot & Ankle Surgery Podiatrist        1558306217  DAVID TRENNER         \n",
       "14  Foot & Ankle Surgery Podiatrist        1164765798  ELIZABETH WAKEFIELD   \n",
       "15  Foot & Ankle Surgery Podiatrist        1164765798  ELIZABETH WAKEFIELD   \n",
       "16  Foot & Ankle Surgery Podiatrist        1992805220  GINA MENDOZA          \n",
       "17  Foot Surgery Podiatrist                1306825211  I RETIEF              \n",
       "18  Foot Surgery Podiatrist                1306825211  I RETIEF              \n",
       "19  Podiatrist                             1487680237  IRENE CAMPBELL        \n",
       "20  Podiatrist                             1487680237  IRENE CAMPBELL        \n",
       "21  Podiatrist                             1487680237  IRENE CAMPBELL        \n",
       "22  Podiatrist                             1487680237  IRENE CAMPBELL        \n",
       "23  Podiatrist                             1487680237  IRENE CAMPBELL        \n",
       "24  Podiatrist                             1578665188  JAMES SUDBERRY        \n",
       "25  Podiatrist                             1578665188  JAMES SUDBERRY        \n",
       "26  Foot & Ankle Surgery Podiatrist        1225384209  JAMIL HOSSAIN         \n",
       "27  Foot & Ankle Surgery Podiatrist        1225384209  JAMIL HOSSAIN         \n",
       "28  Foot & Ankle Surgery Podiatrist        1033311196  JARED BRAMLETT        \n",
       "29  Foot & Ankle Surgery Podiatrist        1912219296  JEFFREY MITCHELL      \n",
       "30  Foot & Ankle Surgery Podiatrist        1912219296  JEFFREY MITCHELL      \n",
       "31  Foot & Ankle Surgery Podiatrist        1912219296  JEFFREY MITCHELL      \n",
       "32  Foot & Ankle Surgery Podiatrist        1114967684  JEFFREY POOLE         \n",
       "33  Foot & Ankle Surgery Podiatrist        1114967684  JEFFREY POOLE         \n",
       "34  Podiatrist                             1598791790  KEITH OSORIO          \n",
       "35  Podiatrist                             1598791790  KEITH OSORIO          \n",
       "36  Podiatrist                             1598791790  KEITH OSORIO          \n",
       "37  Podiatrist                             1598791790  KEITH OSORIO          \n",
       "38  Podiatrist                             1326047119  KEVIN DAVIS           \n",
       "39  Podiatrist                             1326047119  KEVIN DAVIS           \n",
       "40  Foot & Ankle Surgery Podiatrist        1780764779  KIRBY DEETER          \n",
       "41  Primary Podiatric Medicine Podiatrist  1588606347  LAWRENCE BURNS        \n",
       "42  Primary Podiatric Medicine Podiatrist  1588606347  LAWRENCE BURNS        \n",
       "43  Primary Podiatric Medicine Podiatrist  1588606347  LAWRENCE BURNS        \n",
       "44  Foot & Ankle Surgery Podiatrist        1245214899  MARDON DAY            \n",
       "45  Foot & Ankle Surgery Podiatrist        1245214899  MARDON DAY            \n",
       "46  Foot & Ankle Surgery Podiatrist        1245214899  MARDON DAY            \n",
       "47  Foot Surgery Podiatrist                1538158340  MARK WRIGHT           \n",
       "48  Podiatrist                             1346239498  MATTHEW NEUHAUS       \n",
       "49  Foot & Ankle Surgery Podiatrist        1720303498  MEEGHAN GILES         \n",
       "50  Foot & Ankle Surgery Podiatrist        1295762789  MELVIN WILLIAMS       \n",
       "51  Foot & Ankle Surgery Podiatrist        1841274404  MICHELE WHITTAKER     \n",
       "52  Foot & Ankle Surgery Podiatrist        1841274404  MICHELE WHITTAKER     \n",
       "53  Foot & Ankle Surgery Podiatrist        1841274404  MICHELE WHITTAKER     \n",
       "54  Foot & Ankle Surgery Podiatrist        1619399540  NICHOLAS FUSSELL      \n",
       "55  Foot & Ankle Surgery Podiatrist        1619399540  NICHOLAS FUSSELL      \n",
       "56  Foot & Ankle Surgery Podiatrist        1619399540  NICHOLAS FUSSELL      \n",
       "57  Podiatrist                             1083660518  RAMESH PAVULURI       \n",
       "58  Podiatrist                             1083660518  RAMESH PAVULURI       \n",
       "59  Foot & Ankle Surgery Podiatrist        1174789929  RAYMOND GILES         \n",
       "60  Foot & Ankle Surgery Podiatrist        1174789929  RAYMOND GILES         \n",
       "61  Primary Podiatric Medicine Podiatrist  1659460699  RICHARD BREEDEN       \n",
       "62  Foot & Ankle Surgery Podiatrist        1598749152  RICHELLE DAY          \n",
       "63  Foot & Ankle Surgery Podiatrist        1598749152  RICHELLE DAY          \n",
       "64  Foot & Ankle Surgery Podiatrist        1598749152  RICHELLE DAY          \n",
       "65  Podiatrist                             1053421941  ROBERT FRANKFATHER    \n",
       "66  Podiatrist                             1053421941  ROBERT FRANKFATHER    \n",
       "67  Podiatrist                             1053421941  ROBERT FRANKFATHER    \n",
       "68  Podiatrist                             1053421941  ROBERT FRANKFATHER    \n",
       "69  Primary Podiatric Medicine Podiatrist  1821009721  ROBERT MACARTHUR      \n",
       "70  Foot & Ankle Surgery Podiatrist        1851445035  THERESE TLAPEK        \n",
       "71  Foot & Ankle Surgery Podiatrist        1285920108  TIMOTHY BUSH          \n",
       "72  Foot & Ankle Surgery Podiatrist        1285920108  TIMOTHY BUSH          \n",
       "73  Primary Podiatric Medicine Podiatrist  1417952581  TOD BUSHMAN           \n",
       "74  Primary Podiatric Medicine Podiatrist  1417952581  TOD BUSHMAN           \n",
       "75  Podiatrist                             1275515223  TRACY MERRELL         \n",
       "76  Podiatrist                             1275515223  TRACY MERRELL         \n",
       "77  Podiatrist                             1871532333  VIJAY PAVULURI        \n",
       "78  Podiatrist                             1871532333  VIJAY PAVULURI        \n",
       "79  Foot & Ankle Surgery Podiatrist        1407845423  WILLIAM COHEN         \n",
       "80  Foot & Ankle Surgery Podiatrist        1407845423  WILLIAM COHEN         \n",
       "81  Podiatrist                             1134145204  WILLIAM LAMBERT       \n",
       "82  Podiatrist                             1134145204  WILLIAM LAMBERT       \n",
       "83  Podiatrist                             1588656664  YONG SUH              \n",
       "\n",
       "                          hospital_group  count_hospital_groups  \\\n",
       "0   Vanderbilt University Medical Center  1                       \n",
       "1   Vanderbilt University Medical Center  2                       \n",
       "2   Williamson Medical Center             2                       \n",
       "3   Vanderbilt University Medical Center  1                       \n",
       "4   HCA                                   5                       \n",
       "5   Macon County General Hospital         5                       \n",
       "6   Riverview Regional Medical Center     5                       \n",
       "7   Sumner Regional Medical Center        5                       \n",
       "8   Vanderbilt University Medical Center  5                       \n",
       "9   Vanderbilt University Medical Center  2                       \n",
       "10  Williamson Medical Center             2                       \n",
       "11  Sumner Regional Medical Center        3                       \n",
       "12  Vanderbilt University Medical Center  3                       \n",
       "13  Williamson Medical Center             3                       \n",
       "14  HCA                                   2                       \n",
       "15  Vanderbilt University Medical Center  2                       \n",
       "16  HCA                                   1                       \n",
       "17  HCA                                   2                       \n",
       "18  Vanderbilt University Medical Center  2                       \n",
       "19  Ascension Saint Thomas                5                       \n",
       "20  HCA                                   5                       \n",
       "21  Maury Regional Medical Center         5                       \n",
       "22  Vanderbilt University Medical Center  5                       \n",
       "23  Williamson Medical Center             5                       \n",
       "24  HCA                                   2                       \n",
       "25  Vanderbilt University Medical Center  2                       \n",
       "26  Maury Regional Medical Center         2                       \n",
       "27  Vanderbilt University Medical Center  2                       \n",
       "28  Vanderbilt University Medical Center  1                       \n",
       "29  HCA                                   3                       \n",
       "30  Maury Regional Medical Center         3                       \n",
       "31  Vanderbilt University Medical Center  3                       \n",
       "32  Vanderbilt University Medical Center  2                       \n",
       "33  Williamson Medical Center             2                       \n",
       "34  Ascension Saint Thomas                4                       \n",
       "35  HCA                                   4                       \n",
       "36  Vanderbilt University Medical Center  4                       \n",
       "37  Williamson Medical Center             4                       \n",
       "38  NorthCrest Medical Center             2                       \n",
       "39  Vanderbilt University Medical Center  2                       \n",
       "40  Vanderbilt University Medical Center  1                       \n",
       "41  Ascension Saint Thomas                3                       \n",
       "42  HCA                                   3                       \n",
       "43  Vanderbilt University Medical Center  3                       \n",
       "44  Ascension Saint Thomas                3                       \n",
       "45  HCA                                   3                       \n",
       "46  Vanderbilt University Medical Center  3                       \n",
       "47  Vanderbilt University Medical Center  1                       \n",
       "48  HCA                                   1                       \n",
       "49  Ascension Saint Thomas                1                       \n",
       "50  Vanderbilt University Medical Center  1                       \n",
       "51  Ascension Saint Thomas                3                       \n",
       "52  HCA                                   3                       \n",
       "53  Vanderbilt University Medical Center  3                       \n",
       "54  Ascension Saint Thomas                3                       \n",
       "55  HCA                                   3                       \n",
       "56  Vanderbilt University Medical Center  3                       \n",
       "57  HCA                                   2                       \n",
       "58  Vanderbilt University Medical Center  2                       \n",
       "59  Ascension Saint Thomas                2                       \n",
       "60  Vanderbilt University Medical Center  2                       \n",
       "61  Vanderbilt University Medical Center  1                       \n",
       "62  Ascension Saint Thomas                3                       \n",
       "63  HCA                                   3                       \n",
       "64  Vanderbilt University Medical Center  3                       \n",
       "65  HCA                                   4                       \n",
       "66  Maury Regional Medical Center         4                       \n",
       "67  Vanderbilt University Medical Center  4                       \n",
       "68  Williamson Medical Center             4                       \n",
       "69  Maury Regional Medical Center         1                       \n",
       "70  Vanderbilt University Medical Center  1                       \n",
       "71  Ascension Saint Thomas                2                       \n",
       "72  Vanderbilt University Medical Center  2                       \n",
       "73  HCA                                   2                       \n",
       "74  Vanderbilt University Medical Center  2                       \n",
       "75  Ascension Saint Thomas                2                       \n",
       "76  Vanderbilt University Medical Center  2                       \n",
       "77  HCA                                   2                       \n",
       "78  Vanderbilt University Medical Center  2                       \n",
       "79  Ascension Saint Thomas                2                       \n",
       "80  Vanderbilt University Medical Center  2                       \n",
       "81  HCA                                   2                       \n",
       "82  Vanderbilt University Medical Center  2                       \n",
       "83  Vanderbilt University Medical Center  1                       \n",
       "\n",
       "    total_patients  trans_per_pt  provider_patient_share  \n",
       "0   691             2.36          100.0                   \n",
       "1   98              1.79          41.0                    \n",
       "2   142             1.61          59.0                    \n",
       "3   96              1.66          100.0                   \n",
       "4   62              1.44          12.0                    \n",
       "5   34              1.59          7.0                     \n",
       "6   102             1.66          20.0                    \n",
       "7   264             2.98          52.0                    \n",
       "8   41              1.80          8.0                     \n",
       "9   74              1.68          47.0                    \n",
       "10  82              1.66          53.0                    \n",
       "11  40              1.65          7.0                     \n",
       "12  452             2.30          80.0                    \n",
       "13  70              1.26          12.0                    \n",
       "14  184             1.45          80.0                    \n",
       "15  45              1.42          20.0                    \n",
       "16  194             2.14          100.0                   \n",
       "17  134             1.52          74.0                    \n",
       "18  46              1.93          26.0                    \n",
       "19  45              1.20          5.0                     \n",
       "20  121             1.43          14.0                    \n",
       "21  45              1.18          5.0                     \n",
       "22  245             1.73          28.0                    \n",
       "23  409             1.76          47.0                    \n",
       "24  214             2.49          78.0                    \n",
       "25  59              1.71          22.0                    \n",
       "26  135             1.59          73.0                    \n",
       "27  49              1.65          27.0                    \n",
       "28  47              1.15          100.0                   \n",
       "29  47              1.49          28.0                    \n",
       "30  70              1.50          41.0                    \n",
       "31  52              1.35          31.0                    \n",
       "32  98              1.50          36.0                    \n",
       "33  173             1.67          64.0                    \n",
       "34  59              1.29          13.0                    \n",
       "35  48              1.44          11.0                    \n",
       "36  162             1.88          36.0                    \n",
       "37  175             1.70          39.0                    \n",
       "38  346             2.23          83.0                    \n",
       "39  71              1.58          17.0                    \n",
       "40  467             1.81          100.0                   \n",
       "41  213             1.81          65.0                    \n",
       "42  55              1.82          17.0                    \n",
       "43  60              2.12          18.0                    \n",
       "44  127             1.29          31.0                    \n",
       "45  195             1.59          48.0                    \n",
       "46  85              1.81          21.0                    \n",
       "47  74              1.50          100.0                   \n",
       "48  50              1.24          100.0                   \n",
       "49  66              1.58          100.0                   \n",
       "50  76              1.30          100.0                   \n",
       "51  120             1.33          30.0                    \n",
       "52  204             1.85          51.0                    \n",
       "53  78              1.69          19.0                    \n",
       "54  91              1.60          30.0                    \n",
       "55  156             1.51          51.0                    \n",
       "56  59              1.66          19.0                    \n",
       "57  76              1.25          68.0                    \n",
       "58  36              1.75          32.0                    \n",
       "59  74              1.23          69.0                    \n",
       "60  33              1.70          31.0                    \n",
       "61  57              1.33          100.0                   \n",
       "62  80              1.30          34.0                    \n",
       "63  104             2.09          45.0                    \n",
       "64  48              2.38          21.0                    \n",
       "65  92              1.74          38.0                    \n",
       "66  37              1.49          15.0                    \n",
       "67  74              1.49          30.0                    \n",
       "68  41              1.63          17.0                    \n",
       "69  132             1.45          100.0                   \n",
       "70  53              1.34          100.0                   \n",
       "71  296             1.54          80.0                    \n",
       "72  76              1.70          20.0                    \n",
       "73  399             1.51          75.0                    \n",
       "74  133             1.65          25.0                    \n",
       "75  142             1.99          72.0                    \n",
       "76  55              1.64          28.0                    \n",
       "77  79              1.22          61.0                    \n",
       "78  51              1.80          39.0                    \n",
       "79  138             1.33          63.0                    \n",
       "80  80              1.66          37.0                    \n",
       "81  61              1.62          65.0                    \n",
       "82  33              2.30          35.0                    \n",
       "83  166             1.47          100.0                   "
      ]
     },
     "execution_count": 133,
     "metadata": {},
     "output_type": "execute_result"
    }
   ],
   "source": [
    "pods"
   ]
  },
  {
   "cell_type": "code",
   "execution_count": 134,
   "metadata": {},
   "outputs": [
    {
     "data": {
      "application/vnd.plotly.v1+json": {
       "config": {
        "plotlyServerURL": "https://plot.ly"
       },
       "data": [
        {
         "branchvalues": "total",
         "domain": {
          "x": [
           0,
           1
          ],
          "y": [
           0,
           1
          ]
         },
         "hovertemplate": "labels=%{label}<br>total_patients=%{value}<br>parent=%{parent}<br>id=%{id}<extra></extra>",
         "ids": [
          "IRENE CAMPBELL/Ascension Saint Thomas",
          "KEITH OSORIO/Ascension Saint Thomas",
          "LAWRENCE BURNS/Ascension Saint Thomas",
          "MARDON DAY/Ascension Saint Thomas",
          "MEEGHAN GILES/Ascension Saint Thomas",
          "MICHELE WHITTAKER/Ascension Saint Thomas",
          "NICHOLAS FUSSELL/Ascension Saint Thomas",
          "RAYMOND GILES/Ascension Saint Thomas",
          "RICHELLE DAY/Ascension Saint Thomas",
          "TIMOTHY BUSH/Ascension Saint Thomas",
          "TRACY MERRELL/Ascension Saint Thomas",
          "WILLIAM COHEN/Ascension Saint Thomas",
          "CHRISTOPHER FRAZIER/HCA",
          "ELIZABETH WAKEFIELD/HCA",
          "GINA MENDOZA/HCA",
          "I RETIEF/HCA",
          "IRENE CAMPBELL/HCA",
          "JAMES SUDBERRY/HCA",
          "JEFFREY MITCHELL/HCA",
          "KEITH OSORIO/HCA",
          "LAWRENCE BURNS/HCA",
          "MARDON DAY/HCA",
          "MATTHEW NEUHAUS/HCA",
          "MICHELE WHITTAKER/HCA",
          "NICHOLAS FUSSELL/HCA",
          "RAMESH PAVULURI/HCA",
          "RICHELLE DAY/HCA",
          "ROBERT FRANKFATHER/HCA",
          "TOD BUSHMAN/HCA",
          "VIJAY PAVULURI/HCA",
          "WILLIAM LAMBERT/HCA",
          "CHRISTOPHER FRAZIER/Macon County General Hospital",
          "IRENE CAMPBELL/Maury Regional Medical Center",
          "JAMIL HOSSAIN/Maury Regional Medical Center",
          "JEFFREY MITCHELL/Maury Regional Medical Center",
          "ROBERT FRANKFATHER/Maury Regional Medical Center",
          "ROBERT MACARTHUR/Maury Regional Medical Center",
          "KEVIN DAVIS/NorthCrest Medical Center",
          "CHRISTOPHER FRAZIER/Riverview Regional Medical Center",
          "CHRISTOPHER FRAZIER/Sumner Regional Medical Center",
          "DAVID TRENNER/Sumner Regional Medical Center",
          "ADAM HICKS/Vanderbilt University Medical Center",
          "CAROLINE GANNON/Vanderbilt University Medical Center",
          "CHRISTOPHER BENAC/Vanderbilt University Medical Center",
          "CHRISTOPHER FRAZIER/Vanderbilt University Medical Center",
          "DAVID SONG/Vanderbilt University Medical Center",
          "DAVID TRENNER/Vanderbilt University Medical Center",
          "ELIZABETH WAKEFIELD/Vanderbilt University Medical Center",
          "I RETIEF/Vanderbilt University Medical Center",
          "IRENE CAMPBELL/Vanderbilt University Medical Center",
          "JAMES SUDBERRY/Vanderbilt University Medical Center",
          "JAMIL HOSSAIN/Vanderbilt University Medical Center",
          "JARED BRAMLETT/Vanderbilt University Medical Center",
          "JEFFREY MITCHELL/Vanderbilt University Medical Center",
          "JEFFREY POOLE/Vanderbilt University Medical Center",
          "KEITH OSORIO/Vanderbilt University Medical Center",
          "KEVIN DAVIS/Vanderbilt University Medical Center",
          "KIRBY DEETER/Vanderbilt University Medical Center",
          "LAWRENCE BURNS/Vanderbilt University Medical Center",
          "MARDON DAY/Vanderbilt University Medical Center",
          "MARK WRIGHT/Vanderbilt University Medical Center",
          "MELVIN WILLIAMS/Vanderbilt University Medical Center",
          "MICHELE WHITTAKER/Vanderbilt University Medical Center",
          "NICHOLAS FUSSELL/Vanderbilt University Medical Center",
          "RAMESH PAVULURI/Vanderbilt University Medical Center",
          "RAYMOND GILES/Vanderbilt University Medical Center",
          "RICHARD BREEDEN/Vanderbilt University Medical Center",
          "RICHELLE DAY/Vanderbilt University Medical Center",
          "ROBERT FRANKFATHER/Vanderbilt University Medical Center",
          "THERESE TLAPEK/Vanderbilt University Medical Center",
          "TIMOTHY BUSH/Vanderbilt University Medical Center",
          "TOD BUSHMAN/Vanderbilt University Medical Center",
          "TRACY MERRELL/Vanderbilt University Medical Center",
          "VIJAY PAVULURI/Vanderbilt University Medical Center",
          "WILLIAM COHEN/Vanderbilt University Medical Center",
          "WILLIAM LAMBERT/Vanderbilt University Medical Center",
          "YONG SUH/Vanderbilt University Medical Center",
          "CAROLINE GANNON/Williamson Medical Center",
          "DAVID SONG/Williamson Medical Center",
          "DAVID TRENNER/Williamson Medical Center",
          "IRENE CAMPBELL/Williamson Medical Center",
          "JEFFREY POOLE/Williamson Medical Center",
          "KEITH OSORIO/Williamson Medical Center",
          "ROBERT FRANKFATHER/Williamson Medical Center",
          "ADAM HICKS",
          "CAROLINE GANNON",
          "CHRISTOPHER BENAC",
          "CHRISTOPHER FRAZIER",
          "DAVID SONG",
          "DAVID TRENNER",
          "ELIZABETH WAKEFIELD",
          "GINA MENDOZA",
          "I RETIEF",
          "IRENE CAMPBELL",
          "JAMES SUDBERRY",
          "JAMIL HOSSAIN",
          "JARED BRAMLETT",
          "JEFFREY MITCHELL",
          "JEFFREY POOLE",
          "KEITH OSORIO",
          "KEVIN DAVIS",
          "KIRBY DEETER",
          "LAWRENCE BURNS",
          "MARDON DAY",
          "MARK WRIGHT",
          "MATTHEW NEUHAUS",
          "MEEGHAN GILES",
          "MELVIN WILLIAMS",
          "MICHELE WHITTAKER",
          "NICHOLAS FUSSELL",
          "RAMESH PAVULURI",
          "RAYMOND GILES",
          "RICHARD BREEDEN",
          "RICHELLE DAY",
          "ROBERT FRANKFATHER",
          "ROBERT MACARTHUR",
          "THERESE TLAPEK",
          "TIMOTHY BUSH",
          "TOD BUSHMAN",
          "TRACY MERRELL",
          "VIJAY PAVULURI",
          "WILLIAM COHEN",
          "WILLIAM LAMBERT",
          "YONG SUH"
         ],
         "labels": [
          "Ascension Saint Thomas",
          "Ascension Saint Thomas",
          "Ascension Saint Thomas",
          "Ascension Saint Thomas",
          "Ascension Saint Thomas",
          "Ascension Saint Thomas",
          "Ascension Saint Thomas",
          "Ascension Saint Thomas",
          "Ascension Saint Thomas",
          "Ascension Saint Thomas",
          "Ascension Saint Thomas",
          "Ascension Saint Thomas",
          "HCA",
          "HCA",
          "HCA",
          "HCA",
          "HCA",
          "HCA",
          "HCA",
          "HCA",
          "HCA",
          "HCA",
          "HCA",
          "HCA",
          "HCA",
          "HCA",
          "HCA",
          "HCA",
          "HCA",
          "HCA",
          "HCA",
          "Macon County General Hospital",
          "Maury Regional Medical Center",
          "Maury Regional Medical Center",
          "Maury Regional Medical Center",
          "Maury Regional Medical Center",
          "Maury Regional Medical Center",
          "NorthCrest Medical Center",
          "Riverview Regional Medical Center",
          "Sumner Regional Medical Center",
          "Sumner Regional Medical Center",
          "Vanderbilt University Medical Center",
          "Vanderbilt University Medical Center",
          "Vanderbilt University Medical Center",
          "Vanderbilt University Medical Center",
          "Vanderbilt University Medical Center",
          "Vanderbilt University Medical Center",
          "Vanderbilt University Medical Center",
          "Vanderbilt University Medical Center",
          "Vanderbilt University Medical Center",
          "Vanderbilt University Medical Center",
          "Vanderbilt University Medical Center",
          "Vanderbilt University Medical Center",
          "Vanderbilt University Medical Center",
          "Vanderbilt University Medical Center",
          "Vanderbilt University Medical Center",
          "Vanderbilt University Medical Center",
          "Vanderbilt University Medical Center",
          "Vanderbilt University Medical Center",
          "Vanderbilt University Medical Center",
          "Vanderbilt University Medical Center",
          "Vanderbilt University Medical Center",
          "Vanderbilt University Medical Center",
          "Vanderbilt University Medical Center",
          "Vanderbilt University Medical Center",
          "Vanderbilt University Medical Center",
          "Vanderbilt University Medical Center",
          "Vanderbilt University Medical Center",
          "Vanderbilt University Medical Center",
          "Vanderbilt University Medical Center",
          "Vanderbilt University Medical Center",
          "Vanderbilt University Medical Center",
          "Vanderbilt University Medical Center",
          "Vanderbilt University Medical Center",
          "Vanderbilt University Medical Center",
          "Vanderbilt University Medical Center",
          "Vanderbilt University Medical Center",
          "Williamson Medical Center",
          "Williamson Medical Center",
          "Williamson Medical Center",
          "Williamson Medical Center",
          "Williamson Medical Center",
          "Williamson Medical Center",
          "Williamson Medical Center",
          "ADAM HICKS",
          "CAROLINE GANNON",
          "CHRISTOPHER BENAC",
          "CHRISTOPHER FRAZIER",
          "DAVID SONG",
          "DAVID TRENNER",
          "ELIZABETH WAKEFIELD",
          "GINA MENDOZA",
          "I RETIEF",
          "IRENE CAMPBELL",
          "JAMES SUDBERRY",
          "JAMIL HOSSAIN",
          "JARED BRAMLETT",
          "JEFFREY MITCHELL",
          "JEFFREY POOLE",
          "KEITH OSORIO",
          "KEVIN DAVIS",
          "KIRBY DEETER",
          "LAWRENCE BURNS",
          "MARDON DAY",
          "MARK WRIGHT",
          "MATTHEW NEUHAUS",
          "MEEGHAN GILES",
          "MELVIN WILLIAMS",
          "MICHELE WHITTAKER",
          "NICHOLAS FUSSELL",
          "RAMESH PAVULURI",
          "RAYMOND GILES",
          "RICHARD BREEDEN",
          "RICHELLE DAY",
          "ROBERT FRANKFATHER",
          "ROBERT MACARTHUR",
          "THERESE TLAPEK",
          "TIMOTHY BUSH",
          "TOD BUSHMAN",
          "TRACY MERRELL",
          "VIJAY PAVULURI",
          "WILLIAM COHEN",
          "WILLIAM LAMBERT",
          "YONG SUH"
         ],
         "name": "",
         "parents": [
          "IRENE CAMPBELL",
          "KEITH OSORIO",
          "LAWRENCE BURNS",
          "MARDON DAY",
          "MEEGHAN GILES",
          "MICHELE WHITTAKER",
          "NICHOLAS FUSSELL",
          "RAYMOND GILES",
          "RICHELLE DAY",
          "TIMOTHY BUSH",
          "TRACY MERRELL",
          "WILLIAM COHEN",
          "CHRISTOPHER FRAZIER",
          "ELIZABETH WAKEFIELD",
          "GINA MENDOZA",
          "I RETIEF",
          "IRENE CAMPBELL",
          "JAMES SUDBERRY",
          "JEFFREY MITCHELL",
          "KEITH OSORIO",
          "LAWRENCE BURNS",
          "MARDON DAY",
          "MATTHEW NEUHAUS",
          "MICHELE WHITTAKER",
          "NICHOLAS FUSSELL",
          "RAMESH PAVULURI",
          "RICHELLE DAY",
          "ROBERT FRANKFATHER",
          "TOD BUSHMAN",
          "VIJAY PAVULURI",
          "WILLIAM LAMBERT",
          "CHRISTOPHER FRAZIER",
          "IRENE CAMPBELL",
          "JAMIL HOSSAIN",
          "JEFFREY MITCHELL",
          "ROBERT FRANKFATHER",
          "ROBERT MACARTHUR",
          "KEVIN DAVIS",
          "CHRISTOPHER FRAZIER",
          "CHRISTOPHER FRAZIER",
          "DAVID TRENNER",
          "ADAM HICKS",
          "CAROLINE GANNON",
          "CHRISTOPHER BENAC",
          "CHRISTOPHER FRAZIER",
          "DAVID SONG",
          "DAVID TRENNER",
          "ELIZABETH WAKEFIELD",
          "I RETIEF",
          "IRENE CAMPBELL",
          "JAMES SUDBERRY",
          "JAMIL HOSSAIN",
          "JARED BRAMLETT",
          "JEFFREY MITCHELL",
          "JEFFREY POOLE",
          "KEITH OSORIO",
          "KEVIN DAVIS",
          "KIRBY DEETER",
          "LAWRENCE BURNS",
          "MARDON DAY",
          "MARK WRIGHT",
          "MELVIN WILLIAMS",
          "MICHELE WHITTAKER",
          "NICHOLAS FUSSELL",
          "RAMESH PAVULURI",
          "RAYMOND GILES",
          "RICHARD BREEDEN",
          "RICHELLE DAY",
          "ROBERT FRANKFATHER",
          "THERESE TLAPEK",
          "TIMOTHY BUSH",
          "TOD BUSHMAN",
          "TRACY MERRELL",
          "VIJAY PAVULURI",
          "WILLIAM COHEN",
          "WILLIAM LAMBERT",
          "YONG SUH",
          "CAROLINE GANNON",
          "DAVID SONG",
          "DAVID TRENNER",
          "IRENE CAMPBELL",
          "JEFFREY POOLE",
          "KEITH OSORIO",
          "ROBERT FRANKFATHER",
          "",
          "",
          "",
          "",
          "",
          "",
          "",
          "",
          "",
          "",
          "",
          "",
          "",
          "",
          "",
          "",
          "",
          "",
          "",
          "",
          "",
          "",
          "",
          "",
          "",
          "",
          "",
          "",
          "",
          "",
          "",
          "",
          "",
          "",
          "",
          "",
          "",
          "",
          "",
          ""
         ],
         "type": "sunburst",
         "values": [
          45,
          59,
          213,
          127,
          66,
          120,
          91,
          74,
          80,
          296,
          142,
          138,
          62,
          184,
          194,
          134,
          121,
          214,
          47,
          48,
          55,
          195,
          50,
          204,
          156,
          76,
          104,
          92,
          399,
          79,
          61,
          34,
          45,
          135,
          70,
          37,
          132,
          346,
          102,
          264,
          40,
          691,
          98,
          96,
          41,
          74,
          452,
          45,
          46,
          245,
          59,
          49,
          47,
          52,
          98,
          162,
          71,
          467,
          60,
          85,
          74,
          76,
          78,
          59,
          36,
          33,
          57,
          48,
          74,
          53,
          76,
          133,
          55,
          51,
          80,
          33,
          166,
          142,
          82,
          70,
          409,
          173,
          175,
          41,
          691,
          240,
          96,
          503,
          156,
          562,
          229,
          194,
          180,
          865,
          273,
          184,
          47,
          169,
          271,
          444,
          417,
          467,
          328,
          407,
          74,
          50,
          66,
          76,
          402,
          306,
          112,
          107,
          57,
          232,
          244,
          132,
          53,
          372,
          532,
          197,
          130,
          218,
          94,
          166
         ]
        }
       ],
       "layout": {
        "legend": {
         "tracegroupgap": 0
        },
        "margin": {
         "t": 60
        },
        "template": {
         "data": {
          "bar": [
           {
            "error_x": {
             "color": "#2a3f5f"
            },
            "error_y": {
             "color": "#2a3f5f"
            },
            "marker": {
             "line": {
              "color": "#E5ECF6",
              "width": 0.5
             }
            },
            "type": "bar"
           }
          ],
          "barpolar": [
           {
            "marker": {
             "line": {
              "color": "#E5ECF6",
              "width": 0.5
             }
            },
            "type": "barpolar"
           }
          ],
          "carpet": [
           {
            "aaxis": {
             "endlinecolor": "#2a3f5f",
             "gridcolor": "white",
             "linecolor": "white",
             "minorgridcolor": "white",
             "startlinecolor": "#2a3f5f"
            },
            "baxis": {
             "endlinecolor": "#2a3f5f",
             "gridcolor": "white",
             "linecolor": "white",
             "minorgridcolor": "white",
             "startlinecolor": "#2a3f5f"
            },
            "type": "carpet"
           }
          ],
          "choropleth": [
           {
            "colorbar": {
             "outlinewidth": 0,
             "ticks": ""
            },
            "type": "choropleth"
           }
          ],
          "contour": [
           {
            "colorbar": {
             "outlinewidth": 0,
             "ticks": ""
            },
            "colorscale": [
             [
              0,
              "#0d0887"
             ],
             [
              0.1111111111111111,
              "#46039f"
             ],
             [
              0.2222222222222222,
              "#7201a8"
             ],
             [
              0.3333333333333333,
              "#9c179e"
             ],
             [
              0.4444444444444444,
              "#bd3786"
             ],
             [
              0.5555555555555556,
              "#d8576b"
             ],
             [
              0.6666666666666666,
              "#ed7953"
             ],
             [
              0.7777777777777778,
              "#fb9f3a"
             ],
             [
              0.8888888888888888,
              "#fdca26"
             ],
             [
              1,
              "#f0f921"
             ]
            ],
            "type": "contour"
           }
          ],
          "contourcarpet": [
           {
            "colorbar": {
             "outlinewidth": 0,
             "ticks": ""
            },
            "type": "contourcarpet"
           }
          ],
          "heatmap": [
           {
            "colorbar": {
             "outlinewidth": 0,
             "ticks": ""
            },
            "colorscale": [
             [
              0,
              "#0d0887"
             ],
             [
              0.1111111111111111,
              "#46039f"
             ],
             [
              0.2222222222222222,
              "#7201a8"
             ],
             [
              0.3333333333333333,
              "#9c179e"
             ],
             [
              0.4444444444444444,
              "#bd3786"
             ],
             [
              0.5555555555555556,
              "#d8576b"
             ],
             [
              0.6666666666666666,
              "#ed7953"
             ],
             [
              0.7777777777777778,
              "#fb9f3a"
             ],
             [
              0.8888888888888888,
              "#fdca26"
             ],
             [
              1,
              "#f0f921"
             ]
            ],
            "type": "heatmap"
           }
          ],
          "heatmapgl": [
           {
            "colorbar": {
             "outlinewidth": 0,
             "ticks": ""
            },
            "colorscale": [
             [
              0,
              "#0d0887"
             ],
             [
              0.1111111111111111,
              "#46039f"
             ],
             [
              0.2222222222222222,
              "#7201a8"
             ],
             [
              0.3333333333333333,
              "#9c179e"
             ],
             [
              0.4444444444444444,
              "#bd3786"
             ],
             [
              0.5555555555555556,
              "#d8576b"
             ],
             [
              0.6666666666666666,
              "#ed7953"
             ],
             [
              0.7777777777777778,
              "#fb9f3a"
             ],
             [
              0.8888888888888888,
              "#fdca26"
             ],
             [
              1,
              "#f0f921"
             ]
            ],
            "type": "heatmapgl"
           }
          ],
          "histogram": [
           {
            "marker": {
             "colorbar": {
              "outlinewidth": 0,
              "ticks": ""
             }
            },
            "type": "histogram"
           }
          ],
          "histogram2d": [
           {
            "colorbar": {
             "outlinewidth": 0,
             "ticks": ""
            },
            "colorscale": [
             [
              0,
              "#0d0887"
             ],
             [
              0.1111111111111111,
              "#46039f"
             ],
             [
              0.2222222222222222,
              "#7201a8"
             ],
             [
              0.3333333333333333,
              "#9c179e"
             ],
             [
              0.4444444444444444,
              "#bd3786"
             ],
             [
              0.5555555555555556,
              "#d8576b"
             ],
             [
              0.6666666666666666,
              "#ed7953"
             ],
             [
              0.7777777777777778,
              "#fb9f3a"
             ],
             [
              0.8888888888888888,
              "#fdca26"
             ],
             [
              1,
              "#f0f921"
             ]
            ],
            "type": "histogram2d"
           }
          ],
          "histogram2dcontour": [
           {
            "colorbar": {
             "outlinewidth": 0,
             "ticks": ""
            },
            "colorscale": [
             [
              0,
              "#0d0887"
             ],
             [
              0.1111111111111111,
              "#46039f"
             ],
             [
              0.2222222222222222,
              "#7201a8"
             ],
             [
              0.3333333333333333,
              "#9c179e"
             ],
             [
              0.4444444444444444,
              "#bd3786"
             ],
             [
              0.5555555555555556,
              "#d8576b"
             ],
             [
              0.6666666666666666,
              "#ed7953"
             ],
             [
              0.7777777777777778,
              "#fb9f3a"
             ],
             [
              0.8888888888888888,
              "#fdca26"
             ],
             [
              1,
              "#f0f921"
             ]
            ],
            "type": "histogram2dcontour"
           }
          ],
          "mesh3d": [
           {
            "colorbar": {
             "outlinewidth": 0,
             "ticks": ""
            },
            "type": "mesh3d"
           }
          ],
          "parcoords": [
           {
            "line": {
             "colorbar": {
              "outlinewidth": 0,
              "ticks": ""
             }
            },
            "type": "parcoords"
           }
          ],
          "pie": [
           {
            "automargin": true,
            "type": "pie"
           }
          ],
          "scatter": [
           {
            "marker": {
             "colorbar": {
              "outlinewidth": 0,
              "ticks": ""
             }
            },
            "type": "scatter"
           }
          ],
          "scatter3d": [
           {
            "line": {
             "colorbar": {
              "outlinewidth": 0,
              "ticks": ""
             }
            },
            "marker": {
             "colorbar": {
              "outlinewidth": 0,
              "ticks": ""
             }
            },
            "type": "scatter3d"
           }
          ],
          "scattercarpet": [
           {
            "marker": {
             "colorbar": {
              "outlinewidth": 0,
              "ticks": ""
             }
            },
            "type": "scattercarpet"
           }
          ],
          "scattergeo": [
           {
            "marker": {
             "colorbar": {
              "outlinewidth": 0,
              "ticks": ""
             }
            },
            "type": "scattergeo"
           }
          ],
          "scattergl": [
           {
            "marker": {
             "colorbar": {
              "outlinewidth": 0,
              "ticks": ""
             }
            },
            "type": "scattergl"
           }
          ],
          "scattermapbox": [
           {
            "marker": {
             "colorbar": {
              "outlinewidth": 0,
              "ticks": ""
             }
            },
            "type": "scattermapbox"
           }
          ],
          "scatterpolar": [
           {
            "marker": {
             "colorbar": {
              "outlinewidth": 0,
              "ticks": ""
             }
            },
            "type": "scatterpolar"
           }
          ],
          "scatterpolargl": [
           {
            "marker": {
             "colorbar": {
              "outlinewidth": 0,
              "ticks": ""
             }
            },
            "type": "scatterpolargl"
           }
          ],
          "scatterternary": [
           {
            "marker": {
             "colorbar": {
              "outlinewidth": 0,
              "ticks": ""
             }
            },
            "type": "scatterternary"
           }
          ],
          "surface": [
           {
            "colorbar": {
             "outlinewidth": 0,
             "ticks": ""
            },
            "colorscale": [
             [
              0,
              "#0d0887"
             ],
             [
              0.1111111111111111,
              "#46039f"
             ],
             [
              0.2222222222222222,
              "#7201a8"
             ],
             [
              0.3333333333333333,
              "#9c179e"
             ],
             [
              0.4444444444444444,
              "#bd3786"
             ],
             [
              0.5555555555555556,
              "#d8576b"
             ],
             [
              0.6666666666666666,
              "#ed7953"
             ],
             [
              0.7777777777777778,
              "#fb9f3a"
             ],
             [
              0.8888888888888888,
              "#fdca26"
             ],
             [
              1,
              "#f0f921"
             ]
            ],
            "type": "surface"
           }
          ],
          "table": [
           {
            "cells": {
             "fill": {
              "color": "#EBF0F8"
             },
             "line": {
              "color": "white"
             }
            },
            "header": {
             "fill": {
              "color": "#C8D4E3"
             },
             "line": {
              "color": "white"
             }
            },
            "type": "table"
           }
          ]
         },
         "layout": {
          "annotationdefaults": {
           "arrowcolor": "#2a3f5f",
           "arrowhead": 0,
           "arrowwidth": 1
          },
          "coloraxis": {
           "colorbar": {
            "outlinewidth": 0,
            "ticks": ""
           }
          },
          "colorscale": {
           "diverging": [
            [
             0,
             "#8e0152"
            ],
            [
             0.1,
             "#c51b7d"
            ],
            [
             0.2,
             "#de77ae"
            ],
            [
             0.3,
             "#f1b6da"
            ],
            [
             0.4,
             "#fde0ef"
            ],
            [
             0.5,
             "#f7f7f7"
            ],
            [
             0.6,
             "#e6f5d0"
            ],
            [
             0.7,
             "#b8e186"
            ],
            [
             0.8,
             "#7fbc41"
            ],
            [
             0.9,
             "#4d9221"
            ],
            [
             1,
             "#276419"
            ]
           ],
           "sequential": [
            [
             0,
             "#0d0887"
            ],
            [
             0.1111111111111111,
             "#46039f"
            ],
            [
             0.2222222222222222,
             "#7201a8"
            ],
            [
             0.3333333333333333,
             "#9c179e"
            ],
            [
             0.4444444444444444,
             "#bd3786"
            ],
            [
             0.5555555555555556,
             "#d8576b"
            ],
            [
             0.6666666666666666,
             "#ed7953"
            ],
            [
             0.7777777777777778,
             "#fb9f3a"
            ],
            [
             0.8888888888888888,
             "#fdca26"
            ],
            [
             1,
             "#f0f921"
            ]
           ],
           "sequentialminus": [
            [
             0,
             "#0d0887"
            ],
            [
             0.1111111111111111,
             "#46039f"
            ],
            [
             0.2222222222222222,
             "#7201a8"
            ],
            [
             0.3333333333333333,
             "#9c179e"
            ],
            [
             0.4444444444444444,
             "#bd3786"
            ],
            [
             0.5555555555555556,
             "#d8576b"
            ],
            [
             0.6666666666666666,
             "#ed7953"
            ],
            [
             0.7777777777777778,
             "#fb9f3a"
            ],
            [
             0.8888888888888888,
             "#fdca26"
            ],
            [
             1,
             "#f0f921"
            ]
           ]
          },
          "colorway": [
           "#636efa",
           "#EF553B",
           "#00cc96",
           "#ab63fa",
           "#FFA15A",
           "#19d3f3",
           "#FF6692",
           "#B6E880",
           "#FF97FF",
           "#FECB52"
          ],
          "font": {
           "color": "#2a3f5f"
          },
          "geo": {
           "bgcolor": "white",
           "lakecolor": "white",
           "landcolor": "#E5ECF6",
           "showlakes": true,
           "showland": true,
           "subunitcolor": "white"
          },
          "hoverlabel": {
           "align": "left"
          },
          "hovermode": "closest",
          "mapbox": {
           "style": "light"
          },
          "paper_bgcolor": "white",
          "plot_bgcolor": "#E5ECF6",
          "polar": {
           "angularaxis": {
            "gridcolor": "white",
            "linecolor": "white",
            "ticks": ""
           },
           "bgcolor": "#E5ECF6",
           "radialaxis": {
            "gridcolor": "white",
            "linecolor": "white",
            "ticks": ""
           }
          },
          "scene": {
           "xaxis": {
            "backgroundcolor": "#E5ECF6",
            "gridcolor": "white",
            "gridwidth": 2,
            "linecolor": "white",
            "showbackground": true,
            "ticks": "",
            "zerolinecolor": "white"
           },
           "yaxis": {
            "backgroundcolor": "#E5ECF6",
            "gridcolor": "white",
            "gridwidth": 2,
            "linecolor": "white",
            "showbackground": true,
            "ticks": "",
            "zerolinecolor": "white"
           },
           "zaxis": {
            "backgroundcolor": "#E5ECF6",
            "gridcolor": "white",
            "gridwidth": 2,
            "linecolor": "white",
            "showbackground": true,
            "ticks": "",
            "zerolinecolor": "white"
           }
          },
          "shapedefaults": {
           "line": {
            "color": "#2a3f5f"
           }
          },
          "ternary": {
           "aaxis": {
            "gridcolor": "white",
            "linecolor": "white",
            "ticks": ""
           },
           "baxis": {
            "gridcolor": "white",
            "linecolor": "white",
            "ticks": ""
           },
           "bgcolor": "#E5ECF6",
           "caxis": {
            "gridcolor": "white",
            "linecolor": "white",
            "ticks": ""
           }
          },
          "title": {
           "x": 0.05
          },
          "xaxis": {
           "automargin": true,
           "gridcolor": "white",
           "linecolor": "white",
           "ticks": "",
           "title": {
            "standoff": 15
           },
           "zerolinecolor": "white",
           "zerolinewidth": 2
          },
          "yaxis": {
           "automargin": true,
           "gridcolor": "white",
           "linecolor": "white",
           "ticks": "",
           "title": {
            "standoff": 15
           },
           "zerolinecolor": "white",
           "zerolinewidth": 2
          }
         }
        }
       }
      },
      "text/html": [
       "<div>                            <div id=\"31b7aa9e-976b-48f7-8fb0-d4423e648c65\" class=\"plotly-graph-div\" style=\"height:525px; width:100%;\"></div>            <script type=\"text/javascript\">                require([\"plotly\"], function(Plotly) {                    window.PLOTLYENV=window.PLOTLYENV || {};                                    if (document.getElementById(\"31b7aa9e-976b-48f7-8fb0-d4423e648c65\")) {                    Plotly.newPlot(                        \"31b7aa9e-976b-48f7-8fb0-d4423e648c65\",                        [{\"branchvalues\": \"total\", \"domain\": {\"x\": [0.0, 1.0], \"y\": [0.0, 1.0]}, \"hovertemplate\": \"labels=%{label}<br>total_patients=%{value}<br>parent=%{parent}<br>id=%{id}<extra></extra>\", \"ids\": [\"IRENE CAMPBELL/Ascension Saint Thomas\", \"KEITH OSORIO/Ascension Saint Thomas\", \"LAWRENCE BURNS/Ascension Saint Thomas\", \"MARDON DAY/Ascension Saint Thomas\", \"MEEGHAN GILES/Ascension Saint Thomas\", \"MICHELE WHITTAKER/Ascension Saint Thomas\", \"NICHOLAS FUSSELL/Ascension Saint Thomas\", \"RAYMOND GILES/Ascension Saint Thomas\", \"RICHELLE DAY/Ascension Saint Thomas\", \"TIMOTHY BUSH/Ascension Saint Thomas\", \"TRACY MERRELL/Ascension Saint Thomas\", \"WILLIAM COHEN/Ascension Saint Thomas\", \"CHRISTOPHER FRAZIER/HCA\", \"ELIZABETH WAKEFIELD/HCA\", \"GINA MENDOZA/HCA\", \"I RETIEF/HCA\", \"IRENE CAMPBELL/HCA\", \"JAMES SUDBERRY/HCA\", \"JEFFREY MITCHELL/HCA\", \"KEITH OSORIO/HCA\", \"LAWRENCE BURNS/HCA\", \"MARDON DAY/HCA\", \"MATTHEW NEUHAUS/HCA\", \"MICHELE WHITTAKER/HCA\", \"NICHOLAS FUSSELL/HCA\", \"RAMESH PAVULURI/HCA\", \"RICHELLE DAY/HCA\", \"ROBERT FRANKFATHER/HCA\", \"TOD BUSHMAN/HCA\", \"VIJAY PAVULURI/HCA\", \"WILLIAM LAMBERT/HCA\", \"CHRISTOPHER FRAZIER/Macon County General Hospital\", \"IRENE CAMPBELL/Maury Regional Medical Center\", \"JAMIL HOSSAIN/Maury Regional Medical Center\", \"JEFFREY MITCHELL/Maury Regional Medical Center\", \"ROBERT FRANKFATHER/Maury Regional Medical Center\", \"ROBERT MACARTHUR/Maury Regional Medical Center\", \"KEVIN DAVIS/NorthCrest Medical Center\", \"CHRISTOPHER FRAZIER/Riverview Regional Medical Center\", \"CHRISTOPHER FRAZIER/Sumner Regional Medical Center\", \"DAVID TRENNER/Sumner Regional Medical Center\", \"ADAM HICKS/Vanderbilt University Medical Center\", \"CAROLINE GANNON/Vanderbilt University Medical Center\", \"CHRISTOPHER BENAC/Vanderbilt University Medical Center\", \"CHRISTOPHER FRAZIER/Vanderbilt University Medical Center\", \"DAVID SONG/Vanderbilt University Medical Center\", \"DAVID TRENNER/Vanderbilt University Medical Center\", \"ELIZABETH WAKEFIELD/Vanderbilt University Medical Center\", \"I RETIEF/Vanderbilt University Medical Center\", \"IRENE CAMPBELL/Vanderbilt University Medical Center\", \"JAMES SUDBERRY/Vanderbilt University Medical Center\", \"JAMIL HOSSAIN/Vanderbilt University Medical Center\", \"JARED BRAMLETT/Vanderbilt University Medical Center\", \"JEFFREY MITCHELL/Vanderbilt University Medical Center\", \"JEFFREY POOLE/Vanderbilt University Medical Center\", \"KEITH OSORIO/Vanderbilt University Medical Center\", \"KEVIN DAVIS/Vanderbilt University Medical Center\", \"KIRBY DEETER/Vanderbilt University Medical Center\", \"LAWRENCE BURNS/Vanderbilt University Medical Center\", \"MARDON DAY/Vanderbilt University Medical Center\", \"MARK WRIGHT/Vanderbilt University Medical Center\", \"MELVIN WILLIAMS/Vanderbilt University Medical Center\", \"MICHELE WHITTAKER/Vanderbilt University Medical Center\", \"NICHOLAS FUSSELL/Vanderbilt University Medical Center\", \"RAMESH PAVULURI/Vanderbilt University Medical Center\", \"RAYMOND GILES/Vanderbilt University Medical Center\", \"RICHARD BREEDEN/Vanderbilt University Medical Center\", \"RICHELLE DAY/Vanderbilt University Medical Center\", \"ROBERT FRANKFATHER/Vanderbilt University Medical Center\", \"THERESE TLAPEK/Vanderbilt University Medical Center\", \"TIMOTHY BUSH/Vanderbilt University Medical Center\", \"TOD BUSHMAN/Vanderbilt University Medical Center\", \"TRACY MERRELL/Vanderbilt University Medical Center\", \"VIJAY PAVULURI/Vanderbilt University Medical Center\", \"WILLIAM COHEN/Vanderbilt University Medical Center\", \"WILLIAM LAMBERT/Vanderbilt University Medical Center\", \"YONG SUH/Vanderbilt University Medical Center\", \"CAROLINE GANNON/Williamson Medical Center\", \"DAVID SONG/Williamson Medical Center\", \"DAVID TRENNER/Williamson Medical Center\", \"IRENE CAMPBELL/Williamson Medical Center\", \"JEFFREY POOLE/Williamson Medical Center\", \"KEITH OSORIO/Williamson Medical Center\", \"ROBERT FRANKFATHER/Williamson Medical Center\", \"ADAM HICKS\", \"CAROLINE GANNON\", \"CHRISTOPHER BENAC\", \"CHRISTOPHER FRAZIER\", \"DAVID SONG\", \"DAVID TRENNER\", \"ELIZABETH WAKEFIELD\", \"GINA MENDOZA\", \"I RETIEF\", \"IRENE CAMPBELL\", \"JAMES SUDBERRY\", \"JAMIL HOSSAIN\", \"JARED BRAMLETT\", \"JEFFREY MITCHELL\", \"JEFFREY POOLE\", \"KEITH OSORIO\", \"KEVIN DAVIS\", \"KIRBY DEETER\", \"LAWRENCE BURNS\", \"MARDON DAY\", \"MARK WRIGHT\", \"MATTHEW NEUHAUS\", \"MEEGHAN GILES\", \"MELVIN WILLIAMS\", \"MICHELE WHITTAKER\", \"NICHOLAS FUSSELL\", \"RAMESH PAVULURI\", \"RAYMOND GILES\", \"RICHARD BREEDEN\", \"RICHELLE DAY\", \"ROBERT FRANKFATHER\", \"ROBERT MACARTHUR\", \"THERESE TLAPEK\", \"TIMOTHY BUSH\", \"TOD BUSHMAN\", \"TRACY MERRELL\", \"VIJAY PAVULURI\", \"WILLIAM COHEN\", \"WILLIAM LAMBERT\", \"YONG SUH\"], \"labels\": [\"Ascension Saint Thomas\", \"Ascension Saint Thomas\", \"Ascension Saint Thomas\", \"Ascension Saint Thomas\", \"Ascension Saint Thomas\", \"Ascension Saint Thomas\", \"Ascension Saint Thomas\", \"Ascension Saint Thomas\", \"Ascension Saint Thomas\", \"Ascension Saint Thomas\", \"Ascension Saint Thomas\", \"Ascension Saint Thomas\", \"HCA\", \"HCA\", \"HCA\", \"HCA\", \"HCA\", \"HCA\", \"HCA\", \"HCA\", \"HCA\", \"HCA\", \"HCA\", \"HCA\", \"HCA\", \"HCA\", \"HCA\", \"HCA\", \"HCA\", \"HCA\", \"HCA\", \"Macon County General Hospital\", \"Maury Regional Medical Center\", \"Maury Regional Medical Center\", \"Maury Regional Medical Center\", \"Maury Regional Medical Center\", \"Maury Regional Medical Center\", \"NorthCrest Medical Center\", \"Riverview Regional Medical Center\", \"Sumner Regional Medical Center\", \"Sumner Regional Medical Center\", \"Vanderbilt University Medical Center\", \"Vanderbilt University Medical Center\", \"Vanderbilt University Medical Center\", \"Vanderbilt University Medical Center\", \"Vanderbilt University Medical Center\", \"Vanderbilt University Medical Center\", \"Vanderbilt University Medical Center\", \"Vanderbilt University Medical Center\", \"Vanderbilt University Medical Center\", \"Vanderbilt University Medical Center\", \"Vanderbilt University Medical Center\", \"Vanderbilt University Medical Center\", \"Vanderbilt University Medical Center\", \"Vanderbilt University Medical Center\", \"Vanderbilt University Medical Center\", \"Vanderbilt University Medical Center\", \"Vanderbilt University Medical Center\", \"Vanderbilt University Medical Center\", \"Vanderbilt University Medical Center\", \"Vanderbilt University Medical Center\", \"Vanderbilt University Medical Center\", \"Vanderbilt University Medical Center\", \"Vanderbilt University Medical Center\", \"Vanderbilt University Medical Center\", \"Vanderbilt University Medical Center\", \"Vanderbilt University Medical Center\", \"Vanderbilt University Medical Center\", \"Vanderbilt University Medical Center\", \"Vanderbilt University Medical Center\", \"Vanderbilt University Medical Center\", \"Vanderbilt University Medical Center\", \"Vanderbilt University Medical Center\", \"Vanderbilt University Medical Center\", \"Vanderbilt University Medical Center\", \"Vanderbilt University Medical Center\", \"Vanderbilt University Medical Center\", \"Williamson Medical Center\", \"Williamson Medical Center\", \"Williamson Medical Center\", \"Williamson Medical Center\", \"Williamson Medical Center\", \"Williamson Medical Center\", \"Williamson Medical Center\", \"ADAM HICKS\", \"CAROLINE GANNON\", \"CHRISTOPHER BENAC\", \"CHRISTOPHER FRAZIER\", \"DAVID SONG\", \"DAVID TRENNER\", \"ELIZABETH WAKEFIELD\", \"GINA MENDOZA\", \"I RETIEF\", \"IRENE CAMPBELL\", \"JAMES SUDBERRY\", \"JAMIL HOSSAIN\", \"JARED BRAMLETT\", \"JEFFREY MITCHELL\", \"JEFFREY POOLE\", \"KEITH OSORIO\", \"KEVIN DAVIS\", \"KIRBY DEETER\", \"LAWRENCE BURNS\", \"MARDON DAY\", \"MARK WRIGHT\", \"MATTHEW NEUHAUS\", \"MEEGHAN GILES\", \"MELVIN WILLIAMS\", \"MICHELE WHITTAKER\", \"NICHOLAS FUSSELL\", \"RAMESH PAVULURI\", \"RAYMOND GILES\", \"RICHARD BREEDEN\", \"RICHELLE DAY\", \"ROBERT FRANKFATHER\", \"ROBERT MACARTHUR\", \"THERESE TLAPEK\", \"TIMOTHY BUSH\", \"TOD BUSHMAN\", \"TRACY MERRELL\", \"VIJAY PAVULURI\", \"WILLIAM COHEN\", \"WILLIAM LAMBERT\", \"YONG SUH\"], \"name\": \"\", \"parents\": [\"IRENE CAMPBELL\", \"KEITH OSORIO\", \"LAWRENCE BURNS\", \"MARDON DAY\", \"MEEGHAN GILES\", \"MICHELE WHITTAKER\", \"NICHOLAS FUSSELL\", \"RAYMOND GILES\", \"RICHELLE DAY\", \"TIMOTHY BUSH\", \"TRACY MERRELL\", \"WILLIAM COHEN\", \"CHRISTOPHER FRAZIER\", \"ELIZABETH WAKEFIELD\", \"GINA MENDOZA\", \"I RETIEF\", \"IRENE CAMPBELL\", \"JAMES SUDBERRY\", \"JEFFREY MITCHELL\", \"KEITH OSORIO\", \"LAWRENCE BURNS\", \"MARDON DAY\", \"MATTHEW NEUHAUS\", \"MICHELE WHITTAKER\", \"NICHOLAS FUSSELL\", \"RAMESH PAVULURI\", \"RICHELLE DAY\", \"ROBERT FRANKFATHER\", \"TOD BUSHMAN\", \"VIJAY PAVULURI\", \"WILLIAM LAMBERT\", \"CHRISTOPHER FRAZIER\", \"IRENE CAMPBELL\", \"JAMIL HOSSAIN\", \"JEFFREY MITCHELL\", \"ROBERT FRANKFATHER\", \"ROBERT MACARTHUR\", \"KEVIN DAVIS\", \"CHRISTOPHER FRAZIER\", \"CHRISTOPHER FRAZIER\", \"DAVID TRENNER\", \"ADAM HICKS\", \"CAROLINE GANNON\", \"CHRISTOPHER BENAC\", \"CHRISTOPHER FRAZIER\", \"DAVID SONG\", \"DAVID TRENNER\", \"ELIZABETH WAKEFIELD\", \"I RETIEF\", \"IRENE CAMPBELL\", \"JAMES SUDBERRY\", \"JAMIL HOSSAIN\", \"JARED BRAMLETT\", \"JEFFREY MITCHELL\", \"JEFFREY POOLE\", \"KEITH OSORIO\", \"KEVIN DAVIS\", \"KIRBY DEETER\", \"LAWRENCE BURNS\", \"MARDON DAY\", \"MARK WRIGHT\", \"MELVIN WILLIAMS\", \"MICHELE WHITTAKER\", \"NICHOLAS FUSSELL\", \"RAMESH PAVULURI\", \"RAYMOND GILES\", \"RICHARD BREEDEN\", \"RICHELLE DAY\", \"ROBERT FRANKFATHER\", \"THERESE TLAPEK\", \"TIMOTHY BUSH\", \"TOD BUSHMAN\", \"TRACY MERRELL\", \"VIJAY PAVULURI\", \"WILLIAM COHEN\", \"WILLIAM LAMBERT\", \"YONG SUH\", \"CAROLINE GANNON\", \"DAVID SONG\", \"DAVID TRENNER\", \"IRENE CAMPBELL\", \"JEFFREY POOLE\", \"KEITH OSORIO\", \"ROBERT FRANKFATHER\", \"\", \"\", \"\", \"\", \"\", \"\", \"\", \"\", \"\", \"\", \"\", \"\", \"\", \"\", \"\", \"\", \"\", \"\", \"\", \"\", \"\", \"\", \"\", \"\", \"\", \"\", \"\", \"\", \"\", \"\", \"\", \"\", \"\", \"\", \"\", \"\", \"\", \"\", \"\", \"\"], \"type\": \"sunburst\", \"values\": [45, 59, 213, 127, 66, 120, 91, 74, 80, 296, 142, 138, 62, 184, 194, 134, 121, 214, 47, 48, 55, 195, 50, 204, 156, 76, 104, 92, 399, 79, 61, 34, 45, 135, 70, 37, 132, 346, 102, 264, 40, 691, 98, 96, 41, 74, 452, 45, 46, 245, 59, 49, 47, 52, 98, 162, 71, 467, 60, 85, 74, 76, 78, 59, 36, 33, 57, 48, 74, 53, 76, 133, 55, 51, 80, 33, 166, 142, 82, 70, 409, 173, 175, 41, 691, 240, 96, 503, 156, 562, 229, 194, 180, 865, 273, 184, 47, 169, 271, 444, 417, 467, 328, 407, 74, 50, 66, 76, 402, 306, 112, 107, 57, 232, 244, 132, 53, 372, 532, 197, 130, 218, 94, 166]}],                        {\"legend\": {\"tracegroupgap\": 0}, \"margin\": {\"t\": 60}, \"template\": {\"data\": {\"bar\": [{\"error_x\": {\"color\": \"#2a3f5f\"}, \"error_y\": {\"color\": \"#2a3f5f\"}, \"marker\": {\"line\": {\"color\": \"#E5ECF6\", \"width\": 0.5}}, \"type\": \"bar\"}], \"barpolar\": [{\"marker\": {\"line\": {\"color\": \"#E5ECF6\", \"width\": 0.5}}, \"type\": \"barpolar\"}], \"carpet\": [{\"aaxis\": {\"endlinecolor\": \"#2a3f5f\", \"gridcolor\": \"white\", \"linecolor\": \"white\", \"minorgridcolor\": \"white\", \"startlinecolor\": \"#2a3f5f\"}, \"baxis\": {\"endlinecolor\": \"#2a3f5f\", \"gridcolor\": \"white\", \"linecolor\": \"white\", \"minorgridcolor\": \"white\", \"startlinecolor\": \"#2a3f5f\"}, \"type\": \"carpet\"}], \"choropleth\": [{\"colorbar\": {\"outlinewidth\": 0, \"ticks\": \"\"}, \"type\": \"choropleth\"}], \"contour\": [{\"colorbar\": {\"outlinewidth\": 0, \"ticks\": \"\"}, \"colorscale\": [[0.0, \"#0d0887\"], [0.1111111111111111, \"#46039f\"], [0.2222222222222222, \"#7201a8\"], [0.3333333333333333, \"#9c179e\"], [0.4444444444444444, \"#bd3786\"], [0.5555555555555556, \"#d8576b\"], [0.6666666666666666, \"#ed7953\"], [0.7777777777777778, \"#fb9f3a\"], [0.8888888888888888, \"#fdca26\"], [1.0, \"#f0f921\"]], \"type\": \"contour\"}], \"contourcarpet\": [{\"colorbar\": {\"outlinewidth\": 0, \"ticks\": \"\"}, \"type\": \"contourcarpet\"}], \"heatmap\": [{\"colorbar\": {\"outlinewidth\": 0, \"ticks\": \"\"}, \"colorscale\": [[0.0, \"#0d0887\"], [0.1111111111111111, \"#46039f\"], [0.2222222222222222, \"#7201a8\"], [0.3333333333333333, \"#9c179e\"], [0.4444444444444444, \"#bd3786\"], [0.5555555555555556, \"#d8576b\"], [0.6666666666666666, \"#ed7953\"], [0.7777777777777778, \"#fb9f3a\"], [0.8888888888888888, \"#fdca26\"], [1.0, \"#f0f921\"]], \"type\": \"heatmap\"}], \"heatmapgl\": [{\"colorbar\": {\"outlinewidth\": 0, \"ticks\": \"\"}, \"colorscale\": [[0.0, \"#0d0887\"], [0.1111111111111111, \"#46039f\"], [0.2222222222222222, \"#7201a8\"], [0.3333333333333333, \"#9c179e\"], [0.4444444444444444, \"#bd3786\"], [0.5555555555555556, \"#d8576b\"], [0.6666666666666666, \"#ed7953\"], [0.7777777777777778, \"#fb9f3a\"], [0.8888888888888888, \"#fdca26\"], [1.0, \"#f0f921\"]], \"type\": \"heatmapgl\"}], \"histogram\": [{\"marker\": {\"colorbar\": {\"outlinewidth\": 0, \"ticks\": \"\"}}, \"type\": \"histogram\"}], \"histogram2d\": [{\"colorbar\": {\"outlinewidth\": 0, \"ticks\": \"\"}, \"colorscale\": [[0.0, \"#0d0887\"], [0.1111111111111111, \"#46039f\"], [0.2222222222222222, \"#7201a8\"], [0.3333333333333333, \"#9c179e\"], [0.4444444444444444, \"#bd3786\"], [0.5555555555555556, \"#d8576b\"], [0.6666666666666666, \"#ed7953\"], [0.7777777777777778, \"#fb9f3a\"], [0.8888888888888888, \"#fdca26\"], [1.0, \"#f0f921\"]], \"type\": \"histogram2d\"}], \"histogram2dcontour\": [{\"colorbar\": {\"outlinewidth\": 0, \"ticks\": \"\"}, \"colorscale\": [[0.0, \"#0d0887\"], [0.1111111111111111, \"#46039f\"], [0.2222222222222222, \"#7201a8\"], [0.3333333333333333, \"#9c179e\"], [0.4444444444444444, \"#bd3786\"], [0.5555555555555556, \"#d8576b\"], [0.6666666666666666, \"#ed7953\"], [0.7777777777777778, \"#fb9f3a\"], [0.8888888888888888, \"#fdca26\"], [1.0, \"#f0f921\"]], \"type\": \"histogram2dcontour\"}], \"mesh3d\": [{\"colorbar\": {\"outlinewidth\": 0, \"ticks\": \"\"}, \"type\": \"mesh3d\"}], \"parcoords\": [{\"line\": {\"colorbar\": {\"outlinewidth\": 0, \"ticks\": \"\"}}, \"type\": \"parcoords\"}], \"pie\": [{\"automargin\": true, \"type\": \"pie\"}], \"scatter\": [{\"marker\": {\"colorbar\": {\"outlinewidth\": 0, \"ticks\": \"\"}}, \"type\": \"scatter\"}], \"scatter3d\": [{\"line\": {\"colorbar\": {\"outlinewidth\": 0, \"ticks\": \"\"}}, \"marker\": {\"colorbar\": {\"outlinewidth\": 0, \"ticks\": \"\"}}, \"type\": \"scatter3d\"}], \"scattercarpet\": [{\"marker\": {\"colorbar\": {\"outlinewidth\": 0, \"ticks\": \"\"}}, \"type\": \"scattercarpet\"}], \"scattergeo\": [{\"marker\": {\"colorbar\": {\"outlinewidth\": 0, \"ticks\": \"\"}}, \"type\": \"scattergeo\"}], \"scattergl\": [{\"marker\": {\"colorbar\": {\"outlinewidth\": 0, \"ticks\": \"\"}}, \"type\": \"scattergl\"}], \"scattermapbox\": [{\"marker\": {\"colorbar\": {\"outlinewidth\": 0, \"ticks\": \"\"}}, \"type\": \"scattermapbox\"}], \"scatterpolar\": [{\"marker\": {\"colorbar\": {\"outlinewidth\": 0, \"ticks\": \"\"}}, \"type\": \"scatterpolar\"}], \"scatterpolargl\": [{\"marker\": {\"colorbar\": {\"outlinewidth\": 0, \"ticks\": \"\"}}, \"type\": \"scatterpolargl\"}], \"scatterternary\": [{\"marker\": {\"colorbar\": {\"outlinewidth\": 0, \"ticks\": \"\"}}, \"type\": \"scatterternary\"}], \"surface\": [{\"colorbar\": {\"outlinewidth\": 0, \"ticks\": \"\"}, \"colorscale\": [[0.0, \"#0d0887\"], [0.1111111111111111, \"#46039f\"], [0.2222222222222222, \"#7201a8\"], [0.3333333333333333, \"#9c179e\"], [0.4444444444444444, \"#bd3786\"], [0.5555555555555556, \"#d8576b\"], [0.6666666666666666, \"#ed7953\"], [0.7777777777777778, \"#fb9f3a\"], [0.8888888888888888, \"#fdca26\"], [1.0, \"#f0f921\"]], \"type\": \"surface\"}], \"table\": [{\"cells\": {\"fill\": {\"color\": \"#EBF0F8\"}, \"line\": {\"color\": \"white\"}}, \"header\": {\"fill\": {\"color\": \"#C8D4E3\"}, \"line\": {\"color\": \"white\"}}, \"type\": \"table\"}]}, \"layout\": {\"annotationdefaults\": {\"arrowcolor\": \"#2a3f5f\", \"arrowhead\": 0, \"arrowwidth\": 1}, \"coloraxis\": {\"colorbar\": {\"outlinewidth\": 0, \"ticks\": \"\"}}, \"colorscale\": {\"diverging\": [[0, \"#8e0152\"], [0.1, \"#c51b7d\"], [0.2, \"#de77ae\"], [0.3, \"#f1b6da\"], [0.4, \"#fde0ef\"], [0.5, \"#f7f7f7\"], [0.6, \"#e6f5d0\"], [0.7, \"#b8e186\"], [0.8, \"#7fbc41\"], [0.9, \"#4d9221\"], [1, \"#276419\"]], \"sequential\": [[0.0, \"#0d0887\"], [0.1111111111111111, \"#46039f\"], [0.2222222222222222, \"#7201a8\"], [0.3333333333333333, \"#9c179e\"], [0.4444444444444444, \"#bd3786\"], [0.5555555555555556, \"#d8576b\"], [0.6666666666666666, \"#ed7953\"], [0.7777777777777778, \"#fb9f3a\"], [0.8888888888888888, \"#fdca26\"], [1.0, \"#f0f921\"]], \"sequentialminus\": [[0.0, \"#0d0887\"], [0.1111111111111111, \"#46039f\"], [0.2222222222222222, \"#7201a8\"], [0.3333333333333333, \"#9c179e\"], [0.4444444444444444, \"#bd3786\"], [0.5555555555555556, \"#d8576b\"], [0.6666666666666666, \"#ed7953\"], [0.7777777777777778, \"#fb9f3a\"], [0.8888888888888888, \"#fdca26\"], [1.0, \"#f0f921\"]]}, \"colorway\": [\"#636efa\", \"#EF553B\", \"#00cc96\", \"#ab63fa\", \"#FFA15A\", \"#19d3f3\", \"#FF6692\", \"#B6E880\", \"#FF97FF\", \"#FECB52\"], \"font\": {\"color\": \"#2a3f5f\"}, \"geo\": {\"bgcolor\": \"white\", \"lakecolor\": \"white\", \"landcolor\": \"#E5ECF6\", \"showlakes\": true, \"showland\": true, \"subunitcolor\": \"white\"}, \"hoverlabel\": {\"align\": \"left\"}, \"hovermode\": \"closest\", \"mapbox\": {\"style\": \"light\"}, \"paper_bgcolor\": \"white\", \"plot_bgcolor\": \"#E5ECF6\", \"polar\": {\"angularaxis\": {\"gridcolor\": \"white\", \"linecolor\": \"white\", \"ticks\": \"\"}, \"bgcolor\": \"#E5ECF6\", \"radialaxis\": {\"gridcolor\": \"white\", \"linecolor\": \"white\", \"ticks\": \"\"}}, \"scene\": {\"xaxis\": {\"backgroundcolor\": \"#E5ECF6\", \"gridcolor\": \"white\", \"gridwidth\": 2, \"linecolor\": \"white\", \"showbackground\": true, \"ticks\": \"\", \"zerolinecolor\": \"white\"}, \"yaxis\": {\"backgroundcolor\": \"#E5ECF6\", \"gridcolor\": \"white\", \"gridwidth\": 2, \"linecolor\": \"white\", \"showbackground\": true, \"ticks\": \"\", \"zerolinecolor\": \"white\"}, \"zaxis\": {\"backgroundcolor\": \"#E5ECF6\", \"gridcolor\": \"white\", \"gridwidth\": 2, \"linecolor\": \"white\", \"showbackground\": true, \"ticks\": \"\", \"zerolinecolor\": \"white\"}}, \"shapedefaults\": {\"line\": {\"color\": \"#2a3f5f\"}}, \"ternary\": {\"aaxis\": {\"gridcolor\": \"white\", \"linecolor\": \"white\", \"ticks\": \"\"}, \"baxis\": {\"gridcolor\": \"white\", \"linecolor\": \"white\", \"ticks\": \"\"}, \"bgcolor\": \"#E5ECF6\", \"caxis\": {\"gridcolor\": \"white\", \"linecolor\": \"white\", \"ticks\": \"\"}}, \"title\": {\"x\": 0.05}, \"xaxis\": {\"automargin\": true, \"gridcolor\": \"white\", \"linecolor\": \"white\", \"ticks\": \"\", \"title\": {\"standoff\": 15}, \"zerolinecolor\": \"white\", \"zerolinewidth\": 2}, \"yaxis\": {\"automargin\": true, \"gridcolor\": \"white\", \"linecolor\": \"white\", \"ticks\": \"\", \"title\": {\"standoff\": 15}, \"zerolinecolor\": \"white\", \"zerolinewidth\": 2}}}},                        {\"responsive\": true}                    ).then(function(){\n",
       "                            \n",
       "var gd = document.getElementById('31b7aa9e-976b-48f7-8fb0-d4423e648c65');\n",
       "var x = new MutationObserver(function (mutations, observer) {{\n",
       "        var display = window.getComputedStyle(gd).display;\n",
       "        if (!display || display === 'none') {{\n",
       "            console.log([gd, 'removed!']);\n",
       "            Plotly.purge(gd);\n",
       "            observer.disconnect();\n",
       "        }}\n",
       "}});\n",
       "\n",
       "// Listen for the removal of the full notebook cells\n",
       "var notebookContainer = gd.closest('#notebook-container');\n",
       "if (notebookContainer) {{\n",
       "    x.observe(notebookContainer, {childList: true});\n",
       "}}\n",
       "\n",
       "// Listen for the clearing of the current output cell\n",
       "var outputEl = gd.closest('.output');\n",
       "if (outputEl) {{\n",
       "    x.observe(outputEl, {childList: true});\n",
       "}}\n",
       "\n",
       "                        })                };                });            </script>        </div>"
      ]
     },
     "metadata": {},
     "output_type": "display_data"
    }
   ],
   "source": [
    "import plotly.express as px\n",
    "df = pods\n",
    "fig = px.sunburst(df, path=['from_physician', 'hospital_group'], values='total_patients')\n",
    "fig.show()"
   ]
  },
  {
   "cell_type": "code",
   "execution_count": 139,
   "metadata": {},
   "outputs": [
    {
     "data": {
      "application/vnd.plotly.v1+json": {
       "config": {
        "plotlyServerURL": "https://plot.ly"
       },
       "data": [
        {
         "alignmentgroup": "True",
         "hovertemplate": "from_display_name=Podiatrist<br>hospital_group=%{x}<br>total_patients=%{y}<extra></extra>",
         "legendgroup": "Podiatrist",
         "marker": {
          "color": "#636efa"
         },
         "name": "Podiatrist",
         "offsetgroup": "Podiatrist",
         "orientation": "v",
         "showlegend": true,
         "textposition": "auto",
         "type": "bar",
         "x": [
          "Vanderbilt University Medical Center",
          "Vanderbilt University Medical Center",
          "Williamson Medical Center",
          "Ascension Saint Thomas",
          "HCA",
          "Maury Regional Medical Center",
          "Vanderbilt University Medical Center",
          "Williamson Medical Center",
          "HCA",
          "Vanderbilt University Medical Center",
          "Ascension Saint Thomas",
          "HCA",
          "Vanderbilt University Medical Center",
          "Williamson Medical Center",
          "NorthCrest Medical Center",
          "Vanderbilt University Medical Center",
          "HCA",
          "HCA",
          "Vanderbilt University Medical Center",
          "HCA",
          "Maury Regional Medical Center",
          "Vanderbilt University Medical Center",
          "Williamson Medical Center",
          "Ascension Saint Thomas",
          "Vanderbilt University Medical Center",
          "HCA",
          "Vanderbilt University Medical Center",
          "HCA",
          "Vanderbilt University Medical Center",
          "Vanderbilt University Medical Center"
         ],
         "xaxis": "x",
         "y": [
          691,
          74,
          82,
          45,
          121,
          45,
          245,
          409,
          214,
          59,
          59,
          48,
          162,
          175,
          346,
          71,
          50,
          76,
          36,
          92,
          37,
          74,
          41,
          142,
          55,
          79,
          51,
          61,
          33,
          166
         ],
         "yaxis": "y"
        },
        {
         "alignmentgroup": "True",
         "hovertemplate": "from_display_name=Foot & Ankle Surgery Podiatrist<br>hospital_group=%{x}<br>total_patients=%{y}<extra></extra>",
         "legendgroup": "Foot & Ankle Surgery Podiatrist",
         "marker": {
          "color": "#EF553B"
         },
         "name": "Foot & Ankle Surgery Podiatrist",
         "offsetgroup": "Foot & Ankle Surgery Podiatrist",
         "orientation": "v",
         "showlegend": true,
         "textposition": "auto",
         "type": "bar",
         "x": [
          "Vanderbilt University Medical Center",
          "Williamson Medical Center",
          "Vanderbilt University Medical Center",
          "HCA",
          "Macon County General Hospital",
          "Riverview Regional Medical Center",
          "Sumner Regional Medical Center",
          "Vanderbilt University Medical Center",
          "Sumner Regional Medical Center",
          "Vanderbilt University Medical Center",
          "Williamson Medical Center",
          "HCA",
          "Vanderbilt University Medical Center",
          "HCA",
          "Maury Regional Medical Center",
          "Vanderbilt University Medical Center",
          "Vanderbilt University Medical Center",
          "HCA",
          "Maury Regional Medical Center",
          "Vanderbilt University Medical Center",
          "Vanderbilt University Medical Center",
          "Williamson Medical Center",
          "Vanderbilt University Medical Center",
          "Ascension Saint Thomas",
          "HCA",
          "Vanderbilt University Medical Center",
          "Ascension Saint Thomas",
          "Vanderbilt University Medical Center",
          "Ascension Saint Thomas",
          "HCA",
          "Vanderbilt University Medical Center",
          "Ascension Saint Thomas",
          "HCA",
          "Vanderbilt University Medical Center",
          "Ascension Saint Thomas",
          "Vanderbilt University Medical Center",
          "Ascension Saint Thomas",
          "HCA",
          "Vanderbilt University Medical Center",
          "Vanderbilt University Medical Center",
          "Ascension Saint Thomas",
          "Vanderbilt University Medical Center",
          "Ascension Saint Thomas",
          "Vanderbilt University Medical Center"
         ],
         "xaxis": "x",
         "y": [
          98,
          142,
          96,
          62,
          34,
          102,
          264,
          41,
          40,
          452,
          70,
          184,
          45,
          194,
          135,
          49,
          47,
          47,
          70,
          52,
          98,
          173,
          467,
          127,
          195,
          85,
          66,
          76,
          120,
          204,
          78,
          91,
          156,
          59,
          74,
          33,
          80,
          104,
          48,
          53,
          296,
          76,
          138,
          80
         ],
         "yaxis": "y"
        },
        {
         "alignmentgroup": "True",
         "hovertemplate": "from_display_name=Foot Surgery Podiatrist<br>hospital_group=%{x}<br>total_patients=%{y}<extra></extra>",
         "legendgroup": "Foot Surgery Podiatrist",
         "marker": {
          "color": "#00cc96"
         },
         "name": "Foot Surgery Podiatrist",
         "offsetgroup": "Foot Surgery Podiatrist",
         "orientation": "v",
         "showlegend": true,
         "textposition": "auto",
         "type": "bar",
         "x": [
          "HCA",
          "Vanderbilt University Medical Center",
          "Vanderbilt University Medical Center"
         ],
         "xaxis": "x",
         "y": [
          134,
          46,
          74
         ],
         "yaxis": "y"
        },
        {
         "alignmentgroup": "True",
         "hovertemplate": "from_display_name=Primary Podiatric Medicine Podiatrist<br>hospital_group=%{x}<br>total_patients=%{y}<extra></extra>",
         "legendgroup": "Primary Podiatric Medicine Podiatrist",
         "marker": {
          "color": "#ab63fa"
         },
         "name": "Primary Podiatric Medicine Podiatrist",
         "offsetgroup": "Primary Podiatric Medicine Podiatrist",
         "orientation": "v",
         "showlegend": true,
         "textposition": "auto",
         "type": "bar",
         "x": [
          "Ascension Saint Thomas",
          "HCA",
          "Vanderbilt University Medical Center",
          "Vanderbilt University Medical Center",
          "Maury Regional Medical Center",
          "HCA",
          "Vanderbilt University Medical Center"
         ],
         "xaxis": "x",
         "y": [
          213,
          55,
          60,
          57,
          132,
          399,
          133
         ],
         "yaxis": "y"
        }
       ],
       "layout": {
        "barmode": "relative",
        "legend": {
         "title": {
          "text": "from_display_name"
         },
         "tracegroupgap": 0
        },
        "template": {
         "data": {
          "bar": [
           {
            "error_x": {
             "color": "#2a3f5f"
            },
            "error_y": {
             "color": "#2a3f5f"
            },
            "marker": {
             "line": {
              "color": "#E5ECF6",
              "width": 0.5
             }
            },
            "type": "bar"
           }
          ],
          "barpolar": [
           {
            "marker": {
             "line": {
              "color": "#E5ECF6",
              "width": 0.5
             }
            },
            "type": "barpolar"
           }
          ],
          "carpet": [
           {
            "aaxis": {
             "endlinecolor": "#2a3f5f",
             "gridcolor": "white",
             "linecolor": "white",
             "minorgridcolor": "white",
             "startlinecolor": "#2a3f5f"
            },
            "baxis": {
             "endlinecolor": "#2a3f5f",
             "gridcolor": "white",
             "linecolor": "white",
             "minorgridcolor": "white",
             "startlinecolor": "#2a3f5f"
            },
            "type": "carpet"
           }
          ],
          "choropleth": [
           {
            "colorbar": {
             "outlinewidth": 0,
             "ticks": ""
            },
            "type": "choropleth"
           }
          ],
          "contour": [
           {
            "colorbar": {
             "outlinewidth": 0,
             "ticks": ""
            },
            "colorscale": [
             [
              0,
              "#0d0887"
             ],
             [
              0.1111111111111111,
              "#46039f"
             ],
             [
              0.2222222222222222,
              "#7201a8"
             ],
             [
              0.3333333333333333,
              "#9c179e"
             ],
             [
              0.4444444444444444,
              "#bd3786"
             ],
             [
              0.5555555555555556,
              "#d8576b"
             ],
             [
              0.6666666666666666,
              "#ed7953"
             ],
             [
              0.7777777777777778,
              "#fb9f3a"
             ],
             [
              0.8888888888888888,
              "#fdca26"
             ],
             [
              1,
              "#f0f921"
             ]
            ],
            "type": "contour"
           }
          ],
          "contourcarpet": [
           {
            "colorbar": {
             "outlinewidth": 0,
             "ticks": ""
            },
            "type": "contourcarpet"
           }
          ],
          "heatmap": [
           {
            "colorbar": {
             "outlinewidth": 0,
             "ticks": ""
            },
            "colorscale": [
             [
              0,
              "#0d0887"
             ],
             [
              0.1111111111111111,
              "#46039f"
             ],
             [
              0.2222222222222222,
              "#7201a8"
             ],
             [
              0.3333333333333333,
              "#9c179e"
             ],
             [
              0.4444444444444444,
              "#bd3786"
             ],
             [
              0.5555555555555556,
              "#d8576b"
             ],
             [
              0.6666666666666666,
              "#ed7953"
             ],
             [
              0.7777777777777778,
              "#fb9f3a"
             ],
             [
              0.8888888888888888,
              "#fdca26"
             ],
             [
              1,
              "#f0f921"
             ]
            ],
            "type": "heatmap"
           }
          ],
          "heatmapgl": [
           {
            "colorbar": {
             "outlinewidth": 0,
             "ticks": ""
            },
            "colorscale": [
             [
              0,
              "#0d0887"
             ],
             [
              0.1111111111111111,
              "#46039f"
             ],
             [
              0.2222222222222222,
              "#7201a8"
             ],
             [
              0.3333333333333333,
              "#9c179e"
             ],
             [
              0.4444444444444444,
              "#bd3786"
             ],
             [
              0.5555555555555556,
              "#d8576b"
             ],
             [
              0.6666666666666666,
              "#ed7953"
             ],
             [
              0.7777777777777778,
              "#fb9f3a"
             ],
             [
              0.8888888888888888,
              "#fdca26"
             ],
             [
              1,
              "#f0f921"
             ]
            ],
            "type": "heatmapgl"
           }
          ],
          "histogram": [
           {
            "marker": {
             "colorbar": {
              "outlinewidth": 0,
              "ticks": ""
             }
            },
            "type": "histogram"
           }
          ],
          "histogram2d": [
           {
            "colorbar": {
             "outlinewidth": 0,
             "ticks": ""
            },
            "colorscale": [
             [
              0,
              "#0d0887"
             ],
             [
              0.1111111111111111,
              "#46039f"
             ],
             [
              0.2222222222222222,
              "#7201a8"
             ],
             [
              0.3333333333333333,
              "#9c179e"
             ],
             [
              0.4444444444444444,
              "#bd3786"
             ],
             [
              0.5555555555555556,
              "#d8576b"
             ],
             [
              0.6666666666666666,
              "#ed7953"
             ],
             [
              0.7777777777777778,
              "#fb9f3a"
             ],
             [
              0.8888888888888888,
              "#fdca26"
             ],
             [
              1,
              "#f0f921"
             ]
            ],
            "type": "histogram2d"
           }
          ],
          "histogram2dcontour": [
           {
            "colorbar": {
             "outlinewidth": 0,
             "ticks": ""
            },
            "colorscale": [
             [
              0,
              "#0d0887"
             ],
             [
              0.1111111111111111,
              "#46039f"
             ],
             [
              0.2222222222222222,
              "#7201a8"
             ],
             [
              0.3333333333333333,
              "#9c179e"
             ],
             [
              0.4444444444444444,
              "#bd3786"
             ],
             [
              0.5555555555555556,
              "#d8576b"
             ],
             [
              0.6666666666666666,
              "#ed7953"
             ],
             [
              0.7777777777777778,
              "#fb9f3a"
             ],
             [
              0.8888888888888888,
              "#fdca26"
             ],
             [
              1,
              "#f0f921"
             ]
            ],
            "type": "histogram2dcontour"
           }
          ],
          "mesh3d": [
           {
            "colorbar": {
             "outlinewidth": 0,
             "ticks": ""
            },
            "type": "mesh3d"
           }
          ],
          "parcoords": [
           {
            "line": {
             "colorbar": {
              "outlinewidth": 0,
              "ticks": ""
             }
            },
            "type": "parcoords"
           }
          ],
          "pie": [
           {
            "automargin": true,
            "type": "pie"
           }
          ],
          "scatter": [
           {
            "marker": {
             "colorbar": {
              "outlinewidth": 0,
              "ticks": ""
             }
            },
            "type": "scatter"
           }
          ],
          "scatter3d": [
           {
            "line": {
             "colorbar": {
              "outlinewidth": 0,
              "ticks": ""
             }
            },
            "marker": {
             "colorbar": {
              "outlinewidth": 0,
              "ticks": ""
             }
            },
            "type": "scatter3d"
           }
          ],
          "scattercarpet": [
           {
            "marker": {
             "colorbar": {
              "outlinewidth": 0,
              "ticks": ""
             }
            },
            "type": "scattercarpet"
           }
          ],
          "scattergeo": [
           {
            "marker": {
             "colorbar": {
              "outlinewidth": 0,
              "ticks": ""
             }
            },
            "type": "scattergeo"
           }
          ],
          "scattergl": [
           {
            "marker": {
             "colorbar": {
              "outlinewidth": 0,
              "ticks": ""
             }
            },
            "type": "scattergl"
           }
          ],
          "scattermapbox": [
           {
            "marker": {
             "colorbar": {
              "outlinewidth": 0,
              "ticks": ""
             }
            },
            "type": "scattermapbox"
           }
          ],
          "scatterpolar": [
           {
            "marker": {
             "colorbar": {
              "outlinewidth": 0,
              "ticks": ""
             }
            },
            "type": "scatterpolar"
           }
          ],
          "scatterpolargl": [
           {
            "marker": {
             "colorbar": {
              "outlinewidth": 0,
              "ticks": ""
             }
            },
            "type": "scatterpolargl"
           }
          ],
          "scatterternary": [
           {
            "marker": {
             "colorbar": {
              "outlinewidth": 0,
              "ticks": ""
             }
            },
            "type": "scatterternary"
           }
          ],
          "surface": [
           {
            "colorbar": {
             "outlinewidth": 0,
             "ticks": ""
            },
            "colorscale": [
             [
              0,
              "#0d0887"
             ],
             [
              0.1111111111111111,
              "#46039f"
             ],
             [
              0.2222222222222222,
              "#7201a8"
             ],
             [
              0.3333333333333333,
              "#9c179e"
             ],
             [
              0.4444444444444444,
              "#bd3786"
             ],
             [
              0.5555555555555556,
              "#d8576b"
             ],
             [
              0.6666666666666666,
              "#ed7953"
             ],
             [
              0.7777777777777778,
              "#fb9f3a"
             ],
             [
              0.8888888888888888,
              "#fdca26"
             ],
             [
              1,
              "#f0f921"
             ]
            ],
            "type": "surface"
           }
          ],
          "table": [
           {
            "cells": {
             "fill": {
              "color": "#EBF0F8"
             },
             "line": {
              "color": "white"
             }
            },
            "header": {
             "fill": {
              "color": "#C8D4E3"
             },
             "line": {
              "color": "white"
             }
            },
            "type": "table"
           }
          ]
         },
         "layout": {
          "annotationdefaults": {
           "arrowcolor": "#2a3f5f",
           "arrowhead": 0,
           "arrowwidth": 1
          },
          "coloraxis": {
           "colorbar": {
            "outlinewidth": 0,
            "ticks": ""
           }
          },
          "colorscale": {
           "diverging": [
            [
             0,
             "#8e0152"
            ],
            [
             0.1,
             "#c51b7d"
            ],
            [
             0.2,
             "#de77ae"
            ],
            [
             0.3,
             "#f1b6da"
            ],
            [
             0.4,
             "#fde0ef"
            ],
            [
             0.5,
             "#f7f7f7"
            ],
            [
             0.6,
             "#e6f5d0"
            ],
            [
             0.7,
             "#b8e186"
            ],
            [
             0.8,
             "#7fbc41"
            ],
            [
             0.9,
             "#4d9221"
            ],
            [
             1,
             "#276419"
            ]
           ],
           "sequential": [
            [
             0,
             "#0d0887"
            ],
            [
             0.1111111111111111,
             "#46039f"
            ],
            [
             0.2222222222222222,
             "#7201a8"
            ],
            [
             0.3333333333333333,
             "#9c179e"
            ],
            [
             0.4444444444444444,
             "#bd3786"
            ],
            [
             0.5555555555555556,
             "#d8576b"
            ],
            [
             0.6666666666666666,
             "#ed7953"
            ],
            [
             0.7777777777777778,
             "#fb9f3a"
            ],
            [
             0.8888888888888888,
             "#fdca26"
            ],
            [
             1,
             "#f0f921"
            ]
           ],
           "sequentialminus": [
            [
             0,
             "#0d0887"
            ],
            [
             0.1111111111111111,
             "#46039f"
            ],
            [
             0.2222222222222222,
             "#7201a8"
            ],
            [
             0.3333333333333333,
             "#9c179e"
            ],
            [
             0.4444444444444444,
             "#bd3786"
            ],
            [
             0.5555555555555556,
             "#d8576b"
            ],
            [
             0.6666666666666666,
             "#ed7953"
            ],
            [
             0.7777777777777778,
             "#fb9f3a"
            ],
            [
             0.8888888888888888,
             "#fdca26"
            ],
            [
             1,
             "#f0f921"
            ]
           ]
          },
          "colorway": [
           "#636efa",
           "#EF553B",
           "#00cc96",
           "#ab63fa",
           "#FFA15A",
           "#19d3f3",
           "#FF6692",
           "#B6E880",
           "#FF97FF",
           "#FECB52"
          ],
          "font": {
           "color": "#2a3f5f"
          },
          "geo": {
           "bgcolor": "white",
           "lakecolor": "white",
           "landcolor": "#E5ECF6",
           "showlakes": true,
           "showland": true,
           "subunitcolor": "white"
          },
          "hoverlabel": {
           "align": "left"
          },
          "hovermode": "closest",
          "mapbox": {
           "style": "light"
          },
          "paper_bgcolor": "white",
          "plot_bgcolor": "#E5ECF6",
          "polar": {
           "angularaxis": {
            "gridcolor": "white",
            "linecolor": "white",
            "ticks": ""
           },
           "bgcolor": "#E5ECF6",
           "radialaxis": {
            "gridcolor": "white",
            "linecolor": "white",
            "ticks": ""
           }
          },
          "scene": {
           "xaxis": {
            "backgroundcolor": "#E5ECF6",
            "gridcolor": "white",
            "gridwidth": 2,
            "linecolor": "white",
            "showbackground": true,
            "ticks": "",
            "zerolinecolor": "white"
           },
           "yaxis": {
            "backgroundcolor": "#E5ECF6",
            "gridcolor": "white",
            "gridwidth": 2,
            "linecolor": "white",
            "showbackground": true,
            "ticks": "",
            "zerolinecolor": "white"
           },
           "zaxis": {
            "backgroundcolor": "#E5ECF6",
            "gridcolor": "white",
            "gridwidth": 2,
            "linecolor": "white",
            "showbackground": true,
            "ticks": "",
            "zerolinecolor": "white"
           }
          },
          "shapedefaults": {
           "line": {
            "color": "#2a3f5f"
           }
          },
          "ternary": {
           "aaxis": {
            "gridcolor": "white",
            "linecolor": "white",
            "ticks": ""
           },
           "baxis": {
            "gridcolor": "white",
            "linecolor": "white",
            "ticks": ""
           },
           "bgcolor": "#E5ECF6",
           "caxis": {
            "gridcolor": "white",
            "linecolor": "white",
            "ticks": ""
           }
          },
          "title": {
           "x": 0.05
          },
          "xaxis": {
           "automargin": true,
           "gridcolor": "white",
           "linecolor": "white",
           "ticks": "",
           "title": {
            "standoff": 15
           },
           "zerolinecolor": "white",
           "zerolinewidth": 2
          },
          "yaxis": {
           "automargin": true,
           "gridcolor": "white",
           "linecolor": "white",
           "ticks": "",
           "title": {
            "standoff": 15
           },
           "zerolinecolor": "white",
           "zerolinewidth": 2
          }
         }
        },
        "title": {
         "text": "Patient Volume by Sub-Speciality in Orthopedic Surgery & Hospital Group"
        },
        "xaxis": {
         "anchor": "y",
         "domain": [
          0,
          1
         ],
         "title": {
          "text": "hospital_group"
         }
        },
        "yaxis": {
         "anchor": "x",
         "domain": [
          0,
          1
         ],
         "title": {
          "text": "total_patients"
         }
        }
       }
      },
      "text/html": [
       "<div>                            <div id=\"34acf1da-052e-42af-abf1-363499c77c90\" class=\"plotly-graph-div\" style=\"height:525px; width:100%;\"></div>            <script type=\"text/javascript\">                require([\"plotly\"], function(Plotly) {                    window.PLOTLYENV=window.PLOTLYENV || {};                                    if (document.getElementById(\"34acf1da-052e-42af-abf1-363499c77c90\")) {                    Plotly.newPlot(                        \"34acf1da-052e-42af-abf1-363499c77c90\",                        [{\"alignmentgroup\": \"True\", \"hovertemplate\": \"from_display_name=Podiatrist<br>hospital_group=%{x}<br>total_patients=%{y}<extra></extra>\", \"legendgroup\": \"Podiatrist\", \"marker\": {\"color\": \"#636efa\"}, \"name\": \"Podiatrist\", \"offsetgroup\": \"Podiatrist\", \"orientation\": \"v\", \"showlegend\": true, \"textposition\": \"auto\", \"type\": \"bar\", \"x\": [\"Vanderbilt University Medical Center\", \"Vanderbilt University Medical Center\", \"Williamson Medical Center\", \"Ascension Saint Thomas\", \"HCA\", \"Maury Regional Medical Center\", \"Vanderbilt University Medical Center\", \"Williamson Medical Center\", \"HCA\", \"Vanderbilt University Medical Center\", \"Ascension Saint Thomas\", \"HCA\", \"Vanderbilt University Medical Center\", \"Williamson Medical Center\", \"NorthCrest Medical Center\", \"Vanderbilt University Medical Center\", \"HCA\", \"HCA\", \"Vanderbilt University Medical Center\", \"HCA\", \"Maury Regional Medical Center\", \"Vanderbilt University Medical Center\", \"Williamson Medical Center\", \"Ascension Saint Thomas\", \"Vanderbilt University Medical Center\", \"HCA\", \"Vanderbilt University Medical Center\", \"HCA\", \"Vanderbilt University Medical Center\", \"Vanderbilt University Medical Center\"], \"xaxis\": \"x\", \"y\": [691, 74, 82, 45, 121, 45, 245, 409, 214, 59, 59, 48, 162, 175, 346, 71, 50, 76, 36, 92, 37, 74, 41, 142, 55, 79, 51, 61, 33, 166], \"yaxis\": \"y\"}, {\"alignmentgroup\": \"True\", \"hovertemplate\": \"from_display_name=Foot & Ankle Surgery Podiatrist<br>hospital_group=%{x}<br>total_patients=%{y}<extra></extra>\", \"legendgroup\": \"Foot & Ankle Surgery Podiatrist\", \"marker\": {\"color\": \"#EF553B\"}, \"name\": \"Foot & Ankle Surgery Podiatrist\", \"offsetgroup\": \"Foot & Ankle Surgery Podiatrist\", \"orientation\": \"v\", \"showlegend\": true, \"textposition\": \"auto\", \"type\": \"bar\", \"x\": [\"Vanderbilt University Medical Center\", \"Williamson Medical Center\", \"Vanderbilt University Medical Center\", \"HCA\", \"Macon County General Hospital\", \"Riverview Regional Medical Center\", \"Sumner Regional Medical Center\", \"Vanderbilt University Medical Center\", \"Sumner Regional Medical Center\", \"Vanderbilt University Medical Center\", \"Williamson Medical Center\", \"HCA\", \"Vanderbilt University Medical Center\", \"HCA\", \"Maury Regional Medical Center\", \"Vanderbilt University Medical Center\", \"Vanderbilt University Medical Center\", \"HCA\", \"Maury Regional Medical Center\", \"Vanderbilt University Medical Center\", \"Vanderbilt University Medical Center\", \"Williamson Medical Center\", \"Vanderbilt University Medical Center\", \"Ascension Saint Thomas\", \"HCA\", \"Vanderbilt University Medical Center\", \"Ascension Saint Thomas\", \"Vanderbilt University Medical Center\", \"Ascension Saint Thomas\", \"HCA\", \"Vanderbilt University Medical Center\", \"Ascension Saint Thomas\", \"HCA\", \"Vanderbilt University Medical Center\", \"Ascension Saint Thomas\", \"Vanderbilt University Medical Center\", \"Ascension Saint Thomas\", \"HCA\", \"Vanderbilt University Medical Center\", \"Vanderbilt University Medical Center\", \"Ascension Saint Thomas\", \"Vanderbilt University Medical Center\", \"Ascension Saint Thomas\", \"Vanderbilt University Medical Center\"], \"xaxis\": \"x\", \"y\": [98, 142, 96, 62, 34, 102, 264, 41, 40, 452, 70, 184, 45, 194, 135, 49, 47, 47, 70, 52, 98, 173, 467, 127, 195, 85, 66, 76, 120, 204, 78, 91, 156, 59, 74, 33, 80, 104, 48, 53, 296, 76, 138, 80], \"yaxis\": \"y\"}, {\"alignmentgroup\": \"True\", \"hovertemplate\": \"from_display_name=Foot Surgery Podiatrist<br>hospital_group=%{x}<br>total_patients=%{y}<extra></extra>\", \"legendgroup\": \"Foot Surgery Podiatrist\", \"marker\": {\"color\": \"#00cc96\"}, \"name\": \"Foot Surgery Podiatrist\", \"offsetgroup\": \"Foot Surgery Podiatrist\", \"orientation\": \"v\", \"showlegend\": true, \"textposition\": \"auto\", \"type\": \"bar\", \"x\": [\"HCA\", \"Vanderbilt University Medical Center\", \"Vanderbilt University Medical Center\"], \"xaxis\": \"x\", \"y\": [134, 46, 74], \"yaxis\": \"y\"}, {\"alignmentgroup\": \"True\", \"hovertemplate\": \"from_display_name=Primary Podiatric Medicine Podiatrist<br>hospital_group=%{x}<br>total_patients=%{y}<extra></extra>\", \"legendgroup\": \"Primary Podiatric Medicine Podiatrist\", \"marker\": {\"color\": \"#ab63fa\"}, \"name\": \"Primary Podiatric Medicine Podiatrist\", \"offsetgroup\": \"Primary Podiatric Medicine Podiatrist\", \"orientation\": \"v\", \"showlegend\": true, \"textposition\": \"auto\", \"type\": \"bar\", \"x\": [\"Ascension Saint Thomas\", \"HCA\", \"Vanderbilt University Medical Center\", \"Vanderbilt University Medical Center\", \"Maury Regional Medical Center\", \"HCA\", \"Vanderbilt University Medical Center\"], \"xaxis\": \"x\", \"y\": [213, 55, 60, 57, 132, 399, 133], \"yaxis\": \"y\"}],                        {\"barmode\": \"relative\", \"legend\": {\"title\": {\"text\": \"from_display_name\"}, \"tracegroupgap\": 0}, \"template\": {\"data\": {\"bar\": [{\"error_x\": {\"color\": \"#2a3f5f\"}, \"error_y\": {\"color\": \"#2a3f5f\"}, \"marker\": {\"line\": {\"color\": \"#E5ECF6\", \"width\": 0.5}}, \"type\": \"bar\"}], \"barpolar\": [{\"marker\": {\"line\": {\"color\": \"#E5ECF6\", \"width\": 0.5}}, \"type\": \"barpolar\"}], \"carpet\": [{\"aaxis\": {\"endlinecolor\": \"#2a3f5f\", \"gridcolor\": \"white\", \"linecolor\": \"white\", \"minorgridcolor\": \"white\", \"startlinecolor\": \"#2a3f5f\"}, \"baxis\": {\"endlinecolor\": \"#2a3f5f\", \"gridcolor\": \"white\", \"linecolor\": \"white\", \"minorgridcolor\": \"white\", \"startlinecolor\": \"#2a3f5f\"}, \"type\": \"carpet\"}], \"choropleth\": [{\"colorbar\": {\"outlinewidth\": 0, \"ticks\": \"\"}, \"type\": \"choropleth\"}], \"contour\": [{\"colorbar\": {\"outlinewidth\": 0, \"ticks\": \"\"}, \"colorscale\": [[0.0, \"#0d0887\"], [0.1111111111111111, \"#46039f\"], [0.2222222222222222, \"#7201a8\"], [0.3333333333333333, \"#9c179e\"], [0.4444444444444444, \"#bd3786\"], [0.5555555555555556, \"#d8576b\"], [0.6666666666666666, \"#ed7953\"], [0.7777777777777778, \"#fb9f3a\"], [0.8888888888888888, \"#fdca26\"], [1.0, \"#f0f921\"]], \"type\": \"contour\"}], \"contourcarpet\": [{\"colorbar\": {\"outlinewidth\": 0, \"ticks\": \"\"}, \"type\": \"contourcarpet\"}], \"heatmap\": [{\"colorbar\": {\"outlinewidth\": 0, \"ticks\": \"\"}, \"colorscale\": [[0.0, \"#0d0887\"], [0.1111111111111111, \"#46039f\"], [0.2222222222222222, \"#7201a8\"], [0.3333333333333333, \"#9c179e\"], [0.4444444444444444, \"#bd3786\"], [0.5555555555555556, \"#d8576b\"], [0.6666666666666666, \"#ed7953\"], [0.7777777777777778, \"#fb9f3a\"], [0.8888888888888888, \"#fdca26\"], [1.0, \"#f0f921\"]], \"type\": \"heatmap\"}], \"heatmapgl\": [{\"colorbar\": {\"outlinewidth\": 0, \"ticks\": \"\"}, \"colorscale\": [[0.0, \"#0d0887\"], [0.1111111111111111, \"#46039f\"], [0.2222222222222222, \"#7201a8\"], [0.3333333333333333, \"#9c179e\"], [0.4444444444444444, \"#bd3786\"], [0.5555555555555556, \"#d8576b\"], [0.6666666666666666, \"#ed7953\"], [0.7777777777777778, \"#fb9f3a\"], [0.8888888888888888, \"#fdca26\"], [1.0, \"#f0f921\"]], \"type\": \"heatmapgl\"}], \"histogram\": [{\"marker\": {\"colorbar\": {\"outlinewidth\": 0, \"ticks\": \"\"}}, \"type\": \"histogram\"}], \"histogram2d\": [{\"colorbar\": {\"outlinewidth\": 0, \"ticks\": \"\"}, \"colorscale\": [[0.0, \"#0d0887\"], [0.1111111111111111, \"#46039f\"], [0.2222222222222222, \"#7201a8\"], [0.3333333333333333, \"#9c179e\"], [0.4444444444444444, \"#bd3786\"], [0.5555555555555556, \"#d8576b\"], [0.6666666666666666, \"#ed7953\"], [0.7777777777777778, \"#fb9f3a\"], [0.8888888888888888, \"#fdca26\"], [1.0, \"#f0f921\"]], \"type\": \"histogram2d\"}], \"histogram2dcontour\": [{\"colorbar\": {\"outlinewidth\": 0, \"ticks\": \"\"}, \"colorscale\": [[0.0, \"#0d0887\"], [0.1111111111111111, \"#46039f\"], [0.2222222222222222, \"#7201a8\"], [0.3333333333333333, \"#9c179e\"], [0.4444444444444444, \"#bd3786\"], [0.5555555555555556, \"#d8576b\"], [0.6666666666666666, \"#ed7953\"], [0.7777777777777778, \"#fb9f3a\"], [0.8888888888888888, \"#fdca26\"], [1.0, \"#f0f921\"]], \"type\": \"histogram2dcontour\"}], \"mesh3d\": [{\"colorbar\": {\"outlinewidth\": 0, \"ticks\": \"\"}, \"type\": \"mesh3d\"}], \"parcoords\": [{\"line\": {\"colorbar\": {\"outlinewidth\": 0, \"ticks\": \"\"}}, \"type\": \"parcoords\"}], \"pie\": [{\"automargin\": true, \"type\": \"pie\"}], \"scatter\": [{\"marker\": {\"colorbar\": {\"outlinewidth\": 0, \"ticks\": \"\"}}, \"type\": \"scatter\"}], \"scatter3d\": [{\"line\": {\"colorbar\": {\"outlinewidth\": 0, \"ticks\": \"\"}}, \"marker\": {\"colorbar\": {\"outlinewidth\": 0, \"ticks\": \"\"}}, \"type\": \"scatter3d\"}], \"scattercarpet\": [{\"marker\": {\"colorbar\": {\"outlinewidth\": 0, \"ticks\": \"\"}}, \"type\": \"scattercarpet\"}], \"scattergeo\": [{\"marker\": {\"colorbar\": {\"outlinewidth\": 0, \"ticks\": \"\"}}, \"type\": \"scattergeo\"}], \"scattergl\": [{\"marker\": {\"colorbar\": {\"outlinewidth\": 0, \"ticks\": \"\"}}, \"type\": \"scattergl\"}], \"scattermapbox\": [{\"marker\": {\"colorbar\": {\"outlinewidth\": 0, \"ticks\": \"\"}}, \"type\": \"scattermapbox\"}], \"scatterpolar\": [{\"marker\": {\"colorbar\": {\"outlinewidth\": 0, \"ticks\": \"\"}}, \"type\": \"scatterpolar\"}], \"scatterpolargl\": [{\"marker\": {\"colorbar\": {\"outlinewidth\": 0, \"ticks\": \"\"}}, \"type\": \"scatterpolargl\"}], \"scatterternary\": [{\"marker\": {\"colorbar\": {\"outlinewidth\": 0, \"ticks\": \"\"}}, \"type\": \"scatterternary\"}], \"surface\": [{\"colorbar\": {\"outlinewidth\": 0, \"ticks\": \"\"}, \"colorscale\": [[0.0, \"#0d0887\"], [0.1111111111111111, \"#46039f\"], [0.2222222222222222, \"#7201a8\"], [0.3333333333333333, \"#9c179e\"], [0.4444444444444444, \"#bd3786\"], [0.5555555555555556, \"#d8576b\"], [0.6666666666666666, \"#ed7953\"], [0.7777777777777778, \"#fb9f3a\"], [0.8888888888888888, \"#fdca26\"], [1.0, \"#f0f921\"]], \"type\": \"surface\"}], \"table\": [{\"cells\": {\"fill\": {\"color\": \"#EBF0F8\"}, \"line\": {\"color\": \"white\"}}, \"header\": {\"fill\": {\"color\": \"#C8D4E3\"}, \"line\": {\"color\": \"white\"}}, \"type\": \"table\"}]}, \"layout\": {\"annotationdefaults\": {\"arrowcolor\": \"#2a3f5f\", \"arrowhead\": 0, \"arrowwidth\": 1}, \"coloraxis\": {\"colorbar\": {\"outlinewidth\": 0, \"ticks\": \"\"}}, \"colorscale\": {\"diverging\": [[0, \"#8e0152\"], [0.1, \"#c51b7d\"], [0.2, \"#de77ae\"], [0.3, \"#f1b6da\"], [0.4, \"#fde0ef\"], [0.5, \"#f7f7f7\"], [0.6, \"#e6f5d0\"], [0.7, \"#b8e186\"], [0.8, \"#7fbc41\"], [0.9, \"#4d9221\"], [1, \"#276419\"]], \"sequential\": [[0.0, \"#0d0887\"], [0.1111111111111111, \"#46039f\"], [0.2222222222222222, \"#7201a8\"], [0.3333333333333333, \"#9c179e\"], [0.4444444444444444, \"#bd3786\"], [0.5555555555555556, \"#d8576b\"], [0.6666666666666666, \"#ed7953\"], [0.7777777777777778, \"#fb9f3a\"], [0.8888888888888888, \"#fdca26\"], [1.0, \"#f0f921\"]], \"sequentialminus\": [[0.0, \"#0d0887\"], [0.1111111111111111, \"#46039f\"], [0.2222222222222222, \"#7201a8\"], [0.3333333333333333, \"#9c179e\"], [0.4444444444444444, \"#bd3786\"], [0.5555555555555556, \"#d8576b\"], [0.6666666666666666, \"#ed7953\"], [0.7777777777777778, \"#fb9f3a\"], [0.8888888888888888, \"#fdca26\"], [1.0, \"#f0f921\"]]}, \"colorway\": [\"#636efa\", \"#EF553B\", \"#00cc96\", \"#ab63fa\", \"#FFA15A\", \"#19d3f3\", \"#FF6692\", \"#B6E880\", \"#FF97FF\", \"#FECB52\"], \"font\": {\"color\": \"#2a3f5f\"}, \"geo\": {\"bgcolor\": \"white\", \"lakecolor\": \"white\", \"landcolor\": \"#E5ECF6\", \"showlakes\": true, \"showland\": true, \"subunitcolor\": \"white\"}, \"hoverlabel\": {\"align\": \"left\"}, \"hovermode\": \"closest\", \"mapbox\": {\"style\": \"light\"}, \"paper_bgcolor\": \"white\", \"plot_bgcolor\": \"#E5ECF6\", \"polar\": {\"angularaxis\": {\"gridcolor\": \"white\", \"linecolor\": \"white\", \"ticks\": \"\"}, \"bgcolor\": \"#E5ECF6\", \"radialaxis\": {\"gridcolor\": \"white\", \"linecolor\": \"white\", \"ticks\": \"\"}}, \"scene\": {\"xaxis\": {\"backgroundcolor\": \"#E5ECF6\", \"gridcolor\": \"white\", \"gridwidth\": 2, \"linecolor\": \"white\", \"showbackground\": true, \"ticks\": \"\", \"zerolinecolor\": \"white\"}, \"yaxis\": {\"backgroundcolor\": \"#E5ECF6\", \"gridcolor\": \"white\", \"gridwidth\": 2, \"linecolor\": \"white\", \"showbackground\": true, \"ticks\": \"\", \"zerolinecolor\": \"white\"}, \"zaxis\": {\"backgroundcolor\": \"#E5ECF6\", \"gridcolor\": \"white\", \"gridwidth\": 2, \"linecolor\": \"white\", \"showbackground\": true, \"ticks\": \"\", \"zerolinecolor\": \"white\"}}, \"shapedefaults\": {\"line\": {\"color\": \"#2a3f5f\"}}, \"ternary\": {\"aaxis\": {\"gridcolor\": \"white\", \"linecolor\": \"white\", \"ticks\": \"\"}, \"baxis\": {\"gridcolor\": \"white\", \"linecolor\": \"white\", \"ticks\": \"\"}, \"bgcolor\": \"#E5ECF6\", \"caxis\": {\"gridcolor\": \"white\", \"linecolor\": \"white\", \"ticks\": \"\"}}, \"title\": {\"x\": 0.05}, \"xaxis\": {\"automargin\": true, \"gridcolor\": \"white\", \"linecolor\": \"white\", \"ticks\": \"\", \"title\": {\"standoff\": 15}, \"zerolinecolor\": \"white\", \"zerolinewidth\": 2}, \"yaxis\": {\"automargin\": true, \"gridcolor\": \"white\", \"linecolor\": \"white\", \"ticks\": \"\", \"title\": {\"standoff\": 15}, \"zerolinecolor\": \"white\", \"zerolinewidth\": 2}}}, \"title\": {\"text\": \"Patient Volume by Sub-Speciality in Orthopedic Surgery & Hospital Group\"}, \"xaxis\": {\"anchor\": \"y\", \"domain\": [0.0, 1.0], \"title\": {\"text\": \"hospital_group\"}}, \"yaxis\": {\"anchor\": \"x\", \"domain\": [0.0, 1.0], \"title\": {\"text\": \"total_patients\"}}},                        {\"responsive\": true}                    ).then(function(){\n",
       "                            \n",
       "var gd = document.getElementById('34acf1da-052e-42af-abf1-363499c77c90');\n",
       "var x = new MutationObserver(function (mutations, observer) {{\n",
       "        var display = window.getComputedStyle(gd).display;\n",
       "        if (!display || display === 'none') {{\n",
       "            console.log([gd, 'removed!']);\n",
       "            Plotly.purge(gd);\n",
       "            observer.disconnect();\n",
       "        }}\n",
       "}});\n",
       "\n",
       "// Listen for the removal of the full notebook cells\n",
       "var notebookContainer = gd.closest('#notebook-container');\n",
       "if (notebookContainer) {{\n",
       "    x.observe(notebookContainer, {childList: true});\n",
       "}}\n",
       "\n",
       "// Listen for the clearing of the current output cell\n",
       "var outputEl = gd.closest('.output');\n",
       "if (outputEl) {{\n",
       "    x.observe(outputEl, {childList: true});\n",
       "}}\n",
       "\n",
       "                        })                };                });            </script>        </div>"
      ]
     },
     "metadata": {},
     "output_type": "display_data"
    }
   ],
   "source": [
    "df=pods\n",
    "fig = px.bar(df, \n",
    "             color='from_display_name', \n",
    "             x='hospital_group',\n",
    "             y='total_patients',\n",
    "            # facet_col='from_display_name', #facet_col_wrap=2,\n",
    "            title='Patient Volume by Sub-Speciality in Orthopedic Surgery & Hospital Group')\n",
    "fig.show()"
   ]
  },
  {
   "cell_type": "code",
   "execution_count": 129,
   "metadata": {},
   "outputs": [
    {
     "data": {
      "text/html": [
       "<div>\n",
       "<style scoped>\n",
       "    .dataframe tbody tr th:only-of-type {\n",
       "        vertical-align: middle;\n",
       "    }\n",
       "\n",
       "    .dataframe tbody tr th {\n",
       "        vertical-align: top;\n",
       "    }\n",
       "\n",
       "    .dataframe thead th {\n",
       "        text-align: right;\n",
       "    }\n",
       "</style>\n",
       "<table border=\"1\" class=\"dataframe\">\n",
       "  <thead>\n",
       "    <tr style=\"text-align: right;\">\n",
       "      <th></th>\n",
       "      <th>from_npi</th>\n",
       "      <th>from_physician</th>\n",
       "      <th>count_hospital_groups</th>\n",
       "      <th>non_vandy_pts</th>\n",
       "      <th>total_patients</th>\n",
       "      <th>pct_non_vandy</th>\n",
       "    </tr>\n",
       "  </thead>\n",
       "  <tbody>\n",
       "    <tr>\n",
       "      <th>0</th>\n",
       "      <td>1487680237</td>\n",
       "      <td>IRENE CAMPBELL</td>\n",
       "      <td>4</td>\n",
       "      <td>620</td>\n",
       "      <td>865</td>\n",
       "      <td>71.68</td>\n",
       "    </tr>\n",
       "    <tr>\n",
       "      <th>1</th>\n",
       "      <td>1558306217</td>\n",
       "      <td>DAVID TRENNER</td>\n",
       "      <td>2</td>\n",
       "      <td>110</td>\n",
       "      <td>562</td>\n",
       "      <td>19.57</td>\n",
       "    </tr>\n",
       "    <tr>\n",
       "      <th>2</th>\n",
       "      <td>1417952581</td>\n",
       "      <td>TOD BUSHMAN</td>\n",
       "      <td>1</td>\n",
       "      <td>399</td>\n",
       "      <td>532</td>\n",
       "      <td>75.00</td>\n",
       "    </tr>\n",
       "    <tr>\n",
       "      <th>3</th>\n",
       "      <td>1902015019</td>\n",
       "      <td>CHRISTOPHER FRAZIER</td>\n",
       "      <td>4</td>\n",
       "      <td>462</td>\n",
       "      <td>503</td>\n",
       "      <td>91.85</td>\n",
       "    </tr>\n",
       "    <tr>\n",
       "      <th>4</th>\n",
       "      <td>1598791790</td>\n",
       "      <td>KEITH OSORIO</td>\n",
       "      <td>3</td>\n",
       "      <td>282</td>\n",
       "      <td>444</td>\n",
       "      <td>63.51</td>\n",
       "    </tr>\n",
       "    <tr>\n",
       "      <th>5</th>\n",
       "      <td>1326047119</td>\n",
       "      <td>KEVIN DAVIS</td>\n",
       "      <td>1</td>\n",
       "      <td>346</td>\n",
       "      <td>417</td>\n",
       "      <td>82.97</td>\n",
       "    </tr>\n",
       "    <tr>\n",
       "      <th>6</th>\n",
       "      <td>1245214899</td>\n",
       "      <td>MARDON DAY</td>\n",
       "      <td>2</td>\n",
       "      <td>322</td>\n",
       "      <td>407</td>\n",
       "      <td>79.12</td>\n",
       "    </tr>\n",
       "    <tr>\n",
       "      <th>7</th>\n",
       "      <td>1841274404</td>\n",
       "      <td>MICHELE WHITTAKER</td>\n",
       "      <td>2</td>\n",
       "      <td>324</td>\n",
       "      <td>402</td>\n",
       "      <td>80.60</td>\n",
       "    </tr>\n",
       "    <tr>\n",
       "      <th>8</th>\n",
       "      <td>1285920108</td>\n",
       "      <td>TIMOTHY BUSH</td>\n",
       "      <td>1</td>\n",
       "      <td>296</td>\n",
       "      <td>372</td>\n",
       "      <td>79.57</td>\n",
       "    </tr>\n",
       "    <tr>\n",
       "      <th>9</th>\n",
       "      <td>1588606347</td>\n",
       "      <td>LAWRENCE BURNS</td>\n",
       "      <td>2</td>\n",
       "      <td>268</td>\n",
       "      <td>328</td>\n",
       "      <td>81.71</td>\n",
       "    </tr>\n",
       "    <tr>\n",
       "      <th>10</th>\n",
       "      <td>1619399540</td>\n",
       "      <td>NICHOLAS FUSSELL</td>\n",
       "      <td>2</td>\n",
       "      <td>247</td>\n",
       "      <td>306</td>\n",
       "      <td>80.72</td>\n",
       "    </tr>\n",
       "    <tr>\n",
       "      <th>11</th>\n",
       "      <td>1578665188</td>\n",
       "      <td>JAMES SUDBERRY</td>\n",
       "      <td>1</td>\n",
       "      <td>214</td>\n",
       "      <td>273</td>\n",
       "      <td>78.39</td>\n",
       "    </tr>\n",
       "    <tr>\n",
       "      <th>12</th>\n",
       "      <td>1114967684</td>\n",
       "      <td>JEFFREY POOLE</td>\n",
       "      <td>1</td>\n",
       "      <td>173</td>\n",
       "      <td>271</td>\n",
       "      <td>63.84</td>\n",
       "    </tr>\n",
       "    <tr>\n",
       "      <th>13</th>\n",
       "      <td>1053421941</td>\n",
       "      <td>ROBERT FRANKFATHER</td>\n",
       "      <td>3</td>\n",
       "      <td>170</td>\n",
       "      <td>244</td>\n",
       "      <td>69.67</td>\n",
       "    </tr>\n",
       "    <tr>\n",
       "      <th>14</th>\n",
       "      <td>1003855537</td>\n",
       "      <td>CAROLINE GANNON</td>\n",
       "      <td>1</td>\n",
       "      <td>142</td>\n",
       "      <td>240</td>\n",
       "      <td>59.17</td>\n",
       "    </tr>\n",
       "    <tr>\n",
       "      <th>15</th>\n",
       "      <td>1598749152</td>\n",
       "      <td>RICHELLE DAY</td>\n",
       "      <td>2</td>\n",
       "      <td>184</td>\n",
       "      <td>232</td>\n",
       "      <td>79.31</td>\n",
       "    </tr>\n",
       "    <tr>\n",
       "      <th>16</th>\n",
       "      <td>1164765798</td>\n",
       "      <td>ELIZABETH WAKEFIELD</td>\n",
       "      <td>1</td>\n",
       "      <td>184</td>\n",
       "      <td>229</td>\n",
       "      <td>80.35</td>\n",
       "    </tr>\n",
       "    <tr>\n",
       "      <th>17</th>\n",
       "      <td>1407845423</td>\n",
       "      <td>WILLIAM COHEN</td>\n",
       "      <td>1</td>\n",
       "      <td>138</td>\n",
       "      <td>218</td>\n",
       "      <td>63.30</td>\n",
       "    </tr>\n",
       "    <tr>\n",
       "      <th>18</th>\n",
       "      <td>1275515223</td>\n",
       "      <td>TRACY MERRELL</td>\n",
       "      <td>1</td>\n",
       "      <td>142</td>\n",
       "      <td>197</td>\n",
       "      <td>72.08</td>\n",
       "    </tr>\n",
       "    <tr>\n",
       "      <th>19</th>\n",
       "      <td>1992805220</td>\n",
       "      <td>GINA MENDOZA</td>\n",
       "      <td>1</td>\n",
       "      <td>194</td>\n",
       "      <td>194</td>\n",
       "      <td>100.00</td>\n",
       "    </tr>\n",
       "    <tr>\n",
       "      <th>20</th>\n",
       "      <td>1225384209</td>\n",
       "      <td>JAMIL HOSSAIN</td>\n",
       "      <td>1</td>\n",
       "      <td>135</td>\n",
       "      <td>184</td>\n",
       "      <td>73.37</td>\n",
       "    </tr>\n",
       "    <tr>\n",
       "      <th>21</th>\n",
       "      <td>1306825211</td>\n",
       "      <td>I RETIEF</td>\n",
       "      <td>1</td>\n",
       "      <td>134</td>\n",
       "      <td>180</td>\n",
       "      <td>74.44</td>\n",
       "    </tr>\n",
       "    <tr>\n",
       "      <th>22</th>\n",
       "      <td>1912219296</td>\n",
       "      <td>JEFFREY MITCHELL</td>\n",
       "      <td>2</td>\n",
       "      <td>117</td>\n",
       "      <td>169</td>\n",
       "      <td>69.23</td>\n",
       "    </tr>\n",
       "    <tr>\n",
       "      <th>23</th>\n",
       "      <td>1518078039</td>\n",
       "      <td>DAVID SONG</td>\n",
       "      <td>1</td>\n",
       "      <td>82</td>\n",
       "      <td>156</td>\n",
       "      <td>52.56</td>\n",
       "    </tr>\n",
       "    <tr>\n",
       "      <th>24</th>\n",
       "      <td>1821009721</td>\n",
       "      <td>ROBERT MACARTHUR</td>\n",
       "      <td>1</td>\n",
       "      <td>132</td>\n",
       "      <td>132</td>\n",
       "      <td>100.00</td>\n",
       "    </tr>\n",
       "    <tr>\n",
       "      <th>25</th>\n",
       "      <td>1871532333</td>\n",
       "      <td>VIJAY PAVULURI</td>\n",
       "      <td>1</td>\n",
       "      <td>79</td>\n",
       "      <td>130</td>\n",
       "      <td>60.77</td>\n",
       "    </tr>\n",
       "    <tr>\n",
       "      <th>26</th>\n",
       "      <td>1083660518</td>\n",
       "      <td>RAMESH PAVULURI</td>\n",
       "      <td>1</td>\n",
       "      <td>76</td>\n",
       "      <td>112</td>\n",
       "      <td>67.86</td>\n",
       "    </tr>\n",
       "    <tr>\n",
       "      <th>27</th>\n",
       "      <td>1174789929</td>\n",
       "      <td>RAYMOND GILES</td>\n",
       "      <td>1</td>\n",
       "      <td>74</td>\n",
       "      <td>107</td>\n",
       "      <td>69.16</td>\n",
       "    </tr>\n",
       "    <tr>\n",
       "      <th>28</th>\n",
       "      <td>1134145204</td>\n",
       "      <td>WILLIAM LAMBERT</td>\n",
       "      <td>1</td>\n",
       "      <td>61</td>\n",
       "      <td>94</td>\n",
       "      <td>64.89</td>\n",
       "    </tr>\n",
       "    <tr>\n",
       "      <th>29</th>\n",
       "      <td>1720303498</td>\n",
       "      <td>MEEGHAN GILES</td>\n",
       "      <td>1</td>\n",
       "      <td>66</td>\n",
       "      <td>66</td>\n",
       "      <td>100.00</td>\n",
       "    </tr>\n",
       "    <tr>\n",
       "      <th>30</th>\n",
       "      <td>1346239498</td>\n",
       "      <td>MATTHEW NEUHAUS</td>\n",
       "      <td>1</td>\n",
       "      <td>50</td>\n",
       "      <td>50</td>\n",
       "      <td>100.00</td>\n",
       "    </tr>\n",
       "  </tbody>\n",
       "</table>\n",
       "</div>"
      ],
      "text/plain": [
       "      from_npi       from_physician  count_hospital_groups  non_vandy_pts  \\\n",
       "0   1487680237  IRENE CAMPBELL       4                      620             \n",
       "1   1558306217  DAVID TRENNER        2                      110             \n",
       "2   1417952581  TOD BUSHMAN          1                      399             \n",
       "3   1902015019  CHRISTOPHER FRAZIER  4                      462             \n",
       "4   1598791790  KEITH OSORIO         3                      282             \n",
       "5   1326047119  KEVIN DAVIS          1                      346             \n",
       "6   1245214899  MARDON DAY           2                      322             \n",
       "7   1841274404  MICHELE WHITTAKER    2                      324             \n",
       "8   1285920108  TIMOTHY BUSH         1                      296             \n",
       "9   1588606347  LAWRENCE BURNS       2                      268             \n",
       "10  1619399540  NICHOLAS FUSSELL     2                      247             \n",
       "11  1578665188  JAMES SUDBERRY       1                      214             \n",
       "12  1114967684  JEFFREY POOLE        1                      173             \n",
       "13  1053421941  ROBERT FRANKFATHER   3                      170             \n",
       "14  1003855537  CAROLINE GANNON      1                      142             \n",
       "15  1598749152  RICHELLE DAY         2                      184             \n",
       "16  1164765798  ELIZABETH WAKEFIELD  1                      184             \n",
       "17  1407845423  WILLIAM COHEN        1                      138             \n",
       "18  1275515223  TRACY MERRELL        1                      142             \n",
       "19  1992805220  GINA MENDOZA         1                      194             \n",
       "20  1225384209  JAMIL HOSSAIN        1                      135             \n",
       "21  1306825211  I RETIEF             1                      134             \n",
       "22  1912219296  JEFFREY MITCHELL     2                      117             \n",
       "23  1518078039  DAVID SONG           1                      82              \n",
       "24  1821009721  ROBERT MACARTHUR     1                      132             \n",
       "25  1871532333  VIJAY PAVULURI       1                      79              \n",
       "26  1083660518  RAMESH PAVULURI      1                      76              \n",
       "27  1174789929  RAYMOND GILES        1                      74              \n",
       "28  1134145204  WILLIAM LAMBERT      1                      61              \n",
       "29  1720303498  MEEGHAN GILES        1                      66              \n",
       "30  1346239498  MATTHEW NEUHAUS      1                      50              \n",
       "\n",
       "    total_patients  pct_non_vandy  \n",
       "0   865             71.68          \n",
       "1   562             19.57          \n",
       "2   532             75.00          \n",
       "3   503             91.85          \n",
       "4   444             63.51          \n",
       "5   417             82.97          \n",
       "6   407             79.12          \n",
       "7   402             80.60          \n",
       "8   372             79.57          \n",
       "9   328             81.71          \n",
       "10  306             80.72          \n",
       "11  273             78.39          \n",
       "12  271             63.84          \n",
       "13  244             69.67          \n",
       "14  240             59.17          \n",
       "15  232             79.31          \n",
       "16  229             80.35          \n",
       "17  218             63.30          \n",
       "18  197             72.08          \n",
       "19  194             100.00         \n",
       "20  184             73.37          \n",
       "21  180             74.44          \n",
       "22  169             69.23          \n",
       "23  156             52.56          \n",
       "24  132             100.00         \n",
       "25  130             60.77          \n",
       "26  112             67.86          \n",
       "27  107             69.16          \n",
       "28  94              64.89          \n",
       "29  66              100.00         \n",
       "30  50              100.00         "
      ]
     },
     "execution_count": 129,
     "metadata": {},
     "output_type": "execute_result"
    }
   ],
   "source": [
    "db = sqlite3.connect('../data/nppes_lite.sqlite') #reopen the connection\n",
    "\n",
    "#select facility name where facility has to_grouping of 'Hospitals'\n",
    "query = \"\"\"\n",
    "WITH non_vandy_refs AS \n",
    "    (\n",
    "    SELECT\n",
    "          from_npi\n",
    "        , from_physician\n",
    "        , SUM(COUNT(DISTINCT(hospital_group))) OVER (PARTITION BY from_physician) AS count_hospital_groups --- number of hospital groups to which provider refers\n",
    "        , SUM(patient_count) AS non_vandy_pts\n",
    "    FROM hosp_refs\n",
    "    WHERE from_display_name IN ('Foot & Ankle Surgery Podiatrist',\n",
    "                             'Foot Surgery Podiatrist',\n",
    "                             'Podiatrist',\n",
    "                             'Primary Podiatric Medicine Podiatrist')\n",
    "    AND hospital_group <> 'Vanderbilt University Medical Center'\n",
    "    GROUP BY from_npi, from_physician\n",
    "    ),\n",
    "    \n",
    "all_refs AS \n",
    "    (\n",
    "    SELECT\n",
    "         from_npi\n",
    "        , from_physician\n",
    "        , SUM(patient_count) AS total_patients\n",
    "    FROM hosp_refs\n",
    "    WHERE from_display_name IN ('Foot & Ankle Surgery Podiatrist',\n",
    "                                'Foot Surgery Podiatrist',\n",
    "                                'Podiatrist',\n",
    "                                'Primary Podiatric Medicine Podiatrist')\n",
    "    GROUP BY from_npi, from_physician\n",
    "    )\n",
    "SELECT \n",
    "    all_refs.from_npi\n",
    "    , non_vandy_refs.from_physician\n",
    "    , count_hospital_groups\n",
    "    , non_vandy_pts\n",
    "    , total_patients\n",
    "    , ROUND(((non_vandy_pts*1.00)/total_patients)*100,2) AS pct_non_vandy\n",
    "FROM non_vandy_refs\n",
    "INNER JOIN all_refs\n",
    "ON non_vandy_refs.from_npi = all_refs.from_npi\n",
    "ORDER BY total_patients DESC\n",
    "\n",
    "---, non_vandy_refs.from_physician = all_refs.from_physician\n",
    "\"\"\"\n",
    "\n",
    "# SELECT d1, d2, sum(v)/sum(sum(v)) OVER (PARTITION BY d1) AS share\n",
    "#FROM   test\n",
    "#GROUP  BY d1, d2;                           \n",
    "\n",
    "pods= pd.read_sql(query,db)\n",
    "\n",
    "db.close()\n",
    "pods"
   ]
  },
  {
   "cell_type": "code",
   "execution_count": null,
   "metadata": {},
   "outputs": [],
   "source": [
    "import plotly.express as px\n",
    "df = pods\n",
    "fig = px.sunburst(df, path=['from_physician', 'time', 'sex'], values='total_bill')\n",
    "fig.show()"
   ]
  },
  {
   "cell_type": "code",
   "execution_count": null,
   "metadata": {},
   "outputs": [],
   "source": [
    "query = \"\"\"\n",
    "SELECT\n",
    "     from_npi\n",
    "    , from_physician\n",
    "    , SUM(COUNT(DISTINCT(hospital_group))) OVER (PARTITION BY from_physician) AS count_hospital_groups --- number of hospital groups to which provider refers\n",
    "    , SUM(patient_count) AS total_patients\n",
    "FROM hosp_refs\n",
    "WHERE from_display_name IN ('Foot & Ankle Surgery Podiatrist',\n",
    "                            'Foot Surgery Podiatrist',\n",
    "                            'Podiatrist',\n",
    "                            'Primary Podiatric Medicine Podiatrist')\n",
    "GROUP BY from_npi, from_physician\n",
    "ORDER BY total_patients DESC\n",
    "\"\"\""
   ]
  },
  {
   "cell_type": "code",
   "execution_count": 119,
   "metadata": {},
   "outputs": [
    {
     "data": {
      "text/plain": [
       "10343"
      ]
     },
     "execution_count": 119,
     "metadata": {},
     "output_type": "execute_result"
    }
   ],
   "source": [
    "pods.total_patients.sum()"
   ]
  },
  {
   "cell_type": "code",
   "execution_count": 120,
   "metadata": {},
   "outputs": [],
   "source": [
    "pods['market_share'] = (pods['total_patients'] / pods['total_patients'].sum()) * 100"
   ]
  },
  {
   "cell_type": "code",
   "execution_count": 121,
   "metadata": {},
   "outputs": [
    {
     "data": {
      "text/html": [
       "<div>\n",
       "<style scoped>\n",
       "    .dataframe tbody tr th:only-of-type {\n",
       "        vertical-align: middle;\n",
       "    }\n",
       "\n",
       "    .dataframe tbody tr th {\n",
       "        vertical-align: top;\n",
       "    }\n",
       "\n",
       "    .dataframe thead th {\n",
       "        text-align: right;\n",
       "    }\n",
       "</style>\n",
       "<table border=\"1\" class=\"dataframe\">\n",
       "  <thead>\n",
       "    <tr style=\"text-align: right;\">\n",
       "      <th></th>\n",
       "      <th>from_npi</th>\n",
       "      <th>from_physician</th>\n",
       "      <th>count_hospital_groups</th>\n",
       "      <th>total_patients</th>\n",
       "      <th>ROUND((patient_count*1.00)/SUM(patient_count),2)</th>\n",
       "      <th>market_share</th>\n",
       "    </tr>\n",
       "  </thead>\n",
       "  <tbody>\n",
       "    <tr>\n",
       "      <th>0</th>\n",
       "      <td>1487680237</td>\n",
       "      <td>IRENE CAMPBELL</td>\n",
       "      <td>5</td>\n",
       "      <td>865</td>\n",
       "      <td>0.08</td>\n",
       "      <td>8.363144</td>\n",
       "    </tr>\n",
       "    <tr>\n",
       "      <th>1</th>\n",
       "      <td>1952542698</td>\n",
       "      <td>ADAM HICKS</td>\n",
       "      <td>1</td>\n",
       "      <td>691</td>\n",
       "      <td>1.00</td>\n",
       "      <td>6.680847</td>\n",
       "    </tr>\n",
       "    <tr>\n",
       "      <th>2</th>\n",
       "      <td>1558306217</td>\n",
       "      <td>DAVID TRENNER</td>\n",
       "      <td>3</td>\n",
       "      <td>562</td>\n",
       "      <td>0.80</td>\n",
       "      <td>5.433627</td>\n",
       "    </tr>\n",
       "    <tr>\n",
       "      <th>3</th>\n",
       "      <td>1417952581</td>\n",
       "      <td>TOD BUSHMAN</td>\n",
       "      <td>2</td>\n",
       "      <td>532</td>\n",
       "      <td>0.10</td>\n",
       "      <td>5.143575</td>\n",
       "    </tr>\n",
       "    <tr>\n",
       "      <th>4</th>\n",
       "      <td>1902015019</td>\n",
       "      <td>CHRISTOPHER FRAZIER</td>\n",
       "      <td>5</td>\n",
       "      <td>503</td>\n",
       "      <td>0.12</td>\n",
       "      <td>4.863192</td>\n",
       "    </tr>\n",
       "    <tr>\n",
       "      <th>5</th>\n",
       "      <td>1780764779</td>\n",
       "      <td>KIRBY DEETER</td>\n",
       "      <td>1</td>\n",
       "      <td>467</td>\n",
       "      <td>1.00</td>\n",
       "      <td>4.515131</td>\n",
       "    </tr>\n",
       "    <tr>\n",
       "      <th>6</th>\n",
       "      <td>1598791790</td>\n",
       "      <td>KEITH OSORIO</td>\n",
       "      <td>4</td>\n",
       "      <td>444</td>\n",
       "      <td>0.11</td>\n",
       "      <td>4.292758</td>\n",
       "    </tr>\n",
       "    <tr>\n",
       "      <th>7</th>\n",
       "      <td>1326047119</td>\n",
       "      <td>KEVIN DAVIS</td>\n",
       "      <td>2</td>\n",
       "      <td>417</td>\n",
       "      <td>0.17</td>\n",
       "      <td>4.031712</td>\n",
       "    </tr>\n",
       "    <tr>\n",
       "      <th>8</th>\n",
       "      <td>1245214899</td>\n",
       "      <td>MARDON DAY</td>\n",
       "      <td>3</td>\n",
       "      <td>407</td>\n",
       "      <td>0.48</td>\n",
       "      <td>3.935029</td>\n",
       "    </tr>\n",
       "    <tr>\n",
       "      <th>9</th>\n",
       "      <td>1841274404</td>\n",
       "      <td>MICHELE WHITTAKER</td>\n",
       "      <td>3</td>\n",
       "      <td>402</td>\n",
       "      <td>0.51</td>\n",
       "      <td>3.886687</td>\n",
       "    </tr>\n",
       "    <tr>\n",
       "      <th>10</th>\n",
       "      <td>1285920108</td>\n",
       "      <td>TIMOTHY BUSH</td>\n",
       "      <td>2</td>\n",
       "      <td>372</td>\n",
       "      <td>0.20</td>\n",
       "      <td>3.596635</td>\n",
       "    </tr>\n",
       "    <tr>\n",
       "      <th>11</th>\n",
       "      <td>1588606347</td>\n",
       "      <td>LAWRENCE BURNS</td>\n",
       "      <td>3</td>\n",
       "      <td>328</td>\n",
       "      <td>0.17</td>\n",
       "      <td>3.171227</td>\n",
       "    </tr>\n",
       "    <tr>\n",
       "      <th>12</th>\n",
       "      <td>1619399540</td>\n",
       "      <td>NICHOLAS FUSSELL</td>\n",
       "      <td>3</td>\n",
       "      <td>306</td>\n",
       "      <td>0.51</td>\n",
       "      <td>2.958523</td>\n",
       "    </tr>\n",
       "    <tr>\n",
       "      <th>13</th>\n",
       "      <td>1578665188</td>\n",
       "      <td>JAMES SUDBERRY</td>\n",
       "      <td>2</td>\n",
       "      <td>273</td>\n",
       "      <td>0.22</td>\n",
       "      <td>2.639466</td>\n",
       "    </tr>\n",
       "    <tr>\n",
       "      <th>14</th>\n",
       "      <td>1114967684</td>\n",
       "      <td>JEFFREY POOLE</td>\n",
       "      <td>2</td>\n",
       "      <td>271</td>\n",
       "      <td>0.36</td>\n",
       "      <td>2.620130</td>\n",
       "    </tr>\n",
       "    <tr>\n",
       "      <th>15</th>\n",
       "      <td>1053421941</td>\n",
       "      <td>ROBERT FRANKFATHER</td>\n",
       "      <td>4</td>\n",
       "      <td>244</td>\n",
       "      <td>0.15</td>\n",
       "      <td>2.359083</td>\n",
       "    </tr>\n",
       "    <tr>\n",
       "      <th>16</th>\n",
       "      <td>1003855537</td>\n",
       "      <td>CAROLINE GANNON</td>\n",
       "      <td>2</td>\n",
       "      <td>240</td>\n",
       "      <td>0.41</td>\n",
       "      <td>2.320410</td>\n",
       "    </tr>\n",
       "    <tr>\n",
       "      <th>17</th>\n",
       "      <td>1598749152</td>\n",
       "      <td>RICHELLE DAY</td>\n",
       "      <td>3</td>\n",
       "      <td>232</td>\n",
       "      <td>0.45</td>\n",
       "      <td>2.243063</td>\n",
       "    </tr>\n",
       "    <tr>\n",
       "      <th>18</th>\n",
       "      <td>1164765798</td>\n",
       "      <td>ELIZABETH WAKEFIELD</td>\n",
       "      <td>2</td>\n",
       "      <td>229</td>\n",
       "      <td>0.55</td>\n",
       "      <td>2.214058</td>\n",
       "    </tr>\n",
       "    <tr>\n",
       "      <th>19</th>\n",
       "      <td>1407845423</td>\n",
       "      <td>WILLIAM COHEN</td>\n",
       "      <td>2</td>\n",
       "      <td>218</td>\n",
       "      <td>0.37</td>\n",
       "      <td>2.107706</td>\n",
       "    </tr>\n",
       "    <tr>\n",
       "      <th>20</th>\n",
       "      <td>1275515223</td>\n",
       "      <td>TRACY MERRELL</td>\n",
       "      <td>2</td>\n",
       "      <td>197</td>\n",
       "      <td>0.28</td>\n",
       "      <td>1.904670</td>\n",
       "    </tr>\n",
       "    <tr>\n",
       "      <th>21</th>\n",
       "      <td>1992805220</td>\n",
       "      <td>GINA MENDOZA</td>\n",
       "      <td>1</td>\n",
       "      <td>194</td>\n",
       "      <td>0.78</td>\n",
       "      <td>1.875665</td>\n",
       "    </tr>\n",
       "    <tr>\n",
       "      <th>22</th>\n",
       "      <td>1225384209</td>\n",
       "      <td>JAMIL HOSSAIN</td>\n",
       "      <td>2</td>\n",
       "      <td>184</td>\n",
       "      <td>0.73</td>\n",
       "      <td>1.778981</td>\n",
       "    </tr>\n",
       "    <tr>\n",
       "      <th>23</th>\n",
       "      <td>1306825211</td>\n",
       "      <td>I RETIEF</td>\n",
       "      <td>2</td>\n",
       "      <td>180</td>\n",
       "      <td>0.18</td>\n",
       "      <td>1.740307</td>\n",
       "    </tr>\n",
       "    <tr>\n",
       "      <th>24</th>\n",
       "      <td>1912219296</td>\n",
       "      <td>JEFFREY MITCHELL</td>\n",
       "      <td>3</td>\n",
       "      <td>169</td>\n",
       "      <td>0.41</td>\n",
       "      <td>1.633955</td>\n",
       "    </tr>\n",
       "    <tr>\n",
       "      <th>25</th>\n",
       "      <td>1588656664</td>\n",
       "      <td>YONG SUH</td>\n",
       "      <td>1</td>\n",
       "      <td>166</td>\n",
       "      <td>1.00</td>\n",
       "      <td>1.604950</td>\n",
       "    </tr>\n",
       "    <tr>\n",
       "      <th>26</th>\n",
       "      <td>1518078039</td>\n",
       "      <td>DAVID SONG</td>\n",
       "      <td>2</td>\n",
       "      <td>156</td>\n",
       "      <td>0.47</td>\n",
       "      <td>1.508266</td>\n",
       "    </tr>\n",
       "    <tr>\n",
       "      <th>27</th>\n",
       "      <td>1821009721</td>\n",
       "      <td>ROBERT MACARTHUR</td>\n",
       "      <td>1</td>\n",
       "      <td>132</td>\n",
       "      <td>1.00</td>\n",
       "      <td>1.276225</td>\n",
       "    </tr>\n",
       "    <tr>\n",
       "      <th>28</th>\n",
       "      <td>1871532333</td>\n",
       "      <td>VIJAY PAVULURI</td>\n",
       "      <td>2</td>\n",
       "      <td>130</td>\n",
       "      <td>0.61</td>\n",
       "      <td>1.256889</td>\n",
       "    </tr>\n",
       "    <tr>\n",
       "      <th>29</th>\n",
       "      <td>1083660518</td>\n",
       "      <td>RAMESH PAVULURI</td>\n",
       "      <td>2</td>\n",
       "      <td>112</td>\n",
       "      <td>0.68</td>\n",
       "      <td>1.082858</td>\n",
       "    </tr>\n",
       "    <tr>\n",
       "      <th>30</th>\n",
       "      <td>1174789929</td>\n",
       "      <td>RAYMOND GILES</td>\n",
       "      <td>2</td>\n",
       "      <td>107</td>\n",
       "      <td>0.31</td>\n",
       "      <td>1.034516</td>\n",
       "    </tr>\n",
       "    <tr>\n",
       "      <th>31</th>\n",
       "      <td>1205155850</td>\n",
       "      <td>CHRISTOPHER BENAC</td>\n",
       "      <td>1</td>\n",
       "      <td>96</td>\n",
       "      <td>1.00</td>\n",
       "      <td>0.928164</td>\n",
       "    </tr>\n",
       "    <tr>\n",
       "      <th>32</th>\n",
       "      <td>1134145204</td>\n",
       "      <td>WILLIAM LAMBERT</td>\n",
       "      <td>2</td>\n",
       "      <td>94</td>\n",
       "      <td>0.35</td>\n",
       "      <td>0.908827</td>\n",
       "    </tr>\n",
       "    <tr>\n",
       "      <th>33</th>\n",
       "      <td>1295762789</td>\n",
       "      <td>MELVIN WILLIAMS</td>\n",
       "      <td>1</td>\n",
       "      <td>76</td>\n",
       "      <td>1.00</td>\n",
       "      <td>0.734796</td>\n",
       "    </tr>\n",
       "    <tr>\n",
       "      <th>34</th>\n",
       "      <td>1538158340</td>\n",
       "      <td>MARK WRIGHT</td>\n",
       "      <td>1</td>\n",
       "      <td>74</td>\n",
       "      <td>1.00</td>\n",
       "      <td>0.715460</td>\n",
       "    </tr>\n",
       "    <tr>\n",
       "      <th>35</th>\n",
       "      <td>1720303498</td>\n",
       "      <td>MEEGHAN GILES</td>\n",
       "      <td>1</td>\n",
       "      <td>66</td>\n",
       "      <td>1.00</td>\n",
       "      <td>0.638113</td>\n",
       "    </tr>\n",
       "    <tr>\n",
       "      <th>36</th>\n",
       "      <td>1659460699</td>\n",
       "      <td>RICHARD BREEDEN</td>\n",
       "      <td>1</td>\n",
       "      <td>57</td>\n",
       "      <td>1.00</td>\n",
       "      <td>0.551097</td>\n",
       "    </tr>\n",
       "    <tr>\n",
       "      <th>37</th>\n",
       "      <td>1851445035</td>\n",
       "      <td>THERESE TLAPEK</td>\n",
       "      <td>1</td>\n",
       "      <td>53</td>\n",
       "      <td>1.00</td>\n",
       "      <td>0.512424</td>\n",
       "    </tr>\n",
       "    <tr>\n",
       "      <th>38</th>\n",
       "      <td>1346239498</td>\n",
       "      <td>MATTHEW NEUHAUS</td>\n",
       "      <td>1</td>\n",
       "      <td>50</td>\n",
       "      <td>1.00</td>\n",
       "      <td>0.483419</td>\n",
       "    </tr>\n",
       "    <tr>\n",
       "      <th>39</th>\n",
       "      <td>1033311196</td>\n",
       "      <td>JARED BRAMLETT</td>\n",
       "      <td>1</td>\n",
       "      <td>47</td>\n",
       "      <td>1.00</td>\n",
       "      <td>0.454414</td>\n",
       "    </tr>\n",
       "  </tbody>\n",
       "</table>\n",
       "</div>"
      ],
      "text/plain": [
       "      from_npi       from_physician  count_hospital_groups  total_patients  \\\n",
       "0   1487680237  IRENE CAMPBELL       5                      865              \n",
       "1   1952542698  ADAM HICKS           1                      691              \n",
       "2   1558306217  DAVID TRENNER        3                      562              \n",
       "3   1417952581  TOD BUSHMAN          2                      532              \n",
       "4   1902015019  CHRISTOPHER FRAZIER  5                      503              \n",
       "5   1780764779  KIRBY DEETER         1                      467              \n",
       "6   1598791790  KEITH OSORIO         4                      444              \n",
       "7   1326047119  KEVIN DAVIS          2                      417              \n",
       "8   1245214899  MARDON DAY           3                      407              \n",
       "9   1841274404  MICHELE WHITTAKER    3                      402              \n",
       "10  1285920108  TIMOTHY BUSH         2                      372              \n",
       "11  1588606347  LAWRENCE BURNS       3                      328              \n",
       "12  1619399540  NICHOLAS FUSSELL     3                      306              \n",
       "13  1578665188  JAMES SUDBERRY       2                      273              \n",
       "14  1114967684  JEFFREY POOLE        2                      271              \n",
       "15  1053421941  ROBERT FRANKFATHER   4                      244              \n",
       "16  1003855537  CAROLINE GANNON      2                      240              \n",
       "17  1598749152  RICHELLE DAY         3                      232              \n",
       "18  1164765798  ELIZABETH WAKEFIELD  2                      229              \n",
       "19  1407845423  WILLIAM COHEN        2                      218              \n",
       "20  1275515223  TRACY MERRELL        2                      197              \n",
       "21  1992805220  GINA MENDOZA         1                      194              \n",
       "22  1225384209  JAMIL HOSSAIN        2                      184              \n",
       "23  1306825211  I RETIEF             2                      180              \n",
       "24  1912219296  JEFFREY MITCHELL     3                      169              \n",
       "25  1588656664  YONG SUH             1                      166              \n",
       "26  1518078039  DAVID SONG           2                      156              \n",
       "27  1821009721  ROBERT MACARTHUR     1                      132              \n",
       "28  1871532333  VIJAY PAVULURI       2                      130              \n",
       "29  1083660518  RAMESH PAVULURI      2                      112              \n",
       "30  1174789929  RAYMOND GILES        2                      107              \n",
       "31  1205155850  CHRISTOPHER BENAC    1                      96               \n",
       "32  1134145204  WILLIAM LAMBERT      2                      94               \n",
       "33  1295762789  MELVIN WILLIAMS      1                      76               \n",
       "34  1538158340  MARK WRIGHT          1                      74               \n",
       "35  1720303498  MEEGHAN GILES        1                      66               \n",
       "36  1659460699  RICHARD BREEDEN      1                      57               \n",
       "37  1851445035  THERESE TLAPEK       1                      53               \n",
       "38  1346239498  MATTHEW NEUHAUS      1                      50               \n",
       "39  1033311196  JARED BRAMLETT       1                      47               \n",
       "\n",
       "    ROUND((patient_count*1.00)/SUM(patient_count),2)  market_share  \n",
       "0   0.08                                              8.363144      \n",
       "1   1.00                                              6.680847      \n",
       "2   0.80                                              5.433627      \n",
       "3   0.10                                              5.143575      \n",
       "4   0.12                                              4.863192      \n",
       "5   1.00                                              4.515131      \n",
       "6   0.11                                              4.292758      \n",
       "7   0.17                                              4.031712      \n",
       "8   0.48                                              3.935029      \n",
       "9   0.51                                              3.886687      \n",
       "10  0.20                                              3.596635      \n",
       "11  0.17                                              3.171227      \n",
       "12  0.51                                              2.958523      \n",
       "13  0.22                                              2.639466      \n",
       "14  0.36                                              2.620130      \n",
       "15  0.15                                              2.359083      \n",
       "16  0.41                                              2.320410      \n",
       "17  0.45                                              2.243063      \n",
       "18  0.55                                              2.214058      \n",
       "19  0.37                                              2.107706      \n",
       "20  0.28                                              1.904670      \n",
       "21  0.78                                              1.875665      \n",
       "22  0.73                                              1.778981      \n",
       "23  0.18                                              1.740307      \n",
       "24  0.41                                              1.633955      \n",
       "25  1.00                                              1.604950      \n",
       "26  0.47                                              1.508266      \n",
       "27  1.00                                              1.276225      \n",
       "28  0.61                                              1.256889      \n",
       "29  0.68                                              1.082858      \n",
       "30  0.31                                              1.034516      \n",
       "31  1.00                                              0.928164      \n",
       "32  0.35                                              0.908827      \n",
       "33  1.00                                              0.734796      \n",
       "34  1.00                                              0.715460      \n",
       "35  1.00                                              0.638113      \n",
       "36  1.00                                              0.551097      \n",
       "37  1.00                                              0.512424      \n",
       "38  1.00                                              0.483419      \n",
       "39  1.00                                              0.454414      "
      ]
     },
     "execution_count": 121,
     "metadata": {},
     "output_type": "execute_result"
    }
   ],
   "source": [
    "pods"
   ]
  },
  {
   "attachments": {
    "image.png": {
     "image/png": "[encoded data removed]"
    }
   },
   "cell_type": "markdown",
   "metadata": {},
   "source": [
    "![image.png](attachment:image.png)"
   ]
  },
  {
   "cell_type": "code",
   "execution_count": 24,
   "metadata": {},
   "outputs": [
    {
     "data": {
      "text/html": [
       "<div>\n",
       "<style scoped>\n",
       "    .dataframe tbody tr th:only-of-type {\n",
       "        vertical-align: middle;\n",
       "    }\n",
       "\n",
       "    .dataframe tbody tr th {\n",
       "        vertical-align: top;\n",
       "    }\n",
       "\n",
       "    .dataframe thead th {\n",
       "        text-align: right;\n",
       "    }\n",
       "</style>\n",
       "<table border=\"1\" class=\"dataframe\">\n",
       "  <thead>\n",
       "    <tr style=\"text-align: right;\">\n",
       "      <th></th>\n",
       "      <th>from_npi</th>\n",
       "      <th>to_npi</th>\n",
       "      <th>from_physician</th>\n",
       "      <th>to_facility</th>\n",
       "      <th>hospital_group</th>\n",
       "      <th>from_address</th>\n",
       "      <th>to_address</th>\n",
       "      <th>from_tax</th>\n",
       "      <th>to_tax</th>\n",
       "      <th>from_grouping</th>\n",
       "      <th>to_grouping</th>\n",
       "      <th>from_classification</th>\n",
       "      <th>to_classification</th>\n",
       "      <th>from_specialization</th>\n",
       "      <th>to_specialization</th>\n",
       "      <th>from_display_name</th>\n",
       "      <th>to_display_name</th>\n",
       "      <th>patient_count</th>\n",
       "      <th>transaction_count</th>\n",
       "      <th>average_day_wait</th>\n",
       "    </tr>\n",
       "  </thead>\n",
       "  <tbody>\n",
       "    <tr>\n",
       "      <th>0</th>\n",
       "      <td>1245214899</td>\n",
       "      <td>1023055126</td>\n",
       "      <td>MARDON DAY</td>\n",
       "      <td>Centennial Medical Center HCA</td>\n",
       "      <td>HCA</td>\n",
       "      <td>2400 PATTERSON ST</td>\n",
       "      <td>2300 PATTERSON ST</td>\n",
       "      <td>213ES0103X</td>\n",
       "      <td>282N00000X</td>\n",
       "      <td>Podiatric Medicine &amp; Surgery Service Providers</td>\n",
       "      <td>Hospitals</td>\n",
       "      <td>Podiatrist</td>\n",
       "      <td>General Acute Care Hospital</td>\n",
       "      <td>Foot &amp; Ankle Surgery</td>\n",
       "      <td>None</td>\n",
       "      <td>Foot &amp; Ankle Surgery Podiatrist</td>\n",
       "      <td>General Acute Care Hospital</td>\n",
       "      <td>195</td>\n",
       "      <td>311</td>\n",
       "      <td>28.698</td>\n",
       "    </tr>\n",
       "  </tbody>\n",
       "</table>\n",
       "</div>"
      ],
      "text/plain": [
       "     from_npi      to_npi from_physician                    to_facility  \\\n",
       "0  1245214899  1023055126  MARDON DAY     Centennial Medical Center HCA   \n",
       "\n",
       "  hospital_group       from_address         to_address    from_tax  \\\n",
       "0  HCA            2400 PATTERSON ST  2300 PATTERSON ST  213ES0103X   \n",
       "\n",
       "       to_tax                                   from_grouping to_grouping  \\\n",
       "0  282N00000X  Podiatric Medicine & Surgery Service Providers  Hospitals    \n",
       "\n",
       "  from_classification            to_classification   from_specialization  \\\n",
       "0  Podiatrist          General Acute Care Hospital  Foot & Ankle Surgery   \n",
       "\n",
       "  to_specialization                from_display_name  \\\n",
       "0  None              Foot & Ankle Surgery Podiatrist   \n",
       "\n",
       "               to_display_name  patient_count  transaction_count  \\\n",
       "0  General Acute Care Hospital  195            311                 \n",
       "\n",
       "   average_day_wait  \n",
       "0  28.698            "
      ]
     },
     "execution_count": 24,
     "metadata": {},
     "output_type": "execute_result"
    }
   ],
   "source": [
    "db = sqlite3.connect('../data/nppes_lite.sqlite') #reopen the connection\n",
    "\n",
    "#select facility name where facility has to_grouping of 'Hospitals'\n",
    "\n",
    "query = \"\"\"\n",
    "SELECT\n",
    "    *\n",
    "FROM hosp_refs\n",
    "WHERE from_display_name IN ('Foot & Ankle Surgery Podiatrist',\n",
    "                         'Foot Surgery Podiatrist',\n",
    "                         'Podiatrist',\n",
    "                         'Primary Podiatric Medicine Podiatrist')\n",
    "LIMIT 1\n",
    "\"\"\"\n",
    "#                            \n",
    "\n",
    "test= pd.read_sql(query,db)\n",
    "\n",
    "db.close()\n",
    "test"
   ]
  },
  {
   "cell_type": "markdown",
   "metadata": {},
   "source": [
    "### Scraps"
   ]
  },
  {
   "cell_type": "code",
   "execution_count": null,
   "metadata": {},
   "outputs": [],
   "source": [
    "WHERE from_grouping NOT IN ('Managed Care Organizations',\n",
    "                            'Nursing Service Providers',\n",
    "                            'Suppliers',\n",
    "                            'Transportation Services',\n",
    "                            'Managed Care Organizations',\n",
    "                            'Dental Providers',\n",
    "                            'Laboratories',\n",
    "                            'Physician Assistants & Advanced Practice Nursing Providers',\n",
    "                            'Student, Health Care'\n",
    "                            )\n",
    "AND from_classification NOT IN ('Radiology',\n",
    "                            'Pathology',\n",
    "                             'Anesthesiology',\n",
    "                           'Emergency Medicine',\n",
    "                             'Obstetrics & Gynecology',\n",
    "                             'Pediatrics',\n",
    "                             'Clinical Pharmacology',\n",
    "                             'Anesthesiologist Assistant')"
   ]
  }
 ],
 "metadata": {
  "kernelspec": {
   "display_name": "Python 3",
   "language": "python",
   "name": "python3"
  },
  "language_info": {
   "codemirror_mode": {
    "name": "ipython",
    "version": 3
   },
   "file_extension": ".py",
   "mimetype": "text/x-python",
   "name": "python",
   "nbconvert_exporter": "python",
   "pygments_lexer": "ipython3",
   "version": "3.8.3"
  }
 },
 "nbformat": 4,
 "nbformat_minor": 4
}
