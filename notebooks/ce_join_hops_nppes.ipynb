{
 "cells": [
  {
   "cell_type": "code",
   "execution_count": 1,
   "metadata": {},
   "outputs": [],
   "source": [
    "import pandas as pd\n",
    "import sqlite3\n",
    "from tqdm.notebook import tqdm"
   ]
  },
  {
   "cell_type": "code",
   "execution_count": 2,
   "metadata": {},
   "outputs": [],
   "source": [
    "pd.options.display.max_columns = None\n",
    "pd.options.display.max_rows = None"
   ]
  },
  {
   "cell_type": "code",
   "execution_count": 3,
   "metadata": {},
   "outputs": [],
   "source": [
    "db = sqlite3.connect('../data/nppes_lite.sqlite') #reopen the connection\n",
    "\n",
    "query = \"\"\"\n",
    "    SELECT *\n",
    "    FROM nash_nppes\n",
    "\"\"\"\n",
    "\n",
    "nash_nppes = pd.read_sql(query,db)"
   ]
  },
  {
   "cell_type": "code",
   "execution_count": 4,
   "metadata": {},
   "outputs": [],
   "source": [
    "db.close()"
   ]
  },
  {
   "cell_type": "code",
   "execution_count": 5,
   "metadata": {},
   "outputs": [
    {
     "name": "stdout",
     "output_type": "stream",
     "text": [
      "<class 'pandas.core.frame.DataFrame'>\n",
      "RangeIndex: 38148 entries, 0 to 38147\n",
      "Data columns (total 17 columns):\n",
      " #   Column               Non-Null Count  Dtype  \n",
      "---  ------               --------------  -----  \n",
      " 0   npi                  38148 non-null  int64  \n",
      " 1   entity_type_code     38148 non-null  float64\n",
      " 2   org_name             7466 non-null   object \n",
      " 3   last_name            30681 non-null  object \n",
      " 4   first_name           30682 non-null  object \n",
      " 5   middle_name          19790 non-null  object \n",
      " 6   name_prefix          11470 non-null  object \n",
      " 7   name_suffix          895 non-null    object \n",
      " 8   provider_credential  25175 non-null  object \n",
      " 9   address_1            38148 non-null  object \n",
      " 10  address_2            9877 non-null   object \n",
      " 11  city                 38148 non-null  object \n",
      " 12  state                38148 non-null  object \n",
      " 13  zip                  38148 non-null  object \n",
      " 14  taxonomy_code        38148 non-null  object \n",
      " 15  cbsa                 38148 non-null  int64  \n",
      " 16  tot_ratio            38148 non-null  float64\n",
      "dtypes: float64(2), int64(2), object(13)\n",
      "memory usage: 4.9+ MB\n"
     ]
    }
   ],
   "source": [
    "nash_nppes.info()"
   ]
  },
  {
   "cell_type": "code",
   "execution_count": 8,
   "metadata": {},
   "outputs": [],
   "source": [
    "db = sqlite3.connect('../data/nppes_lite.sqlite') #reopen the connection\n",
    "\n",
    "query = \"\"\"\n",
    "    SELECT COUNT(*)\n",
    "    FROM hop_team\n",
    "\"\"\"\n",
    "\n",
    "hop_team = pd.read_sql(query,db)\n",
    "\n",
    "db.close()"
   ]
  },
  {
   "cell_type": "code",
   "execution_count": 9,
   "metadata": {},
   "outputs": [
    {
     "data": {
      "text/html": [
       "<div>\n",
       "<style scoped>\n",
       "    .dataframe tbody tr th:only-of-type {\n",
       "        vertical-align: middle;\n",
       "    }\n",
       "\n",
       "    .dataframe tbody tr th {\n",
       "        vertical-align: top;\n",
       "    }\n",
       "\n",
       "    .dataframe thead th {\n",
       "        text-align: right;\n",
       "    }\n",
       "</style>\n",
       "<table border=\"1\" class=\"dataframe\">\n",
       "  <thead>\n",
       "    <tr style=\"text-align: right;\">\n",
       "      <th></th>\n",
       "      <th>COUNT(*)</th>\n",
       "    </tr>\n",
       "  </thead>\n",
       "  <tbody>\n",
       "    <tr>\n",
       "      <th>0</th>\n",
       "      <td>31704890</td>\n",
       "    </tr>\n",
       "  </tbody>\n",
       "</table>\n",
       "</div>"
      ],
      "text/plain": [
       "   COUNT(*)\n",
       "0  31704890"
      ]
     },
     "execution_count": 9,
     "metadata": {},
     "output_type": "execute_result"
    }
   ],
   "source": [
    "hop_team"
   ]
  },
  {
   "cell_type": "markdown",
   "metadata": {},
   "source": [
    "### How many records in the hop_team table overlap with NPI numbers in nash_nppes?"
   ]
  },
  {
   "cell_type": "code",
   "execution_count": 6,
   "metadata": {},
   "outputs": [],
   "source": [
    "db = sqlite3.connect('../data/nppes_lite.sqlite') #reopen the connection\n",
    "\n",
    "query = \"\"\"\n",
    "    SELECT COUNT(*)\n",
    "    FROM hop_team\n",
    "    WHERE from_npi IN(\n",
    "        SELECT DISTINCT(npi)\n",
    "        FROM nash_nppes)\n",
    "    AND to_npi IN(\n",
    "        SELECT DISTINCT(npi)\n",
    "        FROM nash_nppes)\n",
    "\"\"\"\n",
    "\n",
    "hops = pd.read_sql(query,db)\n",
    "\n",
    "db.close()"
   ]
  },
  {
   "cell_type": "code",
   "execution_count": 7,
   "metadata": {},
   "outputs": [
    {
     "data": {
      "text/html": [
       "<div>\n",
       "<style scoped>\n",
       "    .dataframe tbody tr th:only-of-type {\n",
       "        vertical-align: middle;\n",
       "    }\n",
       "\n",
       "    .dataframe tbody tr th {\n",
       "        vertical-align: top;\n",
       "    }\n",
       "\n",
       "    .dataframe thead th {\n",
       "        text-align: right;\n",
       "    }\n",
       "</style>\n",
       "<table border=\"1\" class=\"dataframe\">\n",
       "  <thead>\n",
       "    <tr style=\"text-align: right;\">\n",
       "      <th></th>\n",
       "      <th>COUNT(*)</th>\n",
       "    </tr>\n",
       "  </thead>\n",
       "  <tbody>\n",
       "    <tr>\n",
       "      <th>0</th>\n",
       "      <td>138493</td>\n",
       "    </tr>\n",
       "  </tbody>\n",
       "</table>\n",
       "</div>"
      ],
      "text/plain": [
       "   COUNT(*)\n",
       "0    138493"
      ]
     },
     "execution_count": 7,
     "metadata": {},
     "output_type": "execute_result"
    }
   ],
   "source": [
    "hops"
   ]
  },
  {
   "cell_type": "markdown",
   "metadata": {},
   "source": [
    "There are 214,316 records in hop_team where the 'from_npi' NPI code matches one in the nash_nppes table\n",
    "\n",
    "There are 214,080 records in hop_team where the 'to_npi' NPI code matches one in the nash_nppes table\n",
    "\n",
    "In total, there are 138,493 hop_team records where both the 'to' and 'from' NPIs are in the nash_nppes table"
   ]
  },
  {
   "cell_type": "markdown",
   "metadata": {},
   "source": [
    "### Add the filtered table to the database as 'nash_hops'"
   ]
  },
  {
   "cell_type": "code",
   "execution_count": 8,
   "metadata": {},
   "outputs": [],
   "source": [
    "db = sqlite3.connect('../data/nppes_lite.sqlite') #reopen the connection\n",
    "\n",
    "query = \"\"\"\n",
    "    SELECT *\n",
    "    FROM hop_team\n",
    "    WHERE from_npi IN(\n",
    "        SELECT DISTINCT(npi)\n",
    "        FROM nash_nppes)\n",
    "    AND to_npi IN(\n",
    "        SELECT DISTINCT(npi)\n",
    "        FROM nash_nppes)\n",
    "\"\"\"\n",
    "\n",
    "nash_hops = pd.read_sql(query,db)\n",
    "\n",
    "db.close()"
   ]
  },
  {
   "cell_type": "code",
   "execution_count": 9,
   "metadata": {},
   "outputs": [
    {
     "name": "stdout",
     "output_type": "stream",
     "text": [
      "<class 'pandas.core.frame.DataFrame'>\n",
      "RangeIndex: 138493 entries, 0 to 138492\n",
      "Data columns (total 6 columns):\n",
      " #   Column             Non-Null Count   Dtype  \n",
      "---  ------             --------------   -----  \n",
      " 0   from_npi           138493 non-null  int64  \n",
      " 1   to_npi             138493 non-null  int64  \n",
      " 2   patient_count      138493 non-null  int64  \n",
      " 3   transaction_count  138493 non-null  int64  \n",
      " 4   average_day_wait   138493 non-null  float64\n",
      " 5   std_day_wait       138493 non-null  float64\n",
      "dtypes: float64(2), int64(4)\n",
      "memory usage: 6.3 MB\n"
     ]
    }
   ],
   "source": [
    "nash_hops.info()"
   ]
  },
  {
   "cell_type": "code",
   "execution_count": 10,
   "metadata": {},
   "outputs": [],
   "source": [
    "db = sqlite3.connect('../data/nppes_lite.sqlite') #open connection\n",
    "\n",
    "nash_hops.to_sql('nash_hops', db, if_exists = 'append', index = False) #save nash_hops data\n",
    "\n",
    "db.close() #close connection"
   ]
  },
  {
   "cell_type": "code",
   "execution_count": null,
   "metadata": {},
   "outputs": [],
   "source": []
  },
  {
   "cell_type": "code",
   "execution_count": null,
   "metadata": {},
   "outputs": [],
   "source": []
  },
  {
   "cell_type": "code",
   "execution_count": null,
   "metadata": {},
   "outputs": [],
   "source": []
  },
  {
   "cell_type": "code",
   "execution_count": null,
   "metadata": {},
   "outputs": [],
   "source": []
  },
  {
   "cell_type": "code",
   "execution_count": null,
   "metadata": {},
   "outputs": [],
   "source": []
  }
 ],
 "metadata": {
  "kernelspec": {
   "display_name": "Python 3",
   "language": "python",
   "name": "python3"
  },
  "language_info": {
   "codemirror_mode": {
    "name": "ipython",
    "version": 3
   },
   "file_extension": ".py",
   "mimetype": "text/x-python",
   "name": "python",
   "nbconvert_exporter": "python",
   "pygments_lexer": "ipython3",
   "version": "3.8.3"
  }
 },
 "nbformat": 4,
 "nbformat_minor": 4
}
