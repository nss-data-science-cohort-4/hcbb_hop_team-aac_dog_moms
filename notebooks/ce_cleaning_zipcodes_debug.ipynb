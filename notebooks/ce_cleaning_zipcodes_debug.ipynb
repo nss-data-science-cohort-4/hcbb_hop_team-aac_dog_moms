{
 "cells": [
  {
   "cell_type": "code",
   "execution_count": 15,
   "metadata": {},
   "outputs": [],
   "source": [
    "import pandas as pd\n",
    "import sqlite3\n",
    "import sys"
   ]
  },
  {
   "cell_type": "code",
   "execution_count": 2,
   "metadata": {},
   "outputs": [],
   "source": [
    "pd.options.display.max_columns = None\n",
    "pd.options.display.max_rows = None"
   ]
  },
  {
   "cell_type": "markdown",
   "metadata": {},
   "source": [
    "### Pull in zip_cbsa table"
   ]
  },
  {
   "cell_type": "code",
   "execution_count": 3,
   "metadata": {},
   "outputs": [],
   "source": [
    "db = sqlite3.connect('../data/nppes_lite.sqlite')\n",
    "\n",
    "query = \"\"\"\n",
    "SELECT * \n",
    "FROM zip_cbsa\n",
    "\"\"\"\n",
    "zip_cbsa = pd.read_sql(query,db)\n",
    "\n",
    "db.close()"
   ]
  },
  {
   "cell_type": "code",
   "execution_count": 4,
   "metadata": {},
   "outputs": [
    {
     "name": "stdout",
     "output_type": "stream",
     "text": [
      "<class 'pandas.core.frame.DataFrame'>\n",
      "RangeIndex: 47424 entries, 0 to 47423\n",
      "Data columns (total 6 columns):\n",
      " #   Column     Non-Null Count  Dtype  \n",
      "---  ------     --------------  -----  \n",
      " 0   zip        47424 non-null  object \n",
      " 1   cbsa       47424 non-null  int64  \n",
      " 2   res_ratio  47424 non-null  float64\n",
      " 3   bus_ratio  47424 non-null  float64\n",
      " 4   oth_ratio  47424 non-null  float64\n",
      " 5   tot_ratio  47424 non-null  float64\n",
      "dtypes: float64(4), int64(1), object(1)\n",
      "memory usage: 2.2+ MB\n"
     ]
    }
   ],
   "source": [
    "zip_cbsa.info()"
   ]
  },
  {
   "cell_type": "code",
   "execution_count": 5,
   "metadata": {},
   "outputs": [],
   "source": [
    "#drop unecessary columns\n",
    "zip_cbsa = zip_cbsa.drop([\"res_ratio\", \"bus_ratio\", \"oth_ratio\"], axis=1)"
   ]
  },
  {
   "cell_type": "code",
   "execution_count": 6,
   "metadata": {},
   "outputs": [],
   "source": [
    "# sort records by zip and zip ratio\n",
    "zip_cbsa = zip_cbsa.sort_values(['zip', 'tot_ratio'], \n",
    "                                ascending=[False, False])"
   ]
  },
  {
   "cell_type": "code",
   "execution_count": 7,
   "metadata": {},
   "outputs": [],
   "source": [
    "#where a given zip code is in multiple CBSAs\n",
    "#keep only the zip CBSA records with the greatest % of that zip\n",
    "zip_cbsa = zip_cbsa.drop_duplicates(subset='zip', keep='first')"
   ]
  },
  {
   "cell_type": "code",
   "execution_count": 36,
   "metadata": {},
   "outputs": [
    {
     "name": "stdout",
     "output_type": "stream",
     "text": [
      "<class 'pandas.core.frame.DataFrame'>\n",
      "Int64Index: 39451 entries, 47423 to 0\n",
      "Data columns (total 3 columns):\n",
      " #   Column     Non-Null Count  Dtype  \n",
      "---  ------     --------------  -----  \n",
      " 0   zip        39451 non-null  object \n",
      " 1   cbsa       39451 non-null  int64  \n",
      " 2   tot_ratio  39451 non-null  float64\n",
      "dtypes: float64(1), int64(1), object(1)\n",
      "memory usage: 1.2+ MB\n"
     ]
    }
   ],
   "source": [
    "zip_cbsa.info()"
   ]
  },
  {
   "cell_type": "markdown",
   "metadata": {},
   "source": [
    "### Pull in nppes table"
   ]
  },
  {
   "cell_type": "code",
   "execution_count": 46,
   "metadata": {},
   "outputs": [
    {
     "data": {
      "text/plain": [
       "array(['CREATE TABLE \"nppes\" (\\n\"npi\" INTEGER,\\n  \"entity_type_code\" REAL,\\n  \"org_name\" TEXT,\\n  \"last_name\" TEXT,\\n  \"first_name\" TEXT,\\n  \"middle_name\" TEXT,\\n  \"name_prefix\" TEXT,\\n  \"name_suffix\" TEXT,\\n  \"provider_credential\" TEXT,\\n  \"address_1\" TEXT,\\n  \"address_2\" TEXT,\\n  \"city\" TEXT,\\n  \"state\" TEXT,\\n  \"zip\" REAL,\\n  \"taxonomy_code\" TEXT\\n)'],\n",
       "      dtype=object)"
      ]
     },
     "execution_count": 46,
     "metadata": {},
     "output_type": "execute_result"
    }
   ],
   "source": [
    "#query= \"\"\"\n",
    "#    SELECT sql \n",
    "#    FROM sqlite_master \n",
    "#    WHERE name = 'nppes'\n",
    "#    \"\"\"\n",
    "nppes_info.sql.unique()"
   ]
  },
  {
   "cell_type": "code",
   "execution_count": 10,
   "metadata": {},
   "outputs": [],
   "source": [
    "db = sqlite3.connect('../data/nppes_lite.sqlite') #reopen the connection\n",
    "\n",
    "query = \"\"\"\n",
    "SELECT * \n",
    "FROM nppes\n",
    "\"\"\"\n",
    "nppes = pd.read_sql(query,db)\n",
    "\n",
    "db.close()"
   ]
  },
  {
   "cell_type": "code",
   "execution_count": 13,
   "metadata": {},
   "outputs": [
    {
     "data": {
      "text/plain": [
       "114423    371865060.0\n",
       "113075    372032504.0\n",
       "9497      381343895.0\n",
       "34947     381053678.0\n",
       "45794         37909.0\n",
       "Name: zip, dtype: float64"
      ]
     },
     "execution_count": 13,
     "metadata": {},
     "output_type": "execute_result"
    }
   ],
   "source": [
    "#Random sample of 5 zip codes from table.\n",
    "#Records will have either 5 or 9 digit zip codes.\n",
    "nppes.zip.sample(5)"
   ]
  },
  {
   "cell_type": "code",
   "execution_count": 116,
   "metadata": {},
   "outputs": [],
   "source": [
    "#change column from float to string & keep only the first 5 characters\n",
    "nppes['zip'] = nppes['zip'].astype(str).str[:5]"
   ]
  },
  {
   "cell_type": "code",
   "execution_count": 120,
   "metadata": {},
   "outputs": [
    {
     "name": "stdout",
     "output_type": "stream",
     "text": [
      "<class 'pandas.core.frame.DataFrame'>\n",
      "RangeIndex: 115486 entries, 0 to 115485\n",
      "Data columns (total 15 columns):\n",
      " #   Column               Non-Null Count   Dtype  \n",
      "---  ------               --------------   -----  \n",
      " 0   npi                  115486 non-null  int64  \n",
      " 1   entity_type_code     115486 non-null  float64\n",
      " 2   org_name             24501 non-null   object \n",
      " 3   last_name            90982 non-null   object \n",
      " 4   first_name           90985 non-null   object \n",
      " 5   middle_name          62237 non-null   object \n",
      " 6   name_prefix          34723 non-null   object \n",
      " 7   name_suffix          2915 non-null    object \n",
      " 8   provider_credential  74398 non-null   object \n",
      " 9   address_1            115486 non-null  object \n",
      " 10  address_2            26571 non-null   object \n",
      " 11  city                 115486 non-null  object \n",
      " 12  state                115486 non-null  object \n",
      " 13  zip                  115486 non-null  object \n",
      " 14  taxonomy_code        115486 non-null  object \n",
      "dtypes: float64(1), int64(1), object(13)\n",
      "memory usage: 13.2+ MB\n"
     ]
    }
   ],
   "source": [
    "nppes.info()"
   ]
  },
  {
   "cell_type": "code",
   "execution_count": 122,
   "metadata": {},
   "outputs": [
    {
     "data": {
      "text/html": [
       "<div>\n",
       "<style scoped>\n",
       "    .dataframe tbody tr th:only-of-type {\n",
       "        vertical-align: middle;\n",
       "    }\n",
       "\n",
       "    .dataframe tbody tr th {\n",
       "        vertical-align: top;\n",
       "    }\n",
       "\n",
       "    .dataframe thead th {\n",
       "        text-align: right;\n",
       "    }\n",
       "</style>\n",
       "<table border=\"1\" class=\"dataframe\">\n",
       "  <thead>\n",
       "    <tr style=\"text-align: right;\">\n",
       "      <th></th>\n",
       "      <th>npi</th>\n",
       "      <th>entity_type_code</th>\n",
       "      <th>org_name</th>\n",
       "      <th>last_name</th>\n",
       "      <th>first_name</th>\n",
       "      <th>middle_name</th>\n",
       "      <th>name_prefix</th>\n",
       "      <th>name_suffix</th>\n",
       "      <th>provider_credential</th>\n",
       "      <th>address_1</th>\n",
       "      <th>address_2</th>\n",
       "      <th>city</th>\n",
       "      <th>state</th>\n",
       "      <th>zip</th>\n",
       "      <th>taxonomy_code</th>\n",
       "    </tr>\n",
       "  </thead>\n",
       "  <tbody>\n",
       "    <tr>\n",
       "      <th>77605</th>\n",
       "      <td>1801348982</td>\n",
       "      <td>1.0</td>\n",
       "      <td>None</td>\n",
       "      <td>MILLER</td>\n",
       "      <td>VALERIE</td>\n",
       "      <td>JEAN</td>\n",
       "      <td>MRS.</td>\n",
       "      <td>None</td>\n",
       "      <td>FNP</td>\n",
       "      <td>11416 GRIGSBY CHAPEL RD STE 104</td>\n",
       "      <td>None</td>\n",
       "      <td>KNOXVILLE</td>\n",
       "      <td>TN</td>\n",
       "      <td>37934</td>\n",
       "      <td>363LF0000X</td>\n",
       "    </tr>\n",
       "    <tr>\n",
       "      <th>67892</th>\n",
       "      <td>1194127902</td>\n",
       "      <td>1.0</td>\n",
       "      <td>None</td>\n",
       "      <td>WILLOUGHBY</td>\n",
       "      <td>ANESA</td>\n",
       "      <td>R.</td>\n",
       "      <td>None</td>\n",
       "      <td>None</td>\n",
       "      <td>FNP-C</td>\n",
       "      <td>166 E MAIN ST</td>\n",
       "      <td>None</td>\n",
       "      <td>HENDERSONVILLE</td>\n",
       "      <td>TN</td>\n",
       "      <td>37075</td>\n",
       "      <td>363LF0000X</td>\n",
       "    </tr>\n",
       "  </tbody>\n",
       "</table>\n",
       "</div>"
      ],
      "text/plain": [
       "              npi  entity_type_code org_name   last_name first_name  \\\n",
       "77605  1801348982               1.0     None      MILLER    VALERIE   \n",
       "67892  1194127902               1.0     None  WILLOUGHBY      ANESA   \n",
       "\n",
       "      middle_name name_prefix name_suffix provider_credential  \\\n",
       "77605        JEAN        MRS.        None                 FNP   \n",
       "67892          R.        None        None               FNP-C   \n",
       "\n",
       "                             address_1 address_2            city state    zip  \\\n",
       "77605  11416 GRIGSBY CHAPEL RD STE 104      None       KNOXVILLE    TN  37934   \n",
       "67892                    166 E MAIN ST      None  HENDERSONVILLE    TN  37075   \n",
       "\n",
       "      taxonomy_code  \n",
       "77605    363LF0000X  \n",
       "67892    363LF0000X  "
      ]
     },
     "execution_count": 122,
     "metadata": {},
     "output_type": "execute_result"
    }
   ],
   "source": [
    "nppes.sample(2)"
   ]
  },
  {
   "cell_type": "markdown",
   "metadata": {},
   "source": [
    "### Merge nppes and zip_cbsa dataframes, filter for Nashville CBSA"
   ]
  },
  {
   "cell_type": "code",
   "execution_count": 117,
   "metadata": {},
   "outputs": [
    {
     "name": "stdout",
     "output_type": "stream",
     "text": [
      "<class 'pandas.core.frame.DataFrame'>\n",
      "Int64Index: 114907 entries, 0 to 114906\n",
      "Data columns (total 17 columns):\n",
      " #   Column               Non-Null Count   Dtype  \n",
      "---  ------               --------------   -----  \n",
      " 0   npi                  114907 non-null  int64  \n",
      " 1   entity_type_code     114907 non-null  float64\n",
      " 2   org_name             24481 non-null   object \n",
      " 3   last_name            90423 non-null   object \n",
      " 4   first_name           90426 non-null   object \n",
      " 5   middle_name          61882 non-null   object \n",
      " 6   name_prefix          34498 non-null   object \n",
      " 7   name_suffix          2904 non-null    object \n",
      " 8   provider_credential  73963 non-null   object \n",
      " 9   address_1            114907 non-null  object \n",
      " 10  address_2            26314 non-null   object \n",
      " 11  city                 114907 non-null  object \n",
      " 12  state                114907 non-null  object \n",
      " 13  zip                  114907 non-null  object \n",
      " 14  taxonomy_code        114907 non-null  object \n",
      " 15  cbsa                 114907 non-null  int64  \n",
      " 16  tot_ratio            114907 non-null  float64\n",
      "dtypes: float64(2), int64(2), object(13)\n",
      "memory usage: 15.8+ MB\n"
     ]
    }
   ],
   "source": [
    "nppes_cbsa = nppes.merge(zip_cbsa, on=\"zip\")\n",
    "\n",
    "nppes_cbsa.info()"
   ]
  },
  {
   "cell_type": "code",
   "execution_count": 118,
   "metadata": {},
   "outputs": [
    {
     "data": {
      "text/plain": [
       "110"
      ]
     },
     "execution_count": 118,
     "metadata": {},
     "output_type": "execute_result"
    }
   ],
   "source": [
    "#filter for Nashville CBSA code\n",
    "nppes_cbsa[nppes_cbsa.cbsa==34980].zip.nunique()"
   ]
  },
  {
   "cell_type": "code",
   "execution_count": 119,
   "metadata": {},
   "outputs": [],
   "source": [
    "nash_nppes=nppes_cbsa[nppes_cbsa.cbsa==34980]"
   ]
  },
  {
   "cell_type": "markdown",
   "metadata": {},
   "source": [
    "#### Save nash_nppes as table in database"
   ]
  },
  {
   "cell_type": "code",
   "execution_count": 123,
   "metadata": {},
   "outputs": [],
   "source": [
    "db = sqlite3.connect('../data/nppes_lite.sqlite') #open connection\n",
    "\n",
    "nash_nppes.to_sql('nash_nppes', db, if_exists = 'append', index = False) #save nashville CBSA nppes\n",
    "\n",
    "db.close() #close connection"
   ]
  },
  {
   "cell_type": "markdown",
   "metadata": {},
   "source": [
    "#### Verify table data"
   ]
  },
  {
   "cell_type": "code",
   "execution_count": 126,
   "metadata": {},
   "outputs": [
    {
     "data": {
      "text/plain": [
       "<function Connection.close>"
      ]
     },
     "execution_count": 126,
     "metadata": {},
     "output_type": "execute_result"
    }
   ],
   "source": [
    "db = sqlite3.connect('../data/nppes_lite.sqlite') #reopen the connection\n",
    "\n",
    "query= \"\"\"\n",
    "    SELECT *\n",
    "    FROM nash_nppes\n",
    "    LIMIT 10\n",
    "    \"\"\"\n",
    "nash_nppes = pd.read_sql(query,db)\n",
    "\n",
    "db.close"
   ]
  },
  {
   "cell_type": "code",
   "execution_count": 127,
   "metadata": {},
   "outputs": [
    {
     "data": {
      "text/html": [
       "<div>\n",
       "<style scoped>\n",
       "    .dataframe tbody tr th:only-of-type {\n",
       "        vertical-align: middle;\n",
       "    }\n",
       "\n",
       "    .dataframe tbody tr th {\n",
       "        vertical-align: top;\n",
       "    }\n",
       "\n",
       "    .dataframe thead th {\n",
       "        text-align: right;\n",
       "    }\n",
       "</style>\n",
       "<table border=\"1\" class=\"dataframe\">\n",
       "  <thead>\n",
       "    <tr style=\"text-align: right;\">\n",
       "      <th></th>\n",
       "      <th>npi</th>\n",
       "      <th>entity_type_code</th>\n",
       "      <th>org_name</th>\n",
       "      <th>last_name</th>\n",
       "      <th>first_name</th>\n",
       "      <th>middle_name</th>\n",
       "      <th>name_prefix</th>\n",
       "      <th>name_suffix</th>\n",
       "      <th>provider_credential</th>\n",
       "      <th>address_1</th>\n",
       "      <th>address_2</th>\n",
       "      <th>city</th>\n",
       "      <th>state</th>\n",
       "      <th>zip</th>\n",
       "      <th>taxonomy_code</th>\n",
       "      <th>cbsa</th>\n",
       "      <th>tot_ratio</th>\n",
       "    </tr>\n",
       "  </thead>\n",
       "  <tbody>\n",
       "    <tr>\n",
       "      <th>0</th>\n",
       "      <td>1134122187</td>\n",
       "      <td>1.0</td>\n",
       "      <td>None</td>\n",
       "      <td>RUDNICKE</td>\n",
       "      <td>CHERYL</td>\n",
       "      <td>DENISE</td>\n",
       "      <td>MRS.</td>\n",
       "      <td>None</td>\n",
       "      <td>CRNP</td>\n",
       "      <td>250 25TH AVE N</td>\n",
       "      <td>STE 412</td>\n",
       "      <td>NASHVILLE</td>\n",
       "      <td>TN</td>\n",
       "      <td>37203</td>\n",
       "      <td>363L00000X</td>\n",
       "      <td>34980</td>\n",
       "      <td>1.0</td>\n",
       "    </tr>\n",
       "    <tr>\n",
       "      <th>1</th>\n",
       "      <td>1003819046</td>\n",
       "      <td>1.0</td>\n",
       "      <td>None</td>\n",
       "      <td>NYLANDER</td>\n",
       "      <td>BARBARA</td>\n",
       "      <td>H</td>\n",
       "      <td>None</td>\n",
       "      <td>None</td>\n",
       "      <td>M.D.</td>\n",
       "      <td>345 23RD AVE N</td>\n",
       "      <td>SUITE 209</td>\n",
       "      <td>NASHVILLE</td>\n",
       "      <td>TN</td>\n",
       "      <td>37203</td>\n",
       "      <td>207VG0400X</td>\n",
       "      <td>34980</td>\n",
       "      <td>1.0</td>\n",
       "    </tr>\n",
       "    <tr>\n",
       "      <th>2</th>\n",
       "      <td>1922001957</td>\n",
       "      <td>1.0</td>\n",
       "      <td>None</td>\n",
       "      <td>PRESLEY</td>\n",
       "      <td>RICHARD</td>\n",
       "      <td>E</td>\n",
       "      <td>None</td>\n",
       "      <td>None</td>\n",
       "      <td>M.D.</td>\n",
       "      <td>2011 MURPHY AVE</td>\n",
       "      <td>STE 302</td>\n",
       "      <td>NASHVILLE</td>\n",
       "      <td>TN</td>\n",
       "      <td>37203</td>\n",
       "      <td>207V00000X</td>\n",
       "      <td>34980</td>\n",
       "      <td>1.0</td>\n",
       "    </tr>\n",
       "    <tr>\n",
       "      <th>3</th>\n",
       "      <td>1760485817</td>\n",
       "      <td>1.0</td>\n",
       "      <td>None</td>\n",
       "      <td>MORAN</td>\n",
       "      <td>SAM</td>\n",
       "      <td>HOUSTON</td>\n",
       "      <td>None</td>\n",
       "      <td>None</td>\n",
       "      <td>M.D.</td>\n",
       "      <td>329 21ST AVE N</td>\n",
       "      <td>STE 4</td>\n",
       "      <td>NASHVILLE</td>\n",
       "      <td>TN</td>\n",
       "      <td>37203</td>\n",
       "      <td>207V00000X</td>\n",
       "      <td>34980</td>\n",
       "      <td>1.0</td>\n",
       "    </tr>\n",
       "    <tr>\n",
       "      <th>4</th>\n",
       "      <td>1437152485</td>\n",
       "      <td>1.0</td>\n",
       "      <td>None</td>\n",
       "      <td>MORGAN</td>\n",
       "      <td>LISA</td>\n",
       "      <td>BROOKS</td>\n",
       "      <td>None</td>\n",
       "      <td>None</td>\n",
       "      <td>MD</td>\n",
       "      <td>2201 MURPHY AVE STE 407</td>\n",
       "      <td>None</td>\n",
       "      <td>NASHVILLE</td>\n",
       "      <td>TN</td>\n",
       "      <td>37203</td>\n",
       "      <td>207V00000X</td>\n",
       "      <td>34980</td>\n",
       "      <td>1.0</td>\n",
       "    </tr>\n",
       "    <tr>\n",
       "      <th>5</th>\n",
       "      <td>1336142363</td>\n",
       "      <td>1.0</td>\n",
       "      <td>None</td>\n",
       "      <td>REYNOLDS</td>\n",
       "      <td>MELISSA</td>\n",
       "      <td>G</td>\n",
       "      <td>None</td>\n",
       "      <td>None</td>\n",
       "      <td>M.D.</td>\n",
       "      <td>330 23RD AVE N</td>\n",
       "      <td>SUITE 604</td>\n",
       "      <td>NASHVILLE</td>\n",
       "      <td>TN</td>\n",
       "      <td>37203</td>\n",
       "      <td>207V00000X</td>\n",
       "      <td>34980</td>\n",
       "      <td>1.0</td>\n",
       "    </tr>\n",
       "    <tr>\n",
       "      <th>6</th>\n",
       "      <td>1154324192</td>\n",
       "      <td>1.0</td>\n",
       "      <td>None</td>\n",
       "      <td>OLDFIELD</td>\n",
       "      <td>ELIZABETH</td>\n",
       "      <td>L</td>\n",
       "      <td>None</td>\n",
       "      <td>None</td>\n",
       "      <td>M.D.</td>\n",
       "      <td>2011 MURPHY AVE</td>\n",
       "      <td>STE 200</td>\n",
       "      <td>NASHVILLE</td>\n",
       "      <td>TN</td>\n",
       "      <td>37203</td>\n",
       "      <td>207V00000X</td>\n",
       "      <td>34980</td>\n",
       "      <td>1.0</td>\n",
       "    </tr>\n",
       "    <tr>\n",
       "      <th>7</th>\n",
       "      <td>1871596080</td>\n",
       "      <td>1.0</td>\n",
       "      <td>None</td>\n",
       "      <td>ALTENBERN</td>\n",
       "      <td>DARRINGTON</td>\n",
       "      <td>PHILLIPS</td>\n",
       "      <td>None</td>\n",
       "      <td>None</td>\n",
       "      <td>M.D.</td>\n",
       "      <td>329 23RD AVE NO, SUITE 328</td>\n",
       "      <td>None</td>\n",
       "      <td>NASHVILLE</td>\n",
       "      <td>TN</td>\n",
       "      <td>37203</td>\n",
       "      <td>207V00000X</td>\n",
       "      <td>34980</td>\n",
       "      <td>1.0</td>\n",
       "    </tr>\n",
       "    <tr>\n",
       "      <th>8</th>\n",
       "      <td>1770586786</td>\n",
       "      <td>1.0</td>\n",
       "      <td>None</td>\n",
       "      <td>RICHARDS</td>\n",
       "      <td>SHERRIE</td>\n",
       "      <td>ANDERSON</td>\n",
       "      <td>None</td>\n",
       "      <td>None</td>\n",
       "      <td>M.D.</td>\n",
       "      <td>2201 MURPHY AVE</td>\n",
       "      <td>STE 410</td>\n",
       "      <td>NASHVILLE</td>\n",
       "      <td>TN</td>\n",
       "      <td>37203</td>\n",
       "      <td>207V00000X</td>\n",
       "      <td>34980</td>\n",
       "      <td>1.0</td>\n",
       "    </tr>\n",
       "    <tr>\n",
       "      <th>9</th>\n",
       "      <td>1285637447</td>\n",
       "      <td>1.0</td>\n",
       "      <td>None</td>\n",
       "      <td>BRESSMAN</td>\n",
       "      <td>PHILLIP</td>\n",
       "      <td>L</td>\n",
       "      <td>None</td>\n",
       "      <td>None</td>\n",
       "      <td>M.D.</td>\n",
       "      <td>300 20TH AVE N STE 302</td>\n",
       "      <td>None</td>\n",
       "      <td>NASHVILLE</td>\n",
       "      <td>TN</td>\n",
       "      <td>37203</td>\n",
       "      <td>207V00000X</td>\n",
       "      <td>34980</td>\n",
       "      <td>1.0</td>\n",
       "    </tr>\n",
       "  </tbody>\n",
       "</table>\n",
       "</div>"
      ],
      "text/plain": [
       "          npi  entity_type_code org_name  last_name  first_name middle_name  \\\n",
       "0  1134122187               1.0     None   RUDNICKE      CHERYL      DENISE   \n",
       "1  1003819046               1.0     None   NYLANDER     BARBARA           H   \n",
       "2  1922001957               1.0     None    PRESLEY     RICHARD           E   \n",
       "3  1760485817               1.0     None      MORAN         SAM     HOUSTON   \n",
       "4  1437152485               1.0     None     MORGAN        LISA      BROOKS   \n",
       "5  1336142363               1.0     None   REYNOLDS     MELISSA           G   \n",
       "6  1154324192               1.0     None   OLDFIELD   ELIZABETH           L   \n",
       "7  1871596080               1.0     None  ALTENBERN  DARRINGTON    PHILLIPS   \n",
       "8  1770586786               1.0     None   RICHARDS     SHERRIE    ANDERSON   \n",
       "9  1285637447               1.0     None   BRESSMAN     PHILLIP           L   \n",
       "\n",
       "  name_prefix name_suffix provider_credential                   address_1  \\\n",
       "0        MRS.        None                CRNP              250 25TH AVE N   \n",
       "1        None        None                M.D.              345 23RD AVE N   \n",
       "2        None        None                M.D.             2011 MURPHY AVE   \n",
       "3        None        None                M.D.              329 21ST AVE N   \n",
       "4        None        None                  MD     2201 MURPHY AVE STE 407   \n",
       "5        None        None                M.D.              330 23RD AVE N   \n",
       "6        None        None                M.D.             2011 MURPHY AVE   \n",
       "7        None        None                M.D.  329 23RD AVE NO, SUITE 328   \n",
       "8        None        None                M.D.             2201 MURPHY AVE   \n",
       "9        None        None                M.D.      300 20TH AVE N STE 302   \n",
       "\n",
       "   address_2       city state    zip taxonomy_code   cbsa  tot_ratio  \n",
       "0    STE 412  NASHVILLE    TN  37203    363L00000X  34980        1.0  \n",
       "1  SUITE 209  NASHVILLE    TN  37203    207VG0400X  34980        1.0  \n",
       "2    STE 302  NASHVILLE    TN  37203    207V00000X  34980        1.0  \n",
       "3      STE 4  NASHVILLE    TN  37203    207V00000X  34980        1.0  \n",
       "4       None  NASHVILLE    TN  37203    207V00000X  34980        1.0  \n",
       "5  SUITE 604  NASHVILLE    TN  37203    207V00000X  34980        1.0  \n",
       "6    STE 200  NASHVILLE    TN  37203    207V00000X  34980        1.0  \n",
       "7       None  NASHVILLE    TN  37203    207V00000X  34980        1.0  \n",
       "8    STE 410  NASHVILLE    TN  37203    207V00000X  34980        1.0  \n",
       "9       None  NASHVILLE    TN  37203    207V00000X  34980        1.0  "
      ]
     },
     "execution_count": 127,
     "metadata": {},
     "output_type": "execute_result"
    }
   ],
   "source": [
    "nash_nppes"
   ]
  },
  {
   "cell_type": "markdown",
   "metadata": {},
   "source": [
    "#### Check memory usage of zip codes as float/int/str"
   ]
  },
  {
   "cell_type": "markdown",
   "metadata": {},
   "source": [
    "https://stackoverflow.com/questions/20970279/how-to-do-a-left-right-and-mid-of-a-string-in-a-pandas-dataframe/20970328\n",
    "\n",
    "https://towardsdatascience.com/the-strange-size-of-python-objects-in-memory-ce87bdfbb97f\n",
    "\n",
    "https://www.geeksforgeeks.org/how-to-find-size-of-an-object-in-python/\n",
    "\n",
    "https://sdsawtelle.github.io/blog/output/large-data-files-pandas-sqlite.html"
   ]
  },
  {
   "cell_type": "code",
   "execution_count": 48,
   "metadata": {},
   "outputs": [
    {
     "data": {
      "text/plain": [
       "Index                     128\n",
       "npi                    923888\n",
       "entity_type_code       923888\n",
       "org_name               923888\n",
       "last_name              923888\n",
       "first_name             923888\n",
       "middle_name            923888\n",
       "name_prefix            923888\n",
       "name_suffix            923888\n",
       "provider_credential    923888\n",
       "address_1              923888\n",
       "address_2              923888\n",
       "city                   923888\n",
       "state                  923888\n",
       "zip                    923888\n",
       "taxonomy_code          923888\n",
       "dtype: int64"
      ]
     },
     "execution_count": 48,
     "metadata": {},
     "output_type": "execute_result"
    }
   ],
   "source": [
    "nppes.memory_usage()"
   ]
  },
  {
   "cell_type": "code",
   "execution_count": 16,
   "metadata": {},
   "outputs": [
    {
     "data": {
      "text/plain": [
       "72233395"
      ]
     },
     "execution_count": 16,
     "metadata": {},
     "output_type": "execute_result"
    }
   ],
   "source": [
    "sys.getsizeof(nppes)"
   ]
  },
  {
   "cell_type": "code",
   "execution_count": 24,
   "metadata": {},
   "outputs": [
    {
     "name": "stdout",
     "output_type": "stream",
     "text": [
      "924032\n",
      "7805687\n"
     ]
    }
   ],
   "source": [
    "print(sys.getsizeof(nppes['zip'])) #zip column as float64\n",
    "\n",
    "print(sys.getsizeof(nppes['zip'].astype(str))) #zip column as string\n",
    "\n",
    "print(sys.getsizeof(nppes['zip'].astype(str).str[:5])) #just first 5 characters of zip col as str"
   ]
  },
  {
   "cell_type": "markdown",
   "metadata": {},
   "source": [
    "#### Isolate Nashville-Davidson CBSA zip codes\n",
    "CBSA id is 34980"
   ]
  },
  {
   "cell_type": "code",
   "execution_count": null,
   "metadata": {},
   "outputs": [],
   "source": [
    "nash_zip_cbsa = zip_cbsa.copy()\n",
    "nash_zip_cbsa = nash_zip_cbsa[nash_zip_cbsa.cbsa==34980]\n",
    "nash_zip_cbsa.info()"
   ]
  },
  {
   "cell_type": "markdown",
   "metadata": {},
   "source": [
    "#### Alternately, do datatype conversion & string manipulation in SQL query"
   ]
  },
  {
   "cell_type": "code",
   "execution_count": 98,
   "metadata": {},
   "outputs": [
    {
     "data": {
      "text/plain": [
       "<function Connection.close>"
      ]
     },
     "execution_count": 98,
     "metadata": {},
     "output_type": "execute_result"
    }
   ],
   "source": [
    "db = sqlite3.connect('../data/nppes_lite.sqlite') #reopen the connection\n",
    "\n",
    "query= \"\"\"\n",
    "    SELECT\n",
    "        npi,\n",
    "        entity_type_code,\n",
    "        org_name,\n",
    "        last_name,\n",
    "        first_name,\n",
    "        middle_name,\n",
    "        name_prefix,\n",
    "        name_suffix,\n",
    "        provider_credential,\n",
    "        address_1,\n",
    "        address_2,\n",
    "        city,\n",
    "        state,\n",
    "        SUBSTR(nppes.zip, 1, 5) AS zip,\n",
    "        taxonomy_code\n",
    "    FROM nppes\n",
    "    \"\"\"\n",
    "nppes_zip5 = pd.read_sql(query,db)\n",
    "\n",
    "db.close\n"
   ]
  },
  {
   "cell_type": "code",
   "execution_count": 99,
   "metadata": {},
   "outputs": [
    {
     "name": "stdout",
     "output_type": "stream",
     "text": [
      "<class 'pandas.core.frame.DataFrame'>\n",
      "RangeIndex: 115486 entries, 0 to 115485\n",
      "Data columns (total 15 columns):\n",
      " #   Column               Non-Null Count   Dtype  \n",
      "---  ------               --------------   -----  \n",
      " 0   npi                  115486 non-null  int64  \n",
      " 1   entity_type_code     115486 non-null  float64\n",
      " 2   org_name             24501 non-null   object \n",
      " 3   last_name            90982 non-null   object \n",
      " 4   first_name           90985 non-null   object \n",
      " 5   middle_name          62237 non-null   object \n",
      " 6   name_prefix          34723 non-null   object \n",
      " 7   name_suffix          2915 non-null    object \n",
      " 8   provider_credential  74398 non-null   object \n",
      " 9   address_1            115486 non-null  object \n",
      " 10  address_2            26571 non-null   object \n",
      " 11  city                 115486 non-null  object \n",
      " 12  state                115486 non-null  object \n",
      " 13  zip                  115486 non-null  object \n",
      " 14  taxonomy_code        115486 non-null  object \n",
      "dtypes: float64(1), int64(1), object(13)\n",
      "memory usage: 13.2+ MB\n"
     ]
    }
   ],
   "source": [
    "nppes_zip5.info()"
   ]
  },
  {
   "cell_type": "code",
   "execution_count": 105,
   "metadata": {},
   "outputs": [
    {
     "data": {
      "text/html": [
       "<div>\n",
       "<style scoped>\n",
       "    .dataframe tbody tr th:only-of-type {\n",
       "        vertical-align: middle;\n",
       "    }\n",
       "\n",
       "    .dataframe tbody tr th {\n",
       "        vertical-align: top;\n",
       "    }\n",
       "\n",
       "    .dataframe thead th {\n",
       "        text-align: right;\n",
       "    }\n",
       "</style>\n",
       "<table border=\"1\" class=\"dataframe\">\n",
       "  <thead>\n",
       "    <tr style=\"text-align: right;\">\n",
       "      <th></th>\n",
       "      <th>npi</th>\n",
       "      <th>entity_type_code</th>\n",
       "      <th>org_name</th>\n",
       "      <th>last_name</th>\n",
       "      <th>first_name</th>\n",
       "      <th>middle_name</th>\n",
       "      <th>name_prefix</th>\n",
       "      <th>name_suffix</th>\n",
       "      <th>provider_credential</th>\n",
       "      <th>address_1</th>\n",
       "      <th>address_2</th>\n",
       "      <th>city</th>\n",
       "      <th>state</th>\n",
       "      <th>zip</th>\n",
       "      <th>taxonomy_code</th>\n",
       "    </tr>\n",
       "  </thead>\n",
       "  <tbody>\n",
       "    <tr>\n",
       "      <th>91681</th>\n",
       "      <td>1790339075</td>\n",
       "      <td>1.0</td>\n",
       "      <td>None</td>\n",
       "      <td>BARNES</td>\n",
       "      <td>APRIL</td>\n",
       "      <td>None</td>\n",
       "      <td>None</td>\n",
       "      <td>None</td>\n",
       "      <td>None</td>\n",
       "      <td>2250 WILMA RUDOLPH BLVD STE F259</td>\n",
       "      <td>None</td>\n",
       "      <td>CLARKSVILLE</td>\n",
       "      <td>TN</td>\n",
       "      <td>37040</td>\n",
       "      <td>106S00000X</td>\n",
       "    </tr>\n",
       "  </tbody>\n",
       "</table>\n",
       "</div>"
      ],
      "text/plain": [
       "              npi  entity_type_code org_name last_name first_name middle_name  \\\n",
       "91681  1790339075               1.0     None    BARNES      APRIL        None   \n",
       "\n",
       "      name_prefix name_suffix provider_credential  \\\n",
       "91681        None        None                None   \n",
       "\n",
       "                              address_1 address_2         city state    zip  \\\n",
       "91681  2250 WILMA RUDOLPH BLVD STE F259      None  CLARKSVILLE    TN  37040   \n",
       "\n",
       "      taxonomy_code  \n",
       "91681    106S00000X  "
      ]
     },
     "execution_count": 105,
     "metadata": {},
     "output_type": "execute_result"
    }
   ],
   "source": [
    "#check random samples to make sure the zipcode is formatted correctly\n",
    "nppes_zip5.sample()"
   ]
  },
  {
   "cell_type": "code",
   "execution_count": 101,
   "metadata": {},
   "outputs": [],
   "source": [
    "#merge dataframes\n",
    "nppes_nash = nppes_zip5.merge(nash_zip_cbsa, on=\"zip\")"
   ]
  },
  {
   "cell_type": "code",
   "execution_count": 102,
   "metadata": {},
   "outputs": [
    {
     "name": "stdout",
     "output_type": "stream",
     "text": [
      "<class 'pandas.core.frame.DataFrame'>\n",
      "Int64Index: 38148 entries, 0 to 38147\n",
      "Data columns (total 17 columns):\n",
      " #   Column               Non-Null Count  Dtype  \n",
      "---  ------               --------------  -----  \n",
      " 0   npi                  38148 non-null  int64  \n",
      " 1   entity_type_code     38148 non-null  float64\n",
      " 2   org_name             7466 non-null   object \n",
      " 3   last_name            30681 non-null  object \n",
      " 4   first_name           30682 non-null  object \n",
      " 5   middle_name          19790 non-null  object \n",
      " 6   name_prefix          11470 non-null  object \n",
      " 7   name_suffix          895 non-null    object \n",
      " 8   provider_credential  25175 non-null  object \n",
      " 9   address_1            38148 non-null  object \n",
      " 10  address_2            9877 non-null   object \n",
      " 11  city                 38148 non-null  object \n",
      " 12  state                38148 non-null  object \n",
      " 13  zip                  38148 non-null  object \n",
      " 14  taxonomy_code        38148 non-null  object \n",
      " 15  cbsa                 38148 non-null  int64  \n",
      " 16  tot_ratio            38148 non-null  float64\n",
      "dtypes: float64(2), int64(2), object(13)\n",
      "memory usage: 5.2+ MB\n"
     ]
    }
   ],
   "source": [
    "nppes_nash.info()"
   ]
  },
  {
   "cell_type": "code",
   "execution_count": 108,
   "metadata": {},
   "outputs": [
    {
     "data": {
      "text/plain": [
       "110"
      ]
     },
     "execution_count": 108,
     "metadata": {},
     "output_type": "execute_result"
    }
   ],
   "source": [
    "nppes_nash.zip.nunique()"
   ]
  },
  {
   "cell_type": "code",
   "execution_count": 103,
   "metadata": {},
   "outputs": [],
   "source": [
    "nppes_all = nppes_zip5.merge(zip_cbsa, on=\"zip\")"
   ]
  },
  {
   "cell_type": "code",
   "execution_count": 104,
   "metadata": {},
   "outputs": [
    {
     "name": "stdout",
     "output_type": "stream",
     "text": [
      "<class 'pandas.core.frame.DataFrame'>\n",
      "Int64Index: 114907 entries, 0 to 114906\n",
      "Data columns (total 17 columns):\n",
      " #   Column               Non-Null Count   Dtype  \n",
      "---  ------               --------------   -----  \n",
      " 0   npi                  114907 non-null  int64  \n",
      " 1   entity_type_code     114907 non-null  float64\n",
      " 2   org_name             24481 non-null   object \n",
      " 3   last_name            90423 non-null   object \n",
      " 4   first_name           90426 non-null   object \n",
      " 5   middle_name          61882 non-null   object \n",
      " 6   name_prefix          34498 non-null   object \n",
      " 7   name_suffix          2904 non-null    object \n",
      " 8   provider_credential  73963 non-null   object \n",
      " 9   address_1            114907 non-null  object \n",
      " 10  address_2            26314 non-null   object \n",
      " 11  city                 114907 non-null  object \n",
      " 12  state                114907 non-null  object \n",
      " 13  zip                  114907 non-null  object \n",
      " 14  taxonomy_code        114907 non-null  object \n",
      " 15  cbsa                 114907 non-null  int64  \n",
      " 16  tot_ratio            114907 non-null  float64\n",
      "dtypes: float64(2), int64(2), object(13)\n",
      "memory usage: 15.8+ MB\n"
     ]
    }
   ],
   "source": [
    "nppes_all.info()"
   ]
  },
  {
   "cell_type": "code",
   "execution_count": 109,
   "metadata": {},
   "outputs": [
    {
     "data": {
      "text/plain": [
       "110"
      ]
     },
     "execution_count": 109,
     "metadata": {},
     "output_type": "execute_result"
    }
   ],
   "source": [
    "nppes_all[nppes_all.cbsa==34980].zip.nunique()"
   ]
  },
  {
   "cell_type": "code",
   "execution_count": null,
   "metadata": {},
   "outputs": [],
   "source": [
    "1841293891"
   ]
  },
  {
   "cell_type": "code",
   "execution_count": null,
   "metadata": {},
   "outputs": [],
   "source": []
  },
  {
   "cell_type": "code",
   "execution_count": null,
   "metadata": {},
   "outputs": [],
   "source": []
  },
  {
   "cell_type": "code",
   "execution_count": null,
   "metadata": {},
   "outputs": [],
   "source": []
  }
 ],
 "metadata": {
  "kernelspec": {
   "display_name": "Python 3",
   "language": "python",
   "name": "python3"
  },
  "language_info": {
   "codemirror_mode": {
    "name": "ipython",
    "version": 3
   },
   "file_extension": ".py",
   "mimetype": "text/x-python",
   "name": "python",
   "nbconvert_exporter": "python",
   "pygments_lexer": "ipython3",
   "version": "3.8.3"
  }
 },
 "nbformat": 4,
 "nbformat_minor": 4
}
