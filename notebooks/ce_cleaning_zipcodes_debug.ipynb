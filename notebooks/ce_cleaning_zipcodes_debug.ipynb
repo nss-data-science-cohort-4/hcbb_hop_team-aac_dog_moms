{
 "cells": [
  {
   "cell_type": "code",
   "execution_count": 15,
   "metadata": {},
   "outputs": [],
   "source": [
    "import pandas as pd\n",
    "import sqlite3\n",
    "import sys"
   ]
  },
  {
   "cell_type": "code",
   "execution_count": 2,
   "metadata": {},
   "outputs": [],
   "source": [
    "pd.options.display.max_columns = None\n",
    "pd.options.display.max_rows = None"
   ]
  },
  {
   "cell_type": "markdown",
   "metadata": {},
   "source": [
    "### Pull in zip_cbsa table"
   ]
  },
  {
   "cell_type": "code",
   "execution_count": 3,
   "metadata": {},
   "outputs": [],
   "source": [
    "db = sqlite3.connect('../data/nppes_lite.sqlite')\n",
    "\n",
    "query = \"\"\"\n",
    "SELECT * \n",
    "FROM zip_cbsa\n",
    "\"\"\"\n",
    "zip_cbsa = pd.read_sql(query,db)\n",
    "\n",
    "db.close()"
   ]
  },
  {
   "cell_type": "code",
   "execution_count": 4,
   "metadata": {},
   "outputs": [
    {
     "name": "stdout",
     "output_type": "stream",
     "text": [
      "<class 'pandas.core.frame.DataFrame'>\n",
      "RangeIndex: 47424 entries, 0 to 47423\n",
      "Data columns (total 6 columns):\n",
      " #   Column     Non-Null Count  Dtype  \n",
      "---  ------     --------------  -----  \n",
      " 0   zip        47424 non-null  object \n",
      " 1   cbsa       47424 non-null  int64  \n",
      " 2   res_ratio  47424 non-null  float64\n",
      " 3   bus_ratio  47424 non-null  float64\n",
      " 4   oth_ratio  47424 non-null  float64\n",
      " 5   tot_ratio  47424 non-null  float64\n",
      "dtypes: float64(4), int64(1), object(1)\n",
      "memory usage: 2.2+ MB\n"
     ]
    }
   ],
   "source": [
    "zip_cbsa.info()"
   ]
  },
  {
   "cell_type": "code",
   "execution_count": 5,
   "metadata": {},
   "outputs": [],
   "source": [
    "#drop unecessary columns\n",
    "zip_cbsa = zip_cbsa.drop([\"res_ratio\", \"bus_ratio\", \"oth_ratio\"], axis=1)"
   ]
  },
  {
   "cell_type": "code",
   "execution_count": 6,
   "metadata": {},
   "outputs": [],
   "source": [
    "# sort records by zip and zip ratio\n",
    "zip_cbsa = zip_cbsa.sort_values(['zip', 'tot_ratio'], \n",
    "                                ascending=[False, False])"
   ]
  },
  {
   "cell_type": "code",
   "execution_count": 7,
   "metadata": {},
   "outputs": [],
   "source": [
    "#where a given zip code is in multiple CBSAs\n",
    "#keep only the zip CBSA records with the greatest % of that zip\n",
    "zip_cbsa = zip_cbsa.drop_duplicates(subset='zip', keep='first')"
   ]
  },
  {
   "cell_type": "code",
   "execution_count": 36,
   "metadata": {},
   "outputs": [
    {
     "name": "stdout",
     "output_type": "stream",
     "text": [
      "<class 'pandas.core.frame.DataFrame'>\n",
      "Int64Index: 39451 entries, 47423 to 0\n",
      "Data columns (total 3 columns):\n",
      " #   Column     Non-Null Count  Dtype  \n",
      "---  ------     --------------  -----  \n",
      " 0   zip        39451 non-null  object \n",
      " 1   cbsa       39451 non-null  int64  \n",
      " 2   tot_ratio  39451 non-null  float64\n",
      "dtypes: float64(1), int64(1), object(1)\n",
      "memory usage: 1.2+ MB\n"
     ]
    }
   ],
   "source": [
    "zip_cbsa.info()"
   ]
  },
  {
   "cell_type": "markdown",
   "metadata": {},
   "source": [
    "#### Isolate Nashville-Davidson CBSA zip codes\n",
    "CBSA id is 34980"
   ]
  },
  {
   "cell_type": "code",
   "execution_count": 40,
   "metadata": {},
   "outputs": [
    {
     "name": "stdout",
     "output_type": "stream",
     "text": [
      "<class 'pandas.core.frame.DataFrame'>\n",
      "Int64Index: 135 entries, 17963 to 16986\n",
      "Data columns (total 3 columns):\n",
      " #   Column     Non-Null Count  Dtype  \n",
      "---  ------     --------------  -----  \n",
      " 0   zip        135 non-null    object \n",
      " 1   cbsa       135 non-null    int64  \n",
      " 2   tot_ratio  135 non-null    float64\n",
      "dtypes: float64(1), int64(1), object(1)\n",
      "memory usage: 4.2+ KB\n"
     ]
    }
   ],
   "source": [
    "nash_zip_cbsa = zip_cbsa.copy()\n",
    "nash_zip_cbsa = nash_zip_cbsa[nash_zip_cbsa.cbsa==34980]\n",
    "nash_zip_cbsa.info()"
   ]
  },
  {
   "cell_type": "code",
   "execution_count": 66,
   "metadata": {},
   "outputs": [],
   "source": [
    "filter_zip_list = nash_zip_cbsa.zip.tolist()"
   ]
  },
  {
   "cell_type": "code",
   "execution_count": null,
   "metadata": {},
   "outputs": [],
   "source": [
    "#df.to_sql('nppes', db, if_exists = 'append', index = False) "
   ]
  },
  {
   "cell_type": "markdown",
   "metadata": {},
   "source": [
    "### Pull in nppes table"
   ]
  },
  {
   "cell_type": "code",
   "execution_count": 46,
   "metadata": {},
   "outputs": [
    {
     "data": {
      "text/plain": [
       "array(['CREATE TABLE \"nppes\" (\\n\"npi\" INTEGER,\\n  \"entity_type_code\" REAL,\\n  \"org_name\" TEXT,\\n  \"last_name\" TEXT,\\n  \"first_name\" TEXT,\\n  \"middle_name\" TEXT,\\n  \"name_prefix\" TEXT,\\n  \"name_suffix\" TEXT,\\n  \"provider_credential\" TEXT,\\n  \"address_1\" TEXT,\\n  \"address_2\" TEXT,\\n  \"city\" TEXT,\\n  \"state\" TEXT,\\n  \"zip\" REAL,\\n  \"taxonomy_code\" TEXT\\n)'],\n",
       "      dtype=object)"
      ]
     },
     "execution_count": 46,
     "metadata": {},
     "output_type": "execute_result"
    }
   ],
   "source": [
    "#query= \"\"\"\n",
    "#    SELECT sql \n",
    "#    FROM sqlite_master \n",
    "#    WHERE name = 'nppes'\n",
    "#    \"\"\"\n",
    "nppes_info.sql.unique()"
   ]
  },
  {
   "cell_type": "code",
   "execution_count": 10,
   "metadata": {},
   "outputs": [],
   "source": [
    "db = sqlite3.connect('../data/nppes_lite.sqlite') #reopen the connection\n",
    "\n",
    "query = \"\"\"\n",
    "SELECT * \n",
    "FROM nppes\n",
    "\"\"\"\n",
    "nppes = pd.read_sql(query,db)\n",
    "\n",
    "db.close()"
   ]
  },
  {
   "cell_type": "code",
   "execution_count": 11,
   "metadata": {},
   "outputs": [
    {
     "name": "stdout",
     "output_type": "stream",
     "text": [
      "<class 'pandas.core.frame.DataFrame'>\n",
      "RangeIndex: 115486 entries, 0 to 115485\n",
      "Data columns (total 15 columns):\n",
      " #   Column               Non-Null Count   Dtype  \n",
      "---  ------               --------------   -----  \n",
      " 0   npi                  115486 non-null  int64  \n",
      " 1   entity_type_code     115486 non-null  float64\n",
      " 2   org_name             24501 non-null   object \n",
      " 3   last_name            90982 non-null   object \n",
      " 4   first_name           90985 non-null   object \n",
      " 5   middle_name          62237 non-null   object \n",
      " 6   name_prefix          34723 non-null   object \n",
      " 7   name_suffix          2915 non-null    object \n",
      " 8   provider_credential  74398 non-null   object \n",
      " 9   address_1            115486 non-null  object \n",
      " 10  address_2            26571 non-null   object \n",
      " 11  city                 115486 non-null  object \n",
      " 12  state                115486 non-null  object \n",
      " 13  zip                  115486 non-null  float64\n",
      " 14  taxonomy_code        115486 non-null  object \n",
      "dtypes: float64(2), int64(1), object(12)\n",
      "memory usage: 13.2+ MB\n"
     ]
    }
   ],
   "source": [
    "nppes.info()"
   ]
  },
  {
   "cell_type": "code",
   "execution_count": 13,
   "metadata": {},
   "outputs": [
    {
     "data": {
      "text/plain": [
       "114423    371865060.0\n",
       "113075    372032504.0\n",
       "9497      381343895.0\n",
       "34947     381053678.0\n",
       "45794         37909.0\n",
       "Name: zip, dtype: float64"
      ]
     },
     "execution_count": 13,
     "metadata": {},
     "output_type": "execute_result"
    }
   ],
   "source": [
    "#Random sample of 5 zip codes from table.\n",
    "#Records will have either 5 or 9 digit zip codes.\n",
    "nppes.zip.sample(5)"
   ]
  },
  {
   "cell_type": "markdown",
   "metadata": {},
   "source": [
    "https://stackoverflow.com/questions/20970279/how-to-do-a-left-right-and-mid-of-a-string-in-a-pandas-dataframe/20970328\n",
    "\n",
    "https://towardsdatascience.com/the-strange-size-of-python-objects-in-memory-ce87bdfbb97f\n",
    "\n",
    "https://www.geeksforgeeks.org/how-to-find-size-of-an-object-in-python/\n",
    "\n",
    "https://sdsawtelle.github.io/blog/output/large-data-files-pandas-sqlite.html"
   ]
  },
  {
   "cell_type": "code",
   "execution_count": null,
   "metadata": {},
   "outputs": [],
   "source": [
    "#change column from float to string & keep only the first 5 characters\n",
    "#nppes['zip'] = nppes['zip'].astype(str).str[:5]"
   ]
  },
  {
   "cell_type": "code",
   "execution_count": 48,
   "metadata": {},
   "outputs": [
    {
     "data": {
      "text/plain": [
       "Index                     128\n",
       "npi                    923888\n",
       "entity_type_code       923888\n",
       "org_name               923888\n",
       "last_name              923888\n",
       "first_name             923888\n",
       "middle_name            923888\n",
       "name_prefix            923888\n",
       "name_suffix            923888\n",
       "provider_credential    923888\n",
       "address_1              923888\n",
       "address_2              923888\n",
       "city                   923888\n",
       "state                  923888\n",
       "zip                    923888\n",
       "taxonomy_code          923888\n",
       "dtype: int64"
      ]
     },
     "execution_count": 48,
     "metadata": {},
     "output_type": "execute_result"
    }
   ],
   "source": [
    "nppes.memory_usage()"
   ]
  },
  {
   "cell_type": "markdown",
   "metadata": {},
   "source": [
    "#### Check memory usage of zip codes as float/int/str"
   ]
  },
  {
   "cell_type": "code",
   "execution_count": 16,
   "metadata": {},
   "outputs": [
    {
     "data": {
      "text/plain": [
       "72233395"
      ]
     },
     "execution_count": 16,
     "metadata": {},
     "output_type": "execute_result"
    }
   ],
   "source": [
    "sys.getsizeof(nppes)"
   ]
  },
  {
   "cell_type": "code",
   "execution_count": 24,
   "metadata": {},
   "outputs": [
    {
     "name": "stdout",
     "output_type": "stream",
     "text": [
      "924032\n",
      "7805687\n"
     ]
    }
   ],
   "source": [
    "print(sys.getsizeof(nppes['zip'])) #zip column as float64\n",
    "\n",
    "print(sys.getsizeof(nppes['zip'].astype(str))) #zip column as string\n",
    "\n",
    "print(sys.getsizeof(nppes['zip'].astype(str).str[:5])) #just first 5 characters of zip col as str"
   ]
  },
  {
   "cell_type": "code",
   "execution_count": 73,
   "metadata": {},
   "outputs": [
    {
     "data": {
      "text/plain": [
       "Index(['npi', 'entity_type_code', 'org_name', 'last_name', 'first_name',\n",
       "       'middle_name', 'name_prefix', 'name_suffix', 'provider_credential',\n",
       "       'address_1', 'address_2', 'city', 'state', 'zip', 'taxonomy_code'],\n",
       "      dtype='object')"
      ]
     },
     "execution_count": 73,
     "metadata": {},
     "output_type": "execute_result"
    }
   ],
   "source": [
    "nppes.columns"
   ]
  },
  {
   "cell_type": "markdown",
   "metadata": {},
   "source": [
    "### Test datatype conversion & string manipulation in SQL query to save memory"
   ]
  },
  {
   "cell_type": "code",
   "execution_count": 49,
   "metadata": {},
   "outputs": [
    {
     "data": {
      "text/plain": [
       "<function Connection.close>"
      ]
     },
     "execution_count": 49,
     "metadata": {},
     "output_type": "execute_result"
    }
   ],
   "source": [
    "db = sqlite3.connect('../data/nppes_lite.sqlite') #reopen the connection\n",
    "\n",
    "query= \"\"\"\n",
    "    SELECT npi, CAST(zip AS TEXT)\n",
    "    FROM nppes\n",
    "    LIMIT 15\n",
    "    \"\"\"\n",
    "nppeszip = pd.read_sql(query,db)\n",
    "\n",
    "db.close\n"
   ]
  },
  {
   "cell_type": "code",
   "execution_count": 51,
   "metadata": {},
   "outputs": [
    {
     "name": "stdout",
     "output_type": "stream",
     "text": [
      "<class 'pandas.core.frame.DataFrame'>\n",
      "RangeIndex: 15 entries, 0 to 14\n",
      "Data columns (total 2 columns):\n",
      " #   Column             Non-Null Count  Dtype \n",
      "---  ------             --------------  ----- \n",
      " 0   npi                15 non-null     int64 \n",
      " 1   CAST(zip AS TEXT)  15 non-null     object\n",
      "dtypes: int64(1), object(1)\n",
      "memory usage: 368.0+ bytes\n"
     ]
    }
   ],
   "source": [
    "nppeszip.info()"
   ]
  },
  {
   "cell_type": "code",
   "execution_count": 69,
   "metadata": {},
   "outputs": [
    {
     "ename": "TypeError",
     "evalue": "can only concatenate str (not \"list\") to str",
     "output_type": "error",
     "traceback": [
      "\u001b[0;31m---------------------------------------------------------------------------\u001b[0m",
      "\u001b[0;31mTypeError\u001b[0m                                 Traceback (most recent call last)",
      "\u001b[0;32m<ipython-input-69-1930d9004ed9>\u001b[0m in \u001b[0;36m<module>\u001b[0;34m\u001b[0m\n\u001b[0;32m----> 1\u001b[0;31m query= \"\"\"\n\u001b[0m\u001b[1;32m      2\u001b[0m     \u001b[0mSELECT\u001b[0m\u001b[0;34m\u001b[0m\u001b[0;34m\u001b[0m\u001b[0m\n\u001b[1;32m      3\u001b[0m         \u001b[0mnpi\u001b[0m\u001b[0;34m,\u001b[0m\u001b[0;34m\u001b[0m\u001b[0;34m\u001b[0m\u001b[0m\n\u001b[1;32m      4\u001b[0m         \u001b[0mSUBSTR\u001b[0m\u001b[0;34m(\u001b[0m\u001b[0mzip\u001b[0m\u001b[0;34m,\u001b[0m \u001b[0;36m1\u001b[0m\u001b[0;34m,\u001b[0m \u001b[0;36m5\u001b[0m\u001b[0;34m)\u001b[0m\u001b[0;34m\u001b[0m\u001b[0;34m\u001b[0m\u001b[0m\n\u001b[1;32m      5\u001b[0m     \u001b[0mFROM\u001b[0m \u001b[0mnppes\u001b[0m\u001b[0;34m\u001b[0m\u001b[0;34m\u001b[0m\u001b[0m\n",
      "\u001b[0;31mTypeError\u001b[0m: can only concatenate str (not \"list\") to str"
     ]
    }
   ],
   "source": [
    "query= \"\"\"\n",
    "    SELECT\n",
    "        npi,\n",
    "        SUBSTR(zip, 1, 5)\n",
    "    FROM nppes\n",
    "    WHERE SUBSTR(ZIP, 1,5) IN \"\"\" + filter_zip_list + \"\"\"\n",
    "    LIMIT 50\n",
    "    \"\"\"\n",
    "\n"
   ]
  },
  {
   "cell_type": "code",
   "execution_count": 59,
   "metadata": {},
   "outputs": [],
   "source": [
    "with sqlite3.connect('../data/nppes_lite.sqlite') as db:\n",
    "    test = pd.read_sql(query,db)"
   ]
  },
  {
   "cell_type": "code",
   "execution_count": 60,
   "metadata": {},
   "outputs": [
    {
     "name": "stdout",
     "output_type": "stream",
     "text": [
      "<class 'pandas.core.frame.DataFrame'>\n",
      "RangeIndex: 50 entries, 0 to 49\n",
      "Data columns (total 2 columns):\n",
      " #   Column             Non-Null Count  Dtype \n",
      "---  ------             --------------  ----- \n",
      " 0   npi                50 non-null     int64 \n",
      " 1   SUBSTR(zip, 1, 5)  50 non-null     object\n",
      "dtypes: int64(1), object(1)\n",
      "memory usage: 928.0+ bytes\n"
     ]
    }
   ],
   "source": [
    "test.info()"
   ]
  },
  {
   "cell_type": "code",
   "execution_count": 61,
   "metadata": {},
   "outputs": [
    {
     "data": {
      "text/html": [
       "<div>\n",
       "<style scoped>\n",
       "    .dataframe tbody tr th:only-of-type {\n",
       "        vertical-align: middle;\n",
       "    }\n",
       "\n",
       "    .dataframe tbody tr th {\n",
       "        vertical-align: top;\n",
       "    }\n",
       "\n",
       "    .dataframe thead th {\n",
       "        text-align: right;\n",
       "    }\n",
       "</style>\n",
       "<table border=\"1\" class=\"dataframe\">\n",
       "  <thead>\n",
       "    <tr style=\"text-align: right;\">\n",
       "      <th></th>\n",
       "      <th>npi</th>\n",
       "      <th>SUBSTR(zip, 1, 5)</th>\n",
       "    </tr>\n",
       "  </thead>\n",
       "  <tbody>\n",
       "    <tr>\n",
       "      <th>0</th>\n",
       "      <td>1841293891</td>\n",
       "      <td>38555</td>\n",
       "    </tr>\n",
       "    <tr>\n",
       "      <th>1</th>\n",
       "      <td>1659374601</td>\n",
       "      <td>37660</td>\n",
       "    </tr>\n",
       "    <tr>\n",
       "      <th>2</th>\n",
       "      <td>1134122187</td>\n",
       "      <td>37203</td>\n",
       "    </tr>\n",
       "    <tr>\n",
       "      <th>3</th>\n",
       "      <td>1003819046</td>\n",
       "      <td>37203</td>\n",
       "    </tr>\n",
       "    <tr>\n",
       "      <th>4</th>\n",
       "      <td>1750384780</td>\n",
       "      <td>37055</td>\n",
       "    </tr>\n",
       "    <tr>\n",
       "      <th>5</th>\n",
       "      <td>1396748323</td>\n",
       "      <td>37711</td>\n",
       "    </tr>\n",
       "    <tr>\n",
       "      <th>6</th>\n",
       "      <td>1922001957</td>\n",
       "      <td>37203</td>\n",
       "    </tr>\n",
       "    <tr>\n",
       "      <th>7</th>\n",
       "      <td>1104829134</td>\n",
       "      <td>37664</td>\n",
       "    </tr>\n",
       "    <tr>\n",
       "      <th>8</th>\n",
       "      <td>1073516001</td>\n",
       "      <td>37055</td>\n",
       "    </tr>\n",
       "    <tr>\n",
       "      <th>9</th>\n",
       "      <td>1144223298</td>\n",
       "      <td>38120</td>\n",
       "    </tr>\n",
       "    <tr>\n",
       "      <th>10</th>\n",
       "      <td>1053314104</td>\n",
       "      <td>38134</td>\n",
       "    </tr>\n",
       "    <tr>\n",
       "      <th>11</th>\n",
       "      <td>1780687830</td>\n",
       "      <td>37055</td>\n",
       "    </tr>\n",
       "    <tr>\n",
       "      <th>12</th>\n",
       "      <td>1033112180</td>\n",
       "      <td>37421</td>\n",
       "    </tr>\n",
       "    <tr>\n",
       "      <th>13</th>\n",
       "      <td>1760485817</td>\n",
       "      <td>37203</td>\n",
       "    </tr>\n",
       "    <tr>\n",
       "      <th>14</th>\n",
       "      <td>1437152485</td>\n",
       "      <td>37203</td>\n",
       "    </tr>\n",
       "    <tr>\n",
       "      <th>15</th>\n",
       "      <td>1578566519</td>\n",
       "      <td>37421</td>\n",
       "    </tr>\n",
       "    <tr>\n",
       "      <th>16</th>\n",
       "      <td>1831192871</td>\n",
       "      <td>37660</td>\n",
       "    </tr>\n",
       "    <tr>\n",
       "      <th>17</th>\n",
       "      <td>1497758445</td>\n",
       "      <td>37055</td>\n",
       "    </tr>\n",
       "    <tr>\n",
       "      <th>18</th>\n",
       "      <td>1689677619</td>\n",
       "      <td>37055</td>\n",
       "    </tr>\n",
       "    <tr>\n",
       "      <th>19</th>\n",
       "      <td>1336142363</td>\n",
       "      <td>37203</td>\n",
       "    </tr>\n",
       "    <tr>\n",
       "      <th>20</th>\n",
       "      <td>1861495889</td>\n",
       "      <td>38105</td>\n",
       "    </tr>\n",
       "    <tr>\n",
       "      <th>21</th>\n",
       "      <td>1992708911</td>\n",
       "      <td>37075</td>\n",
       "    </tr>\n",
       "    <tr>\n",
       "      <th>22</th>\n",
       "      <td>1174526115</td>\n",
       "      <td>37098</td>\n",
       "    </tr>\n",
       "    <tr>\n",
       "      <th>23</th>\n",
       "      <td>1346243383</td>\n",
       "      <td>37421</td>\n",
       "    </tr>\n",
       "    <tr>\n",
       "      <th>24</th>\n",
       "      <td>1154324192</td>\n",
       "      <td>37203</td>\n",
       "    </tr>\n",
       "    <tr>\n",
       "      <th>25</th>\n",
       "      <td>1245233451</td>\n",
       "      <td>38105</td>\n",
       "    </tr>\n",
       "    <tr>\n",
       "      <th>26</th>\n",
       "      <td>1881697092</td>\n",
       "      <td>38401</td>\n",
       "    </tr>\n",
       "    <tr>\n",
       "      <th>27</th>\n",
       "      <td>1326041534</td>\n",
       "      <td>37130</td>\n",
       "    </tr>\n",
       "    <tr>\n",
       "      <th>28</th>\n",
       "      <td>1871596080</td>\n",
       "      <td>37203</td>\n",
       "    </tr>\n",
       "    <tr>\n",
       "      <th>29</th>\n",
       "      <td>1588667786</td>\n",
       "      <td>37920</td>\n",
       "    </tr>\n",
       "    <tr>\n",
       "      <th>30</th>\n",
       "      <td>1225031412</td>\n",
       "      <td>37920</td>\n",
       "    </tr>\n",
       "    <tr>\n",
       "      <th>31</th>\n",
       "      <td>1740283936</td>\n",
       "      <td>37920</td>\n",
       "    </tr>\n",
       "    <tr>\n",
       "      <th>32</th>\n",
       "      <td>1275536468</td>\n",
       "      <td>37075</td>\n",
       "    </tr>\n",
       "    <tr>\n",
       "      <th>33</th>\n",
       "      <td>1447253638</td>\n",
       "      <td>37076</td>\n",
       "    </tr>\n",
       "    <tr>\n",
       "      <th>34</th>\n",
       "      <td>1891798088</td>\n",
       "      <td>37920</td>\n",
       "    </tr>\n",
       "    <tr>\n",
       "      <th>35</th>\n",
       "      <td>1134122310</td>\n",
       "      <td>37232</td>\n",
       "    </tr>\n",
       "    <tr>\n",
       "      <th>36</th>\n",
       "      <td>1699778605</td>\n",
       "      <td>37620</td>\n",
       "    </tr>\n",
       "    <tr>\n",
       "      <th>37</th>\n",
       "      <td>1952304966</td>\n",
       "      <td>37055</td>\n",
       "    </tr>\n",
       "    <tr>\n",
       "      <th>38</th>\n",
       "      <td>1770586786</td>\n",
       "      <td>37203</td>\n",
       "    </tr>\n",
       "    <tr>\n",
       "      <th>39</th>\n",
       "      <td>1114920394</td>\n",
       "      <td>38138</td>\n",
       "    </tr>\n",
       "    <tr>\n",
       "      <th>40</th>\n",
       "      <td>1679576847</td>\n",
       "      <td>37421</td>\n",
       "    </tr>\n",
       "    <tr>\n",
       "      <th>41</th>\n",
       "      <td>1578566741</td>\n",
       "      <td>38139</td>\n",
       "    </tr>\n",
       "    <tr>\n",
       "      <th>42</th>\n",
       "      <td>1003819269</td>\n",
       "      <td>38120</td>\n",
       "    </tr>\n",
       "    <tr>\n",
       "      <th>43</th>\n",
       "      <td>1285637447</td>\n",
       "      <td>37203</td>\n",
       "    </tr>\n",
       "    <tr>\n",
       "      <th>44</th>\n",
       "      <td>1104829340</td>\n",
       "      <td>37203</td>\n",
       "    </tr>\n",
       "    <tr>\n",
       "      <th>45</th>\n",
       "      <td>1922001163</td>\n",
       "      <td>38120</td>\n",
       "    </tr>\n",
       "    <tr>\n",
       "      <th>46</th>\n",
       "      <td>1144223280</td>\n",
       "      <td>38105</td>\n",
       "    </tr>\n",
       "    <tr>\n",
       "      <th>47</th>\n",
       "      <td>1467455592</td>\n",
       "      <td>38105</td>\n",
       "    </tr>\n",
       "    <tr>\n",
       "      <th>48</th>\n",
       "      <td>1225031347</td>\n",
       "      <td>38138</td>\n",
       "    </tr>\n",
       "    <tr>\n",
       "      <th>49</th>\n",
       "      <td>1386647303</td>\n",
       "      <td>38358</td>\n",
       "    </tr>\n",
       "  </tbody>\n",
       "</table>\n",
       "</div>"
      ],
      "text/plain": [
       "           npi SUBSTR(zip, 1, 5)\n",
       "0   1841293891             38555\n",
       "1   1659374601             37660\n",
       "2   1134122187             37203\n",
       "3   1003819046             37203\n",
       "4   1750384780             37055\n",
       "5   1396748323             37711\n",
       "6   1922001957             37203\n",
       "7   1104829134             37664\n",
       "8   1073516001             37055\n",
       "9   1144223298             38120\n",
       "10  1053314104             38134\n",
       "11  1780687830             37055\n",
       "12  1033112180             37421\n",
       "13  1760485817             37203\n",
       "14  1437152485             37203\n",
       "15  1578566519             37421\n",
       "16  1831192871             37660\n",
       "17  1497758445             37055\n",
       "18  1689677619             37055\n",
       "19  1336142363             37203\n",
       "20  1861495889             38105\n",
       "21  1992708911             37075\n",
       "22  1174526115             37098\n",
       "23  1346243383             37421\n",
       "24  1154324192             37203\n",
       "25  1245233451             38105\n",
       "26  1881697092             38401\n",
       "27  1326041534             37130\n",
       "28  1871596080             37203\n",
       "29  1588667786             37920\n",
       "30  1225031412             37920\n",
       "31  1740283936             37920\n",
       "32  1275536468             37075\n",
       "33  1447253638             37076\n",
       "34  1891798088             37920\n",
       "35  1134122310             37232\n",
       "36  1699778605             37620\n",
       "37  1952304966             37055\n",
       "38  1770586786             37203\n",
       "39  1114920394             38138\n",
       "40  1679576847             37421\n",
       "41  1578566741             38139\n",
       "42  1003819269             38120\n",
       "43  1285637447             37203\n",
       "44  1104829340             37203\n",
       "45  1922001163             38120\n",
       "46  1144223280             38105\n",
       "47  1467455592             38105\n",
       "48  1225031347             38138\n",
       "49  1386647303             38358"
      ]
     },
     "execution_count": 61,
     "metadata": {},
     "output_type": "execute_result"
    }
   ],
   "source": [
    "test"
   ]
  },
  {
   "cell_type": "code",
   "execution_count": null,
   "metadata": {},
   "outputs": [],
   "source": []
  }
 ],
 "metadata": {
  "kernelspec": {
   "display_name": "Python 3",
   "language": "python",
   "name": "python3"
  },
  "language_info": {
   "codemirror_mode": {
    "name": "ipython",
    "version": 3
   },
   "file_extension": ".py",
   "mimetype": "text/x-python",
   "name": "python",
   "nbconvert_exporter": "python",
   "pygments_lexer": "ipython3",
   "version": "3.8.3"
  }
 },
 "nbformat": 4,
 "nbformat_minor": 4
}
