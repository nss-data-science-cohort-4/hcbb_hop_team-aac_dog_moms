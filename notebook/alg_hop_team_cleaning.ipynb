{
 "cells": [
  {
   "cell_type": "code",
   "execution_count": 46,
   "metadata": {},
   "outputs": [],
   "source": [
    "import pandas as pd\n",
    "import sqlite3\n",
    "import plotly.express as px"
   ]
  },
  {
   "cell_type": "code",
   "execution_count": 2,
   "metadata": {},
   "outputs": [],
   "source": [
    "pd.options.display.max_columns = None\n",
    "pd.options.display.max_rows = None"
   ]
  },
  {
   "cell_type": "code",
   "execution_count": 3,
   "metadata": {},
   "outputs": [],
   "source": [
    "db = sqlite3.connect('../data/nppes_lite.sqlite') #reopen the connection\n",
    "\n",
    "query = \"\"\"\n",
    "SELECT * \n",
    "FROM hop_team\n",
    "\"\"\"\n",
    "hop_team = pd.read_sql(query,db)\n",
    "\n",
    "db.close() "
   ]
  },
  {
   "cell_type": "code",
   "execution_count": 4,
   "metadata": {},
   "outputs": [
    {
     "data": {
      "text/html": [
       "<div>\n",
       "<style scoped>\n",
       "    .dataframe tbody tr th:only-of-type {\n",
       "        vertical-align: middle;\n",
       "    }\n",
       "\n",
       "    .dataframe tbody tr th {\n",
       "        vertical-align: top;\n",
       "    }\n",
       "\n",
       "    .dataframe thead th {\n",
       "        text-align: right;\n",
       "    }\n",
       "</style>\n",
       "<table border=\"1\" class=\"dataframe\">\n",
       "  <thead>\n",
       "    <tr style=\"text-align: right;\">\n",
       "      <th></th>\n",
       "      <th>from_npi</th>\n",
       "      <th>to_npi</th>\n",
       "      <th>patient_count</th>\n",
       "      <th>transaction_count</th>\n",
       "      <th>average_day_wait</th>\n",
       "      <th>std_day_wait</th>\n",
       "    </tr>\n",
       "  </thead>\n",
       "  <tbody>\n",
       "    <tr>\n",
       "      <th>0</th>\n",
       "      <td>1033142146</td>\n",
       "      <td>1000000004</td>\n",
       "      <td>491</td>\n",
       "      <td>535</td>\n",
       "      <td>10.232</td>\n",
       "      <td>36.558</td>\n",
       "    </tr>\n",
       "    <tr>\n",
       "      <th>1</th>\n",
       "      <td>1013977990</td>\n",
       "      <td>1003000126</td>\n",
       "      <td>134</td>\n",
       "      <td>145</td>\n",
       "      <td>27.352</td>\n",
       "      <td>51.137</td>\n",
       "    </tr>\n",
       "    <tr>\n",
       "      <th>2</th>\n",
       "      <td>1013996669</td>\n",
       "      <td>1003000126</td>\n",
       "      <td>91</td>\n",
       "      <td>92</td>\n",
       "      <td>35.152</td>\n",
       "      <td>68.009</td>\n",
       "    </tr>\n",
       "    <tr>\n",
       "      <th>3</th>\n",
       "      <td>1033102504</td>\n",
       "      <td>1003000126</td>\n",
       "      <td>52</td>\n",
       "      <td>64</td>\n",
       "      <td>15.328</td>\n",
       "      <td>38.300</td>\n",
       "    </tr>\n",
       "    <tr>\n",
       "      <th>4</th>\n",
       "      <td>1003029620</td>\n",
       "      <td>1003000126</td>\n",
       "      <td>111</td>\n",
       "      <td>121</td>\n",
       "      <td>33.058</td>\n",
       "      <td>58.981</td>\n",
       "    </tr>\n",
       "  </tbody>\n",
       "</table>\n",
       "</div>"
      ],
      "text/plain": [
       "     from_npi      to_npi  patient_count  transaction_count  average_day_wait  \\\n",
       "0  1033142146  1000000004            491                535            10.232   \n",
       "1  1013977990  1003000126            134                145            27.352   \n",
       "2  1013996669  1003000126             91                 92            35.152   \n",
       "3  1033102504  1003000126             52                 64            15.328   \n",
       "4  1003029620  1003000126            111                121            33.058   \n",
       "\n",
       "   std_day_wait  \n",
       "0        36.558  \n",
       "1        51.137  \n",
       "2        68.009  \n",
       "3        38.300  \n",
       "4        58.981  "
      ]
     },
     "execution_count": 4,
     "metadata": {},
     "output_type": "execute_result"
    }
   ],
   "source": [
    "hop_team.head()"
   ]
  },
  {
   "cell_type": "code",
   "execution_count": 5,
   "metadata": {},
   "outputs": [
    {
     "data": {
      "text/plain": [
       "(31704890, 6)"
      ]
     },
     "execution_count": 5,
     "metadata": {},
     "output_type": "execute_result"
    }
   ],
   "source": [
    "hop_team.shape"
   ]
  },
  {
   "cell_type": "markdown",
   "metadata": {},
   "source": [
    "### Overlaps hop_team with npi from and to:"
   ]
  },
  {
   "cell_type": "code",
   "execution_count": 15,
   "metadata": {},
   "outputs": [],
   "source": [
    "db = sqlite3.connect('../data/nppes_lite.sqlite') #reopen the connection\n",
    "\n",
    "query = \"\"\"\n",
    "    SELECT *\n",
    "    FROM hop_team\n",
    "    WHERE from_npi IN(\n",
    "        SELECT DISTINCT(npi)  \n",
    "        FROM nash_nppes\n",
    "        WHERE entity_type_code == 1)\n",
    "    AND to_npi IN(\n",
    "        SELECT DISTINCT(npi)\n",
    "        FROM nash_nppes\n",
    "        WHERE entity_type_code == 2)\n",
    "\"\"\"\n",
    "\n",
    "hops = pd.read_sql(query,db)\n",
    "\n",
    "db.close()"
   ]
  },
  {
   "cell_type": "code",
   "execution_count": 16,
   "metadata": {},
   "outputs": [
    {
     "data": {
      "text/plain": [
       "(41127, 6)"
      ]
     },
     "execution_count": 16,
     "metadata": {},
     "output_type": "execute_result"
    }
   ],
   "source": [
    "hops.shape"
   ]
  },
  {
   "cell_type": "code",
   "execution_count": 17,
   "metadata": {},
   "outputs": [
    {
     "data": {
      "text/html": [
       "<div>\n",
       "<style scoped>\n",
       "    .dataframe tbody tr th:only-of-type {\n",
       "        vertical-align: middle;\n",
       "    }\n",
       "\n",
       "    .dataframe tbody tr th {\n",
       "        vertical-align: top;\n",
       "    }\n",
       "\n",
       "    .dataframe thead th {\n",
       "        text-align: right;\n",
       "    }\n",
       "</style>\n",
       "<table border=\"1\" class=\"dataframe\">\n",
       "  <thead>\n",
       "    <tr style=\"text-align: right;\">\n",
       "      <th></th>\n",
       "      <th>from_npi</th>\n",
       "      <th>to_npi</th>\n",
       "      <th>patient_count</th>\n",
       "      <th>transaction_count</th>\n",
       "      <th>average_day_wait</th>\n",
       "      <th>std_day_wait</th>\n",
       "    </tr>\n",
       "  </thead>\n",
       "  <tbody>\n",
       "    <tr>\n",
       "      <th>0</th>\n",
       "      <td>1003963976</td>\n",
       "      <td>1003028770</td>\n",
       "      <td>2535</td>\n",
       "      <td>3945</td>\n",
       "      <td>0.000</td>\n",
       "      <td>0.000</td>\n",
       "    </tr>\n",
       "    <tr>\n",
       "      <th>1</th>\n",
       "      <td>1033246640</td>\n",
       "      <td>1003863580</td>\n",
       "      <td>58</td>\n",
       "      <td>58</td>\n",
       "      <td>45.603</td>\n",
       "      <td>56.574</td>\n",
       "    </tr>\n",
       "    <tr>\n",
       "      <th>2</th>\n",
       "      <td>1033215157</td>\n",
       "      <td>1003863580</td>\n",
       "      <td>124</td>\n",
       "      <td>126</td>\n",
       "      <td>22.833</td>\n",
       "      <td>53.329</td>\n",
       "    </tr>\n",
       "    <tr>\n",
       "      <th>3</th>\n",
       "      <td>1023223898</td>\n",
       "      <td>1003863580</td>\n",
       "      <td>1739</td>\n",
       "      <td>1872</td>\n",
       "      <td>0.169</td>\n",
       "      <td>5.185</td>\n",
       "    </tr>\n",
       "    <tr>\n",
       "      <th>4</th>\n",
       "      <td>1023253549</td>\n",
       "      <td>1003863580</td>\n",
       "      <td>34</td>\n",
       "      <td>53</td>\n",
       "      <td>31.887</td>\n",
       "      <td>50.676</td>\n",
       "    </tr>\n",
       "  </tbody>\n",
       "</table>\n",
       "</div>"
      ],
      "text/plain": [
       "     from_npi      to_npi  patient_count  transaction_count  average_day_wait  \\\n",
       "0  1003963976  1003028770           2535               3945             0.000   \n",
       "1  1033246640  1003863580             58                 58            45.603   \n",
       "2  1033215157  1003863580            124                126            22.833   \n",
       "3  1023223898  1003863580           1739               1872             0.169   \n",
       "4  1023253549  1003863580             34                 53            31.887   \n",
       "\n",
       "   std_day_wait  \n",
       "0         0.000  \n",
       "1        56.574  \n",
       "2        53.329  \n",
       "3         5.185  \n",
       "4        50.676  "
      ]
     },
     "execution_count": 17,
     "metadata": {},
     "output_type": "execute_result"
    }
   ],
   "source": [
    "hops.head()"
   ]
  },
  {
   "cell_type": "code",
   "execution_count": 18,
   "metadata": {},
   "outputs": [],
   "source": [
    "#save as new table in database called nash_nppes\n",
    "db = sqlite3.connect('../data/nppes_lite.sqlite') #open connection\n",
    "\n",
    "hops.to_sql('nash_hop_team', db, if_exists = 'append', index = False) #save nashville hop_team\n",
    "\n",
    "db.close() #close connection"
   ]
  },
  {
   "cell_type": "code",
   "execution_count": 60,
   "metadata": {},
   "outputs": [],
   "source": [
    "# create a database or connect to an existing one\n",
    "#db = sqlite3.connect('../data/nppes_lite.sqlite')\n",
    "# if you need to edit the database...\n",
    "#cursor = db.cursor()\n",
    "# Drop the table and return a line that says that it's gone\n",
    "#cursor.execute(\"DROP TABLE nash_hop_team\")\n",
    "#print(\"Table dropped...\")"
   ]
  },
  {
   "cell_type": "markdown",
   "metadata": {},
   "source": [
    "### Merge nash_nppes and nash_hop_team data:"
   ]
  },
  {
   "cell_type": "code",
   "execution_count": 36,
   "metadata": {},
   "outputs": [],
   "source": [
    "db = sqlite3.connect('../data/nppes_lite.sqlite') #reopen the connection\n",
    "\n",
    "query = \"\"\"\n",
    "WITH provider AS(\n",
    "SELECT DISTINCT(npi), first_name || ' ' || last_name AS from_physician , \n",
    "        address_1 AS from_address,\n",
    "        taxonomy_code AS from_tax,\n",
    "        grouping AS from_grouping,\n",
    "        classification AS from_classification\n",
    "FROM nash_nppes\n",
    "INNER JOIN nash_hop_team\n",
    "ON npi = from_npi\n",
    "),\n",
    "\n",
    "hospital AS(\n",
    "SELECT DISTINCT(npi), \n",
    "        org_name AS to_facility,\n",
    "        address_1 AS to_address,\n",
    "        taxonomy_code AS to_tax,\n",
    "        grouping AS to_grouping,\n",
    "        classification AS to_classification\n",
    "FROM nash_nppes\n",
    "INNER JOIN nash_hop_team\n",
    "ON npi = to_npi\n",
    ") \n",
    "\n",
    "SELECT from_npi, from_physician, from_address,from_tax, from_grouping, from_classification, \n",
    "       to_npi, to_facility, to_address, to_tax, to_grouping, to_classification,\n",
    "       patient_count, transaction_count, average_day_wait, std_day_wait\n",
    "        \n",
    "FROM nash_hop_team\n",
    "INNER JOIN provider as p\n",
    "ON p.npi = from_npi\n",
    "INNER JOIN hospital as h\n",
    "ON h.npi = to_npi\n",
    "\n",
    "\"\"\"\n",
    "final = pd.read_sql(query,db)\n",
    "\n",
    "db.close() "
   ]
  },
  {
   "cell_type": "code",
   "execution_count": 37,
   "metadata": {},
   "outputs": [
    {
     "data": {
      "text/html": [
       "<div>\n",
       "<style scoped>\n",
       "    .dataframe tbody tr th:only-of-type {\n",
       "        vertical-align: middle;\n",
       "    }\n",
       "\n",
       "    .dataframe tbody tr th {\n",
       "        vertical-align: top;\n",
       "    }\n",
       "\n",
       "    .dataframe thead th {\n",
       "        text-align: right;\n",
       "    }\n",
       "</style>\n",
       "<table border=\"1\" class=\"dataframe\">\n",
       "  <thead>\n",
       "    <tr style=\"text-align: right;\">\n",
       "      <th></th>\n",
       "      <th>from_npi</th>\n",
       "      <th>from_physician</th>\n",
       "      <th>from_address</th>\n",
       "      <th>from_tax</th>\n",
       "      <th>from_grouping</th>\n",
       "      <th>from_classification</th>\n",
       "      <th>to_npi</th>\n",
       "      <th>to_facility</th>\n",
       "      <th>to_address</th>\n",
       "      <th>to_tax</th>\n",
       "      <th>to_grouping</th>\n",
       "      <th>to_classification</th>\n",
       "      <th>patient_count</th>\n",
       "      <th>transaction_count</th>\n",
       "      <th>average_day_wait</th>\n",
       "      <th>std_day_wait</th>\n",
       "    </tr>\n",
       "  </thead>\n",
       "  <tbody>\n",
       "    <tr>\n",
       "      <th>0</th>\n",
       "      <td>1003963976</td>\n",
       "      <td>BENJAMIN HAYES</td>\n",
       "      <td>3098 CAMPBELL STATION PKWY STE A201</td>\n",
       "      <td>207NP0225X</td>\n",
       "      <td>Allopathic &amp; Osteopathic Physicians</td>\n",
       "      <td>Dermatology</td>\n",
       "      <td>1003028770</td>\n",
       "      <td>SPRING HILL DERMATOLOGY PLC</td>\n",
       "      <td>1229 RESERVE BLVD</td>\n",
       "      <td>207N00000X</td>\n",
       "      <td>Allopathic &amp; Osteopathic Physicians</td>\n",
       "      <td>Dermatology</td>\n",
       "      <td>2535</td>\n",
       "      <td>3945</td>\n",
       "      <td>0.000</td>\n",
       "      <td>0.000</td>\n",
       "    </tr>\n",
       "    <tr>\n",
       "      <th>1</th>\n",
       "      <td>1033246640</td>\n",
       "      <td>OUIDA COLLINS</td>\n",
       "      <td>3601 TVC</td>\n",
       "      <td>207Q00000X</td>\n",
       "      <td>Allopathic &amp; Osteopathic Physicians</td>\n",
       "      <td>Family Medicine</td>\n",
       "      <td>1003863580</td>\n",
       "      <td>ASSOCIATED PATHOLOGISTS, LLC</td>\n",
       "      <td>5301 VIRGINIA WAY STE 300</td>\n",
       "      <td>207ZP0102X</td>\n",
       "      <td>Allopathic &amp; Osteopathic Physicians</td>\n",
       "      <td>Pathology</td>\n",
       "      <td>58</td>\n",
       "      <td>58</td>\n",
       "      <td>45.603</td>\n",
       "      <td>56.574</td>\n",
       "    </tr>\n",
       "    <tr>\n",
       "      <th>2</th>\n",
       "      <td>1033215157</td>\n",
       "      <td>KENDRA RENNELL</td>\n",
       "      <td>1224 TROTWOOD AVE</td>\n",
       "      <td>174400000X</td>\n",
       "      <td>Other Service Providers</td>\n",
       "      <td>Specialist</td>\n",
       "      <td>1003863580</td>\n",
       "      <td>ASSOCIATED PATHOLOGISTS, LLC</td>\n",
       "      <td>5301 VIRGINIA WAY STE 300</td>\n",
       "      <td>207ZP0102X</td>\n",
       "      <td>Allopathic &amp; Osteopathic Physicians</td>\n",
       "      <td>Pathology</td>\n",
       "      <td>124</td>\n",
       "      <td>126</td>\n",
       "      <td>22.833</td>\n",
       "      <td>53.329</td>\n",
       "    </tr>\n",
       "    <tr>\n",
       "      <th>3</th>\n",
       "      <td>1023223898</td>\n",
       "      <td>RANDALL WOODFORD</td>\n",
       "      <td>5301 VIRGINIA WAY</td>\n",
       "      <td>207ZP0102X</td>\n",
       "      <td>Allopathic &amp; Osteopathic Physicians</td>\n",
       "      <td>Pathology</td>\n",
       "      <td>1003863580</td>\n",
       "      <td>ASSOCIATED PATHOLOGISTS, LLC</td>\n",
       "      <td>5301 VIRGINIA WAY STE 300</td>\n",
       "      <td>207ZP0102X</td>\n",
       "      <td>Allopathic &amp; Osteopathic Physicians</td>\n",
       "      <td>Pathology</td>\n",
       "      <td>1739</td>\n",
       "      <td>1872</td>\n",
       "      <td>0.169</td>\n",
       "      <td>5.185</td>\n",
       "    </tr>\n",
       "    <tr>\n",
       "      <th>4</th>\n",
       "      <td>1023253549</td>\n",
       "      <td>RHETT BRUNER</td>\n",
       "      <td>1501 WOODLAND POINTE DR</td>\n",
       "      <td>111N00000X</td>\n",
       "      <td>Chiropractic Providers</td>\n",
       "      <td>Chiropractor</td>\n",
       "      <td>1003863580</td>\n",
       "      <td>ASSOCIATED PATHOLOGISTS, LLC</td>\n",
       "      <td>5301 VIRGINIA WAY STE 300</td>\n",
       "      <td>207ZP0102X</td>\n",
       "      <td>Allopathic &amp; Osteopathic Physicians</td>\n",
       "      <td>Pathology</td>\n",
       "      <td>34</td>\n",
       "      <td>53</td>\n",
       "      <td>31.887</td>\n",
       "      <td>50.676</td>\n",
       "    </tr>\n",
       "  </tbody>\n",
       "</table>\n",
       "</div>"
      ],
      "text/plain": [
       "     from_npi    from_physician                         from_address  \\\n",
       "0  1003963976    BENJAMIN HAYES  3098 CAMPBELL STATION PKWY STE A201   \n",
       "1  1033246640     OUIDA COLLINS                             3601 TVC   \n",
       "2  1033215157    KENDRA RENNELL                    1224 TROTWOOD AVE   \n",
       "3  1023223898  RANDALL WOODFORD                    5301 VIRGINIA WAY   \n",
       "4  1023253549      RHETT BRUNER              1501 WOODLAND POINTE DR   \n",
       "\n",
       "     from_tax                        from_grouping from_classification  \\\n",
       "0  207NP0225X  Allopathic & Osteopathic Physicians         Dermatology   \n",
       "1  207Q00000X  Allopathic & Osteopathic Physicians     Family Medicine   \n",
       "2  174400000X              Other Service Providers          Specialist   \n",
       "3  207ZP0102X  Allopathic & Osteopathic Physicians           Pathology   \n",
       "4  111N00000X               Chiropractic Providers        Chiropractor   \n",
       "\n",
       "       to_npi                   to_facility                 to_address  \\\n",
       "0  1003028770   SPRING HILL DERMATOLOGY PLC          1229 RESERVE BLVD   \n",
       "1  1003863580  ASSOCIATED PATHOLOGISTS, LLC  5301 VIRGINIA WAY STE 300   \n",
       "2  1003863580  ASSOCIATED PATHOLOGISTS, LLC  5301 VIRGINIA WAY STE 300   \n",
       "3  1003863580  ASSOCIATED PATHOLOGISTS, LLC  5301 VIRGINIA WAY STE 300   \n",
       "4  1003863580  ASSOCIATED PATHOLOGISTS, LLC  5301 VIRGINIA WAY STE 300   \n",
       "\n",
       "       to_tax                          to_grouping to_classification  \\\n",
       "0  207N00000X  Allopathic & Osteopathic Physicians       Dermatology   \n",
       "1  207ZP0102X  Allopathic & Osteopathic Physicians         Pathology   \n",
       "2  207ZP0102X  Allopathic & Osteopathic Physicians         Pathology   \n",
       "3  207ZP0102X  Allopathic & Osteopathic Physicians         Pathology   \n",
       "4  207ZP0102X  Allopathic & Osteopathic Physicians         Pathology   \n",
       "\n",
       "   patient_count  transaction_count  average_day_wait  std_day_wait  \n",
       "0           2535               3945             0.000         0.000  \n",
       "1             58                 58            45.603        56.574  \n",
       "2            124                126            22.833        53.329  \n",
       "3           1739               1872             0.169         5.185  \n",
       "4             34                 53            31.887        50.676  "
      ]
     },
     "execution_count": 37,
     "metadata": {},
     "output_type": "execute_result"
    }
   ],
   "source": [
    "final.head()"
   ]
  },
  {
   "cell_type": "code",
   "execution_count": 38,
   "metadata": {},
   "outputs": [
    {
     "data": {
      "text/plain": [
       "(41127, 16)"
      ]
     },
     "execution_count": 38,
     "metadata": {},
     "output_type": "execute_result"
    }
   ],
   "source": [
    "final.shape"
   ]
  },
  {
   "cell_type": "code",
   "execution_count": 61,
   "metadata": {},
   "outputs": [],
   "source": [
    "#save as new table in database called nash_nppes_hop_team\n",
    "db = sqlite3.connect('../data/nppes_lite.sqlite') #open connection\n",
    "\n",
    "final.to_sql('nash_nppes_hop_team', db, if_exists = 'append', index = False) #save nashville hop_team\n",
    "\n",
    "db.close() #close connection"
   ]
  },
  {
   "cell_type": "markdown",
   "metadata": {},
   "source": [
    "### Clean column classification from hospitals:"
   ]
  },
  {
   "cell_type": "code",
   "execution_count": 54,
   "metadata": {},
   "outputs": [
    {
     "data": {
      "text/plain": [
       "Internal Medicine                                                   10292\n",
       "General Acute Care Hospital                                          6425\n",
       "Radiology                                                            4609\n",
       "Specialist                                                           2560\n",
       "Anesthesiology                                                       1955\n",
       "Ambulance                                                            1743\n",
       "Emergency Medicine                                                   1564\n",
       "Pathology                                                            1410\n",
       "Family Medicine                                                      1371\n",
       "Clinic/Center                                                        1298\n",
       "Orthopaedic Surgery                                                   966\n",
       "Durable Medical Equipment & Medical Supplies                          910\n",
       "Clinical Medical Laboratory                                           700\n",
       "Nurse Practitioner                                                    592\n",
       "Surgery                                                               580\n",
       "Urology                                                               484\n",
       "Skilled Nursing Facility                                              466\n",
       "Psychiatry & Neurology                                                357\n",
       "Ophthalmology                                                         236\n",
       "Portable X-ray and/or Other Portable Diagnostic Imaging Supplier      201\n",
       "Home Health                                                           184\n",
       "Physical Medicine & Rehabilitation                                    176\n",
       "Physical Therapist                                                    172\n",
       "Hospitalist                                                           154\n",
       "Nurse Anesthetist, Certified Registered                               152\n",
       "Podiatrist                                                            138\n",
       "Pharmacy                                                              135\n",
       "Optometrist                                                           118\n",
       "Hospice Care, Community Based                                         113\n",
       "Pain Medicine                                                         111\n",
       "Neurological Surgery                                                   99\n",
       "Dermatology                                                            93\n",
       "Chiropractor                                                           87\n",
       "Otolaryngology                                                         76\n",
       "Rehabilitation Unit                                                    58\n",
       "Nursing Facility/Intermediate Care Facility                            53\n",
       "Rehabilitation Hospital                                                51\n",
       "Obstetrics & Gynecology                                                49\n",
       "Psychiatric Unit                                                       49\n",
       "Long Term Care Hospital                                                42\n",
       "Psychologist                                                           37\n",
       "Psychiatric Hospital                                                   32\n",
       "Special Hospital                                                       31\n",
       "Counselor                                                              28\n",
       "Thoracic Surgery (Cardiothoracic Vascular Surgery)                     25\n",
       "General Practice                                                       23\n",
       "Physiological Laboratory                                               22\n",
       "Legal Medicine                                                         17\n",
       "Audiologist-Hearing Aid Fitter                                         11\n",
       "Prosthetic/Orthotic Supplier                                           10\n",
       "Physician Assistant                                                     9\n",
       "Plastic Surgery                                                         7\n",
       "Allergy & Immunology                                                    7\n",
       "Social Worker                                                           6\n",
       "Neuromusculoskeletal Medicine, Sports Medicine                          6\n",
       "Registered Nurse                                                        5\n",
       "Eyewear Supplier                                                        5\n",
       "Audiologist                                                             4\n",
       "Preferred Provider Organization                                         3\n",
       "Dentist                                                                 3\n",
       "Licensed Practical Nurse                                                2\n",
       "Public Health or Welfare                                                1\n",
       "Clinical Neuropsychologist                                              1\n",
       "Dietitian, Registered                                                   1\n",
       "Pediatrics                                                              1\n",
       "Clinical Nurse Specialist                                               1\n",
       "Name: to_classification, dtype: int64"
      ]
     },
     "execution_count": 54,
     "metadata": {},
     "output_type": "execute_result"
    }
   ],
   "source": [
    "nash_nppes_hop_team.to_classification.value_counts()"
   ]
  },
  {
   "cell_type": "code",
   "execution_count": 58,
   "metadata": {},
   "outputs": [
    {
     "name": "stdout",
     "output_type": "stream",
     "text": [
      "<class 'pandas.core.frame.DataFrame'>\n",
      "Int64Index: 27871 entries, 0 to 41126\n",
      "Data columns (total 16 columns):\n",
      " #   Column               Non-Null Count  Dtype  \n",
      "---  ------               --------------  -----  \n",
      " 0   from_npi             27871 non-null  int64  \n",
      " 1   from_physician       27866 non-null  object \n",
      " 2   from_address         27871 non-null  object \n",
      " 3   from_tax             27871 non-null  object \n",
      " 4   from_grouping        27871 non-null  object \n",
      " 5   from_classification  27871 non-null  object \n",
      " 6   to_npi               27871 non-null  int64  \n",
      " 7   to_facility          27871 non-null  object \n",
      " 8   to_address           27871 non-null  object \n",
      " 9   to_tax               27871 non-null  object \n",
      " 10  to_grouping          27871 non-null  object \n",
      " 11  to_classification    27871 non-null  object \n",
      " 12  patient_count        27871 non-null  int64  \n",
      " 13  transaction_count    27871 non-null  int64  \n",
      " 14  average_day_wait     27871 non-null  float64\n",
      " 15  std_day_wait         27871 non-null  float64\n",
      "dtypes: float64(2), int64(4), object(10)\n",
      "memory usage: 3.6+ MB\n"
     ]
    }
   ],
   "source": [
    "#define a list of elements we want to remove from the to_classification column\n",
    "exclude_to_classification = [\"Radiology\", \n",
    "                             \"Anesthesiology\", \n",
    "                             \"Ambulance\", \n",
    "                             \"Emergency Medicine\", \n",
    "                             \"Pathology\", \n",
    "                             \"Durable Medical Equipment & Medical Supplies\", \n",
    "                             \"Clinical Medical Laboratory\", \n",
    "                             \"Portable X-ray and/or Other Portable Diagnostic Imaging Supplier\", \n",
    "                             \"Pharmacy\", \n",
    "                             \"Audiologist-Hearing Aid Fitter\", \n",
    "                             \"Prosthetic/Orthotic Supplier\", \n",
    "                             \"Eyewear Supplier\", \n",
    "                             \"Preferred Provider Organization\"]\n",
    "#use boolean mask to say 'keep everything that is NOT included in this list'\n",
    "excluded_classification = nash_nppes_hop_team[~nash_nppes_hop_team.to_classification.isin(exclude_to_classification)]\n",
    "excluded_classification.info()  "
   ]
  },
  {
   "cell_type": "code",
   "execution_count": 59,
   "metadata": {},
   "outputs": [
    {
     "data": {
      "text/html": [
       "<div>\n",
       "<style scoped>\n",
       "    .dataframe tbody tr th:only-of-type {\n",
       "        vertical-align: middle;\n",
       "    }\n",
       "\n",
       "    .dataframe tbody tr th {\n",
       "        vertical-align: top;\n",
       "    }\n",
       "\n",
       "    .dataframe thead th {\n",
       "        text-align: right;\n",
       "    }\n",
       "</style>\n",
       "<table border=\"1\" class=\"dataframe\">\n",
       "  <thead>\n",
       "    <tr style=\"text-align: right;\">\n",
       "      <th></th>\n",
       "      <th>from_npi</th>\n",
       "      <th>from_physician</th>\n",
       "      <th>from_address</th>\n",
       "      <th>from_tax</th>\n",
       "      <th>from_grouping</th>\n",
       "      <th>from_classification</th>\n",
       "      <th>to_npi</th>\n",
       "      <th>to_facility</th>\n",
       "      <th>to_address</th>\n",
       "      <th>to_tax</th>\n",
       "      <th>to_grouping</th>\n",
       "      <th>to_classification</th>\n",
       "      <th>patient_count</th>\n",
       "      <th>transaction_count</th>\n",
       "      <th>average_day_wait</th>\n",
       "      <th>std_day_wait</th>\n",
       "    </tr>\n",
       "  </thead>\n",
       "  <tbody>\n",
       "    <tr>\n",
       "      <th>0</th>\n",
       "      <td>1003963976</td>\n",
       "      <td>BENJAMIN HAYES</td>\n",
       "      <td>3098 CAMPBELL STATION PKWY STE A201</td>\n",
       "      <td>207NP0225X</td>\n",
       "      <td>Allopathic &amp; Osteopathic Physicians</td>\n",
       "      <td>Dermatology</td>\n",
       "      <td>1003028770</td>\n",
       "      <td>SPRING HILL DERMATOLOGY PLC</td>\n",
       "      <td>1229 RESERVE BLVD</td>\n",
       "      <td>207N00000X</td>\n",
       "      <td>Allopathic &amp; Osteopathic Physicians</td>\n",
       "      <td>Dermatology</td>\n",
       "      <td>2535</td>\n",
       "      <td>3945</td>\n",
       "      <td>0.000</td>\n",
       "      <td>0.000</td>\n",
       "    </tr>\n",
       "    <tr>\n",
       "      <th>33</th>\n",
       "      <td>1043281710</td>\n",
       "      <td>JOSEPH SCOTT</td>\n",
       "      <td>1272 GARRISON DRIVE</td>\n",
       "      <td>207R00000X</td>\n",
       "      <td>Allopathic &amp; Osteopathic Physicians</td>\n",
       "      <td>Internal Medicine</td>\n",
       "      <td>1003914201</td>\n",
       "      <td>SLEEP CENTERS OF MIDDLE TENNESSEE LLC</td>\n",
       "      <td>1505 WILLIAMS DR STE 200</td>\n",
       "      <td>207RS0012X</td>\n",
       "      <td>Allopathic &amp; Osteopathic Physicians</td>\n",
       "      <td>Internal Medicine</td>\n",
       "      <td>42</td>\n",
       "      <td>51</td>\n",
       "      <td>33.941</td>\n",
       "      <td>33.132</td>\n",
       "    </tr>\n",
       "    <tr>\n",
       "      <th>34</th>\n",
       "      <td>1013958776</td>\n",
       "      <td>AHMAD ABU-HALIMAH</td>\n",
       "      <td>VANDERBILT UNIVERSITY MEDICAL CTR. CARDIOLOGY ...</td>\n",
       "      <td>207RC0000X</td>\n",
       "      <td>Allopathic &amp; Osteopathic Physicians</td>\n",
       "      <td>Internal Medicine</td>\n",
       "      <td>1003914201</td>\n",
       "      <td>SLEEP CENTERS OF MIDDLE TENNESSEE LLC</td>\n",
       "      <td>1505 WILLIAMS DR STE 200</td>\n",
       "      <td>207RS0012X</td>\n",
       "      <td>Allopathic &amp; Osteopathic Physicians</td>\n",
       "      <td>Internal Medicine</td>\n",
       "      <td>62</td>\n",
       "      <td>76</td>\n",
       "      <td>49.618</td>\n",
       "      <td>56.469</td>\n",
       "    </tr>\n",
       "    <tr>\n",
       "      <th>35</th>\n",
       "      <td>1003075862</td>\n",
       "      <td>AKASHIA ANDERSON</td>\n",
       "      <td>211 HERITAGE PARK DR</td>\n",
       "      <td>207Q00000X</td>\n",
       "      <td>Allopathic &amp; Osteopathic Physicians</td>\n",
       "      <td>Family Medicine</td>\n",
       "      <td>1013109511</td>\n",
       "      <td>MID SOUTH PSYCHIATRIC ASSOCIATES</td>\n",
       "      <td>1830 HERITAGE PARK PLZ</td>\n",
       "      <td>103TP0016X</td>\n",
       "      <td>Behavioral Health &amp; Social Service Providers</td>\n",
       "      <td>Psychologist</td>\n",
       "      <td>108</td>\n",
       "      <td>354</td>\n",
       "      <td>22.073</td>\n",
       "      <td>19.142</td>\n",
       "    </tr>\n",
       "    <tr>\n",
       "      <th>36</th>\n",
       "      <td>1043232879</td>\n",
       "      <td>JONATHAN GORDON</td>\n",
       "      <td>3024 BUSINESS PARK CIR</td>\n",
       "      <td>2085R0202X</td>\n",
       "      <td>Allopathic &amp; Osteopathic Physicians</td>\n",
       "      <td>Radiology</td>\n",
       "      <td>1013224617</td>\n",
       "      <td>WILLIAM G BOGER MD PLLC</td>\n",
       "      <td>2000 RESERVE BLVD</td>\n",
       "      <td>207R00000X</td>\n",
       "      <td>Allopathic &amp; Osteopathic Physicians</td>\n",
       "      <td>Internal Medicine</td>\n",
       "      <td>80</td>\n",
       "      <td>83</td>\n",
       "      <td>23.048</td>\n",
       "      <td>36.056</td>\n",
       "    </tr>\n",
       "  </tbody>\n",
       "</table>\n",
       "</div>"
      ],
      "text/plain": [
       "      from_npi     from_physician  \\\n",
       "0   1003963976     BENJAMIN HAYES   \n",
       "33  1043281710       JOSEPH SCOTT   \n",
       "34  1013958776  AHMAD ABU-HALIMAH   \n",
       "35  1003075862   AKASHIA ANDERSON   \n",
       "36  1043232879    JONATHAN GORDON   \n",
       "\n",
       "                                         from_address    from_tax  \\\n",
       "0                 3098 CAMPBELL STATION PKWY STE A201  207NP0225X   \n",
       "33                                1272 GARRISON DRIVE  207R00000X   \n",
       "34  VANDERBILT UNIVERSITY MEDICAL CTR. CARDIOLOGY ...  207RC0000X   \n",
       "35                               211 HERITAGE PARK DR  207Q00000X   \n",
       "36                             3024 BUSINESS PARK CIR  2085R0202X   \n",
       "\n",
       "                          from_grouping from_classification      to_npi  \\\n",
       "0   Allopathic & Osteopathic Physicians         Dermatology  1003028770   \n",
       "33  Allopathic & Osteopathic Physicians   Internal Medicine  1003914201   \n",
       "34  Allopathic & Osteopathic Physicians   Internal Medicine  1003914201   \n",
       "35  Allopathic & Osteopathic Physicians     Family Medicine  1013109511   \n",
       "36  Allopathic & Osteopathic Physicians           Radiology  1013224617   \n",
       "\n",
       "                              to_facility                to_address  \\\n",
       "0             SPRING HILL DERMATOLOGY PLC         1229 RESERVE BLVD   \n",
       "33  SLEEP CENTERS OF MIDDLE TENNESSEE LLC  1505 WILLIAMS DR STE 200   \n",
       "34  SLEEP CENTERS OF MIDDLE TENNESSEE LLC  1505 WILLIAMS DR STE 200   \n",
       "35       MID SOUTH PSYCHIATRIC ASSOCIATES    1830 HERITAGE PARK PLZ   \n",
       "36                WILLIAM G BOGER MD PLLC         2000 RESERVE BLVD   \n",
       "\n",
       "        to_tax                                   to_grouping  \\\n",
       "0   207N00000X           Allopathic & Osteopathic Physicians   \n",
       "33  207RS0012X           Allopathic & Osteopathic Physicians   \n",
       "34  207RS0012X           Allopathic & Osteopathic Physicians   \n",
       "35  103TP0016X  Behavioral Health & Social Service Providers   \n",
       "36  207R00000X           Allopathic & Osteopathic Physicians   \n",
       "\n",
       "    to_classification  patient_count  transaction_count  average_day_wait  \\\n",
       "0         Dermatology           2535               3945             0.000   \n",
       "33  Internal Medicine             42                 51            33.941   \n",
       "34  Internal Medicine             62                 76            49.618   \n",
       "35       Psychologist            108                354            22.073   \n",
       "36  Internal Medicine             80                 83            23.048   \n",
       "\n",
       "    std_day_wait  \n",
       "0          0.000  \n",
       "33        33.132  \n",
       "34        56.469  \n",
       "35        19.142  \n",
       "36        36.056  "
      ]
     },
     "execution_count": 59,
     "metadata": {},
     "output_type": "execute_result"
    }
   ],
   "source": [
    "excluded_classification.head()"
   ]
  },
  {
   "cell_type": "code",
   "execution_count": null,
   "metadata": {},
   "outputs": [],
   "source": []
  },
  {
   "cell_type": "code",
   "execution_count": null,
   "metadata": {},
   "outputs": [],
   "source": []
  },
  {
   "cell_type": "code",
   "execution_count": null,
   "metadata": {},
   "outputs": [],
   "source": []
  },
  {
   "cell_type": "markdown",
   "metadata": {},
   "source": [
    "### Look at interaction physician and hospital where average waiting time = 0, which most likely mean physician work in this specific hospital:"
   ]
  },
  {
   "cell_type": "code",
   "execution_count": 62,
   "metadata": {},
   "outputs": [],
   "source": [
    "no_wait = excluded_classification[excluded_classification.average_day_wait == 0]"
   ]
  },
  {
   "cell_type": "code",
   "execution_count": 63,
   "metadata": {},
   "outputs": [
    {
     "data": {
      "text/html": [
       "<div>\n",
       "<style scoped>\n",
       "    .dataframe tbody tr th:only-of-type {\n",
       "        vertical-align: middle;\n",
       "    }\n",
       "\n",
       "    .dataframe tbody tr th {\n",
       "        vertical-align: top;\n",
       "    }\n",
       "\n",
       "    .dataframe thead th {\n",
       "        text-align: right;\n",
       "    }\n",
       "</style>\n",
       "<table border=\"1\" class=\"dataframe\">\n",
       "  <thead>\n",
       "    <tr style=\"text-align: right;\">\n",
       "      <th></th>\n",
       "      <th>from_npi</th>\n",
       "      <th>from_physician</th>\n",
       "      <th>from_address</th>\n",
       "      <th>from_tax</th>\n",
       "      <th>from_grouping</th>\n",
       "      <th>from_classification</th>\n",
       "      <th>to_npi</th>\n",
       "      <th>to_facility</th>\n",
       "      <th>to_address</th>\n",
       "      <th>to_tax</th>\n",
       "      <th>to_grouping</th>\n",
       "      <th>to_classification</th>\n",
       "      <th>patient_count</th>\n",
       "      <th>transaction_count</th>\n",
       "      <th>average_day_wait</th>\n",
       "      <th>std_day_wait</th>\n",
       "    </tr>\n",
       "  </thead>\n",
       "  <tbody>\n",
       "    <tr>\n",
       "      <th>0</th>\n",
       "      <td>1003963976</td>\n",
       "      <td>BENJAMIN HAYES</td>\n",
       "      <td>3098 CAMPBELL STATION PKWY STE A201</td>\n",
       "      <td>207NP0225X</td>\n",
       "      <td>Allopathic &amp; Osteopathic Physicians</td>\n",
       "      <td>Dermatology</td>\n",
       "      <td>1003028770</td>\n",
       "      <td>SPRING HILL DERMATOLOGY PLC</td>\n",
       "      <td>1229 RESERVE BLVD</td>\n",
       "      <td>207N00000X</td>\n",
       "      <td>Allopathic &amp; Osteopathic Physicians</td>\n",
       "      <td>Dermatology</td>\n",
       "      <td>2535</td>\n",
       "      <td>3945</td>\n",
       "      <td>0.0</td>\n",
       "      <td>0.0</td>\n",
       "    </tr>\n",
       "    <tr>\n",
       "      <th>37</th>\n",
       "      <td>1033482393</td>\n",
       "      <td>FAWN HOLSOMBECK</td>\n",
       "      <td>3601 THE VANDERBILT CLINIC</td>\n",
       "      <td>367500000X</td>\n",
       "      <td>Physician Assistants &amp; Advanced Practice Nursi...</td>\n",
       "      <td>Nurse Anesthetist, Certified Registered</td>\n",
       "      <td>1023025475</td>\n",
       "      <td>WESLEY &amp; KLIPPENSTEIN, PC</td>\n",
       "      <td>1800 CHURCH ST</td>\n",
       "      <td>207WX0200X</td>\n",
       "      <td>Allopathic &amp; Osteopathic Physicians</td>\n",
       "      <td>Ophthalmology</td>\n",
       "      <td>85</td>\n",
       "      <td>87</td>\n",
       "      <td>0.0</td>\n",
       "      <td>0.0</td>\n",
       "    </tr>\n",
       "    <tr>\n",
       "      <th>69</th>\n",
       "      <td>1013918499</td>\n",
       "      <td>JONATHON MCGEE</td>\n",
       "      <td>521 W MAIN ST</td>\n",
       "      <td>225100000X</td>\n",
       "      <td>Respiratory, Developmental, Rehabilitative and...</td>\n",
       "      <td>Physical Therapist</td>\n",
       "      <td>1033353727</td>\n",
       "      <td>URBAN PHYSICAL THERAPY, INC</td>\n",
       "      <td>521 W MAIN ST</td>\n",
       "      <td>261QP2000X</td>\n",
       "      <td>Ambulatory Health Care Facilities</td>\n",
       "      <td>Clinic/Center</td>\n",
       "      <td>78</td>\n",
       "      <td>614</td>\n",
       "      <td>0.0</td>\n",
       "      <td>0.0</td>\n",
       "    </tr>\n",
       "    <tr>\n",
       "      <th>78</th>\n",
       "      <td>1033323159</td>\n",
       "      <td>CATHERINE KIRKLAND</td>\n",
       "      <td>395 WALLACE RD.</td>\n",
       "      <td>363L00000X</td>\n",
       "      <td>Physician Assistants &amp; Advanced Practice Nursi...</td>\n",
       "      <td>Nurse Practitioner</td>\n",
       "      <td>1043297542</td>\n",
       "      <td>UROLOGY ASSOCIATES PC</td>\n",
       "      <td>2801 CHARLOTTE AVE</td>\n",
       "      <td>208800000X</td>\n",
       "      <td>Allopathic &amp; Osteopathic Physicians</td>\n",
       "      <td>Urology</td>\n",
       "      <td>205</td>\n",
       "      <td>674</td>\n",
       "      <td>0.0</td>\n",
       "      <td>0.0</td>\n",
       "    </tr>\n",
       "    <tr>\n",
       "      <th>118</th>\n",
       "      <td>1033144647</td>\n",
       "      <td>MARK MELSON</td>\n",
       "      <td>4306 HARDING PIKE</td>\n",
       "      <td>207W00000X</td>\n",
       "      <td>Allopathic &amp; Osteopathic Physicians</td>\n",
       "      <td>Ophthalmology</td>\n",
       "      <td>1083012181</td>\n",
       "      <td>OCULOPLASTIC SPECIALISTS OF TENNESSEE LLC</td>\n",
       "      <td>4306 HARDING PIKE</td>\n",
       "      <td>207W00000X</td>\n",
       "      <td>Allopathic &amp; Osteopathic Physicians</td>\n",
       "      <td>Ophthalmology</td>\n",
       "      <td>245</td>\n",
       "      <td>374</td>\n",
       "      <td>0.0</td>\n",
       "      <td>0.0</td>\n",
       "    </tr>\n",
       "  </tbody>\n",
       "</table>\n",
       "</div>"
      ],
      "text/plain": [
       "       from_npi      from_physician                         from_address  \\\n",
       "0    1003963976      BENJAMIN HAYES  3098 CAMPBELL STATION PKWY STE A201   \n",
       "37   1033482393     FAWN HOLSOMBECK           3601 THE VANDERBILT CLINIC   \n",
       "69   1013918499      JONATHON MCGEE                        521 W MAIN ST   \n",
       "78   1033323159  CATHERINE KIRKLAND                      395 WALLACE RD.   \n",
       "118  1033144647         MARK MELSON                    4306 HARDING PIKE   \n",
       "\n",
       "       from_tax                                      from_grouping  \\\n",
       "0    207NP0225X                Allopathic & Osteopathic Physicians   \n",
       "37   367500000X  Physician Assistants & Advanced Practice Nursi...   \n",
       "69   225100000X  Respiratory, Developmental, Rehabilitative and...   \n",
       "78   363L00000X  Physician Assistants & Advanced Practice Nursi...   \n",
       "118  207W00000X                Allopathic & Osteopathic Physicians   \n",
       "\n",
       "                         from_classification      to_npi  \\\n",
       "0                                Dermatology  1003028770   \n",
       "37   Nurse Anesthetist, Certified Registered  1023025475   \n",
       "69                        Physical Therapist  1033353727   \n",
       "78                        Nurse Practitioner  1043297542   \n",
       "118                            Ophthalmology  1083012181   \n",
       "\n",
       "                                   to_facility          to_address  \\\n",
       "0                  SPRING HILL DERMATOLOGY PLC   1229 RESERVE BLVD   \n",
       "37                   WESLEY & KLIPPENSTEIN, PC      1800 CHURCH ST   \n",
       "69                 URBAN PHYSICAL THERAPY, INC       521 W MAIN ST   \n",
       "78                       UROLOGY ASSOCIATES PC  2801 CHARLOTTE AVE   \n",
       "118  OCULOPLASTIC SPECIALISTS OF TENNESSEE LLC   4306 HARDING PIKE   \n",
       "\n",
       "         to_tax                          to_grouping to_classification  \\\n",
       "0    207N00000X  Allopathic & Osteopathic Physicians       Dermatology   \n",
       "37   207WX0200X  Allopathic & Osteopathic Physicians     Ophthalmology   \n",
       "69   261QP2000X    Ambulatory Health Care Facilities     Clinic/Center   \n",
       "78   208800000X  Allopathic & Osteopathic Physicians           Urology   \n",
       "118  207W00000X  Allopathic & Osteopathic Physicians     Ophthalmology   \n",
       "\n",
       "     patient_count  transaction_count  average_day_wait  std_day_wait  \n",
       "0             2535               3945               0.0           0.0  \n",
       "37              85                 87               0.0           0.0  \n",
       "69              78                614               0.0           0.0  \n",
       "78             205                674               0.0           0.0  \n",
       "118            245                374               0.0           0.0  "
      ]
     },
     "execution_count": 63,
     "metadata": {},
     "output_type": "execute_result"
    }
   ],
   "source": [
    "no_wait.head()"
   ]
  },
  {
   "cell_type": "code",
   "execution_count": 64,
   "metadata": {},
   "outputs": [
    {
     "data": {
      "text/plain": [
       "(1983, 16)"
      ]
     },
     "execution_count": 64,
     "metadata": {},
     "output_type": "execute_result"
    }
   ],
   "source": [
    "no_wait.shape"
   ]
  },
  {
   "cell_type": "code",
   "execution_count": 65,
   "metadata": {},
   "outputs": [
    {
     "data": {
      "application/vnd.plotly.v1+json": {
       "config": {
        "plotlyServerURL": "https://plotly.com"
       },
       "data": [
        {
         "hovertemplate": "to_facility=SPRING HILL DERMATOLOGY PLC<br>from_physician=%{x}<br>patient_count=%{y}<extra></extra>",
         "legendgroup": "SPRING HILL DERMATOLOGY PLC",
         "marker": {
          "color": "#636efa",
          "symbol": "circle"
         },
         "mode": "markers",
         "name": "SPRING HILL DERMATOLOGY PLC",
         "showlegend": true,
         "type": "scattergl",
         "x": [
          "BENJAMIN HAYES",
          "RYAN SULLIVAN",
          "BRENDA SANCHEZ",
          "SUSAN HIGGINS",
          "KELLY TAYLOR",
          "AMANDA AMICK"
         ],
         "xaxis": "x",
         "y": [
          2535,
          276,
          545,
          35,
          416,
          661
         ],
         "yaxis": "y"
        },
        {
         "hovertemplate": "to_facility=WESLEY & KLIPPENSTEIN, PC<br>from_physician=%{x}<br>patient_count=%{y}<extra></extra>",
         "legendgroup": "WESLEY & KLIPPENSTEIN, PC",
         "marker": {
          "color": "#EF553B",
          "symbol": "circle"
         },
         "mode": "markers",
         "name": "WESLEY & KLIPPENSTEIN, PC",
         "showlegend": true,
         "type": "scattergl",
         "x": [
          "FAWN HOLSOMBECK",
          "KELLY EVERMAN",
          "WILLARD MEADOWS"
         ],
         "xaxis": "x",
         "y": [
          85,
          329,
          169
         ],
         "yaxis": "y"
        },
        {
         "hovertemplate": "to_facility=URBAN PHYSICAL THERAPY, INC<br>from_physician=%{x}<br>patient_count=%{y}<extra></extra>",
         "legendgroup": "URBAN PHYSICAL THERAPY, INC",
         "marker": {
          "color": "#00cc96",
          "symbol": "circle"
         },
         "mode": "markers",
         "name": "URBAN PHYSICAL THERAPY, INC",
         "showlegend": true,
         "type": "scattergl",
         "x": [
          "JONATHON MCGEE",
          "LAURA BATTS",
          "OLEG URBAN"
         ],
         "xaxis": "x",
         "y": [
          78,
          91,
          107
         ],
         "yaxis": "y"
        },
        {
         "hovertemplate": "to_facility=UROLOGY ASSOCIATES PC<br>from_physician=%{x}<br>patient_count=%{y}<extra></extra>",
         "legendgroup": "UROLOGY ASSOCIATES PC",
         "marker": {
          "color": "#ab63fa",
          "symbol": "circle"
         },
         "mode": "markers",
         "name": "UROLOGY ASSOCIATES PC",
         "showlegend": true,
         "type": "scattergl",
         "x": [
          "CATHERINE KIRKLAND",
          "JEFFREY WOODS",
          "LYNDA ELAM",
          "DAVID DUONG",
          "MATTHEW STEIDL",
          "ELLEN NEWMAN",
          "BROOKE FAUGHT"
         ],
         "xaxis": "x",
         "y": [
          205,
          519,
          196,
          354,
          167,
          183,
          376
         ],
         "yaxis": "y"
        },
        {
         "hovertemplate": "to_facility=OCULOPLASTIC SPECIALISTS OF TENNESSEE LLC<br>from_physician=%{x}<br>patient_count=%{y}<extra></extra>",
         "legendgroup": "OCULOPLASTIC SPECIALISTS OF TENNESSEE LLC",
         "marker": {
          "color": "#FFA15A",
          "symbol": "circle"
         },
         "mode": "markers",
         "name": "OCULOPLASTIC SPECIALISTS OF TENNESSEE LLC",
         "showlegend": true,
         "type": "scattergl",
         "x": [
          "MARK MELSON"
         ],
         "xaxis": "x",
         "y": [
          245
         ],
         "yaxis": "y"
        },
        {
         "hovertemplate": "to_facility=MENTAL HEALTH COOPERATIVE, INC<br>from_physician=%{x}<br>patient_count=%{y}<extra></extra>",
         "legendgroup": "MENTAL HEALTH COOPERATIVE, INC",
         "marker": {
          "color": "#19d3f3",
          "symbol": "circle"
         },
         "mode": "markers",
         "name": "MENTAL HEALTH COOPERATIVE, INC",
         "showlegend": true,
         "type": "scattergl",
         "x": [
          "JAMES SPECK",
          "EVANGELINE WALKER",
          "SHERRILL BARKEY",
          "TOWNLEY WHITE",
          "JENNIFER GARNER",
          "CHRISTA CAMPBELL",
          "MORGAN WATSON",
          "MICHELLE KIXMILLER",
          "KATHERINE HALE",
          "ADAM SISKO",
          "ADRIENNE HLAVATI",
          "MARY BROWN",
          "MAX SPADERNA",
          "ANNA WILSON",
          "MOLLIE GURLEY",
          "JASON DANIELS"
         ],
         "xaxis": "x",
         "y": [
          21,
          41,
          52,
          26,
          33,
          16,
          21,
          32,
          20,
          54,
          57,
          40,
          22,
          66,
          40,
          22
         ],
         "yaxis": "y"
        },
        {
         "hovertemplate": "to_facility=MUSIC CITY HEALTH CENTER PHYSICAL MEDICINE PLLC<br>from_physician=%{x}<br>patient_count=%{y}<extra></extra>",
         "legendgroup": "MUSIC CITY HEALTH CENTER PHYSICAL MEDICINE PLLC",
         "marker": {
          "color": "#FF6692",
          "symbol": "circle"
         },
         "mode": "markers",
         "name": "MUSIC CITY HEALTH CENTER PHYSICAL MEDICINE PLLC",
         "showlegend": true,
         "type": "scattergl",
         "x": [
          "KIMBERLY CAMPBELL",
          "COURTNEY MOSELEY"
         ],
         "xaxis": "x",
         "y": [
          45,
          31
         ],
         "yaxis": "y"
        },
        {
         "hovertemplate": "to_facility=VANDERBILT UNIVERSITY MEDICAL CENTER<br>from_physician=%{x}<br>patient_count=%{y}<extra></extra>",
         "legendgroup": "VANDERBILT UNIVERSITY MEDICAL CENTER",
         "marker": {
          "color": "#B6E880",
          "symbol": "circle"
         },
         "mode": "markers",
         "name": "VANDERBILT UNIVERSITY MEDICAL CENTER",
         "showlegend": true,
         "type": "scattergl",
         "x": [
          "CHRISTINA HAYHURST",
          "ROCHELLE ANDREOTTI",
          "LORENZO HUGHES",
          "MARY ANN ARILDSEN",
          "SHUHANNA OBRYAN",
          "CRYSTAL PARRISH",
          "HOLLY WESTERVELT",
          "EDWARD SIEW",
          "ROBERT LENTZ",
          "BRIANA WITHERSPOON",
          "SHELLEY ATKINSON",
          "HOLLY ENDE",
          "EMILY MCMASTER",
          "JOHN DOWNING",
          "JULIE YORK",
          "SHEENA WEAVER",
          "RAJNISH GUPTA",
          "CASEY BALTHAZAR",
          "STEPHEN SCHULTENOVER",
          "MATTHIAS RIESS",
          "MICHAEL WARD",
          "JEREMY HAYES",
          "ALISON DAVIS",
          "ASHLEY RAGAN",
          "ERIN DUNAVANT",
          "ELIZABETH SCOVILLE",
          "JILL BOYLE",
          "KATHERINE DOBIE",
          "SARALYN WILLIAMS",
          "FRANK FISH",
          "VIVIAN WEISS",
          "MONYCA HARRIS-CHAMPION",
          "DILLON HEATH",
          "DYLAN VANLITH",
          "OLIVIA KIRKPATRICK",
          "YAFEN LIANG",
          "MORGAN STINE",
          "MEERA CHANDRASHEKAR",
          "JEFFREY BOON",
          "LISA JAEGER",
          "LIZA WEAVIND",
          "ALISON MARTIN",
          "JOSEPH SCHLESINGER",
          "JULIANNE WAGNON",
          "TRACY MCGRANE",
          "JANNA LANDSPERGER",
          "CHANJUAN SHI",
          "MEREDITH GOLDEN",
          "JOEL BENVENISTE",
          "CAROLE BARTOO",
          "MARGARET LAXTON",
          "STEPHANIE IVEY",
          "JORDAN MILLER",
          "DEBRA CIRONE",
          "LETITIA EASDOWN",
          "BRIAN ROTHMAN",
          "LAUREN BRUNHOEBER",
          "ROBERT DEEGAN",
          "LATORYA BURTON",
          "COURTNEY COOK",
          "KASSANDRA STUBBLEFIELD",
          "CURTIS BAYSINGER",
          "DEANA BEARD",
          "AMANDA BAILEY",
          "JENNIFER VEST",
          "SHANNON KILKELLY",
          "SHARON ALBERS",
          "GREGORY MICHAUD",
          "SHAWN PALMITER",
          "RACHEL WISE",
          "TAINA OVCHINNIKOV",
          "SARAH STACY",
          "CHARLOTTE ANDERSON",
          "BRET ALVIS",
          "ALICE COOGAN",
          "PAISIT PAUEKSAKON",
          "HAROLD THOMPSON",
          "JOHN BARWISE",
          "KENNETH HOLROYD",
          "DAVID GAILANI",
          "HENRIETTA SZMYD-HOGAN",
          "EDUARD VASILEVSKIS",
          "LAN GELLERT",
          "JEFFREY BARTON",
          "ELIZABETH COMPTON",
          "MARY RANDALL",
          "LAURIE LAWRENCE",
          "EDMUND DONHUE",
          "JASON KENNEDY",
          "RYAN PARKER",
          "ERIN CAMPBELL",
          "TRACIE BAKER",
          "MARK LUSCO",
          "JOYCE JOHNSON",
          "ESWARA BOTTA",
          "MICHAEL HOGAN",
          "KATHY VEHRING",
          "E. BROCK",
          "KATHERINE SALVADOR",
          "LAURIE GOERZEN",
          "MARY PETERS",
          "EMILY HOLCOMBE",
          "ROBBYN BARBER-ANDERSON",
          "MICHELLE GORDY",
          "JAMES BOGGESS",
          "GARY SMITH",
          "RENEE SIMPSON",
          "WHITNEY THOMPSON",
          "ANTONIO HERNANDEZ",
          "DENISE BUFFINGTON",
          "MERRICK MILES",
          "SUSAN JEANSONNE",
          "KELLY MISHRA",
          "AIMEE MARLAR",
          "JAMES BOOKMAN",
          "EDWARD SHERWOOD",
          "MICHAEL TRAMONTANA",
          "TY ABEL",
          "JAMIE SPICER",
          "AGNES FOGO",
          "MELISSA WILEY",
          "LISA FLEMMONS",
          "WON JAE HUH",
          "JILL NELSON",
          "LINDSAY TRANTUM",
          "KANIKA BAGAI",
          "KRISTEN HULL",
          "LARRY DAVIS",
          "ANNE KIRK",
          "STEPHEN HARVEY",
          "WILLIAM COSTELLO",
          "ROBERT HOFFMAN",
          "ALYSSA MILLER",
          "KATIE COLE",
          "HANNAH MALONEY",
          "ANN HACKETT",
          "CYNTHIA O'KELLEY",
          "CHRISTOPHER CANLAS",
          "AMY ARMSTRONG",
          "UMA SHASTRI",
          "LINDSEY ALDRED",
          "REBECCA DEVINNEY",
          "JONATHAN KIEPEK",
          "JUSTIN CATES",
          "JASMINA KLAPIC",
          "LAUREN KIMBRELL",
          "ALLISON SCHAFFER",
          "CLIFFORD PARMLEY",
          "LAUREN OLIVER",
          "JILLIAN GOLES",
          "CHRISTINE RUST",
          "CHRISTINE FREEMAN",
          "CLIFFORD BOWENS",
          "ANDREW WOOLDRIDGE",
          "ERIC BRIGGS",
          "KELLEY MAST",
          "DAVID NEELY",
          "CARRIE KUCERA-ANDERS",
          "KAITLIN NEARY",
          "YANDONG JIANG",
          "AMBER VELASQUEZ",
          "MATTHEW WEINGER",
          "SARAH GAST",
          "DOUGLAS HESTER",
          "AMANDA SIMPSON",
          "RONALD WALKER",
          "JERRY ISHEE",
          "JAYME GIBSON",
          "JAMES BLAIR",
          "THOMAS KOSS",
          "ROBERT MYERS",
          "YURI VAN DER HEIJDEN",
          "EMILY DONEGAN",
          "ALEXANDER MOORE",
          "JENNIFER JAYARAM",
          "CHRISTINA LORANCE",
          "LOUISE ALEXANDER",
          "KRYSTAL PEEK",
          "BRIAN GELFAND",
          "RONALD COWAN",
          "JANET HARDISON",
          "PAUL BONNER",
          "JONATHAN WANDERER",
          "KRISTEN SHERMAN",
          "BRIAN ALLEN",
          "DANA MANNING",
          "RYAN WALSH",
          "RIDAS JUSKEVICIUS",
          "NINA COLLINS",
          "DOROTHEE MUELLER",
          "SHELLEY MOSES",
          "KRISTA KUHNERT-GAINER",
          "ALAN HENDON",
          "MEGHAN URQUHART",
          "JAMES ATKINSON",
          "TRAVIS HAMILTON",
          "CLAUDIO MOSSE",
          "BRIAN REID",
          "MATTHEW FOSNOT",
          "KATHERINE CARROLL",
          "PHILIP CHARLES",
          "JOHN BUTORAC",
          "MARK RICE",
          "EDITH CLOYD",
          "PAMELA HOROWITZ",
          "STEPHANIE MEHR",
          "BEVERLY BARKER",
          "BRIDGET SHARP",
          "CYNTHIA WASDEN",
          "DEBRA CRAVEN",
          "KARA SIEGRIST",
          "JANANNE MCKINNON",
          "JAMES LEWIS",
          "BRANDON ASHTON",
          "JAQUELYN FORD",
          "TIFFANY MORRIS",
          "MOLLY WILLIAMS",
          "MARQUES BRADSHAW",
          "JOHN RUTLEDGE",
          "JACOBO MARRUJO",
          "AMY HOWARD",
          "ADAM KING",
          "WILLIAM CAMERON",
          "BANTAYEHU SILESHI",
          "MELINDA SANDERS",
          "JONATHAN MOSLEY",
          "KATHRYN KENNEDY",
          "WARREN SANDBERG",
          "RAY PASCHALL",
          "NAHEL SAIED",
          "CHRISTINA NOBLIT",
          "CAROLYNN NALL",
          "LORRAINE WARE",
          "ALEXANDRA KOVACH",
          "PIERRE MASSION",
          "FREDERICK LOMBARD",
          "BRIANA BRINKLEY",
          "NATHAN SCOTT",
          "AVINASH KUMAR",
          "GARY SOLOMON",
          "JO WILSON",
          "LISA TRUETT",
          "MATTHEW MCEVOY",
          "MITRA MEHRAD",
          "WARREN TAYLOR",
          "LETHA MATHEWS",
          "JEREMY BOYD",
          "NATHAN MCMASTERS",
          "LAURA SORABELLA",
          "JENNIFER KAYE",
          "ALICE LOWE",
          "GARY SOLOMON",
          "RICHARD STEIN",
          "RYAN HENDERSON",
          "KELLY DALEY",
          "KEVIN PREECE",
          "CHIRAYU SHAH",
          "SUSAN EAGLE",
          "ALLISON WALKER",
          "LYNN CLEMENT",
          "NATHAN ASHBY",
          "KOFFI KLA",
          "CHRISTOPHER HUGHES",
          "MOORE SHOEMAKER",
          "CHERYL LAFFER",
          "EMILY NATH",
          "PAMPEE YOUNG",
          "MICHAEL LEERSNYDER",
          "ANDREA SCHNEIDER",
          "RAMZI MARDAM BEY",
          "CHARLIE BREWER",
          "SARAH BLOOM",
          "ELISE BRADLEY",
          "RACHEL APPLE",
          "BROOKE BAILEY",
          "SHERRY HARMON",
          "PAUL ST. JACQUES",
          "BETH MEADOR",
          "JOHN FOSTER",
          "LAURA BROWN COULAM",
          "EDITH NEWBERRY",
          "WILLIAM MARTIN",
          "STEVE HYMAN",
          "ANNA FONG",
          "HELEN TALBOT",
          "EDWARD MCDONALD",
          "WILLIAM SCHENK",
          "JOSEPH SIMPSON",
          "JODY SMITH",
          "BRIAN MCKELVY",
          "SAFIA SALARIA",
          "LOREN SMITH",
          "JEFFERY CLEMMONS",
          "MATTHEW PRATER",
          "FREDERIC BILLINGS",
          "ELIZABETH PHILLIPS",
          "JACQUELINE FRYDENLUND",
          "RENEE CHAMBERLAIN",
          "ROBERT FREUNDLICH",
          "YOUNG-JAE NAM",
          "ANGELA WOODCOCK",
          "NATALIE BRIDGES",
          "ALICE HOYT",
          "ALEXANDER BADRU",
          "ANNE NEFF",
          "ASHLEY BASH",
          "SUSANNE HORTON",
          "JEFFREY CREASY",
          "KANAH MAY",
          "HILARY HARRIS",
          "MICHAEL HIGGINS",
          "ROY NEELEY",
          "RHONDA HOLLINS-DORTCH",
          "ANDRE LAGRANGE",
          "MICHAEL CAUCCI",
          "RAMI AL-ROHIL",
          "WILLIAM WALTON",
          "JESSICA WALKER",
          "CHRISTOPHER HENSON",
          "JOHN SHIELDS",
          "JEREMY BENNETT",
          "ARNA BANERJEE",
          "THOMAS TALBOT",
          "ROBERT OSSOFF",
          "AMY FORTNER",
          "AMY SMITH",
          "QUINN WELLS",
          "MELISSA LEHMANN",
          "AMANDA WILSON",
          "JAY BELL",
          "JUSTIN CALABRACE",
          "MARY KATE JORDAN",
          "KEVIN DIEHL",
          "MARY WASHINGTON",
          "EMILY MASON",
          "AARON SHAVER",
          "BROOKE JAYRAM",
          "AMY ROBERTSON",
          "PRATIK PANDHARIPANDE",
          "LAURA DAVIS",
          "DILDORA JORGALI",
          "JAMES ANDRY",
          "CATHERINE BEHRLE",
          "ROSANA EISENBERG",
          "HELEN HATFIELD",
          "CHARLES SHARBEL",
          "BRET MOBLEY",
          "HUONG PHAM",
          "AMA ROWE",
          "HELEN HATFIELD",
          "MARY KELLEY",
          "SHAWNEE BRENKMAN",
          "STUART MCGRANE",
          "GWENDOLYN SANDERS",
          "MIAS PRETORIUS",
          "RAYMOND ROMANO",
          "BRETT CLAY",
          "JOSHUA CAMPBELL",
          "ADAM KINGETER",
          "VIKRAM BANSAL",
          "STACEY TILLMAN",
          "FRED TRUESDALE",
          "ERIN FITTS-CHRISTENSEN",
          "ASHLEY BURDETTE",
          "KIM ELY",
          "TAMMY FREEHLING",
          "MICHAEL PILLA",
          "TYLER WOLZ",
          "SUSAN HELLERVIK",
          "MARK PEPPER",
          "MEAGAN MILLER",
          "JAMES MILLS",
          "MARCOS LOPEZ"
         ],
         "xaxis": "x",
         "y": [
          200,
          1596,
          258,
          644,
          88,
          181,
          91,
          68,
          121,
          51,
          65,
          179,
          121,
          51,
          102,
          173,
          284,
          133,
          555,
          183,
          70,
          145,
          101,
          107,
          225,
          48,
          122,
          108,
          55,
          26,
          134,
          66,
          140,
          145,
          49,
          298,
          103,
          1110,
          118,
          423,
          148,
          225,
          113,
          54,
          209,
          115,
          720,
          119,
          1791,
          58,
          94,
          152,
          80,
          142,
          174,
          84,
          123,
          282,
          338,
          49,
          265,
          74,
          211,
          98,
          122,
          306,
          224,
          79,
          108,
          53,
          48,
          81,
          223,
          167,
          490,
          81,
          276,
          56,
          129,
          184,
          78,
          59,
          664,
          157,
          117,
          226,
          190,
          89,
          110,
          41,
          58,
          129,
          62,
          413,
          149,
          156,
          113,
          594,
          175,
          347,
          109,
          93,
          243,
          132,
          101,
          498,
          54,
          121,
          160,
          113,
          221,
          52,
          151,
          89,
          244,
          191,
          80,
          78,
          207,
          57,
          45,
          119,
          483,
          142,
          109,
          158,
          124,
          1017,
          242,
          351,
          204,
          225,
          47,
          61,
          103,
          236,
          170,
          390,
          111,
          305,
          108,
          81,
          107,
          705,
          156,
          122,
          26,
          52,
          90,
          59,
          182,
          100,
          292,
          297,
          371,
          176,
          128,
          178,
          133,
          355,
          104,
          67,
          79,
          214,
          69,
          206,
          108,
          72,
          245,
          119,
          257,
          78,
          73,
          56,
          150,
          100,
          191,
          103,
          148,
          60,
          69,
          235,
          152,
          369,
          342,
          47,
          77,
          687,
          149,
          71,
          64,
          162,
          109,
          64,
          142,
          226,
          274,
          174,
          112,
          98,
          71,
          150,
          182,
          49,
          16,
          158,
          244,
          118,
          76,
          47,
          373,
          200,
          399,
          55,
          102,
          340,
          140,
          180,
          82,
          158,
          26,
          277,
          79,
          226,
          283,
          44,
          51,
          78,
          143,
          35,
          128,
          77,
          40,
          425,
          59,
          347,
          141,
          123,
          157,
          82,
          96,
          31,
          146,
          426,
          43,
          169,
          138,
          121,
          59,
          91,
          201,
          79,
          31,
          183,
          147,
          126,
          476,
          165,
          89,
          74,
          203,
          231,
          131,
          40,
          204,
          93,
          80,
          77,
          133,
          38,
          145,
          65,
          114,
          63,
          60,
          180,
          238,
          86,
          224,
          58,
          69,
          534,
          204,
          115,
          39,
          764,
          797,
          68,
          84,
          301,
          831,
          180,
          180,
          139,
          106,
          104,
          73,
          55,
          251,
          38,
          40,
          110,
          82,
          103,
          23,
          130,
          173,
          1398,
          68,
          112,
          363,
          211,
          42,
          42,
          105,
          447,
          203,
          31,
          192,
          117,
          330,
          133,
          63,
          88,
          71,
          188,
          437,
          66,
          140,
          116,
          121,
          75,
          1537,
          524,
          607,
          718,
          97,
          186,
          85,
          53,
          54,
          57,
          93,
          423,
          15,
          121,
          85,
          204,
          167,
          15,
          111,
          133,
          179,
          75,
          288,
          49,
          73,
          147,
          139,
          325,
          76,
          114,
          35,
          155,
          473,
          84,
          205,
          64,
          112,
          95,
          99,
          280,
          112
         ],
         "yaxis": "y"
        },
        {
         "hovertemplate": "to_facility=ROCK SPRINGS FAMILY CHIROPRACTIC<br>from_physician=%{x}<br>patient_count=%{y}<extra></extra>",
         "legendgroup": "ROCK SPRINGS FAMILY CHIROPRACTIC",
         "marker": {
          "color": "#FF97FF",
          "symbol": "circle"
         },
         "mode": "markers",
         "name": "ROCK SPRINGS FAMILY CHIROPRACTIC",
         "showlegend": true,
         "type": "scattergl",
         "x": [
          "ELIZABETH PENDERGRASS"
         ],
         "xaxis": "x",
         "y": [
          11
         ],
         "yaxis": "y"
        },
        {
         "hovertemplate": "to_facility=WELLNESS SOLUTIONS GERIATRICS, PLLC<br>from_physician=%{x}<br>patient_count=%{y}<extra></extra>",
         "legendgroup": "WELLNESS SOLUTIONS GERIATRICS, PLLC",
         "marker": {
          "color": "#FECB52",
          "symbol": "circle"
         },
         "mode": "markers",
         "name": "WELLNESS SOLUTIONS GERIATRICS, PLLC",
         "showlegend": true,
         "type": "scattergl",
         "x": [
          "JAMES SPECK",
          "ROBYN LOVELL",
          "ABBY FRAZEE",
          "JULIA MORRIS",
          "JON COOMER",
          "DEBRA JACKS",
          "OBIANUJU ONYEKWERE",
          "SUNITA TRYAMBAKE",
          "TRACY WEHBY",
          "CHARLOTTE ELLERBY",
          "ROSLYN HATCHETT-POPE",
          "JENELLE KALVODA",
          "BRITTNEY WHITMORE",
          "UNYIME EYOH",
          "ELIZABETH VERNON",
          "CHERED PEARSON",
          "MIATTA HAMPTON"
         ],
         "xaxis": "x",
         "y": [
          224,
          148,
          216,
          261,
          371,
          59,
          209,
          449,
          395,
          423,
          153,
          96,
          53,
          234,
          101,
          51,
          176
         ],
         "yaxis": "y"
        },
        {
         "hovertemplate": "to_facility=MIDDLE TENNESSEE EAR NOSE & THROAT, PC<br>from_physician=%{x}<br>patient_count=%{y}<extra></extra>",
         "legendgroup": "MIDDLE TENNESSEE EAR NOSE & THROAT, PC",
         "marker": {
          "color": "#636efa",
          "symbol": "circle"
         },
         "mode": "markers",
         "name": "MIDDLE TENNESSEE EAR NOSE & THROAT, PC",
         "showlegend": true,
         "type": "scattergl",
         "x": [
          "ALISSA SMITH",
          "VICKI FORD",
          "AURORA PHELPS",
          "NICOLE WISSING",
          "MICHAEL PETROKA"
         ],
         "xaxis": "x",
         "y": [
          249,
          175,
          210,
          326,
          201
         ],
         "yaxis": "y"
        },
        {
         "hovertemplate": "to_facility=NASH MOBILE PLLC<br>from_physician=%{x}<br>patient_count=%{y}<extra></extra>",
         "legendgroup": "NASH MOBILE PLLC",
         "marker": {
          "color": "#EF553B",
          "symbol": "circle"
         },
         "mode": "markers",
         "name": "NASH MOBILE PLLC",
         "showlegend": true,
         "type": "scattergl",
         "x": [
          "JASON NASH"
         ],
         "xaxis": "x",
         "y": [
          341
         ],
         "yaxis": "y"
        },
        {
         "hovertemplate": "to_facility=TENNESSEE CHIROPRACTIC AND FUNCTIONAL NEUROLOGY CENTER<br>from_physician=%{x}<br>patient_count=%{y}<extra></extra>",
         "legendgroup": "TENNESSEE CHIROPRACTIC AND FUNCTIONAL NEUROLOGY CENTER",
         "marker": {
          "color": "#00cc96",
          "symbol": "circle"
         },
         "mode": "markers",
         "name": "TENNESSEE CHIROPRACTIC AND FUNCTIONAL NEUROLOGY CENTER",
         "showlegend": true,
         "type": "scattergl",
         "x": [
          "BRYAN PASCOE",
          "HENRY OBERSTEADT"
         ],
         "xaxis": "x",
         "y": [
          16,
          60
         ],
         "yaxis": "y"
        },
        {
         "hovertemplate": "to_facility=TRISTAR JOINT REPLACEMENT INSTITUTE, LLC<br>from_physician=%{x}<br>patient_count=%{y}<extra></extra>",
         "legendgroup": "TRISTAR JOINT REPLACEMENT INSTITUTE, LLC",
         "marker": {
          "color": "#ab63fa",
          "symbol": "circle"
         },
         "mode": "markers",
         "name": "TRISTAR JOINT REPLACEMENT INSTITUTE, LLC",
         "showlegend": true,
         "type": "scattergl",
         "x": [
          "MERLINDA REYES",
          "SARAH HARSHAW",
          "LINDSEY HICKLIN",
          "JON OGNIBENE",
          "TAMMY ROGERS",
          "BRANDON HOLLIS",
          "MICHAEL BORN",
          "ALLISON CHAMBERS"
         ],
         "xaxis": "x",
         "y": [
          280,
          257,
          99,
          295,
          81,
          81,
          86,
          298
         ],
         "yaxis": "y"
        },
        {
         "hovertemplate": "to_facility=INTEGRATED ANESTHESIA SERVICES, PLC<br>from_physician=%{x}<br>patient_count=%{y}<extra></extra>",
         "legendgroup": "INTEGRATED ANESTHESIA SERVICES, PLC",
         "marker": {
          "color": "#FFA15A",
          "symbol": "circle"
         },
         "mode": "markers",
         "name": "INTEGRATED ANESTHESIA SERVICES, PLC",
         "showlegend": true,
         "type": "scattergl",
         "x": [
          "FAWN HOLSOMBECK",
          "THERESA BONNER",
          "LARRY FORT",
          "JUSTIN SEXTON",
          "WILLARD MEADOWS"
         ],
         "xaxis": "x",
         "y": [
          158,
          54,
          138,
          89,
          257
         ],
         "yaxis": "y"
        },
        {
         "hovertemplate": "to_facility=STATE OF TENNESSEE STATE F&A PAYROLL<br>from_physician=%{x}<br>patient_count=%{y}<extra></extra>",
         "legendgroup": "STATE OF TENNESSEE STATE F&A PAYROLL",
         "marker": {
          "color": "#19d3f3",
          "symbol": "circle"
         },
         "mode": "markers",
         "name": "STATE OF TENNESSEE STATE F&A PAYROLL",
         "showlegend": true,
         "type": "scattergl",
         "x": [
          "ARTHUR SMALL",
          "MOHAMMAD JAHAN"
         ],
         "xaxis": "x",
         "y": [
          32,
          23
         ],
         "yaxis": "y"
        },
        {
         "hovertemplate": "to_facility=DRS. TIDWELL, FAULKS, AND ALLEN - OPTOMETRY, PLLC<br>from_physician=%{x}<br>patient_count=%{y}<extra></extra>",
         "legendgroup": "DRS. TIDWELL, FAULKS, AND ALLEN - OPTOMETRY, PLLC",
         "marker": {
          "color": "#FF6692",
          "symbol": "circle"
         },
         "mode": "markers",
         "name": "DRS. TIDWELL, FAULKS, AND ALLEN - OPTOMETRY, PLLC",
         "showlegend": true,
         "type": "scattergl",
         "x": [
          "JERRY TIDWELL",
          "STEPHEN ALLEN",
          "DAVID FAULKS"
         ],
         "xaxis": "x",
         "y": [
          133,
          106,
          165
         ],
         "yaxis": "y"
        },
        {
         "hovertemplate": "to_facility=CREATIVE HEALTHCARE, PLLC<br>from_physician=%{x}<br>patient_count=%{y}<extra></extra>",
         "legendgroup": "CREATIVE HEALTHCARE, PLLC",
         "marker": {
          "color": "#B6E880",
          "symbol": "circle"
         },
         "mode": "markers",
         "name": "CREATIVE HEALTHCARE, PLLC",
         "showlegend": true,
         "type": "scattergl",
         "x": [
          "AMY BASS"
         ],
         "xaxis": "x",
         "y": [
          132
         ],
         "yaxis": "y"
        },
        {
         "hovertemplate": "to_facility=SUMNER PHYSICIAN PRACTICES LLC<br>from_physician=%{x}<br>patient_count=%{y}<extra></extra>",
         "legendgroup": "SUMNER PHYSICIAN PRACTICES LLC",
         "marker": {
          "color": "#FF97FF",
          "symbol": "circle"
         },
         "mode": "markers",
         "name": "SUMNER PHYSICIAN PRACTICES LLC",
         "showlegend": true,
         "type": "scattergl",
         "x": [
          "JEFFRIE KINDRED",
          "TERRY WITHERINGTON",
          "JAGDISH NACHNANI",
          "BRIAN REED"
         ],
         "xaxis": "x",
         "y": [
          72,
          47,
          596,
          136
         ],
         "yaxis": "y"
        },
        {
         "hovertemplate": "to_facility=ENDOSCOPY CENTER OF ST THOMAS LP<br>from_physician=%{x}<br>patient_count=%{y}<extra></extra>",
         "legendgroup": "ENDOSCOPY CENTER OF ST THOMAS LP",
         "marker": {
          "color": "#FECB52",
          "symbol": "circle"
         },
         "mode": "markers",
         "name": "ENDOSCOPY CENTER OF ST THOMAS LP",
         "showlegend": true,
         "type": "scattergl",
         "x": [
          "FAWN HOLSOMBECK",
          "LARRY FORT"
         ],
         "xaxis": "x",
         "y": [
          53,
          58
         ],
         "yaxis": "y"
        },
        {
         "hovertemplate": "to_facility=NASHVILLE ANESTHESIA PLLC<br>from_physician=%{x}<br>patient_count=%{y}<extra></extra>",
         "legendgroup": "NASHVILLE ANESTHESIA PLLC",
         "marker": {
          "color": "#636efa",
          "symbol": "circle"
         },
         "mode": "markers",
         "name": "NASHVILLE ANESTHESIA PLLC",
         "showlegend": true,
         "type": "scattergl",
         "x": [
          "KENDRA RENNELL",
          "STEPHEN OBERMEIER",
          "STEVEN BEATY",
          "WILLIAM FRASER",
          "FERNANDO BALMACEDA",
          "HUGH HEAD",
          "BRADLEY FRY",
          "JOHN MORRIS",
          "SHEETU JAIN",
          "JAMES MADDOX",
          "TROY SASSER",
          "DAVID VICKERS",
          "JOHN LEVOY",
          "EMILY STEWART",
          "LORI RIVARD",
          "WILLIAM BRIGGS",
          "OLNEY TODD",
          "CHARLES BUNTIN",
          "ANDREW COTTEN",
          "ANN HOHL",
          "JUSTIN SEXTON",
          "ELIZABETH HOLTZ",
          "PAMELA KRANCER",
          "JACOB HAFNER",
          "KENNETH RAMSEY",
          "MARGARET WRIGHT"
         ],
         "xaxis": "x",
         "y": [
          151,
          69,
          164,
          84,
          102,
          48,
          59,
          145,
          56,
          96,
          111,
          62,
          67,
          80,
          63,
          85,
          103,
          51,
          94,
          134,
          61,
          89,
          97,
          107,
          104,
          112
         ],
         "yaxis": "y"
        },
        {
         "hovertemplate": "to_facility=OTOLARYNGOLOGY ASSOCIATES OF TENNESSEE PC<br>from_physician=%{x}<br>patient_count=%{y}<extra></extra>",
         "legendgroup": "OTOLARYNGOLOGY ASSOCIATES OF TENNESSEE PC",
         "marker": {
          "color": "#EF553B",
          "symbol": "circle"
         },
         "mode": "markers",
         "name": "OTOLARYNGOLOGY ASSOCIATES OF TENNESSEE PC",
         "showlegend": true,
         "type": "scattergl",
         "x": [
          "CHARLES WRIGHT",
          "ROBERT OWEN",
          "ELLEN WEST",
          "MARY KENNADY",
          "DANIEL VINER",
          "MEGAN WEST",
          "SHELBY MAXWELL",
          "JOANNE SACKS",
          "CHRISTI CAMPBELL",
          "MARK DEATON",
          "RONALD CATE"
         ],
         "xaxis": "x",
         "y": [
          329,
          60,
          43,
          336,
          393,
          125,
          155,
          210,
          351,
          360,
          364
         ],
         "yaxis": "y"
        },
        {
         "hovertemplate": "to_facility=STAR PHYSICAL THERAPY LP<br>from_physician=%{x}<br>patient_count=%{y}<extra></extra>",
         "legendgroup": "STAR PHYSICAL THERAPY LP",
         "marker": {
          "color": "#00cc96",
          "symbol": "circle"
         },
         "mode": "markers",
         "name": "STAR PHYSICAL THERAPY LP",
         "showlegend": true,
         "type": "scattergl",
         "x": [
          "CONOR SMITH",
          "RYAN SCHAEFER",
          "CARRIE SIMPSON",
          "KATELYN SPRUELL",
          "DENIELE WILSON",
          "CHAD ROBERTS",
          "MICHAEL HARTMAN",
          "RANDALL HILL",
          "KYLE TODD",
          "JOSEPH MUCHMORE",
          "ANDREA PIERCE",
          "DANIEL CLEMENTS",
          "BRANDEN CORLEW"
         ],
         "xaxis": "x",
         "y": [
          121,
          27,
          91,
          24,
          17,
          64,
          49,
          49,
          30,
          55,
          44,
          52,
          116
         ],
         "yaxis": "y"
        },
        {
         "hovertemplate": "to_facility=POLITZER AND DUROCHER PLC<br>from_physician=%{x}<br>patient_count=%{y}<extra></extra>",
         "legendgroup": "POLITZER AND DUROCHER PLC",
         "marker": {
          "color": "#ab63fa",
          "symbol": "circle"
         },
         "mode": "markers",
         "name": "POLITZER AND DUROCHER PLC",
         "showlegend": true,
         "type": "scattergl",
         "x": [
          "DEREK PEVELER",
          "RICHARD DUROCHER",
          "WILLIAM PARSLEY"
         ],
         "xaxis": "x",
         "y": [
          232,
          283,
          48
         ],
         "yaxis": "y"
        },
        {
         "hovertemplate": "to_facility=CENTERSTONE OF TENNESSEE, INC.<br>from_physician=%{x}<br>patient_count=%{y}<extra></extra>",
         "legendgroup": "CENTERSTONE OF TENNESSEE, INC.",
         "marker": {
          "color": "#FFA15A",
          "symbol": "circle"
         },
         "mode": "markers",
         "name": "CENTERSTONE OF TENNESSEE, INC.",
         "showlegend": true,
         "type": "scattergl",
         "x": [
          "HEATHER FARINA",
          "LUCY SCALES",
          "NARA GRANJA INGRAM",
          "CARLA KNOWLES",
          "KATHERINE FERRELL",
          "SUE ST CLAIR",
          "KATHRYN DAVIDSON",
          "NORA KRAUSE",
          "BRITTANY HAEMMERLEIN",
          "KIABE SUPUWOOD-ALLEN",
          "HEATHER KAMPER",
          "CAROLYN HEBEL",
          "LATISHA PIKE",
          "MARY DANIELS",
          "BERT HARTMAN",
          "MELESA LOVE",
          "REGINE ANDERSON",
          "PATRICIA REINHARDT",
          "PATRICK STEPHENS",
          "CHRISTY COSTANZA",
          "ANNE CROCKETT",
          "SHERYL KINNEY",
          "BRENDA KEITH",
          "JO OFFUTT-BLACKABY",
          "ALICIA BATSON",
          "SHERI LOZIER-BENTLEY",
          "ELIZABETH MUGNANO",
          "JOHN KOOMEN",
          "MARIE BASTY",
          "SUESAN MALEKI",
          "SARAH HOLZAPFEL",
          "KAREN GROSSMAN"
         ],
         "xaxis": "x",
         "y": [
          54,
          111,
          72,
          69,
          19,
          97,
          42,
          22,
          39,
          68,
          56,
          53,
          100,
          94,
          171,
          43,
          71,
          54,
          81,
          62,
          71,
          70,
          95,
          92,
          59,
          24,
          71,
          235,
          40,
          59,
          19,
          55
         ],
         "yaxis": "y"
        },
        {
         "hovertemplate": "to_facility=EYE SURGERY CENTER OF NASHVILLE LLC<br>from_physician=%{x}<br>patient_count=%{y}<extra></extra>",
         "legendgroup": "EYE SURGERY CENTER OF NASHVILLE LLC",
         "marker": {
          "color": "#19d3f3",
          "symbol": "circle"
         },
         "mode": "markers",
         "name": "EYE SURGERY CENTER OF NASHVILLE LLC",
         "showlegend": true,
         "type": "scattergl",
         "x": [
          "FAITH NANCE",
          "DONALD PHILLIPS",
          "JAMIE MORRISON"
         ],
         "xaxis": "x",
         "y": [
          319,
          258,
          335
         ],
         "yaxis": "y"
        },
        {
         "hovertemplate": "to_facility=MIDTENN CHIROPRACTIC SERVICES<br>from_physician=%{x}<br>patient_count=%{y}<extra></extra>",
         "legendgroup": "MIDTENN CHIROPRACTIC SERVICES",
         "marker": {
          "color": "#FF6692",
          "symbol": "circle"
         },
         "mode": "markers",
         "name": "MIDTENN CHIROPRACTIC SERVICES",
         "showlegend": true,
         "type": "scattergl",
         "x": [
          "JORDAN QUINT"
         ],
         "xaxis": "x",
         "y": [
          16
         ],
         "yaxis": "y"
        },
        {
         "hovertemplate": "to_facility=SAINT THOMAS MEDICAL PARTNERS<br>from_physician=%{x}<br>patient_count=%{y}<extra></extra>",
         "legendgroup": "SAINT THOMAS MEDICAL PARTNERS",
         "marker": {
          "color": "#B6E880",
          "symbol": "circle"
         },
         "mode": "markers",
         "name": "SAINT THOMAS MEDICAL PARTNERS",
         "showlegend": true,
         "type": "scattergl",
         "x": [
          "STEPHANIE NIPPER",
          "BENJAMIN FLICK",
          "ERIN GETTLER",
          "NIKKI PHANYORAJ",
          "AMANDA HALE",
          "RICHARD PEMBRIDGE",
          "JOSEPH SHARPE",
          "DARIAN REDDICK",
          "NATALIE DURR",
          "BRANDEE SEABORN",
          "JENNIFER WEST",
          "LOREL HEDGES",
          "MITZI BAKER",
          "BRANDIANN RELLINGER",
          "KIMBERLYN LANGLEY BROWN",
          "MATTHEW MURRAY",
          "JAMES HAYNES",
          "CAROLINE HARRIS",
          "DONNA SMAILIS",
          "PAUL MCNABB",
          "ERIN ROBINSON",
          "SHARI HOLLINS",
          "LACEY BOLDEN",
          "RACHEL WILSON",
          "JASON ZELLER",
          "JAMES WEST",
          "STACY COX",
          "ROBERT CHALFANT",
          "JULIE HONEY",
          "NEIL JHAMB",
          "KRISTIE JACKSON",
          "MEREDITH MILLIGAN-DICK",
          "BROCKTON SANSING",
          "DYVEKE PRATT",
          "DESIREE TABOR",
          "NANCE ENGLAND",
          "SUSAN PARKER",
          "BRITTEN YOUNG",
          "DERICK JENKINS",
          "JOAN BOWLES",
          "ERIN WEED",
          "JAMES KERBY",
          "MATTYE ADAMS",
          "NICHOLAS FLYNN",
          "KELLY CARDEN",
          "ROBIN GILMORE",
          "KIMBERLY CHRISTIAN",
          "CORALIE LECOGUIC",
          "JULIE PHILLIPS",
          "ARCHANA MEHTA",
          "RENATA ALEXANDRE",
          "DAMON ABARAY",
          "KARINA GONZALEZ",
          "DAVID JACOBS",
          "WEIPING LI",
          "AWAIS JAVED",
          "SARAH FREMONT",
          "MEERA WRIGHT",
          "STEVEN EMBRY",
          "YANG GUO",
          "LEOPOLDO BASILICO",
          "CATHERINE STEUART",
          "JOYCE SNYDER"
         ],
         "xaxis": "x",
         "y": [
          24,
          74,
          166,
          56,
          230,
          315,
          64,
          69,
          89,
          232,
          70,
          126,
          127,
          171,
          213,
          123,
          624,
          126,
          366,
          138,
          39,
          47,
          57,
          347,
          65,
          287,
          111,
          128,
          37,
          105,
          258,
          89,
          478,
          219,
          96,
          88,
          210,
          112,
          154,
          165,
          135,
          57,
          91,
          136,
          333,
          102,
          197,
          84,
          94,
          172,
          44,
          411,
          219,
          503,
          375,
          217,
          161,
          170,
          200,
          220,
          196,
          176,
          58
         ],
         "yaxis": "y"
        },
        {
         "hovertemplate": "to_facility=MINUTECLINIC DIAGNOSTIC OF TENNESSEE PC<br>from_physician=%{x}<br>patient_count=%{y}<extra></extra>",
         "legendgroup": "MINUTECLINIC DIAGNOSTIC OF TENNESSEE PC",
         "marker": {
          "color": "#FF97FF",
          "symbol": "circle"
         },
         "mode": "markers",
         "name": "MINUTECLINIC DIAGNOSTIC OF TENNESSEE PC",
         "showlegend": true,
         "type": "scattergl",
         "x": [
          "ERICA TRUKA",
          "GOLD NWOKOCHAH",
          "ANGELA WELLS",
          "LESLIE KEY",
          "VELINDA DEFORGE",
          "ASHLEY BUFFORD",
          "SARAH GOODRICK",
          "CYNTHIA HINE",
          "TABITHA RUSSELL",
          "KELVISHA DAVIS",
          "JESSICA FAY",
          "LIESEL NIXON",
          "BROOKE WARREN",
          "LEAH KOTHLOW",
          "REBECCA RAYMOND",
          "KIMBERLY EZELL",
          "NONYEREM ENEJE",
          "WHITNEY WORKMAN",
          "LEA SCHWEITZER",
          "PAIGE HEWITT",
          "JUDY BOOK",
          "STACY MARSHALL",
          "STANTON CALVARESE",
          "EMILY KHANSARI",
          "KATHERINE CUMMINGS",
          "TANYA CARR-MALONE"
         ],
         "xaxis": "x",
         "y": [
          80,
          83,
          142,
          101,
          149,
          114,
          112,
          125,
          58,
          101,
          84,
          96,
          56,
          69,
          97,
          66,
          83,
          53,
          84,
          118,
          114,
          79,
          113,
          53,
          52,
          72
         ],
         "yaxis": "y"
        },
        {
         "hovertemplate": "to_facility=COLUMBIA ORTHOPEDIC CLINIC<br>from_physician=%{x}<br>patient_count=%{y}<extra></extra>",
         "legendgroup": "COLUMBIA ORTHOPEDIC CLINIC",
         "marker": {
          "color": "#FECB52",
          "symbol": "circle"
         },
         "mode": "markers",
         "name": "COLUMBIA ORTHOPEDIC CLINIC",
         "showlegend": true,
         "type": "scattergl",
         "x": [
          "H WIESMAN"
         ],
         "xaxis": "x",
         "y": [
          166
         ],
         "yaxis": "y"
        },
        {
         "hovertemplate": "to_facility=TENNESSEE RETINA PC<br>from_physician=%{x}<br>patient_count=%{y}<extra></extra>",
         "legendgroup": "TENNESSEE RETINA PC",
         "marker": {
          "color": "#636efa",
          "symbol": "circle"
         },
         "mode": "markers",
         "name": "TENNESSEE RETINA PC",
         "showlegend": true,
         "type": "scattergl",
         "x": [
          "PETER SONKIN",
          "FRANCO RECCHIA",
          "CARL AWH",
          "ROY WALLACE",
          "BRANDON BUSBEE",
          "ERIC SCHNEIDER",
          "KENNETH MOFFAT"
         ],
         "xaxis": "x",
         "y": [
          1168,
          1256,
          1586,
          1838,
          1183,
          1311,
          1431
         ],
         "yaxis": "y"
        },
        {
         "hovertemplate": "to_facility=TRUSTPOINT HOSPITAL LLC<br>from_physician=%{x}<br>patient_count=%{y}<extra></extra>",
         "legendgroup": "TRUSTPOINT HOSPITAL LLC",
         "marker": {
          "color": "#EF553B",
          "symbol": "circle"
         },
         "mode": "markers",
         "name": "TRUSTPOINT HOSPITAL LLC",
         "showlegend": true,
         "type": "scattergl",
         "x": [
          "JESSICA KREPP",
          "MADHUSUDHAN MUDIAM",
          "J. TSIBU",
          "ANDREW PIERCE",
          "FREDRICK ANIKWE"
         ],
         "xaxis": "x",
         "y": [
          27,
          48,
          260,
          48,
          73
         ],
         "yaxis": "y"
        },
        {
         "hovertemplate": "to_facility=GF MEDICAL SOLUTIONS PLC<br>from_physician=%{x}<br>patient_count=%{y}<extra></extra>",
         "legendgroup": "GF MEDICAL SOLUTIONS PLC",
         "marker": {
          "color": "#00cc96",
          "symbol": "circle"
         },
         "mode": "markers",
         "name": "GF MEDICAL SOLUTIONS PLC",
         "showlegend": true,
         "type": "scattergl",
         "x": [
          "FAWN HOLSOMBECK",
          "LARRY FORT",
          "MELANIE MORAN",
          "JEFFREY ESKIND"
         ],
         "xaxis": "x",
         "y": [
          53,
          58,
          317,
          436
         ],
         "yaxis": "y"
        },
        {
         "hovertemplate": "to_facility=NASHVILLE DIGESTIVE DISEASE CENTER, P.C.<br>from_physician=%{x}<br>patient_count=%{y}<extra></extra>",
         "legendgroup": "NASHVILLE DIGESTIVE DISEASE CENTER, P.C.",
         "marker": {
          "color": "#ab63fa",
          "symbol": "circle"
         },
         "mode": "markers",
         "name": "NASHVILLE DIGESTIVE DISEASE CENTER, P.C.",
         "showlegend": true,
         "type": "scattergl",
         "x": [
          "MENE ZUA",
          "KENDRICK JOYCE"
         ],
         "xaxis": "x",
         "y": [
          87,
          39
         ],
         "yaxis": "y"
        },
        {
         "hovertemplate": "to_facility=EYE CENTER OF NASHVILLE UAP, LLC<br>from_physician=%{x}<br>patient_count=%{y}<extra></extra>",
         "legendgroup": "EYE CENTER OF NASHVILLE UAP, LLC",
         "marker": {
          "color": "#FFA15A",
          "symbol": "circle"
         },
         "mode": "markers",
         "name": "EYE CENTER OF NASHVILLE UAP, LLC",
         "showlegend": true,
         "type": "scattergl",
         "x": [
          "FAITH NANCE",
          "JAMES RAY",
          "DONALD PHILLIPS",
          "JAMIE MORRISON",
          "VICTOR MARTIN"
         ],
         "xaxis": "x",
         "y": [
          319,
          419,
          258,
          335,
          140
         ],
         "yaxis": "y"
        },
        {
         "hovertemplate": "to_facility=HERITAGE MEDICAL ASSOCIATES PC<br>from_physician=%{x}<br>patient_count=%{y}<extra></extra>",
         "legendgroup": "HERITAGE MEDICAL ASSOCIATES PC",
         "marker": {
          "color": "#19d3f3",
          "symbol": "circle"
         },
         "mode": "markers",
         "name": "HERITAGE MEDICAL ASSOCIATES PC",
         "showlegend": true,
         "type": "scattergl",
         "x": [
          "MELINDA HUANG",
          "LESLIE CAUDILL",
          "ALLISON SMITH",
          "MEGAN POLSON",
          "MARVIN MEADORS",
          "MARTHA AUSTIN-WHITE",
          "BEVERLY ZAK",
          "MARY KERR",
          "TRACI JANJIC",
          "STACY BROWN",
          "SHERRY MURRAY",
          "MORGAN PARKER",
          "LAUREN BAKER",
          "BRENT MOODY",
          "JEROME BURT",
          "ASHLEY SCISM",
          "MICHAEL ZANOLLI",
          "KRISTEN STIRLING",
          "ROBERT JACOBS",
          "JOHN RICH",
          "LAURA WHITE",
          "TAYLOR HENDON",
          "DONALD BROTHERS",
          "TIFFANIE MARKSBURY",
          "IVEYLEE TRUMP",
          "SHALENE GRINDER",
          "JONATHAN GISH",
          "SHELLEY FRANKLIN",
          "MICHAEL OLIVE"
         ],
         "xaxis": "x",
         "y": [
          350,
          297,
          775,
          76,
          519,
          27,
          477,
          988,
          62,
          334,
          157,
          918,
          125,
          693,
          25,
          34,
          944,
          368,
          33,
          36,
          355,
          183,
          72,
          211,
          273,
          16,
          11,
          588,
          122
         ],
         "yaxis": "y"
        },
        {
         "hovertemplate": "to_facility=NASH EYE CARE PLLC<br>from_physician=%{x}<br>patient_count=%{y}<extra></extra>",
         "legendgroup": "NASH EYE CARE PLLC",
         "marker": {
          "color": "#FF6692",
          "symbol": "circle"
         },
         "mode": "markers",
         "name": "NASH EYE CARE PLLC",
         "showlegend": true,
         "type": "scattergl",
         "x": [
          "JASON NASH"
         ],
         "xaxis": "x",
         "y": [
          93
         ],
         "yaxis": "y"
        },
        {
         "hovertemplate": "to_facility=E&R URGENT CARE PLLC<br>from_physician=%{x}<br>patient_count=%{y}<extra></extra>",
         "legendgroup": "E&R URGENT CARE PLLC",
         "marker": {
          "color": "#B6E880",
          "symbol": "circle"
         },
         "mode": "markers",
         "name": "E&R URGENT CARE PLLC",
         "showlegend": true,
         "type": "scattergl",
         "x": [
          "KRISTINA GEWITSCH",
          "LORI EUBANK"
         ],
         "xaxis": "x",
         "y": [
          74,
          50
         ],
         "yaxis": "y"
        },
        {
         "hovertemplate": "to_facility=CORNEA CONSULTANTS OF NASHVILLE, PLLC<br>from_physician=%{x}<br>patient_count=%{y}<extra></extra>",
         "legendgroup": "CORNEA CONSULTANTS OF NASHVILLE, PLLC",
         "marker": {
          "color": "#FF97FF",
          "symbol": "circle"
         },
         "mode": "markers",
         "name": "CORNEA CONSULTANTS OF NASHVILLE, PLLC",
         "showlegend": true,
         "type": "scattergl",
         "x": [
          "FAITH NANCE",
          "ERICH GROOS",
          "MARK EWALD",
          "IRA SHIVITZ"
         ],
         "xaxis": "x",
         "y": [
          92,
          1238,
          604,
          911
         ],
         "yaxis": "y"
        },
        {
         "hovertemplate": "to_facility=HICKORY MEDICAL ADVISORS, PC<br>from_physician=%{x}<br>patient_count=%{y}<extra></extra>",
         "legendgroup": "HICKORY MEDICAL ADVISORS, PC",
         "marker": {
          "color": "#FECB52",
          "symbol": "circle"
         },
         "mode": "markers",
         "name": "HICKORY MEDICAL ADVISORS, PC",
         "showlegend": true,
         "type": "scattergl",
         "x": [
          "ALADRAINE SANDS"
         ],
         "xaxis": "x",
         "y": [
          29
         ],
         "yaxis": "y"
        },
        {
         "hovertemplate": "to_facility=COMPREHENSIVE NEUROLOGY CENTER, PLLC<br>from_physician=%{x}<br>patient_count=%{y}<extra></extra>",
         "legendgroup": "COMPREHENSIVE NEUROLOGY CENTER, PLLC",
         "marker": {
          "color": "#636efa",
          "symbol": "circle"
         },
         "mode": "markers",
         "name": "COMPREHENSIVE NEUROLOGY CENTER, PLLC",
         "showlegend": true,
         "type": "scattergl",
         "x": [
          "MISTIE GERMEK",
          "JENNABETH FITCH",
          "JOHANNA JIRIKOVEC"
         ],
         "xaxis": "x",
         "y": [
          310,
          72,
          170
         ],
         "yaxis": "y"
        },
        {
         "hovertemplate": "to_facility=AMERICA'S FAMILY DOCTORS, PLLC<br>from_physician=%{x}<br>patient_count=%{y}<extra></extra>",
         "legendgroup": "AMERICA'S FAMILY DOCTORS, PLLC",
         "marker": {
          "color": "#EF553B",
          "symbol": "circle"
         },
         "mode": "markers",
         "name": "AMERICA'S FAMILY DOCTORS, PLLC",
         "showlegend": true,
         "type": "scattergl",
         "x": [
          "LAUREL AUSTIN",
          "MONICA DAVIS",
          "SREEDHAR SAMUDRALA",
          "CORLEY BROTHERS",
          "REBECCA SOMMERS",
          "TERI MCCLAIN-WATSON",
          "RENNEE DHILLON",
          "ALLISON SIMON"
         ],
         "xaxis": "x",
         "y": [
          68,
          102,
          58,
          113,
          39,
          75,
          157,
          68
         ],
         "yaxis": "y"
        },
        {
         "hovertemplate": "to_facility=CENTER FOR SPINE JOINT AND NEUROMUSCULAR REHAB PC.<br>from_physician=%{x}<br>patient_count=%{y}<extra></extra>",
         "legendgroup": "CENTER FOR SPINE JOINT AND NEUROMUSCULAR REHAB PC.",
         "marker": {
          "color": "#00cc96",
          "symbol": "circle"
         },
         "mode": "markers",
         "name": "CENTER FOR SPINE JOINT AND NEUROMUSCULAR REHAB PC.",
         "showlegend": true,
         "type": "scattergl",
         "x": [
          "NANCY ACHUFF",
          "CRISTINA BURKS",
          "TRAVONDA PIRTLE",
          "YOVONDYA CUTLER",
          "STEVEN HUNTER"
         ],
         "xaxis": "x",
         "y": [
          240,
          100,
          148,
          46,
          16
         ],
         "yaxis": "y"
        },
        {
         "hovertemplate": "to_facility=BAPTIST PLAZA SURGICARE LP<br>from_physician=%{x}<br>patient_count=%{y}<extra></extra>",
         "legendgroup": "BAPTIST PLAZA SURGICARE LP",
         "marker": {
          "color": "#ab63fa",
          "symbol": "circle"
         },
         "mode": "markers",
         "name": "BAPTIST PLAZA SURGICARE LP",
         "showlegend": true,
         "type": "scattergl",
         "x": [
          "GARY SUTHERLAND",
          "DAVID LOWDER",
          "PAUL LIPSON",
          "ROBERT ALLISON",
          "WALLACE FRIEDMAN",
          "JEFFREY HALL"
         ],
         "xaxis": "x",
         "y": [
          76,
          144,
          50,
          62,
          128,
          57
         ],
         "yaxis": "y"
        },
        {
         "hovertemplate": "to_facility=LEBANON GENERAL PRACTICE INC<br>from_physician=%{x}<br>patient_count=%{y}<extra></extra>",
         "legendgroup": "LEBANON GENERAL PRACTICE INC",
         "marker": {
          "color": "#FFA15A",
          "symbol": "circle"
         },
         "mode": "markers",
         "name": "LEBANON GENERAL PRACTICE INC",
         "showlegend": true,
         "type": "scattergl",
         "x": [
          "THOMAS KOWAL"
         ],
         "xaxis": "x",
         "y": [
          238
         ],
         "yaxis": "y"
        },
        {
         "hovertemplate": "to_facility=RIVERVIEW PHYSICIAN PRACTICES, LLC<br>from_physician=%{x}<br>patient_count=%{y}<extra></extra>",
         "legendgroup": "RIVERVIEW PHYSICIAN PRACTICES, LLC",
         "marker": {
          "color": "#19d3f3",
          "symbol": "circle"
         },
         "mode": "markers",
         "name": "RIVERVIEW PHYSICIAN PRACTICES, LLC",
         "showlegend": true,
         "type": "scattergl",
         "x": [
          "HEATHER LAMBERT"
         ],
         "xaxis": "x",
         "y": [
          264
         ],
         "yaxis": "y"
        },
        {
         "hovertemplate": "to_facility=WESLEY OPHTHALMIC PLASTIC SURGERY CENTER<br>from_physician=%{x}<br>patient_count=%{y}<extra></extra>",
         "legendgroup": "WESLEY OPHTHALMIC PLASTIC SURGERY CENTER",
         "marker": {
          "color": "#FF6692",
          "symbol": "circle"
         },
         "mode": "markers",
         "name": "WESLEY OPHTHALMIC PLASTIC SURGERY CENTER",
         "showlegend": true,
         "type": "scattergl",
         "x": [
          "FAWN HOLSOMBECK",
          "KELLY EVERMAN",
          "LARRY FORT",
          "WILLARD MEADOWS"
         ],
         "xaxis": "x",
         "y": [
          85,
          111,
          98,
          168
         ],
         "yaxis": "y"
        },
        {
         "hovertemplate": "to_facility=OLYMPIC CONSULTING, LLC<br>from_physician=%{x}<br>patient_count=%{y}<extra></extra>",
         "legendgroup": "OLYMPIC CONSULTING, LLC",
         "marker": {
          "color": "#B6E880",
          "symbol": "circle"
         },
         "mode": "markers",
         "name": "OLYMPIC CONSULTING, LLC",
         "showlegend": true,
         "type": "scattergl",
         "x": [
          "DENISE BROWN",
          "PAMELA NELSON",
          "LAURA HOLLIDAY",
          "JENNIFER CASEY",
          "DAPHNE HARRIS"
         ],
         "xaxis": "x",
         "y": [
          472,
          187,
          464,
          189,
          484
         ],
         "yaxis": "y"
        },
        {
         "hovertemplate": "to_facility=FRED NORDQUIST, MD, PC<br>from_physician=%{x}<br>patient_count=%{y}<extra></extra>",
         "legendgroup": "FRED NORDQUIST, MD, PC",
         "marker": {
          "color": "#FF97FF",
          "symbol": "circle"
         },
         "mode": "markers",
         "name": "FRED NORDQUIST, MD, PC",
         "showlegend": true,
         "type": "scattergl",
         "x": [
          "FRED NORDQUIST"
         ],
         "xaxis": "x",
         "y": [
          324
         ],
         "yaxis": "y"
        },
        {
         "hovertemplate": "to_facility=JEFFREY E. HAZLEWOOD, M.D., P.C.<br>from_physician=%{x}<br>patient_count=%{y}<extra></extra>",
         "legendgroup": "JEFFREY E. HAZLEWOOD, M.D., P.C.",
         "marker": {
          "color": "#FECB52",
          "symbol": "circle"
         },
         "mode": "markers",
         "name": "JEFFREY E. HAZLEWOOD, M.D., P.C.",
         "showlegend": true,
         "type": "scattergl",
         "x": [
          "KRISTY BLANEY"
         ],
         "xaxis": "x",
         "y": [
          94
         ],
         "yaxis": "y"
        },
        {
         "hovertemplate": "to_facility=NORTHCREST MEDICAL CENTER<br>from_physician=%{x}<br>patient_count=%{y}<extra></extra>",
         "legendgroup": "NORTHCREST MEDICAL CENTER",
         "marker": {
          "color": "#636efa",
          "symbol": "circle"
         },
         "mode": "markers",
         "name": "NORTHCREST MEDICAL CENTER",
         "showlegend": true,
         "type": "scattergl",
         "x": [
          "JONATHAN KROSER",
          "JENNIFER EVANGELIST"
         ],
         "xaxis": "x",
         "y": [
          88,
          50
         ],
         "yaxis": "y"
        },
        {
         "hovertemplate": "to_facility=COLUMBIA MEDICAL GROUP-SOUTHERN HILLS INC<br>from_physician=%{x}<br>patient_count=%{y}<extra></extra>",
         "legendgroup": "COLUMBIA MEDICAL GROUP-SOUTHERN HILLS INC",
         "marker": {
          "color": "#EF553B",
          "symbol": "circle"
         },
         "mode": "markers",
         "name": "COLUMBIA MEDICAL GROUP-SOUTHERN HILLS INC",
         "showlegend": true,
         "type": "scattergl",
         "x": [
          "ROBERT BISHOP",
          "MATTHEW BRUST",
          "GEORGE HOLMES"
         ],
         "xaxis": "x",
         "y": [
          263,
          297,
          492
         ],
         "yaxis": "y"
        },
        {
         "hovertemplate": "to_facility=AGC NEURO, PLLC<br>from_physician=%{x}<br>patient_count=%{y}<extra></extra>",
         "legendgroup": "AGC NEURO, PLLC",
         "marker": {
          "color": "#00cc96",
          "symbol": "circle"
         },
         "mode": "markers",
         "name": "AGC NEURO, PLLC",
         "showlegend": true,
         "type": "scattergl",
         "x": [
          "ETHAN CAUGHEY"
         ],
         "xaxis": "x",
         "y": [
          39
         ],
         "yaxis": "y"
        },
        {
         "hovertemplate": "to_facility=P3: PRECISION PHYSICAL THERAPY & PILATES, LLC<br>from_physician=%{x}<br>patient_count=%{y}<extra></extra>",
         "legendgroup": "P3: PRECISION PHYSICAL THERAPY & PILATES, LLC",
         "marker": {
          "color": "#ab63fa",
          "symbol": "circle"
         },
         "mode": "markers",
         "name": "P3: PRECISION PHYSICAL THERAPY & PILATES, LLC",
         "showlegend": true,
         "type": "scattergl",
         "x": [
          "AMANDA MCPEEK",
          "JEANNIE NEWTON",
          "HEATHER COLE"
         ],
         "xaxis": "x",
         "y": [
          24,
          23,
          31
         ],
         "yaxis": "y"
        },
        {
         "hovertemplate": "to_facility=TENNESSEE ONCOLOGY PLLC<br>from_physician=%{x}<br>patient_count=%{y}<extra></extra>",
         "legendgroup": "TENNESSEE ONCOLOGY PLLC",
         "marker": {
          "color": "#FFA15A",
          "symbol": "circle"
         },
         "mode": "markers",
         "name": "TENNESSEE ONCOLOGY PLLC",
         "showlegend": true,
         "type": "scattergl",
         "x": [
          "LESLEY BALLANCE",
          "AMY JOHNSON",
          "DOUGLAS KINGMA",
          "SHERIAN ANDERSON",
          "DANA DE MOSS",
          "MAUREEN SANGER",
          "MELISSA RIKAL",
          "HOLLY BUSHART",
          "AMANDA VANTREASE",
          "MAUREEN REED",
          "JILLIAN VAN ORSOUW",
          "CATHERINE BENSON",
          "ROBERT COOPER",
          "ASHLEY OLSEN"
         ],
         "xaxis": "x",
         "y": [
          96,
          65,
          900,
          35,
          154,
          59,
          52,
          58,
          48,
          72,
          85,
          233,
          119,
          167
         ],
         "yaxis": "y"
        },
        {
         "hovertemplate": "to_facility=LIFELINC ANESTHESIA II, PLLC<br>from_physician=%{x}<br>patient_count=%{y}<extra></extra>",
         "legendgroup": "LIFELINC ANESTHESIA II, PLLC",
         "marker": {
          "color": "#19d3f3",
          "symbol": "circle"
         },
         "mode": "markers",
         "name": "LIFELINC ANESTHESIA II, PLLC",
         "showlegend": true,
         "type": "scattergl",
         "x": [
          "JASON CROSSLIN",
          "STEVEN DEPASS",
          "WILLIAM ENGLAND",
          "CHARLES KNAPPER",
          "MATTHEW STEWART",
          "CAROLINE LITCHFIELD"
         ],
         "xaxis": "x",
         "y": [
          142,
          184,
          174,
          108,
          197,
          131
         ],
         "yaxis": "y"
        },
        {
         "hovertemplate": "to_facility=PATH LAB OF MIDDLE TENNESSEE<br>from_physician=%{x}<br>patient_count=%{y}<extra></extra>",
         "legendgroup": "PATH LAB OF MIDDLE TENNESSEE",
         "marker": {
          "color": "#FF6692",
          "symbol": "circle"
         },
         "mode": "markers",
         "name": "PATH LAB OF MIDDLE TENNESSEE",
         "showlegend": true,
         "type": "scattergl",
         "x": [
          "RICHARD MICHAELSON"
         ],
         "xaxis": "x",
         "y": [
          607
         ],
         "yaxis": "y"
        },
        {
         "hovertemplate": "to_facility=TENNESSEE COMPREHENSIVE LUNG AND SLEEP CENTER,PC<br>from_physician=%{x}<br>patient_count=%{y}<extra></extra>",
         "legendgroup": "TENNESSEE COMPREHENSIVE LUNG AND SLEEP CENTER,PC",
         "marker": {
          "color": "#B6E880",
          "symbol": "circle"
         },
         "mode": "markers",
         "name": "TENNESSEE COMPREHENSIVE LUNG AND SLEEP CENTER,PC",
         "showlegend": true,
         "type": "scattergl",
         "x": [
          "DISHA AWASTHI",
          "MICHAEL NOTO"
         ],
         "xaxis": "x",
         "y": [
          70,
          53
         ],
         "yaxis": "y"
        },
        {
         "hovertemplate": "to_facility=MAURY REGIONAL HOSPITAL<br>from_physician=%{x}<br>patient_count=%{y}<extra></extra>",
         "legendgroup": "MAURY REGIONAL HOSPITAL",
         "marker": {
          "color": "#FF97FF",
          "symbol": "circle"
         },
         "mode": "markers",
         "name": "MAURY REGIONAL HOSPITAL",
         "showlegend": true,
         "type": "scattergl",
         "x": [
          "MANISHA RAJ"
         ],
         "xaxis": "x",
         "y": [
          54
         ],
         "yaxis": "y"
        },
        {
         "hovertemplate": "to_facility=CARESPOT OF HERMITAGE (5225 OLD HICKORY BOULEVARD), LLC<br>from_physician=%{x}<br>patient_count=%{y}<extra></extra>",
         "legendgroup": "CARESPOT OF HERMITAGE (5225 OLD HICKORY BOULEVARD), LLC",
         "marker": {
          "color": "#FECB52",
          "symbol": "circle"
         },
         "mode": "markers",
         "name": "CARESPOT OF HERMITAGE (5225 OLD HICKORY BOULEVARD), LLC",
         "showlegend": true,
         "type": "scattergl",
         "x": [
          "THOMAS STRUBLE"
         ],
         "xaxis": "x",
         "y": [
          73
         ],
         "yaxis": "y"
        },
        {
         "hovertemplate": "to_facility=NASHVILLE GASTROINTESTINAL ANESTHESIA LLC<br>from_physician=%{x}<br>patient_count=%{y}<extra></extra>",
         "legendgroup": "NASHVILLE GASTROINTESTINAL ANESTHESIA LLC",
         "marker": {
          "color": "#636efa",
          "symbol": "circle"
         },
         "mode": "markers",
         "name": "NASHVILLE GASTROINTESTINAL ANESTHESIA LLC",
         "showlegend": true,
         "type": "scattergl",
         "x": [
          "JESSICA GLASS",
          "YOUNG KIM",
          "MEGHAN DAHL"
         ],
         "xaxis": "x",
         "y": [
          544,
          436,
          77
         ],
         "yaxis": "y"
        },
        {
         "hovertemplate": "to_facility=MID-TENNESSEE BONE & JOINT<br>from_physician=%{x}<br>patient_count=%{y}<extra></extra>",
         "legendgroup": "MID-TENNESSEE BONE & JOINT",
         "marker": {
          "color": "#EF553B",
          "symbol": "circle"
         },
         "mode": "markers",
         "name": "MID-TENNESSEE BONE & JOINT",
         "showlegend": true,
         "type": "scattergl",
         "x": [
          "KELLY PICKEL",
          "JONATHAN BASS",
          "TERRI MCNUTT",
          "RONALD WILSON",
          "ASHLEY CAMPBELL-MILLER",
          "DENICE HORNBAKER",
          "NICOLE CAMPBELL"
         ],
         "xaxis": "x",
         "y": [
          74,
          19,
          148,
          140,
          146,
          48,
          239
         ],
         "yaxis": "y"
        },
        {
         "hovertemplate": "to_facility=CUMBERLAND SKIN SURGERY AND DERMATOLOGY<br>from_physician=%{x}<br>patient_count=%{y}<extra></extra>",
         "legendgroup": "CUMBERLAND SKIN SURGERY AND DERMATOLOGY",
         "marker": {
          "color": "#00cc96",
          "symbol": "circle"
         },
         "mode": "markers",
         "name": "CUMBERLAND SKIN SURGERY AND DERMATOLOGY",
         "showlegend": true,
         "type": "scattergl",
         "x": [
          "BARBARA WOLFF",
          "ABIGAIL JAMES",
          "TAMMIE WAMPLER",
          "MOLLY BORING",
          "DINA GLUCK",
          "JOEY PRICE",
          "TANCY BRIDGES"
         ],
         "xaxis": "x",
         "y": [
          983,
          183,
          241,
          350,
          112,
          832,
          591
         ],
         "yaxis": "y"
        },
        {
         "hovertemplate": "to_facility=BANDALO CHIROPRACTIC PLLC<br>from_physician=%{x}<br>patient_count=%{y}<extra></extra>",
         "legendgroup": "BANDALO CHIROPRACTIC PLLC",
         "marker": {
          "color": "#ab63fa",
          "symbol": "circle"
         },
         "mode": "markers",
         "name": "BANDALO CHIROPRACTIC PLLC",
         "showlegend": true,
         "type": "scattergl",
         "x": [
          "MIRO BANDALO"
         ],
         "xaxis": "x",
         "y": [
          11
         ],
         "yaxis": "y"
        },
        {
         "hovertemplate": "to_facility=ACTIVE LIFE CHIROPRACTIC & REHABILITATION PC<br>from_physician=%{x}<br>patient_count=%{y}<extra></extra>",
         "legendgroup": "ACTIVE LIFE CHIROPRACTIC & REHABILITATION PC",
         "marker": {
          "color": "#FFA15A",
          "symbol": "circle"
         },
         "mode": "markers",
         "name": "ACTIVE LIFE CHIROPRACTIC & REHABILITATION PC",
         "showlegend": true,
         "type": "scattergl",
         "x": [
          "RHETT BRUNER"
         ],
         "xaxis": "x",
         "y": [
          214
         ],
         "yaxis": "y"
        },
        {
         "hovertemplate": "to_facility=FRANKLIN DERMATOLOGY GROUP, PLC<br>from_physician=%{x}<br>patient_count=%{y}<extra></extra>",
         "legendgroup": "FRANKLIN DERMATOLOGY GROUP, PLC",
         "marker": {
          "color": "#19d3f3",
          "symbol": "circle"
         },
         "mode": "markers",
         "name": "FRANKLIN DERMATOLOGY GROUP, PLC",
         "showlegend": true,
         "type": "scattergl",
         "x": [
          "EVA PARKER",
          "KAREN BROUSSARD",
          "ELIZABETH CAMPBELL",
          "EMILY STEWART",
          "NIKKI WOOD",
          "LESLEY STARNES"
         ],
         "xaxis": "x",
         "y": [
          591,
          344,
          71,
          273,
          439,
          102
         ],
         "yaxis": "y"
        },
        {
         "hovertemplate": "to_facility=DICKSON OPTICAL PC<br>from_physician=%{x}<br>patient_count=%{y}<extra></extra>",
         "legendgroup": "DICKSON OPTICAL PC",
         "marker": {
          "color": "#FF6692",
          "symbol": "circle"
         },
         "mode": "markers",
         "name": "DICKSON OPTICAL PC",
         "showlegend": true,
         "type": "scattergl",
         "x": [
          "JANNA SMITH",
          "DONALD WEISS",
          "LORI WEISS"
         ],
         "xaxis": "x",
         "y": [
          106,
          201,
          149
         ],
         "yaxis": "y"
        },
        {
         "hovertemplate": "to_facility=ANESTHESIA PARTNERS OF GALLATIN, LLC<br>from_physician=%{x}<br>patient_count=%{y}<extra></extra>",
         "legendgroup": "ANESTHESIA PARTNERS OF GALLATIN, LLC",
         "marker": {
          "color": "#B6E880",
          "symbol": "circle"
         },
         "mode": "markers",
         "name": "ANESTHESIA PARTNERS OF GALLATIN, LLC",
         "showlegend": true,
         "type": "scattergl",
         "x": [
          "CHRISTOPHER BUELL",
          "RICHARD YOUNG"
         ],
         "xaxis": "x",
         "y": [
          177,
          239
         ],
         "yaxis": "y"
        },
        {
         "hovertemplate": "to_facility=CONCORD INFECTIOUS DISEASE ASSOCIATES, PC<br>from_physician=%{x}<br>patient_count=%{y}<extra></extra>",
         "legendgroup": "CONCORD INFECTIOUS DISEASE ASSOCIATES, PC",
         "marker": {
          "color": "#FF97FF",
          "symbol": "circle"
         },
         "mode": "markers",
         "name": "CONCORD INFECTIOUS DISEASE ASSOCIATES, PC",
         "showlegend": true,
         "type": "scattergl",
         "x": [
          "WARDAH KHAN"
         ],
         "xaxis": "x",
         "y": [
          83
         ],
         "yaxis": "y"
        },
        {
         "hovertemplate": "to_facility=MICHAEL E. GREEN<br>from_physician=%{x}<br>patient_count=%{y}<extra></extra>",
         "legendgroup": "MICHAEL E. GREEN",
         "marker": {
          "color": "#FECB52",
          "symbol": "circle"
         },
         "mode": "markers",
         "name": "MICHAEL E. GREEN",
         "showlegend": true,
         "type": "scattergl",
         "x": [
          "MICHAEL GREEN",
          "ADAM COUTS"
         ],
         "xaxis": "x",
         "y": [
          1593,
          152
         ],
         "yaxis": "y"
        },
        {
         "hovertemplate": "to_facility=ASSOCIATED PODIATRISTS OF TENNESSEE<br>from_physician=%{x}<br>patient_count=%{y}<extra></extra>",
         "legendgroup": "ASSOCIATED PODIATRISTS OF TENNESSEE",
         "marker": {
          "color": "#636efa",
          "symbol": "circle"
         },
         "mode": "markers",
         "name": "ASSOCIATED PODIATRISTS OF TENNESSEE",
         "showlegend": true,
         "type": "scattergl",
         "x": [
          "RAMESH PAVULURI",
          "VIJAY PAVULURI"
         ],
         "xaxis": "x",
         "y": [
          417,
          322
         ],
         "yaxis": "y"
        },
        {
         "hovertemplate": "to_facility=AFC PHYSICIANS OF TENNESSEE, PC<br>from_physician=%{x}<br>patient_count=%{y}<extra></extra>",
         "legendgroup": "AFC PHYSICIANS OF TENNESSEE, PC",
         "marker": {
          "color": "#EF553B",
          "symbol": "circle"
         },
         "mode": "markers",
         "name": "AFC PHYSICIANS OF TENNESSEE, PC",
         "showlegend": true,
         "type": "scattergl",
         "x": [
          "ALANNA BEANE",
          "AMARESH MISRA",
          "TEMEKA TUNSTALL",
          "MICHAEL NELSON",
          "CHRIS KROMER",
          "ROBERT JACKSON",
          "KAREN HUNT"
         ],
         "xaxis": "x",
         "y": [
          188,
          181,
          95,
          382,
          128,
          75,
          106
         ],
         "yaxis": "y"
        },
        {
         "hovertemplate": "to_facility=DVA RENAL HEALTHCARE INC<br>from_physician=%{x}<br>patient_count=%{y}<extra></extra>",
         "legendgroup": "DVA RENAL HEALTHCARE INC",
         "marker": {
          "color": "#00cc96",
          "symbol": "circle"
         },
         "mode": "markers",
         "name": "DVA RENAL HEALTHCARE INC",
         "showlegend": true,
         "type": "scattergl",
         "x": [
          "J. HELDERMAN"
         ],
         "xaxis": "x",
         "y": [
          23
         ],
         "yaxis": "y"
        },
        {
         "hovertemplate": "to_facility=EYECARE PLUS HH, PLLC<br>from_physician=%{x}<br>patient_count=%{y}<extra></extra>",
         "legendgroup": "EYECARE PLUS HH, PLLC",
         "marker": {
          "color": "#ab63fa",
          "symbol": "circle"
         },
         "mode": "markers",
         "name": "EYECARE PLUS HH, PLLC",
         "showlegend": true,
         "type": "scattergl",
         "x": [
          "KEVIN SCHMIDT",
          "KYLE KRAGENBRINK"
         ],
         "xaxis": "x",
         "y": [
          62,
          97
         ],
         "yaxis": "y"
        },
        {
         "hovertemplate": "to_facility=SUSAN UNDERWOOD PHYSICAL THERAPY<br>from_physician=%{x}<br>patient_count=%{y}<extra></extra>",
         "legendgroup": "SUSAN UNDERWOOD PHYSICAL THERAPY",
         "marker": {
          "color": "#FFA15A",
          "symbol": "circle"
         },
         "mode": "markers",
         "name": "SUSAN UNDERWOOD PHYSICAL THERAPY",
         "showlegend": true,
         "type": "scattergl",
         "x": [
          "ELIZABETH TILSTRA",
          "JAMIE MORELOCK",
          "ELYSABETH BENEDICT",
          "LINDSAY ISON",
          "SUSAN UNDERWOOD",
          "CHRISTY ROSE",
          "WHITNEY COLLINS"
         ],
         "xaxis": "x",
         "y": [
          37,
          47,
          50,
          55,
          147,
          89,
          69
         ],
         "yaxis": "y"
        },
        {
         "hovertemplate": "to_facility=STEWART CHIROPRACTIC CENTER PC<br>from_physician=%{x}<br>patient_count=%{y}<extra></extra>",
         "legendgroup": "STEWART CHIROPRACTIC CENTER PC",
         "marker": {
          "color": "#19d3f3",
          "symbol": "circle"
         },
         "mode": "markers",
         "name": "STEWART CHIROPRACTIC CENTER PC",
         "showlegend": true,
         "type": "scattergl",
         "x": [
          "SAMUEL STEWART"
         ],
         "xaxis": "x",
         "y": [
          42
         ],
         "yaxis": "y"
        },
        {
         "hovertemplate": "to_facility=JAMES C. LODEN, MD PC<br>from_physician=%{x}<br>patient_count=%{y}<extra></extra>",
         "legendgroup": "JAMES C. LODEN, MD PC",
         "marker": {
          "color": "#FF6692",
          "symbol": "circle"
         },
         "mode": "markers",
         "name": "JAMES C. LODEN, MD PC",
         "showlegend": true,
         "type": "scattergl",
         "x": [
          "JESSICA LESUEUR",
          "AMISH PUROHIT",
          "FEYISAYO AWORUNSE",
          "DANIEL SCHIMMEL"
         ],
         "xaxis": "x",
         "y": [
          81,
          269,
          66,
          796
         ],
         "yaxis": "y"
        },
        {
         "hovertemplate": "to_facility=VANDERBILT HEALTH AND WILLIAMSON MEDICAL CENTER CLINICS AND SERVICES,<br>from_physician=%{x}<br>patient_count=%{y}<extra></extra>",
         "legendgroup": "VANDERBILT HEALTH AND WILLIAMSON MEDICAL CENTER CLINICS AND SERVICES,",
         "marker": {
          "color": "#B6E880",
          "symbol": "circle"
         },
         "mode": "markers",
         "name": "VANDERBILT HEALTH AND WILLIAMSON MEDICAL CENTER CLINICS AND SERVICES,",
         "showlegend": true,
         "type": "scattergl",
         "x": [
          "HARVEY MURFF",
          "LINDA JOHNSON",
          "LORINA POE",
          "GINA VAUGHN",
          "KRISTEN MASSEY",
          "SUSAN JOHNSON",
          "DEBORAH BAKER",
          "GORDON MELTON",
          "SANDRA ERMINI",
          "LINDSEY DALTON",
          "SHERIN TAHMASBI",
          "ELISA WALKER",
          "GRETEL ROWLAND",
          "CHARLOTTE STEPHENSON",
          "CANDICE LEWIS",
          "MEGAN VICKERS",
          "MARY CARTER",
          "RUTH STEWART"
         ],
         "xaxis": "x",
         "y": [
          58,
          124,
          395,
          237,
          101,
          67,
          286,
          383,
          249,
          70,
          53,
          265,
          88,
          106,
          209,
          57,
          324,
          92
         ],
         "yaxis": "y"
        },
        {
         "hovertemplate": "to_facility=UNITED NEIGHBORHOOD HEALTH SERVICES, INC<br>from_physician=%{x}<br>patient_count=%{y}<extra></extra>",
         "legendgroup": "UNITED NEIGHBORHOOD HEALTH SERVICES, INC",
         "marker": {
          "color": "#FF97FF",
          "symbol": "circle"
         },
         "mode": "markers",
         "name": "UNITED NEIGHBORHOOD HEALTH SERVICES, INC",
         "showlegend": true,
         "type": "scattergl",
         "x": [
          "NELLY WOLUGBOMS",
          "NELLY WOLUGBOMS",
          "AFSHAN KIRMANI",
          "ASHLEY TERRY",
          "MARY PRISCO",
          "JENNIFER WISE",
          "ASHLEY TERRY",
          "JULIE DONOHUE",
          "LUZ SALAZAR",
          "JULIE DONOHUE",
          "ADAM SMITH",
          "LEAH NELSON",
          "JOSEPH OJIBWAY",
          "DENA WAMPLER",
          "DENA WAMPLER"
         ],
         "xaxis": "x",
         "y": [
          30,
          30,
          56,
          29,
          90,
          31,
          29,
          37,
          29,
          37,
          35,
          32,
          52,
          34,
          33
         ],
         "yaxis": "y"
        },
        {
         "hovertemplate": "to_facility=SINGLETON FAMILY PRACTICE & WEIGHT LOSS CLINIC, LLC<br>from_physician=%{x}<br>patient_count=%{y}<extra></extra>",
         "legendgroup": "SINGLETON FAMILY PRACTICE & WEIGHT LOSS CLINIC, LLC",
         "marker": {
          "color": "#FECB52",
          "symbol": "circle"
         },
         "mode": "markers",
         "name": "SINGLETON FAMILY PRACTICE & WEIGHT LOSS CLINIC, LLC",
         "showlegend": true,
         "type": "scattergl",
         "x": [
          "CODYE SINGLETON"
         ],
         "xaxis": "x",
         "y": [
          39
         ],
         "yaxis": "y"
        },
        {
         "hovertemplate": "to_facility=CENTENNIAL HEART LLC<br>from_physician=%{x}<br>patient_count=%{y}<extra></extra>",
         "legendgroup": "CENTENNIAL HEART LLC",
         "marker": {
          "color": "#636efa",
          "symbol": "circle"
         },
         "mode": "markers",
         "name": "CENTENNIAL HEART LLC",
         "showlegend": true,
         "type": "scattergl",
         "x": [
          "LAURA WASIELEWSKI",
          "ENJOLI GUPTON"
         ],
         "xaxis": "x",
         "y": [
          53,
          58
         ],
         "yaxis": "y"
        },
        {
         "hovertemplate": "to_facility=MIDDLE TENNESSEE PLASTIC SURGERY, P.C.<br>from_physician=%{x}<br>patient_count=%{y}<extra></extra>",
         "legendgroup": "MIDDLE TENNESSEE PLASTIC SURGERY, P.C.",
         "marker": {
          "color": "#EF553B",
          "symbol": "circle"
         },
         "mode": "markers",
         "name": "MIDDLE TENNESSEE PLASTIC SURGERY, P.C.",
         "showlegend": true,
         "type": "scattergl",
         "x": [
          "DAVID MARTIN"
         ],
         "xaxis": "x",
         "y": [
          95
         ],
         "yaxis": "y"
        },
        {
         "hovertemplate": "to_facility=NEUROPSYCHOLOGY ASSOCIATES, PLLC<br>from_physician=%{x}<br>patient_count=%{y}<extra></extra>",
         "legendgroup": "NEUROPSYCHOLOGY ASSOCIATES, PLLC",
         "marker": {
          "color": "#00cc96",
          "symbol": "circle"
         },
         "mode": "markers",
         "name": "NEUROPSYCHOLOGY ASSOCIATES, PLLC",
         "showlegend": true,
         "type": "scattergl",
         "x": [
          "JESSICA BARCLAY"
         ],
         "xaxis": "x",
         "y": [
          78
         ],
         "yaxis": "y"
        },
        {
         "hovertemplate": "to_facility=EMERGENCY MEDICINE CONSULTANTS OF NASHVILLE, INC<br>from_physician=%{x}<br>patient_count=%{y}<extra></extra>",
         "legendgroup": "EMERGENCY MEDICINE CONSULTANTS OF NASHVILLE, INC",
         "marker": {
          "color": "#ab63fa",
          "symbol": "circle"
         },
         "mode": "markers",
         "name": "EMERGENCY MEDICINE CONSULTANTS OF NASHVILLE, INC",
         "showlegend": true,
         "type": "scattergl",
         "x": [
          "LUCY TUCKER"
         ],
         "xaxis": "x",
         "y": [
          63
         ],
         "yaxis": "y"
        },
        {
         "hovertemplate": "to_facility=DDEC ANESTHESIA, LLC<br>from_physician=%{x}<br>patient_count=%{y}<extra></extra>",
         "legendgroup": "DDEC ANESTHESIA, LLC",
         "marker": {
          "color": "#FFA15A",
          "symbol": "circle"
         },
         "mode": "markers",
         "name": "DDEC ANESTHESIA, LLC",
         "showlegend": true,
         "type": "scattergl",
         "x": [
          "DAVID MCMILLEN",
          "GEORGE WRIGHT",
          "DEBRA MISTLER",
          "BRAD IRBY",
          "HARRISON SHULL",
          "ASHLEY HUGHES",
          "CHARLES GOLDEN"
         ],
         "xaxis": "x",
         "y": [
          230,
          267,
          390,
          67,
          206,
          378,
          107
         ],
         "yaxis": "y"
        },
        {
         "hovertemplate": "to_facility=DR. TRACY A. MERRELL, D.P.M., P.C.<br>from_physician=%{x}<br>patient_count=%{y}<extra></extra>",
         "legendgroup": "DR. TRACY A. MERRELL, D.P.M., P.C.",
         "marker": {
          "color": "#19d3f3",
          "symbol": "circle"
         },
         "mode": "markers",
         "name": "DR. TRACY A. MERRELL, D.P.M., P.C.",
         "showlegend": true,
         "type": "scattergl",
         "x": [
          "TRACY MERRELL"
         ],
         "xaxis": "x",
         "y": [
          287
         ],
         "yaxis": "y"
        },
        {
         "hovertemplate": "to_facility=ANBA ABRAAM MEDICAL CLINIC<br>from_physician=%{x}<br>patient_count=%{y}<extra></extra>",
         "legendgroup": "ANBA ABRAAM MEDICAL CLINIC",
         "marker": {
          "color": "#FF6692",
          "symbol": "circle"
         },
         "mode": "markers",
         "name": "ANBA ABRAAM MEDICAL CLINIC",
         "showlegend": true,
         "type": "scattergl",
         "x": [
          "YOUSSEF TAWFIK"
         ],
         "xaxis": "x",
         "y": [
          54
         ],
         "yaxis": "y"
        },
        {
         "hovertemplate": "to_facility=FRED R SHANKS, O.D., LLC<br>from_physician=%{x}<br>patient_count=%{y}<extra></extra>",
         "legendgroup": "FRED R SHANKS, O.D., LLC",
         "marker": {
          "color": "#B6E880",
          "symbol": "circle"
         },
         "mode": "markers",
         "name": "FRED R SHANKS, O.D., LLC",
         "showlegend": true,
         "type": "scattergl",
         "x": [
          "FRED SHANKS"
         ],
         "xaxis": "x",
         "y": [
          100
         ],
         "yaxis": "y"
        },
        {
         "hovertemplate": "to_facility=SOUTHERN PLASTIC & RECONSTRUCTIVE SURGICAL INSTITITUTE<br>from_physician=%{x}<br>patient_count=%{y}<extra></extra>",
         "legendgroup": "SOUTHERN PLASTIC & RECONSTRUCTIVE SURGICAL INSTITITUTE",
         "marker": {
          "color": "#FF97FF",
          "symbol": "circle"
         },
         "mode": "markers",
         "name": "SOUTHERN PLASTIC & RECONSTRUCTIVE SURGICAL INSTITITUTE",
         "showlegend": true,
         "type": "scattergl",
         "x": [
          "NATHAN BROUGHT"
         ],
         "xaxis": "x",
         "y": [
          45
         ],
         "yaxis": "y"
        },
        {
         "hovertemplate": "to_facility=MATHIS DRIVE INPATIENT SERVICES PLLC<br>from_physician=%{x}<br>patient_count=%{y}<extra></extra>",
         "legendgroup": "MATHIS DRIVE INPATIENT SERVICES PLLC",
         "marker": {
          "color": "#FECB52",
          "symbol": "circle"
         },
         "mode": "markers",
         "name": "MATHIS DRIVE INPATIENT SERVICES PLLC",
         "showlegend": true,
         "type": "scattergl",
         "x": [
          "MONA MASHAYEKHI",
          "LISA SIMMONS",
          "EBELE UMEUKEJE"
         ],
         "xaxis": "x",
         "y": [
          55,
          168,
          49
         ],
         "yaxis": "y"
        },
        {
         "hovertemplate": "to_facility=JAMI LLC<br>from_physician=%{x}<br>patient_count=%{y}<extra></extra>",
         "legendgroup": "JAMI LLC",
         "marker": {
          "color": "#636efa",
          "symbol": "circle"
         },
         "mode": "markers",
         "name": "JAMI LLC",
         "showlegend": true,
         "type": "scattergl",
         "x": [
          "DANILO FLORES"
         ],
         "xaxis": "x",
         "y": [
          55
         ],
         "yaxis": "y"
        },
        {
         "hovertemplate": "to_facility=WOMENS AND CHILDRENS SPECIALISTS, LLC<br>from_physician=%{x}<br>patient_count=%{y}<extra></extra>",
         "legendgroup": "WOMENS AND CHILDRENS SPECIALISTS, LLC",
         "marker": {
          "color": "#EF553B",
          "symbol": "circle"
         },
         "mode": "markers",
         "name": "WOMENS AND CHILDRENS SPECIALISTS, LLC",
         "showlegend": true,
         "type": "scattergl",
         "x": [
          "HAYDAR FRANGOUL"
         ],
         "xaxis": "x",
         "y": [
          37
         ],
         "yaxis": "y"
        },
        {
         "hovertemplate": "to_facility=SENIOR HEALTH PROFESSIONALS LLC<br>from_physician=%{x}<br>patient_count=%{y}<extra></extra>",
         "legendgroup": "SENIOR HEALTH PROFESSIONALS LLC",
         "marker": {
          "color": "#00cc96",
          "symbol": "circle"
         },
         "mode": "markers",
         "name": "SENIOR HEALTH PROFESSIONALS LLC",
         "showlegend": true,
         "type": "scattergl",
         "x": [
          "STACY MCLALLEN",
          "TIFFANY RAMOS"
         ],
         "xaxis": "x",
         "y": [
          132,
          174
         ],
         "yaxis": "y"
        },
        {
         "hovertemplate": "to_facility=DRS. REED & WILKERSON<br>from_physician=%{x}<br>patient_count=%{y}<extra></extra>",
         "legendgroup": "DRS. REED & WILKERSON",
         "marker": {
          "color": "#ab63fa",
          "symbol": "circle"
         },
         "mode": "markers",
         "name": "DRS. REED & WILKERSON",
         "showlegend": true,
         "type": "scattergl",
         "x": [
          "DAVID REED",
          "JASON WILKERSON"
         ],
         "xaxis": "x",
         "y": [
          263,
          420
         ],
         "yaxis": "y"
        },
        {
         "hovertemplate": "to_facility=MURFREESBORO SURGICAL ASSOCIATES<br>from_physician=%{x}<br>patient_count=%{y}<extra></extra>",
         "legendgroup": "MURFREESBORO SURGICAL ASSOCIATES",
         "marker": {
          "color": "#FFA15A",
          "symbol": "circle"
         },
         "mode": "markers",
         "name": "MURFREESBORO SURGICAL ASSOCIATES",
         "showlegend": true,
         "type": "scattergl",
         "x": [
          "ANDREW HAZLEY"
         ],
         "xaxis": "x",
         "y": [
          93
         ],
         "yaxis": "y"
        },
        {
         "hovertemplate": "to_facility=DIGESTIVE DISEASE ENDOSCOPY CENTER, INC.<br>from_physician=%{x}<br>patient_count=%{y}<extra></extra>",
         "legendgroup": "DIGESTIVE DISEASE ENDOSCOPY CENTER, INC.",
         "marker": {
          "color": "#19d3f3",
          "symbol": "circle"
         },
         "mode": "markers",
         "name": "DIGESTIVE DISEASE ENDOSCOPY CENTER, INC.",
         "showlegend": true,
         "type": "scattergl",
         "x": [
          "GEORGE WRIGHT",
          "DAVID MCMILLEN",
          "DEBRA MISTLER",
          "BRAD IRBY",
          "HARRISON SHULL",
          "ASHLEY HUGHES",
          "CHARLES GOLDEN"
         ],
         "xaxis": "x",
         "y": [
          270,
          231,
          387,
          67,
          213,
          377,
          107
         ],
         "yaxis": "y"
        },
        {
         "hovertemplate": "to_facility=VISION IMPROVEMENT PROFESSIONALS, INC.<br>from_physician=%{x}<br>patient_count=%{y}<extra></extra>",
         "legendgroup": "VISION IMPROVEMENT PROFESSIONALS, INC.",
         "marker": {
          "color": "#FF6692",
          "symbol": "circle"
         },
         "mode": "markers",
         "name": "VISION IMPROVEMENT PROFESSIONALS, INC.",
         "showlegend": true,
         "type": "scattergl",
         "x": [
          "GREGORY COLEY"
         ],
         "xaxis": "x",
         "y": [
          171
         ],
         "yaxis": "y"
        },
        {
         "hovertemplate": "to_facility=(RIVERSIDE FAMILY MEDICINE)<br>from_physician=%{x}<br>patient_count=%{y}<extra></extra>",
         "legendgroup": "(RIVERSIDE FAMILY MEDICINE)",
         "marker": {
          "color": "#B6E880",
          "symbol": "circle"
         },
         "mode": "markers",
         "name": "(RIVERSIDE FAMILY MEDICINE)",
         "showlegend": true,
         "type": "scattergl",
         "x": [
          "TONY FREEMAN",
          "KENNETH DOZIER"
         ],
         "xaxis": "x",
         "y": [
          167,
          241
         ],
         "yaxis": "y"
        },
        {
         "hovertemplate": "to_facility=EYECARE PLUS CA,PLLC<br>from_physician=%{x}<br>patient_count=%{y}<extra></extra>",
         "legendgroup": "EYECARE PLUS CA,PLLC",
         "marker": {
          "color": "#FF97FF",
          "symbol": "circle"
         },
         "mode": "markers",
         "name": "EYECARE PLUS CA,PLLC",
         "showlegend": true,
         "type": "scattergl",
         "x": [
          "JENNIFER MALLORY",
          "TAYLOR HARRIS",
          "OLIVIA CHAPMAN",
          "WILLIAM WOOD"
         ],
         "xaxis": "x",
         "y": [
          150,
          186,
          44,
          92
         ],
         "yaxis": "y"
        },
        {
         "hovertemplate": "to_facility=ADVANCED FOOT AND ANKLE CARE CENTERS P C<br>from_physician=%{x}<br>patient_count=%{y}<extra></extra>",
         "legendgroup": "ADVANCED FOOT AND ANKLE CARE CENTERS P C",
         "marker": {
          "color": "#FECB52",
          "symbol": "circle"
         },
         "mode": "markers",
         "name": "ADVANCED FOOT AND ANKLE CARE CENTERS P C",
         "showlegend": true,
         "type": "scattergl",
         "x": [
          "I RETIEF",
          "ROBERT FRANKFATHER",
          "DAVID FARNEN",
          "JAMIL HOSSAIN"
         ],
         "xaxis": "x",
         "y": [
          223,
          336,
          76,
          330
         ],
         "yaxis": "y"
        },
        {
         "hovertemplate": "to_facility=AMBULATORY SURGERY CENTER OF COOL SPRINGS LLC<br>from_physician=%{x}<br>patient_count=%{y}<extra></extra>",
         "legendgroup": "AMBULATORY SURGERY CENTER OF COOL SPRINGS LLC",
         "marker": {
          "color": "#636efa",
          "symbol": "circle"
         },
         "mode": "markers",
         "name": "AMBULATORY SURGERY CENTER OF COOL SPRINGS LLC",
         "showlegend": true,
         "type": "scattergl",
         "x": [
          "JOHN FOSTER",
          "SHERRY HARMON",
          "ERIN DUNAVANT",
          "MARY RANDALL",
          "E. BROCK",
          "AMY SMITH",
          "BRIAN MCKELVY",
          "LATORYA BURTON"
         ],
         "xaxis": "x",
         "y": [
          215,
          164,
          136,
          214,
          532,
          176,
          292,
          331
         ],
         "yaxis": "y"
        },
        {
         "hovertemplate": "to_facility=FAMILY HEALTH CENTER OF ASHLAND CITY PLLC<br>from_physician=%{x}<br>patient_count=%{y}<extra></extra>",
         "legendgroup": "FAMILY HEALTH CENTER OF ASHLAND CITY PLLC",
         "marker": {
          "color": "#EF553B",
          "symbol": "circle"
         },
         "mode": "markers",
         "name": "FAMILY HEALTH CENTER OF ASHLAND CITY PLLC",
         "showlegend": true,
         "type": "scattergl",
         "x": [
          "SCOTT BROWN"
         ],
         "xaxis": "x",
         "y": [
          247
         ],
         "yaxis": "y"
        },
        {
         "hovertemplate": "to_facility=SHAW CHIROPRACTIC AND JOINT CENTER<br>from_physician=%{x}<br>patient_count=%{y}<extra></extra>",
         "legendgroup": "SHAW CHIROPRACTIC AND JOINT CENTER",
         "marker": {
          "color": "#00cc96",
          "symbol": "circle"
         },
         "mode": "markers",
         "name": "SHAW CHIROPRACTIC AND JOINT CENTER",
         "showlegend": true,
         "type": "scattergl",
         "x": [
          "KENNETH SHAW"
         ],
         "xaxis": "x",
         "y": [
          26
         ],
         "yaxis": "y"
        },
        {
         "hovertemplate": "to_facility=TAKE CARE HEALTH TENNESSEE, P. C.<br>from_physician=%{x}<br>patient_count=%{y}<extra></extra>",
         "legendgroup": "TAKE CARE HEALTH TENNESSEE, P. C.",
         "marker": {
          "color": "#ab63fa",
          "symbol": "circle"
         },
         "mode": "markers",
         "name": "TAKE CARE HEALTH TENNESSEE, P. C.",
         "showlegend": true,
         "type": "scattergl",
         "x": [
          "DONNA DUBOIS",
          "THY TRUONG",
          "GERALD MCCLAIN",
          "CANDANCE ALEXANDER",
          "CHRISTINA AGEE",
          "SARAH THOMPSON",
          "FATMATA KAMARA",
          "ROBIN SWENSEN",
          "KRISTIN LEONARD",
          "CHRISTINE GALLUZZI",
          "MARY MCREDMOND",
          "NERESSA WHITE",
          "BRITTON CHURCHMAN",
          "SARAH FRANCIS",
          "ASHLEY SCHMIDT",
          "SCOTT COFFEY"
         ],
         "xaxis": "x",
         "y": [
          65,
          47,
          65,
          74,
          62,
          61,
          74,
          84,
          49,
          101,
          73,
          78,
          65,
          80,
          93,
          50
         ],
         "yaxis": "y"
        },
        {
         "hovertemplate": "to_facility=PAIN MANAGEMENT GROUP, P.C.<br>from_physician=%{x}<br>patient_count=%{y}<extra></extra>",
         "legendgroup": "PAIN MANAGEMENT GROUP, P.C.",
         "marker": {
          "color": "#FFA15A",
          "symbol": "circle"
         },
         "mode": "markers",
         "name": "PAIN MANAGEMENT GROUP, P.C.",
         "showlegend": true,
         "type": "scattergl",
         "x": [
          "MALINDA JOHNSON",
          "MICHAEL RADYKO",
          "KATHERINE DE ARAUJO JORGE",
          "ARLESHEA ATMORE",
          "KELLY BORDEN",
          "CRYSTAL JOHNSON",
          "CANDIUS LOGGINS",
          "AMANDA ARNOLD",
          "JENNIFER MADU",
          "JASMINE CAMP",
          "KIMBERLY PERRY",
          "ADELINE LEE"
         ],
         "xaxis": "x",
         "y": [
          211,
          250,
          183,
          123,
          215,
          178,
          184,
          153,
          111,
          183,
          149,
          235
         ],
         "yaxis": "y"
        },
        {
         "hovertemplate": "to_facility=MURFREESBORO SURGICAL SPECIALISTS PLLC<br>from_physician=%{x}<br>patient_count=%{y}<extra></extra>",
         "legendgroup": "MURFREESBORO SURGICAL SPECIALISTS PLLC",
         "marker": {
          "color": "#19d3f3",
          "symbol": "circle"
         },
         "mode": "markers",
         "name": "MURFREESBORO SURGICAL SPECIALISTS PLLC",
         "showlegend": true,
         "type": "scattergl",
         "x": [
          "STEPHEN RICH",
          "WARD HOUCK",
          "MARK AKINS"
         ],
         "xaxis": "x",
         "y": [
          148,
          200,
          161
         ],
         "yaxis": "y"
        },
        {
         "hovertemplate": "to_facility=GERIATRIC CONSULTING GROUP PC<br>from_physician=%{x}<br>patient_count=%{y}<extra></extra>",
         "legendgroup": "GERIATRIC CONSULTING GROUP PC",
         "marker": {
          "color": "#FF6692",
          "symbol": "circle"
         },
         "mode": "markers",
         "name": "GERIATRIC CONSULTING GROUP PC",
         "showlegend": true,
         "type": "scattergl",
         "x": [
          "AMY AMMARELL",
          "PAUL MCCLELLAN",
          "ROBERTA BERMAN",
          "LAUREN MERCHANT",
          "JOHN PAINTER",
          "JADE VERGARA",
          "JACQUELINE CAMPBELL",
          "ANESA WILLOUGHBY"
         ],
         "xaxis": "x",
         "y": [
          160,
          275,
          113,
          72,
          170,
          130,
          111,
          158
         ],
         "yaxis": "y"
        },
        {
         "hovertemplate": "to_facility=CARIS HEALTHCARE, LP<br>from_physician=%{x}<br>patient_count=%{y}<extra></extra>",
         "legendgroup": "CARIS HEALTHCARE, LP",
         "marker": {
          "color": "#B6E880",
          "symbol": "circle"
         },
         "mode": "markers",
         "name": "CARIS HEALTHCARE, LP",
         "showlegend": true,
         "type": "scattergl",
         "x": [
          "RAUL COURET"
         ],
         "xaxis": "x",
         "y": [
          102
         ],
         "yaxis": "y"
        },
        {
         "hovertemplate": "to_facility=HARVEY W. BOWLES MD PC<br>from_physician=%{x}<br>patient_count=%{y}<extra></extra>",
         "legendgroup": "HARVEY W. BOWLES MD PC",
         "marker": {
          "color": "#FF97FF",
          "symbol": "circle"
         },
         "mode": "markers",
         "name": "HARVEY W. BOWLES MD PC",
         "showlegend": true,
         "type": "scattergl",
         "x": [
          "HARVEY BOWLES"
         ],
         "xaxis": "x",
         "y": [
          348
         ],
         "yaxis": "y"
        },
        {
         "hovertemplate": "to_facility=INTERNAL MEDICINE ASSOCIATES OF SOUTHERN HILLS LLC<br>from_physician=%{x}<br>patient_count=%{y}<extra></extra>",
         "legendgroup": "INTERNAL MEDICINE ASSOCIATES OF SOUTHERN HILLS LLC",
         "marker": {
          "color": "#FECB52",
          "symbol": "circle"
         },
         "mode": "markers",
         "name": "INTERNAL MEDICINE ASSOCIATES OF SOUTHERN HILLS LLC",
         "showlegend": true,
         "type": "scattergl",
         "x": [
          "SHUAIB MOHYUDDIN"
         ],
         "xaxis": "x",
         "y": [
          182
         ],
         "yaxis": "y"
        },
        {
         "hovertemplate": "to_facility=DANIEL ADKISSON<br>from_physician=%{x}<br>patient_count=%{y}<extra></extra>",
         "legendgroup": "DANIEL ADKISSON",
         "marker": {
          "color": "#636efa",
          "symbol": "circle"
         },
         "mode": "markers",
         "name": "DANIEL ADKISSON",
         "showlegend": true,
         "type": "scattergl",
         "x": [
          "DANIEL ADKISSON"
         ],
         "xaxis": "x",
         "y": [
          218
         ],
         "yaxis": "y"
        },
        {
         "hovertemplate": "to_facility=SUMMIT EYE ASSOCIATES P C<br>from_physician=%{x}<br>patient_count=%{y}<extra></extra>",
         "legendgroup": "SUMMIT EYE ASSOCIATES P C",
         "marker": {
          "color": "#EF553B",
          "symbol": "circle"
         },
         "mode": "markers",
         "name": "SUMMIT EYE ASSOCIATES P C",
         "showlegend": true,
         "type": "scattergl",
         "x": [
          "MEREDITH EZELL",
          "WILLIAM GATES",
          "JOSHUA YOUNG",
          "JAMIE MORRISON"
         ],
         "xaxis": "x",
         "y": [
          1156,
          1473,
          960,
          47
         ],
         "yaxis": "y"
        },
        {
         "hovertemplate": "to_facility=ROBERT C. RIPLEY, M.D., P.C.<br>from_physician=%{x}<br>patient_count=%{y}<extra></extra>",
         "legendgroup": "ROBERT C. RIPLEY, M.D., P.C.",
         "marker": {
          "color": "#00cc96",
          "symbol": "circle"
         },
         "mode": "markers",
         "name": "ROBERT C. RIPLEY, M.D., P.C.",
         "showlegend": true,
         "type": "scattergl",
         "x": [
          "ROBERT RIPLEY"
         ],
         "xaxis": "x",
         "y": [
          508
         ],
         "yaxis": "y"
        },
        {
         "hovertemplate": "to_facility=CARESPOT OF BRENTWOOD (210 FRANKLIN ROAD), LLC<br>from_physician=%{x}<br>patient_count=%{y}<extra></extra>",
         "legendgroup": "CARESPOT OF BRENTWOOD (210 FRANKLIN ROAD), LLC",
         "marker": {
          "color": "#ab63fa",
          "symbol": "circle"
         },
         "mode": "markers",
         "name": "CARESPOT OF BRENTWOOD (210 FRANKLIN ROAD), LLC",
         "showlegend": true,
         "type": "scattergl",
         "x": [
          "JACQUELYN JACKSON",
          "ROBERT RELIC"
         ],
         "xaxis": "x",
         "y": [
          69,
          82
         ],
         "yaxis": "y"
        },
        {
         "hovertemplate": "to_facility=UROLOGY SURGERY CENTER LP<br>from_physician=%{x}<br>patient_count=%{y}<extra></extra>",
         "legendgroup": "UROLOGY SURGERY CENTER LP",
         "marker": {
          "color": "#FFA15A",
          "symbol": "circle"
         },
         "mode": "markers",
         "name": "UROLOGY SURGERY CENTER LP",
         "showlegend": true,
         "type": "scattergl",
         "x": [
          "BONITA THOMPSON",
          "LYNDA ELAM",
          "IVY JENKINS",
          "ABIGAIL BUTORAC"
         ],
         "xaxis": "x",
         "y": [
          159,
          186,
          50,
          141
         ],
         "yaxis": "y"
        },
        {
         "hovertemplate": "to_facility=INSIGHT VISION CENTER LLC<br>from_physician=%{x}<br>patient_count=%{y}<extra></extra>",
         "legendgroup": "INSIGHT VISION CENTER LLC",
         "marker": {
          "color": "#19d3f3",
          "symbol": "circle"
         },
         "mode": "markers",
         "name": "INSIGHT VISION CENTER LLC",
         "showlegend": true,
         "type": "scattergl",
         "x": [
          "ALETTE DAVIS"
         ],
         "xaxis": "x",
         "y": [
          35
         ],
         "yaxis": "y"
        },
        {
         "hovertemplate": "to_facility=RIVERGATE PSYCHIATRIC & BEHAVIORAL HEALTH<br>from_physician=%{x}<br>patient_count=%{y}<extra></extra>",
         "legendgroup": "RIVERGATE PSYCHIATRIC & BEHAVIORAL HEALTH",
         "marker": {
          "color": "#FF6692",
          "symbol": "circle"
         },
         "mode": "markers",
         "name": "RIVERGATE PSYCHIATRIC & BEHAVIORAL HEALTH",
         "showlegend": true,
         "type": "scattergl",
         "x": [
          "NIHAR SAHA"
         ],
         "xaxis": "x",
         "y": [
          43
         ],
         "yaxis": "y"
        },
        {
         "hovertemplate": "to_facility=ASPIRE HEALTH MEDICAL PARTNERS, PC<br>from_physician=%{x}<br>patient_count=%{y}<extra></extra>",
         "legendgroup": "ASPIRE HEALTH MEDICAL PARTNERS, PC",
         "marker": {
          "color": "#B6E880",
          "symbol": "circle"
         },
         "mode": "markers",
         "name": "ASPIRE HEALTH MEDICAL PARTNERS, PC",
         "showlegend": true,
         "type": "scattergl",
         "x": [
          "KAYLA KENNEDY",
          "MARY SMITH",
          "ANNE REVIERE",
          "LISA BARKSDALE",
          "ANDREA KNOX",
          "RYANN MCGUIRE",
          "LISA HITT"
         ],
         "xaxis": "x",
         "y": [
          16,
          58,
          66,
          29,
          116,
          13,
          19
         ],
         "yaxis": "y"
        },
        {
         "hovertemplate": "to_facility=POST-ACUTE PHYSICIANS OF TENNESSEE PLLC<br>from_physician=%{x}<br>patient_count=%{y}<extra></extra>",
         "legendgroup": "POST-ACUTE PHYSICIANS OF TENNESSEE PLLC",
         "marker": {
          "color": "#FF97FF",
          "symbol": "circle"
         },
         "mode": "markers",
         "name": "POST-ACUTE PHYSICIANS OF TENNESSEE PLLC",
         "showlegend": true,
         "type": "scattergl",
         "x": [
          "SCOTT MANDELL"
         ],
         "xaxis": "x",
         "y": [
          312
         ],
         "yaxis": "y"
        },
        {
         "hovertemplate": "to_facility=JOE R FITE MD PLLC<br>from_physician=%{x}<br>patient_count=%{y}<extra></extra>",
         "legendgroup": "JOE R FITE MD PLLC",
         "marker": {
          "color": "#FECB52",
          "symbol": "circle"
         },
         "mode": "markers",
         "name": "JOE R FITE MD PLLC",
         "showlegend": true,
         "type": "scattergl",
         "x": [
          "JOE FITE"
         ],
         "xaxis": "x",
         "y": [
          126
         ],
         "yaxis": "y"
        },
        {
         "hovertemplate": "to_facility=FULLERTON MEDICAL CLINIC, PLLC<br>from_physician=%{x}<br>patient_count=%{y}<extra></extra>",
         "legendgroup": "FULLERTON MEDICAL CLINIC, PLLC",
         "marker": {
          "color": "#636efa",
          "symbol": "circle"
         },
         "mode": "markers",
         "name": "FULLERTON MEDICAL CLINIC, PLLC",
         "showlegend": true,
         "type": "scattergl",
         "x": [
          "RANDY FULLERTON"
         ],
         "xaxis": "x",
         "y": [
          232
         ],
         "yaxis": "y"
        },
        {
         "hovertemplate": "to_facility=LUNG CONSULTANTS PLLC<br>from_physician=%{x}<br>patient_count=%{y}<extra></extra>",
         "legendgroup": "LUNG CONSULTANTS PLLC",
         "marker": {
          "color": "#EF553B",
          "symbol": "circle"
         },
         "mode": "markers",
         "name": "LUNG CONSULTANTS PLLC",
         "showlegend": true,
         "type": "scattergl",
         "x": [
          "OLUSOLA OGUNTOLU"
         ],
         "xaxis": "x",
         "y": [
          346
         ],
         "yaxis": "y"
        },
        {
         "hovertemplate": "to_facility=WOMENS HEALTH CENTER OF DICKSON<br>from_physician=%{x}<br>patient_count=%{y}<extra></extra>",
         "legendgroup": "WOMENS HEALTH CENTER OF DICKSON",
         "marker": {
          "color": "#00cc96",
          "symbol": "circle"
         },
         "mode": "markers",
         "name": "WOMENS HEALTH CENTER OF DICKSON",
         "showlegend": true,
         "type": "scattergl",
         "x": [
          "MICHAEL HAWKINS",
          "ERIN STEIDL"
         ],
         "xaxis": "x",
         "y": [
          42,
          45
         ],
         "yaxis": "y"
        },
        {
         "hovertemplate": "to_facility=SKYE CHIROPRACTIC LLC<br>from_physician=%{x}<br>patient_count=%{y}<extra></extra>",
         "legendgroup": "SKYE CHIROPRACTIC LLC",
         "marker": {
          "color": "#ab63fa",
          "symbol": "circle"
         },
         "mode": "markers",
         "name": "SKYE CHIROPRACTIC LLC",
         "showlegend": true,
         "type": "scattergl",
         "x": [
          "GREGORY SKYE"
         ],
         "xaxis": "x",
         "y": [
          79
         ],
         "yaxis": "y"
        },
        {
         "hovertemplate": "to_facility=MURFREESBORO DERMATOLOGY CLINIC, PLC<br>from_physician=%{x}<br>patient_count=%{y}<extra></extra>",
         "legendgroup": "MURFREESBORO DERMATOLOGY CLINIC, PLC",
         "marker": {
          "color": "#FFA15A",
          "symbol": "circle"
         },
         "mode": "markers",
         "name": "MURFREESBORO DERMATOLOGY CLINIC, PLC",
         "showlegend": true,
         "type": "scattergl",
         "x": [
          "CARRIE ELAM",
          "KASEY HOLLANDSWORTH",
          "PEZHMAN SHOURESHI",
          "CHRISTINA FESER",
          "ELIZABETH OTTER",
          "MINITY SHUKLA",
          "KRISTIE BUCHER",
          "EMMA PIERCE",
          "MICHAEL BELL"
         ],
         "xaxis": "x",
         "y": [
          246,
          148,
          211,
          147,
          232,
          79,
          236,
          49,
          1726
         ],
         "yaxis": "y"
        },
        {
         "hovertemplate": "to_facility=HENDERSONVILLE OBGYN LLC<br>from_physician=%{x}<br>patient_count=%{y}<extra></extra>",
         "legendgroup": "HENDERSONVILLE OBGYN LLC",
         "marker": {
          "color": "#19d3f3",
          "symbol": "circle"
         },
         "mode": "markers",
         "name": "HENDERSONVILLE OBGYN LLC",
         "showlegend": true,
         "type": "scattergl",
         "x": [
          "TAMIE BABB",
          "BRETT BRANSON"
         ],
         "xaxis": "x",
         "y": [
          47,
          59
         ],
         "yaxis": "y"
        },
        {
         "hovertemplate": "to_facility=SKYLINE MEDICAL GROUP LLC<br>from_physician=%{x}<br>patient_count=%{y}<extra></extra>",
         "legendgroup": "SKYLINE MEDICAL GROUP LLC",
         "marker": {
          "color": "#FF6692",
          "symbol": "circle"
         },
         "mode": "markers",
         "name": "SKYLINE MEDICAL GROUP LLC",
         "showlegend": true,
         "type": "scattergl",
         "x": [
          "MELISSA MAGNESS",
          "KELLY DAYTON"
         ],
         "xaxis": "x",
         "y": [
          212,
          52
         ],
         "yaxis": "y"
        },
        {
         "hovertemplate": "to_facility=MID TN MEDICAL HERMITAGE PLLC<br>from_physician=%{x}<br>patient_count=%{y}<extra></extra>",
         "legendgroup": "MID TN MEDICAL HERMITAGE PLLC",
         "marker": {
          "color": "#B6E880",
          "symbol": "circle"
         },
         "mode": "markers",
         "name": "MID TN MEDICAL HERMITAGE PLLC",
         "showlegend": true,
         "type": "scattergl",
         "x": [
          "JOHN MANNING"
         ],
         "xaxis": "x",
         "y": [
          318
         ],
         "yaxis": "y"
        },
        {
         "hovertemplate": "to_facility=PHYSICIANS' URGENT CARE, PLLC<br>from_physician=%{x}<br>patient_count=%{y}<extra></extra>",
         "legendgroup": "PHYSICIANS' URGENT CARE, PLLC",
         "marker": {
          "color": "#FF97FF",
          "symbol": "circle"
         },
         "mode": "markers",
         "name": "PHYSICIANS' URGENT CARE, PLLC",
         "showlegend": true,
         "type": "scattergl",
         "x": [
          "DAVID WHETSTONE",
          "THOMAS BABCOCK",
          "LEAH DICKEY",
          "NABIL BOUTROS",
          "BRADY ALLEN"
         ],
         "xaxis": "x",
         "y": [
          83,
          215,
          46,
          77,
          95
         ],
         "yaxis": "y"
        },
        {
         "hovertemplate": "to_facility=DAVID A GILPIN MD PLC<br>from_physician=%{x}<br>patient_count=%{y}<extra></extra>",
         "legendgroup": "DAVID A GILPIN MD PLC",
         "marker": {
          "color": "#FECB52",
          "symbol": "circle"
         },
         "mode": "markers",
         "name": "DAVID A GILPIN MD PLC",
         "showlegend": true,
         "type": "scattergl",
         "x": [
          "DAVID GILPIN"
         ],
         "xaxis": "x",
         "y": [
          177
         ],
         "yaxis": "y"
        },
        {
         "hovertemplate": "to_facility=PHYSICIANS PAVILION LP<br>from_physician=%{x}<br>patient_count=%{y}<extra></extra>",
         "legendgroup": "PHYSICIANS PAVILION LP",
         "marker": {
          "color": "#636efa",
          "symbol": "circle"
         },
         "mode": "markers",
         "name": "PHYSICIANS PAVILION LP",
         "showlegend": true,
         "type": "scattergl",
         "x": [
          "HUGH KINARD",
          "JACQUELINE BRYANT"
         ],
         "xaxis": "x",
         "y": [
          52,
          156
         ],
         "yaxis": "y"
        },
        {
         "hovertemplate": "to_facility=COOL SPRINGS ALLERGY ASSOCIATES PLC<br>from_physician=%{x}<br>patient_count=%{y}<extra></extra>",
         "legendgroup": "COOL SPRINGS ALLERGY ASSOCIATES PLC",
         "marker": {
          "color": "#EF553B",
          "symbol": "circle"
         },
         "mode": "markers",
         "name": "COOL SPRINGS ALLERGY ASSOCIATES PLC",
         "showlegend": true,
         "type": "scattergl",
         "x": [
          "JOSEPH BELLEAU",
          "HAROLD MOESSNER"
         ],
         "xaxis": "x",
         "y": [
          82,
          90
         ],
         "yaxis": "y"
        },
        {
         "hovertemplate": "to_facility=MEDICAL GROUP - STONECREST FP INC<br>from_physician=%{x}<br>patient_count=%{y}<extra></extra>",
         "legendgroup": "MEDICAL GROUP - STONECREST FP INC",
         "marker": {
          "color": "#00cc96",
          "symbol": "circle"
         },
         "mode": "markers",
         "name": "MEDICAL GROUP - STONECREST FP INC",
         "showlegend": true,
         "type": "scattergl",
         "x": [
          "PETER COBB",
          "LAURA BORN",
          "ADAM CHILDS"
         ],
         "xaxis": "x",
         "y": [
          238,
          132,
          121
         ],
         "yaxis": "y"
        },
        {
         "hovertemplate": "to_facility=BRENTWOOD EYECARE, LLC<br>from_physician=%{x}<br>patient_count=%{y}<extra></extra>",
         "legendgroup": "BRENTWOOD EYECARE, LLC",
         "marker": {
          "color": "#ab63fa",
          "symbol": "circle"
         },
         "mode": "markers",
         "name": "BRENTWOOD EYECARE, LLC",
         "showlegend": true,
         "type": "scattergl",
         "x": [
          "HELEN BOERMAN"
         ],
         "xaxis": "x",
         "y": [
          198
         ],
         "yaxis": "y"
        },
        {
         "hovertemplate": "to_facility=PERFORMANCE REHAB INSTITUTE<br>from_physician=%{x}<br>patient_count=%{y}<extra></extra>",
         "legendgroup": "PERFORMANCE REHAB INSTITUTE",
         "marker": {
          "color": "#FFA15A",
          "symbol": "circle"
         },
         "mode": "markers",
         "name": "PERFORMANCE REHAB INSTITUTE",
         "showlegend": true,
         "type": "scattergl",
         "x": [
          "JORGE ROJAS",
          "JENA BEASLEY",
          "JOSHUA COLBERT",
          "THOMAS ROBINSON"
         ],
         "xaxis": "x",
         "y": [
          26,
          30,
          60,
          21
         ],
         "yaxis": "y"
        },
        {
         "hovertemplate": "to_facility=THE LITTLE CLINIC OF TENNESSEE LLC<br>from_physician=%{x}<br>patient_count=%{y}<extra></extra>",
         "legendgroup": "THE LITTLE CLINIC OF TENNESSEE LLC",
         "marker": {
          "color": "#19d3f3",
          "symbol": "circle"
         },
         "mode": "markers",
         "name": "THE LITTLE CLINIC OF TENNESSEE LLC",
         "showlegend": true,
         "type": "scattergl",
         "x": [
          "JENNIFER ATKINSON",
          "KIMBERLY ADKISSON",
          "ALEXANDRA GRISSIM",
          "SHEENA SIMON",
          "SAMANTHA DOBLER",
          "GRETCHEN BURCHETT",
          "CAROLYN BOND",
          "ASHLEY CASTLE",
          "STEPHANIE WHITE",
          "NATALIE GOMEZ",
          "ANDREA YOUNG",
          "KATHARINE PEEL",
          "JESSICA BARNWELL",
          "CHRISTINE SMITH",
          "LATONYA RODGERS",
          "ELLEN FERRELL",
          "SUSAN ELLIOTT",
          "JESSICA WISEMAN",
          "DANIELLE GRAHAM",
          "LAURA STILES",
          "JESSICA JERNIGAN",
          "JOSIE TAPPEL",
          "MADELINE STOFFER",
          "JUSTIN REED",
          "ALEXIS LEE",
          "MELISSA FRENCH",
          "SABRINA BRIGGS",
          "MERI ARNEY",
          "REGINA BRAGG",
          "MONICKA STEVENSON",
          "CHERUN LYONS",
          "TIFFANY JOHNSON",
          "STEFANIE PALMER",
          "CATHERINE REED",
          "JENNIFER MCCORD",
          "SALLY CLARK",
          "STEPHANIE KAELIN",
          "MARY PELOT",
          "LINDSEY HILL",
          "ELIZABETH PRICE",
          "SALIMAH JONES",
          "NICOLE JONES",
          "MARY FREDERICK"
         ],
         "xaxis": "x",
         "y": [
          100,
          128,
          65,
          99,
          76,
          73,
          134,
          91,
          138,
          111,
          100,
          88,
          72,
          58,
          156,
          143,
          50,
          70,
          72,
          55,
          77,
          80,
          74,
          59,
          65,
          82,
          63,
          56,
          99,
          64,
          107,
          97,
          148,
          74,
          47,
          112,
          146,
          112,
          75,
          153,
          101,
          164,
          105
         ],
         "yaxis": "y"
        },
        {
         "hovertemplate": "to_facility=MIDDLE TENNESSEE HOSPITALIST<br>from_physician=%{x}<br>patient_count=%{y}<extra></extra>",
         "legendgroup": "MIDDLE TENNESSEE HOSPITALIST",
         "marker": {
          "color": "#FF6692",
          "symbol": "circle"
         },
         "mode": "markers",
         "name": "MIDDLE TENNESSEE HOSPITALIST",
         "showlegend": true,
         "type": "scattergl",
         "x": [
          "JOSEPH WILLIAMS",
          "MARY BACIGALUPO"
         ],
         "xaxis": "x",
         "y": [
          288,
          255
         ],
         "yaxis": "y"
        },
        {
         "hovertemplate": "to_facility=SWEET DREAMS ANESTHESIA INC<br>from_physician=%{x}<br>patient_count=%{y}<extra></extra>",
         "legendgroup": "SWEET DREAMS ANESTHESIA INC",
         "marker": {
          "color": "#B6E880",
          "symbol": "circle"
         },
         "mode": "markers",
         "name": "SWEET DREAMS ANESTHESIA INC",
         "showlegend": true,
         "type": "scattergl",
         "x": [
          "DAVID CARTER",
          "DEREK PRICE",
          "RACHEL BROWN",
          "KATHERINE COOPER",
          "CLINTON FLETCHER"
         ],
         "xaxis": "x",
         "y": [
          254,
          536,
          106,
          72,
          580
         ],
         "yaxis": "y"
        },
        {
         "hovertemplate": "to_facility=TENNESSEE ORTHOPAEDIC ALLIANCE PA<br>from_physician=%{x}<br>patient_count=%{y}<extra></extra>",
         "legendgroup": "TENNESSEE ORTHOPAEDIC ALLIANCE PA",
         "marker": {
          "color": "#FF97FF",
          "symbol": "circle"
         },
         "mode": "markers",
         "name": "TENNESSEE ORTHOPAEDIC ALLIANCE PA",
         "showlegend": true,
         "type": "scattergl",
         "x": [
          "STEPHEN HAY",
          "PAULINE KIMBRO-DI PROJETTO",
          "AMANDA LOOS",
          "STEPHANIE STANFORD",
          "TIMOTHY THOMAS",
          "CORY GIBSON",
          "JEFFREY SIMON",
          "JESSICA TRAUTSCHOLD",
          "JEFFREY WINSLOW",
          "DOUGLAS PERRY",
          "PATRICIA HARVEY",
          "SHEILA DYER",
          "JENNIFER WALLINE",
          "JILL STINSON",
          "DANIEL GRIFFITH",
          "KARA MILLER",
          "EMILY ANDRY",
          "MARK GARNER",
          "ANGELA WHITTAKER",
          "STEPHEN LOYD",
          "LEON TOYE",
          "AMANDA PRINCE",
          "NATHAN HOOD",
          "TIMOTHY STEWART",
          "AREND BOLTHOUSE",
          "DAVID BRYANT",
          "BETSY COMPTON",
          "KEITH PURINO",
          "JIMMY PHILLIPS",
          "MARY RICHARDSON",
          "STEPHEN QUINN",
          "BEVERLY GRAVES",
          "ANDRIA HUSTON",
          "ELIZABETH BAKOS",
          "JENNY KEMP",
          "PHILIP COOGAN",
          "ANNA NORFLEET",
          "ALEX MCCURRY",
          "AIMEE CASTEEL",
          "LAURA BONFIGLIO",
          "SARAH LAWSON",
          "MICHAEL MCGINNIS",
          "MARK AWH",
          "ROBERT SMODIC",
          "CLAYTON WOODS",
          "ERIN CORNELL",
          "LOGAN HECKERT",
          "STEPHEN CRAIG",
          "KYLE COMPTON",
          "MOLLY NOBLE",
          "BENJAMIN EYER"
         ],
         "xaxis": "x",
         "y": [
          134,
          39,
          43,
          81,
          46,
          102,
          281,
          64,
          58,
          196,
          81,
          98,
          97,
          66,
          129,
          42,
          83,
          110,
          103,
          86,
          69,
          80,
          122,
          165,
          62,
          98,
          59,
          275,
          110,
          314,
          328,
          88,
          92,
          617,
          81,
          452,
          97,
          26,
          101,
          37,
          50,
          108,
          50,
          61,
          94,
          39,
          18,
          88,
          53,
          59,
          162
         ],
         "yaxis": "y"
        },
        {
         "hovertemplate": "to_facility=NASHVILLE VISION ASSOCIATES, PLC<br>from_physician=%{x}<br>patient_count=%{y}<extra></extra>",
         "legendgroup": "NASHVILLE VISION ASSOCIATES, PLC",
         "marker": {
          "color": "#FECB52",
          "symbol": "circle"
         },
         "mode": "markers",
         "name": "NASHVILLE VISION ASSOCIATES, PLC",
         "showlegend": true,
         "type": "scattergl",
         "x": [
          "REBECCA TAYLOR",
          "INEZ BOUNDS",
          "GARY JERKINS",
          "FRANK SCOTT"
         ],
         "xaxis": "x",
         "y": [
          809,
          663,
          1394,
          1199
         ],
         "yaxis": "y"
        },
        {
         "hovertemplate": "to_facility=NOVO HEALTHCARE, LLC<br>from_physician=%{x}<br>patient_count=%{y}<extra></extra>",
         "legendgroup": "NOVO HEALTHCARE, LLC",
         "marker": {
          "color": "#636efa",
          "symbol": "circle"
         },
         "mode": "markers",
         "name": "NOVO HEALTHCARE, LLC",
         "showlegend": true,
         "type": "scattergl",
         "x": [
          "WINDLE MORGAN"
         ],
         "xaxis": "x",
         "y": [
          111
         ],
         "yaxis": "y"
        },
        {
         "hovertemplate": "to_facility=TENNESSEE WOMEN'S CARE, PC<br>from_physician=%{x}<br>patient_count=%{y}<extra></extra>",
         "legendgroup": "TENNESSEE WOMEN'S CARE, PC",
         "marker": {
          "color": "#EF553B",
          "symbol": "circle"
         },
         "mode": "markers",
         "name": "TENNESSEE WOMEN'S CARE, PC",
         "showlegend": true,
         "type": "scattergl",
         "x": [
          "JEFFREY DRAUGHN",
          "CAROL MCCULLOUGH",
          "MELANIE DUNN",
          "ROY BURCH",
          "KATHERINE HANEY",
          "RICHARD PRESLEY",
          "FREDERICK FINKE",
          "ELIZABETH OLDFIELD",
          "KIMBERLY HUNT",
          "LISA JABUSCH",
          "BRYAN KURTZ",
          "LEWIS BELLARDO",
          "VARALAXMI DASARI"
         ],
         "xaxis": "x",
         "y": [
          64,
          152,
          179,
          64,
          173,
          98,
          61,
          382,
          77,
          52,
          83,
          178,
          604
         ],
         "yaxis": "y"
        },
        {
         "hovertemplate": "to_facility=TOMMY J. DUCKLO, OD PC<br>from_physician=%{x}<br>patient_count=%{y}<extra></extra>",
         "legendgroup": "TOMMY J. DUCKLO, OD PC",
         "marker": {
          "color": "#00cc96",
          "symbol": "circle"
         },
         "mode": "markers",
         "name": "TOMMY J. DUCKLO, OD PC",
         "showlegend": true,
         "type": "scattergl",
         "x": [
          "NICOLE LEMONCELLI",
          "SARAH ROOS",
          "TOMMY DUCKLO"
         ],
         "xaxis": "x",
         "y": [
          68,
          47,
          276
         ],
         "yaxis": "y"
        },
        {
         "hovertemplate": "to_facility=AFFINITY HEALTHCARE, PLLC<br>from_physician=%{x}<br>patient_count=%{y}<extra></extra>",
         "legendgroup": "AFFINITY HEALTHCARE, PLLC",
         "marker": {
          "color": "#ab63fa",
          "symbol": "circle"
         },
         "mode": "markers",
         "name": "AFFINITY HEALTHCARE, PLLC",
         "showlegend": true,
         "type": "scattergl",
         "x": [
          "DANELLE FARMER"
         ],
         "xaxis": "x",
         "y": [
          12
         ],
         "yaxis": "y"
        },
        {
         "hovertemplate": "to_facility=COLUMBIA WOMEN'S CLINIC, LLC<br>from_physician=%{x}<br>patient_count=%{y}<extra></extra>",
         "legendgroup": "COLUMBIA WOMEN'S CLINIC, LLC",
         "marker": {
          "color": "#FFA15A",
          "symbol": "circle"
         },
         "mode": "markers",
         "name": "COLUMBIA WOMEN'S CLINIC, LLC",
         "showlegend": true,
         "type": "scattergl",
         "x": [
          "JULIA STALEY"
         ],
         "xaxis": "x",
         "y": [
          109
         ],
         "yaxis": "y"
        },
        {
         "hovertemplate": "to_facility=MIDDLE TENNESSEE FAMILY MEDICINE<br>from_physician=%{x}<br>patient_count=%{y}<extra></extra>",
         "legendgroup": "MIDDLE TENNESSEE FAMILY MEDICINE",
         "marker": {
          "color": "#19d3f3",
          "symbol": "circle"
         },
         "mode": "markers",
         "name": "MIDDLE TENNESSEE FAMILY MEDICINE",
         "showlegend": true,
         "type": "scattergl",
         "x": [
          "KRISTINE SHERMAN",
          "MEGAN MARTIN",
          "JANET HANNAH",
          "ROBERT WEBER",
          "KRISTA CRABTREE"
         ],
         "xaxis": "x",
         "y": [
          87,
          168,
          173,
          185,
          64
         ],
         "yaxis": "y"
        },
        {
         "hovertemplate": "to_facility=MICHELLE KIM NGUYEN, MD, PC<br>from_physician=%{x}<br>patient_count=%{y}<extra></extra>",
         "legendgroup": "MICHELLE KIM NGUYEN, MD, PC",
         "marker": {
          "color": "#FF6692",
          "symbol": "circle"
         },
         "mode": "markers",
         "name": "MICHELLE KIM NGUYEN, MD, PC",
         "showlegend": true,
         "type": "scattergl",
         "x": [
          "MICHELLE NGUYEN"
         ],
         "xaxis": "x",
         "y": [
          443
         ],
         "yaxis": "y"
        },
        {
         "hovertemplate": "to_facility=GRACE-FULL HEALTHCARE<br>from_physician=%{x}<br>patient_count=%{y}<extra></extra>",
         "legendgroup": "GRACE-FULL HEALTHCARE",
         "marker": {
          "color": "#B6E880",
          "symbol": "circle"
         },
         "mode": "markers",
         "name": "GRACE-FULL HEALTHCARE",
         "showlegend": true,
         "type": "scattergl",
         "x": [
          "KATHY MITCHELL"
         ],
         "xaxis": "x",
         "y": [
          65
         ],
         "yaxis": "y"
        },
        {
         "hovertemplate": "to_facility=BOWDOIN G. SMITH D.O.,P.C.<br>from_physician=%{x}<br>patient_count=%{y}<extra></extra>",
         "legendgroup": "BOWDOIN G. SMITH D.O.,P.C.",
         "marker": {
          "color": "#FF97FF",
          "symbol": "circle"
         },
         "mode": "markers",
         "name": "BOWDOIN G. SMITH D.O.,P.C.",
         "showlegend": true,
         "type": "scattergl",
         "x": [
          "BOWDOIN SMITH"
         ],
         "xaxis": "x",
         "y": [
          227
         ],
         "yaxis": "y"
        },
        {
         "hovertemplate": "to_facility=COLUMBIA MEDICAL GROUP - THE FRIST CLINIC INC<br>from_physician=%{x}<br>patient_count=%{y}<extra></extra>",
         "legendgroup": "COLUMBIA MEDICAL GROUP - THE FRIST CLINIC INC",
         "marker": {
          "color": "#FECB52",
          "symbol": "circle"
         },
         "mode": "markers",
         "name": "COLUMBIA MEDICAL GROUP - THE FRIST CLINIC INC",
         "showlegend": true,
         "type": "scattergl",
         "x": [
          "MEGAN HOPKINS",
          "LYNDSEY OXFORD"
         ],
         "xaxis": "x",
         "y": [
          350,
          266
         ],
         "yaxis": "y"
        },
        {
         "hovertemplate": "to_facility=AFFILIATED DERMATOLOGISTS OF GREEN HILLS PC<br>from_physician=%{x}<br>patient_count=%{y}<extra></extra>",
         "legendgroup": "AFFILIATED DERMATOLOGISTS OF GREEN HILLS PC",
         "marker": {
          "color": "#636efa",
          "symbol": "circle"
         },
         "mode": "markers",
         "name": "AFFILIATED DERMATOLOGISTS OF GREEN HILLS PC",
         "showlegend": true,
         "type": "scattergl",
         "x": [
          "MESHELLE HOWD",
          "CARLA RETIEF"
         ],
         "xaxis": "x",
         "y": [
          108,
          409
         ],
         "yaxis": "y"
        },
        {
         "hovertemplate": "to_facility=CARTHAGE FAMILY CHIROPRACTIC<br>from_physician=%{x}<br>patient_count=%{y}<extra></extra>",
         "legendgroup": "CARTHAGE FAMILY CHIROPRACTIC",
         "marker": {
          "color": "#EF553B",
          "symbol": "circle"
         },
         "mode": "markers",
         "name": "CARTHAGE FAMILY CHIROPRACTIC",
         "showlegend": true,
         "type": "scattergl",
         "x": [
          "MELANIE CRUZ"
         ],
         "xaxis": "x",
         "y": [
          57
         ],
         "yaxis": "y"
        },
        {
         "hovertemplate": "to_facility=SOUTHERN PHYSICAL THERAPY, LLC<br>from_physician=%{x}<br>patient_count=%{y}<extra></extra>",
         "legendgroup": "SOUTHERN PHYSICAL THERAPY, LLC",
         "marker": {
          "color": "#00cc96",
          "symbol": "circle"
         },
         "mode": "markers",
         "name": "SOUTHERN PHYSICAL THERAPY, LLC",
         "showlegend": true,
         "type": "scattergl",
         "x": [
          "WILLIAM MASTALERZ"
         ],
         "xaxis": "x",
         "y": [
          150
         ],
         "yaxis": "y"
        },
        {
         "hovertemplate": "to_facility=TOTAL FAMILY PHYSICIANS CENTER<br>from_physician=%{x}<br>patient_count=%{y}<extra></extra>",
         "legendgroup": "TOTAL FAMILY PHYSICIANS CENTER",
         "marker": {
          "color": "#ab63fa",
          "symbol": "circle"
         },
         "mode": "markers",
         "name": "TOTAL FAMILY PHYSICIANS CENTER",
         "showlegend": true,
         "type": "scattergl",
         "x": [
          "AMBRE MAZE"
         ],
         "xaxis": "x",
         "y": [
          85
         ],
         "yaxis": "y"
        },
        {
         "hovertemplate": "to_facility=ANYCARE LLC<br>from_physician=%{x}<br>patient_count=%{y}<extra></extra>",
         "legendgroup": "ANYCARE LLC",
         "marker": {
          "color": "#FFA15A",
          "symbol": "circle"
         },
         "mode": "markers",
         "name": "ANYCARE LLC",
         "showlegend": true,
         "type": "scattergl",
         "x": [
          "LAURA STANLEY",
          "CHASITY BLALOCK",
          "CHRISTINE KOWAL"
         ],
         "xaxis": "x",
         "y": [
          81,
          100,
          122
         ],
         "yaxis": "y"
        },
        {
         "hovertemplate": "to_facility=ROBERTSON COUNTY PHYSICAL MEDICINE LLC<br>from_physician=%{x}<br>patient_count=%{y}<extra></extra>",
         "legendgroup": "ROBERTSON COUNTY PHYSICAL MEDICINE LLC",
         "marker": {
          "color": "#19d3f3",
          "symbol": "circle"
         },
         "mode": "markers",
         "name": "ROBERTSON COUNTY PHYSICAL MEDICINE LLC",
         "showlegend": true,
         "type": "scattergl",
         "x": [
          "CHRIS JACKSON",
          "WAYNE MOORE"
         ],
         "xaxis": "x",
         "y": [
          61,
          31
         ],
         "yaxis": "y"
        },
        {
         "hovertemplate": "to_facility=VCP 2 NASHVILLE PC<br>from_physician=%{x}<br>patient_count=%{y}<extra></extra>",
         "legendgroup": "VCP 2 NASHVILLE PC",
         "marker": {
          "color": "#FF6692",
          "symbol": "circle"
         },
         "mode": "markers",
         "name": "VCP 2 NASHVILLE PC",
         "showlegend": true,
         "type": "scattergl",
         "x": [
          "DEBORAH MCNIEL",
          "STEPHEN DAVIS"
         ],
         "xaxis": "x",
         "y": [
          52,
          46
         ],
         "yaxis": "y"
        },
        {
         "hovertemplate": "to_facility=MADISON BEHAVIORAL HEALTH, LLC<br>from_physician=%{x}<br>patient_count=%{y}<extra></extra>",
         "legendgroup": "MADISON BEHAVIORAL HEALTH, LLC",
         "marker": {
          "color": "#B6E880",
          "symbol": "circle"
         },
         "mode": "markers",
         "name": "MADISON BEHAVIORAL HEALTH, LLC",
         "showlegend": true,
         "type": "scattergl",
         "x": [
          "DANIEL KENNEDY",
          "ANTHONY EKWO",
          "CHANDRA KRISHNASASTRY"
         ],
         "xaxis": "x",
         "y": [
          23,
          49,
          148
         ],
         "yaxis": "y"
        },
        {
         "hovertemplate": "to_facility=AXIS MEDICAL, INC.<br>from_physician=%{x}<br>patient_count=%{y}<extra></extra>",
         "legendgroup": "AXIS MEDICAL, INC.",
         "marker": {
          "color": "#FF97FF",
          "symbol": "circle"
         },
         "mode": "markers",
         "name": "AXIS MEDICAL, INC.",
         "showlegend": true,
         "type": "scattergl",
         "x": [
          "PAUL YIM"
         ],
         "xaxis": "x",
         "y": [
          544
         ],
         "yaxis": "y"
        },
        {
         "hovertemplate": "to_facility=WEST WILSON FAMILY PRACTICE CENTER, P.C.<br>from_physician=%{x}<br>patient_count=%{y}<extra></extra>",
         "legendgroup": "WEST WILSON FAMILY PRACTICE CENTER, P.C.",
         "marker": {
          "color": "#FECB52",
          "symbol": "circle"
         },
         "mode": "markers",
         "name": "WEST WILSON FAMILY PRACTICE CENTER, P.C.",
         "showlegend": true,
         "type": "scattergl",
         "x": [
          "MARTHE-SOPHIE LAGUEUX"
         ],
         "xaxis": "x",
         "y": [
          302
         ],
         "yaxis": "y"
        },
        {
         "hovertemplate": "to_facility=OPTICAL INVESTMENT INC.<br>from_physician=%{x}<br>patient_count=%{y}<extra></extra>",
         "legendgroup": "OPTICAL INVESTMENT INC.",
         "marker": {
          "color": "#636efa",
          "symbol": "circle"
         },
         "mode": "markers",
         "name": "OPTICAL INVESTMENT INC.",
         "showlegend": true,
         "type": "scattergl",
         "x": [
          "STANLEY DICKERSON"
         ],
         "xaxis": "x",
         "y": [
          340
         ],
         "yaxis": "y"
        },
        {
         "hovertemplate": "to_facility=DOUBLE LUNG PC<br>from_physician=%{x}<br>patient_count=%{y}<extra></extra>",
         "legendgroup": "DOUBLE LUNG PC",
         "marker": {
          "color": "#EF553B",
          "symbol": "circle"
         },
         "mode": "markers",
         "name": "DOUBLE LUNG PC",
         "showlegend": true,
         "type": "scattergl",
         "x": [
          "LARRY BURCHARD"
         ],
         "xaxis": "x",
         "y": [
          23
         ],
         "yaxis": "y"
        },
        {
         "hovertemplate": "to_facility=BOOMERSHINE WELLNESS CENTERS, PLC<br>from_physician=%{x}<br>patient_count=%{y}<extra></extra>",
         "legendgroup": "BOOMERSHINE WELLNESS CENTERS, PLC",
         "marker": {
          "color": "#00cc96",
          "symbol": "circle"
         },
         "mode": "markers",
         "name": "BOOMERSHINE WELLNESS CENTERS, PLC",
         "showlegend": true,
         "type": "scattergl",
         "x": [
          "CHAD BOOMERSHINE"
         ],
         "xaxis": "x",
         "y": [
          58
         ],
         "yaxis": "y"
        },
        {
         "hovertemplate": "to_facility=MEDICAL GROUP - SOUTHERN HILLS OF BRENTWOOD LLC<br>from_physician=%{x}<br>patient_count=%{y}<extra></extra>",
         "legendgroup": "MEDICAL GROUP - SOUTHERN HILLS OF BRENTWOOD LLC",
         "marker": {
          "color": "#ab63fa",
          "symbol": "circle"
         },
         "mode": "markers",
         "name": "MEDICAL GROUP - SOUTHERN HILLS OF BRENTWOOD LLC",
         "showlegend": true,
         "type": "scattergl",
         "x": [
          "SHANNON MCDONALD"
         ],
         "xaxis": "x",
         "y": [
          71
         ],
         "yaxis": "y"
        },
        {
         "hovertemplate": "to_facility=LIFEWAY CHIROPRACTIC<br>from_physician=%{x}<br>patient_count=%{y}<extra></extra>",
         "legendgroup": "LIFEWAY CHIROPRACTIC",
         "marker": {
          "color": "#FFA15A",
          "symbol": "circle"
         },
         "mode": "markers",
         "name": "LIFEWAY CHIROPRACTIC",
         "showlegend": true,
         "type": "scattergl",
         "x": [
          "LINDSEY LICTUS",
          "GILLIAN GUIN"
         ],
         "xaxis": "x",
         "y": [
          30,
          34
         ],
         "yaxis": "y"
        },
        {
         "hovertemplate": "to_facility=TOTTY CHIROPRACTIC OF MT. JULIET, PLLC<br>from_physician=%{x}<br>patient_count=%{y}<extra></extra>",
         "legendgroup": "TOTTY CHIROPRACTIC OF MT. JULIET, PLLC",
         "marker": {
          "color": "#19d3f3",
          "symbol": "circle"
         },
         "mode": "markers",
         "name": "TOTTY CHIROPRACTIC OF MT. JULIET, PLLC",
         "showlegend": true,
         "type": "scattergl",
         "x": [
          "ELIZABETH TOTTY",
          "DEREK TOTTY"
         ],
         "xaxis": "x",
         "y": [
          24,
          40
         ],
         "yaxis": "y"
        },
        {
         "hovertemplate": "to_facility=SUMNER MEDICAL GROUP, PLLC<br>from_physician=%{x}<br>patient_count=%{y}<extra></extra>",
         "legendgroup": "SUMNER MEDICAL GROUP, PLLC",
         "marker": {
          "color": "#FF6692",
          "symbol": "circle"
         },
         "mode": "markers",
         "name": "SUMNER MEDICAL GROUP, PLLC",
         "showlegend": true,
         "type": "scattergl",
         "x": [
          "SONYA REID"
         ],
         "xaxis": "x",
         "y": [
          93
         ],
         "yaxis": "y"
        },
        {
         "hovertemplate": "to_facility=NASHVILLE ACUTE TRAUMA LLC<br>from_physician=%{x}<br>patient_count=%{y}<extra></extra>",
         "legendgroup": "NASHVILLE ACUTE TRAUMA LLC",
         "marker": {
          "color": "#B6E880",
          "symbol": "circle"
         },
         "mode": "markers",
         "name": "NASHVILLE ACUTE TRAUMA LLC",
         "showlegend": true,
         "type": "scattergl",
         "x": [
          "HERBERT HOPPER"
         ],
         "xaxis": "x",
         "y": [
          37
         ],
         "yaxis": "y"
        },
        {
         "hovertemplate": "to_facility=PREMIER FOOTCARE PC<br>from_physician=%{x}<br>patient_count=%{y}<extra></extra>",
         "legendgroup": "PREMIER FOOTCARE PC",
         "marker": {
          "color": "#FF97FF",
          "symbol": "circle"
         },
         "mode": "markers",
         "name": "PREMIER FOOTCARE PC",
         "showlegend": true,
         "type": "scattergl",
         "x": [
          "LARELYN CREAR"
         ],
         "xaxis": "x",
         "y": [
          95
         ],
         "yaxis": "y"
        },
        {
         "hovertemplate": "to_facility=MT JULIET FAMILY VISION CENTER<br>from_physician=%{x}<br>patient_count=%{y}<extra></extra>",
         "legendgroup": "MT JULIET FAMILY VISION CENTER",
         "marker": {
          "color": "#FECB52",
          "symbol": "circle"
         },
         "mode": "markers",
         "name": "MT JULIET FAMILY VISION CENTER",
         "showlegend": true,
         "type": "scattergl",
         "x": [
          "MICHAEL DAVIS",
          "KEVIN DAVIS",
          "PETER DAVIS"
         ],
         "xaxis": "x",
         "y": [
          87,
          98,
          106
         ],
         "yaxis": "y"
        },
        {
         "hovertemplate": "to_facility=FAMILY PRACTICE PARTNERS, P.C.<br>from_physician=%{x}<br>patient_count=%{y}<extra></extra>",
         "legendgroup": "FAMILY PRACTICE PARTNERS, P.C.",
         "marker": {
          "color": "#636efa",
          "symbol": "circle"
         },
         "mode": "markers",
         "name": "FAMILY PRACTICE PARTNERS, P.C.",
         "showlegend": true,
         "type": "scattergl",
         "x": [
          "SUSAN ANDREWS",
          "CHRISTINE HOFFMAN",
          "RANDALL RICKARD"
         ],
         "xaxis": "x",
         "y": [
          141,
          52,
          160
         ],
         "yaxis": "y"
        },
        {
         "hovertemplate": "to_facility=SLEEP CENTERS OF MIDDLE TENNESSEE LLC<br>from_physician=%{x}<br>patient_count=%{y}<extra></extra>",
         "legendgroup": "SLEEP CENTERS OF MIDDLE TENNESSEE LLC",
         "marker": {
          "color": "#EF553B",
          "symbol": "circle"
         },
         "mode": "markers",
         "name": "SLEEP CENTERS OF MIDDLE TENNESSEE LLC",
         "showlegend": true,
         "type": "scattergl",
         "x": [
          "WENDY RHIM",
          "DAVID HUBBARD",
          "LINDSAY WHITE",
          "WILLIAM NOAH",
          "KLHEE BANG"
         ],
         "xaxis": "x",
         "y": [
          141,
          467,
          475,
          488,
          483
         ],
         "yaxis": "y"
        },
        {
         "hovertemplate": "to_facility=STAGE TWO ANESTHESIA PLLC<br>from_physician=%{x}<br>patient_count=%{y}<extra></extra>",
         "legendgroup": "STAGE TWO ANESTHESIA PLLC",
         "marker": {
          "color": "#00cc96",
          "symbol": "circle"
         },
         "mode": "markers",
         "name": "STAGE TWO ANESTHESIA PLLC",
         "showlegend": true,
         "type": "scattergl",
         "x": [
          "JAMES RAY",
          "DONALD PHILLIPS",
          "NANCY WHITTINGTON",
          "JAMIE MORRISON",
          "VICTOR MARTIN"
         ],
         "xaxis": "x",
         "y": [
          205,
          448,
          85,
          150,
          538
         ],
         "yaxis": "y"
        },
        {
         "hovertemplate": "to_facility=RETINA CONSULTANTS OF NASHVILLE<br>from_physician=%{x}<br>patient_count=%{y}<extra></extra>",
         "legendgroup": "RETINA CONSULTANTS OF NASHVILLE",
         "marker": {
          "color": "#ab63fa",
          "symbol": "circle"
         },
         "mode": "markers",
         "name": "RETINA CONSULTANTS OF NASHVILLE",
         "showlegend": true,
         "type": "scattergl",
         "x": [
          "MARCUS SOLOMON",
          "STEPHEN GRINDE"
         ],
         "xaxis": "x",
         "y": [
          1046,
          1444
         ],
         "yaxis": "y"
        },
        {
         "hovertemplate": "to_facility=WANG VISION INSTITUTE, PLLC<br>from_physician=%{x}<br>patient_count=%{y}<extra></extra>",
         "legendgroup": "WANG VISION INSTITUTE, PLLC",
         "marker": {
          "color": "#FFA15A",
          "symbol": "circle"
         },
         "mode": "markers",
         "name": "WANG VISION INSTITUTE, PLLC",
         "showlegend": true,
         "type": "scattergl",
         "x": [
          "JAMES RAY",
          "MING WANG",
          "SARAH CONNOLLY",
          "NATHAN ROCK",
          "DAVID ZIMMERMAN"
         ],
         "xaxis": "x",
         "y": [
          96,
          471,
          355,
          404,
          453
         ],
         "yaxis": "y"
        },
        {
         "hovertemplate": "to_facility=DOCTORS URGENT CARE LLC<br>from_physician=%{x}<br>patient_count=%{y}<extra></extra>",
         "legendgroup": "DOCTORS URGENT CARE LLC",
         "marker": {
          "color": "#19d3f3",
          "symbol": "circle"
         },
         "mode": "markers",
         "name": "DOCTORS URGENT CARE LLC",
         "showlegend": true,
         "type": "scattergl",
         "x": [
          "MARTIN NWOSU"
         ],
         "xaxis": "x",
         "y": [
          104
         ],
         "yaxis": "y"
        },
        {
         "hovertemplate": "to_facility=THE NEUROLOGY GROUP PC<br>from_physician=%{x}<br>patient_count=%{y}<extra></extra>",
         "legendgroup": "THE NEUROLOGY GROUP PC",
         "marker": {
          "color": "#FF6692",
          "symbol": "circle"
         },
         "mode": "markers",
         "name": "THE NEUROLOGY GROUP PC",
         "showlegend": true,
         "type": "scattergl",
         "x": [
          "SHANTI THIRUMALAI"
         ],
         "xaxis": "x",
         "y": [
          173
         ],
         "yaxis": "y"
        },
        {
         "hovertemplate": "to_facility=DONNELLY PHYSICAL THERAPY, INC.<br>from_physician=%{x}<br>patient_count=%{y}<extra></extra>",
         "legendgroup": "DONNELLY PHYSICAL THERAPY, INC.",
         "marker": {
          "color": "#B6E880",
          "symbol": "circle"
         },
         "mode": "markers",
         "name": "DONNELLY PHYSICAL THERAPY, INC.",
         "showlegend": true,
         "type": "scattergl",
         "x": [
          "AMY SELF",
          "ANNE BUNNY WOLF"
         ],
         "xaxis": "x",
         "y": [
          144,
          207
         ],
         "yaxis": "y"
        },
        {
         "hovertemplate": "to_facility=DANIEL K BREGMAN MD PC<br>from_physician=%{x}<br>patient_count=%{y}<extra></extra>",
         "legendgroup": "DANIEL K BREGMAN MD PC",
         "marker": {
          "color": "#FF97FF",
          "symbol": "circle"
         },
         "mode": "markers",
         "name": "DANIEL K BREGMAN MD PC",
         "showlegend": true,
         "type": "scattergl",
         "x": [
          "JAMES RAY",
          "DANIEL BREGMAN"
         ],
         "xaxis": "x",
         "y": [
          59,
          1128
         ],
         "yaxis": "y"
        },
        {
         "hovertemplate": "to_facility=MIDDLE TN CLINIC OF CHIROPRACTIC<br>from_physician=%{x}<br>patient_count=%{y}<extra></extra>",
         "legendgroup": "MIDDLE TN CLINIC OF CHIROPRACTIC",
         "marker": {
          "color": "#FECB52",
          "symbol": "circle"
         },
         "mode": "markers",
         "name": "MIDDLE TN CLINIC OF CHIROPRACTIC",
         "showlegend": true,
         "type": "scattergl",
         "x": [
          "STEPHANIE FORTNEY"
         ],
         "xaxis": "x",
         "y": [
          34
         ],
         "yaxis": "y"
        },
        {
         "hovertemplate": "to_facility=INTEGRATED HEALTH CENTER, INC<br>from_physician=%{x}<br>patient_count=%{y}<extra></extra>",
         "legendgroup": "INTEGRATED HEALTH CENTER, INC",
         "marker": {
          "color": "#636efa",
          "symbol": "circle"
         },
         "mode": "markers",
         "name": "INTEGRATED HEALTH CENTER, INC",
         "showlegend": true,
         "type": "scattergl",
         "x": [
          "MARIO MILANI",
          "LARA MILANI"
         ],
         "xaxis": "x",
         "y": [
          74,
          13
         ],
         "yaxis": "y"
        },
        {
         "hovertemplate": "to_facility=ATHENA CONSULTING AND PSYCHOLOGICAL SERVICES, LLC<br>from_physician=%{x}<br>patient_count=%{y}<extra></extra>",
         "legendgroup": "ATHENA CONSULTING AND PSYCHOLOGICAL SERVICES, LLC",
         "marker": {
          "color": "#EF553B",
          "symbol": "circle"
         },
         "mode": "markers",
         "name": "ATHENA CONSULTING AND PSYCHOLOGICAL SERVICES, LLC",
         "showlegend": true,
         "type": "scattergl",
         "x": [
          "BRANDON TEEFTALLER",
          "HEATHER JOPPICH",
          "JOAN FRYE"
         ],
         "xaxis": "x",
         "y": [
          13,
          28,
          14
         ],
         "yaxis": "y"
        },
        {
         "hovertemplate": "to_facility=CARESPOT OF MT. JULIET (S. MT. JULIET ROAD), LLC<br>from_physician=%{x}<br>patient_count=%{y}<extra></extra>",
         "legendgroup": "CARESPOT OF MT. JULIET (S. MT. JULIET ROAD), LLC",
         "marker": {
          "color": "#00cc96",
          "symbol": "circle"
         },
         "mode": "markers",
         "name": "CARESPOT OF MT. JULIET (S. MT. JULIET ROAD), LLC",
         "showlegend": true,
         "type": "scattergl",
         "x": [
          "JADE SKINNER",
          "LANA SPRY"
         ],
         "xaxis": "x",
         "y": [
          74,
          77
         ],
         "yaxis": "y"
        },
        {
         "hovertemplate": "to_facility=THIGPEN HEARING CENTER, PLLC<br>from_physician=%{x}<br>patient_count=%{y}<extra></extra>",
         "legendgroup": "THIGPEN HEARING CENTER, PLLC",
         "marker": {
          "color": "#ab63fa",
          "symbol": "circle"
         },
         "mode": "markers",
         "name": "THIGPEN HEARING CENTER, PLLC",
         "showlegend": true,
         "type": "scattergl",
         "x": [
          "PATTI THIGPEN"
         ],
         "xaxis": "x",
         "y": [
          55
         ],
         "yaxis": "y"
        },
        {
         "hovertemplate": "to_facility=THE SURGICAL CLINIC PLLC<br>from_physician=%{x}<br>patient_count=%{y}<extra></extra>",
         "legendgroup": "THE SURGICAL CLINIC PLLC",
         "marker": {
          "color": "#FFA15A",
          "symbol": "circle"
         },
         "mode": "markers",
         "name": "THE SURGICAL CLINIC PLLC",
         "showlegend": true,
         "type": "scattergl",
         "x": [
          "MARK COOPER"
         ],
         "xaxis": "x",
         "y": [
          255
         ],
         "yaxis": "y"
        },
        {
         "hovertemplate": "to_facility=EYE HEALTH PARTNERS OF MIDDLE TN INC<br>from_physician=%{x}<br>patient_count=%{y}<extra></extra>",
         "legendgroup": "EYE HEALTH PARTNERS OF MIDDLE TN INC",
         "marker": {
          "color": "#19d3f3",
          "symbol": "circle"
         },
         "mode": "markers",
         "name": "EYE HEALTH PARTNERS OF MIDDLE TN INC",
         "showlegend": true,
         "type": "scattergl",
         "x": [
          "SACHIE CRAIG",
          "JESSICA LESUEUR",
          "THOMAS TRITSCHLER"
         ],
         "xaxis": "x",
         "y": [
          290,
          125,
          169
         ],
         "yaxis": "y"
        },
        {
         "hovertemplate": "to_facility=BAPTIST SURGERY CENTER LP<br>from_physician=%{x}<br>patient_count=%{y}<extra></extra>",
         "legendgroup": "BAPTIST SURGERY CENTER LP",
         "marker": {
          "color": "#FF6692",
          "symbol": "circle"
         },
         "mode": "markers",
         "name": "BAPTIST SURGERY CENTER LP",
         "showlegend": true,
         "type": "scattergl",
         "x": [
          "CHRISTINA CASSELMAN",
          "SHEILA DYER",
          "JILL STINSON",
          "KARA WRIGHT",
          "DAVID BRYANT",
          "ROBERT RIEDEL",
          "WILL KENDRICK"
         ],
         "xaxis": "x",
         "y": [
          56,
          111,
          76,
          80,
          104,
          61,
          166
         ],
         "yaxis": "y"
        },
        {
         "hovertemplate": "to_facility=GILLISPIE EYE CARE PLLC<br>from_physician=%{x}<br>patient_count=%{y}<extra></extra>",
         "legendgroup": "GILLISPIE EYE CARE PLLC",
         "marker": {
          "color": "#B6E880",
          "symbol": "circle"
         },
         "mode": "markers",
         "name": "GILLISPIE EYE CARE PLLC",
         "showlegend": true,
         "type": "scattergl",
         "x": [
          "JOHN PINO",
          "JESSICA DITTO",
          "JAMES GILLISPIE"
         ],
         "xaxis": "x",
         "y": [
          195,
          130,
          135
         ],
         "yaxis": "y"
        },
        {
         "hovertemplate": "to_facility=MURFREESBORO MEDICAL CLINIC<br>from_physician=%{x}<br>patient_count=%{y}<extra></extra>",
         "legendgroup": "MURFREESBORO MEDICAL CLINIC",
         "marker": {
          "color": "#FF97FF",
          "symbol": "circle"
         },
         "mode": "markers",
         "name": "MURFREESBORO MEDICAL CLINIC",
         "showlegend": true,
         "type": "scattergl",
         "x": [
          "SADHISH SIVA",
          "FRANK DROWOTA",
          "MARK WRIGHT",
          "OPHELIA LANGFORD",
          "KARLA LUKER",
          "APRIL WHITFIELD",
          "MARC KUNDAR",
          "PAUL FOSTER",
          "STEPHANIE NOACK",
          "ANDREW FONG",
          "BETH DAVIS",
          "ALLISON DAVENPORT",
          "JOHN KOLISNYK",
          "ANDREW LAMAY",
          "ANGELA HIGGINS",
          "DEBORA RICHMOND",
          "ALBERT KATTINE",
          "ANTHONY CATER",
          "ALLISON CARLTON",
          "SANDRA BARRETT",
          "COLLEEN BRATSCH",
          "BARBARA VOLNER",
          "GREGORY TAYLOR",
          "TRACY STUEBER",
          "RYAN DRUMRIGHT",
          "MARY FULGHUM",
          "BOBBIE GREGG",
          "ANDREA TAYLOR",
          "MOLLY EATON",
          "HOLLIE CASHION",
          "YOLANDO MCGRIFF CHATMAN",
          "ALEXANDRA BIVENS",
          "MARGARET TODD",
          "MARCUS OWEN",
          "JAMES RONE",
          "JOSEPH BOONE",
          "HOPE BROWN"
         ],
         "xaxis": "x",
         "y": [
          3042,
          1452,
          444,
          232,
          379,
          93,
          312,
          200,
          377,
          2876,
          562,
          183,
          92,
          278,
          555,
          217,
          953,
          311,
          117,
          184,
          132,
          214,
          68,
          121,
          73,
          184,
          50,
          341,
          101,
          63,
          85,
          402,
          119,
          596,
          420,
          1758,
          421
         ],
         "yaxis": "y"
        },
        {
         "hovertemplate": "to_facility=SELF CENTERED WEIGHT LOSS AND WELLNESS OF MURFREESBORO, PLLC<br>from_physician=%{x}<br>patient_count=%{y}<extra></extra>",
         "legendgroup": "SELF CENTERED WEIGHT LOSS AND WELLNESS OF MURFREESBORO, PLLC",
         "marker": {
          "color": "#FECB52",
          "symbol": "circle"
         },
         "mode": "markers",
         "name": "SELF CENTERED WEIGHT LOSS AND WELLNESS OF MURFREESBORO, PLLC",
         "showlegend": true,
         "type": "scattergl",
         "x": [
          "VICKI MITCHELL"
         ],
         "xaxis": "x",
         "y": [
          46
         ],
         "yaxis": "y"
        },
        {
         "hovertemplate": "to_facility=PRIMARY EYECARE GROUP OF COLUMBIA PLLC<br>from_physician=%{x}<br>patient_count=%{y}<extra></extra>",
         "legendgroup": "PRIMARY EYECARE GROUP OF COLUMBIA PLLC",
         "marker": {
          "color": "#636efa",
          "symbol": "circle"
         },
         "mode": "markers",
         "name": "PRIMARY EYECARE GROUP OF COLUMBIA PLLC",
         "showlegend": true,
         "type": "scattergl",
         "x": [
          "VICTORIA YOUNG"
         ],
         "xaxis": "x",
         "y": [
          149
         ],
         "yaxis": "y"
        },
        {
         "hovertemplate": "to_facility=NASHVILLE GENERAL HOSPITAL<br>from_physician=%{x}<br>patient_count=%{y}<extra></extra>",
         "legendgroup": "NASHVILLE GENERAL HOSPITAL",
         "marker": {
          "color": "#EF553B",
          "symbol": "circle"
         },
         "mode": "markers",
         "name": "NASHVILLE GENERAL HOSPITAL",
         "showlegend": true,
         "type": "scattergl",
         "x": [
          "PAUL TALLEY"
         ],
         "xaxis": "x",
         "y": [
          48
         ],
         "yaxis": "y"
        },
        {
         "hovertemplate": "to_facility=INTEGRATED SPINE & JOINT AT WESTHAVEN PLLC<br>from_physician=%{x}<br>patient_count=%{y}<extra></extra>",
         "legendgroup": "INTEGRATED SPINE & JOINT AT WESTHAVEN PLLC",
         "marker": {
          "color": "#00cc96",
          "symbol": "circle"
         },
         "mode": "markers",
         "name": "INTEGRATED SPINE & JOINT AT WESTHAVEN PLLC",
         "showlegend": true,
         "type": "scattergl",
         "x": [
          "VICTORIA CROOK",
          "STERLING FOSTER"
         ],
         "xaxis": "x",
         "y": [
          50,
          40
         ],
         "yaxis": "y"
        },
        {
         "hovertemplate": "to_facility=ATLANTIC EEL INPATIENT SERVICES PLLC<br>from_physician=%{x}<br>patient_count=%{y}<extra></extra>",
         "legendgroup": "ATLANTIC EEL INPATIENT SERVICES PLLC",
         "marker": {
          "color": "#ab63fa",
          "symbol": "circle"
         },
         "mode": "markers",
         "name": "ATLANTIC EEL INPATIENT SERVICES PLLC",
         "showlegend": true,
         "type": "scattergl",
         "x": [
          "EMILY HEYMANN",
          "VIREN SHAH",
          "HEATHER MCDONALD"
         ],
         "xaxis": "x",
         "y": [
          91,
          63,
          102
         ],
         "yaxis": "y"
        },
        {
         "hovertemplate": "to_facility=ANTIOCH EYE CARE CENTER, PHYSICIAN & SURGEON, PLLC<br>from_physician=%{x}<br>patient_count=%{y}<extra></extra>",
         "legendgroup": "ANTIOCH EYE CARE CENTER, PHYSICIAN & SURGEON, PLLC",
         "marker": {
          "color": "#FFA15A",
          "symbol": "circle"
         },
         "mode": "markers",
         "name": "ANTIOCH EYE CARE CENTER, PHYSICIAN & SURGEON, PLLC",
         "showlegend": true,
         "type": "scattergl",
         "x": [
          "BENYAMIN EBRAHIM"
         ],
         "xaxis": "x",
         "y": [
          156
         ],
         "yaxis": "y"
        },
        {
         "hovertemplate": "to_facility=NEUROBEHAVIORAL CONSULTANTS, INC<br>from_physician=%{x}<br>patient_count=%{y}<extra></extra>",
         "legendgroup": "NEUROBEHAVIORAL CONSULTANTS, INC",
         "marker": {
          "color": "#19d3f3",
          "symbol": "circle"
         },
         "mode": "markers",
         "name": "NEUROBEHAVIORAL CONSULTANTS, INC",
         "showlegend": true,
         "type": "scattergl",
         "x": [
          "MICHAEL SHAPIRO"
         ],
         "xaxis": "x",
         "y": [
          51
         ],
         "yaxis": "y"
        },
        {
         "hovertemplate": "to_facility=DALE PILKINTON MD PC<br>from_physician=%{x}<br>patient_count=%{y}<extra></extra>",
         "legendgroup": "DALE PILKINTON MD PC",
         "marker": {
          "color": "#FF6692",
          "symbol": "circle"
         },
         "mode": "markers",
         "name": "DALE PILKINTON MD PC",
         "showlegend": true,
         "type": "scattergl",
         "x": [
          "JAMES RAY",
          "ROBERT PILKINTON",
          "DONALD PHILLIPS"
         ],
         "xaxis": "x",
         "y": [
          144,
          1052,
          56
         ],
         "yaxis": "y"
        },
        {
         "hovertemplate": "to_facility=MACOURLYN CENTER FOR PLASTIC SURGERY PC<br>from_physician=%{x}<br>patient_count=%{y}<extra></extra>",
         "legendgroup": "MACOURLYN CENTER FOR PLASTIC SURGERY PC",
         "marker": {
          "color": "#B6E880",
          "symbol": "circle"
         },
         "mode": "markers",
         "name": "MACOURLYN CENTER FOR PLASTIC SURGERY PC",
         "showlegend": true,
         "type": "scattergl",
         "x": [
          "KERRI WOODBERRY"
         ],
         "xaxis": "x",
         "y": [
          77
         ],
         "yaxis": "y"
        },
        {
         "hovertemplate": "to_facility=TITAN NEUROPHYSIOLOGY, P.A.<br>from_physician=%{x}<br>patient_count=%{y}<extra></extra>",
         "legendgroup": "TITAN NEUROPHYSIOLOGY, P.A.",
         "marker": {
          "color": "#FF97FF",
          "symbol": "circle"
         },
         "mode": "markers",
         "name": "TITAN NEUROPHYSIOLOGY, P.A.",
         "showlegend": true,
         "type": "scattergl",
         "x": [
          "SHANTI THIRUMALAI"
         ],
         "xaxis": "x",
         "y": [
          216
         ],
         "yaxis": "y"
        },
        {
         "hovertemplate": "to_facility=HERMITAGE PSYCHIATRIC GROUP<br>from_physician=%{x}<br>patient_count=%{y}<extra></extra>",
         "legendgroup": "HERMITAGE PSYCHIATRIC GROUP",
         "marker": {
          "color": "#FECB52",
          "symbol": "circle"
         },
         "mode": "markers",
         "name": "HERMITAGE PSYCHIATRIC GROUP",
         "showlegend": true,
         "type": "scattergl",
         "x": [
          "DOUGLAS HERR",
          "SUSAN CARPENTER",
          "ALEXANDER CHALKO"
         ],
         "xaxis": "x",
         "y": [
          27,
          74,
          270
         ],
         "yaxis": "y"
        },
        {
         "hovertemplate": "to_facility=CARTER CHIROPRACTIC OFFICES LLC<br>from_physician=%{x}<br>patient_count=%{y}<extra></extra>",
         "legendgroup": "CARTER CHIROPRACTIC OFFICES LLC",
         "marker": {
          "color": "#636efa",
          "symbol": "circle"
         },
         "mode": "markers",
         "name": "CARTER CHIROPRACTIC OFFICES LLC",
         "showlegend": true,
         "type": "scattergl",
         "x": [
          "KEVIN CARTER"
         ],
         "xaxis": "x",
         "y": [
          25
         ],
         "yaxis": "y"
        },
        {
         "hovertemplate": "to_facility=INTERNAL MEDICINE ASSOCIATES LLC<br>from_physician=%{x}<br>patient_count=%{y}<extra></extra>",
         "legendgroup": "INTERNAL MEDICINE ASSOCIATES LLC",
         "marker": {
          "color": "#EF553B",
          "symbol": "circle"
         },
         "mode": "markers",
         "name": "INTERNAL MEDICINE ASSOCIATES LLC",
         "showlegend": true,
         "type": "scattergl",
         "x": [
          "UKPONG NWANKWO"
         ],
         "xaxis": "x",
         "y": [
          202
         ],
         "yaxis": "y"
        },
        {
         "hovertemplate": "to_facility=DRAYER PHYSICAL THERAPY OF TENNESSEE LLC<br>from_physician=%{x}<br>patient_count=%{y}<extra></extra>",
         "legendgroup": "DRAYER PHYSICAL THERAPY OF TENNESSEE LLC",
         "marker": {
          "color": "#00cc96",
          "symbol": "circle"
         },
         "mode": "markers",
         "name": "DRAYER PHYSICAL THERAPY OF TENNESSEE LLC",
         "showlegend": true,
         "type": "scattergl",
         "x": [
          "JULIAN MAGEE",
          "BRANDEN FLEISHMAN",
          "BRANDEN FLEISHMAN",
          "BETHANY CARPENTER",
          "VANA MORGAN"
         ],
         "xaxis": "x",
         "y": [
          58,
          30,
          21,
          29,
          50
         ],
         "yaxis": "y"
        },
        {
         "hovertemplate": "to_facility=PSYCH SERVICES LLC<br>from_physician=%{x}<br>patient_count=%{y}<extra></extra>",
         "legendgroup": "PSYCH SERVICES LLC",
         "marker": {
          "color": "#ab63fa",
          "symbol": "circle"
         },
         "mode": "markers",
         "name": "PSYCH SERVICES LLC",
         "showlegend": true,
         "type": "scattergl",
         "x": [
          "LEIGH HALLMARK",
          "CAROL WHITTEN",
          "LEZLIE MILEY",
          "WILL COLTHARP"
         ],
         "xaxis": "x",
         "y": [
          208,
          275,
          239,
          422
         ],
         "yaxis": "y"
        },
        {
         "hovertemplate": "to_facility=COOL SPRINGS INTERVENTIONAL, PLLC<br>from_physician=%{x}<br>patient_count=%{y}<extra></extra>",
         "legendgroup": "COOL SPRINGS INTERVENTIONAL, PLLC",
         "marker": {
          "color": "#FFA15A",
          "symbol": "circle"
         },
         "mode": "markers",
         "name": "COOL SPRINGS INTERVENTIONAL, PLLC",
         "showlegend": true,
         "type": "scattergl",
         "x": [
          "MARK SHAW"
         ],
         "xaxis": "x",
         "y": [
          606
         ],
         "yaxis": "y"
        },
        {
         "hovertemplate": "to_facility=HEALING HANDS CHIROPRACTIC LLC<br>from_physician=%{x}<br>patient_count=%{y}<extra></extra>",
         "legendgroup": "HEALING HANDS CHIROPRACTIC LLC",
         "marker": {
          "color": "#19d3f3",
          "symbol": "circle"
         },
         "mode": "markers",
         "name": "HEALING HANDS CHIROPRACTIC LLC",
         "showlegend": true,
         "type": "scattergl",
         "x": [
          "AMANDA BAES"
         ],
         "xaxis": "x",
         "y": [
          18
         ],
         "yaxis": "y"
        },
        {
         "hovertemplate": "to_facility=TAROLA PLASTIC SURGERY PLLC<br>from_physician=%{x}<br>patient_count=%{y}<extra></extra>",
         "legendgroup": "TAROLA PLASTIC SURGERY PLLC",
         "marker": {
          "color": "#FF6692",
          "symbol": "circle"
         },
         "mode": "markers",
         "name": "TAROLA PLASTIC SURGERY PLLC",
         "showlegend": true,
         "type": "scattergl",
         "x": [
          "NICHOLAS TAROLA"
         ],
         "xaxis": "x",
         "y": [
          66
         ],
         "yaxis": "y"
        },
        {
         "hovertemplate": "to_facility=NASHVILLE ONCOLOGY ASSOCIATES, PC<br>from_physician=%{x}<br>patient_count=%{y}<extra></extra>",
         "legendgroup": "NASHVILLE ONCOLOGY ASSOCIATES, PC",
         "marker": {
          "color": "#B6E880",
          "symbol": "circle"
         },
         "mode": "markers",
         "name": "NASHVILLE ONCOLOGY ASSOCIATES, PC",
         "showlegend": true,
         "type": "scattergl",
         "x": [
          "KARL ROGERS"
         ],
         "xaxis": "x",
         "y": [
          248
         ],
         "yaxis": "y"
        },
        {
         "hovertemplate": "to_facility=BAPTIST PLAZA SURGICARE, LP<br>from_physician=%{x}<br>patient_count=%{y}<extra></extra>",
         "legendgroup": "BAPTIST PLAZA SURGICARE, LP",
         "marker": {
          "color": "#FF97FF",
          "symbol": "circle"
         },
         "mode": "markers",
         "name": "BAPTIST PLAZA SURGICARE, LP",
         "showlegend": true,
         "type": "scattergl",
         "x": [
          "JAMES VANDEGRIFT",
          "NEIL PRICE",
          "LINDSEY HORTON",
          "VINCENT JACKSON",
          "ANNETTE OLSEN"
         ],
         "xaxis": "x",
         "y": [
          61,
          254,
          49,
          196,
          189
         ],
         "yaxis": "y"
        },
        {
         "hovertemplate": "to_facility=PSYCHIATRIC CONSULTANTS PC<br>from_physician=%{x}<br>patient_count=%{y}<extra></extra>",
         "legendgroup": "PSYCHIATRIC CONSULTANTS PC",
         "marker": {
          "color": "#FECB52",
          "symbol": "circle"
         },
         "mode": "markers",
         "name": "PSYCHIATRIC CONSULTANTS PC",
         "showlegend": true,
         "type": "scattergl",
         "x": [
          "REBECCA DELANEY"
         ],
         "xaxis": "x",
         "y": [
          61
         ],
         "yaxis": "y"
        },
        {
         "hovertemplate": "to_facility=NASHVILLE GASTROENTEROLOGY AND HEPATOLOGY, PC<br>from_physician=%{x}<br>patient_count=%{y}<extra></extra>",
         "legendgroup": "NASHVILLE GASTROENTEROLOGY AND HEPATOLOGY, PC",
         "marker": {
          "color": "#636efa",
          "symbol": "circle"
         },
         "mode": "markers",
         "name": "NASHVILLE GASTROENTEROLOGY AND HEPATOLOGY, PC",
         "showlegend": true,
         "type": "scattergl",
         "x": [
          "JAMES BYLAND"
         ],
         "xaxis": "x",
         "y": [
          47
         ],
         "yaxis": "y"
        },
        {
         "hovertemplate": "to_facility=PANACEA PSYCHIATRIC CENTER PLC<br>from_physician=%{x}<br>patient_count=%{y}<extra></extra>",
         "legendgroup": "PANACEA PSYCHIATRIC CENTER PLC",
         "marker": {
          "color": "#EF553B",
          "symbol": "circle"
         },
         "mode": "markers",
         "name": "PANACEA PSYCHIATRIC CENTER PLC",
         "showlegend": true,
         "type": "scattergl",
         "x": [
          "SHAHANA HUDA"
         ],
         "xaxis": "x",
         "y": [
          61
         ],
         "yaxis": "y"
        },
        {
         "hovertemplate": "to_facility=RUTHERFORD CLINIC OF CHIROPRACTIC CORP<br>from_physician=%{x}<br>patient_count=%{y}<extra></extra>",
         "legendgroup": "RUTHERFORD CLINIC OF CHIROPRACTIC CORP",
         "marker": {
          "color": "#00cc96",
          "symbol": "circle"
         },
         "mode": "markers",
         "name": "RUTHERFORD CLINIC OF CHIROPRACTIC CORP",
         "showlegend": true,
         "type": "scattergl",
         "x": [
          "ARTHUR STEWART"
         ],
         "xaxis": "x",
         "y": [
          78
         ],
         "yaxis": "y"
        },
        {
         "hovertemplate": "to_facility=FRANKLIN ENDOSCOPY CENTER, LLC<br>from_physician=%{x}<br>patient_count=%{y}<extra></extra>",
         "legendgroup": "FRANKLIN ENDOSCOPY CENTER, LLC",
         "marker": {
          "color": "#ab63fa",
          "symbol": "circle"
         },
         "mode": "markers",
         "name": "FRANKLIN ENDOSCOPY CENTER, LLC",
         "showlegend": true,
         "type": "scattergl",
         "x": [
          "TIPTON SNEED",
          "KIP NEUHOFF",
          "AMY WAY"
         ],
         "xaxis": "x",
         "y": [
          95,
          232,
          172
         ],
         "yaxis": "y"
        },
        {
         "hovertemplate": "to_facility=PHYSICIAN SERVICES OF MIDDLE TENNESSEE, LLC<br>from_physician=%{x}<br>patient_count=%{y}<extra></extra>",
         "legendgroup": "PHYSICIAN SERVICES OF MIDDLE TENNESSEE, LLC",
         "marker": {
          "color": "#FFA15A",
          "symbol": "circle"
         },
         "mode": "markers",
         "name": "PHYSICIAN SERVICES OF MIDDLE TENNESSEE, LLC",
         "showlegend": true,
         "type": "scattergl",
         "x": [
          "CHRISTINE STENGEL",
          "SYDNEY RUBLE",
          "CASEY KEEN"
         ],
         "xaxis": "x",
         "y": [
          66,
          153,
          288
         ],
         "yaxis": "y"
        },
        {
         "hovertemplate": "to_facility=ESSENTIAL EYES LLC<br>from_physician=%{x}<br>patient_count=%{y}<extra></extra>",
         "legendgroup": "ESSENTIAL EYES LLC",
         "marker": {
          "color": "#19d3f3",
          "symbol": "circle"
         },
         "mode": "markers",
         "name": "ESSENTIAL EYES LLC",
         "showlegend": true,
         "type": "scattergl",
         "x": [
          "THOMAS SNEAD"
         ],
         "xaxis": "x",
         "y": [
          182
         ],
         "yaxis": "y"
        },
        {
         "hovertemplate": "to_facility=MEDICAL PERSONNEL SERVICES LLC<br>from_physician=%{x}<br>patient_count=%{y}<extra></extra>",
         "legendgroup": "MEDICAL PERSONNEL SERVICES LLC",
         "marker": {
          "color": "#FF6692",
          "symbol": "circle"
         },
         "mode": "markers",
         "name": "MEDICAL PERSONNEL SERVICES LLC",
         "showlegend": true,
         "type": "scattergl",
         "x": [
          "NENA EGLI"
         ],
         "xaxis": "x",
         "y": [
          365
         ],
         "yaxis": "y"
        },
        {
         "hovertemplate": "to_facility=WILLIAM G BOGER MD PLLC<br>from_physician=%{x}<br>patient_count=%{y}<extra></extra>",
         "legendgroup": "WILLIAM G BOGER MD PLLC",
         "marker": {
          "color": "#B6E880",
          "symbol": "circle"
         },
         "mode": "markers",
         "name": "WILLIAM G BOGER MD PLLC",
         "showlegend": true,
         "type": "scattergl",
         "x": [
          "WILLIAM BOGER"
         ],
         "xaxis": "x",
         "y": [
          494
         ],
         "yaxis": "y"
        },
        {
         "hovertemplate": "to_facility=APRIMA, PLLC<br>from_physician=%{x}<br>patient_count=%{y}<extra></extra>",
         "legendgroup": "APRIMA, PLLC",
         "marker": {
          "color": "#FF97FF",
          "symbol": "circle"
         },
         "mode": "markers",
         "name": "APRIMA, PLLC",
         "showlegend": true,
         "type": "scattergl",
         "x": [
          "BRAD ALTMAN"
         ],
         "xaxis": "x",
         "y": [
          85
         ],
         "yaxis": "y"
        },
        {
         "hovertemplate": "to_facility=J. CHRIS BECKMAN MD PLLC<br>from_physician=%{x}<br>patient_count=%{y}<extra></extra>",
         "legendgroup": "J. CHRIS BECKMAN MD PLLC",
         "marker": {
          "color": "#FECB52",
          "symbol": "circle"
         },
         "mode": "markers",
         "name": "J. CHRIS BECKMAN MD PLLC",
         "showlegend": true,
         "type": "scattergl",
         "x": [
          "JUDY LOWE",
          "LISA GEORGE",
          "DEBORAH BOLES"
         ],
         "xaxis": "x",
         "y": [
          148,
          166,
          179
         ],
         "yaxis": "y"
        },
        {
         "hovertemplate": "to_facility=HAROLD T AKIN, MD PC<br>from_physician=%{x}<br>patient_count=%{y}<extra></extra>",
         "legendgroup": "HAROLD T AKIN, MD PC",
         "marker": {
          "color": "#636efa",
          "symbol": "circle"
         },
         "mode": "markers",
         "name": "HAROLD T AKIN, MD PC",
         "showlegend": true,
         "type": "scattergl",
         "x": [
          "HAROLD AKIN"
         ],
         "xaxis": "x",
         "y": [
          812
         ],
         "yaxis": "y"
        },
        {
         "hovertemplate": "to_facility=IN MOTION SPINE & JOINT CENTER, INC.<br>from_physician=%{x}<br>patient_count=%{y}<extra></extra>",
         "legendgroup": "IN MOTION SPINE & JOINT CENTER, INC.",
         "marker": {
          "color": "#EF553B",
          "symbol": "circle"
         },
         "mode": "markers",
         "name": "IN MOTION SPINE & JOINT CENTER, INC.",
         "showlegend": true,
         "type": "scattergl",
         "x": [
          "MARK HAWKINS"
         ],
         "xaxis": "x",
         "y": [
          48
         ],
         "yaxis": "y"
        },
        {
         "hovertemplate": "to_facility=CROSSROADS MEDICAL GROUP, PLLC<br>from_physician=%{x}<br>patient_count=%{y}<extra></extra>",
         "legendgroup": "CROSSROADS MEDICAL GROUP, PLLC",
         "marker": {
          "color": "#00cc96",
          "symbol": "circle"
         },
         "mode": "markers",
         "name": "CROSSROADS MEDICAL GROUP, PLLC",
         "showlegend": true,
         "type": "scattergl",
         "x": [
          "TYLER SINGLETON",
          "SCARLETT FORD",
          "ELIZABETH PAIRMORE",
          "LAUREN WORTHEY",
          "STACEY HARTLEY",
          "VERONICA CRAWLEY",
          "ROBERT KANABY",
          "JENNIFER MEADORS"
         ],
         "xaxis": "x",
         "y": [
          107,
          212,
          294,
          159,
          78,
          172,
          114,
          180
         ],
         "yaxis": "y"
        },
        {
         "hovertemplate": "to_facility=MCCABE VISION CENTER, P.C.<br>from_physician=%{x}<br>patient_count=%{y}<extra></extra>",
         "legendgroup": "MCCABE VISION CENTER, P.C.",
         "marker": {
          "color": "#ab63fa",
          "symbol": "circle"
         },
         "mode": "markers",
         "name": "MCCABE VISION CENTER, P.C.",
         "showlegend": true,
         "type": "scattergl",
         "x": [
          "CRAIG MCCABE"
         ],
         "xaxis": "x",
         "y": [
          674
         ],
         "yaxis": "y"
        },
        {
         "hovertemplate": "to_facility=ELITE PHYSICAL THERAPY AND ASSOCIATES LLC<br>from_physician=%{x}<br>patient_count=%{y}<extra></extra>",
         "legendgroup": "ELITE PHYSICAL THERAPY AND ASSOCIATES LLC",
         "marker": {
          "color": "#FFA15A",
          "symbol": "circle"
         },
         "mode": "markers",
         "name": "ELITE PHYSICAL THERAPY AND ASSOCIATES LLC",
         "showlegend": true,
         "type": "scattergl",
         "x": [
          "MEGAN MCGILL",
          "DAVID COX"
         ],
         "xaxis": "x",
         "y": [
          40,
          63
         ],
         "yaxis": "y"
        },
        {
         "hovertemplate": "to_facility=RUTHERFORD COUNTY PRIMARY CARE<br>from_physician=%{x}<br>patient_count=%{y}<extra></extra>",
         "legendgroup": "RUTHERFORD COUNTY PRIMARY CARE",
         "marker": {
          "color": "#19d3f3",
          "symbol": "circle"
         },
         "mode": "markers",
         "name": "RUTHERFORD COUNTY PRIMARY CARE",
         "showlegend": true,
         "type": "scattergl",
         "x": [
          "DANIELLE CARDWELL",
          "JORDAN COBB",
          "JENNIFER MCGLOTHLIN",
          "ANGELA CRAGUE",
          "MITCHELL WILLOUGHBY",
          "ASHLEY CREAGER",
          "IRMALYNN MOONEYHAM"
         ],
         "xaxis": "x",
         "y": [
          46,
          49,
          51,
          33,
          95,
          60,
          87
         ],
         "yaxis": "y"
        },
        {
         "hovertemplate": "to_facility=ALICIA A. HALL, MD, INC.<br>from_physician=%{x}<br>patient_count=%{y}<extra></extra>",
         "legendgroup": "ALICIA A. HALL, MD, INC.",
         "marker": {
          "color": "#FF6692",
          "symbol": "circle"
         },
         "mode": "markers",
         "name": "ALICIA A. HALL, MD, INC.",
         "showlegend": true,
         "type": "scattergl",
         "x": [
          "ALICIA HALL"
         ],
         "xaxis": "x",
         "y": [
          52
         ],
         "yaxis": "y"
        },
        {
         "hovertemplate": "to_facility=GUARDIAN CHIROPRACTIC PLLC<br>from_physician=%{x}<br>patient_count=%{y}<extra></extra>",
         "legendgroup": "GUARDIAN CHIROPRACTIC PLLC",
         "marker": {
          "color": "#B6E880",
          "symbol": "circle"
         },
         "mode": "markers",
         "name": "GUARDIAN CHIROPRACTIC PLLC",
         "showlegend": true,
         "type": "scattergl",
         "x": [
          "KENNETH STOHR"
         ],
         "xaxis": "x",
         "y": [
          34
         ],
         "yaxis": "y"
        },
        {
         "hovertemplate": "to_facility=JUSTIN ARD DC PLLC<br>from_physician=%{x}<br>patient_count=%{y}<extra></extra>",
         "legendgroup": "JUSTIN ARD DC PLLC",
         "marker": {
          "color": "#FF97FF",
          "symbol": "circle"
         },
         "mode": "markers",
         "name": "JUSTIN ARD DC PLLC",
         "showlegend": true,
         "type": "scattergl",
         "x": [
          "JUSTIN ARD"
         ],
         "xaxis": "x",
         "y": [
          17
         ],
         "yaxis": "y"
        },
        {
         "hovertemplate": "to_facility=PINNACLE WELLNESS GROUP, LLC<br>from_physician=%{x}<br>patient_count=%{y}<extra></extra>",
         "legendgroup": "PINNACLE WELLNESS GROUP, LLC",
         "marker": {
          "color": "#FECB52",
          "symbol": "circle"
         },
         "mode": "markers",
         "name": "PINNACLE WELLNESS GROUP, LLC",
         "showlegend": true,
         "type": "scattergl",
         "x": [
          "BRANDY DAWSON"
         ],
         "xaxis": "x",
         "y": [
          77
         ],
         "yaxis": "y"
        },
        {
         "hovertemplate": "to_facility=MASON CHIROPRACTIC HEALTH & WELLNESS INC<br>from_physician=%{x}<br>patient_count=%{y}<extra></extra>",
         "legendgroup": "MASON CHIROPRACTIC HEALTH & WELLNESS INC",
         "marker": {
          "color": "#636efa",
          "symbol": "circle"
         },
         "mode": "markers",
         "name": "MASON CHIROPRACTIC HEALTH & WELLNESS INC",
         "showlegend": true,
         "type": "scattergl",
         "x": [
          "DAVID MASON"
         ],
         "xaxis": "x",
         "y": [
          60
         ],
         "yaxis": "y"
        },
        {
         "hovertemplate": "to_facility=SKIN SOLUTIONS DERMATOLOGY & SKIN CANCER SURGERY, P.C.<br>from_physician=%{x}<br>patient_count=%{y}<extra></extra>",
         "legendgroup": "SKIN SOLUTIONS DERMATOLOGY & SKIN CANCER SURGERY, P.C.",
         "marker": {
          "color": "#EF553B",
          "symbol": "circle"
         },
         "mode": "markers",
         "name": "SKIN SOLUTIONS DERMATOLOGY & SKIN CANCER SURGERY, P.C.",
         "showlegend": true,
         "type": "scattergl",
         "x": [
          "CASSIE TRAMEL",
          "KELLY CAUDLE",
          "JO DYSON",
          "LAURA BAUER"
         ],
         "xaxis": "x",
         "y": [
          521,
          160,
          422,
          153
         ],
         "yaxis": "y"
        },
        {
         "hovertemplate": "to_facility=MID-STATE GASTROENTEROLOGY, PLLC<br>from_physician=%{x}<br>patient_count=%{y}<extra></extra>",
         "legendgroup": "MID-STATE GASTROENTEROLOGY, PLLC",
         "marker": {
          "color": "#00cc96",
          "symbol": "circle"
         },
         "mode": "markers",
         "name": "MID-STATE GASTROENTEROLOGY, PLLC",
         "showlegend": true,
         "type": "scattergl",
         "x": [
          "KAORI SAITO",
          "LISA TRAIL"
         ],
         "xaxis": "x",
         "y": [
          234,
          268
         ],
         "yaxis": "y"
        },
        {
         "hovertemplate": "to_facility=COLUMBIA TN ENDOSCOPY ASC LLC<br>from_physician=%{x}<br>patient_count=%{y}<extra></extra>",
         "legendgroup": "COLUMBIA TN ENDOSCOPY ASC LLC",
         "marker": {
          "color": "#ab63fa",
          "symbol": "circle"
         },
         "mode": "markers",
         "name": "COLUMBIA TN ENDOSCOPY ASC LLC",
         "showlegend": true,
         "type": "scattergl",
         "x": [
          "AMIT CHOKSI",
          "AMANDA THORNTON"
         ],
         "xaxis": "x",
         "y": [
          457,
          130
         ],
         "yaxis": "y"
        },
        {
         "hovertemplate": "to_facility=HOUSECALL TODAY, INC<br>from_physician=%{x}<br>patient_count=%{y}<extra></extra>",
         "legendgroup": "HOUSECALL TODAY, INC",
         "marker": {
          "color": "#FFA15A",
          "symbol": "circle"
         },
         "mode": "markers",
         "name": "HOUSECALL TODAY, INC",
         "showlegend": true,
         "type": "scattergl",
         "x": [
          "EMEM ZELLER",
          "TONYA GAGER",
          "KRISTEN PHILLIPS"
         ],
         "xaxis": "x",
         "y": [
          60,
          226,
          209
         ],
         "yaxis": "y"
        },
        {
         "hovertemplate": "to_facility=MATTHEW WALKER COMPREHENSIVE HEALTH CENTER, INC<br>from_physician=%{x}<br>patient_count=%{y}<extra></extra>",
         "legendgroup": "MATTHEW WALKER COMPREHENSIVE HEALTH CENTER, INC",
         "marker": {
          "color": "#19d3f3",
          "symbol": "circle"
         },
         "mode": "markers",
         "name": "MATTHEW WALKER COMPREHENSIVE HEALTH CENTER, INC",
         "showlegend": true,
         "type": "scattergl",
         "x": [
          "PAMELA JONES",
          "SHANIQUA CLARK",
          "NITARA CARSWELL"
         ],
         "xaxis": "x",
         "y": [
          60,
          46,
          51
         ],
         "yaxis": "y"
        },
        {
         "hovertemplate": "to_facility=GRACEFUL HANDS CHIROPRACTIC & WELLNESS CENTER, PLLC<br>from_physician=%{x}<br>patient_count=%{y}<extra></extra>",
         "legendgroup": "GRACEFUL HANDS CHIROPRACTIC & WELLNESS CENTER, PLLC",
         "marker": {
          "color": "#FF6692",
          "symbol": "circle"
         },
         "mode": "markers",
         "name": "GRACEFUL HANDS CHIROPRACTIC & WELLNESS CENTER, PLLC",
         "showlegend": true,
         "type": "scattergl",
         "x": [
          "ILA FOSTER"
         ],
         "xaxis": "x",
         "y": [
          19
         ],
         "yaxis": "y"
        },
        {
         "hovertemplate": "to_facility=SUMNER ANESTHESIA ASSOCIATES, INC.<br>from_physician=%{x}<br>patient_count=%{y}<extra></extra>",
         "legendgroup": "SUMNER ANESTHESIA ASSOCIATES, INC.",
         "marker": {
          "color": "#B6E880",
          "symbol": "circle"
         },
         "mode": "markers",
         "name": "SUMNER ANESTHESIA ASSOCIATES, INC.",
         "showlegend": true,
         "type": "scattergl",
         "x": [
          "JENNIFER WEBB",
          "STEPHANIE GUSTAFSON",
          "JENNIFER DICKENS",
          "NIKKI WALLACE",
          "SHAWN MIERS",
          "LAURA WILLIS",
          "MARCIA TEASHICKS",
          "MARY FARRELL",
          "CHARLES MONROE"
         ],
         "xaxis": "x",
         "y": [
          98,
          50,
          206,
          203,
          183,
          217,
          83,
          225,
          190
         ],
         "yaxis": "y"
        },
        {
         "hovertemplate": "to_facility=DIXON CENTER OF CHIROPRACTIC INC<br>from_physician=%{x}<br>patient_count=%{y}<extra></extra>",
         "legendgroup": "DIXON CENTER OF CHIROPRACTIC INC",
         "marker": {
          "color": "#FF97FF",
          "symbol": "circle"
         },
         "mode": "markers",
         "name": "DIXON CENTER OF CHIROPRACTIC INC",
         "showlegend": true,
         "type": "scattergl",
         "x": [
          "ANDREW DIXON",
          "CHRISTY DIAZ"
         ],
         "xaxis": "x",
         "y": [
          110,
          44
         ],
         "yaxis": "y"
        },
        {
         "hovertemplate": "to_facility=COMPASSIONATE HEALTH ASSOCIATES PLLC<br>from_physician=%{x}<br>patient_count=%{y}<extra></extra>",
         "legendgroup": "COMPASSIONATE HEALTH ASSOCIATES PLLC",
         "marker": {
          "color": "#FECB52",
          "symbol": "circle"
         },
         "mode": "markers",
         "name": "COMPASSIONATE HEALTH ASSOCIATES PLLC",
         "showlegend": true,
         "type": "scattergl",
         "x": [
          "JACY CUNNINGHAM",
          "TRACY EDWARDS",
          "CARRIE WEBB"
         ],
         "xaxis": "x",
         "y": [
          405,
          421,
          434
         ],
         "yaxis": "y"
        },
        {
         "hovertemplate": "to_facility=DIALYSIS CLINIC INC.<br>from_physician=%{x}<br>patient_count=%{y}<extra></extra>",
         "legendgroup": "DIALYSIS CLINIC INC.",
         "marker": {
          "color": "#636efa",
          "symbol": "circle"
         },
         "mode": "markers",
         "name": "DIALYSIS CLINIC INC.",
         "showlegend": true,
         "type": "scattergl",
         "x": [
          "BHABENDRA PUTATUNDA",
          "MARQUETTA FAULKNER",
          "CESAR CARDONA"
         ],
         "xaxis": "x",
         "y": [
          16,
          33,
          12
         ],
         "yaxis": "y"
        },
        {
         "hovertemplate": "to_facility=SMYRNA CHIROPRACTIC CLINIC<br>from_physician=%{x}<br>patient_count=%{y}<extra></extra>",
         "legendgroup": "SMYRNA CHIROPRACTIC CLINIC",
         "marker": {
          "color": "#EF553B",
          "symbol": "circle"
         },
         "mode": "markers",
         "name": "SMYRNA CHIROPRACTIC CLINIC",
         "showlegend": true,
         "type": "scattergl",
         "x": [
          "DAVID DAGEN"
         ],
         "xaxis": "x",
         "y": [
          27
         ],
         "yaxis": "y"
        },
        {
         "hovertemplate": "to_facility=MT. JULIET HEALTH AND WELLNESS, LLC<br>from_physician=%{x}<br>patient_count=%{y}<extra></extra>",
         "legendgroup": "MT. JULIET HEALTH AND WELLNESS, LLC",
         "marker": {
          "color": "#00cc96",
          "symbol": "circle"
         },
         "mode": "markers",
         "name": "MT. JULIET HEALTH AND WELLNESS, LLC",
         "showlegend": true,
         "type": "scattergl",
         "x": [
          "ANDREA WEDDLE"
         ],
         "xaxis": "x",
         "y": [
          63
         ],
         "yaxis": "y"
        },
        {
         "hovertemplate": "to_facility=THE OPTICAL SHOPPE PLLC<br>from_physician=%{x}<br>patient_count=%{y}<extra></extra>",
         "legendgroup": "THE OPTICAL SHOPPE PLLC",
         "marker": {
          "color": "#ab63fa",
          "symbol": "circle"
         },
         "mode": "markers",
         "name": "THE OPTICAL SHOPPE PLLC",
         "showlegend": true,
         "type": "scattergl",
         "x": [
          "PAUL TRAPENI"
         ],
         "xaxis": "x",
         "y": [
          128
         ],
         "yaxis": "y"
        },
        {
         "hovertemplate": "to_facility=ISAAC SPINE, JOINT & PAIN INSTITUTE, PLLC<br>from_physician=%{x}<br>patient_count=%{y}<extra></extra>",
         "legendgroup": "ISAAC SPINE, JOINT & PAIN INSTITUTE, PLLC",
         "marker": {
          "color": "#FFA15A",
          "symbol": "circle"
         },
         "mode": "markers",
         "name": "ISAAC SPINE, JOINT & PAIN INSTITUTE, PLLC",
         "showlegend": true,
         "type": "scattergl",
         "x": [
          "ANGELA OWENS",
          "YALONDA PARRISH",
          "MICHELLE PITTS",
          "REBEKAH CASHIN"
         ],
         "xaxis": "x",
         "y": [
          81,
          48,
          101,
          54
         ],
         "yaxis": "y"
        },
        {
         "hovertemplate": "to_facility=SAINT THOMAS CAMPUS SURGICARE LP<br>from_physician=%{x}<br>patient_count=%{y}<extra></extra>",
         "legendgroup": "SAINT THOMAS CAMPUS SURGICARE LP",
         "marker": {
          "color": "#19d3f3",
          "symbol": "circle"
         },
         "mode": "markers",
         "name": "SAINT THOMAS CAMPUS SURGICARE LP",
         "showlegend": true,
         "type": "scattergl",
         "x": [
          "THOMAS TOOMEY",
          "LAURA JOHNSON",
          "FRANCES BERKELEY",
          "TAMMY JACKSON"
         ],
         "xaxis": "x",
         "y": [
          193,
          198,
          140,
          124
         ],
         "yaxis": "y"
        },
        {
         "hovertemplate": "to_facility=STONES RIVER DERMATOLOGY PLC<br>from_physician=%{x}<br>patient_count=%{y}<extra></extra>",
         "legendgroup": "STONES RIVER DERMATOLOGY PLC",
         "marker": {
          "color": "#FF6692",
          "symbol": "circle"
         },
         "mode": "markers",
         "name": "STONES RIVER DERMATOLOGY PLC",
         "showlegend": true,
         "type": "scattergl",
         "x": [
          "ELIZABETH HIGNEY",
          "GILLIAN CHOATE",
          "RONALD NELSON"
         ],
         "xaxis": "x",
         "y": [
          144,
          336,
          1153
         ],
         "yaxis": "y"
        },
        {
         "hovertemplate": "to_facility=ODYSSEY HEALTHCARE OPERATING A, LP<br>from_physician=%{x}<br>patient_count=%{y}<extra></extra>",
         "legendgroup": "ODYSSEY HEALTHCARE OPERATING A, LP",
         "marker": {
          "color": "#B6E880",
          "symbol": "circle"
         },
         "mode": "markers",
         "name": "ODYSSEY HEALTHCARE OPERATING A, LP",
         "showlegend": true,
         "type": "scattergl",
         "x": [
          "KEVIN MCKECHNIE"
         ],
         "xaxis": "x",
         "y": [
          25
         ],
         "yaxis": "y"
        },
        {
         "hovertemplate": "to_facility=M A M LLC<br>from_physician=%{x}<br>patient_count=%{y}<extra></extra>",
         "legendgroup": "M A M LLC",
         "marker": {
          "color": "#FF97FF",
          "symbol": "circle"
         },
         "mode": "markers",
         "name": "M A M LLC",
         "showlegend": true,
         "type": "scattergl",
         "x": [
          "ASHLEY HALL"
         ],
         "xaxis": "x",
         "y": [
          173
         ],
         "yaxis": "y"
        },
        {
         "hovertemplate": "to_facility=UROCARE, LLC<br>from_physician=%{x}<br>patient_count=%{y}<extra></extra>",
         "legendgroup": "UROCARE, LLC",
         "marker": {
          "color": "#FECB52",
          "symbol": "circle"
         },
         "mode": "markers",
         "name": "UROCARE, LLC",
         "showlegend": true,
         "type": "scattergl",
         "x": [
          "ASHLEY KLEKAMP"
         ],
         "xaxis": "x",
         "y": [
          55
         ],
         "yaxis": "y"
        },
        {
         "hovertemplate": "to_facility=THE EYE CLINIC GROUP L.L.C.<br>from_physician=%{x}<br>patient_count=%{y}<extra></extra>",
         "legendgroup": "THE EYE CLINIC GROUP L.L.C.",
         "marker": {
          "color": "#636efa",
          "symbol": "circle"
         },
         "mode": "markers",
         "name": "THE EYE CLINIC GROUP L.L.C.",
         "showlegend": true,
         "type": "scattergl",
         "x": [
          "CONSTANCE ALLMOND",
          "KELLI JOHNSON"
         ],
         "xaxis": "x",
         "y": [
          90,
          63
         ],
         "yaxis": "y"
        },
        {
         "hovertemplate": "to_facility=PREMIER EYE GROUP, INC.<br>from_physician=%{x}<br>patient_count=%{y}<extra></extra>",
         "legendgroup": "PREMIER EYE GROUP, INC.",
         "marker": {
          "color": "#EF553B",
          "symbol": "circle"
         },
         "mode": "markers",
         "name": "PREMIER EYE GROUP, INC.",
         "showlegend": true,
         "type": "scattergl",
         "x": [
          "JOANNA MURRAY",
          "LISA MARTIN"
         ],
         "xaxis": "x",
         "y": [
          41,
          96
         ],
         "yaxis": "y"
        },
        {
         "hovertemplate": "to_facility=TOTAL FAMILY CARE AND WALK-IN CLINIC, LLC<br>from_physician=%{x}<br>patient_count=%{y}<extra></extra>",
         "legendgroup": "TOTAL FAMILY CARE AND WALK-IN CLINIC, LLC",
         "marker": {
          "color": "#00cc96",
          "symbol": "circle"
         },
         "mode": "markers",
         "name": "TOTAL FAMILY CARE AND WALK-IN CLINIC, LLC",
         "showlegend": true,
         "type": "scattergl",
         "x": [
          "SHERWAN AHMAD"
         ],
         "xaxis": "x",
         "y": [
          93
         ],
         "yaxis": "y"
        },
        {
         "hovertemplate": "to_facility=PREMIER ORTHOPAEDICS & SPORTS MEDICINE PLC<br>from_physician=%{x}<br>patient_count=%{y}<extra></extra>",
         "legendgroup": "PREMIER ORTHOPAEDICS & SPORTS MEDICINE PLC",
         "marker": {
          "color": "#ab63fa",
          "symbol": "circle"
         },
         "mode": "markers",
         "name": "PREMIER ORTHOPAEDICS & SPORTS MEDICINE PLC",
         "showlegend": true,
         "type": "scattergl",
         "x": [
          "LISA FARRAR",
          "SARAH COLL",
          "BRITTANY RICHARDSON",
          "PATRICK TIGHE",
          "CARA HATAWAY",
          "HALLIE CHONKO",
          "PAUL ABBEY",
          "JESSICA DEAL",
          "LAUREN YUSKO",
          "JOHN CHAPMAN",
          "KATHLEEN WALKER",
          "JEFFREY DAY",
          "NICHOLAS ROBERSON",
          "LAURA SMITH"
         ],
         "xaxis": "x",
         "y": [
          47,
          11,
          39,
          56,
          58,
          38,
          205,
          39,
          34,
          60,
          137,
          175,
          21,
          100
         ],
         "yaxis": "y"
        },
        {
         "hovertemplate": "to_facility=MARATHON INPATIENT SERVICES PLLC<br>from_physician=%{x}<br>patient_count=%{y}<extra></extra>",
         "legendgroup": "MARATHON INPATIENT SERVICES PLLC",
         "marker": {
          "color": "#FFA15A",
          "symbol": "circle"
         },
         "mode": "markers",
         "name": "MARATHON INPATIENT SERVICES PLLC",
         "showlegend": true,
         "type": "scattergl",
         "x": [
          "OLABISI AKANBI",
          "NIKOL MOORE"
         ],
         "xaxis": "x",
         "y": [
          44,
          216
         ],
         "yaxis": "y"
        },
        {
         "hovertemplate": "to_facility=UNITED CHIROPRACTIC-DONELSON<br>from_physician=%{x}<br>patient_count=%{y}<extra></extra>",
         "legendgroup": "UNITED CHIROPRACTIC-DONELSON",
         "marker": {
          "color": "#19d3f3",
          "symbol": "circle"
         },
         "mode": "markers",
         "name": "UNITED CHIROPRACTIC-DONELSON",
         "showlegend": true,
         "type": "scattergl",
         "x": [
          "DONALD LOUNSBURY"
         ],
         "xaxis": "x",
         "y": [
          41
         ],
         "yaxis": "y"
        },
        {
         "hovertemplate": "to_facility=NASHVILLE PAIN & WELLNESS CENTER PLLC<br>from_physician=%{x}<br>patient_count=%{y}<extra></extra>",
         "legendgroup": "NASHVILLE PAIN & WELLNESS CENTER PLLC",
         "marker": {
          "color": "#FF6692",
          "symbol": "circle"
         },
         "mode": "markers",
         "name": "NASHVILLE PAIN & WELLNESS CENTER PLLC",
         "showlegend": true,
         "type": "scattergl",
         "x": [
          "ASHOK SAHA",
          "CYNTHIA BEARD",
          "MADHU YELAMELI"
         ],
         "xaxis": "x",
         "y": [
          71,
          66,
          446
         ],
         "yaxis": "y"
        },
        {
         "hovertemplate": "to_facility=ISD RENAL, INC<br>from_physician=%{x}<br>patient_count=%{y}<extra></extra>",
         "legendgroup": "ISD RENAL, INC",
         "marker": {
          "color": "#B6E880",
          "symbol": "circle"
         },
         "mode": "markers",
         "name": "ISD RENAL, INC",
         "showlegend": true,
         "type": "scattergl",
         "x": [
          "JENNIFER SANTANA DE LOS SANTOS"
         ],
         "xaxis": "x",
         "y": [
          31
         ],
         "yaxis": "y"
        },
        {
         "hovertemplate": "to_facility=NASHVILLE EYE ASSOCIATES, P.C.<br>from_physician=%{x}<br>patient_count=%{y}<extra></extra>",
         "legendgroup": "NASHVILLE EYE ASSOCIATES, P.C.",
         "marker": {
          "color": "#FF97FF",
          "symbol": "circle"
         },
         "mode": "markers",
         "name": "NASHVILLE EYE ASSOCIATES, P.C.",
         "showlegend": true,
         "type": "scattergl",
         "x": [
          "DARRELL WILLIAMS",
          "DONALD PHILLIPS"
         ],
         "xaxis": "x",
         "y": [
          882,
          52
         ],
         "yaxis": "y"
        },
        {
         "hovertemplate": "to_facility=INNOVATIVE SENIOR CARE HOME HEALTH OF NASHVILLE LLC<br>from_physician=%{x}<br>patient_count=%{y}<extra></extra>",
         "legendgroup": "INNOVATIVE SENIOR CARE HOME HEALTH OF NASHVILLE LLC",
         "marker": {
          "color": "#FECB52",
          "symbol": "circle"
         },
         "mode": "markers",
         "name": "INNOVATIVE SENIOR CARE HOME HEALTH OF NASHVILLE LLC",
         "showlegend": true,
         "type": "scattergl",
         "x": [
          "CAMERON SHEARER"
         ],
         "xaxis": "x",
         "y": [
          29
         ],
         "yaxis": "y"
        },
        {
         "hovertemplate": "to_facility=HERMITAGE INPATIENT SERVICES PLLC<br>from_physician=%{x}<br>patient_count=%{y}<extra></extra>",
         "legendgroup": "HERMITAGE INPATIENT SERVICES PLLC",
         "marker": {
          "color": "#636efa",
          "symbol": "circle"
         },
         "mode": "markers",
         "name": "HERMITAGE INPATIENT SERVICES PLLC",
         "showlegend": true,
         "type": "scattergl",
         "x": [
          "KEVIN RIGTRUP",
          "CASEY SASSER"
         ],
         "xaxis": "x",
         "y": [
          45,
          80
         ],
         "yaxis": "y"
        },
        {
         "hovertemplate": "to_facility=OPTOMETRY UNLIMITED, LLC<br>from_physician=%{x}<br>patient_count=%{y}<extra></extra>",
         "legendgroup": "OPTOMETRY UNLIMITED, LLC",
         "marker": {
          "color": "#EF553B",
          "symbol": "circle"
         },
         "mode": "markers",
         "name": "OPTOMETRY UNLIMITED, LLC",
         "showlegend": true,
         "type": "scattergl",
         "x": [
          "GREG BEEM",
          "C WADE HYATT III"
         ],
         "xaxis": "x",
         "y": [
          219,
          196
         ],
         "yaxis": "y"
        },
        {
         "hovertemplate": "to_facility=PEPELEA FAMILY EYE CARE PLLC<br>from_physician=%{x}<br>patient_count=%{y}<extra></extra>",
         "legendgroup": "PEPELEA FAMILY EYE CARE PLLC",
         "marker": {
          "color": "#00cc96",
          "symbol": "circle"
         },
         "mode": "markers",
         "name": "PEPELEA FAMILY EYE CARE PLLC",
         "showlegend": true,
         "type": "scattergl",
         "x": [
          "ALISSA PEPELEA"
         ],
         "xaxis": "x",
         "y": [
          140
         ],
         "yaxis": "y"
        },
        {
         "hovertemplate": "to_facility=JOSEPH D. WEATHERFORD, PLC<br>from_physician=%{x}<br>patient_count=%{y}<extra></extra>",
         "legendgroup": "JOSEPH D. WEATHERFORD, PLC",
         "marker": {
          "color": "#ab63fa",
          "symbol": "circle"
         },
         "mode": "markers",
         "name": "JOSEPH D. WEATHERFORD, PLC",
         "showlegend": true,
         "type": "scattergl",
         "x": [
          "JOSEPH WEATHERFORD"
         ],
         "xaxis": "x",
         "y": [
          82
         ],
         "yaxis": "y"
        },
        {
         "hovertemplate": "to_facility=WCJ MEDICAL PLLC<br>from_physician=%{x}<br>patient_count=%{y}<extra></extra>",
         "legendgroup": "WCJ MEDICAL PLLC",
         "marker": {
          "color": "#FFA15A",
          "symbol": "circle"
         },
         "mode": "markers",
         "name": "WCJ MEDICAL PLLC",
         "showlegend": true,
         "type": "scattergl",
         "x": [
          "WARREN CLAYTON"
         ],
         "xaxis": "x",
         "y": [
          112
         ],
         "yaxis": "y"
        },
        {
         "hovertemplate": "to_facility=NASHVILLE DERMAGOLOGY & SKIN CANCER CLINIC<br>from_physician=%{x}<br>patient_count=%{y}<extra></extra>",
         "legendgroup": "NASHVILLE DERMAGOLOGY & SKIN CANCER CLINIC",
         "marker": {
          "color": "#19d3f3",
          "symbol": "circle"
         },
         "mode": "markers",
         "name": "NASHVILLE DERMAGOLOGY & SKIN CANCER CLINIC",
         "showlegend": true,
         "type": "scattergl",
         "x": [
          "BARBARA KEYES"
         ],
         "xaxis": "x",
         "y": [
          1141
         ],
         "yaxis": "y"
        },
        {
         "hovertemplate": "to_facility=NORTHRIDGE SURGERY CENTER, LP<br>from_physician=%{x}<br>patient_count=%{y}<extra></extra>",
         "legendgroup": "NORTHRIDGE SURGERY CENTER, LP",
         "marker": {
          "color": "#FF6692",
          "symbol": "circle"
         },
         "mode": "markers",
         "name": "NORTHRIDGE SURGERY CENTER, LP",
         "showlegend": true,
         "type": "scattergl",
         "x": [
          "HANI GALAL ELALAYLI",
          "MEAGAN JONES",
          "WILLIAM ROGERS"
         ],
         "xaxis": "x",
         "y": [
          73,
          87,
          156
         ],
         "yaxis": "y"
        },
        {
         "hovertemplate": "to_facility=GOLD SKIN CARE CENTER<br>from_physician=%{x}<br>patient_count=%{y}<extra></extra>",
         "legendgroup": "GOLD SKIN CARE CENTER",
         "marker": {
          "color": "#B6E880",
          "symbol": "circle"
         },
         "mode": "markers",
         "name": "GOLD SKIN CARE CENTER",
         "showlegend": true,
         "type": "scattergl",
         "x": [
          "MICHAEL GOLD"
         ],
         "xaxis": "x",
         "y": [
          470
         ],
         "yaxis": "y"
        },
        {
         "hovertemplate": "to_facility=RIGHT CARE INC<br>from_physician=%{x}<br>patient_count=%{y}<extra></extra>",
         "legendgroup": "RIGHT CARE INC",
         "marker": {
          "color": "#FF97FF",
          "symbol": "circle"
         },
         "mode": "markers",
         "name": "RIGHT CARE INC",
         "showlegend": true,
         "type": "scattergl",
         "x": [
          "LESLIE SHEALY",
          "CHANDLER ANDERSON"
         ],
         "xaxis": "x",
         "y": [
          97,
          124
         ],
         "yaxis": "y"
        },
        {
         "hovertemplate": "to_facility=CROSSROADS URGENT CARE PLLC<br>from_physician=%{x}<br>patient_count=%{y}<extra></extra>",
         "legendgroup": "CROSSROADS URGENT CARE PLLC",
         "marker": {
          "color": "#FECB52",
          "symbol": "circle"
         },
         "mode": "markers",
         "name": "CROSSROADS URGENT CARE PLLC",
         "showlegend": true,
         "type": "scattergl",
         "x": [
          "TIFFANIE STAUFFER",
          "SHEILA LOWREY",
          "JAN SPARKS"
         ],
         "xaxis": "x",
         "y": [
          99,
          73,
          257
         ],
         "yaxis": "y"
        },
        {
         "hovertemplate": "to_facility=RICHARD & CARTER M.D. P.C.<br>from_physician=%{x}<br>patient_count=%{y}<extra></extra>",
         "legendgroup": "RICHARD & CARTER M.D. P.C.",
         "marker": {
          "color": "#636efa",
          "symbol": "circle"
         },
         "mode": "markers",
         "name": "RICHARD & CARTER M.D. P.C.",
         "showlegend": true,
         "type": "scattergl",
         "x": [
          "FLOYD RICHARD"
         ],
         "xaxis": "x",
         "y": [
          25
         ],
         "yaxis": "y"
        },
        {
         "hovertemplate": "to_facility=PATIENT PARTNERS LLC<br>from_physician=%{x}<br>patient_count=%{y}<extra></extra>",
         "legendgroup": "PATIENT PARTNERS LLC",
         "marker": {
          "color": "#EF553B",
          "symbol": "circle"
         },
         "mode": "markers",
         "name": "PATIENT PARTNERS LLC",
         "showlegend": true,
         "type": "scattergl",
         "x": [
          "CHRISTOPHER BUELL",
          "RICHARD YOUNG"
         ],
         "xaxis": "x",
         "y": [
          175,
          238
         ],
         "yaxis": "y"
        },
        {
         "hovertemplate": "to_facility=DUE WEST FAMILY HEALTHCARE INC<br>from_physician=%{x}<br>patient_count=%{y}<extra></extra>",
         "legendgroup": "DUE WEST FAMILY HEALTHCARE INC",
         "marker": {
          "color": "#00cc96",
          "symbol": "circle"
         },
         "mode": "markers",
         "name": "DUE WEST FAMILY HEALTHCARE INC",
         "showlegend": true,
         "type": "scattergl",
         "x": [
          "HARRY BONNAIRE"
         ],
         "xaxis": "x",
         "y": [
          255
         ],
         "yaxis": "y"
        },
        {
         "hovertemplate": "to_facility=DICKSON PAIN AND WELLNESS PLLC<br>from_physician=%{x}<br>patient_count=%{y}<extra></extra>",
         "legendgroup": "DICKSON PAIN AND WELLNESS PLLC",
         "marker": {
          "color": "#ab63fa",
          "symbol": "circle"
         },
         "mode": "markers",
         "name": "DICKSON PAIN AND WELLNESS PLLC",
         "showlegend": true,
         "type": "scattergl",
         "x": [
          "ROSE WIDENER"
         ],
         "xaxis": "x",
         "y": [
          136
         ],
         "yaxis": "y"
        },
        {
         "hovertemplate": "to_facility=WALTER L. CHOATE, O.D.<br>from_physician=%{x}<br>patient_count=%{y}<extra></extra>",
         "legendgroup": "WALTER L. CHOATE, O.D.",
         "marker": {
          "color": "#FFA15A",
          "symbol": "circle"
         },
         "mode": "markers",
         "name": "WALTER L. CHOATE, O.D.",
         "showlegend": true,
         "type": "scattergl",
         "x": [
          "WALTER CHOATE"
         ],
         "xaxis": "x",
         "y": [
          282
         ],
         "yaxis": "y"
        },
        {
         "hovertemplate": "to_facility=KNOLLS PLACE MEDICAL CLINIC LLC<br>from_physician=%{x}<br>patient_count=%{y}<extra></extra>",
         "legendgroup": "KNOLLS PLACE MEDICAL CLINIC LLC",
         "marker": {
          "color": "#19d3f3",
          "symbol": "circle"
         },
         "mode": "markers",
         "name": "KNOLLS PLACE MEDICAL CLINIC LLC",
         "showlegend": true,
         "type": "scattergl",
         "x": [
          "SONGMIN CAI"
         ],
         "xaxis": "x",
         "y": [
          80
         ],
         "yaxis": "y"
        },
        {
         "hovertemplate": "to_facility=GASTROENTEROLOGY & HEPATOLOGY ASSOCIATES PLLC<br>from_physician=%{x}<br>patient_count=%{y}<extra></extra>",
         "legendgroup": "GASTROENTEROLOGY & HEPATOLOGY ASSOCIATES PLLC",
         "marker": {
          "color": "#FF6692",
          "symbol": "circle"
         },
         "mode": "markers",
         "name": "GASTROENTEROLOGY & HEPATOLOGY ASSOCIATES PLLC",
         "showlegend": true,
         "type": "scattergl",
         "x": [
          "CHRISTOPHER BUELL",
          "RICHARD YOUNG"
         ],
         "xaxis": "x",
         "y": [
          54,
          80
         ],
         "yaxis": "y"
        },
        {
         "hovertemplate": "to_facility=CANTRELL PHYSICAL THERAPY, INC.<br>from_physician=%{x}<br>patient_count=%{y}<extra></extra>",
         "legendgroup": "CANTRELL PHYSICAL THERAPY, INC.",
         "marker": {
          "color": "#B6E880",
          "symbol": "circle"
         },
         "mode": "markers",
         "name": "CANTRELL PHYSICAL THERAPY, INC.",
         "showlegend": true,
         "type": "scattergl",
         "x": [
          "CHRISTOPHER HUMPHREYS",
          "CHRISTOPHER O'BRIEN",
          "MEGAN AHER",
          "AMANDA KESTERSON",
          "NIXON CANTRELL"
         ],
         "xaxis": "x",
         "y": [
          59,
          17,
          49,
          41,
          29
         ],
         "yaxis": "y"
        },
        {
         "hovertemplate": "to_facility=ROOSEVELT PEEBLES, JR., MD, PC<br>from_physician=%{x}<br>patient_count=%{y}<extra></extra>",
         "legendgroup": "ROOSEVELT PEEBLES, JR., MD, PC",
         "marker": {
          "color": "#FF97FF",
          "symbol": "circle"
         },
         "mode": "markers",
         "name": "ROOSEVELT PEEBLES, JR., MD, PC",
         "showlegend": true,
         "type": "scattergl",
         "x": [
          "ROOSEVELT PEEBLES"
         ],
         "xaxis": "x",
         "y": [
          30
         ],
         "yaxis": "y"
        },
        {
         "hovertemplate": "to_facility=JOHN NEUHOFF III OD AND ASSOCIATES<br>from_physician=%{x}<br>patient_count=%{y}<extra></extra>",
         "legendgroup": "JOHN NEUHOFF III OD AND ASSOCIATES",
         "marker": {
          "color": "#FECB52",
          "symbol": "circle"
         },
         "mode": "markers",
         "name": "JOHN NEUHOFF III OD AND ASSOCIATES",
         "showlegend": true,
         "type": "scattergl",
         "x": [
          "BARBARA TEMPKINS",
          "JOHN NEUHOFF"
         ],
         "xaxis": "x",
         "y": [
          37,
          419
         ],
         "yaxis": "y"
        },
        {
         "hovertemplate": "to_facility=CHIROPRACTIC NASHVILLE, PC<br>from_physician=%{x}<br>patient_count=%{y}<extra></extra>",
         "legendgroup": "CHIROPRACTIC NASHVILLE, PC",
         "marker": {
          "color": "#636efa",
          "symbol": "circle"
         },
         "mode": "markers",
         "name": "CHIROPRACTIC NASHVILLE, PC",
         "showlegend": true,
         "type": "scattergl",
         "x": [
          "CHARLES MCCLELLAN"
         ],
         "xaxis": "x",
         "y": [
          41
         ],
         "yaxis": "y"
        },
        {
         "hovertemplate": "to_facility=ARIZONS OBSTETRICS AND GYNECOLOGY, PLLC<br>from_physician=%{x}<br>patient_count=%{y}<extra></extra>",
         "legendgroup": "ARIZONS OBSTETRICS AND GYNECOLOGY, PLLC",
         "marker": {
          "color": "#EF553B",
          "symbol": "circle"
         },
         "mode": "markers",
         "name": "ARIZONS OBSTETRICS AND GYNECOLOGY, PLLC",
         "showlegend": true,
         "type": "scattergl",
         "x": [
          "MARCO JARRETT"
         ],
         "xaxis": "x",
         "y": [
          36
         ],
         "yaxis": "y"
        },
        {
         "hovertemplate": "to_facility=GREEN SURGERY CENTER LLC<br>from_physician=%{x}<br>patient_count=%{y}<extra></extra>",
         "legendgroup": "GREEN SURGERY CENTER LLC",
         "marker": {
          "color": "#00cc96",
          "symbol": "circle"
         },
         "mode": "markers",
         "name": "GREEN SURGERY CENTER LLC",
         "showlegend": true,
         "type": "scattergl",
         "x": [
          "MICHAEL GREEN"
         ],
         "xaxis": "x",
         "y": [
          242
         ],
         "yaxis": "y"
        },
        {
         "hovertemplate": "to_facility=CHARLES A. MITCHELL<br>from_physician=%{x}<br>patient_count=%{y}<extra></extra>",
         "legendgroup": "CHARLES A. MITCHELL",
         "marker": {
          "color": "#ab63fa",
          "symbol": "circle"
         },
         "mode": "markers",
         "name": "CHARLES A. MITCHELL",
         "showlegend": true,
         "type": "scattergl",
         "x": [
          "CHARLES MITCHELL"
         ],
         "xaxis": "x",
         "y": [
          728
         ],
         "yaxis": "y"
        },
        {
         "hovertemplate": "to_facility=MIDDLE TENNESSEE CHIROPRACTIC AND SPORTS INJURY, PLLC<br>from_physician=%{x}<br>patient_count=%{y}<extra></extra>",
         "legendgroup": "MIDDLE TENNESSEE CHIROPRACTIC AND SPORTS INJURY, PLLC",
         "marker": {
          "color": "#FFA15A",
          "symbol": "circle"
         },
         "mode": "markers",
         "name": "MIDDLE TENNESSEE CHIROPRACTIC AND SPORTS INJURY, PLLC",
         "showlegend": true,
         "type": "scattergl",
         "x": [
          "JONATHAN ELSON"
         ],
         "xaxis": "x",
         "y": [
          14
         ],
         "yaxis": "y"
        },
        {
         "hovertemplate": "to_facility=AMERICAN BEHAVIORAL CONSULTANTS<br>from_physician=%{x}<br>patient_count=%{y}<extra></extra>",
         "legendgroup": "AMERICAN BEHAVIORAL CONSULTANTS",
         "marker": {
          "color": "#19d3f3",
          "symbol": "circle"
         },
         "mode": "markers",
         "name": "AMERICAN BEHAVIORAL CONSULTANTS",
         "showlegend": true,
         "type": "scattergl",
         "x": [
          "ANGELA WOOD",
          "SHARON GROSCH",
          "CYNTHIA RECTOR",
          "JANE PIERCE"
         ],
         "xaxis": "x",
         "y": [
          58,
          27,
          136,
          59
         ],
         "yaxis": "y"
        },
        {
         "hovertemplate": "to_facility=CARRIER CHIROPRACTIC P C<br>from_physician=%{x}<br>patient_count=%{y}<extra></extra>",
         "legendgroup": "CARRIER CHIROPRACTIC P C",
         "marker": {
          "color": "#FF6692",
          "symbol": "circle"
         },
         "mode": "markers",
         "name": "CARRIER CHIROPRACTIC P C",
         "showlegend": true,
         "type": "scattergl",
         "x": [
          "GARY CARRIER",
          "MICHELE CARRIER"
         ],
         "xaxis": "x",
         "y": [
          32,
          21
         ],
         "yaxis": "y"
        },
        {
         "hovertemplate": "to_facility=CHIROPRACTIC ASSOCIATES OF MURFREESBORO, PLLC<br>from_physician=%{x}<br>patient_count=%{y}<extra></extra>",
         "legendgroup": "CHIROPRACTIC ASSOCIATES OF MURFREESBORO, PLLC",
         "marker": {
          "color": "#B6E880",
          "symbol": "circle"
         },
         "mode": "markers",
         "name": "CHIROPRACTIC ASSOCIATES OF MURFREESBORO, PLLC",
         "showlegend": true,
         "type": "scattergl",
         "x": [
          "JAMES DANIEL"
         ],
         "xaxis": "x",
         "y": [
          29
         ],
         "yaxis": "y"
        },
        {
         "hovertemplate": "to_facility=COGENT HEALTHCARE OF TENNESSEE, PC<br>from_physician=%{x}<br>patient_count=%{y}<extra></extra>",
         "legendgroup": "COGENT HEALTHCARE OF TENNESSEE, PC",
         "marker": {
          "color": "#FF97FF",
          "symbol": "circle"
         },
         "mode": "markers",
         "name": "COGENT HEALTHCARE OF TENNESSEE, PC",
         "showlegend": true,
         "type": "scattergl",
         "x": [
          "LEVI BENSON",
          "JAMES MILLER",
          "JAYANTHI SAMUEL"
         ],
         "xaxis": "x",
         "y": [
          568,
          163,
          472
         ],
         "yaxis": "y"
        },
        {
         "hovertemplate": "to_facility=NULIFE PHYSICAL THERAPY INC<br>from_physician=%{x}<br>patient_count=%{y}<extra></extra>",
         "legendgroup": "NULIFE PHYSICAL THERAPY INC",
         "marker": {
          "color": "#FECB52",
          "symbol": "circle"
         },
         "mode": "markers",
         "name": "NULIFE PHYSICAL THERAPY INC",
         "showlegend": true,
         "type": "scattergl",
         "x": [
          "SHERRY FLECKSTEINER"
         ],
         "xaxis": "x",
         "y": [
          59
         ],
         "yaxis": "y"
        },
        {
         "hovertemplate": "to_facility=T SCOTT BAKER MD PC<br>from_physician=%{x}<br>patient_count=%{y}<extra></extra>",
         "legendgroup": "T SCOTT BAKER MD PC",
         "marker": {
          "color": "#636efa",
          "symbol": "circle"
         },
         "mode": "markers",
         "name": "T SCOTT BAKER MD PC",
         "showlegend": true,
         "type": "scattergl",
         "x": [
          "THOMAS BAKER"
         ],
         "xaxis": "x",
         "y": [
          735
         ],
         "yaxis": "y"
        },
        {
         "hovertemplate": "to_facility=PAXXON HEALTHCARE SERVICES LLC<br>from_physician=%{x}<br>patient_count=%{y}<extra></extra>",
         "legendgroup": "PAXXON HEALTHCARE SERVICES LLC",
         "marker": {
          "color": "#EF553B",
          "symbol": "circle"
         },
         "mode": "markers",
         "name": "PAXXON HEALTHCARE SERVICES LLC",
         "showlegend": true,
         "type": "scattergl",
         "x": [
          "JUSTIN MARTIN",
          "LINDA COLLIER"
         ],
         "xaxis": "x",
         "y": [
          11,
          12
         ],
         "yaxis": "y"
        },
        {
         "hovertemplate": "to_facility=NASHVILLE TN OPHTHALMOLOGY ASC LLC<br>from_physician=%{x}<br>patient_count=%{y}<extra></extra>",
         "legendgroup": "NASHVILLE TN OPHTHALMOLOGY ASC LLC",
         "marker": {
          "color": "#00cc96",
          "symbol": "circle"
         },
         "mode": "markers",
         "name": "NASHVILLE TN OPHTHALMOLOGY ASC LLC",
         "showlegend": true,
         "type": "scattergl",
         "x": [
          "KIP NEUHOFF"
         ],
         "xaxis": "x",
         "y": [
          76
         ],
         "yaxis": "y"
        },
        {
         "hovertemplate": "to_facility=SWAN UROGYNECOLOGY, PC<br>from_physician=%{x}<br>patient_count=%{y}<extra></extra>",
         "legendgroup": "SWAN UROGYNECOLOGY, PC",
         "marker": {
          "color": "#ab63fa",
          "symbol": "circle"
         },
         "mode": "markers",
         "name": "SWAN UROGYNECOLOGY, PC",
         "showlegend": true,
         "type": "scattergl",
         "x": [
          "JAMES MIXON"
         ],
         "xaxis": "x",
         "y": [
          75
         ],
         "yaxis": "y"
        },
        {
         "hovertemplate": "to_facility=IMAC REGENERATION CENTER OF NASHVILLE, P.C.<br>from_physician=%{x}<br>patient_count=%{y}<extra></extra>",
         "legendgroup": "IMAC REGENERATION CENTER OF NASHVILLE, P.C.",
         "marker": {
          "color": "#FFA15A",
          "symbol": "circle"
         },
         "mode": "markers",
         "name": "IMAC REGENERATION CENTER OF NASHVILLE, P.C.",
         "showlegend": true,
         "type": "scattergl",
         "x": [
          "JILL CLEMENT",
          "STEPHANIE CRAWFORD",
          "BRITTANY MONTGOMERY"
         ],
         "xaxis": "x",
         "y": [
          18,
          11,
          46
         ],
         "yaxis": "y"
        },
        {
         "hovertemplate": "to_facility=ALIVE HOSPICE, INC<br>from_physician=%{x}<br>patient_count=%{y}<extra></extra>",
         "legendgroup": "ALIVE HOSPICE, INC",
         "marker": {
          "color": "#19d3f3",
          "symbol": "circle"
         },
         "mode": "markers",
         "name": "ALIVE HOSPICE, INC",
         "showlegend": true,
         "type": "scattergl",
         "x": [
          "ANH MEADOWS",
          "LAURA THARPE",
          "SASHA BOWERS",
          "ROBERT BERKOMPAS"
         ],
         "xaxis": "x",
         "y": [
          282,
          984,
          566,
          300
         ],
         "yaxis": "y"
        },
        {
         "hovertemplate": "to_facility=MAURY REGIONAL MEDICAL GROUP, INC<br>from_physician=%{x}<br>patient_count=%{y}<extra></extra>",
         "legendgroup": "MAURY REGIONAL MEDICAL GROUP, INC",
         "marker": {
          "color": "#FF6692",
          "symbol": "circle"
         },
         "mode": "markers",
         "name": "MAURY REGIONAL MEDICAL GROUP, INC",
         "showlegend": true,
         "type": "scattergl",
         "x": [
          "MICHAEL BACKUES",
          "SEAN CANNADY",
          "MARTIN CHANEY",
          "BRANDIE GORRELL",
          "JERALD TAGGART",
          "KAREN PERRY",
          "JOE PHILIP",
          "CHRISTINA LANNOM",
          "JOHNNY NOWLIN",
          "SARAH ESSARY",
          "AMY RICHARDSON",
          "ELIAS MANZELLA"
         ],
         "xaxis": "x",
         "y": [
          298,
          100,
          99,
          275,
          186,
          608,
          362,
          163,
          115,
          488,
          265,
          184
         ],
         "yaxis": "y"
        },
        {
         "hovertemplate": "to_facility=DIALYSIS CLINIC INC<br>from_physician=%{x}<br>patient_count=%{y}<extra></extra>",
         "legendgroup": "DIALYSIS CLINIC INC",
         "marker": {
          "color": "#B6E880",
          "symbol": "circle"
         },
         "mode": "markers",
         "name": "DIALYSIS CLINIC INC",
         "showlegend": true,
         "type": "scattergl",
         "x": [
          "HARRY JOHNSON"
         ],
         "xaxis": "x",
         "y": [
          20
         ],
         "yaxis": "y"
        },
        {
         "hovertemplate": "to_facility=ASSOCIATED CHIROPRACTIC AND MEDICAL P.C.<br>from_physician=%{x}<br>patient_count=%{y}<extra></extra>",
         "legendgroup": "ASSOCIATED CHIROPRACTIC AND MEDICAL P.C.",
         "marker": {
          "color": "#FF97FF",
          "symbol": "circle"
         },
         "mode": "markers",
         "name": "ASSOCIATED CHIROPRACTIC AND MEDICAL P.C.",
         "showlegend": true,
         "type": "scattergl",
         "x": [
          "GIL KENTOF"
         ],
         "xaxis": "x",
         "y": [
          240
         ],
         "yaxis": "y"
        },
        {
         "hovertemplate": "to_facility=CHIROCORE WELLNESS PLLC<br>from_physician=%{x}<br>patient_count=%{y}<extra></extra>",
         "legendgroup": "CHIROCORE WELLNESS PLLC",
         "marker": {
          "color": "#FECB52",
          "symbol": "circle"
         },
         "mode": "markers",
         "name": "CHIROCORE WELLNESS PLLC",
         "showlegend": true,
         "type": "scattergl",
         "x": [
          "JASON THARPE"
         ],
         "xaxis": "x",
         "y": [
          40
         ],
         "yaxis": "y"
        },
        {
         "hovertemplate": "to_facility=DAVID H. MCCORD, M.D., P.C.<br>from_physician=%{x}<br>patient_count=%{y}<extra></extra>",
         "legendgroup": "DAVID H. MCCORD, M.D., P.C.",
         "marker": {
          "color": "#636efa",
          "symbol": "circle"
         },
         "mode": "markers",
         "name": "DAVID H. MCCORD, M.D., P.C.",
         "showlegend": true,
         "type": "scattergl",
         "x": [
          "DAVID MCCORD"
         ],
         "xaxis": "x",
         "y": [
          150
         ],
         "yaxis": "y"
        },
        {
         "hovertemplate": "to_facility=CURCIO DERMATOLOGY, PC<br>from_physician=%{x}<br>patient_count=%{y}<extra></extra>",
         "legendgroup": "CURCIO DERMATOLOGY, PC",
         "marker": {
          "color": "#EF553B",
          "symbol": "circle"
         },
         "mode": "markers",
         "name": "CURCIO DERMATOLOGY, PC",
         "showlegend": true,
         "type": "scattergl",
         "x": [
          "NATALIE CURCIO",
          "KATHERINE REDDING"
         ],
         "xaxis": "x",
         "y": [
          153,
          80
         ],
         "yaxis": "y"
        },
        {
         "hovertemplate": "to_facility=GORDON JOHNSON<br>from_physician=%{x}<br>patient_count=%{y}<extra></extra>",
         "legendgroup": "GORDON JOHNSON",
         "marker": {
          "color": "#00cc96",
          "symbol": "circle"
         },
         "mode": "markers",
         "name": "GORDON JOHNSON",
         "showlegend": true,
         "type": "scattergl",
         "x": [
          "CAROL JOHNSON",
          "GORDON JOHNSON"
         ],
         "xaxis": "x",
         "y": [
          35,
          41
         ],
         "yaxis": "y"
        },
        {
         "hovertemplate": "to_facility=GETHSEMANE CARDIOVASCULAR CLINIC PLLC<br>from_physician=%{x}<br>patient_count=%{y}<extra></extra>",
         "legendgroup": "GETHSEMANE CARDIOVASCULAR CLINIC PLLC",
         "marker": {
          "color": "#ab63fa",
          "symbol": "circle"
         },
         "mode": "markers",
         "name": "GETHSEMANE CARDIOVASCULAR CLINIC PLLC",
         "showlegend": true,
         "type": "scattergl",
         "x": [
          "PAUL JACKSON"
         ],
         "xaxis": "x",
         "y": [
          477
         ],
         "yaxis": "y"
        },
        {
         "hovertemplate": "to_facility=CARESPOT OF LEBANON 1705 WEST MAIN STREET LLC<br>from_physician=%{x}<br>patient_count=%{y}<extra></extra>",
         "legendgroup": "CARESPOT OF LEBANON 1705 WEST MAIN STREET LLC",
         "marker": {
          "color": "#FFA15A",
          "symbol": "circle"
         },
         "mode": "markers",
         "name": "CARESPOT OF LEBANON 1705 WEST MAIN STREET LLC",
         "showlegend": true,
         "type": "scattergl",
         "x": [
          "STEPHANIE VAUGHN"
         ],
         "xaxis": "x",
         "y": [
          59
         ],
         "yaxis": "y"
        },
        {
         "hovertemplate": "to_facility=ADVANCED NEUROSCIENCES INSTITUTE<br>from_physician=%{x}<br>patient_count=%{y}<extra></extra>",
         "legendgroup": "ADVANCED NEUROSCIENCES INSTITUTE",
         "marker": {
          "color": "#19d3f3",
          "symbol": "circle"
         },
         "mode": "markers",
         "name": "ADVANCED NEUROSCIENCES INSTITUTE",
         "showlegend": true,
         "type": "scattergl",
         "x": [
          "SAMUEL HUNTER"
         ],
         "xaxis": "x",
         "y": [
          261
         ],
         "yaxis": "y"
        },
        {
         "hovertemplate": "to_facility=HEALTH CARE FOR LIFE TN, LLC<br>from_physician=%{x}<br>patient_count=%{y}<extra></extra>",
         "legendgroup": "HEALTH CARE FOR LIFE TN, LLC",
         "marker": {
          "color": "#FF6692",
          "symbol": "circle"
         },
         "mode": "markers",
         "name": "HEALTH CARE FOR LIFE TN, LLC",
         "showlegend": true,
         "type": "scattergl",
         "x": [
          "JEFFREY JESSUP"
         ],
         "xaxis": "x",
         "y": [
          1021
         ],
         "yaxis": "y"
        },
        {
         "hovertemplate": "to_facility=SUMMIT SURGERY CENTER LP<br>from_physician=%{x}<br>patient_count=%{y}<extra></extra>",
         "legendgroup": "SUMMIT SURGERY CENTER LP",
         "marker": {
          "color": "#B6E880",
          "symbol": "circle"
         },
         "mode": "markers",
         "name": "SUMMIT SURGERY CENTER LP",
         "showlegend": true,
         "type": "scattergl",
         "x": [
          "NINA PORTER",
          "JANET FERGUSSON",
          "LEE SIMMONS",
          "STEVEN PLAXCO",
          "SARAH PALAZOLA"
         ],
         "xaxis": "x",
         "y": [
          57,
          65,
          158,
          198,
          56
         ],
         "yaxis": "y"
        },
        {
         "hovertemplate": "to_facility=RACHEL B. DORRIS, LCSW, LLC<br>from_physician=%{x}<br>patient_count=%{y}<extra></extra>",
         "legendgroup": "RACHEL B. DORRIS, LCSW, LLC",
         "marker": {
          "color": "#FF97FF",
          "symbol": "circle"
         },
         "mode": "markers",
         "name": "RACHEL B. DORRIS, LCSW, LLC",
         "showlegend": true,
         "type": "scattergl",
         "x": [
          "RACHEL DORRIS"
         ],
         "xaxis": "x",
         "y": [
          17
         ],
         "yaxis": "y"
        },
        {
         "hovertemplate": "to_facility=TENNESSEE OBSTETRICS & GYNECOLOGY PLLC<br>from_physician=%{x}<br>patient_count=%{y}<extra></extra>",
         "legendgroup": "TENNESSEE OBSTETRICS & GYNECOLOGY PLLC",
         "marker": {
          "color": "#FECB52",
          "symbol": "circle"
         },
         "mode": "markers",
         "name": "TENNESSEE OBSTETRICS & GYNECOLOGY PLLC",
         "showlegend": true,
         "type": "scattergl",
         "x": [
          "STEPHEN STAGGS"
         ],
         "xaxis": "x",
         "y": [
          73
         ],
         "yaxis": "y"
        },
        {
         "hovertemplate": "to_facility=BALSAM PARTNERS, PLLC<br>from_physician=%{x}<br>patient_count=%{y}<extra></extra>",
         "legendgroup": "BALSAM PARTNERS, PLLC",
         "marker": {
          "color": "#636efa",
          "symbol": "circle"
         },
         "mode": "markers",
         "name": "BALSAM PARTNERS, PLLC",
         "showlegend": true,
         "type": "scattergl",
         "x": [
          "JEFF TODD"
         ],
         "xaxis": "x",
         "y": [
          44
         ],
         "yaxis": "y"
        },
        {
         "hovertemplate": "to_facility=MITCHELL STANLICK, D.C., LLC<br>from_physician=%{x}<br>patient_count=%{y}<extra></extra>",
         "legendgroup": "MITCHELL STANLICK, D.C., LLC",
         "marker": {
          "color": "#EF553B",
          "symbol": "circle"
         },
         "mode": "markers",
         "name": "MITCHELL STANLICK, D.C., LLC",
         "showlegend": true,
         "type": "scattergl",
         "x": [
          "JEREMY BILLS",
          "MITCHELL STANLICK"
         ],
         "xaxis": "x",
         "y": [
          53,
          51
         ],
         "yaxis": "y"
        },
        {
         "hovertemplate": "to_facility=GENESYS FAMILY MEDICINE, PC<br>from_physician=%{x}<br>patient_count=%{y}<extra></extra>",
         "legendgroup": "GENESYS FAMILY MEDICINE, PC",
         "marker": {
          "color": "#00cc96",
          "symbol": "circle"
         },
         "mode": "markers",
         "name": "GENESYS FAMILY MEDICINE, PC",
         "showlegend": true,
         "type": "scattergl",
         "x": [
          "CHRIS INGRAHAM",
          "HEIDI LAKES"
         ],
         "xaxis": "x",
         "y": [
          128,
          131
         ],
         "yaxis": "y"
        },
        {
         "hovertemplate": "to_facility=BETHANY CENTER FOR REHABILITATION AND HEALING LLC<br>from_physician=%{x}<br>patient_count=%{y}<extra></extra>",
         "legendgroup": "BETHANY CENTER FOR REHABILITATION AND HEALING LLC",
         "marker": {
          "color": "#ab63fa",
          "symbol": "circle"
         },
         "mode": "markers",
         "name": "BETHANY CENTER FOR REHABILITATION AND HEALING LLC",
         "showlegend": true,
         "type": "scattergl",
         "x": [
          "RALF HABERMANN"
         ],
         "xaxis": "x",
         "y": [
          235
         ],
         "yaxis": "y"
        },
        {
         "hovertemplate": "to_facility=SURGERY CENTER OF MIDDLE TENNESSEE LLC<br>from_physician=%{x}<br>patient_count=%{y}<extra></extra>",
         "legendgroup": "SURGERY CENTER OF MIDDLE TENNESSEE LLC",
         "marker": {
          "color": "#FFA15A",
          "symbol": "circle"
         },
         "mode": "markers",
         "name": "SURGERY CENTER OF MIDDLE TENNESSEE LLC",
         "showlegend": true,
         "type": "scattergl",
         "x": [
          "JOSEPH NETTERVILLE",
          "LORI JOHNSON",
          "LINDA REYNOLDS",
          "ROSCOE ROBINSON"
         ],
         "xaxis": "x",
         "y": [
          69,
          71,
          117,
          77
         ],
         "yaxis": "y"
        },
        {
         "hovertemplate": "to_facility=WILLIAM J LITTMAN MD PC<br>from_physician=%{x}<br>patient_count=%{y}<extra></extra>",
         "legendgroup": "WILLIAM J LITTMAN MD PC",
         "marker": {
          "color": "#19d3f3",
          "symbol": "circle"
         },
         "mode": "markers",
         "name": "WILLIAM J LITTMAN MD PC",
         "showlegend": true,
         "type": "scattergl",
         "x": [
          "WILLIAM LITTMAN"
         ],
         "xaxis": "x",
         "y": [
          307
         ],
         "yaxis": "y"
        },
        {
         "hovertemplate": "to_facility=PERRIGIN MEDICAL PLLC<br>from_physician=%{x}<br>patient_count=%{y}<extra></extra>",
         "legendgroup": "PERRIGIN MEDICAL PLLC",
         "marker": {
          "color": "#FF6692",
          "symbol": "circle"
         },
         "mode": "markers",
         "name": "PERRIGIN MEDICAL PLLC",
         "showlegend": true,
         "type": "scattergl",
         "x": [
          "JULIE PERRIGIN"
         ],
         "xaxis": "x",
         "y": [
          300
         ],
         "yaxis": "y"
        },
        {
         "hovertemplate": "to_facility=MEADOWLARK INPATIENT SERVICES PLLC<br>from_physician=%{x}<br>patient_count=%{y}<extra></extra>",
         "legendgroup": "MEADOWLARK INPATIENT SERVICES PLLC",
         "marker": {
          "color": "#B6E880",
          "symbol": "circle"
         },
         "mode": "markers",
         "name": "MEADOWLARK INPATIENT SERVICES PLLC",
         "showlegend": true,
         "type": "scattergl",
         "x": [
          "AMANDA ZIMMERMAN",
          "BRANDEE LYLE"
         ],
         "xaxis": "x",
         "y": [
          158,
          211
         ],
         "yaxis": "y"
        },
        {
         "hovertemplate": "to_facility=ROBBINS PLASTIC SURGERY, PLC<br>from_physician=%{x}<br>patient_count=%{y}<extra></extra>",
         "legendgroup": "ROBBINS PLASTIC SURGERY, PLC",
         "marker": {
          "color": "#FF97FF",
          "symbol": "circle"
         },
         "mode": "markers",
         "name": "ROBBINS PLASTIC SURGERY, PLC",
         "showlegend": true,
         "type": "scattergl",
         "x": [
          "CHADWELL ROBBINS"
         ],
         "xaxis": "x",
         "y": [
          105
         ],
         "yaxis": "y"
        },
        {
         "hovertemplate": "to_facility=OLD HICKORY PSYCHATRIC ASSOCIATED PLLC<br>from_physician=%{x}<br>patient_count=%{y}<extra></extra>",
         "legendgroup": "OLD HICKORY PSYCHATRIC ASSOCIATED PLLC",
         "marker": {
          "color": "#FECB52",
          "symbol": "circle"
         },
         "mode": "markers",
         "name": "OLD HICKORY PSYCHATRIC ASSOCIATED PLLC",
         "showlegend": true,
         "type": "scattergl",
         "x": [
          "DON ELAZAR"
         ],
         "xaxis": "x",
         "y": [
          168
         ],
         "yaxis": "y"
        },
        {
         "hovertemplate": "to_facility=NEW HORIZON DIABETES CLINIC<br>from_physician=%{x}<br>patient_count=%{y}<extra></extra>",
         "legendgroup": "NEW HORIZON DIABETES CLINIC",
         "marker": {
          "color": "#636efa",
          "symbol": "circle"
         },
         "mode": "markers",
         "name": "NEW HORIZON DIABETES CLINIC",
         "showlegend": true,
         "type": "scattergl",
         "x": [
          "LUISA LEAL"
         ],
         "xaxis": "x",
         "y": [
          45
         ],
         "yaxis": "y"
        },
        {
         "hovertemplate": "to_facility=EDMONDSON PIKE FAMILY PRACTICE AND WALK IN CLINIC<br>from_physician=%{x}<br>patient_count=%{y}<extra></extra>",
         "legendgroup": "EDMONDSON PIKE FAMILY PRACTICE AND WALK IN CLINIC",
         "marker": {
          "color": "#EF553B",
          "symbol": "circle"
         },
         "mode": "markers",
         "name": "EDMONDSON PIKE FAMILY PRACTICE AND WALK IN CLINIC",
         "showlegend": true,
         "type": "scattergl",
         "x": [
          "JIAN WEI"
         ],
         "xaxis": "x",
         "y": [
          174
         ],
         "yaxis": "y"
        },
        {
         "hovertemplate": "to_facility=MILLER CHIROPRACTIC CLINIC PA<br>from_physician=%{x}<br>patient_count=%{y}<extra></extra>",
         "legendgroup": "MILLER CHIROPRACTIC CLINIC PA",
         "marker": {
          "color": "#00cc96",
          "symbol": "circle"
         },
         "mode": "markers",
         "name": "MILLER CHIROPRACTIC CLINIC PA",
         "showlegend": true,
         "type": "scattergl",
         "x": [
          "WILLIAM MILLER"
         ],
         "xaxis": "x",
         "y": [
          23
         ],
         "yaxis": "y"
        },
        {
         "hovertemplate": "to_facility=STONES RIVER MEDICAL GROUP PC<br>from_physician=%{x}<br>patient_count=%{y}<extra></extra>",
         "legendgroup": "STONES RIVER MEDICAL GROUP PC",
         "marker": {
          "color": "#ab63fa",
          "symbol": "circle"
         },
         "mode": "markers",
         "name": "STONES RIVER MEDICAL GROUP PC",
         "showlegend": true,
         "type": "scattergl",
         "x": [
          "LISA JACK",
          "TEJAL PATEL"
         ],
         "xaxis": "x",
         "y": [
          133,
          196
         ],
         "yaxis": "y"
        },
        {
         "hovertemplate": "to_facility=PRECISION CARE CHIROPRACTIC, PLLC<br>from_physician=%{x}<br>patient_count=%{y}<extra></extra>",
         "legendgroup": "PRECISION CARE CHIROPRACTIC, PLLC",
         "marker": {
          "color": "#FFA15A",
          "symbol": "circle"
         },
         "mode": "markers",
         "name": "PRECISION CARE CHIROPRACTIC, PLLC",
         "showlegend": true,
         "type": "scattergl",
         "x": [
          "NICOLE ZYLA-HERRERA"
         ],
         "xaxis": "x",
         "y": [
          30
         ],
         "yaxis": "y"
        },
        {
         "hovertemplate": "to_facility=TROUSDALE PHYSICIAN PRACTICES LLC<br>from_physician=%{x}<br>patient_count=%{y}<extra></extra>",
         "legendgroup": "TROUSDALE PHYSICIAN PRACTICES LLC",
         "marker": {
          "color": "#19d3f3",
          "symbol": "circle"
         },
         "mode": "markers",
         "name": "TROUSDALE PHYSICIAN PRACTICES LLC",
         "showlegend": true,
         "type": "scattergl",
         "x": [
          "ANNE HENSLEY"
         ],
         "xaxis": "x",
         "y": [
          69
         ],
         "yaxis": "y"
        },
        {
         "hovertemplate": "to_facility=NASHVILLE SKIN AND CANCER, PLC<br>from_physician=%{x}<br>patient_count=%{y}<extra></extra>",
         "legendgroup": "NASHVILLE SKIN AND CANCER, PLC",
         "marker": {
          "color": "#FF6692",
          "symbol": "circle"
         },
         "mode": "markers",
         "name": "NASHVILLE SKIN AND CANCER, PLC",
         "showlegend": true,
         "type": "scattergl",
         "x": [
          "SHI FAY CHENG",
          "BRENT PENNINGTON",
          "ALLYSON BROOKE EASTHAM",
          "WALTER SIMS",
          "ADRIAN RODRIGUEZ",
          "LORIEN SITES"
         ],
         "xaxis": "x",
         "y": [
          485,
          769,
          1424,
          404,
          989,
          1098
         ],
         "yaxis": "y"
        },
        {
         "hovertemplate": "to_facility=GERTRUDE STONE MD PLLC<br>from_physician=%{x}<br>patient_count=%{y}<extra></extra>",
         "legendgroup": "GERTRUDE STONE MD PLLC",
         "marker": {
          "color": "#B6E880",
          "symbol": "circle"
         },
         "mode": "markers",
         "name": "GERTRUDE STONE MD PLLC",
         "showlegend": true,
         "type": "scattergl",
         "x": [
          "GERTRUDE STONE"
         ],
         "xaxis": "x",
         "y": [
          89
         ],
         "yaxis": "y"
        },
        {
         "hovertemplate": "to_facility=HEARING SOLUTIONS OF TENNESSEE, LLC<br>from_physician=%{x}<br>patient_count=%{y}<extra></extra>",
         "legendgroup": "HEARING SOLUTIONS OF TENNESSEE, LLC",
         "marker": {
          "color": "#FF97FF",
          "symbol": "circle"
         },
         "mode": "markers",
         "name": "HEARING SOLUTIONS OF TENNESSEE, LLC",
         "showlegend": true,
         "type": "scattergl",
         "x": [
          "ANNE BOLING",
          "TANIA WILLIAMS"
         ],
         "xaxis": "x",
         "y": [
          91,
          63
         ],
         "yaxis": "y"
        },
        {
         "hovertemplate": "to_facility=TREVECCA CENTER FOR REHABILITATION AND HEALING LLC<br>from_physician=%{x}<br>patient_count=%{y}<extra></extra>",
         "legendgroup": "TREVECCA CENTER FOR REHABILITATION AND HEALING LLC",
         "marker": {
          "color": "#FECB52",
          "symbol": "circle"
         },
         "mode": "markers",
         "name": "TREVECCA CENTER FOR REHABILITATION AND HEALING LLC",
         "showlegend": true,
         "type": "scattergl",
         "x": [
          "RALF HABERMANN"
         ],
         "xaxis": "x",
         "y": [
          239
         ],
         "yaxis": "y"
        },
        {
         "hovertemplate": "to_facility=CENTENNIAL SURGERY CENTER LP<br>from_physician=%{x}<br>patient_count=%{y}<extra></extra>",
         "legendgroup": "CENTENNIAL SURGERY CENTER LP",
         "marker": {
          "color": "#636efa",
          "symbol": "circle"
         },
         "mode": "markers",
         "name": "CENTENNIAL SURGERY CENTER LP",
         "showlegend": true,
         "type": "scattergl",
         "x": [
          "VON KHAMKEN",
          "MICHAEL SANTI",
          "AARON ELMORE",
          "PRISILA SALINAS",
          "STEVEN SPERRING",
          "TREVOR ELDRED"
         ],
         "xaxis": "x",
         "y": [
          62,
          86,
          106,
          91,
          312,
          106
         ],
         "yaxis": "y"
        },
        {
         "hovertemplate": "to_facility=FOOT AND ANKLE SPECIALISTS OF MIDDLE TENNESSEE<br>from_physician=%{x}<br>patient_count=%{y}<extra></extra>",
         "legendgroup": "FOOT AND ANKLE SPECIALISTS OF MIDDLE TENNESSEE",
         "marker": {
          "color": "#EF553B",
          "symbol": "circle"
         },
         "mode": "markers",
         "name": "FOOT AND ANKLE SPECIALISTS OF MIDDLE TENNESSEE",
         "showlegend": true,
         "type": "scattergl",
         "x": [
          "MEEGHAN GILES"
         ],
         "xaxis": "x",
         "y": [
          205
         ],
         "yaxis": "y"
        },
        {
         "hovertemplate": "to_facility=MIDTOWN HEALTH, PLLC<br>from_physician=%{x}<br>patient_count=%{y}<extra></extra>",
         "legendgroup": "MIDTOWN HEALTH, PLLC",
         "marker": {
          "color": "#00cc96",
          "symbol": "circle"
         },
         "mode": "markers",
         "name": "MIDTOWN HEALTH, PLLC",
         "showlegend": true,
         "type": "scattergl",
         "x": [
          "CHADWICK JAMES"
         ],
         "xaxis": "x",
         "y": [
          102
         ],
         "yaxis": "y"
        },
        {
         "hovertemplate": "to_facility=SOUTHERN ANESTHESIA CONSULTANTS LLC<br>from_physician=%{x}<br>patient_count=%{y}<extra></extra>",
         "legendgroup": "SOUTHERN ANESTHESIA CONSULTANTS LLC",
         "marker": {
          "color": "#ab63fa",
          "symbol": "circle"
         },
         "mode": "markers",
         "name": "SOUTHERN ANESTHESIA CONSULTANTS LLC",
         "showlegend": true,
         "type": "scattergl",
         "x": [
          "STEVEN WADE"
         ],
         "xaxis": "x",
         "y": [
          241
         ],
         "yaxis": "y"
        },
        {
         "hovertemplate": "to_facility=ODYSSEY HEALTHCARE OPERATING A LP<br>from_physician=%{x}<br>patient_count=%{y}<extra></extra>",
         "legendgroup": "ODYSSEY HEALTHCARE OPERATING A LP",
         "marker": {
          "color": "#FFA15A",
          "symbol": "circle"
         },
         "mode": "markers",
         "name": "ODYSSEY HEALTHCARE OPERATING A LP",
         "showlegend": true,
         "type": "scattergl",
         "x": [
          "ALEXIS BRADDOCK",
          "BLAIR LEYHEW"
         ],
         "xaxis": "x",
         "y": [
          91,
          60
         ],
         "yaxis": "y"
        },
        {
         "hovertemplate": "to_facility=GASTROENTEROLOGY ASSOCIATES AT THE SUMMIT, P.C.<br>from_physician=%{x}<br>patient_count=%{y}<extra></extra>",
         "legendgroup": "GASTROENTEROLOGY ASSOCIATES AT THE SUMMIT, P.C.",
         "marker": {
          "color": "#19d3f3",
          "symbol": "circle"
         },
         "mode": "markers",
         "name": "GASTROENTEROLOGY ASSOCIATES AT THE SUMMIT, P.C.",
         "showlegend": true,
         "type": "scattergl",
         "x": [
          "MAURICE BARNES, M.D."
         ],
         "xaxis": "x",
         "y": [
          261
         ],
         "yaxis": "y"
        },
        {
         "hovertemplate": "to_facility=SASH HEALTHCARE, PLC<br>from_physician=%{x}<br>patient_count=%{y}<extra></extra>",
         "legendgroup": "SASH HEALTHCARE, PLC",
         "marker": {
          "color": "#FF6692",
          "symbol": "circle"
         },
         "mode": "markers",
         "name": "SASH HEALTHCARE, PLC",
         "showlegend": true,
         "type": "scattergl",
         "x": [
          "GERARD SHU TANGYIE"
         ],
         "xaxis": "x",
         "y": [
          227
         ],
         "yaxis": "y"
        },
        {
         "hovertemplate": "to_facility=WILLOWBROOK HOSPICE, INC.<br>from_physician=%{x}<br>patient_count=%{y}<extra></extra>",
         "legendgroup": "WILLOWBROOK HOSPICE, INC.",
         "marker": {
          "color": "#B6E880",
          "symbol": "circle"
         },
         "mode": "markers",
         "name": "WILLOWBROOK HOSPICE, INC.",
         "showlegend": true,
         "type": "scattergl",
         "x": [
          "HENRY LAU"
         ],
         "xaxis": "x",
         "y": [
          111
         ],
         "yaxis": "y"
        },
        {
         "hovertemplate": "to_facility=BRENTWOOD DERMATOLOGY<br>from_physician=%{x}<br>patient_count=%{y}<extra></extra>",
         "legendgroup": "BRENTWOOD DERMATOLOGY",
         "marker": {
          "color": "#FF97FF",
          "symbol": "circle"
         },
         "mode": "markers",
         "name": "BRENTWOOD DERMATOLOGY",
         "showlegend": true,
         "type": "scattergl",
         "x": [
          "WILLIAM MCDANIEL"
         ],
         "xaxis": "x",
         "y": [
          1266
         ],
         "yaxis": "y"
        },
        {
         "hovertemplate": "to_facility=WATSON PRIMARY CARE PLLC<br>from_physician=%{x}<br>patient_count=%{y}<extra></extra>",
         "legendgroup": "WATSON PRIMARY CARE PLLC",
         "marker": {
          "color": "#FECB52",
          "symbol": "circle"
         },
         "mode": "markers",
         "name": "WATSON PRIMARY CARE PLLC",
         "showlegend": true,
         "type": "scattergl",
         "x": [
          "STEPHEN WATSON"
         ],
         "xaxis": "x",
         "y": [
          97
         ],
         "yaxis": "y"
        },
        {
         "hovertemplate": "to_facility=TOTAL BODY HEALTHCARE, INC<br>from_physician=%{x}<br>patient_count=%{y}<extra></extra>",
         "legendgroup": "TOTAL BODY HEALTHCARE, INC",
         "marker": {
          "color": "#636efa",
          "symbol": "circle"
         },
         "mode": "markers",
         "name": "TOTAL BODY HEALTHCARE, INC",
         "showlegend": true,
         "type": "scattergl",
         "x": [
          "ALBERT THOMAS"
         ],
         "xaxis": "x",
         "y": [
          31
         ],
         "yaxis": "y"
        },
        {
         "hovertemplate": "to_facility=HEALTH4LIFE CHIROPRACTIC, INC<br>from_physician=%{x}<br>patient_count=%{y}<extra></extra>",
         "legendgroup": "HEALTH4LIFE CHIROPRACTIC, INC",
         "marker": {
          "color": "#EF553B",
          "symbol": "circle"
         },
         "mode": "markers",
         "name": "HEALTH4LIFE CHIROPRACTIC, INC",
         "showlegend": true,
         "type": "scattergl",
         "x": [
          "ADAM BROWN",
          "ZSOLT MULLER"
         ],
         "xaxis": "x",
         "y": [
          38,
          14
         ],
         "yaxis": "y"
        },
        {
         "hovertemplate": "to_facility=LASCASSAS EYE CARE PLLC<br>from_physician=%{x}<br>patient_count=%{y}<extra></extra>",
         "legendgroup": "LASCASSAS EYE CARE PLLC",
         "marker": {
          "color": "#00cc96",
          "symbol": "circle"
         },
         "mode": "markers",
         "name": "LASCASSAS EYE CARE PLLC",
         "showlegend": true,
         "type": "scattergl",
         "x": [
          "MARY MCCUBBIN"
         ],
         "xaxis": "x",
         "y": [
          56
         ],
         "yaxis": "y"
        },
        {
         "hovertemplate": "to_facility=MERCY HEALTH SERVICES, INC.<br>from_physician=%{x}<br>patient_count=%{y}<extra></extra>",
         "legendgroup": "MERCY HEALTH SERVICES, INC.",
         "marker": {
          "color": "#ab63fa",
          "symbol": "circle"
         },
         "mode": "markers",
         "name": "MERCY HEALTH SERVICES, INC.",
         "showlegend": true,
         "type": "scattergl",
         "x": [
          "ANNE FOTTRELL",
          "CHRISTINE BETT-BELLEAU",
          "JASON TILLMAN"
         ],
         "xaxis": "x",
         "y": [
          24,
          34,
          52
         ],
         "yaxis": "y"
        },
        {
         "hovertemplate": "to_facility=TWIN OAKS PRIMARY CARE, INC.<br>from_physician=%{x}<br>patient_count=%{y}<extra></extra>",
         "legendgroup": "TWIN OAKS PRIMARY CARE, INC.",
         "marker": {
          "color": "#FFA15A",
          "symbol": "circle"
         },
         "mode": "markers",
         "name": "TWIN OAKS PRIMARY CARE, INC.",
         "showlegend": true,
         "type": "scattergl",
         "x": [
          "MICHAEL MACQUARRIE"
         ],
         "xaxis": "x",
         "y": [
          160
         ],
         "yaxis": "y"
        },
        {
         "hovertemplate": "to_facility=PINEWOOD MEDICAL LLC<br>from_physician=%{x}<br>patient_count=%{y}<extra></extra>",
         "legendgroup": "PINEWOOD MEDICAL LLC",
         "marker": {
          "color": "#19d3f3",
          "symbol": "circle"
         },
         "mode": "markers",
         "name": "PINEWOOD MEDICAL LLC",
         "showlegend": true,
         "type": "scattergl",
         "x": [
          "SUSAN ORSBON"
         ],
         "xaxis": "x",
         "y": [
          63
         ],
         "yaxis": "y"
        },
        {
         "hovertemplate": "to_facility=PROHEALTH RURAL HEALTH SERVICES, INC<br>from_physician=%{x}<br>patient_count=%{y}<extra></extra>",
         "legendgroup": "PROHEALTH RURAL HEALTH SERVICES, INC",
         "marker": {
          "color": "#FF6692",
          "symbol": "circle"
         },
         "mode": "markers",
         "name": "PROHEALTH RURAL HEALTH SERVICES, INC",
         "showlegend": true,
         "type": "scattergl",
         "x": [
          "BILL SEKULOVSKI"
         ],
         "xaxis": "x",
         "y": [
          108
         ],
         "yaxis": "y"
        },
        {
         "hovertemplate": "to_facility=COOL SPRINGS EYECARE, PLLC<br>from_physician=%{x}<br>patient_count=%{y}<extra></extra>",
         "legendgroup": "COOL SPRINGS EYECARE, PLLC",
         "marker": {
          "color": "#B6E880",
          "symbol": "circle"
         },
         "mode": "markers",
         "name": "COOL SPRINGS EYECARE, PLLC",
         "showlegend": true,
         "type": "scattergl",
         "x": [
          "MELISSA DOW"
         ],
         "xaxis": "x",
         "y": [
          142
         ],
         "yaxis": "y"
        },
        {
         "hovertemplate": "to_facility=CONVENIENT & CARING CLINICS, PLLC<br>from_physician=%{x}<br>patient_count=%{y}<extra></extra>",
         "legendgroup": "CONVENIENT & CARING CLINICS, PLLC",
         "marker": {
          "color": "#FF97FF",
          "symbol": "circle"
         },
         "mode": "markers",
         "name": "CONVENIENT & CARING CLINICS, PLLC",
         "showlegend": true,
         "type": "scattergl",
         "x": [
          "SOUTHIDA SENGSAYADETH",
          "STEVEN HATCHER"
         ],
         "xaxis": "x",
         "y": [
          72,
          63
         ],
         "yaxis": "y"
        },
        {
         "hovertemplate": "to_facility=TENNESSEE ORTHOPEDICS, P.C.<br>from_physician=%{x}<br>patient_count=%{y}<extra></extra>",
         "legendgroup": "TENNESSEE ORTHOPEDICS, P.C.",
         "marker": {
          "color": "#FECB52",
          "symbol": "circle"
         },
         "mode": "markers",
         "name": "TENNESSEE ORTHOPEDICS, P.C.",
         "showlegend": true,
         "type": "scattergl",
         "x": [
          "CHRISTINA WOODS",
          "MARIE WISER"
         ],
         "xaxis": "x",
         "y": [
          56,
          25
         ],
         "yaxis": "y"
        },
        {
         "hovertemplate": "to_facility=AMEDISYS TENNESSEE, LLC<br>from_physician=%{x}<br>patient_count=%{y}<extra></extra>",
         "legendgroup": "AMEDISYS TENNESSEE, LLC",
         "marker": {
          "color": "#636efa",
          "symbol": "circle"
         },
         "mode": "markers",
         "name": "AMEDISYS TENNESSEE, LLC",
         "showlegend": true,
         "type": "scattergl",
         "x": [
          "CAMERON SHEARER"
         ],
         "xaxis": "x",
         "y": [
          47
         ],
         "yaxis": "y"
        },
        {
         "hovertemplate": "to_facility=FAMILY PODIATRY CENTER, P.C.<br>from_physician=%{x}<br>patient_count=%{y}<extra></extra>",
         "legendgroup": "FAMILY PODIATRY CENTER, P.C.",
         "marker": {
          "color": "#EF553B",
          "symbol": "circle"
         },
         "mode": "markers",
         "name": "FAMILY PODIATRY CENTER, P.C.",
         "showlegend": true,
         "type": "scattergl",
         "x": [
          "WILLIAM COHEN"
         ],
         "xaxis": "x",
         "y": [
          339
         ],
         "yaxis": "y"
        },
        {
         "hovertemplate": "to_facility=CARESPOT OF MURFREESBORO (1340 BROAD STREET), LLC<br>from_physician=%{x}<br>patient_count=%{y}<extra></extra>",
         "legendgroup": "CARESPOT OF MURFREESBORO (1340 BROAD STREET), LLC",
         "marker": {
          "color": "#00cc96",
          "symbol": "circle"
         },
         "mode": "markers",
         "name": "CARESPOT OF MURFREESBORO (1340 BROAD STREET), LLC",
         "showlegend": true,
         "type": "scattergl",
         "x": [
          "JILL WENTZ"
         ],
         "xaxis": "x",
         "y": [
          54
         ],
         "yaxis": "y"
        },
        {
         "hovertemplate": "to_facility=TOD R BUSHMAN DPM PC<br>from_physician=%{x}<br>patient_count=%{y}<extra></extra>",
         "legendgroup": "TOD R BUSHMAN DPM PC",
         "marker": {
          "color": "#ab63fa",
          "symbol": "circle"
         },
         "mode": "markers",
         "name": "TOD R BUSHMAN DPM PC",
         "showlegend": true,
         "type": "scattergl",
         "x": [
          "TOD BUSHMAN"
         ],
         "xaxis": "x",
         "y": [
          101
         ],
         "yaxis": "y"
        },
        {
         "hovertemplate": "to_facility=STEWART MENTAL HEALTH<br>from_physician=%{x}<br>patient_count=%{y}<extra></extra>",
         "legendgroup": "STEWART MENTAL HEALTH",
         "marker": {
          "color": "#FFA15A",
          "symbol": "circle"
         },
         "mode": "markers",
         "name": "STEWART MENTAL HEALTH",
         "showlegend": true,
         "type": "scattergl",
         "x": [
          "SHARON STEWART"
         ],
         "xaxis": "x",
         "y": [
          83
         ],
         "yaxis": "y"
        },
        {
         "hovertemplate": "to_facility=CRYSTAL CHIROPRACTIC PC<br>from_physician=%{x}<br>patient_count=%{y}<extra></extra>",
         "legendgroup": "CRYSTAL CHIROPRACTIC PC",
         "marker": {
          "color": "#19d3f3",
          "symbol": "circle"
         },
         "mode": "markers",
         "name": "CRYSTAL CHIROPRACTIC PC",
         "showlegend": true,
         "type": "scattergl",
         "x": [
          "REJEANA CRYSTAL",
          "KEITH CRYSTAL"
         ],
         "xaxis": "x",
         "y": [
          24,
          24
         ],
         "yaxis": "y"
        },
        {
         "hovertemplate": "to_facility=MT. JULIET FAMILY CARE AND WALK-IN CLINIC, LLC<br>from_physician=%{x}<br>patient_count=%{y}<extra></extra>",
         "legendgroup": "MT. JULIET FAMILY CARE AND WALK-IN CLINIC, LLC",
         "marker": {
          "color": "#FF6692",
          "symbol": "circle"
         },
         "mode": "markers",
         "name": "MT. JULIET FAMILY CARE AND WALK-IN CLINIC, LLC",
         "showlegend": true,
         "type": "scattergl",
         "x": [
          "JIMMY CHEEKS"
         ],
         "xaxis": "x",
         "y": [
          197
         ],
         "yaxis": "y"
        },
        {
         "hovertemplate": "to_facility=MIDDLE TENNESSEE MEDICAL INC.<br>from_physician=%{x}<br>patient_count=%{y}<extra></extra>",
         "legendgroup": "MIDDLE TENNESSEE MEDICAL INC.",
         "marker": {
          "color": "#B6E880",
          "symbol": "circle"
         },
         "mode": "markers",
         "name": "MIDDLE TENNESSEE MEDICAL INC.",
         "showlegend": true,
         "type": "scattergl",
         "x": [
          "SUE LEE"
         ],
         "xaxis": "x",
         "y": [
          85
         ],
         "yaxis": "y"
        },
        {
         "hovertemplate": "to_facility=CARDIOVASCULAR INSTITUTE PC<br>from_physician=%{x}<br>patient_count=%{y}<extra></extra>",
         "legendgroup": "CARDIOVASCULAR INSTITUTE PC",
         "marker": {
          "color": "#FF97FF",
          "symbol": "circle"
         },
         "mode": "markers",
         "name": "CARDIOVASCULAR INSTITUTE PC",
         "showlegend": true,
         "type": "scattergl",
         "x": [
          "RAM SHARMA"
         ],
         "xaxis": "x",
         "y": [
          520
         ],
         "yaxis": "y"
        },
        {
         "hovertemplate": "to_facility=HENDERSONVILLE HOSPITAL CORPORATION<br>from_physician=%{x}<br>patient_count=%{y}<extra></extra>",
         "legendgroup": "HENDERSONVILLE HOSPITAL CORPORATION",
         "marker": {
          "color": "#FECB52",
          "symbol": "circle"
         },
         "mode": "markers",
         "name": "HENDERSONVILLE HOSPITAL CORPORATION",
         "showlegend": true,
         "type": "scattergl",
         "x": [
          "DESIRAE TWILLA",
          "LUKE CANADA",
          "MICHAEL BERNUI"
         ],
         "xaxis": "x",
         "y": [
          62,
          77,
          40
         ],
         "yaxis": "y"
        },
        {
         "hovertemplate": "to_facility=SCALES NUTRITION AND WELLNESS CENTER, PLLC<br>from_physician=%{x}<br>patient_count=%{y}<extra></extra>",
         "legendgroup": "SCALES NUTRITION AND WELLNESS CENTER, PLLC",
         "marker": {
          "color": "#636efa",
          "symbol": "circle"
         },
         "mode": "markers",
         "name": "SCALES NUTRITION AND WELLNESS CENTER, PLLC",
         "showlegend": true,
         "type": "scattergl",
         "x": [
          "THOMAS SCALES"
         ],
         "xaxis": "x",
         "y": [
          105
         ],
         "yaxis": "y"
        },
        {
         "hovertemplate": "to_facility=RISHI K SAXENA MD PC<br>from_physician=%{x}<br>patient_count=%{y}<extra></extra>",
         "legendgroup": "RISHI K SAXENA MD PC",
         "marker": {
          "color": "#EF553B",
          "symbol": "circle"
         },
         "mode": "markers",
         "name": "RISHI K SAXENA MD PC",
         "showlegend": true,
         "type": "scattergl",
         "x": [
          "RISHI SAXENA"
         ],
         "xaxis": "x",
         "y": [
          158
         ],
         "yaxis": "y"
        },
        {
         "hovertemplate": "to_facility=HH NUSS DPM INC PC<br>from_physician=%{x}<br>patient_count=%{y}<extra></extra>",
         "legendgroup": "HH NUSS DPM INC PC",
         "marker": {
          "color": "#00cc96",
          "symbol": "circle"
         },
         "mode": "markers",
         "name": "HH NUSS DPM INC PC",
         "showlegend": true,
         "type": "scattergl",
         "x": [
          "HOWARD NUSS"
         ],
         "xaxis": "x",
         "y": [
          212
         ],
         "yaxis": "y"
        },
        {
         "hovertemplate": "to_facility=NASHVILLE CARDIOLOGY CONSULTANTS, PC<br>from_physician=%{x}<br>patient_count=%{y}<extra></extra>",
         "legendgroup": "NASHVILLE CARDIOLOGY CONSULTANTS, PC",
         "marker": {
          "color": "#ab63fa",
          "symbol": "circle"
         },
         "mode": "markers",
         "name": "NASHVILLE CARDIOLOGY CONSULTANTS, PC",
         "showlegend": true,
         "type": "scattergl",
         "x": [
          "MARCEL ELUHU"
         ],
         "xaxis": "x",
         "y": [
          77
         ],
         "yaxis": "y"
        },
        {
         "hovertemplate": "to_facility=PRO MOTION PHYSICAL THERAPY LLC<br>from_physician=%{x}<br>patient_count=%{y}<extra></extra>",
         "legendgroup": "PRO MOTION PHYSICAL THERAPY LLC",
         "marker": {
          "color": "#FFA15A",
          "symbol": "circle"
         },
         "mode": "markers",
         "name": "PRO MOTION PHYSICAL THERAPY LLC",
         "showlegend": true,
         "type": "scattergl",
         "x": [
          "PERRY SMITH"
         ],
         "xaxis": "x",
         "y": [
          15
         ],
         "yaxis": "y"
        },
        {
         "hovertemplate": "to_facility=TRISTAR MEDICAL GROUP - CENTENNIAL PRIMARY CARE, LLC<br>from_physician=%{x}<br>patient_count=%{y}<extra></extra>",
         "legendgroup": "TRISTAR MEDICAL GROUP - CENTENNIAL PRIMARY CARE, LLC",
         "marker": {
          "color": "#19d3f3",
          "symbol": "circle"
         },
         "mode": "markers",
         "name": "TRISTAR MEDICAL GROUP - CENTENNIAL PRIMARY CARE, LLC",
         "showlegend": true,
         "type": "scattergl",
         "x": [
          "TAMERA PACE"
         ],
         "xaxis": "x",
         "y": [
          165
         ],
         "yaxis": "y"
        },
        {
         "hovertemplate": "to_facility=TRILBY E. WILLIAMS, M.D., PLLC<br>from_physician=%{x}<br>patient_count=%{y}<extra></extra>",
         "legendgroup": "TRILBY E. WILLIAMS, M.D., PLLC",
         "marker": {
          "color": "#FF6692",
          "symbol": "circle"
         },
         "mode": "markers",
         "name": "TRILBY E. WILLIAMS, M.D., PLLC",
         "showlegend": true,
         "type": "scattergl",
         "x": [
          "TRILBY WILLIAMS"
         ],
         "xaxis": "x",
         "y": [
          103
         ],
         "yaxis": "y"
        },
        {
         "hovertemplate": "to_facility=TENNESSEE FOOT & ANKLE SPECIALISTS PC<br>from_physician=%{x}<br>patient_count=%{y}<extra></extra>",
         "legendgroup": "TENNESSEE FOOT & ANKLE SPECIALISTS PC",
         "marker": {
          "color": "#B6E880",
          "symbol": "circle"
         },
         "mode": "markers",
         "name": "TENNESSEE FOOT & ANKLE SPECIALISTS PC",
         "showlegend": true,
         "type": "scattergl",
         "x": [
          "JUSTIN JEX"
         ],
         "xaxis": "x",
         "y": [
          123
         ],
         "yaxis": "y"
        },
        {
         "hovertemplate": "to_facility=ALLEGRY & ENT ASSOCIATES OF MIDDLE TENNESSEE, P.C.<br>from_physician=%{x}<br>patient_count=%{y}<extra></extra>",
         "legendgroup": "ALLEGRY & ENT ASSOCIATES OF MIDDLE TENNESSEE, P.C.",
         "marker": {
          "color": "#FF97FF",
          "symbol": "circle"
         },
         "mode": "markers",
         "name": "ALLEGRY & ENT ASSOCIATES OF MIDDLE TENNESSEE, P.C.",
         "showlegend": true,
         "type": "scattergl",
         "x": [
          "SARAH WYATT"
         ],
         "xaxis": "x",
         "y": [
          191
         ],
         "yaxis": "y"
        },
        {
         "hovertemplate": "to_facility=PRIMARY EYECARE GROUP, P.C.<br>from_physician=%{x}<br>patient_count=%{y}<extra></extra>",
         "legendgroup": "PRIMARY EYECARE GROUP, P.C.",
         "marker": {
          "color": "#FECB52",
          "symbol": "circle"
         },
         "mode": "markers",
         "name": "PRIMARY EYECARE GROUP, P.C.",
         "showlegend": true,
         "type": "scattergl",
         "x": [
          "PETER VAN HOVEN",
          "KENNETH YOUNG",
          "NICHOLAS ENGLE"
         ],
         "xaxis": "x",
         "y": [
          285,
          132,
          56
         ],
         "yaxis": "y"
        },
        {
         "hovertemplate": "to_facility=ALLERGY & ASTHMA CENTERS, PC<br>from_physician=%{x}<br>patient_count=%{y}<extra></extra>",
         "legendgroup": "ALLERGY & ASTHMA CENTERS, PC",
         "marker": {
          "color": "#636efa",
          "symbol": "circle"
         },
         "mode": "markers",
         "name": "ALLERGY & ASTHMA CENTERS, PC",
         "showlegend": true,
         "type": "scattergl",
         "x": [
          "STEVEN TATE"
         ],
         "xaxis": "x",
         "y": [
          36
         ],
         "yaxis": "y"
        },
        {
         "hovertemplate": "to_facility=CENTER FOR INFLAMMATORY DISEASE, PC<br>from_physician=%{x}<br>patient_count=%{y}<extra></extra>",
         "legendgroup": "CENTER FOR INFLAMMATORY DISEASE, PC",
         "marker": {
          "color": "#EF553B",
          "symbol": "circle"
         },
         "mode": "markers",
         "name": "CENTER FOR INFLAMMATORY DISEASE, PC",
         "showlegend": true,
         "type": "scattergl",
         "x": [
          "ROBERT LAGRONE"
         ],
         "xaxis": "x",
         "y": [
          421
         ],
         "yaxis": "y"
        },
        {
         "hovertemplate": "to_facility=PRAMOD B. WASUDEV, M.D., PLLC<br>from_physician=%{x}<br>patient_count=%{y}<extra></extra>",
         "legendgroup": "PRAMOD B. WASUDEV, M.D., PLLC",
         "marker": {
          "color": "#00cc96",
          "symbol": "circle"
         },
         "mode": "markers",
         "name": "PRAMOD B. WASUDEV, M.D., PLLC",
         "showlegend": true,
         "type": "scattergl",
         "x": [
          "PRAMOD WASUDEV"
         ],
         "xaxis": "x",
         "y": [
          48
         ],
         "yaxis": "y"
        },
        {
         "hovertemplate": "to_facility=FOR YOUR WELLNESS CHIROPRACTIC, LLC<br>from_physician=%{x}<br>patient_count=%{y}<extra></extra>",
         "legendgroup": "FOR YOUR WELLNESS CHIROPRACTIC, LLC",
         "marker": {
          "color": "#ab63fa",
          "symbol": "circle"
         },
         "mode": "markers",
         "name": "FOR YOUR WELLNESS CHIROPRACTIC, LLC",
         "showlegend": true,
         "type": "scattergl",
         "x": [
          "KRISTEN WALKERWICZ"
         ],
         "xaxis": "x",
         "y": [
          16
         ],
         "yaxis": "y"
        },
        {
         "hovertemplate": "to_facility=STEWART SHOFNER MD PC<br>from_physician=%{x}<br>patient_count=%{y}<extra></extra>",
         "legendgroup": "STEWART SHOFNER MD PC",
         "marker": {
          "color": "#FFA15A",
          "symbol": "circle"
         },
         "mode": "markers",
         "name": "STEWART SHOFNER MD PC",
         "showlegend": true,
         "type": "scattergl",
         "x": [
          "ROBERT SHOFNER"
         ],
         "xaxis": "x",
         "y": [
          282
         ],
         "yaxis": "y"
        },
        {
         "hovertemplate": "to_facility=PRECISION HEALTHCARE, INC.<br>from_physician=%{x}<br>patient_count=%{y}<extra></extra>",
         "legendgroup": "PRECISION HEALTHCARE, INC.",
         "marker": {
          "color": "#19d3f3",
          "symbol": "circle"
         },
         "mode": "markers",
         "name": "PRECISION HEALTHCARE, INC.",
         "showlegend": true,
         "type": "scattergl",
         "x": [
          "RUTH KNAB",
          "MARY DUFF",
          "NICOLE PAGE"
         ],
         "xaxis": "x",
         "y": [
          65,
          44,
          106
         ],
         "yaxis": "y"
        },
        {
         "hovertemplate": "to_facility=KATHERINE W. JONES, MD, PLC<br>from_physician=%{x}<br>patient_count=%{y}<extra></extra>",
         "legendgroup": "KATHERINE W. JONES, MD, PLC",
         "marker": {
          "color": "#FF6692",
          "symbol": "circle"
         },
         "mode": "markers",
         "name": "KATHERINE W. JONES, MD, PLC",
         "showlegend": true,
         "type": "scattergl",
         "x": [
          "KATHERINE JONES"
         ],
         "xaxis": "x",
         "y": [
          312
         ],
         "yaxis": "y"
        },
        {
         "hovertemplate": "to_facility=SUSAN DONAGHEY MD APMC<br>from_physician=%{x}<br>patient_count=%{y}<extra></extra>",
         "legendgroup": "SUSAN DONAGHEY MD APMC",
         "marker": {
          "color": "#B6E880",
          "symbol": "circle"
         },
         "mode": "markers",
         "name": "SUSAN DONAGHEY MD APMC",
         "showlegend": true,
         "type": "scattergl",
         "x": [
          "SUSANA DONAGHEY"
         ],
         "xaxis": "x",
         "y": [
          367
         ],
         "yaxis": "y"
        },
        {
         "hovertemplate": "to_facility=COOL SPRINGS OBSTETRICS & GYNECOLOGY, P.C.<br>from_physician=%{x}<br>patient_count=%{y}<extra></extra>",
         "legendgroup": "COOL SPRINGS OBSTETRICS & GYNECOLOGY, P.C.",
         "marker": {
          "color": "#FF97FF",
          "symbol": "circle"
         },
         "mode": "markers",
         "name": "COOL SPRINGS OBSTETRICS & GYNECOLOGY, P.C.",
         "showlegend": true,
         "type": "scattergl",
         "x": [
          "JEFFREY LODGE"
         ],
         "xaxis": "x",
         "y": [
          112
         ],
         "yaxis": "y"
        },
        {
         "hovertemplate": "to_facility=GORDONSVILLE CLINIC<br>from_physician=%{x}<br>patient_count=%{y}<extra></extra>",
         "legendgroup": "GORDONSVILLE CLINIC",
         "marker": {
          "color": "#FECB52",
          "symbol": "circle"
         },
         "mode": "markers",
         "name": "GORDONSVILLE CLINIC",
         "showlegend": true,
         "type": "scattergl",
         "x": [
          "ANGELA MOSS"
         ],
         "xaxis": "x",
         "y": [
          258
         ],
         "yaxis": "y"
        },
        {
         "hovertemplate": "to_facility=SURESH C. SARASWAT, MD, PC<br>from_physician=%{x}<br>patient_count=%{y}<extra></extra>",
         "legendgroup": "SURESH C. SARASWAT, MD, PC",
         "marker": {
          "color": "#636efa",
          "symbol": "circle"
         },
         "mode": "markers",
         "name": "SURESH C. SARASWAT, MD, PC",
         "showlegend": true,
         "type": "scattergl",
         "x": [
          "SURESH SARASWAT"
         ],
         "xaxis": "x",
         "y": [
          150
         ],
         "yaxis": "y"
        },
        {
         "hovertemplate": "to_facility=PULLIAM MIDDLE TENNESSEE SURGICAL ASSOCIATES PLLC<br>from_physician=%{x}<br>patient_count=%{y}<extra></extra>",
         "legendgroup": "PULLIAM MIDDLE TENNESSEE SURGICAL ASSOCIATES PLLC",
         "marker": {
          "color": "#EF553B",
          "symbol": "circle"
         },
         "mode": "markers",
         "name": "PULLIAM MIDDLE TENNESSEE SURGICAL ASSOCIATES PLLC",
         "showlegend": true,
         "type": "scattergl",
         "x": [
          "SINA IRANMANESH"
         ],
         "xaxis": "x",
         "y": [
          125
         ],
         "yaxis": "y"
        },
        {
         "hovertemplate": "to_facility=IN STEP FOOT & ANKLE CARE PC<br>from_physician=%{x}<br>patient_count=%{y}<extra></extra>",
         "legendgroup": "IN STEP FOOT & ANKLE CARE PC",
         "marker": {
          "color": "#00cc96",
          "symbol": "circle"
         },
         "mode": "markers",
         "name": "IN STEP FOOT & ANKLE CARE PC",
         "showlegend": true,
         "type": "scattergl",
         "x": [
          "IRENE CAMPBELL"
         ],
         "xaxis": "x",
         "y": [
          1114
         ],
         "yaxis": "y"
        },
        {
         "hovertemplate": "to_facility=IMPACT PHYSICAL THERAPY, LLC<br>from_physician=%{x}<br>patient_count=%{y}<extra></extra>",
         "legendgroup": "IMPACT PHYSICAL THERAPY, LLC",
         "marker": {
          "color": "#ab63fa",
          "symbol": "circle"
         },
         "mode": "markers",
         "name": "IMPACT PHYSICAL THERAPY, LLC",
         "showlegend": true,
         "type": "scattergl",
         "x": [
          "JOHN BOUCHER"
         ],
         "xaxis": "x",
         "y": [
          33
         ],
         "yaxis": "y"
        },
        {
         "hovertemplate": "to_facility=LONG HOLLOW CHIROPRACTIC LLC<br>from_physician=%{x}<br>patient_count=%{y}<extra></extra>",
         "legendgroup": "LONG HOLLOW CHIROPRACTIC LLC",
         "marker": {
          "color": "#FFA15A",
          "symbol": "circle"
         },
         "mode": "markers",
         "name": "LONG HOLLOW CHIROPRACTIC LLC",
         "showlegend": true,
         "type": "scattergl",
         "x": [
          "STEVEN KOESTER"
         ],
         "xaxis": "x",
         "y": [
          22
         ],
         "yaxis": "y"
        },
        {
         "hovertemplate": "to_facility=ADVANCED HEALTH AND WELLNESS CENTER OF NASHVILLE LLC<br>from_physician=%{x}<br>patient_count=%{y}<extra></extra>",
         "legendgroup": "ADVANCED HEALTH AND WELLNESS CENTER OF NASHVILLE LLC",
         "marker": {
          "color": "#19d3f3",
          "symbol": "circle"
         },
         "mode": "markers",
         "name": "ADVANCED HEALTH AND WELLNESS CENTER OF NASHVILLE LLC",
         "showlegend": true,
         "type": "scattergl",
         "x": [
          "TRAVIS MORGAN"
         ],
         "xaxis": "x",
         "y": [
          11
         ],
         "yaxis": "y"
        },
        {
         "hovertemplate": "to_facility=THE ALLERGY AND ASTHMA CENTER, P.C.<br>from_physician=%{x}<br>patient_count=%{y}<extra></extra>",
         "legendgroup": "THE ALLERGY AND ASTHMA CENTER, P.C.",
         "marker": {
          "color": "#FF6692",
          "symbol": "circle"
         },
         "mode": "markers",
         "name": "THE ALLERGY AND ASTHMA CENTER, P.C.",
         "showlegend": true,
         "type": "scattergl",
         "x": [
          "CSABA RUSZNAK",
          "MARTHA BUTTERFIELD",
          "LESLIE NEWMAN",
          "EVA MILLER"
         ],
         "xaxis": "x",
         "y": [
          88,
          59,
          21,
          29
         ],
         "yaxis": "y"
        },
        {
         "hovertemplate": "to_facility=SKYLINE WOMENS HEALTH ASSOCIATES<br>from_physician=%{x}<br>patient_count=%{y}<extra></extra>",
         "legendgroup": "SKYLINE WOMENS HEALTH ASSOCIATES",
         "marker": {
          "color": "#B6E880",
          "symbol": "circle"
         },
         "mode": "markers",
         "name": "SKYLINE WOMENS HEALTH ASSOCIATES",
         "showlegend": true,
         "type": "scattergl",
         "x": [
          "SARA HABIBIAN",
          "JAMES MILLER"
         ],
         "xaxis": "x",
         "y": [
          99,
          154
         ],
         "yaxis": "y"
        },
        {
         "hovertemplate": "to_facility=CENTENNIAL PSYCHIATRIC ASSOCIATES, LLC<br>from_physician=%{x}<br>patient_count=%{y}<extra></extra>",
         "legendgroup": "CENTENNIAL PSYCHIATRIC ASSOCIATES, LLC",
         "marker": {
          "color": "#FF97FF",
          "symbol": "circle"
         },
         "mode": "markers",
         "name": "CENTENNIAL PSYCHIATRIC ASSOCIATES, LLC",
         "showlegend": true,
         "type": "scattergl",
         "x": [
          "ROBERT YATES",
          "JEFFREY ANDERSON",
          "BORIS VOINOV",
          "WILLIAM HINDS",
          "ANDREI AVENIDO",
          "JAMES MCFERRIN",
          "JAYMIE AVENIDO",
          "SARAN MUDUMBI"
         ],
         "xaxis": "x",
         "y": [
          89,
          241,
          78,
          47,
          268,
          104,
          183,
          64
         ],
         "yaxis": "y"
        },
        {
         "hovertemplate": "to_facility=COLLIER EYECARE, PLLC<br>from_physician=%{x}<br>patient_count=%{y}<extra></extra>",
         "legendgroup": "COLLIER EYECARE, PLLC",
         "marker": {
          "color": "#FECB52",
          "symbol": "circle"
         },
         "mode": "markers",
         "name": "COLLIER EYECARE, PLLC",
         "showlegend": true,
         "type": "scattergl",
         "x": [
          "ELENA COLLIER"
         ],
         "xaxis": "x",
         "y": [
          46
         ],
         "yaxis": "y"
        },
        {
         "hovertemplate": "to_facility=TENNESSEE HEALTHCARE PARTNERS, LLC<br>from_physician=%{x}<br>patient_count=%{y}<extra></extra>",
         "legendgroup": "TENNESSEE HEALTHCARE PARTNERS, LLC",
         "marker": {
          "color": "#636efa",
          "symbol": "circle"
         },
         "mode": "markers",
         "name": "TENNESSEE HEALTHCARE PARTNERS, LLC",
         "showlegend": true,
         "type": "scattergl",
         "x": [
          "KRISTAL REED"
         ],
         "xaxis": "x",
         "y": [
          148
         ],
         "yaxis": "y"
        },
        {
         "hovertemplate": "to_facility=CEDAR GROVE MEDICAL ASSOCIATES,LLC<br>from_physician=%{x}<br>patient_count=%{y}<extra></extra>",
         "legendgroup": "CEDAR GROVE MEDICAL ASSOCIATES,LLC",
         "marker": {
          "color": "#EF553B",
          "symbol": "circle"
         },
         "mode": "markers",
         "name": "CEDAR GROVE MEDICAL ASSOCIATES,LLC",
         "showlegend": true,
         "type": "scattergl",
         "x": [
          "DANIELA CULLEN",
          "JACQUELINE PETERS",
          "TRACY CARTER"
         ],
         "xaxis": "x",
         "y": [
          67,
          111,
          39
         ],
         "yaxis": "y"
        },
        {
         "hovertemplate": "to_facility=ALPHA MEDICAL ASSOCIATES, INC<br>from_physician=%{x}<br>patient_count=%{y}<extra></extra>",
         "legendgroup": "ALPHA MEDICAL ASSOCIATES, INC",
         "marker": {
          "color": "#00cc96",
          "symbol": "circle"
         },
         "mode": "markers",
         "name": "ALPHA MEDICAL ASSOCIATES, INC",
         "showlegend": true,
         "type": "scattergl",
         "x": [
          "OLUFEMI ODUNUSI"
         ],
         "xaxis": "x",
         "y": [
          496
         ],
         "yaxis": "y"
        },
        {
         "hovertemplate": "to_facility=GARY J SMITH MD PC<br>from_physician=%{x}<br>patient_count=%{y}<extra></extra>",
         "legendgroup": "GARY J SMITH MD PC",
         "marker": {
          "color": "#ab63fa",
          "symbol": "circle"
         },
         "mode": "markers",
         "name": "GARY J SMITH MD PC",
         "showlegend": true,
         "type": "scattergl",
         "x": [
          "ELIZABETH EVERS"
         ],
         "xaxis": "x",
         "y": [
          860
         ],
         "yaxis": "y"
        },
        {
         "hovertemplate": "to_facility=GENESIS PALLIATIVE CARE, PLLC<br>from_physician=%{x}<br>patient_count=%{y}<extra></extra>",
         "legendgroup": "GENESIS PALLIATIVE CARE, PLLC",
         "marker": {
          "color": "#FFA15A",
          "symbol": "circle"
         },
         "mode": "markers",
         "name": "GENESIS PALLIATIVE CARE, PLLC",
         "showlegend": true,
         "type": "scattergl",
         "x": [
          "CHRISTOPHER PUCKETT"
         ],
         "xaxis": "x",
         "y": [
          40
         ],
         "yaxis": "y"
        },
        {
         "hovertemplate": "to_facility=LIVING WELL CENTER, PLLC<br>from_physician=%{x}<br>patient_count=%{y}<extra></extra>",
         "legendgroup": "LIVING WELL CENTER, PLLC",
         "marker": {
          "color": "#19d3f3",
          "symbol": "circle"
         },
         "mode": "markers",
         "name": "LIVING WELL CENTER, PLLC",
         "showlegend": true,
         "type": "scattergl",
         "x": [
          "KAREN BRIGGS"
         ],
         "xaxis": "x",
         "y": [
          30
         ],
         "yaxis": "y"
        },
        {
         "hovertemplate": "to_facility=MIDDLE TENNESSEE EYECARE PLLC<br>from_physician=%{x}<br>patient_count=%{y}<extra></extra>",
         "legendgroup": "MIDDLE TENNESSEE EYECARE PLLC",
         "marker": {
          "color": "#FF6692",
          "symbol": "circle"
         },
         "mode": "markers",
         "name": "MIDDLE TENNESSEE EYECARE PLLC",
         "showlegend": true,
         "type": "scattergl",
         "x": [
          "ANDREW COSTELLO"
         ],
         "xaxis": "x",
         "y": [
          120
         ],
         "yaxis": "y"
        },
        {
         "hovertemplate": "to_facility=SMITH COUNTY FAMILY MEDICAL LLC<br>from_physician=%{x}<br>patient_count=%{y}<extra></extra>",
         "legendgroup": "SMITH COUNTY FAMILY MEDICAL LLC",
         "marker": {
          "color": "#B6E880",
          "symbol": "circle"
         },
         "mode": "markers",
         "name": "SMITH COUNTY FAMILY MEDICAL LLC",
         "showlegend": true,
         "type": "scattergl",
         "x": [
          "KIMBERLY GREGORY"
         ],
         "xaxis": "x",
         "y": [
          87
         ],
         "yaxis": "y"
        },
        {
         "hovertemplate": "to_facility=HEIKKI E KOSTAMAA MD PC<br>from_physician=%{x}<br>patient_count=%{y}<extra></extra>",
         "legendgroup": "HEIKKI E KOSTAMAA MD PC",
         "marker": {
          "color": "#FF97FF",
          "symbol": "circle"
         },
         "mode": "markers",
         "name": "HEIKKI E KOSTAMAA MD PC",
         "showlegend": true,
         "type": "scattergl",
         "x": [
          "HEIKKI KOSTAMAA"
         ],
         "xaxis": "x",
         "y": [
          943
         ],
         "yaxis": "y"
        },
        {
         "hovertemplate": "to_facility=SPRING HILL SURGERY CENTER, LLC<br>from_physician=%{x}<br>patient_count=%{y}<extra></extra>",
         "legendgroup": "SPRING HILL SURGERY CENTER, LLC",
         "marker": {
          "color": "#FECB52",
          "symbol": "circle"
         },
         "mode": "markers",
         "name": "SPRING HILL SURGERY CENTER, LLC",
         "showlegend": true,
         "type": "scattergl",
         "x": [
          "DANIEL WEIKERT"
         ],
         "xaxis": "x",
         "y": [
          38
         ],
         "yaxis": "y"
        },
        {
         "hovertemplate": "to_facility=ORAL SURGICAL INSTITUTE INC<br>from_physician=%{x}<br>patient_count=%{y}<extra></extra>",
         "legendgroup": "ORAL SURGICAL INSTITUTE INC",
         "marker": {
          "color": "#636efa",
          "symbol": "circle"
         },
         "mode": "markers",
         "name": "ORAL SURGICAL INSTITUTE INC",
         "showlegend": true,
         "type": "scattergl",
         "x": [
          "ADAM PITTS"
         ],
         "xaxis": "x",
         "y": [
          52
         ],
         "yaxis": "y"
        },
        {
         "hovertemplate": "to_facility=TRACESIDE DERMATOLOGY AND ALLERGY PLC<br>from_physician=%{x}<br>patient_count=%{y}<extra></extra>",
         "legendgroup": "TRACESIDE DERMATOLOGY AND ALLERGY PLC",
         "marker": {
          "color": "#EF553B",
          "symbol": "circle"
         },
         "mode": "markers",
         "name": "TRACESIDE DERMATOLOGY AND ALLERGY PLC",
         "showlegend": true,
         "type": "scattergl",
         "x": [
          "AMY VALET"
         ],
         "xaxis": "x",
         "y": [
          131
         ],
         "yaxis": "y"
        },
        {
         "hovertemplate": "to_facility=JOHN E. ANDERSON<br>from_physician=%{x}<br>patient_count=%{y}<extra></extra>",
         "legendgroup": "JOHN E. ANDERSON",
         "marker": {
          "color": "#00cc96",
          "symbol": "circle"
         },
         "mode": "markers",
         "name": "JOHN E. ANDERSON",
         "showlegend": true,
         "type": "scattergl",
         "x": [
          "JOHN ANDERSON",
          "TERRI ANDERSON"
         ],
         "xaxis": "x",
         "y": [
          129,
          57
         ],
         "yaxis": "y"
        },
        {
         "hovertemplate": "to_facility=LOIS WAGSTROM M.D., P.C.<br>from_physician=%{x}<br>patient_count=%{y}<extra></extra>",
         "legendgroup": "LOIS WAGSTROM M.D., P.C.",
         "marker": {
          "color": "#ab63fa",
          "symbol": "circle"
         },
         "mode": "markers",
         "name": "LOIS WAGSTROM M.D., P.C.",
         "showlegend": true,
         "type": "scattergl",
         "x": [
          "LOIS WAGSTROM"
         ],
         "xaxis": "x",
         "y": [
          62
         ],
         "yaxis": "y"
        },
        {
         "hovertemplate": "to_facility=BRUCE L WOLF MD<br>from_physician=%{x}<br>patient_count=%{y}<extra></extra>",
         "legendgroup": "BRUCE L WOLF MD",
         "marker": {
          "color": "#FFA15A",
          "symbol": "circle"
         },
         "mode": "markers",
         "name": "BRUCE L WOLF MD",
         "showlegend": true,
         "type": "scattergl",
         "x": [
          "BRUCE WOLF"
         ],
         "xaxis": "x",
         "y": [
          171
         ],
         "yaxis": "y"
        },
        {
         "hovertemplate": "to_facility=PROGRESS IN MOTION, LLC<br>from_physician=%{x}<br>patient_count=%{y}<extra></extra>",
         "legendgroup": "PROGRESS IN MOTION, LLC",
         "marker": {
          "color": "#19d3f3",
          "symbol": "circle"
         },
         "mode": "markers",
         "name": "PROGRESS IN MOTION, LLC",
         "showlegend": true,
         "type": "scattergl",
         "x": [
          "DANIEL HEADRICK"
         ],
         "xaxis": "x",
         "y": [
          45
         ],
         "yaxis": "y"
        },
        {
         "hovertemplate": "to_facility=TENNESSEE IMAGING CONSULTANTS<br>from_physician=%{x}<br>patient_count=%{y}<extra></extra>",
         "legendgroup": "TENNESSEE IMAGING CONSULTANTS",
         "marker": {
          "color": "#FF6692",
          "symbol": "circle"
         },
         "mode": "markers",
         "name": "TENNESSEE IMAGING CONSULTANTS",
         "showlegend": true,
         "type": "scattergl",
         "x": [
          "BARRY ALLEN"
         ],
         "xaxis": "x",
         "y": [
          2747
         ],
         "yaxis": "y"
        },
        {
         "hovertemplate": "to_facility=RADNOR PSYCHIATRIC GROUP<br>from_physician=%{x}<br>patient_count=%{y}<extra></extra>",
         "legendgroup": "RADNOR PSYCHIATRIC GROUP",
         "marker": {
          "color": "#B6E880",
          "symbol": "circle"
         },
         "mode": "markers",
         "name": "RADNOR PSYCHIATRIC GROUP",
         "showlegend": true,
         "type": "scattergl",
         "x": [
          "RICHARD ROCHESTER"
         ],
         "xaxis": "x",
         "y": [
          130
         ],
         "yaxis": "y"
        },
        {
         "hovertemplate": "to_facility=FEAGINS MEDICAL GROUP, PLLC<br>from_physician=%{x}<br>patient_count=%{y}<extra></extra>",
         "legendgroup": "FEAGINS MEDICAL GROUP, PLLC",
         "marker": {
          "color": "#FF97FF",
          "symbol": "circle"
         },
         "mode": "markers",
         "name": "FEAGINS MEDICAL GROUP, PLLC",
         "showlegend": true,
         "type": "scattergl",
         "x": [
          "SHINDANA FEAGINS"
         ],
         "xaxis": "x",
         "y": [
          79
         ],
         "yaxis": "y"
        },
        {
         "hovertemplate": "to_facility=FAMILY HEALTH CARE OF GALLATIN<br>from_physician=%{x}<br>patient_count=%{y}<extra></extra>",
         "legendgroup": "FAMILY HEALTH CARE OF GALLATIN",
         "marker": {
          "color": "#FECB52",
          "symbol": "circle"
         },
         "mode": "markers",
         "name": "FAMILY HEALTH CARE OF GALLATIN",
         "showlegend": true,
         "type": "scattergl",
         "x": [
          "SUSAN ANDERSON"
         ],
         "xaxis": "x",
         "y": [
          105
         ],
         "yaxis": "y"
        },
        {
         "hovertemplate": "to_facility=OSLIN PLASTIC SURGERY PLLC<br>from_physician=%{x}<br>patient_count=%{y}<extra></extra>",
         "legendgroup": "OSLIN PLASTIC SURGERY PLLC",
         "marker": {
          "color": "#636efa",
          "symbol": "circle"
         },
         "mode": "markers",
         "name": "OSLIN PLASTIC SURGERY PLLC",
         "showlegend": true,
         "type": "scattergl",
         "x": [
          "BRYAN OSLIN"
         ],
         "xaxis": "x",
         "y": [
          143
         ],
         "yaxis": "y"
        },
        {
         "hovertemplate": "to_facility=WILLIAM C SMITH II OD PC<br>from_physician=%{x}<br>patient_count=%{y}<extra></extra>",
         "legendgroup": "WILLIAM C SMITH II OD PC",
         "marker": {
          "color": "#EF553B",
          "symbol": "circle"
         },
         "mode": "markers",
         "name": "WILLIAM C SMITH II OD PC",
         "showlegend": true,
         "type": "scattergl",
         "x": [
          "WILLIAM SMITH"
         ],
         "xaxis": "x",
         "y": [
          216
         ],
         "yaxis": "y"
        },
        {
         "hovertemplate": "to_facility=SPECIAL CARE OPTOMETRY OF TENNESSEE, LLC<br>from_physician=%{x}<br>patient_count=%{y}<extra></extra>",
         "legendgroup": "SPECIAL CARE OPTOMETRY OF TENNESSEE, LLC",
         "marker": {
          "color": "#00cc96",
          "symbol": "circle"
         },
         "mode": "markers",
         "name": "SPECIAL CARE OPTOMETRY OF TENNESSEE, LLC",
         "showlegend": true,
         "type": "scattergl",
         "x": [
          "MICHAEL POLITZER"
         ],
         "xaxis": "x",
         "y": [
          340
         ],
         "yaxis": "y"
        },
        {
         "hovertemplate": "to_facility=CARESPOT OF DONELSON (2372 LEBANON ROAD), LLC<br>from_physician=%{x}<br>patient_count=%{y}<extra></extra>",
         "legendgroup": "CARESPOT OF DONELSON (2372 LEBANON ROAD), LLC",
         "marker": {
          "color": "#ab63fa",
          "symbol": "circle"
         },
         "mode": "markers",
         "name": "CARESPOT OF DONELSON (2372 LEBANON ROAD), LLC",
         "showlegend": true,
         "type": "scattergl",
         "x": [
          "BRIAN JOHNS",
          "KATHRYN HEIDORN"
         ],
         "xaxis": "x",
         "y": [
          73,
          85
         ],
         "yaxis": "y"
        },
        {
         "hovertemplate": "to_facility=TRISTAR FAMILY CARE, LLC<br>from_physician=%{x}<br>patient_count=%{y}<extra></extra>",
         "legendgroup": "TRISTAR FAMILY CARE, LLC",
         "marker": {
          "color": "#FFA15A",
          "symbol": "circle"
         },
         "mode": "markers",
         "name": "TRISTAR FAMILY CARE, LLC",
         "showlegend": true,
         "type": "scattergl",
         "x": [
          "DEANA HOOTON"
         ],
         "xaxis": "x",
         "y": [
          168
         ],
         "yaxis": "y"
        },
        {
         "hovertemplate": "to_facility=TOP FLIGHT MEDICAL GROUP PLLC<br>from_physician=%{x}<br>patient_count=%{y}<extra></extra>",
         "legendgroup": "TOP FLIGHT MEDICAL GROUP PLLC",
         "marker": {
          "color": "#19d3f3",
          "symbol": "circle"
         },
         "mode": "markers",
         "name": "TOP FLIGHT MEDICAL GROUP PLLC",
         "showlegend": true,
         "type": "scattergl",
         "x": [
          "SEKOU MOLETTE"
         ],
         "xaxis": "x",
         "y": [
          171
         ],
         "yaxis": "y"
        },
        {
         "hovertemplate": "to_facility=OPTIQUE, PLLC.<br>from_physician=%{x}<br>patient_count=%{y}<extra></extra>",
         "legendgroup": "OPTIQUE, PLLC.",
         "marker": {
          "color": "#FF6692",
          "symbol": "circle"
         },
         "mode": "markers",
         "name": "OPTIQUE, PLLC.",
         "showlegend": true,
         "type": "scattergl",
         "x": [
          "JEFFREY SONSINO"
         ],
         "xaxis": "x",
         "y": [
          42
         ],
         "yaxis": "y"
        },
        {
         "hovertemplate": "to_facility=HO VISION GROUP, PLLC<br>from_physician=%{x}<br>patient_count=%{y}<extra></extra>",
         "legendgroup": "HO VISION GROUP, PLLC",
         "marker": {
          "color": "#B6E880",
          "symbol": "circle"
         },
         "mode": "markers",
         "name": "HO VISION GROUP, PLLC",
         "showlegend": true,
         "type": "scattergl",
         "x": [
          "MICHAEL POLITZER",
          "JAMIE HO"
         ],
         "xaxis": "x",
         "y": [
          69,
          77
         ],
         "yaxis": "y"
        },
        {
         "hovertemplate": "to_facility=BIENVENIDO T. SAMSON MD<br>from_physician=%{x}<br>patient_count=%{y}<extra></extra>",
         "legendgroup": "BIENVENIDO T. SAMSON MD",
         "marker": {
          "color": "#FF97FF",
          "symbol": "circle"
         },
         "mode": "markers",
         "name": "BIENVENIDO T. SAMSON MD",
         "showlegend": true,
         "type": "scattergl",
         "x": [
          "BIENVENIDO SAMSON"
         ],
         "xaxis": "x",
         "y": [
          205
         ],
         "yaxis": "y"
        },
        {
         "hovertemplate": "to_facility=KENNETH L WILLIAMS MD PHD<br>from_physician=%{x}<br>patient_count=%{y}<extra></extra>",
         "legendgroup": "KENNETH L WILLIAMS MD PHD",
         "marker": {
          "color": "#FECB52",
          "symbol": "circle"
         },
         "mode": "markers",
         "name": "KENNETH L WILLIAMS MD PHD",
         "showlegend": true,
         "type": "scattergl",
         "x": [
          "KENNETH WILLIAMS"
         ],
         "xaxis": "x",
         "y": [
          139
         ],
         "yaxis": "y"
        },
        {
         "hovertemplate": "to_facility=MADISON ADULT MEDICINE, INC.<br>from_physician=%{x}<br>patient_count=%{y}<extra></extra>",
         "legendgroup": "MADISON ADULT MEDICINE, INC.",
         "marker": {
          "color": "#636efa",
          "symbol": "circle"
         },
         "mode": "markers",
         "name": "MADISON ADULT MEDICINE, INC.",
         "showlegend": true,
         "type": "scattergl",
         "x": [
          "MARCUS MIN"
         ],
         "xaxis": "x",
         "y": [
          244
         ],
         "yaxis": "y"
        },
        {
         "hovertemplate": "to_facility=SAINT THOMAS WEST HOSPITAL<br>from_physician=%{x}<br>patient_count=%{y}<extra></extra>",
         "legendgroup": "SAINT THOMAS WEST HOSPITAL",
         "marker": {
          "color": "#EF553B",
          "symbol": "circle"
         },
         "mode": "markers",
         "name": "SAINT THOMAS WEST HOSPITAL",
         "showlegend": true,
         "type": "scattergl",
         "x": [
          "DONALD CRUMBO"
         ],
         "xaxis": "x",
         "y": [
          53
         ],
         "yaxis": "y"
        },
        {
         "hovertemplate": "to_facility=SYMED, LLC<br>from_physician=%{x}<br>patient_count=%{y}<extra></extra>",
         "legendgroup": "SYMED, LLC",
         "marker": {
          "color": "#00cc96",
          "symbol": "circle"
         },
         "mode": "markers",
         "name": "SYMED, LLC",
         "showlegend": true,
         "type": "scattergl",
         "x": [
          "AMY POWERS",
          "KIMBERLY SAVAGE"
         ],
         "xaxis": "x",
         "y": [
          312,
          391
         ],
         "yaxis": "y"
        },
        {
         "hovertemplate": "to_facility=CUMBERLAND CHIROPRACTIC AND SPORTS MEDICINE, LLC<br>from_physician=%{x}<br>patient_count=%{y}<extra></extra>",
         "legendgroup": "CUMBERLAND CHIROPRACTIC AND SPORTS MEDICINE, LLC",
         "marker": {
          "color": "#ab63fa",
          "symbol": "circle"
         },
         "mode": "markers",
         "name": "CUMBERLAND CHIROPRACTIC AND SPORTS MEDICINE, LLC",
         "showlegend": true,
         "type": "scattergl",
         "x": [
          "RYAN HOUSE"
         ],
         "xaxis": "x",
         "y": [
          30
         ],
         "yaxis": "y"
        },
        {
         "hovertemplate": "to_facility=KNIGHT FAMILY CHIROPRACTIC, PC<br>from_physician=%{x}<br>patient_count=%{y}<extra></extra>",
         "legendgroup": "KNIGHT FAMILY CHIROPRACTIC, PC",
         "marker": {
          "color": "#FFA15A",
          "symbol": "circle"
         },
         "mode": "markers",
         "name": "KNIGHT FAMILY CHIROPRACTIC, PC",
         "showlegend": true,
         "type": "scattergl",
         "x": [
          "SUSAN KNIGHT-NANNI"
         ],
         "xaxis": "x",
         "y": [
          27
         ],
         "yaxis": "y"
        },
        {
         "hovertemplate": "to_facility=TOTTY CHIROPRACTIC HEALTH & WELLNESS CENTER<br>from_physician=%{x}<br>patient_count=%{y}<extra></extra>",
         "legendgroup": "TOTTY CHIROPRACTIC HEALTH & WELLNESS CENTER",
         "marker": {
          "color": "#19d3f3",
          "symbol": "circle"
         },
         "mode": "markers",
         "name": "TOTTY CHIROPRACTIC HEALTH & WELLNESS CENTER",
         "showlegend": true,
         "type": "scattergl",
         "x": [
          "MARK TOTTY"
         ],
         "xaxis": "x",
         "y": [
          42
         ],
         "yaxis": "y"
        },
        {
         "hovertemplate": "to_facility=SMITH CHIROPRACTIC & REHABILITATION<br>from_physician=%{x}<br>patient_count=%{y}<extra></extra>",
         "legendgroup": "SMITH CHIROPRACTIC & REHABILITATION",
         "marker": {
          "color": "#FF6692",
          "symbol": "circle"
         },
         "mode": "markers",
         "name": "SMITH CHIROPRACTIC & REHABILITATION",
         "showlegend": true,
         "type": "scattergl",
         "x": [
          "MATTHEW SMITH"
         ],
         "xaxis": "x",
         "y": [
          63
         ],
         "yaxis": "y"
        },
        {
         "hovertemplate": "to_facility=BADRU, INC<br>from_physician=%{x}<br>patient_count=%{y}<extra></extra>",
         "legendgroup": "BADRU, INC",
         "marker": {
          "color": "#B6E880",
          "symbol": "circle"
         },
         "mode": "markers",
         "name": "BADRU, INC",
         "showlegend": true,
         "type": "scattergl",
         "x": [
          "ALEXANDER BADRU"
         ],
         "xaxis": "x",
         "y": [
          479
         ],
         "yaxis": "y"
        },
        {
         "hovertemplate": "to_facility=DONELSON OBSTETRICS & GYN<br>from_physician=%{x}<br>patient_count=%{y}<extra></extra>",
         "legendgroup": "DONELSON OBSTETRICS & GYN",
         "marker": {
          "color": "#FF97FF",
          "symbol": "circle"
         },
         "mode": "markers",
         "name": "DONELSON OBSTETRICS & GYN",
         "showlegend": true,
         "type": "scattergl",
         "x": [
          "JOHN LINK"
         ],
         "xaxis": "x",
         "y": [
          137
         ],
         "yaxis": "y"
        },
        {
         "hovertemplate": "to_facility=ELITE SPORTS MEDICINE AND ORTHOPAEDIC CENTER, PLC<br>from_physician=%{x}<br>patient_count=%{y}<extra></extra>",
         "legendgroup": "ELITE SPORTS MEDICINE AND ORTHOPAEDIC CENTER, PLC",
         "marker": {
          "color": "#FECB52",
          "symbol": "circle"
         },
         "mode": "markers",
         "name": "ELITE SPORTS MEDICINE AND ORTHOPAEDIC CENTER, PLC",
         "showlegend": true,
         "type": "scattergl",
         "x": [
          "KATHRYN DIAL",
          "SIERRA DENEFE"
         ],
         "xaxis": "x",
         "y": [
          64,
          190
         ],
         "yaxis": "y"
        },
        {
         "hovertemplate": "to_facility=JAMES W GARNER JR MD PC<br>from_physician=%{x}<br>patient_count=%{y}<extra></extra>",
         "legendgroup": "JAMES W GARNER JR MD PC",
         "marker": {
          "color": "#636efa",
          "symbol": "circle"
         },
         "mode": "markers",
         "name": "JAMES W GARNER JR MD PC",
         "showlegend": true,
         "type": "scattergl",
         "x": [
          "JAMES GARNER"
         ],
         "xaxis": "x",
         "y": [
          575
         ],
         "yaxis": "y"
        },
        {
         "hovertemplate": "to_facility=FAMILY EYE CARE PLLC<br>from_physician=%{x}<br>patient_count=%{y}<extra></extra>",
         "legendgroup": "FAMILY EYE CARE PLLC",
         "marker": {
          "color": "#EF553B",
          "symbol": "circle"
         },
         "mode": "markers",
         "name": "FAMILY EYE CARE PLLC",
         "showlegend": true,
         "type": "scattergl",
         "x": [
          "TERRY HENDRICKSON"
         ],
         "xaxis": "x",
         "y": [
          235
         ],
         "yaxis": "y"
        },
        {
         "hovertemplate": "to_facility=NAGESWARA RAO CHUNDURU<br>from_physician=%{x}<br>patient_count=%{y}<extra></extra>",
         "legendgroup": "NAGESWARA RAO CHUNDURU",
         "marker": {
          "color": "#00cc96",
          "symbol": "circle"
         },
         "mode": "markers",
         "name": "NAGESWARA RAO CHUNDURU",
         "showlegend": true,
         "type": "scattergl",
         "x": [
          "NAGESWARA CHUNDURU"
         ],
         "xaxis": "x",
         "y": [
          365
         ],
         "yaxis": "y"
        },
        {
         "hovertemplate": "to_facility=WILLIAM J. BINKLEY, M.D. LLC<br>from_physician=%{x}<br>patient_count=%{y}<extra></extra>",
         "legendgroup": "WILLIAM J. BINKLEY, M.D. LLC",
         "marker": {
          "color": "#ab63fa",
          "symbol": "circle"
         },
         "mode": "markers",
         "name": "WILLIAM J. BINKLEY, M.D. LLC",
         "showlegend": true,
         "type": "scattergl",
         "x": [
          "WILLIAM BINKLEY"
         ],
         "xaxis": "x",
         "y": [
          145
         ],
         "yaxis": "y"
        },
        {
         "hovertemplate": "to_facility=THE CRESTVIEW CARE AND REHABILITATION CENTER, LLC<br>from_physician=%{x}<br>patient_count=%{y}<extra></extra>",
         "legendgroup": "THE CRESTVIEW CARE AND REHABILITATION CENTER, LLC",
         "marker": {
          "color": "#FFA15A",
          "symbol": "circle"
         },
         "mode": "markers",
         "name": "THE CRESTVIEW CARE AND REHABILITATION CENTER, LLC",
         "showlegend": true,
         "type": "scattergl",
         "x": [
          "KEITH JUNIOR"
         ],
         "xaxis": "x",
         "y": [
          60
         ],
         "yaxis": "y"
        },
        {
         "hovertemplate": "to_facility=CENTENNIAL SURGICAL CLINIC, LLC<br>from_physician=%{x}<br>patient_count=%{y}<extra></extra>",
         "legendgroup": "CENTENNIAL SURGICAL CLINIC, LLC",
         "marker": {
          "color": "#19d3f3",
          "symbol": "circle"
         },
         "mode": "markers",
         "name": "CENTENNIAL SURGICAL CLINIC, LLC",
         "showlegend": true,
         "type": "scattergl",
         "x": [
          "SUSAN GARWOOD"
         ],
         "xaxis": "x",
         "y": [
          201
         ],
         "yaxis": "y"
        },
        {
         "hovertemplate": "to_facility=T MICHAEL HELTON MD PLLC<br>from_physician=%{x}<br>patient_count=%{y}<extra></extra>",
         "legendgroup": "T MICHAEL HELTON MD PLLC",
         "marker": {
          "color": "#FF6692",
          "symbol": "circle"
         },
         "mode": "markers",
         "name": "T MICHAEL HELTON MD PLLC",
         "showlegend": true,
         "type": "scattergl",
         "x": [
          "THOMAS HELTON"
         ],
         "xaxis": "x",
         "y": [
          768
         ],
         "yaxis": "y"
        },
        {
         "hovertemplate": "to_facility=VOLUNTEER BEHAVIORAL HEALTH CARE SYSTEM<br>from_physician=%{x}<br>patient_count=%{y}<extra></extra>",
         "legendgroup": "VOLUNTEER BEHAVIORAL HEALTH CARE SYSTEM",
         "marker": {
          "color": "#B6E880",
          "symbol": "circle"
         },
         "mode": "markers",
         "name": "VOLUNTEER BEHAVIORAL HEALTH CARE SYSTEM",
         "showlegend": true,
         "type": "scattergl",
         "x": [
          "KATHERINE GEE",
          "KAREN HALL",
          "MELYNIE CAGLE",
          "MELISSA SISCO"
         ],
         "xaxis": "x",
         "y": [
          126,
          49,
          140,
          212
         ],
         "yaxis": "y"
        },
        {
         "hovertemplate": "to_facility=IMPACT SPORTS MEDICINE & ORTHOPEDICS, PLLC<br>from_physician=%{x}<br>patient_count=%{y}<extra></extra>",
         "legendgroup": "IMPACT SPORTS MEDICINE & ORTHOPEDICS, PLLC",
         "marker": {
          "color": "#FF97FF",
          "symbol": "circle"
         },
         "mode": "markers",
         "name": "IMPACT SPORTS MEDICINE & ORTHOPEDICS, PLLC",
         "showlegend": true,
         "type": "scattergl",
         "x": [
          "FRANK HOLMES"
         ],
         "xaxis": "x",
         "y": [
          150
         ],
         "yaxis": "y"
        },
        {
         "hovertemplate": "to_facility=PREMIER ASC LLC<br>from_physician=%{x}<br>patient_count=%{y}<extra></extra>",
         "legendgroup": "PREMIER ASC LLC",
         "marker": {
          "color": "#FECB52",
          "symbol": "circle"
         },
         "mode": "markers",
         "name": "PREMIER ASC LLC",
         "showlegend": true,
         "type": "scattergl",
         "x": [
          "LORI RIVARD"
         ],
         "xaxis": "x",
         "y": [
          60
         ],
         "yaxis": "y"
        },
        {
         "hovertemplate": "to_facility=STEVEN G SCHOEMER PC<br>from_physician=%{x}<br>patient_count=%{y}<extra></extra>",
         "legendgroup": "STEVEN G SCHOEMER PC",
         "marker": {
          "color": "#636efa",
          "symbol": "circle"
         },
         "mode": "markers",
         "name": "STEVEN G SCHOEMER PC",
         "showlegend": true,
         "type": "scattergl",
         "x": [
          "STEVEN SCHOEMER",
          "SARAH BALDWIN"
         ],
         "xaxis": "x",
         "y": [
          280,
          168
         ],
         "yaxis": "y"
        },
        {
         "hovertemplate": "to_facility=COLLINS EYE CENTER, PLLC<br>from_physician=%{x}<br>patient_count=%{y}<extra></extra>",
         "legendgroup": "COLLINS EYE CENTER, PLLC",
         "marker": {
          "color": "#EF553B",
          "symbol": "circle"
         },
         "mode": "markers",
         "name": "COLLINS EYE CENTER, PLLC",
         "showlegend": true,
         "type": "scattergl",
         "x": [
          "CHARLES COLLINS"
         ],
         "xaxis": "x",
         "y": [
          43
         ],
         "yaxis": "y"
        },
        {
         "hovertemplate": "to_facility=RESOLUTION THERAPY ASSOCIATES, PLLC<br>from_physician=%{x}<br>patient_count=%{y}<extra></extra>",
         "legendgroup": "RESOLUTION THERAPY ASSOCIATES, PLLC",
         "marker": {
          "color": "#00cc96",
          "symbol": "circle"
         },
         "mode": "markers",
         "name": "RESOLUTION THERAPY ASSOCIATES, PLLC",
         "showlegend": true,
         "type": "scattergl",
         "x": [
          "TAMMIE CRECELIUS",
          "CHRISTINA JONES"
         ],
         "xaxis": "x",
         "y": [
          39,
          27
         ],
         "yaxis": "y"
        },
        {
         "hovertemplate": "to_facility=NASHVILLE GASTROINTESTINAL SPECIALISTS, LLC<br>from_physician=%{x}<br>patient_count=%{y}<extra></extra>",
         "legendgroup": "NASHVILLE GASTROINTESTINAL SPECIALISTS, LLC",
         "marker": {
          "color": "#ab63fa",
          "symbol": "circle"
         },
         "mode": "markers",
         "name": "NASHVILLE GASTROINTESTINAL SPECIALISTS, LLC",
         "showlegend": true,
         "type": "scattergl",
         "x": [
          "MEGHAN DAHL",
          "YOUNG KIM"
         ],
         "xaxis": "x",
         "y": [
          74,
          429
         ],
         "yaxis": "y"
        },
        {
         "hovertemplate": "to_facility=JAY SCHRODER, DC, LLC<br>from_physician=%{x}<br>patient_count=%{y}<extra></extra>",
         "legendgroup": "JAY SCHRODER, DC, LLC",
         "marker": {
          "color": "#FFA15A",
          "symbol": "circle"
         },
         "mode": "markers",
         "name": "JAY SCHRODER, DC, LLC",
         "showlegend": true,
         "type": "scattergl",
         "x": [
          "JAY SCHRODER"
         ],
         "xaxis": "x",
         "y": [
          33
         ],
         "yaxis": "y"
        },
        {
         "hovertemplate": "to_facility=PEACE EYECARE<br>from_physician=%{x}<br>patient_count=%{y}<extra></extra>",
         "legendgroup": "PEACE EYECARE",
         "marker": {
          "color": "#19d3f3",
          "symbol": "circle"
         },
         "mode": "markers",
         "name": "PEACE EYECARE",
         "showlegend": true,
         "type": "scattergl",
         "x": [
          "JARROD PEACE"
         ],
         "xaxis": "x",
         "y": [
          207
         ],
         "yaxis": "y"
        },
        {
         "hovertemplate": "to_facility=NANDIGAM NEUROLOGY PLC<br>from_physician=%{x}<br>patient_count=%{y}<extra></extra>",
         "legendgroup": "NANDIGAM NEUROLOGY PLC",
         "marker": {
          "color": "#FF6692",
          "symbol": "circle"
         },
         "mode": "markers",
         "name": "NANDIGAM NEUROLOGY PLC",
         "showlegend": true,
         "type": "scattergl",
         "x": [
          "RAM NARAYAN KAVEER NANDIGAM"
         ],
         "xaxis": "x",
         "y": [
          36
         ],
         "yaxis": "y"
        },
        {
         "hovertemplate": "to_facility=SMYRNA PULMONARY AND SLEEP ASSOCIATES PLLC<br>from_physician=%{x}<br>patient_count=%{y}<extra></extra>",
         "legendgroup": "SMYRNA PULMONARY AND SLEEP ASSOCIATES PLLC",
         "marker": {
          "color": "#B6E880",
          "symbol": "circle"
         },
         "mode": "markers",
         "name": "SMYRNA PULMONARY AND SLEEP ASSOCIATES PLLC",
         "showlegend": true,
         "type": "scattergl",
         "x": [
          "SHERRIE SMITH",
          "JODY WINTERS"
         ],
         "xaxis": "x",
         "y": [
          157,
          71
         ],
         "yaxis": "y"
        },
        {
         "hovertemplate": "to_facility=STUMB HEALTHCARE PROFESSIONALS, LLC<br>from_physician=%{x}<br>patient_count=%{y}<extra></extra>",
         "legendgroup": "STUMB HEALTHCARE PROFESSIONALS, LLC",
         "marker": {
          "color": "#FF97FF",
          "symbol": "circle"
         },
         "mode": "markers",
         "name": "STUMB HEALTHCARE PROFESSIONALS, LLC",
         "showlegend": true,
         "type": "scattergl",
         "x": [
          "CRISTY STUMB"
         ],
         "xaxis": "x",
         "y": [
          115
         ],
         "yaxis": "y"
        },
        {
         "hovertemplate": "to_facility=MARY A. MCELANEY, M.D.<br>from_physician=%{x}<br>patient_count=%{y}<extra></extra>",
         "legendgroup": "MARY A. MCELANEY, M.D.",
         "marker": {
          "color": "#FECB52",
          "symbol": "circle"
         },
         "mode": "markers",
         "name": "MARY A. MCELANEY, M.D.",
         "showlegend": true,
         "type": "scattergl",
         "x": [
          "MARY MCELANEY"
         ],
         "xaxis": "x",
         "y": [
          262
         ],
         "yaxis": "y"
        },
        {
         "hovertemplate": "to_facility=TENNESSEE SPORTS MEDICINE, PC<br>from_physician=%{x}<br>patient_count=%{y}<extra></extra>",
         "legendgroup": "TENNESSEE SPORTS MEDICINE, PC",
         "marker": {
          "color": "#636efa",
          "symbol": "circle"
         },
         "mode": "markers",
         "name": "TENNESSEE SPORTS MEDICINE, PC",
         "showlegend": true,
         "type": "scattergl",
         "x": [
          "CHARLES KAELIN"
         ],
         "xaxis": "x",
         "y": [
          526
         ],
         "yaxis": "y"
        },
        {
         "hovertemplate": "to_facility=NASHVILLE GASTROENTEROLOGY AND HEPATOLOGY PC<br>from_physician=%{x}<br>patient_count=%{y}<extra></extra>",
         "legendgroup": "NASHVILLE GASTROENTEROLOGY AND HEPATOLOGY PC",
         "marker": {
          "color": "#EF553B",
          "symbol": "circle"
         },
         "mode": "markers",
         "name": "NASHVILLE GASTROENTEROLOGY AND HEPATOLOGY PC",
         "showlegend": true,
         "type": "scattergl",
         "x": [
          "EDMOND CONWAY"
         ],
         "xaxis": "x",
         "y": [
          46
         ],
         "yaxis": "y"
        },
        {
         "hovertemplate": "to_facility=OP SERVICES<br>from_physician=%{x}<br>patient_count=%{y}<extra></extra>",
         "legendgroup": "OP SERVICES",
         "marker": {
          "color": "#00cc96",
          "symbol": "circle"
         },
         "mode": "markers",
         "name": "OP SERVICES",
         "showlegend": true,
         "type": "scattergl",
         "x": [
          "MICHAEL OVERFELT"
         ],
         "xaxis": "x",
         "y": [
          27
         ],
         "yaxis": "y"
        },
        {
         "hovertemplate": "to_facility=NOLENSVILLE FAMILY EYECARE LLC<br>from_physician=%{x}<br>patient_count=%{y}<extra></extra>",
         "legendgroup": "NOLENSVILLE FAMILY EYECARE LLC",
         "marker": {
          "color": "#ab63fa",
          "symbol": "circle"
         },
         "mode": "markers",
         "name": "NOLENSVILLE FAMILY EYECARE LLC",
         "showlegend": true,
         "type": "scattergl",
         "x": [
          "PHILLIP HAYES"
         ],
         "xaxis": "x",
         "y": [
          97
         ],
         "yaxis": "y"
        },
        {
         "hovertemplate": "to_facility=GATEWAY HEALTHCARE, PC<br>from_physician=%{x}<br>patient_count=%{y}<extra></extra>",
         "legendgroup": "GATEWAY HEALTHCARE, PC",
         "marker": {
          "color": "#FFA15A",
          "symbol": "circle"
         },
         "mode": "markers",
         "name": "GATEWAY HEALTHCARE, PC",
         "showlegend": true,
         "type": "scattergl",
         "x": [
          "JOSEPH WEATHERSBY"
         ],
         "xaxis": "x",
         "y": [
          114
         ],
         "yaxis": "y"
        },
        {
         "hovertemplate": "to_facility=CUMBERLAND ANESTHESIA, PLLC<br>from_physician=%{x}<br>patient_count=%{y}<extra></extra>",
         "legendgroup": "CUMBERLAND ANESTHESIA, PLLC",
         "marker": {
          "color": "#19d3f3",
          "symbol": "circle"
         },
         "mode": "markers",
         "name": "CUMBERLAND ANESTHESIA, PLLC",
         "showlegend": true,
         "type": "scattergl",
         "x": [
          "DANNA WILLIS",
          "WAYNE WINFREE",
          "ADRIENNE KELLEY"
         ],
         "xaxis": "x",
         "y": [
          88,
          97,
          75
         ],
         "yaxis": "y"
        },
        {
         "hovertemplate": "to_facility=BERRY HILL CHIROPRACTIC CLINIC<br>from_physician=%{x}<br>patient_count=%{y}<extra></extra>",
         "legendgroup": "BERRY HILL CHIROPRACTIC CLINIC",
         "marker": {
          "color": "#FF6692",
          "symbol": "circle"
         },
         "mode": "markers",
         "name": "BERRY HILL CHIROPRACTIC CLINIC",
         "showlegend": true,
         "type": "scattergl",
         "x": [
          "BETH BARNETT"
         ],
         "xaxis": "x",
         "y": [
          120
         ],
         "yaxis": "y"
        },
        {
         "hovertemplate": "to_facility=SPRINGFIELD SURGERY,P.C.<br>from_physician=%{x}<br>patient_count=%{y}<extra></extra>",
         "legendgroup": "SPRINGFIELD SURGERY,P.C.",
         "marker": {
          "color": "#B6E880",
          "symbol": "circle"
         },
         "mode": "markers",
         "name": "SPRINGFIELD SURGERY,P.C.",
         "showlegend": true,
         "type": "scattergl",
         "x": [
          "SARBJEET KUMAR"
         ],
         "xaxis": "x",
         "y": [
          147
         ],
         "yaxis": "y"
        },
        {
         "hovertemplate": "to_facility=HORIZON CHIROPRACTIC<br>from_physician=%{x}<br>patient_count=%{y}<extra></extra>",
         "legendgroup": "HORIZON CHIROPRACTIC",
         "marker": {
          "color": "#FF97FF",
          "symbol": "circle"
         },
         "mode": "markers",
         "name": "HORIZON CHIROPRACTIC",
         "showlegend": true,
         "type": "scattergl",
         "x": [
          "TODD MCGILVRA"
         ],
         "xaxis": "x",
         "y": [
          33
         ],
         "yaxis": "y"
        },
        {
         "hovertemplate": "to_facility=COLUMBIA MEDICAL GROUP-CENTENNIAL INC<br>from_physician=%{x}<br>patient_count=%{y}<extra></extra>",
         "legendgroup": "COLUMBIA MEDICAL GROUP-CENTENNIAL INC",
         "marker": {
          "color": "#FECB52",
          "symbol": "circle"
         },
         "mode": "markers",
         "name": "COLUMBIA MEDICAL GROUP-CENTENNIAL INC",
         "showlegend": true,
         "type": "scattergl",
         "x": [
          "CLARENCE FOSTER III"
         ],
         "xaxis": "x",
         "y": [
          60
         ],
         "yaxis": "y"
        },
        {
         "hovertemplate": "to_facility=JEFFREY D HORN MD PLLC<br>from_physician=%{x}<br>patient_count=%{y}<extra></extra>",
         "legendgroup": "JEFFREY D HORN MD PLLC",
         "marker": {
          "color": "#636efa",
          "symbol": "circle"
         },
         "mode": "markers",
         "name": "JEFFREY D HORN MD PLLC",
         "showlegend": true,
         "type": "scattergl",
         "x": [
          "JEFFREY HORN"
         ],
         "xaxis": "x",
         "y": [
          469
         ],
         "yaxis": "y"
        },
        {
         "hovertemplate": "to_facility=THE HEART AND VASCULAR CLINIC P.C.<br>from_physician=%{x}<br>patient_count=%{y}<extra></extra>",
         "legendgroup": "THE HEART AND VASCULAR CLINIC P.C.",
         "marker": {
          "color": "#EF553B",
          "symbol": "circle"
         },
         "mode": "markers",
         "name": "THE HEART AND VASCULAR CLINIC P.C.",
         "showlegend": true,
         "type": "scattergl",
         "x": [
          "GINA CHANDLER"
         ],
         "xaxis": "x",
         "y": [
          635
         ],
         "yaxis": "y"
        },
        {
         "hovertemplate": "to_facility=MESECK FAMILY CHIROPRACTIC LLC<br>from_physician=%{x}<br>patient_count=%{y}<extra></extra>",
         "legendgroup": "MESECK FAMILY CHIROPRACTIC LLC",
         "marker": {
          "color": "#00cc96",
          "symbol": "circle"
         },
         "mode": "markers",
         "name": "MESECK FAMILY CHIROPRACTIC LLC",
         "showlegend": true,
         "type": "scattergl",
         "x": [
          "JACOB MESECK"
         ],
         "xaxis": "x",
         "y": [
          31
         ],
         "yaxis": "y"
        },
        {
         "hovertemplate": "to_facility=JESSUP EYE CARE, INC.<br>from_physician=%{x}<br>patient_count=%{y}<extra></extra>",
         "legendgroup": "JESSUP EYE CARE, INC.",
         "marker": {
          "color": "#ab63fa",
          "symbol": "circle"
         },
         "mode": "markers",
         "name": "JESSUP EYE CARE, INC.",
         "showlegend": true,
         "type": "scattergl",
         "x": [
          "JEFFREY JESSUP"
         ],
         "xaxis": "x",
         "y": [
          74
         ],
         "yaxis": "y"
        },
        {
         "hovertemplate": "to_facility=SPINE AND PAIN PHYSICIANS SURGERY CENTER, LLC<br>from_physician=%{x}<br>patient_count=%{y}<extra></extra>",
         "legendgroup": "SPINE AND PAIN PHYSICIANS SURGERY CENTER, LLC",
         "marker": {
          "color": "#FFA15A",
          "symbol": "circle"
         },
         "mode": "markers",
         "name": "SPINE AND PAIN PHYSICIANS SURGERY CENTER, LLC",
         "showlegend": true,
         "type": "scattergl",
         "x": [
          "CHARLES HILGENHURST"
         ],
         "xaxis": "x",
         "y": [
          81
         ],
         "yaxis": "y"
        },
        {
         "hovertemplate": "to_facility=TRISTAR CARDIOVASCULAR SURGERY LLC<br>from_physician=%{x}<br>patient_count=%{y}<extra></extra>",
         "legendgroup": "TRISTAR CARDIOVASCULAR SURGERY LLC",
         "marker": {
          "color": "#19d3f3",
          "symbol": "circle"
         },
         "mode": "markers",
         "name": "TRISTAR CARDIOVASCULAR SURGERY LLC",
         "showlegend": true,
         "type": "scattergl",
         "x": [
          "STEPHEN SANTI"
         ],
         "xaxis": "x",
         "y": [
          55
         ],
         "yaxis": "y"
        },
        {
         "hovertemplate": "to_facility=AXIS CHIROPRACTIC, P.C.<br>from_physician=%{x}<br>patient_count=%{y}<extra></extra>",
         "legendgroup": "AXIS CHIROPRACTIC, P.C.",
         "marker": {
          "color": "#FF6692",
          "symbol": "circle"
         },
         "mode": "markers",
         "name": "AXIS CHIROPRACTIC, P.C.",
         "showlegend": true,
         "type": "scattergl",
         "x": [
          "JENNY KIM",
          "STEVE KIM"
         ],
         "xaxis": "x",
         "y": [
          18,
          12
         ],
         "yaxis": "y"
        },
        {
         "hovertemplate": "to_facility=JOHN C WESTERKAMM MD PLLC<br>from_physician=%{x}<br>patient_count=%{y}<extra></extra>",
         "legendgroup": "JOHN C WESTERKAMM MD PLLC",
         "marker": {
          "color": "#B6E880",
          "symbol": "circle"
         },
         "mode": "markers",
         "name": "JOHN C WESTERKAMM MD PLLC",
         "showlegend": true,
         "type": "scattergl",
         "x": [
          "JOHN WESTERKAMM"
         ],
         "xaxis": "x",
         "y": [
          336
         ],
         "yaxis": "y"
        },
        {
         "hovertemplate": "to_facility=CUMBERLAND LUNG SPECIALISTS<br>from_physician=%{x}<br>patient_count=%{y}<extra></extra>",
         "legendgroup": "CUMBERLAND LUNG SPECIALISTS",
         "marker": {
          "color": "#FF97FF",
          "symbol": "circle"
         },
         "mode": "markers",
         "name": "CUMBERLAND LUNG SPECIALISTS",
         "showlegend": true,
         "type": "scattergl",
         "x": [
          "AARON ESBENSHADE"
         ],
         "xaxis": "x",
         "y": [
          226
         ],
         "yaxis": "y"
        },
        {
         "hovertemplate": "to_facility=DAWES CHIROPRACTIC, PLLC<br>from_physician=%{x}<br>patient_count=%{y}<extra></extra>",
         "legendgroup": "DAWES CHIROPRACTIC, PLLC",
         "marker": {
          "color": "#FECB52",
          "symbol": "circle"
         },
         "mode": "markers",
         "name": "DAWES CHIROPRACTIC, PLLC",
         "showlegend": true,
         "type": "scattergl",
         "x": [
          "JAMES DAWES"
         ],
         "xaxis": "x",
         "y": [
          12
         ],
         "yaxis": "y"
        },
        {
         "hovertemplate": "to_facility=STERLING PRIMARY CARE ASSOCIATES LLC<br>from_physician=%{x}<br>patient_count=%{y}<extra></extra>",
         "legendgroup": "STERLING PRIMARY CARE ASSOCIATES LLC",
         "marker": {
          "color": "#636efa",
          "symbol": "circle"
         },
         "mode": "markers",
         "name": "STERLING PRIMARY CARE ASSOCIATES LLC",
         "showlegend": true,
         "type": "scattergl",
         "x": [
          "KERSTEN WOODLEE"
         ],
         "xaxis": "x",
         "y": [
          185
         ],
         "yaxis": "y"
        },
        {
         "hovertemplate": "to_facility=NIDA STEINER, O.D. LLC<br>from_physician=%{x}<br>patient_count=%{y}<extra></extra>",
         "legendgroup": "NIDA STEINER, O.D. LLC",
         "marker": {
          "color": "#EF553B",
          "symbol": "circle"
         },
         "mode": "markers",
         "name": "NIDA STEINER, O.D. LLC",
         "showlegend": true,
         "type": "scattergl",
         "x": [
          "NIDA STEINER"
         ],
         "xaxis": "x",
         "y": [
          166
         ],
         "yaxis": "y"
        },
        {
         "hovertemplate": "to_facility=WOOSLEY CHIROPRACTIC REHABILITATION<br>from_physician=%{x}<br>patient_count=%{y}<extra></extra>",
         "legendgroup": "WOOSLEY CHIROPRACTIC REHABILITATION",
         "marker": {
          "color": "#00cc96",
          "symbol": "circle"
         },
         "mode": "markers",
         "name": "WOOSLEY CHIROPRACTIC REHABILITATION",
         "showlegend": true,
         "type": "scattergl",
         "x": [
          "CHARLTON WOOSLEY"
         ],
         "xaxis": "x",
         "y": [
          80
         ],
         "yaxis": "y"
        },
        {
         "hovertemplate": "to_facility=H DOUGLAS HOLLIDAY MD PLLC<br>from_physician=%{x}<br>patient_count=%{y}<extra></extra>",
         "legendgroup": "H DOUGLAS HOLLIDAY MD PLLC",
         "marker": {
          "color": "#ab63fa",
          "symbol": "circle"
         },
         "mode": "markers",
         "name": "H DOUGLAS HOLLIDAY MD PLLC",
         "showlegend": true,
         "type": "scattergl",
         "x": [
          "HUGH HOLLIDAY"
         ],
         "xaxis": "x",
         "y": [
          140
         ],
         "yaxis": "y"
        },
        {
         "hovertemplate": "to_facility=FULL CIRCLE CHIROPRACTIC & WELLNESS, PLLC<br>from_physician=%{x}<br>patient_count=%{y}<extra></extra>",
         "legendgroup": "FULL CIRCLE CHIROPRACTIC & WELLNESS, PLLC",
         "marker": {
          "color": "#FFA15A",
          "symbol": "circle"
         },
         "mode": "markers",
         "name": "FULL CIRCLE CHIROPRACTIC & WELLNESS, PLLC",
         "showlegend": true,
         "type": "scattergl",
         "x": [
          "KYLE WEBB"
         ],
         "xaxis": "x",
         "y": [
          15
         ],
         "yaxis": "y"
        },
        {
         "hovertemplate": "to_facility=AGAPE FAMILY HEALTHCARE LLC<br>from_physician=%{x}<br>patient_count=%{y}<extra></extra>",
         "legendgroup": "AGAPE FAMILY HEALTHCARE LLC",
         "marker": {
          "color": "#19d3f3",
          "symbol": "circle"
         },
         "mode": "markers",
         "name": "AGAPE FAMILY HEALTHCARE LLC",
         "showlegend": true,
         "type": "scattergl",
         "x": [
          "BEVERLY DAVIDSON"
         ],
         "xaxis": "x",
         "y": [
          33
         ],
         "yaxis": "y"
        },
        {
         "hovertemplate": "to_facility=UNIVERSITY COMMUNITY HEALTH SERVICES, INC<br>from_physician=%{x}<br>patient_count=%{y}<extra></extra>",
         "legendgroup": "UNIVERSITY COMMUNITY HEALTH SERVICES, INC",
         "marker": {
          "color": "#FF6692",
          "symbol": "circle"
         },
         "mode": "markers",
         "name": "UNIVERSITY COMMUNITY HEALTH SERVICES, INC",
         "showlegend": true,
         "type": "scattergl",
         "x": [
          "REBEKAH ESPY"
         ],
         "xaxis": "x",
         "y": [
          35
         ],
         "yaxis": "y"
        },
        {
         "hovertemplate": "to_facility=M.R. TAYLOR RAYBURN, JR. M.D. P.C.<br>from_physician=%{x}<br>patient_count=%{y}<extra></extra>",
         "legendgroup": "M.R. TAYLOR RAYBURN, JR. M.D. P.C.",
         "marker": {
          "color": "#B6E880",
          "symbol": "circle"
         },
         "mode": "markers",
         "name": "M.R. TAYLOR RAYBURN, JR. M.D. P.C.",
         "showlegend": true,
         "type": "scattergl",
         "x": [
          "MARTIN RAYBURN"
         ],
         "xaxis": "x",
         "y": [
          370
         ],
         "yaxis": "y"
        },
        {
         "hovertemplate": "to_facility=ONE STOP FAMILY CLINIC LLC<br>from_physician=%{x}<br>patient_count=%{y}<extra></extra>",
         "legendgroup": "ONE STOP FAMILY CLINIC LLC",
         "marker": {
          "color": "#FF97FF",
          "symbol": "circle"
         },
         "mode": "markers",
         "name": "ONE STOP FAMILY CLINIC LLC",
         "showlegend": true,
         "type": "scattergl",
         "x": [
          "EMILY NELSON"
         ],
         "xaxis": "x",
         "y": [
          46
         ],
         "yaxis": "y"
        },
        {
         "hovertemplate": "to_facility=OMNI COMMUNITY HEALTH<br>from_physician=%{x}<br>patient_count=%{y}<extra></extra>",
         "legendgroup": "OMNI COMMUNITY HEALTH",
         "marker": {
          "color": "#FECB52",
          "symbol": "circle"
         },
         "mode": "markers",
         "name": "OMNI COMMUNITY HEALTH",
         "showlegend": true,
         "type": "scattergl",
         "x": [
          "HAYLEY MCMICHAEL",
          "TIMOTHY MOSS"
         ],
         "xaxis": "x",
         "y": [
          44,
          113
         ],
         "yaxis": "y"
        },
        {
         "hovertemplate": "to_facility=COLUMBIA MULTI SPECIALTY CLINIC PLLC<br>from_physician=%{x}<br>patient_count=%{y}<extra></extra>",
         "legendgroup": "COLUMBIA MULTI SPECIALTY CLINIC PLLC",
         "marker": {
          "color": "#636efa",
          "symbol": "circle"
         },
         "mode": "markers",
         "name": "COLUMBIA MULTI SPECIALTY CLINIC PLLC",
         "showlegend": true,
         "type": "scattergl",
         "x": [
          "INDU BALI"
         ],
         "xaxis": "x",
         "y": [
          67
         ],
         "yaxis": "y"
        },
        {
         "hovertemplate": "to_facility=CARTHAGE FAMILY PRACTICE SPECIALISTS, PC<br>from_physician=%{x}<br>patient_count=%{y}<extra></extra>",
         "legendgroup": "CARTHAGE FAMILY PRACTICE SPECIALISTS, PC",
         "marker": {
          "color": "#EF553B",
          "symbol": "circle"
         },
         "mode": "markers",
         "name": "CARTHAGE FAMILY PRACTICE SPECIALISTS, PC",
         "showlegend": true,
         "type": "scattergl",
         "x": [
          "SABRA GENTRY"
         ],
         "xaxis": "x",
         "y": [
          84
         ],
         "yaxis": "y"
        },
        {
         "hovertemplate": "to_facility=TIDWELL FAMILY VENTURES LLC<br>from_physician=%{x}<br>patient_count=%{y}<extra></extra>",
         "legendgroup": "TIDWELL FAMILY VENTURES LLC",
         "marker": {
          "color": "#00cc96",
          "symbol": "circle"
         },
         "mode": "markers",
         "name": "TIDWELL FAMILY VENTURES LLC",
         "showlegend": true,
         "type": "scattergl",
         "x": [
          "RANDY TIDWELL",
          "CAROL MEDLEY"
         ],
         "xaxis": "x",
         "y": [
          97,
          53
         ],
         "yaxis": "y"
        },
        {
         "hovertemplate": "to_facility=GENESIS WOMENS CARE INC<br>from_physician=%{x}<br>patient_count=%{y}<extra></extra>",
         "legendgroup": "GENESIS WOMENS CARE INC",
         "marker": {
          "color": "#ab63fa",
          "symbol": "circle"
         },
         "mode": "markers",
         "name": "GENESIS WOMENS CARE INC",
         "showlegend": true,
         "type": "scattergl",
         "x": [
          "NORMAN HAMBURGER",
          "KATHRYN KNIGHT",
          "GINA HAMRANG"
         ],
         "xaxis": "x",
         "y": [
          57,
          89,
          54
         ],
         "yaxis": "y"
        },
        {
         "hovertemplate": "to_facility=MADISON MINOR EMERG CTR<br>from_physician=%{x}<br>patient_count=%{y}<extra></extra>",
         "legendgroup": "MADISON MINOR EMERG CTR",
         "marker": {
          "color": "#FFA15A",
          "symbol": "circle"
         },
         "mode": "markers",
         "name": "MADISON MINOR EMERG CTR",
         "showlegend": true,
         "type": "scattergl",
         "x": [
          "KAREN DUFFY"
         ],
         "xaxis": "x",
         "y": [
          179
         ],
         "yaxis": "y"
        },
        {
         "hovertemplate": "to_facility=GREEN HILLS CHIROPRACTIC CLINIC<br>from_physician=%{x}<br>patient_count=%{y}<extra></extra>",
         "legendgroup": "GREEN HILLS CHIROPRACTIC CLINIC",
         "marker": {
          "color": "#19d3f3",
          "symbol": "circle"
         },
         "mode": "markers",
         "name": "GREEN HILLS CHIROPRACTIC CLINIC",
         "showlegend": true,
         "type": "scattergl",
         "x": [
          "ANDREA SELBY"
         ],
         "xaxis": "x",
         "y": [
          83
         ],
         "yaxis": "y"
        },
        {
         "hovertemplate": "to_facility=MANESS FAMILY PRACTICE<br>from_physician=%{x}<br>patient_count=%{y}<extra></extra>",
         "legendgroup": "MANESS FAMILY PRACTICE",
         "marker": {
          "color": "#FF6692",
          "symbol": "circle"
         },
         "mode": "markers",
         "name": "MANESS FAMILY PRACTICE",
         "showlegend": true,
         "type": "scattergl",
         "x": [
          "JOSEPH MANESS"
         ],
         "xaxis": "x",
         "y": [
          41
         ],
         "yaxis": "y"
        },
        {
         "hovertemplate": "to_facility=UNIVERSAL REHAB SERVICES, INC.<br>from_physician=%{x}<br>patient_count=%{y}<extra></extra>",
         "legendgroup": "UNIVERSAL REHAB SERVICES, INC.",
         "marker": {
          "color": "#B6E880",
          "symbol": "circle"
         },
         "mode": "markers",
         "name": "UNIVERSAL REHAB SERVICES, INC.",
         "showlegend": true,
         "type": "scattergl",
         "x": [
          "DILESH PATEL",
          "SOWMIYA SWAMINATHAN"
         ],
         "xaxis": "x",
         "y": [
          138,
          20
         ],
         "yaxis": "y"
        },
        {
         "hovertemplate": "to_facility=CARESPOT OF NASHVILLE (2001 GLEN ECHO ROAD), LLC<br>from_physician=%{x}<br>patient_count=%{y}<extra></extra>",
         "legendgroup": "CARESPOT OF NASHVILLE (2001 GLEN ECHO ROAD), LLC",
         "marker": {
          "color": "#FF97FF",
          "symbol": "circle"
         },
         "mode": "markers",
         "name": "CARESPOT OF NASHVILLE (2001 GLEN ECHO ROAD), LLC",
         "showlegend": true,
         "type": "scattergl",
         "x": [
          "JASEN ISSA"
         ],
         "xaxis": "x",
         "y": [
          70
         ],
         "yaxis": "y"
        },
        {
         "hovertemplate": "to_facility=DONALD L. MYNSTER, DC PC<br>from_physician=%{x}<br>patient_count=%{y}<extra></extra>",
         "legendgroup": "DONALD L. MYNSTER, DC PC",
         "marker": {
          "color": "#FECB52",
          "symbol": "circle"
         },
         "mode": "markers",
         "name": "DONALD L. MYNSTER, DC PC",
         "showlegend": true,
         "type": "scattergl",
         "x": [
          "DONALD MYNSTER"
         ],
         "xaxis": "x",
         "y": [
          84
         ],
         "yaxis": "y"
        },
        {
         "hovertemplate": "to_facility=VERTEX SPINE AND PAIN, PLLC<br>from_physician=%{x}<br>patient_count=%{y}<extra></extra>",
         "legendgroup": "VERTEX SPINE AND PAIN, PLLC",
         "marker": {
          "color": "#636efa",
          "symbol": "circle"
         },
         "mode": "markers",
         "name": "VERTEX SPINE AND PAIN, PLLC",
         "showlegend": true,
         "type": "scattergl",
         "x": [
          "JOE SHAW"
         ],
         "xaxis": "x",
         "y": [
          143
         ],
         "yaxis": "y"
        },
        {
         "hovertemplate": "to_facility=HOMETOWN HEALTHCARE<br>from_physician=%{x}<br>patient_count=%{y}<extra></extra>",
         "legendgroup": "HOMETOWN HEALTHCARE",
         "marker": {
          "color": "#EF553B",
          "symbol": "circle"
         },
         "mode": "markers",
         "name": "HOMETOWN HEALTHCARE",
         "showlegend": true,
         "type": "scattergl",
         "x": [
          "JENIFER HUFFINES"
         ],
         "xaxis": "x",
         "y": [
          79
         ],
         "yaxis": "y"
        },
        {
         "hovertemplate": "to_facility=LEBANON HEALTH CARE CENTER<br>from_physician=%{x}<br>patient_count=%{y}<extra></extra>",
         "legendgroup": "LEBANON HEALTH CARE CENTER",
         "marker": {
          "color": "#00cc96",
          "symbol": "circle"
         },
         "mode": "markers",
         "name": "LEBANON HEALTH CARE CENTER",
         "showlegend": true,
         "type": "scattergl",
         "x": [
          "TYROMA RIGSBY"
         ],
         "xaxis": "x",
         "y": [
          22
         ],
         "yaxis": "y"
        },
        {
         "hovertemplate": "to_facility=HBC NUTRITION LLC<br>from_physician=%{x}<br>patient_count=%{y}<extra></extra>",
         "legendgroup": "HBC NUTRITION LLC",
         "marker": {
          "color": "#ab63fa",
          "symbol": "circle"
         },
         "mode": "markers",
         "name": "HBC NUTRITION LLC",
         "showlegend": true,
         "type": "scattergl",
         "x": [
          "HEATHER CRAIG"
         ],
         "xaxis": "x",
         "y": [
          29
         ],
         "yaxis": "y"
        },
        {
         "hovertemplate": "to_facility=ENDOCRINOLOGY DIABETES ASSOCIATES<br>from_physician=%{x}<br>patient_count=%{y}<extra></extra>",
         "legendgroup": "ENDOCRINOLOGY DIABETES ASSOCIATES",
         "marker": {
          "color": "#FFA15A",
          "symbol": "circle"
         },
         "mode": "markers",
         "name": "ENDOCRINOLOGY DIABETES ASSOCIATES",
         "showlegend": true,
         "type": "scattergl",
         "x": [
          "EMILY NEELY",
          "JOHN MCRAE"
         ],
         "xaxis": "x",
         "y": [
          423,
          637
         ],
         "yaxis": "y"
        },
        {
         "hovertemplate": "to_facility=SENTIENT PHYSICIANS, P.C.<br>from_physician=%{x}<br>patient_count=%{y}<extra></extra>",
         "legendgroup": "SENTIENT PHYSICIANS, P.C.",
         "marker": {
          "color": "#19d3f3",
          "symbol": "circle"
         },
         "mode": "markers",
         "name": "SENTIENT PHYSICIANS, P.C.",
         "showlegend": true,
         "type": "scattergl",
         "x": [
          "ONILE SESTOKAS"
         ],
         "xaxis": "x",
         "y": [
          70
         ],
         "yaxis": "y"
        },
        {
         "hovertemplate": "to_facility=MISSION CHIROPRACTIC<br>from_physician=%{x}<br>patient_count=%{y}<extra></extra>",
         "legendgroup": "MISSION CHIROPRACTIC",
         "marker": {
          "color": "#FF6692",
          "symbol": "circle"
         },
         "mode": "markers",
         "name": "MISSION CHIROPRACTIC",
         "showlegend": true,
         "type": "scattergl",
         "x": [
          "RONSON DYKSTRA"
         ],
         "xaxis": "x",
         "y": [
          36
         ],
         "yaxis": "y"
        },
        {
         "hovertemplate": "to_facility=WHITE BLUFF FAMILY HEALTH CARE CENTER INC<br>from_physician=%{x}<br>patient_count=%{y}<extra></extra>",
         "legendgroup": "WHITE BLUFF FAMILY HEALTH CARE CENTER INC",
         "marker": {
          "color": "#B6E880",
          "symbol": "circle"
         },
         "mode": "markers",
         "name": "WHITE BLUFF FAMILY HEALTH CARE CENTER INC",
         "showlegend": true,
         "type": "scattergl",
         "x": [
          "EDWIN SIMON"
         ],
         "xaxis": "x",
         "y": [
          43
         ],
         "yaxis": "y"
        },
        {
         "hovertemplate": "to_facility=WILSON COUNTY EYE SURGERY CENTER, LLC<br>from_physician=%{x}<br>patient_count=%{y}<extra></extra>",
         "legendgroup": "WILSON COUNTY EYE SURGERY CENTER, LLC",
         "marker": {
          "color": "#FF97FF",
          "symbol": "circle"
         },
         "mode": "markers",
         "name": "WILSON COUNTY EYE SURGERY CENTER, LLC",
         "showlegend": true,
         "type": "scattergl",
         "x": [
          "DEBORAH HAAS"
         ],
         "xaxis": "x",
         "y": [
          65
         ],
         "yaxis": "y"
        },
        {
         "hovertemplate": "to_facility=ASSOCIATED UROLOGISTS OF NASHVILLE<br>from_physician=%{x}<br>patient_count=%{y}<extra></extra>",
         "legendgroup": "ASSOCIATED UROLOGISTS OF NASHVILLE",
         "marker": {
          "color": "#FECB52",
          "symbol": "circle"
         },
         "mode": "markers",
         "name": "ASSOCIATED UROLOGISTS OF NASHVILLE",
         "showlegend": true,
         "type": "scattergl",
         "x": [
          "JOHN WARNER"
         ],
         "xaxis": "x",
         "y": [
          966
         ],
         "yaxis": "y"
        },
        {
         "hovertemplate": "to_facility=W SCOTT WEST, MD PLLC<br>from_physician=%{x}<br>patient_count=%{y}<extra></extra>",
         "legendgroup": "W SCOTT WEST, MD PLLC",
         "marker": {
          "color": "#636efa",
          "symbol": "circle"
         },
         "mode": "markers",
         "name": "W SCOTT WEST, MD PLLC",
         "showlegend": true,
         "type": "scattergl",
         "x": [
          "WILLIAM WEST"
         ],
         "xaxis": "x",
         "y": [
          244
         ],
         "yaxis": "y"
        },
        {
         "hovertemplate": "to_facility=EYE SURGER CENTER OF MIDDLE TENNESSEE, LLC<br>from_physician=%{x}<br>patient_count=%{y}<extra></extra>",
         "legendgroup": "EYE SURGER CENTER OF MIDDLE TENNESSEE, LLC",
         "marker": {
          "color": "#EF553B",
          "symbol": "circle"
         },
         "mode": "markers",
         "name": "EYE SURGER CENTER OF MIDDLE TENNESSEE, LLC",
         "showlegend": true,
         "type": "scattergl",
         "x": [
          "JAMIE MORRISON"
         ],
         "xaxis": "x",
         "y": [
          146
         ],
         "yaxis": "y"
        },
        {
         "hovertemplate": "to_facility=SULKOWSKI FAMILY MEDICINE, PLLC<br>from_physician=%{x}<br>patient_count=%{y}<extra></extra>",
         "legendgroup": "SULKOWSKI FAMILY MEDICINE, PLLC",
         "marker": {
          "color": "#00cc96",
          "symbol": "circle"
         },
         "mode": "markers",
         "name": "SULKOWSKI FAMILY MEDICINE, PLLC",
         "showlegend": true,
         "type": "scattergl",
         "x": [
          "THOMAS SULKOWSKI"
         ],
         "xaxis": "x",
         "y": [
          89
         ],
         "yaxis": "y"
        },
        {
         "hovertemplate": "to_facility=HELPING HOUSE, PLC<br>from_physician=%{x}<br>patient_count=%{y}<extra></extra>",
         "legendgroup": "HELPING HOUSE, PLC",
         "marker": {
          "color": "#ab63fa",
          "symbol": "circle"
         },
         "mode": "markers",
         "name": "HELPING HOUSE, PLC",
         "showlegend": true,
         "type": "scattergl",
         "x": [
          "CORENA HARRIS"
         ],
         "xaxis": "x",
         "y": [
          29
         ],
         "yaxis": "y"
        },
        {
         "hovertemplate": "to_facility=ROGER P. SHERMAN, M.D., P.L.L.C.<br>from_physician=%{x}<br>patient_count=%{y}<extra></extra>",
         "legendgroup": "ROGER P. SHERMAN, M.D., P.L.L.C.",
         "marker": {
          "color": "#FFA15A",
          "symbol": "circle"
         },
         "mode": "markers",
         "name": "ROGER P. SHERMAN, M.D., P.L.L.C.",
         "showlegend": true,
         "type": "scattergl",
         "x": [
          "ROGER SHERMAN"
         ],
         "xaxis": "x",
         "y": [
          13
         ],
         "yaxis": "y"
        },
        {
         "hovertemplate": "to_facility=UNITED NEIGHBORHOOD NEIGHBORHOOD HEALTH SERVICES, INC<br>from_physician=%{x}<br>patient_count=%{y}<extra></extra>",
         "legendgroup": "UNITED NEIGHBORHOOD NEIGHBORHOOD HEALTH SERVICES, INC",
         "marker": {
          "color": "#19d3f3",
          "symbol": "circle"
         },
         "mode": "markers",
         "name": "UNITED NEIGHBORHOOD NEIGHBORHOOD HEALTH SERVICES, INC",
         "showlegend": true,
         "type": "scattergl",
         "x": [
          "JOSEPH OJIBWAY"
         ],
         "xaxis": "x",
         "y": [
          52
         ],
         "yaxis": "y"
        },
        {
         "hovertemplate": "to_facility=LAWRENCE E. BURNS, DPM, INC.<br>from_physician=%{x}<br>patient_count=%{y}<extra></extra>",
         "legendgroup": "LAWRENCE E. BURNS, DPM, INC.",
         "marker": {
          "color": "#FF6692",
          "symbol": "circle"
         },
         "mode": "markers",
         "name": "LAWRENCE E. BURNS, DPM, INC.",
         "showlegend": true,
         "type": "scattergl",
         "x": [
          "LAWRENCE BURNS"
         ],
         "xaxis": "x",
         "y": [
          375
         ],
         "yaxis": "y"
        },
        {
         "hovertemplate": "to_facility=FRANKLIN HEARING CENTER, PC<br>from_physician=%{x}<br>patient_count=%{y}<extra></extra>",
         "legendgroup": "FRANKLIN HEARING CENTER, PC",
         "marker": {
          "color": "#B6E880",
          "symbol": "circle"
         },
         "mode": "markers",
         "name": "FRANKLIN HEARING CENTER, PC",
         "showlegend": true,
         "type": "scattergl",
         "x": [
          "CYNTHIA ELLISON"
         ],
         "xaxis": "x",
         "y": [
          50
         ],
         "yaxis": "y"
        },
        {
         "hovertemplate": "to_facility=HOPE FAMILY HEALTH SERVICES<br>from_physician=%{x}<br>patient_count=%{y}<extra></extra>",
         "legendgroup": "HOPE FAMILY HEALTH SERVICES",
         "marker": {
          "color": "#FF97FF",
          "symbol": "circle"
         },
         "mode": "markers",
         "name": "HOPE FAMILY HEALTH SERVICES",
         "showlegend": true,
         "type": "scattergl",
         "x": [
          "RENA ALLGOOD"
         ],
         "xaxis": "x",
         "y": [
          26
         ],
         "yaxis": "y"
        },
        {
         "hovertemplate": "to_facility=DONELSON FAMILY PRACTICE, PLLC<br>from_physician=%{x}<br>patient_count=%{y}<extra></extra>",
         "legendgroup": "DONELSON FAMILY PRACTICE, PLLC",
         "marker": {
          "color": "#FECB52",
          "symbol": "circle"
         },
         "mode": "markers",
         "name": "DONELSON FAMILY PRACTICE, PLLC",
         "showlegend": true,
         "type": "scattergl",
         "x": [
          "GITA MISHRA"
         ],
         "xaxis": "x",
         "y": [
          43
         ],
         "yaxis": "y"
        },
        {
         "hovertemplate": "to_facility=QIAN EYE CARE PLLC<br>from_physician=%{x}<br>patient_count=%{y}<extra></extra>",
         "legendgroup": "QIAN EYE CARE PLLC",
         "marker": {
          "color": "#636efa",
          "symbol": "circle"
         },
         "mode": "markers",
         "name": "QIAN EYE CARE PLLC",
         "showlegend": true,
         "type": "scattergl",
         "x": [
          "JIN QIAN"
         ],
         "xaxis": "x",
         "y": [
          672
         ],
         "yaxis": "y"
        },
        {
         "hovertemplate": "to_facility=DRAKE EYE CARE AND EYEWEAR PLLC<br>from_physician=%{x}<br>patient_count=%{y}<extra></extra>",
         "legendgroup": "DRAKE EYE CARE AND EYEWEAR PLLC",
         "marker": {
          "color": "#EF553B",
          "symbol": "circle"
         },
         "mode": "markers",
         "name": "DRAKE EYE CARE AND EYEWEAR PLLC",
         "showlegend": true,
         "type": "scattergl",
         "x": [
          "JENNIFER DRAKE"
         ],
         "xaxis": "x",
         "y": [
          136
         ],
         "yaxis": "y"
        },
        {
         "hovertemplate": "to_facility=NASHVILLE BONE AND JOINT PLLC<br>from_physician=%{x}<br>patient_count=%{y}<extra></extra>",
         "legendgroup": "NASHVILLE BONE AND JOINT PLLC",
         "marker": {
          "color": "#00cc96",
          "symbol": "circle"
         },
         "mode": "markers",
         "name": "NASHVILLE BONE AND JOINT PLLC",
         "showlegend": true,
         "type": "scattergl",
         "x": [
          "RYAN MEYERS"
         ],
         "xaxis": "x",
         "y": [
          286
         ],
         "yaxis": "y"
        },
        {
         "hovertemplate": "to_facility=STROKE & HEART ATTACK PREVENTION CENTER, PLLC<br>from_physician=%{x}<br>patient_count=%{y}<extra></extra>",
         "legendgroup": "STROKE & HEART ATTACK PREVENTION CENTER, PLLC",
         "marker": {
          "color": "#ab63fa",
          "symbol": "circle"
         },
         "mode": "markers",
         "name": "STROKE & HEART ATTACK PREVENTION CENTER, PLLC",
         "showlegend": true,
         "type": "scattergl",
         "x": [
          "ALFRED CALLAHAN"
         ],
         "xaxis": "x",
         "y": [
          407
         ],
         "yaxis": "y"
        },
        {
         "hovertemplate": "to_facility=PATTERSON CHIROPRACTIC SERVICES C.P.C.<br>from_physician=%{x}<br>patient_count=%{y}<extra></extra>",
         "legendgroup": "PATTERSON CHIROPRACTIC SERVICES C.P.C.",
         "marker": {
          "color": "#FFA15A",
          "symbol": "circle"
         },
         "mode": "markers",
         "name": "PATTERSON CHIROPRACTIC SERVICES C.P.C.",
         "showlegend": true,
         "type": "scattergl",
         "x": [
          "PAUL PATTERSON"
         ],
         "xaxis": "x",
         "y": [
          78
         ],
         "yaxis": "y"
        },
        {
         "hovertemplate": "to_facility=HTI MEMORIAL HOSPITAL CORPORATION<br>from_physician=%{x}<br>patient_count=%{y}<extra></extra>",
         "legendgroup": "HTI MEMORIAL HOSPITAL CORPORATION",
         "marker": {
          "color": "#19d3f3",
          "symbol": "circle"
         },
         "mode": "markers",
         "name": "HTI MEMORIAL HOSPITAL CORPORATION",
         "showlegend": true,
         "type": "scattergl",
         "x": [
          "LYNSEY ROTHENBURGER"
         ],
         "xaxis": "x",
         "y": [
          126
         ],
         "yaxis": "y"
        },
        {
         "hovertemplate": "to_facility=FAMILY MEDICAL PC<br>from_physician=%{x}<br>patient_count=%{y}<extra></extra>",
         "legendgroup": "FAMILY MEDICAL PC",
         "marker": {
          "color": "#FF6692",
          "symbol": "circle"
         },
         "mode": "markers",
         "name": "FAMILY MEDICAL PC",
         "showlegend": true,
         "type": "scattergl",
         "x": [
          "TRACY MOSS"
         ],
         "xaxis": "x",
         "y": [
          372
         ],
         "yaxis": "y"
        },
        {
         "hovertemplate": "to_facility=MODERN EYECARE CENTER, LLC<br>from_physician=%{x}<br>patient_count=%{y}<extra></extra>",
         "legendgroup": "MODERN EYECARE CENTER, LLC",
         "marker": {
          "color": "#B6E880",
          "symbol": "circle"
         },
         "mode": "markers",
         "name": "MODERN EYECARE CENTER, LLC",
         "showlegend": true,
         "type": "scattergl",
         "x": [
          "DAVID MCAFEE"
         ],
         "xaxis": "x",
         "y": [
          82
         ],
         "yaxis": "y"
        },
        {
         "hovertemplate": "to_facility=LEBANON ENDOSCOPY CENTER LLC<br>from_physician=%{x}<br>patient_count=%{y}<extra></extra>",
         "legendgroup": "LEBANON ENDOSCOPY CENTER LLC",
         "marker": {
          "color": "#FF97FF",
          "symbol": "circle"
         },
         "mode": "markers",
         "name": "LEBANON ENDOSCOPY CENTER LLC",
         "showlegend": true,
         "type": "scattergl",
         "x": [
          "BRENDAN O'HARE",
          "CHARLES GOLDEN"
         ],
         "xaxis": "x",
         "y": [
          101,
          98
         ],
         "yaxis": "y"
        },
        {
         "hovertemplate": "to_facility=NASHVILLE PLASTIC AND RECONSTRUCTIVE SURGERY, PLC<br>from_physician=%{x}<br>patient_count=%{y}<extra></extra>",
         "legendgroup": "NASHVILLE PLASTIC AND RECONSTRUCTIVE SURGERY, PLC",
         "marker": {
          "color": "#FECB52",
          "symbol": "circle"
         },
         "mode": "markers",
         "name": "NASHVILLE PLASTIC AND RECONSTRUCTIVE SURGERY, PLC",
         "showlegend": true,
         "type": "scattergl",
         "x": [
          "MICHAEL CASH"
         ],
         "xaxis": "x",
         "y": [
          46
         ],
         "yaxis": "y"
        },
        {
         "hovertemplate": "to_facility=TENNESSEE PODIATRY LLC<br>from_physician=%{x}<br>patient_count=%{y}<extra></extra>",
         "legendgroup": "TENNESSEE PODIATRY LLC",
         "marker": {
          "color": "#636efa",
          "symbol": "circle"
         },
         "mode": "markers",
         "name": "TENNESSEE PODIATRY LLC",
         "showlegend": true,
         "type": "scattergl",
         "x": [
          "RICHARD BREEDEN"
         ],
         "xaxis": "x",
         "y": [
          619
         ],
         "yaxis": "y"
        },
        {
         "hovertemplate": "to_facility=CARESPOT OF HENDERSONVILLE 280 INDIAN LAKE BOULEVARD<br>from_physician=%{x}<br>patient_count=%{y}<extra></extra>",
         "legendgroup": "CARESPOT OF HENDERSONVILLE 280 INDIAN LAKE BOULEVARD",
         "marker": {
          "color": "#EF553B",
          "symbol": "circle"
         },
         "mode": "markers",
         "name": "CARESPOT OF HENDERSONVILLE 280 INDIAN LAKE BOULEVARD",
         "showlegend": true,
         "type": "scattergl",
         "x": [
          "CANDICE SCHARKLET"
         ],
         "xaxis": "x",
         "y": [
          96
         ],
         "yaxis": "y"
        },
        {
         "hovertemplate": "to_facility=GREG KYSER MD LLC<br>from_physician=%{x}<br>patient_count=%{y}<extra></extra>",
         "legendgroup": "GREG KYSER MD LLC",
         "marker": {
          "color": "#00cc96",
          "symbol": "circle"
         },
         "mode": "markers",
         "name": "GREG KYSER MD LLC",
         "showlegend": true,
         "type": "scattergl",
         "x": [
          "JAMES KYSER"
         ],
         "xaxis": "x",
         "y": [
          36
         ],
         "yaxis": "y"
        },
        {
         "hovertemplate": "to_facility=WAYNE A POTTER DC PC<br>from_physician=%{x}<br>patient_count=%{y}<extra></extra>",
         "legendgroup": "WAYNE A POTTER DC PC",
         "marker": {
          "color": "#ab63fa",
          "symbol": "circle"
         },
         "mode": "markers",
         "name": "WAYNE A POTTER DC PC",
         "showlegend": true,
         "type": "scattergl",
         "x": [
          "WAYNE POTTER"
         ],
         "xaxis": "x",
         "y": [
          38
         ],
         "yaxis": "y"
        },
        {
         "hovertemplate": "to_facility=MIDDLE TENN ENT SPECIALISTS<br>from_physician=%{x}<br>patient_count=%{y}<extra></extra>",
         "legendgroup": "MIDDLE TENN ENT SPECIALISTS",
         "marker": {
          "color": "#FFA15A",
          "symbol": "circle"
         },
         "mode": "markers",
         "name": "MIDDLE TENN ENT SPECIALISTS",
         "showlegend": true,
         "type": "scattergl",
         "x": [
          "SHAUN CORBIN"
         ],
         "xaxis": "x",
         "y": [
          1302
         ],
         "yaxis": "y"
        },
        {
         "hovertemplate": "to_facility=HUGHES MCDANIEL & ASSOCIATES PLC<br>from_physician=%{x}<br>patient_count=%{y}<extra></extra>",
         "legendgroup": "HUGHES MCDANIEL & ASSOCIATES PLC",
         "marker": {
          "color": "#19d3f3",
          "symbol": "circle"
         },
         "mode": "markers",
         "name": "HUGHES MCDANIEL & ASSOCIATES PLC",
         "showlegend": true,
         "type": "scattergl",
         "x": [
          "JACQUELINE TANG-MORGAN"
         ],
         "xaxis": "x",
         "y": [
          32
         ],
         "yaxis": "y"
        },
        {
         "hovertemplate": "to_facility=TOTAL WELLNESS THERAPY, LLC<br>from_physician=%{x}<br>patient_count=%{y}<extra></extra>",
         "legendgroup": "TOTAL WELLNESS THERAPY, LLC",
         "marker": {
          "color": "#FF6692",
          "symbol": "circle"
         },
         "mode": "markers",
         "name": "TOTAL WELLNESS THERAPY, LLC",
         "showlegend": true,
         "type": "scattergl",
         "x": [
          "SARAH WOODWARD"
         ],
         "xaxis": "x",
         "y": [
          15
         ],
         "yaxis": "y"
        },
        {
         "hovertemplate": "to_facility=GENERATION CHIROPRACTIC<br>from_physician=%{x}<br>patient_count=%{y}<extra></extra>",
         "legendgroup": "GENERATION CHIROPRACTIC",
         "marker": {
          "color": "#B6E880",
          "symbol": "circle"
         },
         "mode": "markers",
         "name": "GENERATION CHIROPRACTIC",
         "showlegend": true,
         "type": "scattergl",
         "x": [
          "DEANDRA HERNDON"
         ],
         "xaxis": "x",
         "y": [
          37
         ],
         "yaxis": "y"
        },
        {
         "hovertemplate": "to_facility=DR. J CLIFFORD BROWN, A DIVISION OF HENDERSONVILLE REHAB CLINIC, INC<br>from_physician=%{x}<br>patient_count=%{y}<extra></extra>",
         "legendgroup": "DR. J CLIFFORD BROWN, A DIVISION OF HENDERSONVILLE REHAB CLINIC, INC",
         "marker": {
          "color": "#FF97FF",
          "symbol": "circle"
         },
         "mode": "markers",
         "name": "DR. J CLIFFORD BROWN, A DIVISION OF HENDERSONVILLE REHAB CLINIC, INC",
         "showlegend": true,
         "type": "scattergl",
         "x": [
          "JAMES BROWN"
         ],
         "xaxis": "x",
         "y": [
          193
         ],
         "yaxis": "y"
        },
        {
         "hovertemplate": "to_facility=MURFREESBORO FAMILY CARE, P.C.<br>from_physician=%{x}<br>patient_count=%{y}<extra></extra>",
         "legendgroup": "MURFREESBORO FAMILY CARE, P.C.",
         "marker": {
          "color": "#FECB52",
          "symbol": "circle"
         },
         "mode": "markers",
         "name": "MURFREESBORO FAMILY CARE, P.C.",
         "showlegend": true,
         "type": "scattergl",
         "x": [
          "DAVID JOHNSON"
         ],
         "xaxis": "x",
         "y": [
          296
         ],
         "yaxis": "y"
        },
        {
         "hovertemplate": "to_facility=TNMO HEALTHCARE, LLC<br>from_physician=%{x}<br>patient_count=%{y}<extra></extra>",
         "legendgroup": "TNMO HEALTHCARE, LLC",
         "marker": {
          "color": "#636efa",
          "symbol": "circle"
         },
         "mode": "markers",
         "name": "TNMO HEALTHCARE, LLC",
         "showlegend": true,
         "type": "scattergl",
         "x": [
          "JOHN FISK"
         ],
         "xaxis": "x",
         "y": [
          27
         ],
         "yaxis": "y"
        },
        {
         "hovertemplate": "to_facility=EAST NASHVILLE FAMILY MEDICINE<br>from_physician=%{x}<br>patient_count=%{y}<extra></extra>",
         "legendgroup": "EAST NASHVILLE FAMILY MEDICINE",
         "marker": {
          "color": "#EF553B",
          "symbol": "circle"
         },
         "mode": "markers",
         "name": "EAST NASHVILLE FAMILY MEDICINE",
         "showlegend": true,
         "type": "scattergl",
         "x": [
          "ROZMOND LEWIS"
         ],
         "xaxis": "x",
         "y": [
          148
         ],
         "yaxis": "y"
        },
        {
         "hovertemplate": "to_facility=DAVID O RANZ MD<br>from_physician=%{x}<br>patient_count=%{y}<extra></extra>",
         "legendgroup": "DAVID O RANZ MD",
         "marker": {
          "color": "#00cc96",
          "symbol": "circle"
         },
         "mode": "markers",
         "name": "DAVID O RANZ MD",
         "showlegend": true,
         "type": "scattergl",
         "x": [
          "DAVID RANZ"
         ],
         "xaxis": "x",
         "y": [
          906
         ],
         "yaxis": "y"
        },
        {
         "hovertemplate": "to_facility=POWERS CHIROPRACTIC INC<br>from_physician=%{x}<br>patient_count=%{y}<extra></extra>",
         "legendgroup": "POWERS CHIROPRACTIC INC",
         "marker": {
          "color": "#ab63fa",
          "symbol": "circle"
         },
         "mode": "markers",
         "name": "POWERS CHIROPRACTIC INC",
         "showlegend": true,
         "type": "scattergl",
         "x": [
          "MYLES CRAWFORD"
         ],
         "xaxis": "x",
         "y": [
          31
         ],
         "yaxis": "y"
        },
        {
         "hovertemplate": "to_facility=LU PONCE MD PC<br>from_physician=%{x}<br>patient_count=%{y}<extra></extra>",
         "legendgroup": "LU PONCE MD PC",
         "marker": {
          "color": "#FFA15A",
          "symbol": "circle"
         },
         "mode": "markers",
         "name": "LU PONCE MD PC",
         "showlegend": true,
         "type": "scattergl",
         "x": [
          "LOU PONCE"
         ],
         "xaxis": "x",
         "y": [
          113
         ],
         "yaxis": "y"
        },
        {
         "hovertemplate": "to_facility=PRECISION SPINE SPECIALISTS, PLLC<br>from_physician=%{x}<br>patient_count=%{y}<extra></extra>",
         "legendgroup": "PRECISION SPINE SPECIALISTS, PLLC",
         "marker": {
          "color": "#19d3f3",
          "symbol": "circle"
         },
         "mode": "markers",
         "name": "PRECISION SPINE SPECIALISTS, PLLC",
         "showlegend": true,
         "type": "scattergl",
         "x": [
          "SHAWN HALL"
         ],
         "xaxis": "x",
         "y": [
          100
         ],
         "yaxis": "y"
        },
        {
         "hovertemplate": "to_facility=DICKSON MEDICAL ASSOCIATES PC<br>from_physician=%{x}<br>patient_count=%{y}<extra></extra>",
         "legendgroup": "DICKSON MEDICAL ASSOCIATES PC",
         "marker": {
          "color": "#FF6692",
          "symbol": "circle"
         },
         "mode": "markers",
         "name": "DICKSON MEDICAL ASSOCIATES PC",
         "showlegend": true,
         "type": "scattergl",
         "x": [
          "JOSHUA VAUGHN",
          "JEAN ALEXANDER",
          "DOLORES LUCAS"
         ],
         "xaxis": "x",
         "y": [
          118,
          54,
          872
         ],
         "yaxis": "y"
        },
        {
         "hovertemplate": "to_facility=CORE SOLUTIONS PHYSICAL THERAPY, LLC<br>from_physician=%{x}<br>patient_count=%{y}<extra></extra>",
         "legendgroup": "CORE SOLUTIONS PHYSICAL THERAPY, LLC",
         "marker": {
          "color": "#B6E880",
          "symbol": "circle"
         },
         "mode": "markers",
         "name": "CORE SOLUTIONS PHYSICAL THERAPY, LLC",
         "showlegend": true,
         "type": "scattergl",
         "x": [
          "KAREN ODOM"
         ],
         "xaxis": "x",
         "y": [
          13
         ],
         "yaxis": "y"
        },
        {
         "hovertemplate": "to_facility=CRESCENT MEDICAL GROUP PLLC<br>from_physician=%{x}<br>patient_count=%{y}<extra></extra>",
         "legendgroup": "CRESCENT MEDICAL GROUP PLLC",
         "marker": {
          "color": "#FF97FF",
          "symbol": "circle"
         },
         "mode": "markers",
         "name": "CRESCENT MEDICAL GROUP PLLC",
         "showlegend": true,
         "type": "scattergl",
         "x": [
          "FAIZA AMIN"
         ],
         "xaxis": "x",
         "y": [
          70
         ],
         "yaxis": "y"
        },
        {
         "hovertemplate": "to_facility=SIGNATURE NEPHROLOGY GROUP PC<br>from_physician=%{x}<br>patient_count=%{y}<extra></extra>",
         "legendgroup": "SIGNATURE NEPHROLOGY GROUP PC",
         "marker": {
          "color": "#FECB52",
          "symbol": "circle"
         },
         "mode": "markers",
         "name": "SIGNATURE NEPHROLOGY GROUP PC",
         "showlegend": true,
         "type": "scattergl",
         "x": [
          "ORVILLE CAMPBELL"
         ],
         "xaxis": "x",
         "y": [
          21
         ],
         "yaxis": "y"
        },
        {
         "hovertemplate": "to_facility=TENNESSEE MEDICINE & PEDIATRICS PC<br>from_physician=%{x}<br>patient_count=%{y}<extra></extra>",
         "legendgroup": "TENNESSEE MEDICINE & PEDIATRICS PC",
         "marker": {
          "color": "#636efa",
          "symbol": "circle"
         },
         "mode": "markers",
         "name": "TENNESSEE MEDICINE & PEDIATRICS PC",
         "showlegend": true,
         "type": "scattergl",
         "x": [
          "HEATHER PHILLIPS"
         ],
         "xaxis": "x",
         "y": [
          136
         ],
         "yaxis": "y"
        },
        {
         "hovertemplate": "to_facility=FAMILY VISION CARE OF COOL SPRINGS, LLC<br>from_physician=%{x}<br>patient_count=%{y}<extra></extra>",
         "legendgroup": "FAMILY VISION CARE OF COOL SPRINGS, LLC",
         "marker": {
          "color": "#EF553B",
          "symbol": "circle"
         },
         "mode": "markers",
         "name": "FAMILY VISION CARE OF COOL SPRINGS, LLC",
         "showlegend": true,
         "type": "scattergl",
         "x": [
          "DAXX DUNN"
         ],
         "xaxis": "x",
         "y": [
          46
         ],
         "yaxis": "y"
        },
        {
         "hovertemplate": "to_facility=1ST CHOICE CHIROPRACTIC INC.<br>from_physician=%{x}<br>patient_count=%{y}<extra></extra>",
         "legendgroup": "1ST CHOICE CHIROPRACTIC INC.",
         "marker": {
          "color": "#00cc96",
          "symbol": "circle"
         },
         "mode": "markers",
         "name": "1ST CHOICE CHIROPRACTIC INC.",
         "showlegend": true,
         "type": "scattergl",
         "x": [
          "STEPHEN SCHEITEL"
         ],
         "xaxis": "x",
         "y": [
          62
         ],
         "yaxis": "y"
        },
        {
         "hovertemplate": "to_facility=WAYNE O. WELLS, M.D.<br>from_physician=%{x}<br>patient_count=%{y}<extra></extra>",
         "legendgroup": "WAYNE O. WELLS, M.D.",
         "marker": {
          "color": "#ab63fa",
          "symbol": "circle"
         },
         "mode": "markers",
         "name": "WAYNE O. WELLS, M.D.",
         "showlegend": true,
         "type": "scattergl",
         "x": [
          "WAYNE WELLS"
         ],
         "xaxis": "x",
         "y": [
          235
         ],
         "yaxis": "y"
        },
        {
         "hovertemplate": "to_facility=SUN-YOUNG, PLLC<br>from_physician=%{x}<br>patient_count=%{y}<extra></extra>",
         "legendgroup": "SUN-YOUNG, PLLC",
         "marker": {
          "color": "#FFA15A",
          "symbol": "circle"
         },
         "mode": "markers",
         "name": "SUN-YOUNG, PLLC",
         "showlegend": true,
         "type": "scattergl",
         "x": [
          "DARRELL ARNETT",
          "BOBBY AGUAYO",
          "LESLIE FORT",
          "DOUGLAS YOUNG"
         ],
         "xaxis": "x",
         "y": [
          175,
          116,
          128,
          180
         ],
         "yaxis": "y"
        },
        {
         "hovertemplate": "to_facility=MIDSTATE HEALTH ASSOCIATES INC<br>from_physician=%{x}<br>patient_count=%{y}<extra></extra>",
         "legendgroup": "MIDSTATE HEALTH ASSOCIATES INC",
         "marker": {
          "color": "#19d3f3",
          "symbol": "circle"
         },
         "mode": "markers",
         "name": "MIDSTATE HEALTH ASSOCIATES INC",
         "showlegend": true,
         "type": "scattergl",
         "x": [
          "JOHN ADEWUMI"
         ],
         "xaxis": "x",
         "y": [
          198
         ],
         "yaxis": "y"
        },
        {
         "hovertemplate": "to_facility=BLUESKY HOUSECALLS, LLC<br>from_physician=%{x}<br>patient_count=%{y}<extra></extra>",
         "legendgroup": "BLUESKY HOUSECALLS, LLC",
         "marker": {
          "color": "#FF6692",
          "symbol": "circle"
         },
         "mode": "markers",
         "name": "BLUESKY HOUSECALLS, LLC",
         "showlegend": true,
         "type": "scattergl",
         "x": [
          "RONA SISCOE",
          "JULIE DAVIS"
         ],
         "xaxis": "x",
         "y": [
          32,
          82
         ],
         "yaxis": "y"
        },
        {
         "hovertemplate": "to_facility=WOMEN'S HEALTH SPECIALISTS, PLLC<br>from_physician=%{x}<br>patient_count=%{y}<extra></extra>",
         "legendgroup": "WOMEN'S HEALTH SPECIALISTS, PLLC",
         "marker": {
          "color": "#B6E880",
          "symbol": "circle"
         },
         "mode": "markers",
         "name": "WOMEN'S HEALTH SPECIALISTS, PLLC",
         "showlegend": true,
         "type": "scattergl",
         "x": [
          "KIMBERLY MCGOWAN",
          "DANA JONES"
         ],
         "xaxis": "x",
         "y": [
          47,
          59
         ],
         "yaxis": "y"
        },
        {
         "hovertemplate": "to_facility=FAIRHURST DERMATOLOGY<br>from_physician=%{x}<br>patient_count=%{y}<extra></extra>",
         "legendgroup": "FAIRHURST DERMATOLOGY",
         "marker": {
          "color": "#FF97FF",
          "symbol": "circle"
         },
         "mode": "markers",
         "name": "FAIRHURST DERMATOLOGY",
         "showlegend": true,
         "type": "scattergl",
         "x": [
          "MARK FAIRHURST"
         ],
         "xaxis": "x",
         "y": [
          1258
         ],
         "yaxis": "y"
        },
        {
         "hovertemplate": "to_facility=WOMEN'S HEALTH CENTER, P.C.<br>from_physician=%{x}<br>patient_count=%{y}<extra></extra>",
         "legendgroup": "WOMEN'S HEALTH CENTER, P.C.",
         "marker": {
          "color": "#FECB52",
          "symbol": "circle"
         },
         "mode": "markers",
         "name": "WOMEN'S HEALTH CENTER, P.C.",
         "showlegend": true,
         "type": "scattergl",
         "x": [
          "HEATHER POTTS"
         ],
         "xaxis": "x",
         "y": [
          68
         ],
         "yaxis": "y"
        },
        {
         "hovertemplate": "to_facility=RYAN D. DUNCAN, PLLC<br>from_physician=%{x}<br>patient_count=%{y}<extra></extra>",
         "legendgroup": "RYAN D. DUNCAN, PLLC",
         "marker": {
          "color": "#636efa",
          "symbol": "circle"
         },
         "mode": "markers",
         "name": "RYAN D. DUNCAN, PLLC",
         "showlegend": true,
         "type": "scattergl",
         "x": [
          "RYAN DUNCAN"
         ],
         "xaxis": "x",
         "y": [
          206
         ],
         "yaxis": "y"
        },
        {
         "hovertemplate": "to_facility=GUARDIAN EYE ASSOCIATES PLC<br>from_physician=%{x}<br>patient_count=%{y}<extra></extra>",
         "legendgroup": "GUARDIAN EYE ASSOCIATES PLC",
         "marker": {
          "color": "#EF553B",
          "symbol": "circle"
         },
         "mode": "markers",
         "name": "GUARDIAN EYE ASSOCIATES PLC",
         "showlegend": true,
         "type": "scattergl",
         "x": [
          "MICHAEL DIECKHAUS",
          "JAMES CONRAD",
          "WALTER FREY"
         ],
         "xaxis": "x",
         "y": [
          889,
          1423,
          244
         ],
         "yaxis": "y"
        },
        {
         "hovertemplate": "to_facility=LP NASHVILLE II, LLC<br>from_physician=%{x}<br>patient_count=%{y}<extra></extra>",
         "legendgroup": "LP NASHVILLE II, LLC",
         "marker": {
          "color": "#00cc96",
          "symbol": "circle"
         },
         "mode": "markers",
         "name": "LP NASHVILLE II, LLC",
         "showlegend": true,
         "type": "scattergl",
         "x": [
          "SRINIVAS NIMMAGADDA"
         ],
         "xaxis": "x",
         "y": [
          167
         ],
         "yaxis": "y"
        },
        {
         "hovertemplate": "to_facility=HCA HEALTH SERVICES OF TENNESSEE, INC.<br>from_physician=%{x}<br>patient_count=%{y}<extra></extra>",
         "legendgroup": "HCA HEALTH SERVICES OF TENNESSEE, INC.",
         "marker": {
          "color": "#ab63fa",
          "symbol": "circle"
         },
         "mode": "markers",
         "name": "HCA HEALTH SERVICES OF TENNESSEE, INC.",
         "showlegend": true,
         "type": "scattergl",
         "x": [
          "STEVEN GARDNER"
         ],
         "xaxis": "x",
         "y": [
          39
         ],
         "yaxis": "y"
        },
        {
         "hovertemplate": "to_facility=EAR NOSE & THROAT SPECIALISTS OF NASHVILLE PLC<br>from_physician=%{x}<br>patient_count=%{y}<extra></extra>",
         "legendgroup": "EAR NOSE & THROAT SPECIALISTS OF NASHVILLE PLC",
         "marker": {
          "color": "#FFA15A",
          "symbol": "circle"
         },
         "mode": "markers",
         "name": "EAR NOSE & THROAT SPECIALISTS OF NASHVILLE PLC",
         "showlegend": true,
         "type": "scattergl",
         "x": [
          "JACKIE WINFREY",
          "PAMALA PANNELL"
         ],
         "xaxis": "x",
         "y": [
          51,
          168
         ],
         "yaxis": "y"
        },
        {
         "hovertemplate": "to_facility=WILLIAMSON EYE GROUP, PC<br>from_physician=%{x}<br>patient_count=%{y}<extra></extra>",
         "legendgroup": "WILLIAMSON EYE GROUP, PC",
         "marker": {
          "color": "#19d3f3",
          "symbol": "circle"
         },
         "mode": "markers",
         "name": "WILLIAMSON EYE GROUP, PC",
         "showlegend": true,
         "type": "scattergl",
         "x": [
          "WILLIAM CUTHBERTSON"
         ],
         "xaxis": "x",
         "y": [
          67
         ],
         "yaxis": "y"
        },
        {
         "hovertemplate": "to_facility=VALLEY MEDICAL CENTER, PLLC<br>from_physician=%{x}<br>patient_count=%{y}<extra></extra>",
         "legendgroup": "VALLEY MEDICAL CENTER, PLLC",
         "marker": {
          "color": "#FF6692",
          "symbol": "circle"
         },
         "mode": "markers",
         "name": "VALLEY MEDICAL CENTER, PLLC",
         "showlegend": true,
         "type": "scattergl",
         "x": [
          "ADEJOKE AINA-BABALOLA"
         ],
         "xaxis": "x",
         "y": [
          146
         ],
         "yaxis": "y"
        },
        {
         "hovertemplate": "to_facility=GEORGE CHEIJ<br>from_physician=%{x}<br>patient_count=%{y}<extra></extra>",
         "legendgroup": "GEORGE CHEIJ",
         "marker": {
          "color": "#B6E880",
          "symbol": "circle"
         },
         "mode": "markers",
         "name": "GEORGE CHEIJ",
         "showlegend": true,
         "type": "scattergl",
         "x": [
          "ANNA SKELO",
          "GEORGE CHEIJ"
         ],
         "xaxis": "x",
         "y": [
          403,
          543
         ],
         "yaxis": "y"
        },
        {
         "hovertemplate": "to_facility=RAMA MEDICAL GROUP<br>from_physician=%{x}<br>patient_count=%{y}<extra></extra>",
         "legendgroup": "RAMA MEDICAL GROUP",
         "marker": {
          "color": "#FF97FF",
          "symbol": "circle"
         },
         "mode": "markers",
         "name": "RAMA MEDICAL GROUP",
         "showlegend": true,
         "type": "scattergl",
         "x": [
          "FAWWAZ ALKAYYALI"
         ],
         "xaxis": "x",
         "y": [
          120
         ],
         "yaxis": "y"
        },
        {
         "hovertemplate": "to_facility=ADVENTA HOSPICE LLC<br>from_physician=%{x}<br>patient_count=%{y}<extra></extra>",
         "legendgroup": "ADVENTA HOSPICE LLC",
         "marker": {
          "color": "#FECB52",
          "symbol": "circle"
         },
         "mode": "markers",
         "name": "ADVENTA HOSPICE LLC",
         "showlegend": true,
         "type": "scattergl",
         "x": [
          "SRINIVAS NIMMAGADDA",
          "ALLIE HENDERSON-FITTS"
         ],
         "xaxis": "x",
         "y": [
          163,
          43
         ],
         "yaxis": "y"
        },
        {
         "hovertemplate": "to_facility=LIFE SOURCE CREATING WELLNESS CTR INC<br>from_physician=%{x}<br>patient_count=%{y}<extra></extra>",
         "legendgroup": "LIFE SOURCE CREATING WELLNESS CTR INC",
         "marker": {
          "color": "#636efa",
          "symbol": "circle"
         },
         "mode": "markers",
         "name": "LIFE SOURCE CREATING WELLNESS CTR INC",
         "showlegend": true,
         "type": "scattergl",
         "x": [
          "CHAD UPCHURCH"
         ],
         "xaxis": "x",
         "y": [
          46
         ],
         "yaxis": "y"
        },
        {
         "hovertemplate": "to_facility=SUMNER PHYSICIAN PRACTIES LLC<br>from_physician=%{x}<br>patient_count=%{y}<extra></extra>",
         "legendgroup": "SUMNER PHYSICIAN PRACTIES LLC",
         "marker": {
          "color": "#EF553B",
          "symbol": "circle"
         },
         "mode": "markers",
         "name": "SUMNER PHYSICIAN PRACTIES LLC",
         "showlegend": true,
         "type": "scattergl",
         "x": [
          "EMILY BIENVENU",
          "TERRI HOLT"
         ],
         "xaxis": "x",
         "y": [
          49,
          95
         ],
         "yaxis": "y"
        },
        {
         "hovertemplate": "to_facility=NEURO RESOURCE PC<br>from_physician=%{x}<br>patient_count=%{y}<extra></extra>",
         "legendgroup": "NEURO RESOURCE PC",
         "marker": {
          "color": "#00cc96",
          "symbol": "circle"
         },
         "mode": "markers",
         "name": "NEURO RESOURCE PC",
         "showlegend": true,
         "type": "scattergl",
         "x": [
          "PAULO ACOSTA"
         ],
         "xaxis": "x",
         "y": [
          279
         ],
         "yaxis": "y"
        },
        {
         "hovertemplate": "to_facility=FRANKLIN EYE CARE, PLLC<br>from_physician=%{x}<br>patient_count=%{y}<extra></extra>",
         "legendgroup": "FRANKLIN EYE CARE, PLLC",
         "marker": {
          "color": "#ab63fa",
          "symbol": "circle"
         },
         "mode": "markers",
         "name": "FRANKLIN EYE CARE, PLLC",
         "showlegend": true,
         "type": "scattergl",
         "x": [
          "JON FRANKLIN"
         ],
         "xaxis": "x",
         "y": [
          239
         ],
         "yaxis": "y"
        },
        {
         "hovertemplate": "to_facility=SLEEP MEDICINE ASSOCIATES, PLLC<br>from_physician=%{x}<br>patient_count=%{y}<extra></extra>",
         "legendgroup": "SLEEP MEDICINE ASSOCIATES, PLLC",
         "marker": {
          "color": "#FFA15A",
          "symbol": "circle"
         },
         "mode": "markers",
         "name": "SLEEP MEDICINE ASSOCIATES, PLLC",
         "showlegend": true,
         "type": "scattergl",
         "x": [
          "MARTHA HAGAMAN"
         ],
         "xaxis": "x",
         "y": [
          93
         ],
         "yaxis": "y"
        },
        {
         "hovertemplate": "to_facility=OLEKSANDR OSIPCHUK MD PHD PSYCHIATRIC SERVICES LLC<br>from_physician=%{x}<br>patient_count=%{y}<extra></extra>",
         "legendgroup": "OLEKSANDR OSIPCHUK MD PHD PSYCHIATRIC SERVICES LLC",
         "marker": {
          "color": "#19d3f3",
          "symbol": "circle"
         },
         "mode": "markers",
         "name": "OLEKSANDR OSIPCHUK MD PHD PSYCHIATRIC SERVICES LLC",
         "showlegend": true,
         "type": "scattergl",
         "x": [
          "OLEKSANDR OSIPCHUK"
         ],
         "xaxis": "x",
         "y": [
          77
         ],
         "yaxis": "y"
        },
        {
         "hovertemplate": "to_facility=BRIAN S. BIESMAN<br>from_physician=%{x}<br>patient_count=%{y}<extra></extra>",
         "legendgroup": "BRIAN S. BIESMAN",
         "marker": {
          "color": "#FF6692",
          "symbol": "circle"
         },
         "mode": "markers",
         "name": "BRIAN S. BIESMAN",
         "showlegend": true,
         "type": "scattergl",
         "x": [
          "BRIAN BIESMAN"
         ],
         "xaxis": "x",
         "y": [
          181
         ],
         "yaxis": "y"
        },
        {
         "hovertemplate": "to_facility=DONELSON EYECARE, PLLC<br>from_physician=%{x}<br>patient_count=%{y}<extra></extra>",
         "legendgroup": "DONELSON EYECARE, PLLC",
         "marker": {
          "color": "#B6E880",
          "symbol": "circle"
         },
         "mode": "markers",
         "name": "DONELSON EYECARE, PLLC",
         "showlegend": true,
         "type": "scattergl",
         "x": [
          "MICHAEL BINGHAM",
          "SUSAN KEGARISE"
         ],
         "xaxis": "x",
         "y": [
          49,
          39
         ],
         "yaxis": "y"
        },
        {
         "hovertemplate": "to_facility=PHYSICIANS MEDICAL CARE<br>from_physician=%{x}<br>patient_count=%{y}<extra></extra>",
         "legendgroup": "PHYSICIANS MEDICAL CARE",
         "marker": {
          "color": "#FF97FF",
          "symbol": "circle"
         },
         "mode": "markers",
         "name": "PHYSICIANS MEDICAL CARE",
         "showlegend": true,
         "type": "scattergl",
         "x": [
          "MARTIN GLYNN"
         ],
         "xaxis": "x",
         "y": [
          679
         ],
         "yaxis": "y"
        },
        {
         "hovertemplate": "to_facility=ASHOK K. MEHTA, MD, PC<br>from_physician=%{x}<br>patient_count=%{y}<extra></extra>",
         "legendgroup": "ASHOK K. MEHTA, MD, PC",
         "marker": {
          "color": "#FECB52",
          "symbol": "circle"
         },
         "mode": "markers",
         "name": "ASHOK K. MEHTA, MD, PC",
         "showlegend": true,
         "type": "scattergl",
         "x": [
          "KRISTEN ELLSWORTH"
         ],
         "xaxis": "x",
         "y": [
          88
         ],
         "yaxis": "y"
        },
        {
         "hovertemplate": "to_facility=MIDDLE TENNESSEE NEUROLOGY LLC<br>from_physician=%{x}<br>patient_count=%{y}<extra></extra>",
         "legendgroup": "MIDDLE TENNESSEE NEUROLOGY LLC",
         "marker": {
          "color": "#636efa",
          "symbol": "circle"
         },
         "mode": "markers",
         "name": "MIDDLE TENNESSEE NEUROLOGY LLC",
         "showlegend": true,
         "type": "scattergl",
         "x": [
          "SURESH CHITTURI"
         ],
         "xaxis": "x",
         "y": [
          285
         ],
         "yaxis": "y"
        },
        {
         "hovertemplate": "to_facility=HERMITAGE EYE CARE PLLC<br>from_physician=%{x}<br>patient_count=%{y}<extra></extra>",
         "legendgroup": "HERMITAGE EYE CARE PLLC",
         "marker": {
          "color": "#EF553B",
          "symbol": "circle"
         },
         "mode": "markers",
         "name": "HERMITAGE EYE CARE PLLC",
         "showlegend": true,
         "type": "scattergl",
         "x": [
          "PHILLIP HAMMOND"
         ],
         "xaxis": "x",
         "y": [
          216
         ],
         "yaxis": "y"
        },
        {
         "hovertemplate": "to_facility=LIVINGSTON FAMILY PRACTICE, PLLC<br>from_physician=%{x}<br>patient_count=%{y}<extra></extra>",
         "legendgroup": "LIVINGSTON FAMILY PRACTICE, PLLC",
         "marker": {
          "color": "#00cc96",
          "symbol": "circle"
         },
         "mode": "markers",
         "name": "LIVINGSTON FAMILY PRACTICE, PLLC",
         "showlegend": true,
         "type": "scattergl",
         "x": [
          "AMANDA LIVINGSTON"
         ],
         "xaxis": "x",
         "y": [
          154
         ],
         "yaxis": "y"
        },
        {
         "hovertemplate": "to_facility=SERENITY HEALTH CARE, P.C.<br>from_physician=%{x}<br>patient_count=%{y}<extra></extra>",
         "legendgroup": "SERENITY HEALTH CARE, P.C.",
         "marker": {
          "color": "#ab63fa",
          "symbol": "circle"
         },
         "mode": "markers",
         "name": "SERENITY HEALTH CARE, P.C.",
         "showlegend": true,
         "type": "scattergl",
         "x": [
          "IRENE BEAN"
         ],
         "xaxis": "x",
         "y": [
          61
         ],
         "yaxis": "y"
        },
        {
         "hovertemplate": "to_facility=KEVIN B. COLLEN, M.D. PLLC<br>from_physician=%{x}<br>patient_count=%{y}<extra></extra>",
         "legendgroup": "KEVIN B. COLLEN, M.D. PLLC",
         "marker": {
          "color": "#FFA15A",
          "symbol": "circle"
         },
         "mode": "markers",
         "name": "KEVIN B. COLLEN, M.D. PLLC",
         "showlegend": true,
         "type": "scattergl",
         "x": [
          "KEVIN COLLEN"
         ],
         "xaxis": "x",
         "y": [
          74
         ],
         "yaxis": "y"
        },
        {
         "hovertemplate": "to_facility=LARIMORE C. WARREN, M.D., P.C.<br>from_physician=%{x}<br>patient_count=%{y}<extra></extra>",
         "legendgroup": "LARIMORE C. WARREN, M.D., P.C.",
         "marker": {
          "color": "#19d3f3",
          "symbol": "circle"
         },
         "mode": "markers",
         "name": "LARIMORE C. WARREN, M.D., P.C.",
         "showlegend": true,
         "type": "scattergl",
         "x": [
          "LARIMORE WARREN"
         ],
         "xaxis": "x",
         "y": [
          313
         ],
         "yaxis": "y"
        },
        {
         "hovertemplate": "to_facility=WILLIAMSON MEDICAL GROUP, LLC<br>from_physician=%{x}<br>patient_count=%{y}<extra></extra>",
         "legendgroup": "WILLIAMSON MEDICAL GROUP, LLC",
         "marker": {
          "color": "#FF6692",
          "symbol": "circle"
         },
         "mode": "markers",
         "name": "WILLIAMSON MEDICAL GROUP, LLC",
         "showlegend": true,
         "type": "scattergl",
         "x": [
          "TIA ARYAL"
         ],
         "xaxis": "x",
         "y": [
          340
         ],
         "yaxis": "y"
        },
        {
         "hovertemplate": "to_facility=LIFETIME HEARING CLINIC, INC.<br>from_physician=%{x}<br>patient_count=%{y}<extra></extra>",
         "legendgroup": "LIFETIME HEARING CLINIC, INC.",
         "marker": {
          "color": "#B6E880",
          "symbol": "circle"
         },
         "mode": "markers",
         "name": "LIFETIME HEARING CLINIC, INC.",
         "showlegend": true,
         "type": "scattergl",
         "x": [
          "HEATHER DOOLEY"
         ],
         "xaxis": "x",
         "y": [
          124
         ],
         "yaxis": "y"
        },
        {
         "hovertemplate": "to_facility=SOUTHERN SPORTS SURGICAL, LLC.<br>from_physician=%{x}<br>patient_count=%{y}<extra></extra>",
         "legendgroup": "SOUTHERN SPORTS SURGICAL, LLC.",
         "marker": {
          "color": "#FF97FF",
          "symbol": "circle"
         },
         "mode": "markers",
         "name": "SOUTHERN SPORTS SURGICAL, LLC.",
         "showlegend": true,
         "type": "scattergl",
         "x": [
          "STACY ALESSIO"
         ],
         "xaxis": "x",
         "y": [
          88
         ],
         "yaxis": "y"
        },
        {
         "hovertemplate": "to_facility=PRECISION EYE CARE, PLLC<br>from_physician=%{x}<br>patient_count=%{y}<extra></extra>",
         "legendgroup": "PRECISION EYE CARE, PLLC",
         "marker": {
          "color": "#FECB52",
          "symbol": "circle"
         },
         "mode": "markers",
         "name": "PRECISION EYE CARE, PLLC",
         "showlegend": true,
         "type": "scattergl",
         "x": [
          "AMBER FRITSCH",
          "RYAN FRITSCH"
         ],
         "xaxis": "x",
         "y": [
          44,
          92
         ],
         "yaxis": "y"
        },
        {
         "hovertemplate": "to_facility=TENNESSEE PHLEBOLOGY PC<br>from_physician=%{x}<br>patient_count=%{y}<extra></extra>",
         "legendgroup": "TENNESSEE PHLEBOLOGY PC",
         "marker": {
          "color": "#636efa",
          "symbol": "circle"
         },
         "mode": "markers",
         "name": "TENNESSEE PHLEBOLOGY PC",
         "showlegend": true,
         "type": "scattergl",
         "x": [
          "THOMAS CUNNINGHAM"
         ],
         "xaxis": "x",
         "y": [
          195
         ],
         "yaxis": "y"
        },
        {
         "hovertemplate": "to_facility=SWAN SURGICAL, PLLC<br>from_physician=%{x}<br>patient_count=%{y}<extra></extra>",
         "legendgroup": "SWAN SURGICAL, PLLC",
         "marker": {
          "color": "#EF553B",
          "symbol": "circle"
         },
         "mode": "markers",
         "name": "SWAN SURGICAL, PLLC",
         "showlegend": true,
         "type": "scattergl",
         "x": [
          "CHAD SWAN"
         ],
         "xaxis": "x",
         "y": [
          395
         ],
         "yaxis": "y"
        },
        {
         "hovertemplate": "to_facility=ROLLING HILLS HOSPITAL LLC<br>from_physician=%{x}<br>patient_count=%{y}<extra></extra>",
         "legendgroup": "ROLLING HILLS HOSPITAL LLC",
         "marker": {
          "color": "#00cc96",
          "symbol": "circle"
         },
         "mode": "markers",
         "name": "ROLLING HILLS HOSPITAL LLC",
         "showlegend": true,
         "type": "scattergl",
         "x": [
          "PRASAD KONDAPAVULURU"
         ],
         "xaxis": "x",
         "y": [
          234
         ],
         "yaxis": "y"
        },
        {
         "hovertemplate": "to_facility=TIERNEY PLASTIC SURGERY PLC<br>from_physician=%{x}<br>patient_count=%{y}<extra></extra>",
         "legendgroup": "TIERNEY PLASTIC SURGERY PLC",
         "marker": {
          "color": "#ab63fa",
          "symbol": "circle"
         },
         "mode": "markers",
         "name": "TIERNEY PLASTIC SURGERY PLC",
         "showlegend": true,
         "type": "scattergl",
         "x": [
          "BRIAN TIERNEY"
         ],
         "xaxis": "x",
         "y": [
          86
         ],
         "yaxis": "y"
        },
        {
         "hovertemplate": "to_facility=ADORATION HOSPICE, LLC<br>from_physician=%{x}<br>patient_count=%{y}<extra></extra>",
         "legendgroup": "ADORATION HOSPICE, LLC",
         "marker": {
          "color": "#FFA15A",
          "symbol": "circle"
         },
         "mode": "markers",
         "name": "ADORATION HOSPICE, LLC",
         "showlegend": true,
         "type": "scattergl",
         "x": [
          "THOMAS MILLER"
         ],
         "xaxis": "x",
         "y": [
          201
         ],
         "yaxis": "y"
        },
        {
         "hovertemplate": "to_facility=FAMILY CARE OF MIDDLETENNESSEE<br>from_physician=%{x}<br>patient_count=%{y}<extra></extra>",
         "legendgroup": "FAMILY CARE OF MIDDLETENNESSEE",
         "marker": {
          "color": "#19d3f3",
          "symbol": "circle"
         },
         "mode": "markers",
         "name": "FAMILY CARE OF MIDDLETENNESSEE",
         "showlegend": true,
         "type": "scattergl",
         "x": [
          "HAYDEH SHARIFI"
         ],
         "xaxis": "x",
         "y": [
          55
         ],
         "yaxis": "y"
        },
        {
         "hovertemplate": "to_facility=NUVUE OPTICAL, PLLC<br>from_physician=%{x}<br>patient_count=%{y}<extra></extra>",
         "legendgroup": "NUVUE OPTICAL, PLLC",
         "marker": {
          "color": "#FF6692",
          "symbol": "circle"
         },
         "mode": "markers",
         "name": "NUVUE OPTICAL, PLLC",
         "showlegend": true,
         "type": "scattergl",
         "x": [
          "DAVID GAVAMI"
         ],
         "xaxis": "x",
         "y": [
          43
         ],
         "yaxis": "y"
        },
        {
         "hovertemplate": "to_facility=CRIST CHIROPRACTIC<br>from_physician=%{x}<br>patient_count=%{y}<extra></extra>",
         "legendgroup": "CRIST CHIROPRACTIC",
         "marker": {
          "color": "#B6E880",
          "symbol": "circle"
         },
         "mode": "markers",
         "name": "CRIST CHIROPRACTIC",
         "showlegend": true,
         "type": "scattergl",
         "x": [
          "JASON CRIST"
         ],
         "xaxis": "x",
         "y": [
          52
         ],
         "yaxis": "y"
        },
        {
         "hovertemplate": "to_facility=PINNACLE MEDICAL GROUP<br>from_physician=%{x}<br>patient_count=%{y}<extra></extra>",
         "legendgroup": "PINNACLE MEDICAL GROUP",
         "marker": {
          "color": "#FF97FF",
          "symbol": "circle"
         },
         "mode": "markers",
         "name": "PINNACLE MEDICAL GROUP",
         "showlegend": true,
         "type": "scattergl",
         "x": [
          "CHARLOTTE LOHREY"
         ],
         "xaxis": "x",
         "y": [
          211
         ],
         "yaxis": "y"
        },
        {
         "hovertemplate": "to_facility=ADVANCED MEDICAL OF COOL SPRINGS PLLC<br>from_physician=%{x}<br>patient_count=%{y}<extra></extra>",
         "legendgroup": "ADVANCED MEDICAL OF COOL SPRINGS PLLC",
         "marker": {
          "color": "#FECB52",
          "symbol": "circle"
         },
         "mode": "markers",
         "name": "ADVANCED MEDICAL OF COOL SPRINGS PLLC",
         "showlegend": true,
         "type": "scattergl",
         "x": [
          "JANET MOONEY"
         ],
         "xaxis": "x",
         "y": [
          200
         ],
         "yaxis": "y"
        },
        {
         "hovertemplate": "to_facility=XAI FAMILY MEDICAL CLINIC<br>from_physician=%{x}<br>patient_count=%{y}<extra></extra>",
         "legendgroup": "XAI FAMILY MEDICAL CLINIC",
         "marker": {
          "color": "#636efa",
          "symbol": "circle"
         },
         "mode": "markers",
         "name": "XAI FAMILY MEDICAL CLINIC",
         "showlegend": true,
         "type": "scattergl",
         "x": [
          "XAIYAVONG SAENPHANSIRI"
         ],
         "xaxis": "x",
         "y": [
          153
         ],
         "yaxis": "y"
        },
        {
         "hovertemplate": "to_facility=JEFFREY C. MCCLAIN, O.D., P.C.<br>from_physician=%{x}<br>patient_count=%{y}<extra></extra>",
         "legendgroup": "JEFFREY C. MCCLAIN, O.D., P.C.",
         "marker": {
          "color": "#EF553B",
          "symbol": "circle"
         },
         "mode": "markers",
         "name": "JEFFREY C. MCCLAIN, O.D., P.C.",
         "showlegend": true,
         "type": "scattergl",
         "x": [
          "JEFFREY MCCLAIN"
         ],
         "xaxis": "x",
         "y": [
          259
         ],
         "yaxis": "y"
        },
        {
         "hovertemplate": "to_facility=L & K HEALTH SERVICES<br>from_physician=%{x}<br>patient_count=%{y}<extra></extra>",
         "legendgroup": "L & K HEALTH SERVICES",
         "marker": {
          "color": "#00cc96",
          "symbol": "circle"
         },
         "mode": "markers",
         "name": "L & K HEALTH SERVICES",
         "showlegend": true,
         "type": "scattergl",
         "x": [
          "LINDA BYRD"
         ],
         "xaxis": "x",
         "y": [
          45
         ],
         "yaxis": "y"
        },
        {
         "hovertemplate": "to_facility=DOUG HASSENPFLUG PLLC<br>from_physician=%{x}<br>patient_count=%{y}<extra></extra>",
         "legendgroup": "DOUG HASSENPFLUG PLLC",
         "marker": {
          "color": "#ab63fa",
          "symbol": "circle"
         },
         "mode": "markers",
         "name": "DOUG HASSENPFLUG PLLC",
         "showlegend": true,
         "type": "scattergl",
         "x": [
          "DOUGLAS HASSENPFLUG"
         ],
         "xaxis": "x",
         "y": [
          1991
         ],
         "yaxis": "y"
        },
        {
         "hovertemplate": "to_facility=MADISON FAMILY PRACTICE<br>from_physician=%{x}<br>patient_count=%{y}<extra></extra>",
         "legendgroup": "MADISON FAMILY PRACTICE",
         "marker": {
          "color": "#FFA15A",
          "symbol": "circle"
         },
         "mode": "markers",
         "name": "MADISON FAMILY PRACTICE",
         "showlegend": true,
         "type": "scattergl",
         "x": [
          "JOHN JORDAN"
         ],
         "xaxis": "x",
         "y": [
          56
         ],
         "yaxis": "y"
        },
        {
         "hovertemplate": "to_facility=BRIAN D. JACKSON, DPM, LLC<br>from_physician=%{x}<br>patient_count=%{y}<extra></extra>",
         "legendgroup": "BRIAN D. JACKSON, DPM, LLC",
         "marker": {
          "color": "#19d3f3",
          "symbol": "circle"
         },
         "mode": "markers",
         "name": "BRIAN D. JACKSON, DPM, LLC",
         "showlegend": true,
         "type": "scattergl",
         "x": [
          "BRIAN JACKSON"
         ],
         "xaxis": "x",
         "y": [
          1045
         ],
         "yaxis": "y"
        },
        {
         "hovertemplate": "to_facility=ON TARGET MEDICAL CLINIC INC<br>from_physician=%{x}<br>patient_count=%{y}<extra></extra>",
         "legendgroup": "ON TARGET MEDICAL CLINIC INC",
         "marker": {
          "color": "#FF6692",
          "symbol": "circle"
         },
         "mode": "markers",
         "name": "ON TARGET MEDICAL CLINIC INC",
         "showlegend": true,
         "type": "scattergl",
         "x": [
          "DEBBIE MOORE"
         ],
         "xaxis": "x",
         "y": [
          50
         ],
         "yaxis": "y"
        },
        {
         "hovertemplate": "to_facility=UNITY CHIROPRACTIC<br>from_physician=%{x}<br>patient_count=%{y}<extra></extra>",
         "legendgroup": "UNITY CHIROPRACTIC",
         "marker": {
          "color": "#B6E880",
          "symbol": "circle"
         },
         "mode": "markers",
         "name": "UNITY CHIROPRACTIC",
         "showlegend": true,
         "type": "scattergl",
         "x": [
          "DEVAN ARMAN"
         ],
         "xaxis": "x",
         "y": [
          29
         ],
         "yaxis": "y"
        },
        {
         "hovertemplate": "to_facility=ALIVE HOSPICE, INC.<br>from_physician=%{x}<br>patient_count=%{y}<extra></extra>",
         "legendgroup": "ALIVE HOSPICE, INC.",
         "marker": {
          "color": "#FF97FF",
          "symbol": "circle"
         },
         "mode": "markers",
         "name": "ALIVE HOSPICE, INC.",
         "showlegend": true,
         "type": "scattergl",
         "x": [
          "VANJA TRUBAJIC"
         ],
         "xaxis": "x",
         "y": [
          97
         ],
         "yaxis": "y"
        },
        {
         "hovertemplate": "to_facility=GUARDIAN HOME CARE OF NASHVILLE, LLC<br>from_physician=%{x}<br>patient_count=%{y}<extra></extra>",
         "legendgroup": "GUARDIAN HOME CARE OF NASHVILLE, LLC",
         "marker": {
          "color": "#FECB52",
          "symbol": "circle"
         },
         "mode": "markers",
         "name": "GUARDIAN HOME CARE OF NASHVILLE, LLC",
         "showlegend": true,
         "type": "scattergl",
         "x": [
          "BRUCE RICHARDS",
          "KENNETH DOZIER"
         ],
         "xaxis": "x",
         "y": [
          19,
          35
         ],
         "yaxis": "y"
        },
        {
         "hovertemplate": "to_facility=HARDIE V. SORRELS III MD P<br>from_physician=%{x}<br>patient_count=%{y}<extra></extra>",
         "legendgroup": "HARDIE V. SORRELS III MD P",
         "marker": {
          "color": "#636efa",
          "symbol": "circle"
         },
         "mode": "markers",
         "name": "HARDIE V. SORRELS III MD P",
         "showlegend": true,
         "type": "scattergl",
         "x": [
          "HARDIE SORRELS"
         ],
         "xaxis": "x",
         "y": [
          467
         ],
         "yaxis": "y"
        },
        {
         "hovertemplate": "to_facility=TENNESSEE STATE VETERANS HOME BOARD<br>from_physician=%{x}<br>patient_count=%{y}<extra></extra>",
         "legendgroup": "TENNESSEE STATE VETERANS HOME BOARD",
         "marker": {
          "color": "#EF553B",
          "symbol": "circle"
         },
         "mode": "markers",
         "name": "TENNESSEE STATE VETERANS HOME BOARD",
         "showlegend": true,
         "type": "scattergl",
         "x": [
          "MILLARD COLLINS"
         ],
         "xaxis": "x",
         "y": [
          13
         ],
         "yaxis": "y"
        },
        {
         "hovertemplate": "to_facility=SCOTT CRAIG MD<br>from_physician=%{x}<br>patient_count=%{y}<extra></extra>",
         "legendgroup": "SCOTT CRAIG MD",
         "marker": {
          "color": "#00cc96",
          "symbol": "circle"
         },
         "mode": "markers",
         "name": "SCOTT CRAIG MD",
         "showlegend": true,
         "type": "scattergl",
         "x": [
          "SCOTT CRAIG"
         ],
         "xaxis": "x",
         "y": [
          315
         ],
         "yaxis": "y"
        },
        {
         "hovertemplate": "to_facility=FAMILY CHIROPRACTIC PC<br>from_physician=%{x}<br>patient_count=%{y}<extra></extra>",
         "legendgroup": "FAMILY CHIROPRACTIC PC",
         "marker": {
          "color": "#ab63fa",
          "symbol": "circle"
         },
         "mode": "markers",
         "name": "FAMILY CHIROPRACTIC PC",
         "showlegend": true,
         "type": "scattergl",
         "x": [
          "JENNIFER BETT-GRAY"
         ],
         "xaxis": "x",
         "y": [
          58
         ],
         "yaxis": "y"
        },
        {
         "hovertemplate": "to_facility=SELECT PHYSICAL THERAPY HOLDINGS, INC.<br>from_physician=%{x}<br>patient_count=%{y}<extra></extra>",
         "legendgroup": "SELECT PHYSICAL THERAPY HOLDINGS, INC.",
         "marker": {
          "color": "#FFA15A",
          "symbol": "circle"
         },
         "mode": "markers",
         "name": "SELECT PHYSICAL THERAPY HOLDINGS, INC.",
         "showlegend": true,
         "type": "scattergl",
         "x": [
          "KEVIN RENEAU"
         ],
         "xaxis": "x",
         "y": [
          22
         ],
         "yaxis": "y"
        },
        {
         "hovertemplate": "to_facility=HENDERSONVILLE EYE CARE<br>from_physician=%{x}<br>patient_count=%{y}<extra></extra>",
         "legendgroup": "HENDERSONVILLE EYE CARE",
         "marker": {
          "color": "#19d3f3",
          "symbol": "circle"
         },
         "mode": "markers",
         "name": "HENDERSONVILLE EYE CARE",
         "showlegend": true,
         "type": "scattergl",
         "x": [
          "JAMES SMITH"
         ],
         "xaxis": "x",
         "y": [
          52
         ],
         "yaxis": "y"
        },
        {
         "hovertemplate": "to_facility=GRESHAM & ASSOCIATES CARDIOLOGY GROUP, PLLC<br>from_physician=%{x}<br>patient_count=%{y}<extra></extra>",
         "legendgroup": "GRESHAM & ASSOCIATES CARDIOLOGY GROUP, PLLC",
         "marker": {
          "color": "#FF6692",
          "symbol": "circle"
         },
         "mode": "markers",
         "name": "GRESHAM & ASSOCIATES CARDIOLOGY GROUP, PLLC",
         "showlegend": true,
         "type": "scattergl",
         "x": [
          "TINA GRESHAM"
         ],
         "xaxis": "x",
         "y": [
          69
         ],
         "yaxis": "y"
        },
        {
         "hovertemplate": "to_facility=TINKER FAMILY CHIROPRACTIC, LLC<br>from_physician=%{x}<br>patient_count=%{y}<extra></extra>",
         "legendgroup": "TINKER FAMILY CHIROPRACTIC, LLC",
         "marker": {
          "color": "#B6E880",
          "symbol": "circle"
         },
         "mode": "markers",
         "name": "TINKER FAMILY CHIROPRACTIC, LLC",
         "showlegend": true,
         "type": "scattergl",
         "x": [
          "BRITTANY TINKER"
         ],
         "xaxis": "x",
         "y": [
          19
         ],
         "yaxis": "y"
        },
        {
         "hovertemplate": "to_facility=NEPHROLOGY ASSOCIATES, PC<br>from_physician=%{x}<br>patient_count=%{y}<extra></extra>",
         "legendgroup": "NEPHROLOGY ASSOCIATES, PC",
         "marker": {
          "color": "#FF97FF",
          "symbol": "circle"
         },
         "mode": "markers",
         "name": "NEPHROLOGY ASSOCIATES, PC",
         "showlegend": true,
         "type": "scattergl",
         "x": [
          "MAGDALENA MAKARUCHA"
         ],
         "xaxis": "x",
         "y": [
          501
         ],
         "yaxis": "y"
        },
        {
         "hovertemplate": "to_facility=TENNESSEE BREAST CARE CENTER PLC<br>from_physician=%{x}<br>patient_count=%{y}<extra></extra>",
         "legendgroup": "TENNESSEE BREAST CARE CENTER PLC",
         "marker": {
          "color": "#FECB52",
          "symbol": "circle"
         },
         "mode": "markers",
         "name": "TENNESSEE BREAST CARE CENTER PLC",
         "showlegend": true,
         "type": "scattergl",
         "x": [
          "BEN FURMAN"
         ],
         "xaxis": "x",
         "y": [
          66
         ],
         "yaxis": "y"
        },
        {
         "hovertemplate": "to_facility=GREEN HILLS EYECARE, PLLC<br>from_physician=%{x}<br>patient_count=%{y}<extra></extra>",
         "legendgroup": "GREEN HILLS EYECARE, PLLC",
         "marker": {
          "color": "#636efa",
          "symbol": "circle"
         },
         "mode": "markers",
         "name": "GREEN HILLS EYECARE, PLLC",
         "showlegend": true,
         "type": "scattergl",
         "x": [
          "JESSICA DURHAM"
         ],
         "xaxis": "x",
         "y": [
          89
         ],
         "yaxis": "y"
        },
        {
         "hovertemplate": "to_facility=MOORE LIFE HEALTHCARE, PC<br>from_physician=%{x}<br>patient_count=%{y}<extra></extra>",
         "legendgroup": "MOORE LIFE HEALTHCARE, PC",
         "marker": {
          "color": "#EF553B",
          "symbol": "circle"
         },
         "mode": "markers",
         "name": "MOORE LIFE HEALTHCARE, PC",
         "showlegend": true,
         "type": "scattergl",
         "x": [
          "ANGIE RIDDLE"
         ],
         "xaxis": "x",
         "y": [
          71
         ],
         "yaxis": "y"
        },
        {
         "hovertemplate": "to_facility=BARFIELD FAMILY WALK IN CLINIC<br>from_physician=%{x}<br>patient_count=%{y}<extra></extra>",
         "legendgroup": "BARFIELD FAMILY WALK IN CLINIC",
         "marker": {
          "color": "#00cc96",
          "symbol": "circle"
         },
         "mode": "markers",
         "name": "BARFIELD FAMILY WALK IN CLINIC",
         "showlegend": true,
         "type": "scattergl",
         "x": [
          "LEANNE VENABLE",
          "KURT KNOLL"
         ],
         "xaxis": "x",
         "y": [
          135,
          174
         ],
         "yaxis": "y"
        },
        {
         "hovertemplate": "to_facility=WOOSLEY MEDICAL REHAB AND WELLNESS<br>from_physician=%{x}<br>patient_count=%{y}<extra></extra>",
         "legendgroup": "WOOSLEY MEDICAL REHAB AND WELLNESS",
         "marker": {
          "color": "#ab63fa",
          "symbol": "circle"
         },
         "mode": "markers",
         "name": "WOOSLEY MEDICAL REHAB AND WELLNESS",
         "showlegend": true,
         "type": "scattergl",
         "x": [
          "CHARLTON WOOSLEY"
         ],
         "xaxis": "x",
         "y": [
          46
         ],
         "yaxis": "y"
        },
        {
         "hovertemplate": "to_facility=BENNETT CHIROPRACTIC, LLC<br>from_physician=%{x}<br>patient_count=%{y}<extra></extra>",
         "legendgroup": "BENNETT CHIROPRACTIC, LLC",
         "marker": {
          "color": "#FFA15A",
          "symbol": "circle"
         },
         "mode": "markers",
         "name": "BENNETT CHIROPRACTIC, LLC",
         "showlegend": true,
         "type": "scattergl",
         "x": [
          "AMY BENNETT"
         ],
         "xaxis": "x",
         "y": [
          53
         ],
         "yaxis": "y"
        },
        {
         "hovertemplate": "to_facility=KESTNERPHYSMED, LLC<br>from_physician=%{x}<br>patient_count=%{y}<extra></extra>",
         "legendgroup": "KESTNERPHYSMED, LLC",
         "marker": {
          "color": "#19d3f3",
          "symbol": "circle"
         },
         "mode": "markers",
         "name": "KESTNERPHYSMED, LLC",
         "showlegend": true,
         "type": "scattergl",
         "x": [
          "ASHLEY GUSSONI",
          "JENNIFER KESTNER"
         ],
         "xaxis": "x",
         "y": [
          40,
          37
         ],
         "yaxis": "y"
        },
        {
         "hovertemplate": "to_facility=HEALTH AND WELLNESS, ENDOCRINOLOGY, LLC<br>from_physician=%{x}<br>patient_count=%{y}<extra></extra>",
         "legendgroup": "HEALTH AND WELLNESS, ENDOCRINOLOGY, LLC",
         "marker": {
          "color": "#FF6692",
          "symbol": "circle"
         },
         "mode": "markers",
         "name": "HEALTH AND WELLNESS, ENDOCRINOLOGY, LLC",
         "showlegend": true,
         "type": "scattergl",
         "x": [
          "DARA BOTTS"
         ],
         "xaxis": "x",
         "y": [
          69
         ],
         "yaxis": "y"
        },
        {
         "hovertemplate": "to_facility=HERMITAGE TN ENDOSCOPY ASC, LLC<br>from_physician=%{x}<br>patient_count=%{y}<extra></extra>",
         "legendgroup": "HERMITAGE TN ENDOSCOPY ASC, LLC",
         "marker": {
          "color": "#B6E880",
          "symbol": "circle"
         },
         "mode": "markers",
         "name": "HERMITAGE TN ENDOSCOPY ASC, LLC",
         "showlegend": true,
         "type": "scattergl",
         "x": [
          "DEBORAH TEMPLE",
          "TRAVIS BERRY"
         ],
         "xaxis": "x",
         "y": [
          391,
          447
         ],
         "yaxis": "y"
        },
        {
         "hovertemplate": "to_facility=ASSOCIATES IN GASTRONETEROLOGY<br>from_physician=%{x}<br>patient_count=%{y}<extra></extra>",
         "legendgroup": "ASSOCIATES IN GASTRONETEROLOGY",
         "marker": {
          "color": "#FF97FF",
          "symbol": "circle"
         },
         "mode": "markers",
         "name": "ASSOCIATES IN GASTRONETEROLOGY",
         "showlegend": true,
         "type": "scattergl",
         "x": [
          "DEBORAH TEMPLE"
         ],
         "xaxis": "x",
         "y": [
          389
         ],
         "yaxis": "y"
        },
        {
         "hovertemplate": "to_facility=COMPREHENSIVE SURGICAL CARE, INC.<br>from_physician=%{x}<br>patient_count=%{y}<extra></extra>",
         "legendgroup": "COMPREHENSIVE SURGICAL CARE, INC.",
         "marker": {
          "color": "#FECB52",
          "symbol": "circle"
         },
         "mode": "markers",
         "name": "COMPREHENSIVE SURGICAL CARE, INC.",
         "showlegend": true,
         "type": "scattergl",
         "x": [
          "MUYIWA ADEDOKUN"
         ],
         "xaxis": "x",
         "y": [
          75
         ],
         "yaxis": "y"
        },
        {
         "hovertemplate": "to_facility=HAYES ENDOCRINE & DIABETES CENTER, PC<br>from_physician=%{x}<br>patient_count=%{y}<extra></extra>",
         "legendgroup": "HAYES ENDOCRINE & DIABETES CENTER, PC",
         "marker": {
          "color": "#636efa",
          "symbol": "circle"
         },
         "mode": "markers",
         "name": "HAYES ENDOCRINE & DIABETES CENTER, PC",
         "showlegend": true,
         "type": "scattergl",
         "x": [
          "ANDREA HAYES"
         ],
         "xaxis": "x",
         "y": [
          428
         ],
         "yaxis": "y"
        },
        {
         "hovertemplate": "to_facility=AMSURG HERMITAGE ANESTHESIA, LLC<br>from_physician=%{x}<br>patient_count=%{y}<extra></extra>",
         "legendgroup": "AMSURG HERMITAGE ANESTHESIA, LLC",
         "marker": {
          "color": "#EF553B",
          "symbol": "circle"
         },
         "mode": "markers",
         "name": "AMSURG HERMITAGE ANESTHESIA, LLC",
         "showlegend": true,
         "type": "scattergl",
         "x": [
          "DEBORAH TEMPLE",
          "TRAVIS BERRY"
         ],
         "xaxis": "x",
         "y": [
          398,
          451
         ],
         "yaxis": "y"
        },
        {
         "hovertemplate": "to_facility=PRIMARY CARE CLINIC LLC<br>from_physician=%{x}<br>patient_count=%{y}<extra></extra>",
         "legendgroup": "PRIMARY CARE CLINIC LLC",
         "marker": {
          "color": "#00cc96",
          "symbol": "circle"
         },
         "mode": "markers",
         "name": "PRIMARY CARE CLINIC LLC",
         "showlegend": true,
         "type": "scattergl",
         "x": [
          "JEAN TAN"
         ],
         "xaxis": "x",
         "y": [
          287
         ],
         "yaxis": "y"
        },
        {
         "hovertemplate": "to_facility=KEN HOMOLYA MD LLC<br>from_physician=%{x}<br>patient_count=%{y}<extra></extra>",
         "legendgroup": "KEN HOMOLYA MD LLC",
         "marker": {
          "color": "#ab63fa",
          "symbol": "circle"
         },
         "mode": "markers",
         "name": "KEN HOMOLYA MD LLC",
         "showlegend": true,
         "type": "scattergl",
         "x": [
          "BRANDON TOLMAN"
         ],
         "xaxis": "x",
         "y": [
          242
         ],
         "yaxis": "y"
        },
        {
         "hovertemplate": "to_facility=UNITED NEIGHBORHOOD HEALTH SERVICES, INC.<br>from_physician=%{x}<br>patient_count=%{y}<extra></extra>",
         "legendgroup": "UNITED NEIGHBORHOOD HEALTH SERVICES, INC.",
         "marker": {
          "color": "#FFA15A",
          "symbol": "circle"
         },
         "mode": "markers",
         "name": "UNITED NEIGHBORHOOD HEALTH SERVICES, INC.",
         "showlegend": true,
         "type": "scattergl",
         "x": [
          "OSMAN GABURE",
          "JULE WEST"
         ],
         "xaxis": "x",
         "y": [
          75,
          40
         ],
         "yaxis": "y"
        },
        {
         "hovertemplate": "to_facility=GINA MENDOZA DPM PC<br>from_physician=%{x}<br>patient_count=%{y}<extra></extra>",
         "legendgroup": "GINA MENDOZA DPM PC",
         "marker": {
          "color": "#19d3f3",
          "symbol": "circle"
         },
         "mode": "markers",
         "name": "GINA MENDOZA DPM PC",
         "showlegend": true,
         "type": "scattergl",
         "x": [
          "GINA MENDOZA"
         ],
         "xaxis": "x",
         "y": [
          285
         ],
         "yaxis": "y"
        },
        {
         "hovertemplate": "to_facility=BEHAVIORAL HEALTHCARE CENTER AT COLUMBIA INC<br>from_physician=%{x}<br>patient_count=%{y}<extra></extra>",
         "legendgroup": "BEHAVIORAL HEALTHCARE CENTER AT COLUMBIA INC",
         "marker": {
          "color": "#FF6692",
          "symbol": "circle"
         },
         "mode": "markers",
         "name": "BEHAVIORAL HEALTHCARE CENTER AT COLUMBIA INC",
         "showlegend": true,
         "type": "scattergl",
         "x": [
          "RODNEY POLING"
         ],
         "xaxis": "x",
         "y": [
          196
         ],
         "yaxis": "y"
        },
        {
         "hovertemplate": "to_facility=KCS MEDICAL, INC<br>from_physician=%{x}<br>patient_count=%{y}<extra></extra>",
         "legendgroup": "KCS MEDICAL, INC",
         "marker": {
          "color": "#B6E880",
          "symbol": "circle"
         },
         "mode": "markers",
         "name": "KCS MEDICAL, INC",
         "showlegend": true,
         "type": "scattergl",
         "x": [
          "KELLEY SCHARRER"
         ],
         "xaxis": "x",
         "y": [
          59
         ],
         "yaxis": "y"
        },
        {
         "hovertemplate": "to_facility=XUHAN PC LLP<br>from_physician=%{x}<br>patient_count=%{y}<extra></extra>",
         "legendgroup": "XUHAN PC LLP",
         "marker": {
          "color": "#FF97FF",
          "symbol": "circle"
         },
         "mode": "markers",
         "name": "XUHAN PC LLP",
         "showlegend": true,
         "type": "scattergl",
         "x": [
          "XUHAN ZHANG"
         ],
         "xaxis": "x",
         "y": [
          68
         ],
         "yaxis": "y"
        },
        {
         "hovertemplate": "to_facility=REN DERMATOLOGY PLLC<br>from_physician=%{x}<br>patient_count=%{y}<extra></extra>",
         "legendgroup": "REN DERMATOLOGY PLLC",
         "marker": {
          "color": "#FECB52",
          "symbol": "circle"
         },
         "mode": "markers",
         "name": "REN DERMATOLOGY PLLC",
         "showlegend": true,
         "type": "scattergl",
         "x": [
          "JENNIFER LEE"
         ],
         "xaxis": "x",
         "y": [
          368
         ],
         "yaxis": "y"
        },
        {
         "hovertemplate": "to_facility=JOSEPH B DELOZIER III MD PLLC<br>from_physician=%{x}<br>patient_count=%{y}<extra></extra>",
         "legendgroup": "JOSEPH B DELOZIER III MD PLLC",
         "marker": {
          "color": "#636efa",
          "symbol": "circle"
         },
         "mode": "markers",
         "name": "JOSEPH B DELOZIER III MD PLLC",
         "showlegend": true,
         "type": "scattergl",
         "x": [
          "JOSEPH DELOZIER"
         ],
         "xaxis": "x",
         "y": [
          82
         ],
         "yaxis": "y"
        },
        {
         "hovertemplate": "to_facility=MID SOUTH PSYCHIATRIC ASSOCIATES<br>from_physician=%{x}<br>patient_count=%{y}<extra></extra>",
         "legendgroup": "MID SOUTH PSYCHIATRIC ASSOCIATES",
         "marker": {
          "color": "#EF553B",
          "symbol": "circle"
         },
         "mode": "markers",
         "name": "MID SOUTH PSYCHIATRIC ASSOCIATES",
         "showlegend": true,
         "type": "scattergl",
         "x": [
          "AHMED FAROOQUE",
          "JUDY REGER"
         ],
         "xaxis": "x",
         "y": [
          366,
          17
         ],
         "yaxis": "y"
        },
        {
         "hovertemplate": "to_facility=B. PAUL TURPIN, MD.PLLC<br>from_physician=%{x}<br>patient_count=%{y}<extra></extra>",
         "legendgroup": "B. PAUL TURPIN, MD.PLLC",
         "marker": {
          "color": "#00cc96",
          "symbol": "circle"
         },
         "mode": "markers",
         "name": "B. PAUL TURPIN, MD.PLLC",
         "showlegend": true,
         "type": "scattergl",
         "x": [
          "BUFORD TURPIN"
         ],
         "xaxis": "x",
         "y": [
          77
         ],
         "yaxis": "y"
        },
        {
         "hovertemplate": "to_facility=NORTHFIELD FAMILY PRACTICE PC<br>from_physician=%{x}<br>patient_count=%{y}<extra></extra>",
         "legendgroup": "NORTHFIELD FAMILY PRACTICE PC",
         "marker": {
          "color": "#ab63fa",
          "symbol": "circle"
         },
         "mode": "markers",
         "name": "NORTHFIELD FAMILY PRACTICE PC",
         "showlegend": true,
         "type": "scattergl",
         "x": [
          "MOSES SWAUNCY"
         ],
         "xaxis": "x",
         "y": [
          184
         ],
         "yaxis": "y"
        },
        {
         "hovertemplate": "to_facility=VANDERBILT MAURY RADIATION ONCOLOGY, LLC<br>from_physician=%{x}<br>patient_count=%{y}<extra></extra>",
         "legendgroup": "VANDERBILT MAURY RADIATION ONCOLOGY, LLC",
         "marker": {
          "color": "#FFA15A",
          "symbol": "circle"
         },
         "mode": "markers",
         "name": "VANDERBILT MAURY RADIATION ONCOLOGY, LLC",
         "showlegend": true,
         "type": "scattergl",
         "x": [
          "DIANDRA AYALA-PEACOCK"
         ],
         "xaxis": "x",
         "y": [
          47
         ],
         "yaxis": "y"
        },
        {
         "hovertemplate": "to_facility=PREMIER CHIROPRACTIC<br>from_physician=%{x}<br>patient_count=%{y}<extra></extra>",
         "legendgroup": "PREMIER CHIROPRACTIC",
         "marker": {
          "color": "#19d3f3",
          "symbol": "circle"
         },
         "mode": "markers",
         "name": "PREMIER CHIROPRACTIC",
         "showlegend": true,
         "type": "scattergl",
         "x": [
          "ERICKA MONTELIONE"
         ],
         "xaxis": "x",
         "y": [
          55
         ],
         "yaxis": "y"
        },
        {
         "hovertemplate": "to_facility=MEHARRY MEDICAL COLLEGE<br>from_physician=%{x}<br>patient_count=%{y}<extra></extra>",
         "legendgroup": "MEHARRY MEDICAL COLLEGE",
         "marker": {
          "color": "#FF6692",
          "symbol": "circle"
         },
         "mode": "markers",
         "name": "MEHARRY MEDICAL COLLEGE",
         "showlegend": true,
         "type": "scattergl",
         "x": [
          "AFUA THOMPSON"
         ],
         "xaxis": "x",
         "y": [
          367
         ],
         "yaxis": "y"
        },
        {
         "hovertemplate": "to_facility=MIDDLE TN WOMENS HEALTH GROUP<br>from_physician=%{x}<br>patient_count=%{y}<extra></extra>",
         "legendgroup": "MIDDLE TN WOMENS HEALTH GROUP",
         "marker": {
          "color": "#B6E880",
          "symbol": "circle"
         },
         "mode": "markers",
         "name": "MIDDLE TN WOMENS HEALTH GROUP",
         "showlegend": true,
         "type": "scattergl",
         "x": [
          "CARRIE MARCHMAN"
         ],
         "xaxis": "x",
         "y": [
          53
         ],
         "yaxis": "y"
        },
        {
         "hovertemplate": "to_facility=ROSE FAMILY CLINIC<br>from_physician=%{x}<br>patient_count=%{y}<extra></extra>",
         "legendgroup": "ROSE FAMILY CLINIC",
         "marker": {
          "color": "#FF97FF",
          "symbol": "circle"
         },
         "mode": "markers",
         "name": "ROSE FAMILY CLINIC",
         "showlegend": true,
         "type": "scattergl",
         "x": [
          "JOHN BALL"
         ],
         "xaxis": "x",
         "y": [
          28
         ],
         "yaxis": "y"
        },
        {
         "hovertemplate": "to_facility=MEDICOS NASHVILLE FAMILY MEDICINE, LLC<br>from_physician=%{x}<br>patient_count=%{y}<extra></extra>",
         "legendgroup": "MEDICOS NASHVILLE FAMILY MEDICINE, LLC",
         "marker": {
          "color": "#FECB52",
          "symbol": "circle"
         },
         "mode": "markers",
         "name": "MEDICOS NASHVILLE FAMILY MEDICINE, LLC",
         "showlegend": true,
         "type": "scattergl",
         "x": [
          "CONCEPCION MARTINEZ"
         ],
         "xaxis": "x",
         "y": [
          31
         ],
         "yaxis": "y"
        },
        {
         "hovertemplate": "to_facility=LEAVITT FAMILY MEDICINE, PLLC<br>from_physician=%{x}<br>patient_count=%{y}<extra></extra>",
         "legendgroup": "LEAVITT FAMILY MEDICINE, PLLC",
         "marker": {
          "color": "#636efa",
          "symbol": "circle"
         },
         "mode": "markers",
         "name": "LEAVITT FAMILY MEDICINE, PLLC",
         "showlegend": true,
         "type": "scattergl",
         "x": [
          "PAUL LEAVITT"
         ],
         "xaxis": "x",
         "y": [
          698
         ],
         "yaxis": "y"
        },
        {
         "hovertemplate": "to_facility=MISTYE TAYLOR MD PLLC<br>from_physician=%{x}<br>patient_count=%{y}<extra></extra>",
         "legendgroup": "MISTYE TAYLOR MD PLLC",
         "marker": {
          "color": "#EF553B",
          "symbol": "circle"
         },
         "mode": "markers",
         "name": "MISTYE TAYLOR MD PLLC",
         "showlegend": true,
         "type": "scattergl",
         "x": [
          "MISTYE TAYLOR"
         ],
         "xaxis": "x",
         "y": [
          27
         ],
         "yaxis": "y"
        },
        {
         "hovertemplate": "to_facility=PREMIER MEDICAL CENTRE, LLC<br>from_physician=%{x}<br>patient_count=%{y}<extra></extra>",
         "legendgroup": "PREMIER MEDICAL CENTRE, LLC",
         "marker": {
          "color": "#00cc96",
          "symbol": "circle"
         },
         "mode": "markers",
         "name": "PREMIER MEDICAL CENTRE, LLC",
         "showlegend": true,
         "type": "scattergl",
         "x": [
          "PEARLINE BUTCHER"
         ],
         "xaxis": "x",
         "y": [
          28
         ],
         "yaxis": "y"
        },
        {
         "hovertemplate": "to_facility=DANIEL E. BUSTOS, M.D., P.C.<br>from_physician=%{x}<br>patient_count=%{y}<extra></extra>",
         "legendgroup": "DANIEL E. BUSTOS, M.D., P.C.",
         "marker": {
          "color": "#ab63fa",
          "symbol": "circle"
         },
         "mode": "markers",
         "name": "DANIEL E. BUSTOS, M.D., P.C.",
         "showlegend": true,
         "type": "scattergl",
         "x": [
          "DANIEL BUSTOS"
         ],
         "xaxis": "x",
         "y": [
          514
         ],
         "yaxis": "y"
        },
        {
         "hovertemplate": "to_facility=COVENANT HEALTHCARE FOR WOMEN PLLC<br>from_physician=%{x}<br>patient_count=%{y}<extra></extra>",
         "legendgroup": "COVENANT HEALTHCARE FOR WOMEN PLLC",
         "marker": {
          "color": "#FFA15A",
          "symbol": "circle"
         },
         "mode": "markers",
         "name": "COVENANT HEALTHCARE FOR WOMEN PLLC",
         "showlegend": true,
         "type": "scattergl",
         "x": [
          "CHARLES BOLES"
         ],
         "xaxis": "x",
         "y": [
          55
         ],
         "yaxis": "y"
        },
        {
         "hovertemplate": "to_facility=WOMENS GROUP OF FRANKLIN<br>from_physician=%{x}<br>patient_count=%{y}<extra></extra>",
         "legendgroup": "WOMENS GROUP OF FRANKLIN",
         "marker": {
          "color": "#19d3f3",
          "symbol": "circle"
         },
         "mode": "markers",
         "name": "WOMENS GROUP OF FRANKLIN",
         "showlegend": true,
         "type": "scattergl",
         "x": [
          "LYNN ELLINGTON",
          "HEATHER RUPE"
         ],
         "xaxis": "x",
         "y": [
          66,
          43
         ],
         "yaxis": "y"
        },
        {
         "hovertemplate": "to_facility=ORTHOPAEDIC SPECIALISTS PLLC<br>from_physician=%{x}<br>patient_count=%{y}<extra></extra>",
         "legendgroup": "ORTHOPAEDIC SPECIALISTS PLLC",
         "marker": {
          "color": "#FF6692",
          "symbol": "circle"
         },
         "mode": "markers",
         "name": "ORTHOPAEDIC SPECIALISTS PLLC",
         "showlegend": true,
         "type": "scattergl",
         "x": [
          "BRANDON DOWNS"
         ],
         "xaxis": "x",
         "y": [
          246
         ],
         "yaxis": "y"
        },
        {
         "hovertemplate": "to_facility=VISION SOURCE OF HENDERSONVILLE PLLC<br>from_physician=%{x}<br>patient_count=%{y}<extra></extra>",
         "legendgroup": "VISION SOURCE OF HENDERSONVILLE PLLC",
         "marker": {
          "color": "#B6E880",
          "symbol": "circle"
         },
         "mode": "markers",
         "name": "VISION SOURCE OF HENDERSONVILLE PLLC",
         "showlegend": true,
         "type": "scattergl",
         "x": [
          "JAMES STAMPER"
         ],
         "xaxis": "x",
         "y": [
          143
         ],
         "yaxis": "y"
        },
        {
         "hovertemplate": "to_facility=KERRY BECHT PHYSICAL THERAPY AND MASSAGE, INC.<br>from_physician=%{x}<br>patient_count=%{y}<extra></extra>",
         "legendgroup": "KERRY BECHT PHYSICAL THERAPY AND MASSAGE, INC.",
         "marker": {
          "color": "#FF97FF",
          "symbol": "circle"
         },
         "mode": "markers",
         "name": "KERRY BECHT PHYSICAL THERAPY AND MASSAGE, INC.",
         "showlegend": true,
         "type": "scattergl",
         "x": [
          "KERRY BECHT"
         ],
         "xaxis": "x",
         "y": [
          222
         ],
         "yaxis": "y"
        },
        {
         "hovertemplate": "to_facility=ADVANCED SLEEP CONSULTANTS OF MIDDLE TN, INC<br>from_physician=%{x}<br>patient_count=%{y}<extra></extra>",
         "legendgroup": "ADVANCED SLEEP CONSULTANTS OF MIDDLE TN, INC",
         "marker": {
          "color": "#FECB52",
          "symbol": "circle"
         },
         "mode": "markers",
         "name": "ADVANCED SLEEP CONSULTANTS OF MIDDLE TN, INC",
         "showlegend": true,
         "type": "scattergl",
         "x": [
          "RUSSELL GIBSON"
         ],
         "xaxis": "x",
         "y": [
          286
         ],
         "yaxis": "y"
        },
        {
         "hovertemplate": "to_facility=CORNERSTONE MEDICAL ASSOCIATES PLLC<br>from_physician=%{x}<br>patient_count=%{y}<extra></extra>",
         "legendgroup": "CORNERSTONE MEDICAL ASSOCIATES PLLC",
         "marker": {
          "color": "#636efa",
          "symbol": "circle"
         },
         "mode": "markers",
         "name": "CORNERSTONE MEDICAL ASSOCIATES PLLC",
         "showlegend": true,
         "type": "scattergl",
         "x": [
          "RICHMOND AKATUE"
         ],
         "xaxis": "x",
         "y": [
          52
         ],
         "yaxis": "y"
        },
        {
         "hovertemplate": "to_facility=CONSULTING ASSOCIATES, LLC<br>from_physician=%{x}<br>patient_count=%{y}<extra></extra>",
         "legendgroup": "CONSULTING ASSOCIATES, LLC",
         "marker": {
          "color": "#EF553B",
          "symbol": "circle"
         },
         "mode": "markers",
         "name": "CONSULTING ASSOCIATES, LLC",
         "showlegend": true,
         "type": "scattergl",
         "x": [
          "LISA WEBB"
         ],
         "xaxis": "x",
         "y": [
          79
         ],
         "yaxis": "y"
        },
        {
         "hovertemplate": "to_facility=REMOTE NEUROMONITORING PHYSICIANS ,PC<br>from_physician=%{x}<br>patient_count=%{y}<extra></extra>",
         "legendgroup": "REMOTE NEUROMONITORING PHYSICIANS ,PC",
         "marker": {
          "color": "#00cc96",
          "symbol": "circle"
         },
         "mode": "markers",
         "name": "REMOTE NEUROMONITORING PHYSICIANS ,PC",
         "showlegend": true,
         "type": "scattergl",
         "x": [
          "ONILE SESTOKAS"
         ],
         "xaxis": "x",
         "y": [
          528
         ],
         "yaxis": "y"
        },
        {
         "hovertemplate": "to_facility=NASHVILLE TMS PLLC<br>from_physician=%{x}<br>patient_count=%{y}<extra></extra>",
         "legendgroup": "NASHVILLE TMS PLLC",
         "marker": {
          "color": "#ab63fa",
          "symbol": "circle"
         },
         "mode": "markers",
         "name": "NASHVILLE TMS PLLC",
         "showlegend": true,
         "type": "scattergl",
         "x": [
          "WILLIAM WEST"
         ],
         "xaxis": "x",
         "y": [
          25
         ],
         "yaxis": "y"
        },
        {
         "hovertemplate": "to_facility=PAUL S DAUGHERTY MD PC<br>from_physician=%{x}<br>patient_count=%{y}<extra></extra>",
         "legendgroup": "PAUL S DAUGHERTY MD PC",
         "marker": {
          "color": "#FFA15A",
          "symbol": "circle"
         },
         "mode": "markers",
         "name": "PAUL S DAUGHERTY MD PC",
         "showlegend": true,
         "type": "scattergl",
         "x": [
          "PAUL DAUGHERTY"
         ],
         "xaxis": "x",
         "y": [
          312
         ],
         "yaxis": "y"
        },
        {
         "hovertemplate": "to_facility=FRANKLIN CHIROPRACTIC CENTER LLC<br>from_physician=%{x}<br>patient_count=%{y}<extra></extra>",
         "legendgroup": "FRANKLIN CHIROPRACTIC CENTER LLC",
         "marker": {
          "color": "#19d3f3",
          "symbol": "circle"
         },
         "mode": "markers",
         "name": "FRANKLIN CHIROPRACTIC CENTER LLC",
         "showlegend": true,
         "type": "scattergl",
         "x": [
          "DWAINE ALLISON"
         ],
         "xaxis": "x",
         "y": [
          21
         ],
         "yaxis": "y"
        },
        {
         "hovertemplate": "to_facility=UAP LEBANON ENDO, LLC<br>from_physician=%{x}<br>patient_count=%{y}<extra></extra>",
         "legendgroup": "UAP LEBANON ENDO, LLC",
         "marker": {
          "color": "#FF6692",
          "symbol": "circle"
         },
         "mode": "markers",
         "name": "UAP LEBANON ENDO, LLC",
         "showlegend": true,
         "type": "scattergl",
         "x": [
          "CHARLES GOLDEN"
         ],
         "xaxis": "x",
         "y": [
          99
         ],
         "yaxis": "y"
        },
        {
         "hovertemplate": "to_facility=PRIMARY EYECARE GROUP OF SPRING HILL PLLC<br>from_physician=%{x}<br>patient_count=%{y}<extra></extra>",
         "legendgroup": "PRIMARY EYECARE GROUP OF SPRING HILL PLLC",
         "marker": {
          "color": "#B6E880",
          "symbol": "circle"
         },
         "mode": "markers",
         "name": "PRIMARY EYECARE GROUP OF SPRING HILL PLLC",
         "showlegend": true,
         "type": "scattergl",
         "x": [
          "NICHOLAS ENGLE"
         ],
         "xaxis": "x",
         "y": [
          71
         ],
         "yaxis": "y"
        },
        {
         "hovertemplate": "to_facility=DR. SAID ATTOUSSI INC<br>from_physician=%{x}<br>patient_count=%{y}<extra></extra>",
         "legendgroup": "DR. SAID ATTOUSSI INC",
         "marker": {
          "color": "#FF97FF",
          "symbol": "circle"
         },
         "mode": "markers",
         "name": "DR. SAID ATTOUSSI INC",
         "showlegend": true,
         "type": "scattergl",
         "x": [
          "SAID ATTOUSSI"
         ],
         "xaxis": "x",
         "y": [
          119
         ],
         "yaxis": "y"
        },
        {
         "hovertemplate": "to_facility=GALLAHER EYECARE<br>from_physician=%{x}<br>patient_count=%{y}<extra></extra>",
         "legendgroup": "GALLAHER EYECARE",
         "marker": {
          "color": "#FECB52",
          "symbol": "circle"
         },
         "mode": "markers",
         "name": "GALLAHER EYECARE",
         "showlegend": true,
         "type": "scattergl",
         "x": [
          "JOHN GALLAHER"
         ],
         "xaxis": "x",
         "y": [
          230
         ],
         "yaxis": "y"
        },
        {
         "hovertemplate": "to_facility=FOOT AND ANKLE HEALTHCARE CENTER<br>from_physician=%{x}<br>patient_count=%{y}<extra></extra>",
         "legendgroup": "FOOT AND ANKLE HEALTHCARE CENTER",
         "marker": {
          "color": "#636efa",
          "symbol": "circle"
         },
         "mode": "markers",
         "name": "FOOT AND ANKLE HEALTHCARE CENTER",
         "showlegend": true,
         "type": "scattergl",
         "x": [
          "CARMEN APRIL"
         ],
         "xaxis": "x",
         "y": [
          64
         ],
         "yaxis": "y"
        },
        {
         "hovertemplate": "to_facility=AK HEALTH CONNECTION LLC<br>from_physician=%{x}<br>patient_count=%{y}<extra></extra>",
         "legendgroup": "AK HEALTH CONNECTION LLC",
         "marker": {
          "color": "#EF553B",
          "symbol": "circle"
         },
         "mode": "markers",
         "name": "AK HEALTH CONNECTION LLC",
         "showlegend": true,
         "type": "scattergl",
         "x": [
          "GREGORY BEAUCHAMP"
         ],
         "xaxis": "x",
         "y": [
          36
         ],
         "yaxis": "y"
        },
        {
         "hovertemplate": "to_facility=SUPERIOR HEALTH SOLUTIONS LLC<br>from_physician=%{x}<br>patient_count=%{y}<extra></extra>",
         "legendgroup": "SUPERIOR HEALTH SOLUTIONS LLC",
         "marker": {
          "color": "#00cc96",
          "symbol": "circle"
         },
         "mode": "markers",
         "name": "SUPERIOR HEALTH SOLUTIONS LLC",
         "showlegend": true,
         "type": "scattergl",
         "x": [
          "SARAH PEARL"
         ],
         "xaxis": "x",
         "y": [
          49
         ],
         "yaxis": "y"
        },
        {
         "hovertemplate": "to_facility=QUALITY CARE INVESTORS<br>from_physician=%{x}<br>patient_count=%{y}<extra></extra>",
         "legendgroup": "QUALITY CARE INVESTORS",
         "marker": {
          "color": "#ab63fa",
          "symbol": "circle"
         },
         "mode": "markers",
         "name": "QUALITY CARE INVESTORS",
         "showlegend": true,
         "type": "scattergl",
         "x": [
          "ELIZABETH VERNON"
         ],
         "xaxis": "x",
         "y": [
          101
         ],
         "yaxis": "y"
        },
        {
         "hovertemplate": "to_facility=PRIMARY CARE ASSOCIATES OF SMITH COUNTY, INC.<br>from_physician=%{x}<br>patient_count=%{y}<extra></extra>",
         "legendgroup": "PRIMARY CARE ASSOCIATES OF SMITH COUNTY, INC.",
         "marker": {
          "color": "#FFA15A",
          "symbol": "circle"
         },
         "mode": "markers",
         "name": "PRIMARY CARE ASSOCIATES OF SMITH COUNTY, INC.",
         "showlegend": true,
         "type": "scattergl",
         "x": [
          "KAREN SEXTON"
         ],
         "xaxis": "x",
         "y": [
          103
         ],
         "yaxis": "y"
        },
        {
         "hovertemplate": "to_facility=BURLEY CHIROPRACTIC PC<br>from_physician=%{x}<br>patient_count=%{y}<extra></extra>",
         "legendgroup": "BURLEY CHIROPRACTIC PC",
         "marker": {
          "color": "#19d3f3",
          "symbol": "circle"
         },
         "mode": "markers",
         "name": "BURLEY CHIROPRACTIC PC",
         "showlegend": true,
         "type": "scattergl",
         "x": [
          "JOHN BURLEY"
         ],
         "xaxis": "x",
         "y": [
          21
         ],
         "yaxis": "y"
        },
        {
         "hovertemplate": "to_facility=PARKS PRACTITIONER AND CONSULTING SERVICES LLC<br>from_physician=%{x}<br>patient_count=%{y}<extra></extra>",
         "legendgroup": "PARKS PRACTITIONER AND CONSULTING SERVICES LLC",
         "marker": {
          "color": "#FF6692",
          "symbol": "circle"
         },
         "mode": "markers",
         "name": "PARKS PRACTITIONER AND CONSULTING SERVICES LLC",
         "showlegend": true,
         "type": "scattergl",
         "x": [
          "MARY PARKS"
         ],
         "xaxis": "x",
         "y": [
          57
         ],
         "yaxis": "y"
        },
        {
         "hovertemplate": "to_facility=SCHROEDER CHIROPRACTIC LLC<br>from_physician=%{x}<br>patient_count=%{y}<extra></extra>",
         "legendgroup": "SCHROEDER CHIROPRACTIC LLC",
         "marker": {
          "color": "#B6E880",
          "symbol": "circle"
         },
         "mode": "markers",
         "name": "SCHROEDER CHIROPRACTIC LLC",
         "showlegend": true,
         "type": "scattergl",
         "x": [
          "SCOTT SCHROEDER"
         ],
         "xaxis": "x",
         "y": [
          37
         ],
         "yaxis": "y"
        },
        {
         "hovertemplate": "to_facility=JOHN A TAYLOR MD<br>from_physician=%{x}<br>patient_count=%{y}<extra></extra>",
         "legendgroup": "JOHN A TAYLOR MD",
         "marker": {
          "color": "#FF97FF",
          "symbol": "circle"
         },
         "mode": "markers",
         "name": "JOHN A TAYLOR MD",
         "showlegend": true,
         "type": "scattergl",
         "x": [
          "JOHN TAYLOR"
         ],
         "xaxis": "x",
         "y": [
          228
         ],
         "yaxis": "y"
        },
        {
         "hovertemplate": "to_facility=NASHVILLE VASCULAR AND VEIN INSTITUTE, PLLC<br>from_physician=%{x}<br>patient_count=%{y}<extra></extra>",
         "legendgroup": "NASHVILLE VASCULAR AND VEIN INSTITUTE, PLLC",
         "marker": {
          "color": "#FECB52",
          "symbol": "circle"
         },
         "mode": "markers",
         "name": "NASHVILLE VASCULAR AND VEIN INSTITUTE, PLLC",
         "showlegend": true,
         "type": "scattergl",
         "x": [
          "PATRICK RYAN"
         ],
         "xaxis": "x",
         "y": [
          426
         ],
         "yaxis": "y"
        },
        {
         "hovertemplate": "to_facility=DR KAREN J PUCKETT PLC<br>from_physician=%{x}<br>patient_count=%{y}<extra></extra>",
         "legendgroup": "DR KAREN J PUCKETT PLC",
         "marker": {
          "color": "#636efa",
          "symbol": "circle"
         },
         "mode": "markers",
         "name": "DR KAREN J PUCKETT PLC",
         "showlegend": true,
         "type": "scattergl",
         "x": [
          "KAREN PUCKETT"
         ],
         "xaxis": "x",
         "y": [
          109
         ],
         "yaxis": "y"
        },
        {
         "hovertemplate": "to_facility=DHAR FAMILY MEDICINE, PLLC<br>from_physician=%{x}<br>patient_count=%{y}<extra></extra>",
         "legendgroup": "DHAR FAMILY MEDICINE, PLLC",
         "marker": {
          "color": "#EF553B",
          "symbol": "circle"
         },
         "mode": "markers",
         "name": "DHAR FAMILY MEDICINE, PLLC",
         "showlegend": true,
         "type": "scattergl",
         "x": [
          "ANITHA DHAR"
         ],
         "xaxis": "x",
         "y": [
          165
         ],
         "yaxis": "y"
        },
        {
         "hovertemplate": "to_facility=TANKERSLEY CHIROPRACTIC<br>from_physician=%{x}<br>patient_count=%{y}<extra></extra>",
         "legendgroup": "TANKERSLEY CHIROPRACTIC",
         "marker": {
          "color": "#00cc96",
          "symbol": "circle"
         },
         "mode": "markers",
         "name": "TANKERSLEY CHIROPRACTIC",
         "showlegend": true,
         "type": "scattergl",
         "x": [
          "CRAIG TANKERSLEY"
         ],
         "xaxis": "x",
         "y": [
          28
         ],
         "yaxis": "y"
        },
        {
         "hovertemplate": "to_facility=ANGELA WILLIS FAMILY PRACTICE PLLC<br>from_physician=%{x}<br>patient_count=%{y}<extra></extra>",
         "legendgroup": "ANGELA WILLIS FAMILY PRACTICE PLLC",
         "marker": {
          "color": "#ab63fa",
          "symbol": "circle"
         },
         "mode": "markers",
         "name": "ANGELA WILLIS FAMILY PRACTICE PLLC",
         "showlegend": true,
         "type": "scattergl",
         "x": [
          "ANGELA WILLIS"
         ],
         "xaxis": "x",
         "y": [
          76
         ],
         "yaxis": "y"
        },
        {
         "hovertemplate": "to_facility=L. EDWIN RICE, JR., MD, PLLC<br>from_physician=%{x}<br>patient_count=%{y}<extra></extra>",
         "legendgroup": "L. EDWIN RICE, JR., MD, PLLC",
         "marker": {
          "color": "#FFA15A",
          "symbol": "circle"
         },
         "mode": "markers",
         "name": "L. EDWIN RICE, JR., MD, PLLC",
         "showlegend": true,
         "type": "scattergl",
         "x": [
          "LEONIDAS RICE"
         ],
         "xaxis": "x",
         "y": [
          99
         ],
         "yaxis": "y"
        },
        {
         "hovertemplate": "to_facility=DR. MARK KESTNER GROUP<br>from_physician=%{x}<br>patient_count=%{y}<extra></extra>",
         "legendgroup": "DR. MARK KESTNER GROUP",
         "marker": {
          "color": "#19d3f3",
          "symbol": "circle"
         },
         "mode": "markers",
         "name": "DR. MARK KESTNER GROUP",
         "showlegend": true,
         "type": "scattergl",
         "x": [
          "MARK KESTNER"
         ],
         "xaxis": "x",
         "y": [
          32
         ],
         "yaxis": "y"
        },
        {
         "hovertemplate": "to_facility=HARPETH VALLEY HEALTH CENTER PLLC<br>from_physician=%{x}<br>patient_count=%{y}<extra></extra>",
         "legendgroup": "HARPETH VALLEY HEALTH CENTER PLLC",
         "marker": {
          "color": "#FF6692",
          "symbol": "circle"
         },
         "mode": "markers",
         "name": "HARPETH VALLEY HEALTH CENTER PLLC",
         "showlegend": true,
         "type": "scattergl",
         "x": [
          "TAMERA THOENER"
         ],
         "xaxis": "x",
         "y": [
          109
         ],
         "yaxis": "y"
        },
        {
         "hovertemplate": "to_facility=CHARLES W DANIELS MD PERSONALIZED HEALTHCARE<br>from_physician=%{x}<br>patient_count=%{y}<extra></extra>",
         "legendgroup": "CHARLES W DANIELS MD PERSONALIZED HEALTHCARE",
         "marker": {
          "color": "#B6E880",
          "symbol": "circle"
         },
         "mode": "markers",
         "name": "CHARLES W DANIELS MD PERSONALIZED HEALTHCARE",
         "showlegend": true,
         "type": "scattergl",
         "x": [
          "CHARLES DANIELS"
         ],
         "xaxis": "x",
         "y": [
          118
         ],
         "yaxis": "y"
        },
        {
         "hovertemplate": "to_facility=METROPOLITAN GOVERNMENT OF NASHVILLE & DAVIDSON COUNTY<br>from_physician=%{x}<br>patient_count=%{y}<extra></extra>",
         "legendgroup": "METROPOLITAN GOVERNMENT OF NASHVILLE & DAVIDSON COUNTY",
         "marker": {
          "color": "#FF97FF",
          "symbol": "circle"
         },
         "mode": "markers",
         "name": "METROPOLITAN GOVERNMENT OF NASHVILLE & DAVIDSON COUNTY",
         "showlegend": true,
         "type": "scattergl",
         "x": [
          "WILLIAM PAUL"
         ],
         "xaxis": "x",
         "y": [
          65
         ],
         "yaxis": "y"
        },
        {
         "hovertemplate": "to_facility=STEEL FAMILY MEDICINE<br>from_physician=%{x}<br>patient_count=%{y}<extra></extra>",
         "legendgroup": "STEEL FAMILY MEDICINE",
         "marker": {
          "color": "#FECB52",
          "symbol": "circle"
         },
         "mode": "markers",
         "name": "STEEL FAMILY MEDICINE",
         "showlegend": true,
         "type": "scattergl",
         "x": [
          "SHANNAH STEEL"
         ],
         "xaxis": "x",
         "y": [
          100
         ],
         "yaxis": "y"
        },
        {
         "hovertemplate": "to_facility=OPTIMAL HEALTH CHIROPRACTIC CENTER, PLLC<br>from_physician=%{x}<br>patient_count=%{y}<extra></extra>",
         "legendgroup": "OPTIMAL HEALTH CHIROPRACTIC CENTER, PLLC",
         "marker": {
          "color": "#636efa",
          "symbol": "circle"
         },
         "mode": "markers",
         "name": "OPTIMAL HEALTH CHIROPRACTIC CENTER, PLLC",
         "showlegend": true,
         "type": "scattergl",
         "x": [
          "DANIEL HOLLAND"
         ],
         "xaxis": "x",
         "y": [
          19
         ],
         "yaxis": "y"
        },
        {
         "hovertemplate": "to_facility=BRENTWOOD SKIN CLINIC PLLC<br>from_physician=%{x}<br>patient_count=%{y}<extra></extra>",
         "legendgroup": "BRENTWOOD SKIN CLINIC PLLC",
         "marker": {
          "color": "#EF553B",
          "symbol": "circle"
         },
         "mode": "markers",
         "name": "BRENTWOOD SKIN CLINIC PLLC",
         "showlegend": true,
         "type": "scattergl",
         "x": [
          "CHARLES MITCHELL"
         ],
         "xaxis": "x",
         "y": [
          166
         ],
         "yaxis": "y"
        },
        {
         "hovertemplate": "to_facility=WAWA LLC<br>from_physician=%{x}<br>patient_count=%{y}<extra></extra>",
         "legendgroup": "WAWA LLC",
         "marker": {
          "color": "#00cc96",
          "symbol": "circle"
         },
         "mode": "markers",
         "name": "WAWA LLC",
         "showlegend": true,
         "type": "scattergl",
         "x": [
          "FRITZ WAWA"
         ],
         "xaxis": "x",
         "y": [
          120
         ],
         "yaxis": "y"
        },
        {
         "hovertemplate": "to_facility=STONES RIVER SURGICAL GROUP PLLC<br>from_physician=%{x}<br>patient_count=%{y}<extra></extra>",
         "legendgroup": "STONES RIVER SURGICAL GROUP PLLC",
         "marker": {
          "color": "#ab63fa",
          "symbol": "circle"
         },
         "mode": "markers",
         "name": "STONES RIVER SURGICAL GROUP PLLC",
         "showlegend": true,
         "type": "scattergl",
         "x": [
          "ROBERT DURGIN"
         ],
         "xaxis": "x",
         "y": [
          67
         ],
         "yaxis": "y"
        },
        {
         "hovertemplate": "to_facility=REGIONAL ENT ASSOCIATES, P.C.<br>from_physician=%{x}<br>patient_count=%{y}<extra></extra>",
         "legendgroup": "REGIONAL ENT ASSOCIATES, P.C.",
         "marker": {
          "color": "#FFA15A",
          "symbol": "circle"
         },
         "mode": "markers",
         "name": "REGIONAL ENT ASSOCIATES, P.C.",
         "showlegend": true,
         "type": "scattergl",
         "x": [
          "LESLIE ALLEN"
         ],
         "xaxis": "x",
         "y": [
          168
         ],
         "yaxis": "y"
        }
       ],
       "layout": {
        "legend": {
         "title": {
          "text": "to_facility"
         },
         "tracegroupgap": 0
        },
        "showlegend": false,
        "template": {
         "data": {
          "bar": [
           {
            "error_x": {
             "color": "#2a3f5f"
            },
            "error_y": {
             "color": "#2a3f5f"
            },
            "marker": {
             "line": {
              "color": "#E5ECF6",
              "width": 0.5
             }
            },
            "type": "bar"
           }
          ],
          "barpolar": [
           {
            "marker": {
             "line": {
              "color": "#E5ECF6",
              "width": 0.5
             }
            },
            "type": "barpolar"
           }
          ],
          "carpet": [
           {
            "aaxis": {
             "endlinecolor": "#2a3f5f",
             "gridcolor": "white",
             "linecolor": "white",
             "minorgridcolor": "white",
             "startlinecolor": "#2a3f5f"
            },
            "baxis": {
             "endlinecolor": "#2a3f5f",
             "gridcolor": "white",
             "linecolor": "white",
             "minorgridcolor": "white",
             "startlinecolor": "#2a3f5f"
            },
            "type": "carpet"
           }
          ],
          "choropleth": [
           {
            "colorbar": {
             "outlinewidth": 0,
             "ticks": ""
            },
            "type": "choropleth"
           }
          ],
          "contour": [
           {
            "colorbar": {
             "outlinewidth": 0,
             "ticks": ""
            },
            "colorscale": [
             [
              0,
              "#0d0887"
             ],
             [
              0.1111111111111111,
              "#46039f"
             ],
             [
              0.2222222222222222,
              "#7201a8"
             ],
             [
              0.3333333333333333,
              "#9c179e"
             ],
             [
              0.4444444444444444,
              "#bd3786"
             ],
             [
              0.5555555555555556,
              "#d8576b"
             ],
             [
              0.6666666666666666,
              "#ed7953"
             ],
             [
              0.7777777777777778,
              "#fb9f3a"
             ],
             [
              0.8888888888888888,
              "#fdca26"
             ],
             [
              1,
              "#f0f921"
             ]
            ],
            "type": "contour"
           }
          ],
          "contourcarpet": [
           {
            "colorbar": {
             "outlinewidth": 0,
             "ticks": ""
            },
            "type": "contourcarpet"
           }
          ],
          "heatmap": [
           {
            "colorbar": {
             "outlinewidth": 0,
             "ticks": ""
            },
            "colorscale": [
             [
              0,
              "#0d0887"
             ],
             [
              0.1111111111111111,
              "#46039f"
             ],
             [
              0.2222222222222222,
              "#7201a8"
             ],
             [
              0.3333333333333333,
              "#9c179e"
             ],
             [
              0.4444444444444444,
              "#bd3786"
             ],
             [
              0.5555555555555556,
              "#d8576b"
             ],
             [
              0.6666666666666666,
              "#ed7953"
             ],
             [
              0.7777777777777778,
              "#fb9f3a"
             ],
             [
              0.8888888888888888,
              "#fdca26"
             ],
             [
              1,
              "#f0f921"
             ]
            ],
            "type": "heatmap"
           }
          ],
          "heatmapgl": [
           {
            "colorbar": {
             "outlinewidth": 0,
             "ticks": ""
            },
            "colorscale": [
             [
              0,
              "#0d0887"
             ],
             [
              0.1111111111111111,
              "#46039f"
             ],
             [
              0.2222222222222222,
              "#7201a8"
             ],
             [
              0.3333333333333333,
              "#9c179e"
             ],
             [
              0.4444444444444444,
              "#bd3786"
             ],
             [
              0.5555555555555556,
              "#d8576b"
             ],
             [
              0.6666666666666666,
              "#ed7953"
             ],
             [
              0.7777777777777778,
              "#fb9f3a"
             ],
             [
              0.8888888888888888,
              "#fdca26"
             ],
             [
              1,
              "#f0f921"
             ]
            ],
            "type": "heatmapgl"
           }
          ],
          "histogram": [
           {
            "marker": {
             "colorbar": {
              "outlinewidth": 0,
              "ticks": ""
             }
            },
            "type": "histogram"
           }
          ],
          "histogram2d": [
           {
            "colorbar": {
             "outlinewidth": 0,
             "ticks": ""
            },
            "colorscale": [
             [
              0,
              "#0d0887"
             ],
             [
              0.1111111111111111,
              "#46039f"
             ],
             [
              0.2222222222222222,
              "#7201a8"
             ],
             [
              0.3333333333333333,
              "#9c179e"
             ],
             [
              0.4444444444444444,
              "#bd3786"
             ],
             [
              0.5555555555555556,
              "#d8576b"
             ],
             [
              0.6666666666666666,
              "#ed7953"
             ],
             [
              0.7777777777777778,
              "#fb9f3a"
             ],
             [
              0.8888888888888888,
              "#fdca26"
             ],
             [
              1,
              "#f0f921"
             ]
            ],
            "type": "histogram2d"
           }
          ],
          "histogram2dcontour": [
           {
            "colorbar": {
             "outlinewidth": 0,
             "ticks": ""
            },
            "colorscale": [
             [
              0,
              "#0d0887"
             ],
             [
              0.1111111111111111,
              "#46039f"
             ],
             [
              0.2222222222222222,
              "#7201a8"
             ],
             [
              0.3333333333333333,
              "#9c179e"
             ],
             [
              0.4444444444444444,
              "#bd3786"
             ],
             [
              0.5555555555555556,
              "#d8576b"
             ],
             [
              0.6666666666666666,
              "#ed7953"
             ],
             [
              0.7777777777777778,
              "#fb9f3a"
             ],
             [
              0.8888888888888888,
              "#fdca26"
             ],
             [
              1,
              "#f0f921"
             ]
            ],
            "type": "histogram2dcontour"
           }
          ],
          "mesh3d": [
           {
            "colorbar": {
             "outlinewidth": 0,
             "ticks": ""
            },
            "type": "mesh3d"
           }
          ],
          "parcoords": [
           {
            "line": {
             "colorbar": {
              "outlinewidth": 0,
              "ticks": ""
             }
            },
            "type": "parcoords"
           }
          ],
          "pie": [
           {
            "automargin": true,
            "type": "pie"
           }
          ],
          "scatter": [
           {
            "marker": {
             "colorbar": {
              "outlinewidth": 0,
              "ticks": ""
             }
            },
            "type": "scatter"
           }
          ],
          "scatter3d": [
           {
            "line": {
             "colorbar": {
              "outlinewidth": 0,
              "ticks": ""
             }
            },
            "marker": {
             "colorbar": {
              "outlinewidth": 0,
              "ticks": ""
             }
            },
            "type": "scatter3d"
           }
          ],
          "scattercarpet": [
           {
            "marker": {
             "colorbar": {
              "outlinewidth": 0,
              "ticks": ""
             }
            },
            "type": "scattercarpet"
           }
          ],
          "scattergeo": [
           {
            "marker": {
             "colorbar": {
              "outlinewidth": 0,
              "ticks": ""
             }
            },
            "type": "scattergeo"
           }
          ],
          "scattergl": [
           {
            "marker": {
             "colorbar": {
              "outlinewidth": 0,
              "ticks": ""
             }
            },
            "type": "scattergl"
           }
          ],
          "scattermapbox": [
           {
            "marker": {
             "colorbar": {
              "outlinewidth": 0,
              "ticks": ""
             }
            },
            "type": "scattermapbox"
           }
          ],
          "scatterpolar": [
           {
            "marker": {
             "colorbar": {
              "outlinewidth": 0,
              "ticks": ""
             }
            },
            "type": "scatterpolar"
           }
          ],
          "scatterpolargl": [
           {
            "marker": {
             "colorbar": {
              "outlinewidth": 0,
              "ticks": ""
             }
            },
            "type": "scatterpolargl"
           }
          ],
          "scatterternary": [
           {
            "marker": {
             "colorbar": {
              "outlinewidth": 0,
              "ticks": ""
             }
            },
            "type": "scatterternary"
           }
          ],
          "surface": [
           {
            "colorbar": {
             "outlinewidth": 0,
             "ticks": ""
            },
            "colorscale": [
             [
              0,
              "#0d0887"
             ],
             [
              0.1111111111111111,
              "#46039f"
             ],
             [
              0.2222222222222222,
              "#7201a8"
             ],
             [
              0.3333333333333333,
              "#9c179e"
             ],
             [
              0.4444444444444444,
              "#bd3786"
             ],
             [
              0.5555555555555556,
              "#d8576b"
             ],
             [
              0.6666666666666666,
              "#ed7953"
             ],
             [
              0.7777777777777778,
              "#fb9f3a"
             ],
             [
              0.8888888888888888,
              "#fdca26"
             ],
             [
              1,
              "#f0f921"
             ]
            ],
            "type": "surface"
           }
          ],
          "table": [
           {
            "cells": {
             "fill": {
              "color": "#EBF0F8"
             },
             "line": {
              "color": "white"
             }
            },
            "header": {
             "fill": {
              "color": "#C8D4E3"
             },
             "line": {
              "color": "white"
             }
            },
            "type": "table"
           }
          ]
         },
         "layout": {
          "annotationdefaults": {
           "arrowcolor": "#2a3f5f",
           "arrowhead": 0,
           "arrowwidth": 1
          },
          "coloraxis": {
           "colorbar": {
            "outlinewidth": 0,
            "ticks": ""
           }
          },
          "colorscale": {
           "diverging": [
            [
             0,
             "#8e0152"
            ],
            [
             0.1,
             "#c51b7d"
            ],
            [
             0.2,
             "#de77ae"
            ],
            [
             0.3,
             "#f1b6da"
            ],
            [
             0.4,
             "#fde0ef"
            ],
            [
             0.5,
             "#f7f7f7"
            ],
            [
             0.6,
             "#e6f5d0"
            ],
            [
             0.7,
             "#b8e186"
            ],
            [
             0.8,
             "#7fbc41"
            ],
            [
             0.9,
             "#4d9221"
            ],
            [
             1,
             "#276419"
            ]
           ],
           "sequential": [
            [
             0,
             "#0d0887"
            ],
            [
             0.1111111111111111,
             "#46039f"
            ],
            [
             0.2222222222222222,
             "#7201a8"
            ],
            [
             0.3333333333333333,
             "#9c179e"
            ],
            [
             0.4444444444444444,
             "#bd3786"
            ],
            [
             0.5555555555555556,
             "#d8576b"
            ],
            [
             0.6666666666666666,
             "#ed7953"
            ],
            [
             0.7777777777777778,
             "#fb9f3a"
            ],
            [
             0.8888888888888888,
             "#fdca26"
            ],
            [
             1,
             "#f0f921"
            ]
           ],
           "sequentialminus": [
            [
             0,
             "#0d0887"
            ],
            [
             0.1111111111111111,
             "#46039f"
            ],
            [
             0.2222222222222222,
             "#7201a8"
            ],
            [
             0.3333333333333333,
             "#9c179e"
            ],
            [
             0.4444444444444444,
             "#bd3786"
            ],
            [
             0.5555555555555556,
             "#d8576b"
            ],
            [
             0.6666666666666666,
             "#ed7953"
            ],
            [
             0.7777777777777778,
             "#fb9f3a"
            ],
            [
             0.8888888888888888,
             "#fdca26"
            ],
            [
             1,
             "#f0f921"
            ]
           ]
          },
          "colorway": [
           "#636efa",
           "#EF553B",
           "#00cc96",
           "#ab63fa",
           "#FFA15A",
           "#19d3f3",
           "#FF6692",
           "#B6E880",
           "#FF97FF",
           "#FECB52"
          ],
          "font": {
           "color": "#2a3f5f"
          },
          "geo": {
           "bgcolor": "white",
           "lakecolor": "white",
           "landcolor": "#E5ECF6",
           "showlakes": true,
           "showland": true,
           "subunitcolor": "white"
          },
          "hoverlabel": {
           "align": "left"
          },
          "hovermode": "closest",
          "mapbox": {
           "style": "light"
          },
          "paper_bgcolor": "white",
          "plot_bgcolor": "#E5ECF6",
          "polar": {
           "angularaxis": {
            "gridcolor": "white",
            "linecolor": "white",
            "ticks": ""
           },
           "bgcolor": "#E5ECF6",
           "radialaxis": {
            "gridcolor": "white",
            "linecolor": "white",
            "ticks": ""
           }
          },
          "scene": {
           "xaxis": {
            "backgroundcolor": "#E5ECF6",
            "gridcolor": "white",
            "gridwidth": 2,
            "linecolor": "white",
            "showbackground": true,
            "ticks": "",
            "zerolinecolor": "white"
           },
           "yaxis": {
            "backgroundcolor": "#E5ECF6",
            "gridcolor": "white",
            "gridwidth": 2,
            "linecolor": "white",
            "showbackground": true,
            "ticks": "",
            "zerolinecolor": "white"
           },
           "zaxis": {
            "backgroundcolor": "#E5ECF6",
            "gridcolor": "white",
            "gridwidth": 2,
            "linecolor": "white",
            "showbackground": true,
            "ticks": "",
            "zerolinecolor": "white"
           }
          },
          "shapedefaults": {
           "line": {
            "color": "#2a3f5f"
           }
          },
          "ternary": {
           "aaxis": {
            "gridcolor": "white",
            "linecolor": "white",
            "ticks": ""
           },
           "baxis": {
            "gridcolor": "white",
            "linecolor": "white",
            "ticks": ""
           },
           "bgcolor": "#E5ECF6",
           "caxis": {
            "gridcolor": "white",
            "linecolor": "white",
            "ticks": ""
           }
          },
          "title": {
           "x": 0.05
          },
          "xaxis": {
           "automargin": true,
           "gridcolor": "white",
           "linecolor": "white",
           "ticks": "",
           "title": {
            "standoff": 15
           },
           "zerolinecolor": "white",
           "zerolinewidth": 2
          },
          "yaxis": {
           "automargin": true,
           "gridcolor": "white",
           "linecolor": "white",
           "ticks": "",
           "title": {
            "standoff": 15
           },
           "zerolinecolor": "white",
           "zerolinewidth": 2
          }
         }
        },
        "title": {
         "text": " "
        },
        "xaxis": {
         "anchor": "y",
         "domain": [
          0,
          1
         ],
         "title": {
          "text": "from_physician"
         }
        },
        "yaxis": {
         "anchor": "x",
         "domain": [
          0,
          1
         ],
         "title": {
          "text": "patient_count"
         }
        }
       }
      },
      "text/html": [
       "<div>                            <div id=\"96f81912-e045-478c-afc6-8802acbf6a04\" class=\"plotly-graph-div\" style=\"height:525px; width:100%;\"></div>            <script type=\"text/javascript\">                require([\"plotly\"], function(Plotly) {                    window.PLOTLYENV=window.PLOTLYENV || {};                                    if (document.getElementById(\"96f81912-e045-478c-afc6-8802acbf6a04\")) {                    Plotly.newPlot(                        \"96f81912-e045-478c-afc6-8802acbf6a04\",                        [{\"hovertemplate\": \"to_facility=SPRING HILL DERMATOLOGY PLC<br>from_physician=%{x}<br>patient_count=%{y}<extra></extra>\", \"legendgroup\": \"SPRING HILL DERMATOLOGY PLC\", \"marker\": {\"color\": \"#636efa\", \"symbol\": \"circle\"}, \"mode\": \"markers\", \"name\": \"SPRING HILL DERMATOLOGY PLC\", \"showlegend\": true, \"type\": \"scattergl\", \"x\": [\"BENJAMIN HAYES\", \"RYAN SULLIVAN\", \"BRENDA SANCHEZ\", \"SUSAN HIGGINS\", \"KELLY TAYLOR\", \"AMANDA AMICK\"], \"xaxis\": \"x\", \"y\": [2535, 276, 545, 35, 416, 661], \"yaxis\": \"y\"}, {\"hovertemplate\": \"to_facility=WESLEY & KLIPPENSTEIN, PC<br>from_physician=%{x}<br>patient_count=%{y}<extra></extra>\", \"legendgroup\": \"WESLEY & KLIPPENSTEIN, PC\", \"marker\": {\"color\": \"#EF553B\", \"symbol\": \"circle\"}, \"mode\": \"markers\", \"name\": \"WESLEY & KLIPPENSTEIN, PC\", \"showlegend\": true, \"type\": \"scattergl\", \"x\": [\"FAWN HOLSOMBECK\", \"KELLY EVERMAN\", \"WILLARD MEADOWS\"], \"xaxis\": \"x\", \"y\": [85, 329, 169], \"yaxis\": \"y\"}, {\"hovertemplate\": \"to_facility=URBAN PHYSICAL THERAPY, INC<br>from_physician=%{x}<br>patient_count=%{y}<extra></extra>\", \"legendgroup\": \"URBAN PHYSICAL THERAPY, INC\", \"marker\": {\"color\": \"#00cc96\", \"symbol\": \"circle\"}, \"mode\": \"markers\", \"name\": \"URBAN PHYSICAL THERAPY, INC\", \"showlegend\": true, \"type\": \"scattergl\", \"x\": [\"JONATHON MCGEE\", \"LAURA BATTS\", \"OLEG URBAN\"], \"xaxis\": \"x\", \"y\": [78, 91, 107], \"yaxis\": \"y\"}, {\"hovertemplate\": \"to_facility=UROLOGY ASSOCIATES PC<br>from_physician=%{x}<br>patient_count=%{y}<extra></extra>\", \"legendgroup\": \"UROLOGY ASSOCIATES PC\", \"marker\": {\"color\": \"#ab63fa\", \"symbol\": \"circle\"}, \"mode\": \"markers\", \"name\": \"UROLOGY ASSOCIATES PC\", \"showlegend\": true, \"type\": \"scattergl\", \"x\": [\"CATHERINE KIRKLAND\", \"JEFFREY WOODS\", \"LYNDA ELAM\", \"DAVID DUONG\", \"MATTHEW STEIDL\", \"ELLEN NEWMAN\", \"BROOKE FAUGHT\"], \"xaxis\": \"x\", \"y\": [205, 519, 196, 354, 167, 183, 376], \"yaxis\": \"y\"}, {\"hovertemplate\": \"to_facility=OCULOPLASTIC SPECIALISTS OF TENNESSEE LLC<br>from_physician=%{x}<br>patient_count=%{y}<extra></extra>\", \"legendgroup\": \"OCULOPLASTIC SPECIALISTS OF TENNESSEE LLC\", \"marker\": {\"color\": \"#FFA15A\", \"symbol\": \"circle\"}, \"mode\": \"markers\", \"name\": \"OCULOPLASTIC SPECIALISTS OF TENNESSEE LLC\", \"showlegend\": true, \"type\": \"scattergl\", \"x\": [\"MARK MELSON\"], \"xaxis\": \"x\", \"y\": [245], \"yaxis\": \"y\"}, {\"hovertemplate\": \"to_facility=MENTAL HEALTH COOPERATIVE, INC<br>from_physician=%{x}<br>patient_count=%{y}<extra></extra>\", \"legendgroup\": \"MENTAL HEALTH COOPERATIVE, INC\", \"marker\": {\"color\": \"#19d3f3\", \"symbol\": \"circle\"}, \"mode\": \"markers\", \"name\": \"MENTAL HEALTH COOPERATIVE, INC\", \"showlegend\": true, \"type\": \"scattergl\", \"x\": [\"JAMES SPECK\", \"EVANGELINE WALKER\", \"SHERRILL BARKEY\", \"TOWNLEY WHITE\", \"JENNIFER GARNER\", \"CHRISTA CAMPBELL\", \"MORGAN WATSON\", \"MICHELLE KIXMILLER\", \"KATHERINE HALE\", \"ADAM SISKO\", \"ADRIENNE HLAVATI\", \"MARY BROWN\", \"MAX SPADERNA\", \"ANNA WILSON\", \"MOLLIE GURLEY\", \"JASON DANIELS\"], \"xaxis\": \"x\", \"y\": [21, 41, 52, 26, 33, 16, 21, 32, 20, 54, 57, 40, 22, 66, 40, 22], \"yaxis\": \"y\"}, {\"hovertemplate\": \"to_facility=MUSIC CITY HEALTH CENTER PHYSICAL MEDICINE PLLC<br>from_physician=%{x}<br>patient_count=%{y}<extra></extra>\", \"legendgroup\": \"MUSIC CITY HEALTH CENTER PHYSICAL MEDICINE PLLC\", \"marker\": {\"color\": \"#FF6692\", \"symbol\": \"circle\"}, \"mode\": \"markers\", \"name\": \"MUSIC CITY HEALTH CENTER PHYSICAL MEDICINE PLLC\", \"showlegend\": true, \"type\": \"scattergl\", \"x\": [\"KIMBERLY CAMPBELL\", \"COURTNEY MOSELEY\"], \"xaxis\": \"x\", \"y\": [45, 31], \"yaxis\": \"y\"}, {\"hovertemplate\": \"to_facility=VANDERBILT UNIVERSITY MEDICAL CENTER<br>from_physician=%{x}<br>patient_count=%{y}<extra></extra>\", \"legendgroup\": \"VANDERBILT UNIVERSITY MEDICAL CENTER\", \"marker\": {\"color\": \"#B6E880\", \"symbol\": \"circle\"}, \"mode\": \"markers\", \"name\": \"VANDERBILT UNIVERSITY MEDICAL CENTER\", \"showlegend\": true, \"type\": \"scattergl\", \"x\": [\"CHRISTINA HAYHURST\", \"ROCHELLE ANDREOTTI\", \"LORENZO HUGHES\", \"MARY ANN ARILDSEN\", \"SHUHANNA OBRYAN\", \"CRYSTAL PARRISH\", \"HOLLY WESTERVELT\", \"EDWARD SIEW\", \"ROBERT LENTZ\", \"BRIANA WITHERSPOON\", \"SHELLEY ATKINSON\", \"HOLLY ENDE\", \"EMILY MCMASTER\", \"JOHN DOWNING\", \"JULIE YORK\", \"SHEENA WEAVER\", \"RAJNISH GUPTA\", \"CASEY BALTHAZAR\", \"STEPHEN SCHULTENOVER\", \"MATTHIAS RIESS\", \"MICHAEL WARD\", \"JEREMY HAYES\", \"ALISON DAVIS\", \"ASHLEY RAGAN\", \"ERIN DUNAVANT\", \"ELIZABETH SCOVILLE\", \"JILL BOYLE\", \"KATHERINE DOBIE\", \"SARALYN WILLIAMS\", \"FRANK FISH\", \"VIVIAN WEISS\", \"MONYCA HARRIS-CHAMPION\", \"DILLON HEATH\", \"DYLAN VANLITH\", \"OLIVIA KIRKPATRICK\", \"YAFEN LIANG\", \"MORGAN STINE\", \"MEERA CHANDRASHEKAR\", \"JEFFREY BOON\", \"LISA JAEGER\", \"LIZA WEAVIND\", \"ALISON MARTIN\", \"JOSEPH SCHLESINGER\", \"JULIANNE WAGNON\", \"TRACY MCGRANE\", \"JANNA LANDSPERGER\", \"CHANJUAN SHI\", \"MEREDITH GOLDEN\", \"JOEL BENVENISTE\", \"CAROLE BARTOO\", \"MARGARET LAXTON\", \"STEPHANIE IVEY\", \"JORDAN MILLER\", \"DEBRA CIRONE\", \"LETITIA EASDOWN\", \"BRIAN ROTHMAN\", \"LAUREN BRUNHOEBER\", \"ROBERT DEEGAN\", \"LATORYA BURTON\", \"COURTNEY COOK\", \"KASSANDRA STUBBLEFIELD\", \"CURTIS BAYSINGER\", \"DEANA BEARD\", \"AMANDA BAILEY\", \"JENNIFER VEST\", \"SHANNON KILKELLY\", \"SHARON ALBERS\", \"GREGORY MICHAUD\", \"SHAWN PALMITER\", \"RACHEL WISE\", \"TAINA OVCHINNIKOV\", \"SARAH STACY\", \"CHARLOTTE ANDERSON\", \"BRET ALVIS\", \"ALICE COOGAN\", \"PAISIT PAUEKSAKON\", \"HAROLD THOMPSON\", \"JOHN BARWISE\", \"KENNETH HOLROYD\", \"DAVID GAILANI\", \"HENRIETTA SZMYD-HOGAN\", \"EDUARD VASILEVSKIS\", \"LAN GELLERT\", \"JEFFREY BARTON\", \"ELIZABETH COMPTON\", \"MARY RANDALL\", \"LAURIE LAWRENCE\", \"EDMUND DONHUE\", \"JASON KENNEDY\", \"RYAN PARKER\", \"ERIN CAMPBELL\", \"TRACIE BAKER\", \"MARK LUSCO\", \"JOYCE JOHNSON\", \"ESWARA BOTTA\", \"MICHAEL HOGAN\", \"KATHY VEHRING\", \"E. BROCK\", \"KATHERINE SALVADOR\", \"LAURIE GOERZEN\", \"MARY PETERS\", \"EMILY HOLCOMBE\", \"ROBBYN BARBER-ANDERSON\", \"MICHELLE GORDY\", \"JAMES BOGGESS\", \"GARY SMITH\", \"RENEE SIMPSON\", \"WHITNEY THOMPSON\", \"ANTONIO HERNANDEZ\", \"DENISE BUFFINGTON\", \"MERRICK MILES\", \"SUSAN JEANSONNE\", \"KELLY MISHRA\", \"AIMEE MARLAR\", \"JAMES BOOKMAN\", \"EDWARD SHERWOOD\", \"MICHAEL TRAMONTANA\", \"TY ABEL\", \"JAMIE SPICER\", \"AGNES FOGO\", \"MELISSA WILEY\", \"LISA FLEMMONS\", \"WON JAE HUH\", \"JILL NELSON\", \"LINDSAY TRANTUM\", \"KANIKA BAGAI\", \"KRISTEN HULL\", \"LARRY DAVIS\", \"ANNE KIRK\", \"STEPHEN HARVEY\", \"WILLIAM COSTELLO\", \"ROBERT HOFFMAN\", \"ALYSSA MILLER\", \"KATIE COLE\", \"HANNAH MALONEY\", \"ANN HACKETT\", \"CYNTHIA O'KELLEY\", \"CHRISTOPHER CANLAS\", \"AMY ARMSTRONG\", \"UMA SHASTRI\", \"LINDSEY ALDRED\", \"REBECCA DEVINNEY\", \"JONATHAN KIEPEK\", \"JUSTIN CATES\", \"JASMINA KLAPIC\", \"LAUREN KIMBRELL\", \"ALLISON SCHAFFER\", \"CLIFFORD PARMLEY\", \"LAUREN OLIVER\", \"JILLIAN GOLES\", \"CHRISTINE RUST\", \"CHRISTINE FREEMAN\", \"CLIFFORD BOWENS\", \"ANDREW WOOLDRIDGE\", \"ERIC BRIGGS\", \"KELLEY MAST\", \"DAVID NEELY\", \"CARRIE KUCERA-ANDERS\", \"KAITLIN NEARY\", \"YANDONG JIANG\", \"AMBER VELASQUEZ\", \"MATTHEW WEINGER\", \"SARAH GAST\", \"DOUGLAS HESTER\", \"AMANDA SIMPSON\", \"RONALD WALKER\", \"JERRY ISHEE\", \"JAYME GIBSON\", \"JAMES BLAIR\", \"THOMAS KOSS\", \"ROBERT MYERS\", \"YURI VAN DER HEIJDEN\", \"EMILY DONEGAN\", \"ALEXANDER MOORE\", \"JENNIFER JAYARAM\", \"CHRISTINA LORANCE\", \"LOUISE ALEXANDER\", \"KRYSTAL PEEK\", \"BRIAN GELFAND\", \"RONALD COWAN\", \"JANET HARDISON\", \"PAUL BONNER\", \"JONATHAN WANDERER\", \"KRISTEN SHERMAN\", \"BRIAN ALLEN\", \"DANA MANNING\", \"RYAN WALSH\", \"RIDAS JUSKEVICIUS\", \"NINA COLLINS\", \"DOROTHEE MUELLER\", \"SHELLEY MOSES\", \"KRISTA KUHNERT-GAINER\", \"ALAN HENDON\", \"MEGHAN URQUHART\", \"JAMES ATKINSON\", \"TRAVIS HAMILTON\", \"CLAUDIO MOSSE\", \"BRIAN REID\", \"MATTHEW FOSNOT\", \"KATHERINE CARROLL\", \"PHILIP CHARLES\", \"JOHN BUTORAC\", \"MARK RICE\", \"EDITH CLOYD\", \"PAMELA HOROWITZ\", \"STEPHANIE MEHR\", \"BEVERLY BARKER\", \"BRIDGET SHARP\", \"CYNTHIA WASDEN\", \"DEBRA CRAVEN\", \"KARA SIEGRIST\", \"JANANNE MCKINNON\", \"JAMES LEWIS\", \"BRANDON ASHTON\", \"JAQUELYN FORD\", \"TIFFANY MORRIS\", \"MOLLY WILLIAMS\", \"MARQUES BRADSHAW\", \"JOHN RUTLEDGE\", \"JACOBO MARRUJO\", \"AMY HOWARD\", \"ADAM KING\", \"WILLIAM CAMERON\", \"BANTAYEHU SILESHI\", \"MELINDA SANDERS\", \"JONATHAN MOSLEY\", \"KATHRYN KENNEDY\", \"WARREN SANDBERG\", \"RAY PASCHALL\", \"NAHEL SAIED\", \"CHRISTINA NOBLIT\", \"CAROLYNN NALL\", \"LORRAINE WARE\", \"ALEXANDRA KOVACH\", \"PIERRE MASSION\", \"FREDERICK LOMBARD\", \"BRIANA BRINKLEY\", \"NATHAN SCOTT\", \"AVINASH KUMAR\", \"GARY SOLOMON\", \"JO WILSON\", \"LISA TRUETT\", \"MATTHEW MCEVOY\", \"MITRA MEHRAD\", \"WARREN TAYLOR\", \"LETHA MATHEWS\", \"JEREMY BOYD\", \"NATHAN MCMASTERS\", \"LAURA SORABELLA\", \"JENNIFER KAYE\", \"ALICE LOWE\", \"GARY SOLOMON\", \"RICHARD STEIN\", \"RYAN HENDERSON\", \"KELLY DALEY\", \"KEVIN PREECE\", \"CHIRAYU SHAH\", \"SUSAN EAGLE\", \"ALLISON WALKER\", \"LYNN CLEMENT\", \"NATHAN ASHBY\", \"KOFFI KLA\", \"CHRISTOPHER HUGHES\", \"MOORE SHOEMAKER\", \"CHERYL LAFFER\", \"EMILY NATH\", \"PAMPEE YOUNG\", \"MICHAEL LEERSNYDER\", \"ANDREA SCHNEIDER\", \"RAMZI MARDAM BEY\", \"CHARLIE BREWER\", \"SARAH BLOOM\", \"ELISE BRADLEY\", \"RACHEL APPLE\", \"BROOKE BAILEY\", \"SHERRY HARMON\", \"PAUL ST. JACQUES\", \"BETH MEADOR\", \"JOHN FOSTER\", \"LAURA BROWN COULAM\", \"EDITH NEWBERRY\", \"WILLIAM MARTIN\", \"STEVE HYMAN\", \"ANNA FONG\", \"HELEN TALBOT\", \"EDWARD MCDONALD\", \"WILLIAM SCHENK\", \"JOSEPH SIMPSON\", \"JODY SMITH\", \"BRIAN MCKELVY\", \"SAFIA SALARIA\", \"LOREN SMITH\", \"JEFFERY CLEMMONS\", \"MATTHEW PRATER\", \"FREDERIC BILLINGS\", \"ELIZABETH PHILLIPS\", \"JACQUELINE FRYDENLUND\", \"RENEE CHAMBERLAIN\", \"ROBERT FREUNDLICH\", \"YOUNG-JAE NAM\", \"ANGELA WOODCOCK\", \"NATALIE BRIDGES\", \"ALICE HOYT\", \"ALEXANDER BADRU\", \"ANNE NEFF\", \"ASHLEY BASH\", \"SUSANNE HORTON\", \"JEFFREY CREASY\", \"KANAH MAY\", \"HILARY HARRIS\", \"MICHAEL HIGGINS\", \"ROY NEELEY\", \"RHONDA HOLLINS-DORTCH\", \"ANDRE LAGRANGE\", \"MICHAEL CAUCCI\", \"RAMI AL-ROHIL\", \"WILLIAM WALTON\", \"JESSICA WALKER\", \"CHRISTOPHER HENSON\", \"JOHN SHIELDS\", \"JEREMY BENNETT\", \"ARNA BANERJEE\", \"THOMAS TALBOT\", \"ROBERT OSSOFF\", \"AMY FORTNER\", \"AMY SMITH\", \"QUINN WELLS\", \"MELISSA LEHMANN\", \"AMANDA WILSON\", \"JAY BELL\", \"JUSTIN CALABRACE\", \"MARY KATE JORDAN\", \"KEVIN DIEHL\", \"MARY WASHINGTON\", \"EMILY MASON\", \"AARON SHAVER\", \"BROOKE JAYRAM\", \"AMY ROBERTSON\", \"PRATIK PANDHARIPANDE\", \"LAURA DAVIS\", \"DILDORA JORGALI\", \"JAMES ANDRY\", \"CATHERINE BEHRLE\", \"ROSANA EISENBERG\", \"HELEN HATFIELD\", \"CHARLES SHARBEL\", \"BRET MOBLEY\", \"HUONG PHAM\", \"AMA ROWE\", \"HELEN HATFIELD\", \"MARY KELLEY\", \"SHAWNEE BRENKMAN\", \"STUART MCGRANE\", \"GWENDOLYN SANDERS\", \"MIAS PRETORIUS\", \"RAYMOND ROMANO\", \"BRETT CLAY\", \"JOSHUA CAMPBELL\", \"ADAM KINGETER\", \"VIKRAM BANSAL\", \"STACEY TILLMAN\", \"FRED TRUESDALE\", \"ERIN FITTS-CHRISTENSEN\", \"ASHLEY BURDETTE\", \"KIM ELY\", \"TAMMY FREEHLING\", \"MICHAEL PILLA\", \"TYLER WOLZ\", \"SUSAN HELLERVIK\", \"MARK PEPPER\", \"MEAGAN MILLER\", \"JAMES MILLS\", \"MARCOS LOPEZ\"], \"xaxis\": \"x\", \"y\": [200, 1596, 258, 644, 88, 181, 91, 68, 121, 51, 65, 179, 121, 51, 102, 173, 284, 133, 555, 183, 70, 145, 101, 107, 225, 48, 122, 108, 55, 26, 134, 66, 140, 145, 49, 298, 103, 1110, 118, 423, 148, 225, 113, 54, 209, 115, 720, 119, 1791, 58, 94, 152, 80, 142, 174, 84, 123, 282, 338, 49, 265, 74, 211, 98, 122, 306, 224, 79, 108, 53, 48, 81, 223, 167, 490, 81, 276, 56, 129, 184, 78, 59, 664, 157, 117, 226, 190, 89, 110, 41, 58, 129, 62, 413, 149, 156, 113, 594, 175, 347, 109, 93, 243, 132, 101, 498, 54, 121, 160, 113, 221, 52, 151, 89, 244, 191, 80, 78, 207, 57, 45, 119, 483, 142, 109, 158, 124, 1017, 242, 351, 204, 225, 47, 61, 103, 236, 170, 390, 111, 305, 108, 81, 107, 705, 156, 122, 26, 52, 90, 59, 182, 100, 292, 297, 371, 176, 128, 178, 133, 355, 104, 67, 79, 214, 69, 206, 108, 72, 245, 119, 257, 78, 73, 56, 150, 100, 191, 103, 148, 60, 69, 235, 152, 369, 342, 47, 77, 687, 149, 71, 64, 162, 109, 64, 142, 226, 274, 174, 112, 98, 71, 150, 182, 49, 16, 158, 244, 118, 76, 47, 373, 200, 399, 55, 102, 340, 140, 180, 82, 158, 26, 277, 79, 226, 283, 44, 51, 78, 143, 35, 128, 77, 40, 425, 59, 347, 141, 123, 157, 82, 96, 31, 146, 426, 43, 169, 138, 121, 59, 91, 201, 79, 31, 183, 147, 126, 476, 165, 89, 74, 203, 231, 131, 40, 204, 93, 80, 77, 133, 38, 145, 65, 114, 63, 60, 180, 238, 86, 224, 58, 69, 534, 204, 115, 39, 764, 797, 68, 84, 301, 831, 180, 180, 139, 106, 104, 73, 55, 251, 38, 40, 110, 82, 103, 23, 130, 173, 1398, 68, 112, 363, 211, 42, 42, 105, 447, 203, 31, 192, 117, 330, 133, 63, 88, 71, 188, 437, 66, 140, 116, 121, 75, 1537, 524, 607, 718, 97, 186, 85, 53, 54, 57, 93, 423, 15, 121, 85, 204, 167, 15, 111, 133, 179, 75, 288, 49, 73, 147, 139, 325, 76, 114, 35, 155, 473, 84, 205, 64, 112, 95, 99, 280, 112], \"yaxis\": \"y\"}, {\"hovertemplate\": \"to_facility=ROCK SPRINGS FAMILY CHIROPRACTIC<br>from_physician=%{x}<br>patient_count=%{y}<extra></extra>\", \"legendgroup\": \"ROCK SPRINGS FAMILY CHIROPRACTIC\", \"marker\": {\"color\": \"#FF97FF\", \"symbol\": \"circle\"}, \"mode\": \"markers\", \"name\": \"ROCK SPRINGS FAMILY CHIROPRACTIC\", \"showlegend\": true, \"type\": \"scattergl\", \"x\": [\"ELIZABETH PENDERGRASS\"], \"xaxis\": \"x\", \"y\": [11], \"yaxis\": \"y\"}, {\"hovertemplate\": \"to_facility=WELLNESS SOLUTIONS GERIATRICS, PLLC<br>from_physician=%{x}<br>patient_count=%{y}<extra></extra>\", \"legendgroup\": \"WELLNESS SOLUTIONS GERIATRICS, PLLC\", \"marker\": {\"color\": \"#FECB52\", \"symbol\": \"circle\"}, \"mode\": \"markers\", \"name\": \"WELLNESS SOLUTIONS GERIATRICS, PLLC\", \"showlegend\": true, \"type\": \"scattergl\", \"x\": [\"JAMES SPECK\", \"ROBYN LOVELL\", \"ABBY FRAZEE\", \"JULIA MORRIS\", \"JON COOMER\", \"DEBRA JACKS\", \"OBIANUJU ONYEKWERE\", \"SUNITA TRYAMBAKE\", \"TRACY WEHBY\", \"CHARLOTTE ELLERBY\", \"ROSLYN HATCHETT-POPE\", \"JENELLE KALVODA\", \"BRITTNEY WHITMORE\", \"UNYIME EYOH\", \"ELIZABETH VERNON\", \"CHERED PEARSON\", \"MIATTA HAMPTON\"], \"xaxis\": \"x\", \"y\": [224, 148, 216, 261, 371, 59, 209, 449, 395, 423, 153, 96, 53, 234, 101, 51, 176], \"yaxis\": \"y\"}, {\"hovertemplate\": \"to_facility=MIDDLE TENNESSEE EAR NOSE & THROAT, PC<br>from_physician=%{x}<br>patient_count=%{y}<extra></extra>\", \"legendgroup\": \"MIDDLE TENNESSEE EAR NOSE & THROAT, PC\", \"marker\": {\"color\": \"#636efa\", \"symbol\": \"circle\"}, \"mode\": \"markers\", \"name\": \"MIDDLE TENNESSEE EAR NOSE & THROAT, PC\", \"showlegend\": true, \"type\": \"scattergl\", \"x\": [\"ALISSA SMITH\", \"VICKI FORD\", \"AURORA PHELPS\", \"NICOLE WISSING\", \"MICHAEL PETROKA\"], \"xaxis\": \"x\", \"y\": [249, 175, 210, 326, 201], \"yaxis\": \"y\"}, {\"hovertemplate\": \"to_facility=NASH MOBILE PLLC<br>from_physician=%{x}<br>patient_count=%{y}<extra></extra>\", \"legendgroup\": \"NASH MOBILE PLLC\", \"marker\": {\"color\": \"#EF553B\", \"symbol\": \"circle\"}, \"mode\": \"markers\", \"name\": \"NASH MOBILE PLLC\", \"showlegend\": true, \"type\": \"scattergl\", \"x\": [\"JASON NASH\"], \"xaxis\": \"x\", \"y\": [341], \"yaxis\": \"y\"}, {\"hovertemplate\": \"to_facility=TENNESSEE CHIROPRACTIC AND FUNCTIONAL NEUROLOGY CENTER<br>from_physician=%{x}<br>patient_count=%{y}<extra></extra>\", \"legendgroup\": \"TENNESSEE CHIROPRACTIC AND FUNCTIONAL NEUROLOGY CENTER\", \"marker\": {\"color\": \"#00cc96\", \"symbol\": \"circle\"}, \"mode\": \"markers\", \"name\": \"TENNESSEE CHIROPRACTIC AND FUNCTIONAL NEUROLOGY CENTER\", \"showlegend\": true, \"type\": \"scattergl\", \"x\": [\"BRYAN PASCOE\", \"HENRY OBERSTEADT\"], \"xaxis\": \"x\", \"y\": [16, 60], \"yaxis\": \"y\"}, {\"hovertemplate\": \"to_facility=TRISTAR JOINT REPLACEMENT INSTITUTE, LLC<br>from_physician=%{x}<br>patient_count=%{y}<extra></extra>\", \"legendgroup\": \"TRISTAR JOINT REPLACEMENT INSTITUTE, LLC\", \"marker\": {\"color\": \"#ab63fa\", \"symbol\": \"circle\"}, \"mode\": \"markers\", \"name\": \"TRISTAR JOINT REPLACEMENT INSTITUTE, LLC\", \"showlegend\": true, \"type\": \"scattergl\", \"x\": [\"MERLINDA REYES\", \"SARAH HARSHAW\", \"LINDSEY HICKLIN\", \"JON OGNIBENE\", \"TAMMY ROGERS\", \"BRANDON HOLLIS\", \"MICHAEL BORN\", \"ALLISON CHAMBERS\"], \"xaxis\": \"x\", \"y\": [280, 257, 99, 295, 81, 81, 86, 298], \"yaxis\": \"y\"}, {\"hovertemplate\": \"to_facility=INTEGRATED ANESTHESIA SERVICES, PLC<br>from_physician=%{x}<br>patient_count=%{y}<extra></extra>\", \"legendgroup\": \"INTEGRATED ANESTHESIA SERVICES, PLC\", \"marker\": {\"color\": \"#FFA15A\", \"symbol\": \"circle\"}, \"mode\": \"markers\", \"name\": \"INTEGRATED ANESTHESIA SERVICES, PLC\", \"showlegend\": true, \"type\": \"scattergl\", \"x\": [\"FAWN HOLSOMBECK\", \"THERESA BONNER\", \"LARRY FORT\", \"JUSTIN SEXTON\", \"WILLARD MEADOWS\"], \"xaxis\": \"x\", \"y\": [158, 54, 138, 89, 257], \"yaxis\": \"y\"}, {\"hovertemplate\": \"to_facility=STATE OF TENNESSEE STATE F&A PAYROLL<br>from_physician=%{x}<br>patient_count=%{y}<extra></extra>\", \"legendgroup\": \"STATE OF TENNESSEE STATE F&A PAYROLL\", \"marker\": {\"color\": \"#19d3f3\", \"symbol\": \"circle\"}, \"mode\": \"markers\", \"name\": \"STATE OF TENNESSEE STATE F&A PAYROLL\", \"showlegend\": true, \"type\": \"scattergl\", \"x\": [\"ARTHUR SMALL\", \"MOHAMMAD JAHAN\"], \"xaxis\": \"x\", \"y\": [32, 23], \"yaxis\": \"y\"}, {\"hovertemplate\": \"to_facility=DRS. TIDWELL, FAULKS, AND ALLEN - OPTOMETRY, PLLC<br>from_physician=%{x}<br>patient_count=%{y}<extra></extra>\", \"legendgroup\": \"DRS. TIDWELL, FAULKS, AND ALLEN - OPTOMETRY, PLLC\", \"marker\": {\"color\": \"#FF6692\", \"symbol\": \"circle\"}, \"mode\": \"markers\", \"name\": \"DRS. TIDWELL, FAULKS, AND ALLEN - OPTOMETRY, PLLC\", \"showlegend\": true, \"type\": \"scattergl\", \"x\": [\"JERRY TIDWELL\", \"STEPHEN ALLEN\", \"DAVID FAULKS\"], \"xaxis\": \"x\", \"y\": [133, 106, 165], \"yaxis\": \"y\"}, {\"hovertemplate\": \"to_facility=CREATIVE HEALTHCARE, PLLC<br>from_physician=%{x}<br>patient_count=%{y}<extra></extra>\", \"legendgroup\": \"CREATIVE HEALTHCARE, PLLC\", \"marker\": {\"color\": \"#B6E880\", \"symbol\": \"circle\"}, \"mode\": \"markers\", \"name\": \"CREATIVE HEALTHCARE, PLLC\", \"showlegend\": true, \"type\": \"scattergl\", \"x\": [\"AMY BASS\"], \"xaxis\": \"x\", \"y\": [132], \"yaxis\": \"y\"}, {\"hovertemplate\": \"to_facility=SUMNER PHYSICIAN PRACTICES LLC<br>from_physician=%{x}<br>patient_count=%{y}<extra></extra>\", \"legendgroup\": \"SUMNER PHYSICIAN PRACTICES LLC\", \"marker\": {\"color\": \"#FF97FF\", \"symbol\": \"circle\"}, \"mode\": \"markers\", \"name\": \"SUMNER PHYSICIAN PRACTICES LLC\", \"showlegend\": true, \"type\": \"scattergl\", \"x\": [\"JEFFRIE KINDRED\", \"TERRY WITHERINGTON\", \"JAGDISH NACHNANI\", \"BRIAN REED\"], \"xaxis\": \"x\", \"y\": [72, 47, 596, 136], \"yaxis\": \"y\"}, {\"hovertemplate\": \"to_facility=ENDOSCOPY CENTER OF ST THOMAS LP<br>from_physician=%{x}<br>patient_count=%{y}<extra></extra>\", \"legendgroup\": \"ENDOSCOPY CENTER OF ST THOMAS LP\", \"marker\": {\"color\": \"#FECB52\", \"symbol\": \"circle\"}, \"mode\": \"markers\", \"name\": \"ENDOSCOPY CENTER OF ST THOMAS LP\", \"showlegend\": true, \"type\": \"scattergl\", \"x\": [\"FAWN HOLSOMBECK\", \"LARRY FORT\"], \"xaxis\": \"x\", \"y\": [53, 58], \"yaxis\": \"y\"}, {\"hovertemplate\": \"to_facility=NASHVILLE ANESTHESIA PLLC<br>from_physician=%{x}<br>patient_count=%{y}<extra></extra>\", \"legendgroup\": \"NASHVILLE ANESTHESIA PLLC\", \"marker\": {\"color\": \"#636efa\", \"symbol\": \"circle\"}, \"mode\": \"markers\", \"name\": \"NASHVILLE ANESTHESIA PLLC\", \"showlegend\": true, \"type\": \"scattergl\", \"x\": [\"KENDRA RENNELL\", \"STEPHEN OBERMEIER\", \"STEVEN BEATY\", \"WILLIAM FRASER\", \"FERNANDO BALMACEDA\", \"HUGH HEAD\", \"BRADLEY FRY\", \"JOHN MORRIS\", \"SHEETU JAIN\", \"JAMES MADDOX\", \"TROY SASSER\", \"DAVID VICKERS\", \"JOHN LEVOY\", \"EMILY STEWART\", \"LORI RIVARD\", \"WILLIAM BRIGGS\", \"OLNEY TODD\", \"CHARLES BUNTIN\", \"ANDREW COTTEN\", \"ANN HOHL\", \"JUSTIN SEXTON\", \"ELIZABETH HOLTZ\", \"PAMELA KRANCER\", \"JACOB HAFNER\", \"KENNETH RAMSEY\", \"MARGARET WRIGHT\"], \"xaxis\": \"x\", \"y\": [151, 69, 164, 84, 102, 48, 59, 145, 56, 96, 111, 62, 67, 80, 63, 85, 103, 51, 94, 134, 61, 89, 97, 107, 104, 112], \"yaxis\": \"y\"}, {\"hovertemplate\": \"to_facility=OTOLARYNGOLOGY ASSOCIATES OF TENNESSEE PC<br>from_physician=%{x}<br>patient_count=%{y}<extra></extra>\", \"legendgroup\": \"OTOLARYNGOLOGY ASSOCIATES OF TENNESSEE PC\", \"marker\": {\"color\": \"#EF553B\", \"symbol\": \"circle\"}, \"mode\": \"markers\", \"name\": \"OTOLARYNGOLOGY ASSOCIATES OF TENNESSEE PC\", \"showlegend\": true, \"type\": \"scattergl\", \"x\": [\"CHARLES WRIGHT\", \"ROBERT OWEN\", \"ELLEN WEST\", \"MARY KENNADY\", \"DANIEL VINER\", \"MEGAN WEST\", \"SHELBY MAXWELL\", \"JOANNE SACKS\", \"CHRISTI CAMPBELL\", \"MARK DEATON\", \"RONALD CATE\"], \"xaxis\": \"x\", \"y\": [329, 60, 43, 336, 393, 125, 155, 210, 351, 360, 364], \"yaxis\": \"y\"}, {\"hovertemplate\": \"to_facility=STAR PHYSICAL THERAPY LP<br>from_physician=%{x}<br>patient_count=%{y}<extra></extra>\", \"legendgroup\": \"STAR PHYSICAL THERAPY LP\", \"marker\": {\"color\": \"#00cc96\", \"symbol\": \"circle\"}, \"mode\": \"markers\", \"name\": \"STAR PHYSICAL THERAPY LP\", \"showlegend\": true, \"type\": \"scattergl\", \"x\": [\"CONOR SMITH\", \"RYAN SCHAEFER\", \"CARRIE SIMPSON\", \"KATELYN SPRUELL\", \"DENIELE WILSON\", \"CHAD ROBERTS\", \"MICHAEL HARTMAN\", \"RANDALL HILL\", \"KYLE TODD\", \"JOSEPH MUCHMORE\", \"ANDREA PIERCE\", \"DANIEL CLEMENTS\", \"BRANDEN CORLEW\"], \"xaxis\": \"x\", \"y\": [121, 27, 91, 24, 17, 64, 49, 49, 30, 55, 44, 52, 116], \"yaxis\": \"y\"}, {\"hovertemplate\": \"to_facility=POLITZER AND DUROCHER PLC<br>from_physician=%{x}<br>patient_count=%{y}<extra></extra>\", \"legendgroup\": \"POLITZER AND DUROCHER PLC\", \"marker\": {\"color\": \"#ab63fa\", \"symbol\": \"circle\"}, \"mode\": \"markers\", \"name\": \"POLITZER AND DUROCHER PLC\", \"showlegend\": true, \"type\": \"scattergl\", \"x\": [\"DEREK PEVELER\", \"RICHARD DUROCHER\", \"WILLIAM PARSLEY\"], \"xaxis\": \"x\", \"y\": [232, 283, 48], \"yaxis\": \"y\"}, {\"hovertemplate\": \"to_facility=CENTERSTONE OF TENNESSEE, INC.<br>from_physician=%{x}<br>patient_count=%{y}<extra></extra>\", \"legendgroup\": \"CENTERSTONE OF TENNESSEE, INC.\", \"marker\": {\"color\": \"#FFA15A\", \"symbol\": \"circle\"}, \"mode\": \"markers\", \"name\": \"CENTERSTONE OF TENNESSEE, INC.\", \"showlegend\": true, \"type\": \"scattergl\", \"x\": [\"HEATHER FARINA\", \"LUCY SCALES\", \"NARA GRANJA INGRAM\", \"CARLA KNOWLES\", \"KATHERINE FERRELL\", \"SUE ST CLAIR\", \"KATHRYN DAVIDSON\", \"NORA KRAUSE\", \"BRITTANY HAEMMERLEIN\", \"KIABE SUPUWOOD-ALLEN\", \"HEATHER KAMPER\", \"CAROLYN HEBEL\", \"LATISHA PIKE\", \"MARY DANIELS\", \"BERT HARTMAN\", \"MELESA LOVE\", \"REGINE ANDERSON\", \"PATRICIA REINHARDT\", \"PATRICK STEPHENS\", \"CHRISTY COSTANZA\", \"ANNE CROCKETT\", \"SHERYL KINNEY\", \"BRENDA KEITH\", \"JO OFFUTT-BLACKABY\", \"ALICIA BATSON\", \"SHERI LOZIER-BENTLEY\", \"ELIZABETH MUGNANO\", \"JOHN KOOMEN\", \"MARIE BASTY\", \"SUESAN MALEKI\", \"SARAH HOLZAPFEL\", \"KAREN GROSSMAN\"], \"xaxis\": \"x\", \"y\": [54, 111, 72, 69, 19, 97, 42, 22, 39, 68, 56, 53, 100, 94, 171, 43, 71, 54, 81, 62, 71, 70, 95, 92, 59, 24, 71, 235, 40, 59, 19, 55], \"yaxis\": \"y\"}, {\"hovertemplate\": \"to_facility=EYE SURGERY CENTER OF NASHVILLE LLC<br>from_physician=%{x}<br>patient_count=%{y}<extra></extra>\", \"legendgroup\": \"EYE SURGERY CENTER OF NASHVILLE LLC\", \"marker\": {\"color\": \"#19d3f3\", \"symbol\": \"circle\"}, \"mode\": \"markers\", \"name\": \"EYE SURGERY CENTER OF NASHVILLE LLC\", \"showlegend\": true, \"type\": \"scattergl\", \"x\": [\"FAITH NANCE\", \"DONALD PHILLIPS\", \"JAMIE MORRISON\"], \"xaxis\": \"x\", \"y\": [319, 258, 335], \"yaxis\": \"y\"}, {\"hovertemplate\": \"to_facility=MIDTENN CHIROPRACTIC SERVICES<br>from_physician=%{x}<br>patient_count=%{y}<extra></extra>\", \"legendgroup\": \"MIDTENN CHIROPRACTIC SERVICES\", \"marker\": {\"color\": \"#FF6692\", \"symbol\": \"circle\"}, \"mode\": \"markers\", \"name\": \"MIDTENN CHIROPRACTIC SERVICES\", \"showlegend\": true, \"type\": \"scattergl\", \"x\": [\"JORDAN QUINT\"], \"xaxis\": \"x\", \"y\": [16], \"yaxis\": \"y\"}, {\"hovertemplate\": \"to_facility=SAINT THOMAS MEDICAL PARTNERS<br>from_physician=%{x}<br>patient_count=%{y}<extra></extra>\", \"legendgroup\": \"SAINT THOMAS MEDICAL PARTNERS\", \"marker\": {\"color\": \"#B6E880\", \"symbol\": \"circle\"}, \"mode\": \"markers\", \"name\": \"SAINT THOMAS MEDICAL PARTNERS\", \"showlegend\": true, \"type\": \"scattergl\", \"x\": [\"STEPHANIE NIPPER\", \"BENJAMIN FLICK\", \"ERIN GETTLER\", \"NIKKI PHANYORAJ\", \"AMANDA HALE\", \"RICHARD PEMBRIDGE\", \"JOSEPH SHARPE\", \"DARIAN REDDICK\", \"NATALIE DURR\", \"BRANDEE SEABORN\", \"JENNIFER WEST\", \"LOREL HEDGES\", \"MITZI BAKER\", \"BRANDIANN RELLINGER\", \"KIMBERLYN LANGLEY BROWN\", \"MATTHEW MURRAY\", \"JAMES HAYNES\", \"CAROLINE HARRIS\", \"DONNA SMAILIS\", \"PAUL MCNABB\", \"ERIN ROBINSON\", \"SHARI HOLLINS\", \"LACEY BOLDEN\", \"RACHEL WILSON\", \"JASON ZELLER\", \"JAMES WEST\", \"STACY COX\", \"ROBERT CHALFANT\", \"JULIE HONEY\", \"NEIL JHAMB\", \"KRISTIE JACKSON\", \"MEREDITH MILLIGAN-DICK\", \"BROCKTON SANSING\", \"DYVEKE PRATT\", \"DESIREE TABOR\", \"NANCE ENGLAND\", \"SUSAN PARKER\", \"BRITTEN YOUNG\", \"DERICK JENKINS\", \"JOAN BOWLES\", \"ERIN WEED\", \"JAMES KERBY\", \"MATTYE ADAMS\", \"NICHOLAS FLYNN\", \"KELLY CARDEN\", \"ROBIN GILMORE\", \"KIMBERLY CHRISTIAN\", \"CORALIE LECOGUIC\", \"JULIE PHILLIPS\", \"ARCHANA MEHTA\", \"RENATA ALEXANDRE\", \"DAMON ABARAY\", \"KARINA GONZALEZ\", \"DAVID JACOBS\", \"WEIPING LI\", \"AWAIS JAVED\", \"SARAH FREMONT\", \"MEERA WRIGHT\", \"STEVEN EMBRY\", \"YANG GUO\", \"LEOPOLDO BASILICO\", \"CATHERINE STEUART\", \"JOYCE SNYDER\"], \"xaxis\": \"x\", \"y\": [24, 74, 166, 56, 230, 315, 64, 69, 89, 232, 70, 126, 127, 171, 213, 123, 624, 126, 366, 138, 39, 47, 57, 347, 65, 287, 111, 128, 37, 105, 258, 89, 478, 219, 96, 88, 210, 112, 154, 165, 135, 57, 91, 136, 333, 102, 197, 84, 94, 172, 44, 411, 219, 503, 375, 217, 161, 170, 200, 220, 196, 176, 58], \"yaxis\": \"y\"}, {\"hovertemplate\": \"to_facility=MINUTECLINIC DIAGNOSTIC OF TENNESSEE PC<br>from_physician=%{x}<br>patient_count=%{y}<extra></extra>\", \"legendgroup\": \"MINUTECLINIC DIAGNOSTIC OF TENNESSEE PC\", \"marker\": {\"color\": \"#FF97FF\", \"symbol\": \"circle\"}, \"mode\": \"markers\", \"name\": \"MINUTECLINIC DIAGNOSTIC OF TENNESSEE PC\", \"showlegend\": true, \"type\": \"scattergl\", \"x\": [\"ERICA TRUKA\", \"GOLD NWOKOCHAH\", \"ANGELA WELLS\", \"LESLIE KEY\", \"VELINDA DEFORGE\", \"ASHLEY BUFFORD\", \"SARAH GOODRICK\", \"CYNTHIA HINE\", \"TABITHA RUSSELL\", \"KELVISHA DAVIS\", \"JESSICA FAY\", \"LIESEL NIXON\", \"BROOKE WARREN\", \"LEAH KOTHLOW\", \"REBECCA RAYMOND\", \"KIMBERLY EZELL\", \"NONYEREM ENEJE\", \"WHITNEY WORKMAN\", \"LEA SCHWEITZER\", \"PAIGE HEWITT\", \"JUDY BOOK\", \"STACY MARSHALL\", \"STANTON CALVARESE\", \"EMILY KHANSARI\", \"KATHERINE CUMMINGS\", \"TANYA CARR-MALONE\"], \"xaxis\": \"x\", \"y\": [80, 83, 142, 101, 149, 114, 112, 125, 58, 101, 84, 96, 56, 69, 97, 66, 83, 53, 84, 118, 114, 79, 113, 53, 52, 72], \"yaxis\": \"y\"}, {\"hovertemplate\": \"to_facility=COLUMBIA ORTHOPEDIC CLINIC<br>from_physician=%{x}<br>patient_count=%{y}<extra></extra>\", \"legendgroup\": \"COLUMBIA ORTHOPEDIC CLINIC\", \"marker\": {\"color\": \"#FECB52\", \"symbol\": \"circle\"}, \"mode\": \"markers\", \"name\": \"COLUMBIA ORTHOPEDIC CLINIC\", \"showlegend\": true, \"type\": \"scattergl\", \"x\": [\"H WIESMAN\"], \"xaxis\": \"x\", \"y\": [166], \"yaxis\": \"y\"}, {\"hovertemplate\": \"to_facility=TENNESSEE RETINA PC<br>from_physician=%{x}<br>patient_count=%{y}<extra></extra>\", \"legendgroup\": \"TENNESSEE RETINA PC\", \"marker\": {\"color\": \"#636efa\", \"symbol\": \"circle\"}, \"mode\": \"markers\", \"name\": \"TENNESSEE RETINA PC\", \"showlegend\": true, \"type\": \"scattergl\", \"x\": [\"PETER SONKIN\", \"FRANCO RECCHIA\", \"CARL AWH\", \"ROY WALLACE\", \"BRANDON BUSBEE\", \"ERIC SCHNEIDER\", \"KENNETH MOFFAT\"], \"xaxis\": \"x\", \"y\": [1168, 1256, 1586, 1838, 1183, 1311, 1431], \"yaxis\": \"y\"}, {\"hovertemplate\": \"to_facility=TRUSTPOINT HOSPITAL LLC<br>from_physician=%{x}<br>patient_count=%{y}<extra></extra>\", \"legendgroup\": \"TRUSTPOINT HOSPITAL LLC\", \"marker\": {\"color\": \"#EF553B\", \"symbol\": \"circle\"}, \"mode\": \"markers\", \"name\": \"TRUSTPOINT HOSPITAL LLC\", \"showlegend\": true, \"type\": \"scattergl\", \"x\": [\"JESSICA KREPP\", \"MADHUSUDHAN MUDIAM\", \"J. TSIBU\", \"ANDREW PIERCE\", \"FREDRICK ANIKWE\"], \"xaxis\": \"x\", \"y\": [27, 48, 260, 48, 73], \"yaxis\": \"y\"}, {\"hovertemplate\": \"to_facility=GF MEDICAL SOLUTIONS PLC<br>from_physician=%{x}<br>patient_count=%{y}<extra></extra>\", \"legendgroup\": \"GF MEDICAL SOLUTIONS PLC\", \"marker\": {\"color\": \"#00cc96\", \"symbol\": \"circle\"}, \"mode\": \"markers\", \"name\": \"GF MEDICAL SOLUTIONS PLC\", \"showlegend\": true, \"type\": \"scattergl\", \"x\": [\"FAWN HOLSOMBECK\", \"LARRY FORT\", \"MELANIE MORAN\", \"JEFFREY ESKIND\"], \"xaxis\": \"x\", \"y\": [53, 58, 317, 436], \"yaxis\": \"y\"}, {\"hovertemplate\": \"to_facility=NASHVILLE DIGESTIVE DISEASE CENTER, P.C.<br>from_physician=%{x}<br>patient_count=%{y}<extra></extra>\", \"legendgroup\": \"NASHVILLE DIGESTIVE DISEASE CENTER, P.C.\", \"marker\": {\"color\": \"#ab63fa\", \"symbol\": \"circle\"}, \"mode\": \"markers\", \"name\": \"NASHVILLE DIGESTIVE DISEASE CENTER, P.C.\", \"showlegend\": true, \"type\": \"scattergl\", \"x\": [\"MENE ZUA\", \"KENDRICK JOYCE\"], \"xaxis\": \"x\", \"y\": [87, 39], \"yaxis\": \"y\"}, {\"hovertemplate\": \"to_facility=EYE CENTER OF NASHVILLE UAP, LLC<br>from_physician=%{x}<br>patient_count=%{y}<extra></extra>\", \"legendgroup\": \"EYE CENTER OF NASHVILLE UAP, LLC\", \"marker\": {\"color\": \"#FFA15A\", \"symbol\": \"circle\"}, \"mode\": \"markers\", \"name\": \"EYE CENTER OF NASHVILLE UAP, LLC\", \"showlegend\": true, \"type\": \"scattergl\", \"x\": [\"FAITH NANCE\", \"JAMES RAY\", \"DONALD PHILLIPS\", \"JAMIE MORRISON\", \"VICTOR MARTIN\"], \"xaxis\": \"x\", \"y\": [319, 419, 258, 335, 140], \"yaxis\": \"y\"}, {\"hovertemplate\": \"to_facility=HERITAGE MEDICAL ASSOCIATES PC<br>from_physician=%{x}<br>patient_count=%{y}<extra></extra>\", \"legendgroup\": \"HERITAGE MEDICAL ASSOCIATES PC\", \"marker\": {\"color\": \"#19d3f3\", \"symbol\": \"circle\"}, \"mode\": \"markers\", \"name\": \"HERITAGE MEDICAL ASSOCIATES PC\", \"showlegend\": true, \"type\": \"scattergl\", \"x\": [\"MELINDA HUANG\", \"LESLIE CAUDILL\", \"ALLISON SMITH\", \"MEGAN POLSON\", \"MARVIN MEADORS\", \"MARTHA AUSTIN-WHITE\", \"BEVERLY ZAK\", \"MARY KERR\", \"TRACI JANJIC\", \"STACY BROWN\", \"SHERRY MURRAY\", \"MORGAN PARKER\", \"LAUREN BAKER\", \"BRENT MOODY\", \"JEROME BURT\", \"ASHLEY SCISM\", \"MICHAEL ZANOLLI\", \"KRISTEN STIRLING\", \"ROBERT JACOBS\", \"JOHN RICH\", \"LAURA WHITE\", \"TAYLOR HENDON\", \"DONALD BROTHERS\", \"TIFFANIE MARKSBURY\", \"IVEYLEE TRUMP\", \"SHALENE GRINDER\", \"JONATHAN GISH\", \"SHELLEY FRANKLIN\", \"MICHAEL OLIVE\"], \"xaxis\": \"x\", \"y\": [350, 297, 775, 76, 519, 27, 477, 988, 62, 334, 157, 918, 125, 693, 25, 34, 944, 368, 33, 36, 355, 183, 72, 211, 273, 16, 11, 588, 122], \"yaxis\": \"y\"}, {\"hovertemplate\": \"to_facility=NASH EYE CARE PLLC<br>from_physician=%{x}<br>patient_count=%{y}<extra></extra>\", \"legendgroup\": \"NASH EYE CARE PLLC\", \"marker\": {\"color\": \"#FF6692\", \"symbol\": \"circle\"}, \"mode\": \"markers\", \"name\": \"NASH EYE CARE PLLC\", \"showlegend\": true, \"type\": \"scattergl\", \"x\": [\"JASON NASH\"], \"xaxis\": \"x\", \"y\": [93], \"yaxis\": \"y\"}, {\"hovertemplate\": \"to_facility=E&R URGENT CARE PLLC<br>from_physician=%{x}<br>patient_count=%{y}<extra></extra>\", \"legendgroup\": \"E&R URGENT CARE PLLC\", \"marker\": {\"color\": \"#B6E880\", \"symbol\": \"circle\"}, \"mode\": \"markers\", \"name\": \"E&R URGENT CARE PLLC\", \"showlegend\": true, \"type\": \"scattergl\", \"x\": [\"KRISTINA GEWITSCH\", \"LORI EUBANK\"], \"xaxis\": \"x\", \"y\": [74, 50], \"yaxis\": \"y\"}, {\"hovertemplate\": \"to_facility=CORNEA CONSULTANTS OF NASHVILLE, PLLC<br>from_physician=%{x}<br>patient_count=%{y}<extra></extra>\", \"legendgroup\": \"CORNEA CONSULTANTS OF NASHVILLE, PLLC\", \"marker\": {\"color\": \"#FF97FF\", \"symbol\": \"circle\"}, \"mode\": \"markers\", \"name\": \"CORNEA CONSULTANTS OF NASHVILLE, PLLC\", \"showlegend\": true, \"type\": \"scattergl\", \"x\": [\"FAITH NANCE\", \"ERICH GROOS\", \"MARK EWALD\", \"IRA SHIVITZ\"], \"xaxis\": \"x\", \"y\": [92, 1238, 604, 911], \"yaxis\": \"y\"}, {\"hovertemplate\": \"to_facility=HICKORY MEDICAL ADVISORS, PC<br>from_physician=%{x}<br>patient_count=%{y}<extra></extra>\", \"legendgroup\": \"HICKORY MEDICAL ADVISORS, PC\", \"marker\": {\"color\": \"#FECB52\", \"symbol\": \"circle\"}, \"mode\": \"markers\", \"name\": \"HICKORY MEDICAL ADVISORS, PC\", \"showlegend\": true, \"type\": \"scattergl\", \"x\": [\"ALADRAINE SANDS\"], \"xaxis\": \"x\", \"y\": [29], \"yaxis\": \"y\"}, {\"hovertemplate\": \"to_facility=COMPREHENSIVE NEUROLOGY CENTER, PLLC<br>from_physician=%{x}<br>patient_count=%{y}<extra></extra>\", \"legendgroup\": \"COMPREHENSIVE NEUROLOGY CENTER, PLLC\", \"marker\": {\"color\": \"#636efa\", \"symbol\": \"circle\"}, \"mode\": \"markers\", \"name\": \"COMPREHENSIVE NEUROLOGY CENTER, PLLC\", \"showlegend\": true, \"type\": \"scattergl\", \"x\": [\"MISTIE GERMEK\", \"JENNABETH FITCH\", \"JOHANNA JIRIKOVEC\"], \"xaxis\": \"x\", \"y\": [310, 72, 170], \"yaxis\": \"y\"}, {\"hovertemplate\": \"to_facility=AMERICA'S FAMILY DOCTORS, PLLC<br>from_physician=%{x}<br>patient_count=%{y}<extra></extra>\", \"legendgroup\": \"AMERICA'S FAMILY DOCTORS, PLLC\", \"marker\": {\"color\": \"#EF553B\", \"symbol\": \"circle\"}, \"mode\": \"markers\", \"name\": \"AMERICA'S FAMILY DOCTORS, PLLC\", \"showlegend\": true, \"type\": \"scattergl\", \"x\": [\"LAUREL AUSTIN\", \"MONICA DAVIS\", \"SREEDHAR SAMUDRALA\", \"CORLEY BROTHERS\", \"REBECCA SOMMERS\", \"TERI MCCLAIN-WATSON\", \"RENNEE DHILLON\", \"ALLISON SIMON\"], \"xaxis\": \"x\", \"y\": [68, 102, 58, 113, 39, 75, 157, 68], \"yaxis\": \"y\"}, {\"hovertemplate\": \"to_facility=CENTER FOR SPINE JOINT AND NEUROMUSCULAR REHAB PC.<br>from_physician=%{x}<br>patient_count=%{y}<extra></extra>\", \"legendgroup\": \"CENTER FOR SPINE JOINT AND NEUROMUSCULAR REHAB PC.\", \"marker\": {\"color\": \"#00cc96\", \"symbol\": \"circle\"}, \"mode\": \"markers\", \"name\": \"CENTER FOR SPINE JOINT AND NEUROMUSCULAR REHAB PC.\", \"showlegend\": true, \"type\": \"scattergl\", \"x\": [\"NANCY ACHUFF\", \"CRISTINA BURKS\", \"TRAVONDA PIRTLE\", \"YOVONDYA CUTLER\", \"STEVEN HUNTER\"], \"xaxis\": \"x\", \"y\": [240, 100, 148, 46, 16], \"yaxis\": \"y\"}, {\"hovertemplate\": \"to_facility=BAPTIST PLAZA SURGICARE LP<br>from_physician=%{x}<br>patient_count=%{y}<extra></extra>\", \"legendgroup\": \"BAPTIST PLAZA SURGICARE LP\", \"marker\": {\"color\": \"#ab63fa\", \"symbol\": \"circle\"}, \"mode\": \"markers\", \"name\": \"BAPTIST PLAZA SURGICARE LP\", \"showlegend\": true, \"type\": \"scattergl\", \"x\": [\"GARY SUTHERLAND\", \"DAVID LOWDER\", \"PAUL LIPSON\", \"ROBERT ALLISON\", \"WALLACE FRIEDMAN\", \"JEFFREY HALL\"], \"xaxis\": \"x\", \"y\": [76, 144, 50, 62, 128, 57], \"yaxis\": \"y\"}, {\"hovertemplate\": \"to_facility=LEBANON GENERAL PRACTICE INC<br>from_physician=%{x}<br>patient_count=%{y}<extra></extra>\", \"legendgroup\": \"LEBANON GENERAL PRACTICE INC\", \"marker\": {\"color\": \"#FFA15A\", \"symbol\": \"circle\"}, \"mode\": \"markers\", \"name\": \"LEBANON GENERAL PRACTICE INC\", \"showlegend\": true, \"type\": \"scattergl\", \"x\": [\"THOMAS KOWAL\"], \"xaxis\": \"x\", \"y\": [238], \"yaxis\": \"y\"}, {\"hovertemplate\": \"to_facility=RIVERVIEW PHYSICIAN PRACTICES, LLC<br>from_physician=%{x}<br>patient_count=%{y}<extra></extra>\", \"legendgroup\": \"RIVERVIEW PHYSICIAN PRACTICES, LLC\", \"marker\": {\"color\": \"#19d3f3\", \"symbol\": \"circle\"}, \"mode\": \"markers\", \"name\": \"RIVERVIEW PHYSICIAN PRACTICES, LLC\", \"showlegend\": true, \"type\": \"scattergl\", \"x\": [\"HEATHER LAMBERT\"], \"xaxis\": \"x\", \"y\": [264], \"yaxis\": \"y\"}, {\"hovertemplate\": \"to_facility=WESLEY OPHTHALMIC PLASTIC SURGERY CENTER<br>from_physician=%{x}<br>patient_count=%{y}<extra></extra>\", \"legendgroup\": \"WESLEY OPHTHALMIC PLASTIC SURGERY CENTER\", \"marker\": {\"color\": \"#FF6692\", \"symbol\": \"circle\"}, \"mode\": \"markers\", \"name\": \"WESLEY OPHTHALMIC PLASTIC SURGERY CENTER\", \"showlegend\": true, \"type\": \"scattergl\", \"x\": [\"FAWN HOLSOMBECK\", \"KELLY EVERMAN\", \"LARRY FORT\", \"WILLARD MEADOWS\"], \"xaxis\": \"x\", \"y\": [85, 111, 98, 168], \"yaxis\": \"y\"}, {\"hovertemplate\": \"to_facility=OLYMPIC CONSULTING, LLC<br>from_physician=%{x}<br>patient_count=%{y}<extra></extra>\", \"legendgroup\": \"OLYMPIC CONSULTING, LLC\", \"marker\": {\"color\": \"#B6E880\", \"symbol\": \"circle\"}, \"mode\": \"markers\", \"name\": \"OLYMPIC CONSULTING, LLC\", \"showlegend\": true, \"type\": \"scattergl\", \"x\": [\"DENISE BROWN\", \"PAMELA NELSON\", \"LAURA HOLLIDAY\", \"JENNIFER CASEY\", \"DAPHNE HARRIS\"], \"xaxis\": \"x\", \"y\": [472, 187, 464, 189, 484], \"yaxis\": \"y\"}, {\"hovertemplate\": \"to_facility=FRED NORDQUIST, MD, PC<br>from_physician=%{x}<br>patient_count=%{y}<extra></extra>\", \"legendgroup\": \"FRED NORDQUIST, MD, PC\", \"marker\": {\"color\": \"#FF97FF\", \"symbol\": \"circle\"}, \"mode\": \"markers\", \"name\": \"FRED NORDQUIST, MD, PC\", \"showlegend\": true, \"type\": \"scattergl\", \"x\": [\"FRED NORDQUIST\"], \"xaxis\": \"x\", \"y\": [324], \"yaxis\": \"y\"}, {\"hovertemplate\": \"to_facility=JEFFREY E. HAZLEWOOD, M.D., P.C.<br>from_physician=%{x}<br>patient_count=%{y}<extra></extra>\", \"legendgroup\": \"JEFFREY E. HAZLEWOOD, M.D., P.C.\", \"marker\": {\"color\": \"#FECB52\", \"symbol\": \"circle\"}, \"mode\": \"markers\", \"name\": \"JEFFREY E. HAZLEWOOD, M.D., P.C.\", \"showlegend\": true, \"type\": \"scattergl\", \"x\": [\"KRISTY BLANEY\"], \"xaxis\": \"x\", \"y\": [94], \"yaxis\": \"y\"}, {\"hovertemplate\": \"to_facility=NORTHCREST MEDICAL CENTER<br>from_physician=%{x}<br>patient_count=%{y}<extra></extra>\", \"legendgroup\": \"NORTHCREST MEDICAL CENTER\", \"marker\": {\"color\": \"#636efa\", \"symbol\": \"circle\"}, \"mode\": \"markers\", \"name\": \"NORTHCREST MEDICAL CENTER\", \"showlegend\": true, \"type\": \"scattergl\", \"x\": [\"JONATHAN KROSER\", \"JENNIFER EVANGELIST\"], \"xaxis\": \"x\", \"y\": [88, 50], \"yaxis\": \"y\"}, {\"hovertemplate\": \"to_facility=COLUMBIA MEDICAL GROUP-SOUTHERN HILLS INC<br>from_physician=%{x}<br>patient_count=%{y}<extra></extra>\", \"legendgroup\": \"COLUMBIA MEDICAL GROUP-SOUTHERN HILLS INC\", \"marker\": {\"color\": \"#EF553B\", \"symbol\": \"circle\"}, \"mode\": \"markers\", \"name\": \"COLUMBIA MEDICAL GROUP-SOUTHERN HILLS INC\", \"showlegend\": true, \"type\": \"scattergl\", \"x\": [\"ROBERT BISHOP\", \"MATTHEW BRUST\", \"GEORGE HOLMES\"], \"xaxis\": \"x\", \"y\": [263, 297, 492], \"yaxis\": \"y\"}, {\"hovertemplate\": \"to_facility=AGC NEURO, PLLC<br>from_physician=%{x}<br>patient_count=%{y}<extra></extra>\", \"legendgroup\": \"AGC NEURO, PLLC\", \"marker\": {\"color\": \"#00cc96\", \"symbol\": \"circle\"}, \"mode\": \"markers\", \"name\": \"AGC NEURO, PLLC\", \"showlegend\": true, \"type\": \"scattergl\", \"x\": [\"ETHAN CAUGHEY\"], \"xaxis\": \"x\", \"y\": [39], \"yaxis\": \"y\"}, {\"hovertemplate\": \"to_facility=P3: PRECISION PHYSICAL THERAPY & PILATES, LLC<br>from_physician=%{x}<br>patient_count=%{y}<extra></extra>\", \"legendgroup\": \"P3: PRECISION PHYSICAL THERAPY & PILATES, LLC\", \"marker\": {\"color\": \"#ab63fa\", \"symbol\": \"circle\"}, \"mode\": \"markers\", \"name\": \"P3: PRECISION PHYSICAL THERAPY & PILATES, LLC\", \"showlegend\": true, \"type\": \"scattergl\", \"x\": [\"AMANDA MCPEEK\", \"JEANNIE NEWTON\", \"HEATHER COLE\"], \"xaxis\": \"x\", \"y\": [24, 23, 31], \"yaxis\": \"y\"}, {\"hovertemplate\": \"to_facility=TENNESSEE ONCOLOGY PLLC<br>from_physician=%{x}<br>patient_count=%{y}<extra></extra>\", \"legendgroup\": \"TENNESSEE ONCOLOGY PLLC\", \"marker\": {\"color\": \"#FFA15A\", \"symbol\": \"circle\"}, \"mode\": \"markers\", \"name\": \"TENNESSEE ONCOLOGY PLLC\", \"showlegend\": true, \"type\": \"scattergl\", \"x\": [\"LESLEY BALLANCE\", \"AMY JOHNSON\", \"DOUGLAS KINGMA\", \"SHERIAN ANDERSON\", \"DANA DE MOSS\", \"MAUREEN SANGER\", \"MELISSA RIKAL\", \"HOLLY BUSHART\", \"AMANDA VANTREASE\", \"MAUREEN REED\", \"JILLIAN VAN ORSOUW\", \"CATHERINE BENSON\", \"ROBERT COOPER\", \"ASHLEY OLSEN\"], \"xaxis\": \"x\", \"y\": [96, 65, 900, 35, 154, 59, 52, 58, 48, 72, 85, 233, 119, 167], \"yaxis\": \"y\"}, {\"hovertemplate\": \"to_facility=LIFELINC ANESTHESIA II, PLLC<br>from_physician=%{x}<br>patient_count=%{y}<extra></extra>\", \"legendgroup\": \"LIFELINC ANESTHESIA II, PLLC\", \"marker\": {\"color\": \"#19d3f3\", \"symbol\": \"circle\"}, \"mode\": \"markers\", \"name\": \"LIFELINC ANESTHESIA II, PLLC\", \"showlegend\": true, \"type\": \"scattergl\", \"x\": [\"JASON CROSSLIN\", \"STEVEN DEPASS\", \"WILLIAM ENGLAND\", \"CHARLES KNAPPER\", \"MATTHEW STEWART\", \"CAROLINE LITCHFIELD\"], \"xaxis\": \"x\", \"y\": [142, 184, 174, 108, 197, 131], \"yaxis\": \"y\"}, {\"hovertemplate\": \"to_facility=PATH LAB OF MIDDLE TENNESSEE<br>from_physician=%{x}<br>patient_count=%{y}<extra></extra>\", \"legendgroup\": \"PATH LAB OF MIDDLE TENNESSEE\", \"marker\": {\"color\": \"#FF6692\", \"symbol\": \"circle\"}, \"mode\": \"markers\", \"name\": \"PATH LAB OF MIDDLE TENNESSEE\", \"showlegend\": true, \"type\": \"scattergl\", \"x\": [\"RICHARD MICHAELSON\"], \"xaxis\": \"x\", \"y\": [607], \"yaxis\": \"y\"}, {\"hovertemplate\": \"to_facility=TENNESSEE COMPREHENSIVE LUNG AND SLEEP CENTER,PC<br>from_physician=%{x}<br>patient_count=%{y}<extra></extra>\", \"legendgroup\": \"TENNESSEE COMPREHENSIVE LUNG AND SLEEP CENTER,PC\", \"marker\": {\"color\": \"#B6E880\", \"symbol\": \"circle\"}, \"mode\": \"markers\", \"name\": \"TENNESSEE COMPREHENSIVE LUNG AND SLEEP CENTER,PC\", \"showlegend\": true, \"type\": \"scattergl\", \"x\": [\"DISHA AWASTHI\", \"MICHAEL NOTO\"], \"xaxis\": \"x\", \"y\": [70, 53], \"yaxis\": \"y\"}, {\"hovertemplate\": \"to_facility=MAURY REGIONAL HOSPITAL<br>from_physician=%{x}<br>patient_count=%{y}<extra></extra>\", \"legendgroup\": \"MAURY REGIONAL HOSPITAL\", \"marker\": {\"color\": \"#FF97FF\", \"symbol\": \"circle\"}, \"mode\": \"markers\", \"name\": \"MAURY REGIONAL HOSPITAL\", \"showlegend\": true, \"type\": \"scattergl\", \"x\": [\"MANISHA RAJ\"], \"xaxis\": \"x\", \"y\": [54], \"yaxis\": \"y\"}, {\"hovertemplate\": \"to_facility=CARESPOT OF HERMITAGE (5225 OLD HICKORY BOULEVARD), LLC<br>from_physician=%{x}<br>patient_count=%{y}<extra></extra>\", \"legendgroup\": \"CARESPOT OF HERMITAGE (5225 OLD HICKORY BOULEVARD), LLC\", \"marker\": {\"color\": \"#FECB52\", \"symbol\": \"circle\"}, \"mode\": \"markers\", \"name\": \"CARESPOT OF HERMITAGE (5225 OLD HICKORY BOULEVARD), LLC\", \"showlegend\": true, \"type\": \"scattergl\", \"x\": [\"THOMAS STRUBLE\"], \"xaxis\": \"x\", \"y\": [73], \"yaxis\": \"y\"}, {\"hovertemplate\": \"to_facility=NASHVILLE GASTROINTESTINAL ANESTHESIA LLC<br>from_physician=%{x}<br>patient_count=%{y}<extra></extra>\", \"legendgroup\": \"NASHVILLE GASTROINTESTINAL ANESTHESIA LLC\", \"marker\": {\"color\": \"#636efa\", \"symbol\": \"circle\"}, \"mode\": \"markers\", \"name\": \"NASHVILLE GASTROINTESTINAL ANESTHESIA LLC\", \"showlegend\": true, \"type\": \"scattergl\", \"x\": [\"JESSICA GLASS\", \"YOUNG KIM\", \"MEGHAN DAHL\"], \"xaxis\": \"x\", \"y\": [544, 436, 77], \"yaxis\": \"y\"}, {\"hovertemplate\": \"to_facility=MID-TENNESSEE BONE & JOINT<br>from_physician=%{x}<br>patient_count=%{y}<extra></extra>\", \"legendgroup\": \"MID-TENNESSEE BONE & JOINT\", \"marker\": {\"color\": \"#EF553B\", \"symbol\": \"circle\"}, \"mode\": \"markers\", \"name\": \"MID-TENNESSEE BONE & JOINT\", \"showlegend\": true, \"type\": \"scattergl\", \"x\": [\"KELLY PICKEL\", \"JONATHAN BASS\", \"TERRI MCNUTT\", \"RONALD WILSON\", \"ASHLEY CAMPBELL-MILLER\", \"DENICE HORNBAKER\", \"NICOLE CAMPBELL\"], \"xaxis\": \"x\", \"y\": [74, 19, 148, 140, 146, 48, 239], \"yaxis\": \"y\"}, {\"hovertemplate\": \"to_facility=CUMBERLAND SKIN SURGERY AND DERMATOLOGY<br>from_physician=%{x}<br>patient_count=%{y}<extra></extra>\", \"legendgroup\": \"CUMBERLAND SKIN SURGERY AND DERMATOLOGY\", \"marker\": {\"color\": \"#00cc96\", \"symbol\": \"circle\"}, \"mode\": \"markers\", \"name\": \"CUMBERLAND SKIN SURGERY AND DERMATOLOGY\", \"showlegend\": true, \"type\": \"scattergl\", \"x\": [\"BARBARA WOLFF\", \"ABIGAIL JAMES\", \"TAMMIE WAMPLER\", \"MOLLY BORING\", \"DINA GLUCK\", \"JOEY PRICE\", \"TANCY BRIDGES\"], \"xaxis\": \"x\", \"y\": [983, 183, 241, 350, 112, 832, 591], \"yaxis\": \"y\"}, {\"hovertemplate\": \"to_facility=BANDALO CHIROPRACTIC PLLC<br>from_physician=%{x}<br>patient_count=%{y}<extra></extra>\", \"legendgroup\": \"BANDALO CHIROPRACTIC PLLC\", \"marker\": {\"color\": \"#ab63fa\", \"symbol\": \"circle\"}, \"mode\": \"markers\", \"name\": \"BANDALO CHIROPRACTIC PLLC\", \"showlegend\": true, \"type\": \"scattergl\", \"x\": [\"MIRO BANDALO\"], \"xaxis\": \"x\", \"y\": [11], \"yaxis\": \"y\"}, {\"hovertemplate\": \"to_facility=ACTIVE LIFE CHIROPRACTIC & REHABILITATION PC<br>from_physician=%{x}<br>patient_count=%{y}<extra></extra>\", \"legendgroup\": \"ACTIVE LIFE CHIROPRACTIC & REHABILITATION PC\", \"marker\": {\"color\": \"#FFA15A\", \"symbol\": \"circle\"}, \"mode\": \"markers\", \"name\": \"ACTIVE LIFE CHIROPRACTIC & REHABILITATION PC\", \"showlegend\": true, \"type\": \"scattergl\", \"x\": [\"RHETT BRUNER\"], \"xaxis\": \"x\", \"y\": [214], \"yaxis\": \"y\"}, {\"hovertemplate\": \"to_facility=FRANKLIN DERMATOLOGY GROUP, PLC<br>from_physician=%{x}<br>patient_count=%{y}<extra></extra>\", \"legendgroup\": \"FRANKLIN DERMATOLOGY GROUP, PLC\", \"marker\": {\"color\": \"#19d3f3\", \"symbol\": \"circle\"}, \"mode\": \"markers\", \"name\": \"FRANKLIN DERMATOLOGY GROUP, PLC\", \"showlegend\": true, \"type\": \"scattergl\", \"x\": [\"EVA PARKER\", \"KAREN BROUSSARD\", \"ELIZABETH CAMPBELL\", \"EMILY STEWART\", \"NIKKI WOOD\", \"LESLEY STARNES\"], \"xaxis\": \"x\", \"y\": [591, 344, 71, 273, 439, 102], \"yaxis\": \"y\"}, {\"hovertemplate\": \"to_facility=DICKSON OPTICAL PC<br>from_physician=%{x}<br>patient_count=%{y}<extra></extra>\", \"legendgroup\": \"DICKSON OPTICAL PC\", \"marker\": {\"color\": \"#FF6692\", \"symbol\": \"circle\"}, \"mode\": \"markers\", \"name\": \"DICKSON OPTICAL PC\", \"showlegend\": true, \"type\": \"scattergl\", \"x\": [\"JANNA SMITH\", \"DONALD WEISS\", \"LORI WEISS\"], \"xaxis\": \"x\", \"y\": [106, 201, 149], \"yaxis\": \"y\"}, {\"hovertemplate\": \"to_facility=ANESTHESIA PARTNERS OF GALLATIN, LLC<br>from_physician=%{x}<br>patient_count=%{y}<extra></extra>\", \"legendgroup\": \"ANESTHESIA PARTNERS OF GALLATIN, LLC\", \"marker\": {\"color\": \"#B6E880\", \"symbol\": \"circle\"}, \"mode\": \"markers\", \"name\": \"ANESTHESIA PARTNERS OF GALLATIN, LLC\", \"showlegend\": true, \"type\": \"scattergl\", \"x\": [\"CHRISTOPHER BUELL\", \"RICHARD YOUNG\"], \"xaxis\": \"x\", \"y\": [177, 239], \"yaxis\": \"y\"}, {\"hovertemplate\": \"to_facility=CONCORD INFECTIOUS DISEASE ASSOCIATES, PC<br>from_physician=%{x}<br>patient_count=%{y}<extra></extra>\", \"legendgroup\": \"CONCORD INFECTIOUS DISEASE ASSOCIATES, PC\", \"marker\": {\"color\": \"#FF97FF\", \"symbol\": \"circle\"}, \"mode\": \"markers\", \"name\": \"CONCORD INFECTIOUS DISEASE ASSOCIATES, PC\", \"showlegend\": true, \"type\": \"scattergl\", \"x\": [\"WARDAH KHAN\"], \"xaxis\": \"x\", \"y\": [83], \"yaxis\": \"y\"}, {\"hovertemplate\": \"to_facility=MICHAEL E. GREEN<br>from_physician=%{x}<br>patient_count=%{y}<extra></extra>\", \"legendgroup\": \"MICHAEL E. GREEN\", \"marker\": {\"color\": \"#FECB52\", \"symbol\": \"circle\"}, \"mode\": \"markers\", \"name\": \"MICHAEL E. GREEN\", \"showlegend\": true, \"type\": \"scattergl\", \"x\": [\"MICHAEL GREEN\", \"ADAM COUTS\"], \"xaxis\": \"x\", \"y\": [1593, 152], \"yaxis\": \"y\"}, {\"hovertemplate\": \"to_facility=ASSOCIATED PODIATRISTS OF TENNESSEE<br>from_physician=%{x}<br>patient_count=%{y}<extra></extra>\", \"legendgroup\": \"ASSOCIATED PODIATRISTS OF TENNESSEE\", \"marker\": {\"color\": \"#636efa\", \"symbol\": \"circle\"}, \"mode\": \"markers\", \"name\": \"ASSOCIATED PODIATRISTS OF TENNESSEE\", \"showlegend\": true, \"type\": \"scattergl\", \"x\": [\"RAMESH PAVULURI\", \"VIJAY PAVULURI\"], \"xaxis\": \"x\", \"y\": [417, 322], \"yaxis\": \"y\"}, {\"hovertemplate\": \"to_facility=AFC PHYSICIANS OF TENNESSEE, PC<br>from_physician=%{x}<br>patient_count=%{y}<extra></extra>\", \"legendgroup\": \"AFC PHYSICIANS OF TENNESSEE, PC\", \"marker\": {\"color\": \"#EF553B\", \"symbol\": \"circle\"}, \"mode\": \"markers\", \"name\": \"AFC PHYSICIANS OF TENNESSEE, PC\", \"showlegend\": true, \"type\": \"scattergl\", \"x\": [\"ALANNA BEANE\", \"AMARESH MISRA\", \"TEMEKA TUNSTALL\", \"MICHAEL NELSON\", \"CHRIS KROMER\", \"ROBERT JACKSON\", \"KAREN HUNT\"], \"xaxis\": \"x\", \"y\": [188, 181, 95, 382, 128, 75, 106], \"yaxis\": \"y\"}, {\"hovertemplate\": \"to_facility=DVA RENAL HEALTHCARE INC<br>from_physician=%{x}<br>patient_count=%{y}<extra></extra>\", \"legendgroup\": \"DVA RENAL HEALTHCARE INC\", \"marker\": {\"color\": \"#00cc96\", \"symbol\": \"circle\"}, \"mode\": \"markers\", \"name\": \"DVA RENAL HEALTHCARE INC\", \"showlegend\": true, \"type\": \"scattergl\", \"x\": [\"J. HELDERMAN\"], \"xaxis\": \"x\", \"y\": [23], \"yaxis\": \"y\"}, {\"hovertemplate\": \"to_facility=EYECARE PLUS HH, PLLC<br>from_physician=%{x}<br>patient_count=%{y}<extra></extra>\", \"legendgroup\": \"EYECARE PLUS HH, PLLC\", \"marker\": {\"color\": \"#ab63fa\", \"symbol\": \"circle\"}, \"mode\": \"markers\", \"name\": \"EYECARE PLUS HH, PLLC\", \"showlegend\": true, \"type\": \"scattergl\", \"x\": [\"KEVIN SCHMIDT\", \"KYLE KRAGENBRINK\"], \"xaxis\": \"x\", \"y\": [62, 97], \"yaxis\": \"y\"}, {\"hovertemplate\": \"to_facility=SUSAN UNDERWOOD PHYSICAL THERAPY<br>from_physician=%{x}<br>patient_count=%{y}<extra></extra>\", \"legendgroup\": \"SUSAN UNDERWOOD PHYSICAL THERAPY\", \"marker\": {\"color\": \"#FFA15A\", \"symbol\": \"circle\"}, \"mode\": \"markers\", \"name\": \"SUSAN UNDERWOOD PHYSICAL THERAPY\", \"showlegend\": true, \"type\": \"scattergl\", \"x\": [\"ELIZABETH TILSTRA\", \"JAMIE MORELOCK\", \"ELYSABETH BENEDICT\", \"LINDSAY ISON\", \"SUSAN UNDERWOOD\", \"CHRISTY ROSE\", \"WHITNEY COLLINS\"], \"xaxis\": \"x\", \"y\": [37, 47, 50, 55, 147, 89, 69], \"yaxis\": \"y\"}, {\"hovertemplate\": \"to_facility=STEWART CHIROPRACTIC CENTER PC<br>from_physician=%{x}<br>patient_count=%{y}<extra></extra>\", \"legendgroup\": \"STEWART CHIROPRACTIC CENTER PC\", \"marker\": {\"color\": \"#19d3f3\", \"symbol\": \"circle\"}, \"mode\": \"markers\", \"name\": \"STEWART CHIROPRACTIC CENTER PC\", \"showlegend\": true, \"type\": \"scattergl\", \"x\": [\"SAMUEL STEWART\"], \"xaxis\": \"x\", \"y\": [42], \"yaxis\": \"y\"}, {\"hovertemplate\": \"to_facility=JAMES C. LODEN, MD PC<br>from_physician=%{x}<br>patient_count=%{y}<extra></extra>\", \"legendgroup\": \"JAMES C. LODEN, MD PC\", \"marker\": {\"color\": \"#FF6692\", \"symbol\": \"circle\"}, \"mode\": \"markers\", \"name\": \"JAMES C. LODEN, MD PC\", \"showlegend\": true, \"type\": \"scattergl\", \"x\": [\"JESSICA LESUEUR\", \"AMISH PUROHIT\", \"FEYISAYO AWORUNSE\", \"DANIEL SCHIMMEL\"], \"xaxis\": \"x\", \"y\": [81, 269, 66, 796], \"yaxis\": \"y\"}, {\"hovertemplate\": \"to_facility=VANDERBILT HEALTH AND WILLIAMSON MEDICAL CENTER CLINICS AND SERVICES,<br>from_physician=%{x}<br>patient_count=%{y}<extra></extra>\", \"legendgroup\": \"VANDERBILT HEALTH AND WILLIAMSON MEDICAL CENTER CLINICS AND SERVICES,\", \"marker\": {\"color\": \"#B6E880\", \"symbol\": \"circle\"}, \"mode\": \"markers\", \"name\": \"VANDERBILT HEALTH AND WILLIAMSON MEDICAL CENTER CLINICS AND SERVICES,\", \"showlegend\": true, \"type\": \"scattergl\", \"x\": [\"HARVEY MURFF\", \"LINDA JOHNSON\", \"LORINA POE\", \"GINA VAUGHN\", \"KRISTEN MASSEY\", \"SUSAN JOHNSON\", \"DEBORAH BAKER\", \"GORDON MELTON\", \"SANDRA ERMINI\", \"LINDSEY DALTON\", \"SHERIN TAHMASBI\", \"ELISA WALKER\", \"GRETEL ROWLAND\", \"CHARLOTTE STEPHENSON\", \"CANDICE LEWIS\", \"MEGAN VICKERS\", \"MARY CARTER\", \"RUTH STEWART\"], \"xaxis\": \"x\", \"y\": [58, 124, 395, 237, 101, 67, 286, 383, 249, 70, 53, 265, 88, 106, 209, 57, 324, 92], \"yaxis\": \"y\"}, {\"hovertemplate\": \"to_facility=UNITED NEIGHBORHOOD HEALTH SERVICES, INC<br>from_physician=%{x}<br>patient_count=%{y}<extra></extra>\", \"legendgroup\": \"UNITED NEIGHBORHOOD HEALTH SERVICES, INC\", \"marker\": {\"color\": \"#FF97FF\", \"symbol\": \"circle\"}, \"mode\": \"markers\", \"name\": \"UNITED NEIGHBORHOOD HEALTH SERVICES, INC\", \"showlegend\": true, \"type\": \"scattergl\", \"x\": [\"NELLY WOLUGBOMS\", \"NELLY WOLUGBOMS\", \"AFSHAN KIRMANI\", \"ASHLEY TERRY\", \"MARY PRISCO\", \"JENNIFER WISE\", \"ASHLEY TERRY\", \"JULIE DONOHUE\", \"LUZ SALAZAR\", \"JULIE DONOHUE\", \"ADAM SMITH\", \"LEAH NELSON\", \"JOSEPH OJIBWAY\", \"DENA WAMPLER\", \"DENA WAMPLER\"], \"xaxis\": \"x\", \"y\": [30, 30, 56, 29, 90, 31, 29, 37, 29, 37, 35, 32, 52, 34, 33], \"yaxis\": \"y\"}, {\"hovertemplate\": \"to_facility=SINGLETON FAMILY PRACTICE & WEIGHT LOSS CLINIC, LLC<br>from_physician=%{x}<br>patient_count=%{y}<extra></extra>\", \"legendgroup\": \"SINGLETON FAMILY PRACTICE & WEIGHT LOSS CLINIC, LLC\", \"marker\": {\"color\": \"#FECB52\", \"symbol\": \"circle\"}, \"mode\": \"markers\", \"name\": \"SINGLETON FAMILY PRACTICE & WEIGHT LOSS CLINIC, LLC\", \"showlegend\": true, \"type\": \"scattergl\", \"x\": [\"CODYE SINGLETON\"], \"xaxis\": \"x\", \"y\": [39], \"yaxis\": \"y\"}, {\"hovertemplate\": \"to_facility=CENTENNIAL HEART LLC<br>from_physician=%{x}<br>patient_count=%{y}<extra></extra>\", \"legendgroup\": \"CENTENNIAL HEART LLC\", \"marker\": {\"color\": \"#636efa\", \"symbol\": \"circle\"}, \"mode\": \"markers\", \"name\": \"CENTENNIAL HEART LLC\", \"showlegend\": true, \"type\": \"scattergl\", \"x\": [\"LAURA WASIELEWSKI\", \"ENJOLI GUPTON\"], \"xaxis\": \"x\", \"y\": [53, 58], \"yaxis\": \"y\"}, {\"hovertemplate\": \"to_facility=MIDDLE TENNESSEE PLASTIC SURGERY, P.C.<br>from_physician=%{x}<br>patient_count=%{y}<extra></extra>\", \"legendgroup\": \"MIDDLE TENNESSEE PLASTIC SURGERY, P.C.\", \"marker\": {\"color\": \"#EF553B\", \"symbol\": \"circle\"}, \"mode\": \"markers\", \"name\": \"MIDDLE TENNESSEE PLASTIC SURGERY, P.C.\", \"showlegend\": true, \"type\": \"scattergl\", \"x\": [\"DAVID MARTIN\"], \"xaxis\": \"x\", \"y\": [95], \"yaxis\": \"y\"}, {\"hovertemplate\": \"to_facility=NEUROPSYCHOLOGY ASSOCIATES, PLLC<br>from_physician=%{x}<br>patient_count=%{y}<extra></extra>\", \"legendgroup\": \"NEUROPSYCHOLOGY ASSOCIATES, PLLC\", \"marker\": {\"color\": \"#00cc96\", \"symbol\": \"circle\"}, \"mode\": \"markers\", \"name\": \"NEUROPSYCHOLOGY ASSOCIATES, PLLC\", \"showlegend\": true, \"type\": \"scattergl\", \"x\": [\"JESSICA BARCLAY\"], \"xaxis\": \"x\", \"y\": [78], \"yaxis\": \"y\"}, {\"hovertemplate\": \"to_facility=EMERGENCY MEDICINE CONSULTANTS OF NASHVILLE, INC<br>from_physician=%{x}<br>patient_count=%{y}<extra></extra>\", \"legendgroup\": \"EMERGENCY MEDICINE CONSULTANTS OF NASHVILLE, INC\", \"marker\": {\"color\": \"#ab63fa\", \"symbol\": \"circle\"}, \"mode\": \"markers\", \"name\": \"EMERGENCY MEDICINE CONSULTANTS OF NASHVILLE, INC\", \"showlegend\": true, \"type\": \"scattergl\", \"x\": [\"LUCY TUCKER\"], \"xaxis\": \"x\", \"y\": [63], \"yaxis\": \"y\"}, {\"hovertemplate\": \"to_facility=DDEC ANESTHESIA, LLC<br>from_physician=%{x}<br>patient_count=%{y}<extra></extra>\", \"legendgroup\": \"DDEC ANESTHESIA, LLC\", \"marker\": {\"color\": \"#FFA15A\", \"symbol\": \"circle\"}, \"mode\": \"markers\", \"name\": \"DDEC ANESTHESIA, LLC\", \"showlegend\": true, \"type\": \"scattergl\", \"x\": [\"DAVID MCMILLEN\", \"GEORGE WRIGHT\", \"DEBRA MISTLER\", \"BRAD IRBY\", \"HARRISON SHULL\", \"ASHLEY HUGHES\", \"CHARLES GOLDEN\"], \"xaxis\": \"x\", \"y\": [230, 267, 390, 67, 206, 378, 107], \"yaxis\": \"y\"}, {\"hovertemplate\": \"to_facility=DR. TRACY A. MERRELL, D.P.M., P.C.<br>from_physician=%{x}<br>patient_count=%{y}<extra></extra>\", \"legendgroup\": \"DR. TRACY A. MERRELL, D.P.M., P.C.\", \"marker\": {\"color\": \"#19d3f3\", \"symbol\": \"circle\"}, \"mode\": \"markers\", \"name\": \"DR. TRACY A. MERRELL, D.P.M., P.C.\", \"showlegend\": true, \"type\": \"scattergl\", \"x\": [\"TRACY MERRELL\"], \"xaxis\": \"x\", \"y\": [287], \"yaxis\": \"y\"}, {\"hovertemplate\": \"to_facility=ANBA ABRAAM MEDICAL CLINIC<br>from_physician=%{x}<br>patient_count=%{y}<extra></extra>\", \"legendgroup\": \"ANBA ABRAAM MEDICAL CLINIC\", \"marker\": {\"color\": \"#FF6692\", \"symbol\": \"circle\"}, \"mode\": \"markers\", \"name\": \"ANBA ABRAAM MEDICAL CLINIC\", \"showlegend\": true, \"type\": \"scattergl\", \"x\": [\"YOUSSEF TAWFIK\"], \"xaxis\": \"x\", \"y\": [54], \"yaxis\": \"y\"}, {\"hovertemplate\": \"to_facility=FRED R SHANKS, O.D., LLC<br>from_physician=%{x}<br>patient_count=%{y}<extra></extra>\", \"legendgroup\": \"FRED R SHANKS, O.D., LLC\", \"marker\": {\"color\": \"#B6E880\", \"symbol\": \"circle\"}, \"mode\": \"markers\", \"name\": \"FRED R SHANKS, O.D., LLC\", \"showlegend\": true, \"type\": \"scattergl\", \"x\": [\"FRED SHANKS\"], \"xaxis\": \"x\", \"y\": [100], \"yaxis\": \"y\"}, {\"hovertemplate\": \"to_facility=SOUTHERN PLASTIC & RECONSTRUCTIVE SURGICAL INSTITITUTE<br>from_physician=%{x}<br>patient_count=%{y}<extra></extra>\", \"legendgroup\": \"SOUTHERN PLASTIC & RECONSTRUCTIVE SURGICAL INSTITITUTE\", \"marker\": {\"color\": \"#FF97FF\", \"symbol\": \"circle\"}, \"mode\": \"markers\", \"name\": \"SOUTHERN PLASTIC & RECONSTRUCTIVE SURGICAL INSTITITUTE\", \"showlegend\": true, \"type\": \"scattergl\", \"x\": [\"NATHAN BROUGHT\"], \"xaxis\": \"x\", \"y\": [45], \"yaxis\": \"y\"}, {\"hovertemplate\": \"to_facility=MATHIS DRIVE INPATIENT SERVICES PLLC<br>from_physician=%{x}<br>patient_count=%{y}<extra></extra>\", \"legendgroup\": \"MATHIS DRIVE INPATIENT SERVICES PLLC\", \"marker\": {\"color\": \"#FECB52\", \"symbol\": \"circle\"}, \"mode\": \"markers\", \"name\": \"MATHIS DRIVE INPATIENT SERVICES PLLC\", \"showlegend\": true, \"type\": \"scattergl\", \"x\": [\"MONA MASHAYEKHI\", \"LISA SIMMONS\", \"EBELE UMEUKEJE\"], \"xaxis\": \"x\", \"y\": [55, 168, 49], \"yaxis\": \"y\"}, {\"hovertemplate\": \"to_facility=JAMI LLC<br>from_physician=%{x}<br>patient_count=%{y}<extra></extra>\", \"legendgroup\": \"JAMI LLC\", \"marker\": {\"color\": \"#636efa\", \"symbol\": \"circle\"}, \"mode\": \"markers\", \"name\": \"JAMI LLC\", \"showlegend\": true, \"type\": \"scattergl\", \"x\": [\"DANILO FLORES\"], \"xaxis\": \"x\", \"y\": [55], \"yaxis\": \"y\"}, {\"hovertemplate\": \"to_facility=WOMENS AND CHILDRENS SPECIALISTS, LLC<br>from_physician=%{x}<br>patient_count=%{y}<extra></extra>\", \"legendgroup\": \"WOMENS AND CHILDRENS SPECIALISTS, LLC\", \"marker\": {\"color\": \"#EF553B\", \"symbol\": \"circle\"}, \"mode\": \"markers\", \"name\": \"WOMENS AND CHILDRENS SPECIALISTS, LLC\", \"showlegend\": true, \"type\": \"scattergl\", \"x\": [\"HAYDAR FRANGOUL\"], \"xaxis\": \"x\", \"y\": [37], \"yaxis\": \"y\"}, {\"hovertemplate\": \"to_facility=SENIOR HEALTH PROFESSIONALS LLC<br>from_physician=%{x}<br>patient_count=%{y}<extra></extra>\", \"legendgroup\": \"SENIOR HEALTH PROFESSIONALS LLC\", \"marker\": {\"color\": \"#00cc96\", \"symbol\": \"circle\"}, \"mode\": \"markers\", \"name\": \"SENIOR HEALTH PROFESSIONALS LLC\", \"showlegend\": true, \"type\": \"scattergl\", \"x\": [\"STACY MCLALLEN\", \"TIFFANY RAMOS\"], \"xaxis\": \"x\", \"y\": [132, 174], \"yaxis\": \"y\"}, {\"hovertemplate\": \"to_facility=DRS. REED & WILKERSON<br>from_physician=%{x}<br>patient_count=%{y}<extra></extra>\", \"legendgroup\": \"DRS. REED & WILKERSON\", \"marker\": {\"color\": \"#ab63fa\", \"symbol\": \"circle\"}, \"mode\": \"markers\", \"name\": \"DRS. REED & WILKERSON\", \"showlegend\": true, \"type\": \"scattergl\", \"x\": [\"DAVID REED\", \"JASON WILKERSON\"], \"xaxis\": \"x\", \"y\": [263, 420], \"yaxis\": \"y\"}, {\"hovertemplate\": \"to_facility=MURFREESBORO SURGICAL ASSOCIATES<br>from_physician=%{x}<br>patient_count=%{y}<extra></extra>\", \"legendgroup\": \"MURFREESBORO SURGICAL ASSOCIATES\", \"marker\": {\"color\": \"#FFA15A\", \"symbol\": \"circle\"}, \"mode\": \"markers\", \"name\": \"MURFREESBORO SURGICAL ASSOCIATES\", \"showlegend\": true, \"type\": \"scattergl\", \"x\": [\"ANDREW HAZLEY\"], \"xaxis\": \"x\", \"y\": [93], \"yaxis\": \"y\"}, {\"hovertemplate\": \"to_facility=DIGESTIVE DISEASE ENDOSCOPY CENTER, INC.<br>from_physician=%{x}<br>patient_count=%{y}<extra></extra>\", \"legendgroup\": \"DIGESTIVE DISEASE ENDOSCOPY CENTER, INC.\", \"marker\": {\"color\": \"#19d3f3\", \"symbol\": \"circle\"}, \"mode\": \"markers\", \"name\": \"DIGESTIVE DISEASE ENDOSCOPY CENTER, INC.\", \"showlegend\": true, \"type\": \"scattergl\", \"x\": [\"GEORGE WRIGHT\", \"DAVID MCMILLEN\", \"DEBRA MISTLER\", \"BRAD IRBY\", \"HARRISON SHULL\", \"ASHLEY HUGHES\", \"CHARLES GOLDEN\"], \"xaxis\": \"x\", \"y\": [270, 231, 387, 67, 213, 377, 107], \"yaxis\": \"y\"}, {\"hovertemplate\": \"to_facility=VISION IMPROVEMENT PROFESSIONALS, INC.<br>from_physician=%{x}<br>patient_count=%{y}<extra></extra>\", \"legendgroup\": \"VISION IMPROVEMENT PROFESSIONALS, INC.\", \"marker\": {\"color\": \"#FF6692\", \"symbol\": \"circle\"}, \"mode\": \"markers\", \"name\": \"VISION IMPROVEMENT PROFESSIONALS, INC.\", \"showlegend\": true, \"type\": \"scattergl\", \"x\": [\"GREGORY COLEY\"], \"xaxis\": \"x\", \"y\": [171], \"yaxis\": \"y\"}, {\"hovertemplate\": \"to_facility=(RIVERSIDE FAMILY MEDICINE)<br>from_physician=%{x}<br>patient_count=%{y}<extra></extra>\", \"legendgroup\": \"(RIVERSIDE FAMILY MEDICINE)\", \"marker\": {\"color\": \"#B6E880\", \"symbol\": \"circle\"}, \"mode\": \"markers\", \"name\": \"(RIVERSIDE FAMILY MEDICINE)\", \"showlegend\": true, \"type\": \"scattergl\", \"x\": [\"TONY FREEMAN\", \"KENNETH DOZIER\"], \"xaxis\": \"x\", \"y\": [167, 241], \"yaxis\": \"y\"}, {\"hovertemplate\": \"to_facility=EYECARE PLUS CA,PLLC<br>from_physician=%{x}<br>patient_count=%{y}<extra></extra>\", \"legendgroup\": \"EYECARE PLUS CA,PLLC\", \"marker\": {\"color\": \"#FF97FF\", \"symbol\": \"circle\"}, \"mode\": \"markers\", \"name\": \"EYECARE PLUS CA,PLLC\", \"showlegend\": true, \"type\": \"scattergl\", \"x\": [\"JENNIFER MALLORY\", \"TAYLOR HARRIS\", \"OLIVIA CHAPMAN\", \"WILLIAM WOOD\"], \"xaxis\": \"x\", \"y\": [150, 186, 44, 92], \"yaxis\": \"y\"}, {\"hovertemplate\": \"to_facility=ADVANCED FOOT AND ANKLE CARE CENTERS P C<br>from_physician=%{x}<br>patient_count=%{y}<extra></extra>\", \"legendgroup\": \"ADVANCED FOOT AND ANKLE CARE CENTERS P C\", \"marker\": {\"color\": \"#FECB52\", \"symbol\": \"circle\"}, \"mode\": \"markers\", \"name\": \"ADVANCED FOOT AND ANKLE CARE CENTERS P C\", \"showlegend\": true, \"type\": \"scattergl\", \"x\": [\"I RETIEF\", \"ROBERT FRANKFATHER\", \"DAVID FARNEN\", \"JAMIL HOSSAIN\"], \"xaxis\": \"x\", \"y\": [223, 336, 76, 330], \"yaxis\": \"y\"}, {\"hovertemplate\": \"to_facility=AMBULATORY SURGERY CENTER OF COOL SPRINGS LLC<br>from_physician=%{x}<br>patient_count=%{y}<extra></extra>\", \"legendgroup\": \"AMBULATORY SURGERY CENTER OF COOL SPRINGS LLC\", \"marker\": {\"color\": \"#636efa\", \"symbol\": \"circle\"}, \"mode\": \"markers\", \"name\": \"AMBULATORY SURGERY CENTER OF COOL SPRINGS LLC\", \"showlegend\": true, \"type\": \"scattergl\", \"x\": [\"JOHN FOSTER\", \"SHERRY HARMON\", \"ERIN DUNAVANT\", \"MARY RANDALL\", \"E. BROCK\", \"AMY SMITH\", \"BRIAN MCKELVY\", \"LATORYA BURTON\"], \"xaxis\": \"x\", \"y\": [215, 164, 136, 214, 532, 176, 292, 331], \"yaxis\": \"y\"}, {\"hovertemplate\": \"to_facility=FAMILY HEALTH CENTER OF ASHLAND CITY PLLC<br>from_physician=%{x}<br>patient_count=%{y}<extra></extra>\", \"legendgroup\": \"FAMILY HEALTH CENTER OF ASHLAND CITY PLLC\", \"marker\": {\"color\": \"#EF553B\", \"symbol\": \"circle\"}, \"mode\": \"markers\", \"name\": \"FAMILY HEALTH CENTER OF ASHLAND CITY PLLC\", \"showlegend\": true, \"type\": \"scattergl\", \"x\": [\"SCOTT BROWN\"], \"xaxis\": \"x\", \"y\": [247], \"yaxis\": \"y\"}, {\"hovertemplate\": \"to_facility=SHAW CHIROPRACTIC AND JOINT CENTER<br>from_physician=%{x}<br>patient_count=%{y}<extra></extra>\", \"legendgroup\": \"SHAW CHIROPRACTIC AND JOINT CENTER\", \"marker\": {\"color\": \"#00cc96\", \"symbol\": \"circle\"}, \"mode\": \"markers\", \"name\": \"SHAW CHIROPRACTIC AND JOINT CENTER\", \"showlegend\": true, \"type\": \"scattergl\", \"x\": [\"KENNETH SHAW\"], \"xaxis\": \"x\", \"y\": [26], \"yaxis\": \"y\"}, {\"hovertemplate\": \"to_facility=TAKE CARE HEALTH TENNESSEE, P. C.<br>from_physician=%{x}<br>patient_count=%{y}<extra></extra>\", \"legendgroup\": \"TAKE CARE HEALTH TENNESSEE, P. C.\", \"marker\": {\"color\": \"#ab63fa\", \"symbol\": \"circle\"}, \"mode\": \"markers\", \"name\": \"TAKE CARE HEALTH TENNESSEE, P. C.\", \"showlegend\": true, \"type\": \"scattergl\", \"x\": [\"DONNA DUBOIS\", \"THY TRUONG\", \"GERALD MCCLAIN\", \"CANDANCE ALEXANDER\", \"CHRISTINA AGEE\", \"SARAH THOMPSON\", \"FATMATA KAMARA\", \"ROBIN SWENSEN\", \"KRISTIN LEONARD\", \"CHRISTINE GALLUZZI\", \"MARY MCREDMOND\", \"NERESSA WHITE\", \"BRITTON CHURCHMAN\", \"SARAH FRANCIS\", \"ASHLEY SCHMIDT\", \"SCOTT COFFEY\"], \"xaxis\": \"x\", \"y\": [65, 47, 65, 74, 62, 61, 74, 84, 49, 101, 73, 78, 65, 80, 93, 50], \"yaxis\": \"y\"}, {\"hovertemplate\": \"to_facility=PAIN MANAGEMENT GROUP, P.C.<br>from_physician=%{x}<br>patient_count=%{y}<extra></extra>\", \"legendgroup\": \"PAIN MANAGEMENT GROUP, P.C.\", \"marker\": {\"color\": \"#FFA15A\", \"symbol\": \"circle\"}, \"mode\": \"markers\", \"name\": \"PAIN MANAGEMENT GROUP, P.C.\", \"showlegend\": true, \"type\": \"scattergl\", \"x\": [\"MALINDA JOHNSON\", \"MICHAEL RADYKO\", \"KATHERINE DE ARAUJO JORGE\", \"ARLESHEA ATMORE\", \"KELLY BORDEN\", \"CRYSTAL JOHNSON\", \"CANDIUS LOGGINS\", \"AMANDA ARNOLD\", \"JENNIFER MADU\", \"JASMINE CAMP\", \"KIMBERLY PERRY\", \"ADELINE LEE\"], \"xaxis\": \"x\", \"y\": [211, 250, 183, 123, 215, 178, 184, 153, 111, 183, 149, 235], \"yaxis\": \"y\"}, {\"hovertemplate\": \"to_facility=MURFREESBORO SURGICAL SPECIALISTS PLLC<br>from_physician=%{x}<br>patient_count=%{y}<extra></extra>\", \"legendgroup\": \"MURFREESBORO SURGICAL SPECIALISTS PLLC\", \"marker\": {\"color\": \"#19d3f3\", \"symbol\": \"circle\"}, \"mode\": \"markers\", \"name\": \"MURFREESBORO SURGICAL SPECIALISTS PLLC\", \"showlegend\": true, \"type\": \"scattergl\", \"x\": [\"STEPHEN RICH\", \"WARD HOUCK\", \"MARK AKINS\"], \"xaxis\": \"x\", \"y\": [148, 200, 161], \"yaxis\": \"y\"}, {\"hovertemplate\": \"to_facility=GERIATRIC CONSULTING GROUP PC<br>from_physician=%{x}<br>patient_count=%{y}<extra></extra>\", \"legendgroup\": \"GERIATRIC CONSULTING GROUP PC\", \"marker\": {\"color\": \"#FF6692\", \"symbol\": \"circle\"}, \"mode\": \"markers\", \"name\": \"GERIATRIC CONSULTING GROUP PC\", \"showlegend\": true, \"type\": \"scattergl\", \"x\": [\"AMY AMMARELL\", \"PAUL MCCLELLAN\", \"ROBERTA BERMAN\", \"LAUREN MERCHANT\", \"JOHN PAINTER\", \"JADE VERGARA\", \"JACQUELINE CAMPBELL\", \"ANESA WILLOUGHBY\"], \"xaxis\": \"x\", \"y\": [160, 275, 113, 72, 170, 130, 111, 158], \"yaxis\": \"y\"}, {\"hovertemplate\": \"to_facility=CARIS HEALTHCARE, LP<br>from_physician=%{x}<br>patient_count=%{y}<extra></extra>\", \"legendgroup\": \"CARIS HEALTHCARE, LP\", \"marker\": {\"color\": \"#B6E880\", \"symbol\": \"circle\"}, \"mode\": \"markers\", \"name\": \"CARIS HEALTHCARE, LP\", \"showlegend\": true, \"type\": \"scattergl\", \"x\": [\"RAUL COURET\"], \"xaxis\": \"x\", \"y\": [102], \"yaxis\": \"y\"}, {\"hovertemplate\": \"to_facility=HARVEY W. BOWLES MD PC<br>from_physician=%{x}<br>patient_count=%{y}<extra></extra>\", \"legendgroup\": \"HARVEY W. BOWLES MD PC\", \"marker\": {\"color\": \"#FF97FF\", \"symbol\": \"circle\"}, \"mode\": \"markers\", \"name\": \"HARVEY W. BOWLES MD PC\", \"showlegend\": true, \"type\": \"scattergl\", \"x\": [\"HARVEY BOWLES\"], \"xaxis\": \"x\", \"y\": [348], \"yaxis\": \"y\"}, {\"hovertemplate\": \"to_facility=INTERNAL MEDICINE ASSOCIATES OF SOUTHERN HILLS LLC<br>from_physician=%{x}<br>patient_count=%{y}<extra></extra>\", \"legendgroup\": \"INTERNAL MEDICINE ASSOCIATES OF SOUTHERN HILLS LLC\", \"marker\": {\"color\": \"#FECB52\", \"symbol\": \"circle\"}, \"mode\": \"markers\", \"name\": \"INTERNAL MEDICINE ASSOCIATES OF SOUTHERN HILLS LLC\", \"showlegend\": true, \"type\": \"scattergl\", \"x\": [\"SHUAIB MOHYUDDIN\"], \"xaxis\": \"x\", \"y\": [182], \"yaxis\": \"y\"}, {\"hovertemplate\": \"to_facility=DANIEL ADKISSON<br>from_physician=%{x}<br>patient_count=%{y}<extra></extra>\", \"legendgroup\": \"DANIEL ADKISSON\", \"marker\": {\"color\": \"#636efa\", \"symbol\": \"circle\"}, \"mode\": \"markers\", \"name\": \"DANIEL ADKISSON\", \"showlegend\": true, \"type\": \"scattergl\", \"x\": [\"DANIEL ADKISSON\"], \"xaxis\": \"x\", \"y\": [218], \"yaxis\": \"y\"}, {\"hovertemplate\": \"to_facility=SUMMIT EYE ASSOCIATES P C<br>from_physician=%{x}<br>patient_count=%{y}<extra></extra>\", \"legendgroup\": \"SUMMIT EYE ASSOCIATES P C\", \"marker\": {\"color\": \"#EF553B\", \"symbol\": \"circle\"}, \"mode\": \"markers\", \"name\": \"SUMMIT EYE ASSOCIATES P C\", \"showlegend\": true, \"type\": \"scattergl\", \"x\": [\"MEREDITH EZELL\", \"WILLIAM GATES\", \"JOSHUA YOUNG\", \"JAMIE MORRISON\"], \"xaxis\": \"x\", \"y\": [1156, 1473, 960, 47], \"yaxis\": \"y\"}, {\"hovertemplate\": \"to_facility=ROBERT C. RIPLEY, M.D., P.C.<br>from_physician=%{x}<br>patient_count=%{y}<extra></extra>\", \"legendgroup\": \"ROBERT C. RIPLEY, M.D., P.C.\", \"marker\": {\"color\": \"#00cc96\", \"symbol\": \"circle\"}, \"mode\": \"markers\", \"name\": \"ROBERT C. RIPLEY, M.D., P.C.\", \"showlegend\": true, \"type\": \"scattergl\", \"x\": [\"ROBERT RIPLEY\"], \"xaxis\": \"x\", \"y\": [508], \"yaxis\": \"y\"}, {\"hovertemplate\": \"to_facility=CARESPOT OF BRENTWOOD (210 FRANKLIN ROAD), LLC<br>from_physician=%{x}<br>patient_count=%{y}<extra></extra>\", \"legendgroup\": \"CARESPOT OF BRENTWOOD (210 FRANKLIN ROAD), LLC\", \"marker\": {\"color\": \"#ab63fa\", \"symbol\": \"circle\"}, \"mode\": \"markers\", \"name\": \"CARESPOT OF BRENTWOOD (210 FRANKLIN ROAD), LLC\", \"showlegend\": true, \"type\": \"scattergl\", \"x\": [\"JACQUELYN JACKSON\", \"ROBERT RELIC\"], \"xaxis\": \"x\", \"y\": [69, 82], \"yaxis\": \"y\"}, {\"hovertemplate\": \"to_facility=UROLOGY SURGERY CENTER LP<br>from_physician=%{x}<br>patient_count=%{y}<extra></extra>\", \"legendgroup\": \"UROLOGY SURGERY CENTER LP\", \"marker\": {\"color\": \"#FFA15A\", \"symbol\": \"circle\"}, \"mode\": \"markers\", \"name\": \"UROLOGY SURGERY CENTER LP\", \"showlegend\": true, \"type\": \"scattergl\", \"x\": [\"BONITA THOMPSON\", \"LYNDA ELAM\", \"IVY JENKINS\", \"ABIGAIL BUTORAC\"], \"xaxis\": \"x\", \"y\": [159, 186, 50, 141], \"yaxis\": \"y\"}, {\"hovertemplate\": \"to_facility=INSIGHT VISION CENTER LLC<br>from_physician=%{x}<br>patient_count=%{y}<extra></extra>\", \"legendgroup\": \"INSIGHT VISION CENTER LLC\", \"marker\": {\"color\": \"#19d3f3\", \"symbol\": \"circle\"}, \"mode\": \"markers\", \"name\": \"INSIGHT VISION CENTER LLC\", \"showlegend\": true, \"type\": \"scattergl\", \"x\": [\"ALETTE DAVIS\"], \"xaxis\": \"x\", \"y\": [35], \"yaxis\": \"y\"}, {\"hovertemplate\": \"to_facility=RIVERGATE PSYCHIATRIC & BEHAVIORAL HEALTH<br>from_physician=%{x}<br>patient_count=%{y}<extra></extra>\", \"legendgroup\": \"RIVERGATE PSYCHIATRIC & BEHAVIORAL HEALTH\", \"marker\": {\"color\": \"#FF6692\", \"symbol\": \"circle\"}, \"mode\": \"markers\", \"name\": \"RIVERGATE PSYCHIATRIC & BEHAVIORAL HEALTH\", \"showlegend\": true, \"type\": \"scattergl\", \"x\": [\"NIHAR SAHA\"], \"xaxis\": \"x\", \"y\": [43], \"yaxis\": \"y\"}, {\"hovertemplate\": \"to_facility=ASPIRE HEALTH MEDICAL PARTNERS, PC<br>from_physician=%{x}<br>patient_count=%{y}<extra></extra>\", \"legendgroup\": \"ASPIRE HEALTH MEDICAL PARTNERS, PC\", \"marker\": {\"color\": \"#B6E880\", \"symbol\": \"circle\"}, \"mode\": \"markers\", \"name\": \"ASPIRE HEALTH MEDICAL PARTNERS, PC\", \"showlegend\": true, \"type\": \"scattergl\", \"x\": [\"KAYLA KENNEDY\", \"MARY SMITH\", \"ANNE REVIERE\", \"LISA BARKSDALE\", \"ANDREA KNOX\", \"RYANN MCGUIRE\", \"LISA HITT\"], \"xaxis\": \"x\", \"y\": [16, 58, 66, 29, 116, 13, 19], \"yaxis\": \"y\"}, {\"hovertemplate\": \"to_facility=POST-ACUTE PHYSICIANS OF TENNESSEE PLLC<br>from_physician=%{x}<br>patient_count=%{y}<extra></extra>\", \"legendgroup\": \"POST-ACUTE PHYSICIANS OF TENNESSEE PLLC\", \"marker\": {\"color\": \"#FF97FF\", \"symbol\": \"circle\"}, \"mode\": \"markers\", \"name\": \"POST-ACUTE PHYSICIANS OF TENNESSEE PLLC\", \"showlegend\": true, \"type\": \"scattergl\", \"x\": [\"SCOTT MANDELL\"], \"xaxis\": \"x\", \"y\": [312], \"yaxis\": \"y\"}, {\"hovertemplate\": \"to_facility=JOE R FITE MD PLLC<br>from_physician=%{x}<br>patient_count=%{y}<extra></extra>\", \"legendgroup\": \"JOE R FITE MD PLLC\", \"marker\": {\"color\": \"#FECB52\", \"symbol\": \"circle\"}, \"mode\": \"markers\", \"name\": \"JOE R FITE MD PLLC\", \"showlegend\": true, \"type\": \"scattergl\", \"x\": [\"JOE FITE\"], \"xaxis\": \"x\", \"y\": [126], \"yaxis\": \"y\"}, {\"hovertemplate\": \"to_facility=FULLERTON MEDICAL CLINIC, PLLC<br>from_physician=%{x}<br>patient_count=%{y}<extra></extra>\", \"legendgroup\": \"FULLERTON MEDICAL CLINIC, PLLC\", \"marker\": {\"color\": \"#636efa\", \"symbol\": \"circle\"}, \"mode\": \"markers\", \"name\": \"FULLERTON MEDICAL CLINIC, PLLC\", \"showlegend\": true, \"type\": \"scattergl\", \"x\": [\"RANDY FULLERTON\"], \"xaxis\": \"x\", \"y\": [232], \"yaxis\": \"y\"}, {\"hovertemplate\": \"to_facility=LUNG CONSULTANTS PLLC<br>from_physician=%{x}<br>patient_count=%{y}<extra></extra>\", \"legendgroup\": \"LUNG CONSULTANTS PLLC\", \"marker\": {\"color\": \"#EF553B\", \"symbol\": \"circle\"}, \"mode\": \"markers\", \"name\": \"LUNG CONSULTANTS PLLC\", \"showlegend\": true, \"type\": \"scattergl\", \"x\": [\"OLUSOLA OGUNTOLU\"], \"xaxis\": \"x\", \"y\": [346], \"yaxis\": \"y\"}, {\"hovertemplate\": \"to_facility=WOMENS HEALTH CENTER OF DICKSON<br>from_physician=%{x}<br>patient_count=%{y}<extra></extra>\", \"legendgroup\": \"WOMENS HEALTH CENTER OF DICKSON\", \"marker\": {\"color\": \"#00cc96\", \"symbol\": \"circle\"}, \"mode\": \"markers\", \"name\": \"WOMENS HEALTH CENTER OF DICKSON\", \"showlegend\": true, \"type\": \"scattergl\", \"x\": [\"MICHAEL HAWKINS\", \"ERIN STEIDL\"], \"xaxis\": \"x\", \"y\": [42, 45], \"yaxis\": \"y\"}, {\"hovertemplate\": \"to_facility=SKYE CHIROPRACTIC LLC<br>from_physician=%{x}<br>patient_count=%{y}<extra></extra>\", \"legendgroup\": \"SKYE CHIROPRACTIC LLC\", \"marker\": {\"color\": \"#ab63fa\", \"symbol\": \"circle\"}, \"mode\": \"markers\", \"name\": \"SKYE CHIROPRACTIC LLC\", \"showlegend\": true, \"type\": \"scattergl\", \"x\": [\"GREGORY SKYE\"], \"xaxis\": \"x\", \"y\": [79], \"yaxis\": \"y\"}, {\"hovertemplate\": \"to_facility=MURFREESBORO DERMATOLOGY CLINIC, PLC<br>from_physician=%{x}<br>patient_count=%{y}<extra></extra>\", \"legendgroup\": \"MURFREESBORO DERMATOLOGY CLINIC, PLC\", \"marker\": {\"color\": \"#FFA15A\", \"symbol\": \"circle\"}, \"mode\": \"markers\", \"name\": \"MURFREESBORO DERMATOLOGY CLINIC, PLC\", \"showlegend\": true, \"type\": \"scattergl\", \"x\": [\"CARRIE ELAM\", \"KASEY HOLLANDSWORTH\", \"PEZHMAN SHOURESHI\", \"CHRISTINA FESER\", \"ELIZABETH OTTER\", \"MINITY SHUKLA\", \"KRISTIE BUCHER\", \"EMMA PIERCE\", \"MICHAEL BELL\"], \"xaxis\": \"x\", \"y\": [246, 148, 211, 147, 232, 79, 236, 49, 1726], \"yaxis\": \"y\"}, {\"hovertemplate\": \"to_facility=HENDERSONVILLE OBGYN LLC<br>from_physician=%{x}<br>patient_count=%{y}<extra></extra>\", \"legendgroup\": \"HENDERSONVILLE OBGYN LLC\", \"marker\": {\"color\": \"#19d3f3\", \"symbol\": \"circle\"}, \"mode\": \"markers\", \"name\": \"HENDERSONVILLE OBGYN LLC\", \"showlegend\": true, \"type\": \"scattergl\", \"x\": [\"TAMIE BABB\", \"BRETT BRANSON\"], \"xaxis\": \"x\", \"y\": [47, 59], \"yaxis\": \"y\"}, {\"hovertemplate\": \"to_facility=SKYLINE MEDICAL GROUP LLC<br>from_physician=%{x}<br>patient_count=%{y}<extra></extra>\", \"legendgroup\": \"SKYLINE MEDICAL GROUP LLC\", \"marker\": {\"color\": \"#FF6692\", \"symbol\": \"circle\"}, \"mode\": \"markers\", \"name\": \"SKYLINE MEDICAL GROUP LLC\", \"showlegend\": true, \"type\": \"scattergl\", \"x\": [\"MELISSA MAGNESS\", \"KELLY DAYTON\"], \"xaxis\": \"x\", \"y\": [212, 52], \"yaxis\": \"y\"}, {\"hovertemplate\": \"to_facility=MID TN MEDICAL HERMITAGE PLLC<br>from_physician=%{x}<br>patient_count=%{y}<extra></extra>\", \"legendgroup\": \"MID TN MEDICAL HERMITAGE PLLC\", \"marker\": {\"color\": \"#B6E880\", \"symbol\": \"circle\"}, \"mode\": \"markers\", \"name\": \"MID TN MEDICAL HERMITAGE PLLC\", \"showlegend\": true, \"type\": \"scattergl\", \"x\": [\"JOHN MANNING\"], \"xaxis\": \"x\", \"y\": [318], \"yaxis\": \"y\"}, {\"hovertemplate\": \"to_facility=PHYSICIANS' URGENT CARE, PLLC<br>from_physician=%{x}<br>patient_count=%{y}<extra></extra>\", \"legendgroup\": \"PHYSICIANS' URGENT CARE, PLLC\", \"marker\": {\"color\": \"#FF97FF\", \"symbol\": \"circle\"}, \"mode\": \"markers\", \"name\": \"PHYSICIANS' URGENT CARE, PLLC\", \"showlegend\": true, \"type\": \"scattergl\", \"x\": [\"DAVID WHETSTONE\", \"THOMAS BABCOCK\", \"LEAH DICKEY\", \"NABIL BOUTROS\", \"BRADY ALLEN\"], \"xaxis\": \"x\", \"y\": [83, 215, 46, 77, 95], \"yaxis\": \"y\"}, {\"hovertemplate\": \"to_facility=DAVID A GILPIN MD PLC<br>from_physician=%{x}<br>patient_count=%{y}<extra></extra>\", \"legendgroup\": \"DAVID A GILPIN MD PLC\", \"marker\": {\"color\": \"#FECB52\", \"symbol\": \"circle\"}, \"mode\": \"markers\", \"name\": \"DAVID A GILPIN MD PLC\", \"showlegend\": true, \"type\": \"scattergl\", \"x\": [\"DAVID GILPIN\"], \"xaxis\": \"x\", \"y\": [177], \"yaxis\": \"y\"}, {\"hovertemplate\": \"to_facility=PHYSICIANS PAVILION LP<br>from_physician=%{x}<br>patient_count=%{y}<extra></extra>\", \"legendgroup\": \"PHYSICIANS PAVILION LP\", \"marker\": {\"color\": \"#636efa\", \"symbol\": \"circle\"}, \"mode\": \"markers\", \"name\": \"PHYSICIANS PAVILION LP\", \"showlegend\": true, \"type\": \"scattergl\", \"x\": [\"HUGH KINARD\", \"JACQUELINE BRYANT\"], \"xaxis\": \"x\", \"y\": [52, 156], \"yaxis\": \"y\"}, {\"hovertemplate\": \"to_facility=COOL SPRINGS ALLERGY ASSOCIATES PLC<br>from_physician=%{x}<br>patient_count=%{y}<extra></extra>\", \"legendgroup\": \"COOL SPRINGS ALLERGY ASSOCIATES PLC\", \"marker\": {\"color\": \"#EF553B\", \"symbol\": \"circle\"}, \"mode\": \"markers\", \"name\": \"COOL SPRINGS ALLERGY ASSOCIATES PLC\", \"showlegend\": true, \"type\": \"scattergl\", \"x\": [\"JOSEPH BELLEAU\", \"HAROLD MOESSNER\"], \"xaxis\": \"x\", \"y\": [82, 90], \"yaxis\": \"y\"}, {\"hovertemplate\": \"to_facility=MEDICAL GROUP - STONECREST FP INC<br>from_physician=%{x}<br>patient_count=%{y}<extra></extra>\", \"legendgroup\": \"MEDICAL GROUP - STONECREST FP INC\", \"marker\": {\"color\": \"#00cc96\", \"symbol\": \"circle\"}, \"mode\": \"markers\", \"name\": \"MEDICAL GROUP - STONECREST FP INC\", \"showlegend\": true, \"type\": \"scattergl\", \"x\": [\"PETER COBB\", \"LAURA BORN\", \"ADAM CHILDS\"], \"xaxis\": \"x\", \"y\": [238, 132, 121], \"yaxis\": \"y\"}, {\"hovertemplate\": \"to_facility=BRENTWOOD EYECARE, LLC<br>from_physician=%{x}<br>patient_count=%{y}<extra></extra>\", \"legendgroup\": \"BRENTWOOD EYECARE, LLC\", \"marker\": {\"color\": \"#ab63fa\", \"symbol\": \"circle\"}, \"mode\": \"markers\", \"name\": \"BRENTWOOD EYECARE, LLC\", \"showlegend\": true, \"type\": \"scattergl\", \"x\": [\"HELEN BOERMAN\"], \"xaxis\": \"x\", \"y\": [198], \"yaxis\": \"y\"}, {\"hovertemplate\": \"to_facility=PERFORMANCE REHAB INSTITUTE<br>from_physician=%{x}<br>patient_count=%{y}<extra></extra>\", \"legendgroup\": \"PERFORMANCE REHAB INSTITUTE\", \"marker\": {\"color\": \"#FFA15A\", \"symbol\": \"circle\"}, \"mode\": \"markers\", \"name\": \"PERFORMANCE REHAB INSTITUTE\", \"showlegend\": true, \"type\": \"scattergl\", \"x\": [\"JORGE ROJAS\", \"JENA BEASLEY\", \"JOSHUA COLBERT\", \"THOMAS ROBINSON\"], \"xaxis\": \"x\", \"y\": [26, 30, 60, 21], \"yaxis\": \"y\"}, {\"hovertemplate\": \"to_facility=THE LITTLE CLINIC OF TENNESSEE LLC<br>from_physician=%{x}<br>patient_count=%{y}<extra></extra>\", \"legendgroup\": \"THE LITTLE CLINIC OF TENNESSEE LLC\", \"marker\": {\"color\": \"#19d3f3\", \"symbol\": \"circle\"}, \"mode\": \"markers\", \"name\": \"THE LITTLE CLINIC OF TENNESSEE LLC\", \"showlegend\": true, \"type\": \"scattergl\", \"x\": [\"JENNIFER ATKINSON\", \"KIMBERLY ADKISSON\", \"ALEXANDRA GRISSIM\", \"SHEENA SIMON\", \"SAMANTHA DOBLER\", \"GRETCHEN BURCHETT\", \"CAROLYN BOND\", \"ASHLEY CASTLE\", \"STEPHANIE WHITE\", \"NATALIE GOMEZ\", \"ANDREA YOUNG\", \"KATHARINE PEEL\", \"JESSICA BARNWELL\", \"CHRISTINE SMITH\", \"LATONYA RODGERS\", \"ELLEN FERRELL\", \"SUSAN ELLIOTT\", \"JESSICA WISEMAN\", \"DANIELLE GRAHAM\", \"LAURA STILES\", \"JESSICA JERNIGAN\", \"JOSIE TAPPEL\", \"MADELINE STOFFER\", \"JUSTIN REED\", \"ALEXIS LEE\", \"MELISSA FRENCH\", \"SABRINA BRIGGS\", \"MERI ARNEY\", \"REGINA BRAGG\", \"MONICKA STEVENSON\", \"CHERUN LYONS\", \"TIFFANY JOHNSON\", \"STEFANIE PALMER\", \"CATHERINE REED\", \"JENNIFER MCCORD\", \"SALLY CLARK\", \"STEPHANIE KAELIN\", \"MARY PELOT\", \"LINDSEY HILL\", \"ELIZABETH PRICE\", \"SALIMAH JONES\", \"NICOLE JONES\", \"MARY FREDERICK\"], \"xaxis\": \"x\", \"y\": [100, 128, 65, 99, 76, 73, 134, 91, 138, 111, 100, 88, 72, 58, 156, 143, 50, 70, 72, 55, 77, 80, 74, 59, 65, 82, 63, 56, 99, 64, 107, 97, 148, 74, 47, 112, 146, 112, 75, 153, 101, 164, 105], \"yaxis\": \"y\"}, {\"hovertemplate\": \"to_facility=MIDDLE TENNESSEE HOSPITALIST<br>from_physician=%{x}<br>patient_count=%{y}<extra></extra>\", \"legendgroup\": \"MIDDLE TENNESSEE HOSPITALIST\", \"marker\": {\"color\": \"#FF6692\", \"symbol\": \"circle\"}, \"mode\": \"markers\", \"name\": \"MIDDLE TENNESSEE HOSPITALIST\", \"showlegend\": true, \"type\": \"scattergl\", \"x\": [\"JOSEPH WILLIAMS\", \"MARY BACIGALUPO\"], \"xaxis\": \"x\", \"y\": [288, 255], \"yaxis\": \"y\"}, {\"hovertemplate\": \"to_facility=SWEET DREAMS ANESTHESIA INC<br>from_physician=%{x}<br>patient_count=%{y}<extra></extra>\", \"legendgroup\": \"SWEET DREAMS ANESTHESIA INC\", \"marker\": {\"color\": \"#B6E880\", \"symbol\": \"circle\"}, \"mode\": \"markers\", \"name\": \"SWEET DREAMS ANESTHESIA INC\", \"showlegend\": true, \"type\": \"scattergl\", \"x\": [\"DAVID CARTER\", \"DEREK PRICE\", \"RACHEL BROWN\", \"KATHERINE COOPER\", \"CLINTON FLETCHER\"], \"xaxis\": \"x\", \"y\": [254, 536, 106, 72, 580], \"yaxis\": \"y\"}, {\"hovertemplate\": \"to_facility=TENNESSEE ORTHOPAEDIC ALLIANCE PA<br>from_physician=%{x}<br>patient_count=%{y}<extra></extra>\", \"legendgroup\": \"TENNESSEE ORTHOPAEDIC ALLIANCE PA\", \"marker\": {\"color\": \"#FF97FF\", \"symbol\": \"circle\"}, \"mode\": \"markers\", \"name\": \"TENNESSEE ORTHOPAEDIC ALLIANCE PA\", \"showlegend\": true, \"type\": \"scattergl\", \"x\": [\"STEPHEN HAY\", \"PAULINE KIMBRO-DI PROJETTO\", \"AMANDA LOOS\", \"STEPHANIE STANFORD\", \"TIMOTHY THOMAS\", \"CORY GIBSON\", \"JEFFREY SIMON\", \"JESSICA TRAUTSCHOLD\", \"JEFFREY WINSLOW\", \"DOUGLAS PERRY\", \"PATRICIA HARVEY\", \"SHEILA DYER\", \"JENNIFER WALLINE\", \"JILL STINSON\", \"DANIEL GRIFFITH\", \"KARA MILLER\", \"EMILY ANDRY\", \"MARK GARNER\", \"ANGELA WHITTAKER\", \"STEPHEN LOYD\", \"LEON TOYE\", \"AMANDA PRINCE\", \"NATHAN HOOD\", \"TIMOTHY STEWART\", \"AREND BOLTHOUSE\", \"DAVID BRYANT\", \"BETSY COMPTON\", \"KEITH PURINO\", \"JIMMY PHILLIPS\", \"MARY RICHARDSON\", \"STEPHEN QUINN\", \"BEVERLY GRAVES\", \"ANDRIA HUSTON\", \"ELIZABETH BAKOS\", \"JENNY KEMP\", \"PHILIP COOGAN\", \"ANNA NORFLEET\", \"ALEX MCCURRY\", \"AIMEE CASTEEL\", \"LAURA BONFIGLIO\", \"SARAH LAWSON\", \"MICHAEL MCGINNIS\", \"MARK AWH\", \"ROBERT SMODIC\", \"CLAYTON WOODS\", \"ERIN CORNELL\", \"LOGAN HECKERT\", \"STEPHEN CRAIG\", \"KYLE COMPTON\", \"MOLLY NOBLE\", \"BENJAMIN EYER\"], \"xaxis\": \"x\", \"y\": [134, 39, 43, 81, 46, 102, 281, 64, 58, 196, 81, 98, 97, 66, 129, 42, 83, 110, 103, 86, 69, 80, 122, 165, 62, 98, 59, 275, 110, 314, 328, 88, 92, 617, 81, 452, 97, 26, 101, 37, 50, 108, 50, 61, 94, 39, 18, 88, 53, 59, 162], \"yaxis\": \"y\"}, {\"hovertemplate\": \"to_facility=NASHVILLE VISION ASSOCIATES, PLC<br>from_physician=%{x}<br>patient_count=%{y}<extra></extra>\", \"legendgroup\": \"NASHVILLE VISION ASSOCIATES, PLC\", \"marker\": {\"color\": \"#FECB52\", \"symbol\": \"circle\"}, \"mode\": \"markers\", \"name\": \"NASHVILLE VISION ASSOCIATES, PLC\", \"showlegend\": true, \"type\": \"scattergl\", \"x\": [\"REBECCA TAYLOR\", \"INEZ BOUNDS\", \"GARY JERKINS\", \"FRANK SCOTT\"], \"xaxis\": \"x\", \"y\": [809, 663, 1394, 1199], \"yaxis\": \"y\"}, {\"hovertemplate\": \"to_facility=NOVO HEALTHCARE, LLC<br>from_physician=%{x}<br>patient_count=%{y}<extra></extra>\", \"legendgroup\": \"NOVO HEALTHCARE, LLC\", \"marker\": {\"color\": \"#636efa\", \"symbol\": \"circle\"}, \"mode\": \"markers\", \"name\": \"NOVO HEALTHCARE, LLC\", \"showlegend\": true, \"type\": \"scattergl\", \"x\": [\"WINDLE MORGAN\"], \"xaxis\": \"x\", \"y\": [111], \"yaxis\": \"y\"}, {\"hovertemplate\": \"to_facility=TENNESSEE WOMEN'S CARE, PC<br>from_physician=%{x}<br>patient_count=%{y}<extra></extra>\", \"legendgroup\": \"TENNESSEE WOMEN'S CARE, PC\", \"marker\": {\"color\": \"#EF553B\", \"symbol\": \"circle\"}, \"mode\": \"markers\", \"name\": \"TENNESSEE WOMEN'S CARE, PC\", \"showlegend\": true, \"type\": \"scattergl\", \"x\": [\"JEFFREY DRAUGHN\", \"CAROL MCCULLOUGH\", \"MELANIE DUNN\", \"ROY BURCH\", \"KATHERINE HANEY\", \"RICHARD PRESLEY\", \"FREDERICK FINKE\", \"ELIZABETH OLDFIELD\", \"KIMBERLY HUNT\", \"LISA JABUSCH\", \"BRYAN KURTZ\", \"LEWIS BELLARDO\", \"VARALAXMI DASARI\"], \"xaxis\": \"x\", \"y\": [64, 152, 179, 64, 173, 98, 61, 382, 77, 52, 83, 178, 604], \"yaxis\": \"y\"}, {\"hovertemplate\": \"to_facility=TOMMY J. DUCKLO, OD PC<br>from_physician=%{x}<br>patient_count=%{y}<extra></extra>\", \"legendgroup\": \"TOMMY J. DUCKLO, OD PC\", \"marker\": {\"color\": \"#00cc96\", \"symbol\": \"circle\"}, \"mode\": \"markers\", \"name\": \"TOMMY J. DUCKLO, OD PC\", \"showlegend\": true, \"type\": \"scattergl\", \"x\": [\"NICOLE LEMONCELLI\", \"SARAH ROOS\", \"TOMMY DUCKLO\"], \"xaxis\": \"x\", \"y\": [68, 47, 276], \"yaxis\": \"y\"}, {\"hovertemplate\": \"to_facility=AFFINITY HEALTHCARE, PLLC<br>from_physician=%{x}<br>patient_count=%{y}<extra></extra>\", \"legendgroup\": \"AFFINITY HEALTHCARE, PLLC\", \"marker\": {\"color\": \"#ab63fa\", \"symbol\": \"circle\"}, \"mode\": \"markers\", \"name\": \"AFFINITY HEALTHCARE, PLLC\", \"showlegend\": true, \"type\": \"scattergl\", \"x\": [\"DANELLE FARMER\"], \"xaxis\": \"x\", \"y\": [12], \"yaxis\": \"y\"}, {\"hovertemplate\": \"to_facility=COLUMBIA WOMEN'S CLINIC, LLC<br>from_physician=%{x}<br>patient_count=%{y}<extra></extra>\", \"legendgroup\": \"COLUMBIA WOMEN'S CLINIC, LLC\", \"marker\": {\"color\": \"#FFA15A\", \"symbol\": \"circle\"}, \"mode\": \"markers\", \"name\": \"COLUMBIA WOMEN'S CLINIC, LLC\", \"showlegend\": true, \"type\": \"scattergl\", \"x\": [\"JULIA STALEY\"], \"xaxis\": \"x\", \"y\": [109], \"yaxis\": \"y\"}, {\"hovertemplate\": \"to_facility=MIDDLE TENNESSEE FAMILY MEDICINE<br>from_physician=%{x}<br>patient_count=%{y}<extra></extra>\", \"legendgroup\": \"MIDDLE TENNESSEE FAMILY MEDICINE\", \"marker\": {\"color\": \"#19d3f3\", \"symbol\": \"circle\"}, \"mode\": \"markers\", \"name\": \"MIDDLE TENNESSEE FAMILY MEDICINE\", \"showlegend\": true, \"type\": \"scattergl\", \"x\": [\"KRISTINE SHERMAN\", \"MEGAN MARTIN\", \"JANET HANNAH\", \"ROBERT WEBER\", \"KRISTA CRABTREE\"], \"xaxis\": \"x\", \"y\": [87, 168, 173, 185, 64], \"yaxis\": \"y\"}, {\"hovertemplate\": \"to_facility=MICHELLE KIM NGUYEN, MD, PC<br>from_physician=%{x}<br>patient_count=%{y}<extra></extra>\", \"legendgroup\": \"MICHELLE KIM NGUYEN, MD, PC\", \"marker\": {\"color\": \"#FF6692\", \"symbol\": \"circle\"}, \"mode\": \"markers\", \"name\": \"MICHELLE KIM NGUYEN, MD, PC\", \"showlegend\": true, \"type\": \"scattergl\", \"x\": [\"MICHELLE NGUYEN\"], \"xaxis\": \"x\", \"y\": [443], \"yaxis\": \"y\"}, {\"hovertemplate\": \"to_facility=GRACE-FULL HEALTHCARE<br>from_physician=%{x}<br>patient_count=%{y}<extra></extra>\", \"legendgroup\": \"GRACE-FULL HEALTHCARE\", \"marker\": {\"color\": \"#B6E880\", \"symbol\": \"circle\"}, \"mode\": \"markers\", \"name\": \"GRACE-FULL HEALTHCARE\", \"showlegend\": true, \"type\": \"scattergl\", \"x\": [\"KATHY MITCHELL\"], \"xaxis\": \"x\", \"y\": [65], \"yaxis\": \"y\"}, {\"hovertemplate\": \"to_facility=BOWDOIN G. SMITH D.O.,P.C.<br>from_physician=%{x}<br>patient_count=%{y}<extra></extra>\", \"legendgroup\": \"BOWDOIN G. SMITH D.O.,P.C.\", \"marker\": {\"color\": \"#FF97FF\", \"symbol\": \"circle\"}, \"mode\": \"markers\", \"name\": \"BOWDOIN G. SMITH D.O.,P.C.\", \"showlegend\": true, \"type\": \"scattergl\", \"x\": [\"BOWDOIN SMITH\"], \"xaxis\": \"x\", \"y\": [227], \"yaxis\": \"y\"}, {\"hovertemplate\": \"to_facility=COLUMBIA MEDICAL GROUP - THE FRIST CLINIC INC<br>from_physician=%{x}<br>patient_count=%{y}<extra></extra>\", \"legendgroup\": \"COLUMBIA MEDICAL GROUP - THE FRIST CLINIC INC\", \"marker\": {\"color\": \"#FECB52\", \"symbol\": \"circle\"}, \"mode\": \"markers\", \"name\": \"COLUMBIA MEDICAL GROUP - THE FRIST CLINIC INC\", \"showlegend\": true, \"type\": \"scattergl\", \"x\": [\"MEGAN HOPKINS\", \"LYNDSEY OXFORD\"], \"xaxis\": \"x\", \"y\": [350, 266], \"yaxis\": \"y\"}, {\"hovertemplate\": \"to_facility=AFFILIATED DERMATOLOGISTS OF GREEN HILLS PC<br>from_physician=%{x}<br>patient_count=%{y}<extra></extra>\", \"legendgroup\": \"AFFILIATED DERMATOLOGISTS OF GREEN HILLS PC\", \"marker\": {\"color\": \"#636efa\", \"symbol\": \"circle\"}, \"mode\": \"markers\", \"name\": \"AFFILIATED DERMATOLOGISTS OF GREEN HILLS PC\", \"showlegend\": true, \"type\": \"scattergl\", \"x\": [\"MESHELLE HOWD\", \"CARLA RETIEF\"], \"xaxis\": \"x\", \"y\": [108, 409], \"yaxis\": \"y\"}, {\"hovertemplate\": \"to_facility=CARTHAGE FAMILY CHIROPRACTIC<br>from_physician=%{x}<br>patient_count=%{y}<extra></extra>\", \"legendgroup\": \"CARTHAGE FAMILY CHIROPRACTIC\", \"marker\": {\"color\": \"#EF553B\", \"symbol\": \"circle\"}, \"mode\": \"markers\", \"name\": \"CARTHAGE FAMILY CHIROPRACTIC\", \"showlegend\": true, \"type\": \"scattergl\", \"x\": [\"MELANIE CRUZ\"], \"xaxis\": \"x\", \"y\": [57], \"yaxis\": \"y\"}, {\"hovertemplate\": \"to_facility=SOUTHERN PHYSICAL THERAPY, LLC<br>from_physician=%{x}<br>patient_count=%{y}<extra></extra>\", \"legendgroup\": \"SOUTHERN PHYSICAL THERAPY, LLC\", \"marker\": {\"color\": \"#00cc96\", \"symbol\": \"circle\"}, \"mode\": \"markers\", \"name\": \"SOUTHERN PHYSICAL THERAPY, LLC\", \"showlegend\": true, \"type\": \"scattergl\", \"x\": [\"WILLIAM MASTALERZ\"], \"xaxis\": \"x\", \"y\": [150], \"yaxis\": \"y\"}, {\"hovertemplate\": \"to_facility=TOTAL FAMILY PHYSICIANS CENTER<br>from_physician=%{x}<br>patient_count=%{y}<extra></extra>\", \"legendgroup\": \"TOTAL FAMILY PHYSICIANS CENTER\", \"marker\": {\"color\": \"#ab63fa\", \"symbol\": \"circle\"}, \"mode\": \"markers\", \"name\": \"TOTAL FAMILY PHYSICIANS CENTER\", \"showlegend\": true, \"type\": \"scattergl\", \"x\": [\"AMBRE MAZE\"], \"xaxis\": \"x\", \"y\": [85], \"yaxis\": \"y\"}, {\"hovertemplate\": \"to_facility=ANYCARE LLC<br>from_physician=%{x}<br>patient_count=%{y}<extra></extra>\", \"legendgroup\": \"ANYCARE LLC\", \"marker\": {\"color\": \"#FFA15A\", \"symbol\": \"circle\"}, \"mode\": \"markers\", \"name\": \"ANYCARE LLC\", \"showlegend\": true, \"type\": \"scattergl\", \"x\": [\"LAURA STANLEY\", \"CHASITY BLALOCK\", \"CHRISTINE KOWAL\"], \"xaxis\": \"x\", \"y\": [81, 100, 122], \"yaxis\": \"y\"}, {\"hovertemplate\": \"to_facility=ROBERTSON COUNTY PHYSICAL MEDICINE LLC<br>from_physician=%{x}<br>patient_count=%{y}<extra></extra>\", \"legendgroup\": \"ROBERTSON COUNTY PHYSICAL MEDICINE LLC\", \"marker\": {\"color\": \"#19d3f3\", \"symbol\": \"circle\"}, \"mode\": \"markers\", \"name\": \"ROBERTSON COUNTY PHYSICAL MEDICINE LLC\", \"showlegend\": true, \"type\": \"scattergl\", \"x\": [\"CHRIS JACKSON\", \"WAYNE MOORE\"], \"xaxis\": \"x\", \"y\": [61, 31], \"yaxis\": \"y\"}, {\"hovertemplate\": \"to_facility=VCP 2 NASHVILLE PC<br>from_physician=%{x}<br>patient_count=%{y}<extra></extra>\", \"legendgroup\": \"VCP 2 NASHVILLE PC\", \"marker\": {\"color\": \"#FF6692\", \"symbol\": \"circle\"}, \"mode\": \"markers\", \"name\": \"VCP 2 NASHVILLE PC\", \"showlegend\": true, \"type\": \"scattergl\", \"x\": [\"DEBORAH MCNIEL\", \"STEPHEN DAVIS\"], \"xaxis\": \"x\", \"y\": [52, 46], \"yaxis\": \"y\"}, {\"hovertemplate\": \"to_facility=MADISON BEHAVIORAL HEALTH, LLC<br>from_physician=%{x}<br>patient_count=%{y}<extra></extra>\", \"legendgroup\": \"MADISON BEHAVIORAL HEALTH, LLC\", \"marker\": {\"color\": \"#B6E880\", \"symbol\": \"circle\"}, \"mode\": \"markers\", \"name\": \"MADISON BEHAVIORAL HEALTH, LLC\", \"showlegend\": true, \"type\": \"scattergl\", \"x\": [\"DANIEL KENNEDY\", \"ANTHONY EKWO\", \"CHANDRA KRISHNASASTRY\"], \"xaxis\": \"x\", \"y\": [23, 49, 148], \"yaxis\": \"y\"}, {\"hovertemplate\": \"to_facility=AXIS MEDICAL, INC.<br>from_physician=%{x}<br>patient_count=%{y}<extra></extra>\", \"legendgroup\": \"AXIS MEDICAL, INC.\", \"marker\": {\"color\": \"#FF97FF\", \"symbol\": \"circle\"}, \"mode\": \"markers\", \"name\": \"AXIS MEDICAL, INC.\", \"showlegend\": true, \"type\": \"scattergl\", \"x\": [\"PAUL YIM\"], \"xaxis\": \"x\", \"y\": [544], \"yaxis\": \"y\"}, {\"hovertemplate\": \"to_facility=WEST WILSON FAMILY PRACTICE CENTER, P.C.<br>from_physician=%{x}<br>patient_count=%{y}<extra></extra>\", \"legendgroup\": \"WEST WILSON FAMILY PRACTICE CENTER, P.C.\", \"marker\": {\"color\": \"#FECB52\", \"symbol\": \"circle\"}, \"mode\": \"markers\", \"name\": \"WEST WILSON FAMILY PRACTICE CENTER, P.C.\", \"showlegend\": true, \"type\": \"scattergl\", \"x\": [\"MARTHE-SOPHIE LAGUEUX\"], \"xaxis\": \"x\", \"y\": [302], \"yaxis\": \"y\"}, {\"hovertemplate\": \"to_facility=OPTICAL INVESTMENT INC.<br>from_physician=%{x}<br>patient_count=%{y}<extra></extra>\", \"legendgroup\": \"OPTICAL INVESTMENT INC.\", \"marker\": {\"color\": \"#636efa\", \"symbol\": \"circle\"}, \"mode\": \"markers\", \"name\": \"OPTICAL INVESTMENT INC.\", \"showlegend\": true, \"type\": \"scattergl\", \"x\": [\"STANLEY DICKERSON\"], \"xaxis\": \"x\", \"y\": [340], \"yaxis\": \"y\"}, {\"hovertemplate\": \"to_facility=DOUBLE LUNG PC<br>from_physician=%{x}<br>patient_count=%{y}<extra></extra>\", \"legendgroup\": \"DOUBLE LUNG PC\", \"marker\": {\"color\": \"#EF553B\", \"symbol\": \"circle\"}, \"mode\": \"markers\", \"name\": \"DOUBLE LUNG PC\", \"showlegend\": true, \"type\": \"scattergl\", \"x\": [\"LARRY BURCHARD\"], \"xaxis\": \"x\", \"y\": [23], \"yaxis\": \"y\"}, {\"hovertemplate\": \"to_facility=BOOMERSHINE WELLNESS CENTERS, PLC<br>from_physician=%{x}<br>patient_count=%{y}<extra></extra>\", \"legendgroup\": \"BOOMERSHINE WELLNESS CENTERS, PLC\", \"marker\": {\"color\": \"#00cc96\", \"symbol\": \"circle\"}, \"mode\": \"markers\", \"name\": \"BOOMERSHINE WELLNESS CENTERS, PLC\", \"showlegend\": true, \"type\": \"scattergl\", \"x\": [\"CHAD BOOMERSHINE\"], \"xaxis\": \"x\", \"y\": [58], \"yaxis\": \"y\"}, {\"hovertemplate\": \"to_facility=MEDICAL GROUP - SOUTHERN HILLS OF BRENTWOOD LLC<br>from_physician=%{x}<br>patient_count=%{y}<extra></extra>\", \"legendgroup\": \"MEDICAL GROUP - SOUTHERN HILLS OF BRENTWOOD LLC\", \"marker\": {\"color\": \"#ab63fa\", \"symbol\": \"circle\"}, \"mode\": \"markers\", \"name\": \"MEDICAL GROUP - SOUTHERN HILLS OF BRENTWOOD LLC\", \"showlegend\": true, \"type\": \"scattergl\", \"x\": [\"SHANNON MCDONALD\"], \"xaxis\": \"x\", \"y\": [71], \"yaxis\": \"y\"}, {\"hovertemplate\": \"to_facility=LIFEWAY CHIROPRACTIC<br>from_physician=%{x}<br>patient_count=%{y}<extra></extra>\", \"legendgroup\": \"LIFEWAY CHIROPRACTIC\", \"marker\": {\"color\": \"#FFA15A\", \"symbol\": \"circle\"}, \"mode\": \"markers\", \"name\": \"LIFEWAY CHIROPRACTIC\", \"showlegend\": true, \"type\": \"scattergl\", \"x\": [\"LINDSEY LICTUS\", \"GILLIAN GUIN\"], \"xaxis\": \"x\", \"y\": [30, 34], \"yaxis\": \"y\"}, {\"hovertemplate\": \"to_facility=TOTTY CHIROPRACTIC OF MT. JULIET, PLLC<br>from_physician=%{x}<br>patient_count=%{y}<extra></extra>\", \"legendgroup\": \"TOTTY CHIROPRACTIC OF MT. JULIET, PLLC\", \"marker\": {\"color\": \"#19d3f3\", \"symbol\": \"circle\"}, \"mode\": \"markers\", \"name\": \"TOTTY CHIROPRACTIC OF MT. JULIET, PLLC\", \"showlegend\": true, \"type\": \"scattergl\", \"x\": [\"ELIZABETH TOTTY\", \"DEREK TOTTY\"], \"xaxis\": \"x\", \"y\": [24, 40], \"yaxis\": \"y\"}, {\"hovertemplate\": \"to_facility=SUMNER MEDICAL GROUP, PLLC<br>from_physician=%{x}<br>patient_count=%{y}<extra></extra>\", \"legendgroup\": \"SUMNER MEDICAL GROUP, PLLC\", \"marker\": {\"color\": \"#FF6692\", \"symbol\": \"circle\"}, \"mode\": \"markers\", \"name\": \"SUMNER MEDICAL GROUP, PLLC\", \"showlegend\": true, \"type\": \"scattergl\", \"x\": [\"SONYA REID\"], \"xaxis\": \"x\", \"y\": [93], \"yaxis\": \"y\"}, {\"hovertemplate\": \"to_facility=NASHVILLE ACUTE TRAUMA LLC<br>from_physician=%{x}<br>patient_count=%{y}<extra></extra>\", \"legendgroup\": \"NASHVILLE ACUTE TRAUMA LLC\", \"marker\": {\"color\": \"#B6E880\", \"symbol\": \"circle\"}, \"mode\": \"markers\", \"name\": \"NASHVILLE ACUTE TRAUMA LLC\", \"showlegend\": true, \"type\": \"scattergl\", \"x\": [\"HERBERT HOPPER\"], \"xaxis\": \"x\", \"y\": [37], \"yaxis\": \"y\"}, {\"hovertemplate\": \"to_facility=PREMIER FOOTCARE PC<br>from_physician=%{x}<br>patient_count=%{y}<extra></extra>\", \"legendgroup\": \"PREMIER FOOTCARE PC\", \"marker\": {\"color\": \"#FF97FF\", \"symbol\": \"circle\"}, \"mode\": \"markers\", \"name\": \"PREMIER FOOTCARE PC\", \"showlegend\": true, \"type\": \"scattergl\", \"x\": [\"LARELYN CREAR\"], \"xaxis\": \"x\", \"y\": [95], \"yaxis\": \"y\"}, {\"hovertemplate\": \"to_facility=MT JULIET FAMILY VISION CENTER<br>from_physician=%{x}<br>patient_count=%{y}<extra></extra>\", \"legendgroup\": \"MT JULIET FAMILY VISION CENTER\", \"marker\": {\"color\": \"#FECB52\", \"symbol\": \"circle\"}, \"mode\": \"markers\", \"name\": \"MT JULIET FAMILY VISION CENTER\", \"showlegend\": true, \"type\": \"scattergl\", \"x\": [\"MICHAEL DAVIS\", \"KEVIN DAVIS\", \"PETER DAVIS\"], \"xaxis\": \"x\", \"y\": [87, 98, 106], \"yaxis\": \"y\"}, {\"hovertemplate\": \"to_facility=FAMILY PRACTICE PARTNERS, P.C.<br>from_physician=%{x}<br>patient_count=%{y}<extra></extra>\", \"legendgroup\": \"FAMILY PRACTICE PARTNERS, P.C.\", \"marker\": {\"color\": \"#636efa\", \"symbol\": \"circle\"}, \"mode\": \"markers\", \"name\": \"FAMILY PRACTICE PARTNERS, P.C.\", \"showlegend\": true, \"type\": \"scattergl\", \"x\": [\"SUSAN ANDREWS\", \"CHRISTINE HOFFMAN\", \"RANDALL RICKARD\"], \"xaxis\": \"x\", \"y\": [141, 52, 160], \"yaxis\": \"y\"}, {\"hovertemplate\": \"to_facility=SLEEP CENTERS OF MIDDLE TENNESSEE LLC<br>from_physician=%{x}<br>patient_count=%{y}<extra></extra>\", \"legendgroup\": \"SLEEP CENTERS OF MIDDLE TENNESSEE LLC\", \"marker\": {\"color\": \"#EF553B\", \"symbol\": \"circle\"}, \"mode\": \"markers\", \"name\": \"SLEEP CENTERS OF MIDDLE TENNESSEE LLC\", \"showlegend\": true, \"type\": \"scattergl\", \"x\": [\"WENDY RHIM\", \"DAVID HUBBARD\", \"LINDSAY WHITE\", \"WILLIAM NOAH\", \"KLHEE BANG\"], \"xaxis\": \"x\", \"y\": [141, 467, 475, 488, 483], \"yaxis\": \"y\"}, {\"hovertemplate\": \"to_facility=STAGE TWO ANESTHESIA PLLC<br>from_physician=%{x}<br>patient_count=%{y}<extra></extra>\", \"legendgroup\": \"STAGE TWO ANESTHESIA PLLC\", \"marker\": {\"color\": \"#00cc96\", \"symbol\": \"circle\"}, \"mode\": \"markers\", \"name\": \"STAGE TWO ANESTHESIA PLLC\", \"showlegend\": true, \"type\": \"scattergl\", \"x\": [\"JAMES RAY\", \"DONALD PHILLIPS\", \"NANCY WHITTINGTON\", \"JAMIE MORRISON\", \"VICTOR MARTIN\"], \"xaxis\": \"x\", \"y\": [205, 448, 85, 150, 538], \"yaxis\": \"y\"}, {\"hovertemplate\": \"to_facility=RETINA CONSULTANTS OF NASHVILLE<br>from_physician=%{x}<br>patient_count=%{y}<extra></extra>\", \"legendgroup\": \"RETINA CONSULTANTS OF NASHVILLE\", \"marker\": {\"color\": \"#ab63fa\", \"symbol\": \"circle\"}, \"mode\": \"markers\", \"name\": \"RETINA CONSULTANTS OF NASHVILLE\", \"showlegend\": true, \"type\": \"scattergl\", \"x\": [\"MARCUS SOLOMON\", \"STEPHEN GRINDE\"], \"xaxis\": \"x\", \"y\": [1046, 1444], \"yaxis\": \"y\"}, {\"hovertemplate\": \"to_facility=WANG VISION INSTITUTE, PLLC<br>from_physician=%{x}<br>patient_count=%{y}<extra></extra>\", \"legendgroup\": \"WANG VISION INSTITUTE, PLLC\", \"marker\": {\"color\": \"#FFA15A\", \"symbol\": \"circle\"}, \"mode\": \"markers\", \"name\": \"WANG VISION INSTITUTE, PLLC\", \"showlegend\": true, \"type\": \"scattergl\", \"x\": [\"JAMES RAY\", \"MING WANG\", \"SARAH CONNOLLY\", \"NATHAN ROCK\", \"DAVID ZIMMERMAN\"], \"xaxis\": \"x\", \"y\": [96, 471, 355, 404, 453], \"yaxis\": \"y\"}, {\"hovertemplate\": \"to_facility=DOCTORS URGENT CARE LLC<br>from_physician=%{x}<br>patient_count=%{y}<extra></extra>\", \"legendgroup\": \"DOCTORS URGENT CARE LLC\", \"marker\": {\"color\": \"#19d3f3\", \"symbol\": \"circle\"}, \"mode\": \"markers\", \"name\": \"DOCTORS URGENT CARE LLC\", \"showlegend\": true, \"type\": \"scattergl\", \"x\": [\"MARTIN NWOSU\"], \"xaxis\": \"x\", \"y\": [104], \"yaxis\": \"y\"}, {\"hovertemplate\": \"to_facility=THE NEUROLOGY GROUP PC<br>from_physician=%{x}<br>patient_count=%{y}<extra></extra>\", \"legendgroup\": \"THE NEUROLOGY GROUP PC\", \"marker\": {\"color\": \"#FF6692\", \"symbol\": \"circle\"}, \"mode\": \"markers\", \"name\": \"THE NEUROLOGY GROUP PC\", \"showlegend\": true, \"type\": \"scattergl\", \"x\": [\"SHANTI THIRUMALAI\"], \"xaxis\": \"x\", \"y\": [173], \"yaxis\": \"y\"}, {\"hovertemplate\": \"to_facility=DONNELLY PHYSICAL THERAPY, INC.<br>from_physician=%{x}<br>patient_count=%{y}<extra></extra>\", \"legendgroup\": \"DONNELLY PHYSICAL THERAPY, INC.\", \"marker\": {\"color\": \"#B6E880\", \"symbol\": \"circle\"}, \"mode\": \"markers\", \"name\": \"DONNELLY PHYSICAL THERAPY, INC.\", \"showlegend\": true, \"type\": \"scattergl\", \"x\": [\"AMY SELF\", \"ANNE BUNNY WOLF\"], \"xaxis\": \"x\", \"y\": [144, 207], \"yaxis\": \"y\"}, {\"hovertemplate\": \"to_facility=DANIEL K BREGMAN MD PC<br>from_physician=%{x}<br>patient_count=%{y}<extra></extra>\", \"legendgroup\": \"DANIEL K BREGMAN MD PC\", \"marker\": {\"color\": \"#FF97FF\", \"symbol\": \"circle\"}, \"mode\": \"markers\", \"name\": \"DANIEL K BREGMAN MD PC\", \"showlegend\": true, \"type\": \"scattergl\", \"x\": [\"JAMES RAY\", \"DANIEL BREGMAN\"], \"xaxis\": \"x\", \"y\": [59, 1128], \"yaxis\": \"y\"}, {\"hovertemplate\": \"to_facility=MIDDLE TN CLINIC OF CHIROPRACTIC<br>from_physician=%{x}<br>patient_count=%{y}<extra></extra>\", \"legendgroup\": \"MIDDLE TN CLINIC OF CHIROPRACTIC\", \"marker\": {\"color\": \"#FECB52\", \"symbol\": \"circle\"}, \"mode\": \"markers\", \"name\": \"MIDDLE TN CLINIC OF CHIROPRACTIC\", \"showlegend\": true, \"type\": \"scattergl\", \"x\": [\"STEPHANIE FORTNEY\"], \"xaxis\": \"x\", \"y\": [34], \"yaxis\": \"y\"}, {\"hovertemplate\": \"to_facility=INTEGRATED HEALTH CENTER, INC<br>from_physician=%{x}<br>patient_count=%{y}<extra></extra>\", \"legendgroup\": \"INTEGRATED HEALTH CENTER, INC\", \"marker\": {\"color\": \"#636efa\", \"symbol\": \"circle\"}, \"mode\": \"markers\", \"name\": \"INTEGRATED HEALTH CENTER, INC\", \"showlegend\": true, \"type\": \"scattergl\", \"x\": [\"MARIO MILANI\", \"LARA MILANI\"], \"xaxis\": \"x\", \"y\": [74, 13], \"yaxis\": \"y\"}, {\"hovertemplate\": \"to_facility=ATHENA CONSULTING AND PSYCHOLOGICAL SERVICES, LLC<br>from_physician=%{x}<br>patient_count=%{y}<extra></extra>\", \"legendgroup\": \"ATHENA CONSULTING AND PSYCHOLOGICAL SERVICES, LLC\", \"marker\": {\"color\": \"#EF553B\", \"symbol\": \"circle\"}, \"mode\": \"markers\", \"name\": \"ATHENA CONSULTING AND PSYCHOLOGICAL SERVICES, LLC\", \"showlegend\": true, \"type\": \"scattergl\", \"x\": [\"BRANDON TEEFTALLER\", \"HEATHER JOPPICH\", \"JOAN FRYE\"], \"xaxis\": \"x\", \"y\": [13, 28, 14], \"yaxis\": \"y\"}, {\"hovertemplate\": \"to_facility=CARESPOT OF MT. JULIET (S. MT. JULIET ROAD), LLC<br>from_physician=%{x}<br>patient_count=%{y}<extra></extra>\", \"legendgroup\": \"CARESPOT OF MT. JULIET (S. MT. JULIET ROAD), LLC\", \"marker\": {\"color\": \"#00cc96\", \"symbol\": \"circle\"}, \"mode\": \"markers\", \"name\": \"CARESPOT OF MT. JULIET (S. MT. JULIET ROAD), LLC\", \"showlegend\": true, \"type\": \"scattergl\", \"x\": [\"JADE SKINNER\", \"LANA SPRY\"], \"xaxis\": \"x\", \"y\": [74, 77], \"yaxis\": \"y\"}, {\"hovertemplate\": \"to_facility=THIGPEN HEARING CENTER, PLLC<br>from_physician=%{x}<br>patient_count=%{y}<extra></extra>\", \"legendgroup\": \"THIGPEN HEARING CENTER, PLLC\", \"marker\": {\"color\": \"#ab63fa\", \"symbol\": \"circle\"}, \"mode\": \"markers\", \"name\": \"THIGPEN HEARING CENTER, PLLC\", \"showlegend\": true, \"type\": \"scattergl\", \"x\": [\"PATTI THIGPEN\"], \"xaxis\": \"x\", \"y\": [55], \"yaxis\": \"y\"}, {\"hovertemplate\": \"to_facility=THE SURGICAL CLINIC PLLC<br>from_physician=%{x}<br>patient_count=%{y}<extra></extra>\", \"legendgroup\": \"THE SURGICAL CLINIC PLLC\", \"marker\": {\"color\": \"#FFA15A\", \"symbol\": \"circle\"}, \"mode\": \"markers\", \"name\": \"THE SURGICAL CLINIC PLLC\", \"showlegend\": true, \"type\": \"scattergl\", \"x\": [\"MARK COOPER\"], \"xaxis\": \"x\", \"y\": [255], \"yaxis\": \"y\"}, {\"hovertemplate\": \"to_facility=EYE HEALTH PARTNERS OF MIDDLE TN INC<br>from_physician=%{x}<br>patient_count=%{y}<extra></extra>\", \"legendgroup\": \"EYE HEALTH PARTNERS OF MIDDLE TN INC\", \"marker\": {\"color\": \"#19d3f3\", \"symbol\": \"circle\"}, \"mode\": \"markers\", \"name\": \"EYE HEALTH PARTNERS OF MIDDLE TN INC\", \"showlegend\": true, \"type\": \"scattergl\", \"x\": [\"SACHIE CRAIG\", \"JESSICA LESUEUR\", \"THOMAS TRITSCHLER\"], \"xaxis\": \"x\", \"y\": [290, 125, 169], \"yaxis\": \"y\"}, {\"hovertemplate\": \"to_facility=BAPTIST SURGERY CENTER LP<br>from_physician=%{x}<br>patient_count=%{y}<extra></extra>\", \"legendgroup\": \"BAPTIST SURGERY CENTER LP\", \"marker\": {\"color\": \"#FF6692\", \"symbol\": \"circle\"}, \"mode\": \"markers\", \"name\": \"BAPTIST SURGERY CENTER LP\", \"showlegend\": true, \"type\": \"scattergl\", \"x\": [\"CHRISTINA CASSELMAN\", \"SHEILA DYER\", \"JILL STINSON\", \"KARA WRIGHT\", \"DAVID BRYANT\", \"ROBERT RIEDEL\", \"WILL KENDRICK\"], \"xaxis\": \"x\", \"y\": [56, 111, 76, 80, 104, 61, 166], \"yaxis\": \"y\"}, {\"hovertemplate\": \"to_facility=GILLISPIE EYE CARE PLLC<br>from_physician=%{x}<br>patient_count=%{y}<extra></extra>\", \"legendgroup\": \"GILLISPIE EYE CARE PLLC\", \"marker\": {\"color\": \"#B6E880\", \"symbol\": \"circle\"}, \"mode\": \"markers\", \"name\": \"GILLISPIE EYE CARE PLLC\", \"showlegend\": true, \"type\": \"scattergl\", \"x\": [\"JOHN PINO\", \"JESSICA DITTO\", \"JAMES GILLISPIE\"], \"xaxis\": \"x\", \"y\": [195, 130, 135], \"yaxis\": \"y\"}, {\"hovertemplate\": \"to_facility=MURFREESBORO MEDICAL CLINIC<br>from_physician=%{x}<br>patient_count=%{y}<extra></extra>\", \"legendgroup\": \"MURFREESBORO MEDICAL CLINIC\", \"marker\": {\"color\": \"#FF97FF\", \"symbol\": \"circle\"}, \"mode\": \"markers\", \"name\": \"MURFREESBORO MEDICAL CLINIC\", \"showlegend\": true, \"type\": \"scattergl\", \"x\": [\"SADHISH SIVA\", \"FRANK DROWOTA\", \"MARK WRIGHT\", \"OPHELIA LANGFORD\", \"KARLA LUKER\", \"APRIL WHITFIELD\", \"MARC KUNDAR\", \"PAUL FOSTER\", \"STEPHANIE NOACK\", \"ANDREW FONG\", \"BETH DAVIS\", \"ALLISON DAVENPORT\", \"JOHN KOLISNYK\", \"ANDREW LAMAY\", \"ANGELA HIGGINS\", \"DEBORA RICHMOND\", \"ALBERT KATTINE\", \"ANTHONY CATER\", \"ALLISON CARLTON\", \"SANDRA BARRETT\", \"COLLEEN BRATSCH\", \"BARBARA VOLNER\", \"GREGORY TAYLOR\", \"TRACY STUEBER\", \"RYAN DRUMRIGHT\", \"MARY FULGHUM\", \"BOBBIE GREGG\", \"ANDREA TAYLOR\", \"MOLLY EATON\", \"HOLLIE CASHION\", \"YOLANDO MCGRIFF CHATMAN\", \"ALEXANDRA BIVENS\", \"MARGARET TODD\", \"MARCUS OWEN\", \"JAMES RONE\", \"JOSEPH BOONE\", \"HOPE BROWN\"], \"xaxis\": \"x\", \"y\": [3042, 1452, 444, 232, 379, 93, 312, 200, 377, 2876, 562, 183, 92, 278, 555, 217, 953, 311, 117, 184, 132, 214, 68, 121, 73, 184, 50, 341, 101, 63, 85, 402, 119, 596, 420, 1758, 421], \"yaxis\": \"y\"}, {\"hovertemplate\": \"to_facility=SELF CENTERED WEIGHT LOSS AND WELLNESS OF MURFREESBORO, PLLC<br>from_physician=%{x}<br>patient_count=%{y}<extra></extra>\", \"legendgroup\": \"SELF CENTERED WEIGHT LOSS AND WELLNESS OF MURFREESBORO, PLLC\", \"marker\": {\"color\": \"#FECB52\", \"symbol\": \"circle\"}, \"mode\": \"markers\", \"name\": \"SELF CENTERED WEIGHT LOSS AND WELLNESS OF MURFREESBORO, PLLC\", \"showlegend\": true, \"type\": \"scattergl\", \"x\": [\"VICKI MITCHELL\"], \"xaxis\": \"x\", \"y\": [46], \"yaxis\": \"y\"}, {\"hovertemplate\": \"to_facility=PRIMARY EYECARE GROUP OF COLUMBIA PLLC<br>from_physician=%{x}<br>patient_count=%{y}<extra></extra>\", \"legendgroup\": \"PRIMARY EYECARE GROUP OF COLUMBIA PLLC\", \"marker\": {\"color\": \"#636efa\", \"symbol\": \"circle\"}, \"mode\": \"markers\", \"name\": \"PRIMARY EYECARE GROUP OF COLUMBIA PLLC\", \"showlegend\": true, \"type\": \"scattergl\", \"x\": [\"VICTORIA YOUNG\"], \"xaxis\": \"x\", \"y\": [149], \"yaxis\": \"y\"}, {\"hovertemplate\": \"to_facility=NASHVILLE GENERAL HOSPITAL<br>from_physician=%{x}<br>patient_count=%{y}<extra></extra>\", \"legendgroup\": \"NASHVILLE GENERAL HOSPITAL\", \"marker\": {\"color\": \"#EF553B\", \"symbol\": \"circle\"}, \"mode\": \"markers\", \"name\": \"NASHVILLE GENERAL HOSPITAL\", \"showlegend\": true, \"type\": \"scattergl\", \"x\": [\"PAUL TALLEY\"], \"xaxis\": \"x\", \"y\": [48], \"yaxis\": \"y\"}, {\"hovertemplate\": \"to_facility=INTEGRATED SPINE & JOINT AT WESTHAVEN PLLC<br>from_physician=%{x}<br>patient_count=%{y}<extra></extra>\", \"legendgroup\": \"INTEGRATED SPINE & JOINT AT WESTHAVEN PLLC\", \"marker\": {\"color\": \"#00cc96\", \"symbol\": \"circle\"}, \"mode\": \"markers\", \"name\": \"INTEGRATED SPINE & JOINT AT WESTHAVEN PLLC\", \"showlegend\": true, \"type\": \"scattergl\", \"x\": [\"VICTORIA CROOK\", \"STERLING FOSTER\"], \"xaxis\": \"x\", \"y\": [50, 40], \"yaxis\": \"y\"}, {\"hovertemplate\": \"to_facility=ATLANTIC EEL INPATIENT SERVICES PLLC<br>from_physician=%{x}<br>patient_count=%{y}<extra></extra>\", \"legendgroup\": \"ATLANTIC EEL INPATIENT SERVICES PLLC\", \"marker\": {\"color\": \"#ab63fa\", \"symbol\": \"circle\"}, \"mode\": \"markers\", \"name\": \"ATLANTIC EEL INPATIENT SERVICES PLLC\", \"showlegend\": true, \"type\": \"scattergl\", \"x\": [\"EMILY HEYMANN\", \"VIREN SHAH\", \"HEATHER MCDONALD\"], \"xaxis\": \"x\", \"y\": [91, 63, 102], \"yaxis\": \"y\"}, {\"hovertemplate\": \"to_facility=ANTIOCH EYE CARE CENTER, PHYSICIAN & SURGEON, PLLC<br>from_physician=%{x}<br>patient_count=%{y}<extra></extra>\", \"legendgroup\": \"ANTIOCH EYE CARE CENTER, PHYSICIAN & SURGEON, PLLC\", \"marker\": {\"color\": \"#FFA15A\", \"symbol\": \"circle\"}, \"mode\": \"markers\", \"name\": \"ANTIOCH EYE CARE CENTER, PHYSICIAN & SURGEON, PLLC\", \"showlegend\": true, \"type\": \"scattergl\", \"x\": [\"BENYAMIN EBRAHIM\"], \"xaxis\": \"x\", \"y\": [156], \"yaxis\": \"y\"}, {\"hovertemplate\": \"to_facility=NEUROBEHAVIORAL CONSULTANTS, INC<br>from_physician=%{x}<br>patient_count=%{y}<extra></extra>\", \"legendgroup\": \"NEUROBEHAVIORAL CONSULTANTS, INC\", \"marker\": {\"color\": \"#19d3f3\", \"symbol\": \"circle\"}, \"mode\": \"markers\", \"name\": \"NEUROBEHAVIORAL CONSULTANTS, INC\", \"showlegend\": true, \"type\": \"scattergl\", \"x\": [\"MICHAEL SHAPIRO\"], \"xaxis\": \"x\", \"y\": [51], \"yaxis\": \"y\"}, {\"hovertemplate\": \"to_facility=DALE PILKINTON MD PC<br>from_physician=%{x}<br>patient_count=%{y}<extra></extra>\", \"legendgroup\": \"DALE PILKINTON MD PC\", \"marker\": {\"color\": \"#FF6692\", \"symbol\": \"circle\"}, \"mode\": \"markers\", \"name\": \"DALE PILKINTON MD PC\", \"showlegend\": true, \"type\": \"scattergl\", \"x\": [\"JAMES RAY\", \"ROBERT PILKINTON\", \"DONALD PHILLIPS\"], \"xaxis\": \"x\", \"y\": [144, 1052, 56], \"yaxis\": \"y\"}, {\"hovertemplate\": \"to_facility=MACOURLYN CENTER FOR PLASTIC SURGERY PC<br>from_physician=%{x}<br>patient_count=%{y}<extra></extra>\", \"legendgroup\": \"MACOURLYN CENTER FOR PLASTIC SURGERY PC\", \"marker\": {\"color\": \"#B6E880\", \"symbol\": \"circle\"}, \"mode\": \"markers\", \"name\": \"MACOURLYN CENTER FOR PLASTIC SURGERY PC\", \"showlegend\": true, \"type\": \"scattergl\", \"x\": [\"KERRI WOODBERRY\"], \"xaxis\": \"x\", \"y\": [77], \"yaxis\": \"y\"}, {\"hovertemplate\": \"to_facility=TITAN NEUROPHYSIOLOGY, P.A.<br>from_physician=%{x}<br>patient_count=%{y}<extra></extra>\", \"legendgroup\": \"TITAN NEUROPHYSIOLOGY, P.A.\", \"marker\": {\"color\": \"#FF97FF\", \"symbol\": \"circle\"}, \"mode\": \"markers\", \"name\": \"TITAN NEUROPHYSIOLOGY, P.A.\", \"showlegend\": true, \"type\": \"scattergl\", \"x\": [\"SHANTI THIRUMALAI\"], \"xaxis\": \"x\", \"y\": [216], \"yaxis\": \"y\"}, {\"hovertemplate\": \"to_facility=HERMITAGE PSYCHIATRIC GROUP<br>from_physician=%{x}<br>patient_count=%{y}<extra></extra>\", \"legendgroup\": \"HERMITAGE PSYCHIATRIC GROUP\", \"marker\": {\"color\": \"#FECB52\", \"symbol\": \"circle\"}, \"mode\": \"markers\", \"name\": \"HERMITAGE PSYCHIATRIC GROUP\", \"showlegend\": true, \"type\": \"scattergl\", \"x\": [\"DOUGLAS HERR\", \"SUSAN CARPENTER\", \"ALEXANDER CHALKO\"], \"xaxis\": \"x\", \"y\": [27, 74, 270], \"yaxis\": \"y\"}, {\"hovertemplate\": \"to_facility=CARTER CHIROPRACTIC OFFICES LLC<br>from_physician=%{x}<br>patient_count=%{y}<extra></extra>\", \"legendgroup\": \"CARTER CHIROPRACTIC OFFICES LLC\", \"marker\": {\"color\": \"#636efa\", \"symbol\": \"circle\"}, \"mode\": \"markers\", \"name\": \"CARTER CHIROPRACTIC OFFICES LLC\", \"showlegend\": true, \"type\": \"scattergl\", \"x\": [\"KEVIN CARTER\"], \"xaxis\": \"x\", \"y\": [25], \"yaxis\": \"y\"}, {\"hovertemplate\": \"to_facility=INTERNAL MEDICINE ASSOCIATES LLC<br>from_physician=%{x}<br>patient_count=%{y}<extra></extra>\", \"legendgroup\": \"INTERNAL MEDICINE ASSOCIATES LLC\", \"marker\": {\"color\": \"#EF553B\", \"symbol\": \"circle\"}, \"mode\": \"markers\", \"name\": \"INTERNAL MEDICINE ASSOCIATES LLC\", \"showlegend\": true, \"type\": \"scattergl\", \"x\": [\"UKPONG NWANKWO\"], \"xaxis\": \"x\", \"y\": [202], \"yaxis\": \"y\"}, {\"hovertemplate\": \"to_facility=DRAYER PHYSICAL THERAPY OF TENNESSEE LLC<br>from_physician=%{x}<br>patient_count=%{y}<extra></extra>\", \"legendgroup\": \"DRAYER PHYSICAL THERAPY OF TENNESSEE LLC\", \"marker\": {\"color\": \"#00cc96\", \"symbol\": \"circle\"}, \"mode\": \"markers\", \"name\": \"DRAYER PHYSICAL THERAPY OF TENNESSEE LLC\", \"showlegend\": true, \"type\": \"scattergl\", \"x\": [\"JULIAN MAGEE\", \"BRANDEN FLEISHMAN\", \"BRANDEN FLEISHMAN\", \"BETHANY CARPENTER\", \"VANA MORGAN\"], \"xaxis\": \"x\", \"y\": [58, 30, 21, 29, 50], \"yaxis\": \"y\"}, {\"hovertemplate\": \"to_facility=PSYCH SERVICES LLC<br>from_physician=%{x}<br>patient_count=%{y}<extra></extra>\", \"legendgroup\": \"PSYCH SERVICES LLC\", \"marker\": {\"color\": \"#ab63fa\", \"symbol\": \"circle\"}, \"mode\": \"markers\", \"name\": \"PSYCH SERVICES LLC\", \"showlegend\": true, \"type\": \"scattergl\", \"x\": [\"LEIGH HALLMARK\", \"CAROL WHITTEN\", \"LEZLIE MILEY\", \"WILL COLTHARP\"], \"xaxis\": \"x\", \"y\": [208, 275, 239, 422], \"yaxis\": \"y\"}, {\"hovertemplate\": \"to_facility=COOL SPRINGS INTERVENTIONAL, PLLC<br>from_physician=%{x}<br>patient_count=%{y}<extra></extra>\", \"legendgroup\": \"COOL SPRINGS INTERVENTIONAL, PLLC\", \"marker\": {\"color\": \"#FFA15A\", \"symbol\": \"circle\"}, \"mode\": \"markers\", \"name\": \"COOL SPRINGS INTERVENTIONAL, PLLC\", \"showlegend\": true, \"type\": \"scattergl\", \"x\": [\"MARK SHAW\"], \"xaxis\": \"x\", \"y\": [606], \"yaxis\": \"y\"}, {\"hovertemplate\": \"to_facility=HEALING HANDS CHIROPRACTIC LLC<br>from_physician=%{x}<br>patient_count=%{y}<extra></extra>\", \"legendgroup\": \"HEALING HANDS CHIROPRACTIC LLC\", \"marker\": {\"color\": \"#19d3f3\", \"symbol\": \"circle\"}, \"mode\": \"markers\", \"name\": \"HEALING HANDS CHIROPRACTIC LLC\", \"showlegend\": true, \"type\": \"scattergl\", \"x\": [\"AMANDA BAES\"], \"xaxis\": \"x\", \"y\": [18], \"yaxis\": \"y\"}, {\"hovertemplate\": \"to_facility=TAROLA PLASTIC SURGERY PLLC<br>from_physician=%{x}<br>patient_count=%{y}<extra></extra>\", \"legendgroup\": \"TAROLA PLASTIC SURGERY PLLC\", \"marker\": {\"color\": \"#FF6692\", \"symbol\": \"circle\"}, \"mode\": \"markers\", \"name\": \"TAROLA PLASTIC SURGERY PLLC\", \"showlegend\": true, \"type\": \"scattergl\", \"x\": [\"NICHOLAS TAROLA\"], \"xaxis\": \"x\", \"y\": [66], \"yaxis\": \"y\"}, {\"hovertemplate\": \"to_facility=NASHVILLE ONCOLOGY ASSOCIATES, PC<br>from_physician=%{x}<br>patient_count=%{y}<extra></extra>\", \"legendgroup\": \"NASHVILLE ONCOLOGY ASSOCIATES, PC\", \"marker\": {\"color\": \"#B6E880\", \"symbol\": \"circle\"}, \"mode\": \"markers\", \"name\": \"NASHVILLE ONCOLOGY ASSOCIATES, PC\", \"showlegend\": true, \"type\": \"scattergl\", \"x\": [\"KARL ROGERS\"], \"xaxis\": \"x\", \"y\": [248], \"yaxis\": \"y\"}, {\"hovertemplate\": \"to_facility=BAPTIST PLAZA SURGICARE, LP<br>from_physician=%{x}<br>patient_count=%{y}<extra></extra>\", \"legendgroup\": \"BAPTIST PLAZA SURGICARE, LP\", \"marker\": {\"color\": \"#FF97FF\", \"symbol\": \"circle\"}, \"mode\": \"markers\", \"name\": \"BAPTIST PLAZA SURGICARE, LP\", \"showlegend\": true, \"type\": \"scattergl\", \"x\": [\"JAMES VANDEGRIFT\", \"NEIL PRICE\", \"LINDSEY HORTON\", \"VINCENT JACKSON\", \"ANNETTE OLSEN\"], \"xaxis\": \"x\", \"y\": [61, 254, 49, 196, 189], \"yaxis\": \"y\"}, {\"hovertemplate\": \"to_facility=PSYCHIATRIC CONSULTANTS PC<br>from_physician=%{x}<br>patient_count=%{y}<extra></extra>\", \"legendgroup\": \"PSYCHIATRIC CONSULTANTS PC\", \"marker\": {\"color\": \"#FECB52\", \"symbol\": \"circle\"}, \"mode\": \"markers\", \"name\": \"PSYCHIATRIC CONSULTANTS PC\", \"showlegend\": true, \"type\": \"scattergl\", \"x\": [\"REBECCA DELANEY\"], \"xaxis\": \"x\", \"y\": [61], \"yaxis\": \"y\"}, {\"hovertemplate\": \"to_facility=NASHVILLE GASTROENTEROLOGY AND HEPATOLOGY, PC<br>from_physician=%{x}<br>patient_count=%{y}<extra></extra>\", \"legendgroup\": \"NASHVILLE GASTROENTEROLOGY AND HEPATOLOGY, PC\", \"marker\": {\"color\": \"#636efa\", \"symbol\": \"circle\"}, \"mode\": \"markers\", \"name\": \"NASHVILLE GASTROENTEROLOGY AND HEPATOLOGY, PC\", \"showlegend\": true, \"type\": \"scattergl\", \"x\": [\"JAMES BYLAND\"], \"xaxis\": \"x\", \"y\": [47], \"yaxis\": \"y\"}, {\"hovertemplate\": \"to_facility=PANACEA PSYCHIATRIC CENTER PLC<br>from_physician=%{x}<br>patient_count=%{y}<extra></extra>\", \"legendgroup\": \"PANACEA PSYCHIATRIC CENTER PLC\", \"marker\": {\"color\": \"#EF553B\", \"symbol\": \"circle\"}, \"mode\": \"markers\", \"name\": \"PANACEA PSYCHIATRIC CENTER PLC\", \"showlegend\": true, \"type\": \"scattergl\", \"x\": [\"SHAHANA HUDA\"], \"xaxis\": \"x\", \"y\": [61], \"yaxis\": \"y\"}, {\"hovertemplate\": \"to_facility=RUTHERFORD CLINIC OF CHIROPRACTIC CORP<br>from_physician=%{x}<br>patient_count=%{y}<extra></extra>\", \"legendgroup\": \"RUTHERFORD CLINIC OF CHIROPRACTIC CORP\", \"marker\": {\"color\": \"#00cc96\", \"symbol\": \"circle\"}, \"mode\": \"markers\", \"name\": \"RUTHERFORD CLINIC OF CHIROPRACTIC CORP\", \"showlegend\": true, \"type\": \"scattergl\", \"x\": [\"ARTHUR STEWART\"], \"xaxis\": \"x\", \"y\": [78], \"yaxis\": \"y\"}, {\"hovertemplate\": \"to_facility=FRANKLIN ENDOSCOPY CENTER, LLC<br>from_physician=%{x}<br>patient_count=%{y}<extra></extra>\", \"legendgroup\": \"FRANKLIN ENDOSCOPY CENTER, LLC\", \"marker\": {\"color\": \"#ab63fa\", \"symbol\": \"circle\"}, \"mode\": \"markers\", \"name\": \"FRANKLIN ENDOSCOPY CENTER, LLC\", \"showlegend\": true, \"type\": \"scattergl\", \"x\": [\"TIPTON SNEED\", \"KIP NEUHOFF\", \"AMY WAY\"], \"xaxis\": \"x\", \"y\": [95, 232, 172], \"yaxis\": \"y\"}, {\"hovertemplate\": \"to_facility=PHYSICIAN SERVICES OF MIDDLE TENNESSEE, LLC<br>from_physician=%{x}<br>patient_count=%{y}<extra></extra>\", \"legendgroup\": \"PHYSICIAN SERVICES OF MIDDLE TENNESSEE, LLC\", \"marker\": {\"color\": \"#FFA15A\", \"symbol\": \"circle\"}, \"mode\": \"markers\", \"name\": \"PHYSICIAN SERVICES OF MIDDLE TENNESSEE, LLC\", \"showlegend\": true, \"type\": \"scattergl\", \"x\": [\"CHRISTINE STENGEL\", \"SYDNEY RUBLE\", \"CASEY KEEN\"], \"xaxis\": \"x\", \"y\": [66, 153, 288], \"yaxis\": \"y\"}, {\"hovertemplate\": \"to_facility=ESSENTIAL EYES LLC<br>from_physician=%{x}<br>patient_count=%{y}<extra></extra>\", \"legendgroup\": \"ESSENTIAL EYES LLC\", \"marker\": {\"color\": \"#19d3f3\", \"symbol\": \"circle\"}, \"mode\": \"markers\", \"name\": \"ESSENTIAL EYES LLC\", \"showlegend\": true, \"type\": \"scattergl\", \"x\": [\"THOMAS SNEAD\"], \"xaxis\": \"x\", \"y\": [182], \"yaxis\": \"y\"}, {\"hovertemplate\": \"to_facility=MEDICAL PERSONNEL SERVICES LLC<br>from_physician=%{x}<br>patient_count=%{y}<extra></extra>\", \"legendgroup\": \"MEDICAL PERSONNEL SERVICES LLC\", \"marker\": {\"color\": \"#FF6692\", \"symbol\": \"circle\"}, \"mode\": \"markers\", \"name\": \"MEDICAL PERSONNEL SERVICES LLC\", \"showlegend\": true, \"type\": \"scattergl\", \"x\": [\"NENA EGLI\"], \"xaxis\": \"x\", \"y\": [365], \"yaxis\": \"y\"}, {\"hovertemplate\": \"to_facility=WILLIAM G BOGER MD PLLC<br>from_physician=%{x}<br>patient_count=%{y}<extra></extra>\", \"legendgroup\": \"WILLIAM G BOGER MD PLLC\", \"marker\": {\"color\": \"#B6E880\", \"symbol\": \"circle\"}, \"mode\": \"markers\", \"name\": \"WILLIAM G BOGER MD PLLC\", \"showlegend\": true, \"type\": \"scattergl\", \"x\": [\"WILLIAM BOGER\"], \"xaxis\": \"x\", \"y\": [494], \"yaxis\": \"y\"}, {\"hovertemplate\": \"to_facility=APRIMA, PLLC<br>from_physician=%{x}<br>patient_count=%{y}<extra></extra>\", \"legendgroup\": \"APRIMA, PLLC\", \"marker\": {\"color\": \"#FF97FF\", \"symbol\": \"circle\"}, \"mode\": \"markers\", \"name\": \"APRIMA, PLLC\", \"showlegend\": true, \"type\": \"scattergl\", \"x\": [\"BRAD ALTMAN\"], \"xaxis\": \"x\", \"y\": [85], \"yaxis\": \"y\"}, {\"hovertemplate\": \"to_facility=J. CHRIS BECKMAN MD PLLC<br>from_physician=%{x}<br>patient_count=%{y}<extra></extra>\", \"legendgroup\": \"J. CHRIS BECKMAN MD PLLC\", \"marker\": {\"color\": \"#FECB52\", \"symbol\": \"circle\"}, \"mode\": \"markers\", \"name\": \"J. CHRIS BECKMAN MD PLLC\", \"showlegend\": true, \"type\": \"scattergl\", \"x\": [\"JUDY LOWE\", \"LISA GEORGE\", \"DEBORAH BOLES\"], \"xaxis\": \"x\", \"y\": [148, 166, 179], \"yaxis\": \"y\"}, {\"hovertemplate\": \"to_facility=HAROLD T AKIN, MD PC<br>from_physician=%{x}<br>patient_count=%{y}<extra></extra>\", \"legendgroup\": \"HAROLD T AKIN, MD PC\", \"marker\": {\"color\": \"#636efa\", \"symbol\": \"circle\"}, \"mode\": \"markers\", \"name\": \"HAROLD T AKIN, MD PC\", \"showlegend\": true, \"type\": \"scattergl\", \"x\": [\"HAROLD AKIN\"], \"xaxis\": \"x\", \"y\": [812], \"yaxis\": \"y\"}, {\"hovertemplate\": \"to_facility=IN MOTION SPINE & JOINT CENTER, INC.<br>from_physician=%{x}<br>patient_count=%{y}<extra></extra>\", \"legendgroup\": \"IN MOTION SPINE & JOINT CENTER, INC.\", \"marker\": {\"color\": \"#EF553B\", \"symbol\": \"circle\"}, \"mode\": \"markers\", \"name\": \"IN MOTION SPINE & JOINT CENTER, INC.\", \"showlegend\": true, \"type\": \"scattergl\", \"x\": [\"MARK HAWKINS\"], \"xaxis\": \"x\", \"y\": [48], \"yaxis\": \"y\"}, {\"hovertemplate\": \"to_facility=CROSSROADS MEDICAL GROUP, PLLC<br>from_physician=%{x}<br>patient_count=%{y}<extra></extra>\", \"legendgroup\": \"CROSSROADS MEDICAL GROUP, PLLC\", \"marker\": {\"color\": \"#00cc96\", \"symbol\": \"circle\"}, \"mode\": \"markers\", \"name\": \"CROSSROADS MEDICAL GROUP, PLLC\", \"showlegend\": true, \"type\": \"scattergl\", \"x\": [\"TYLER SINGLETON\", \"SCARLETT FORD\", \"ELIZABETH PAIRMORE\", \"LAUREN WORTHEY\", \"STACEY HARTLEY\", \"VERONICA CRAWLEY\", \"ROBERT KANABY\", \"JENNIFER MEADORS\"], \"xaxis\": \"x\", \"y\": [107, 212, 294, 159, 78, 172, 114, 180], \"yaxis\": \"y\"}, {\"hovertemplate\": \"to_facility=MCCABE VISION CENTER, P.C.<br>from_physician=%{x}<br>patient_count=%{y}<extra></extra>\", \"legendgroup\": \"MCCABE VISION CENTER, P.C.\", \"marker\": {\"color\": \"#ab63fa\", \"symbol\": \"circle\"}, \"mode\": \"markers\", \"name\": \"MCCABE VISION CENTER, P.C.\", \"showlegend\": true, \"type\": \"scattergl\", \"x\": [\"CRAIG MCCABE\"], \"xaxis\": \"x\", \"y\": [674], \"yaxis\": \"y\"}, {\"hovertemplate\": \"to_facility=ELITE PHYSICAL THERAPY AND ASSOCIATES LLC<br>from_physician=%{x}<br>patient_count=%{y}<extra></extra>\", \"legendgroup\": \"ELITE PHYSICAL THERAPY AND ASSOCIATES LLC\", \"marker\": {\"color\": \"#FFA15A\", \"symbol\": \"circle\"}, \"mode\": \"markers\", \"name\": \"ELITE PHYSICAL THERAPY AND ASSOCIATES LLC\", \"showlegend\": true, \"type\": \"scattergl\", \"x\": [\"MEGAN MCGILL\", \"DAVID COX\"], \"xaxis\": \"x\", \"y\": [40, 63], \"yaxis\": \"y\"}, {\"hovertemplate\": \"to_facility=RUTHERFORD COUNTY PRIMARY CARE<br>from_physician=%{x}<br>patient_count=%{y}<extra></extra>\", \"legendgroup\": \"RUTHERFORD COUNTY PRIMARY CARE\", \"marker\": {\"color\": \"#19d3f3\", \"symbol\": \"circle\"}, \"mode\": \"markers\", \"name\": \"RUTHERFORD COUNTY PRIMARY CARE\", \"showlegend\": true, \"type\": \"scattergl\", \"x\": [\"DANIELLE CARDWELL\", \"JORDAN COBB\", \"JENNIFER MCGLOTHLIN\", \"ANGELA CRAGUE\", \"MITCHELL WILLOUGHBY\", \"ASHLEY CREAGER\", \"IRMALYNN MOONEYHAM\"], \"xaxis\": \"x\", \"y\": [46, 49, 51, 33, 95, 60, 87], \"yaxis\": \"y\"}, {\"hovertemplate\": \"to_facility=ALICIA A. HALL, MD, INC.<br>from_physician=%{x}<br>patient_count=%{y}<extra></extra>\", \"legendgroup\": \"ALICIA A. HALL, MD, INC.\", \"marker\": {\"color\": \"#FF6692\", \"symbol\": \"circle\"}, \"mode\": \"markers\", \"name\": \"ALICIA A. HALL, MD, INC.\", \"showlegend\": true, \"type\": \"scattergl\", \"x\": [\"ALICIA HALL\"], \"xaxis\": \"x\", \"y\": [52], \"yaxis\": \"y\"}, {\"hovertemplate\": \"to_facility=GUARDIAN CHIROPRACTIC PLLC<br>from_physician=%{x}<br>patient_count=%{y}<extra></extra>\", \"legendgroup\": \"GUARDIAN CHIROPRACTIC PLLC\", \"marker\": {\"color\": \"#B6E880\", \"symbol\": \"circle\"}, \"mode\": \"markers\", \"name\": \"GUARDIAN CHIROPRACTIC PLLC\", \"showlegend\": true, \"type\": \"scattergl\", \"x\": [\"KENNETH STOHR\"], \"xaxis\": \"x\", \"y\": [34], \"yaxis\": \"y\"}, {\"hovertemplate\": \"to_facility=JUSTIN ARD DC PLLC<br>from_physician=%{x}<br>patient_count=%{y}<extra></extra>\", \"legendgroup\": \"JUSTIN ARD DC PLLC\", \"marker\": {\"color\": \"#FF97FF\", \"symbol\": \"circle\"}, \"mode\": \"markers\", \"name\": \"JUSTIN ARD DC PLLC\", \"showlegend\": true, \"type\": \"scattergl\", \"x\": [\"JUSTIN ARD\"], \"xaxis\": \"x\", \"y\": [17], \"yaxis\": \"y\"}, {\"hovertemplate\": \"to_facility=PINNACLE WELLNESS GROUP, LLC<br>from_physician=%{x}<br>patient_count=%{y}<extra></extra>\", \"legendgroup\": \"PINNACLE WELLNESS GROUP, LLC\", \"marker\": {\"color\": \"#FECB52\", \"symbol\": \"circle\"}, \"mode\": \"markers\", \"name\": \"PINNACLE WELLNESS GROUP, LLC\", \"showlegend\": true, \"type\": \"scattergl\", \"x\": [\"BRANDY DAWSON\"], \"xaxis\": \"x\", \"y\": [77], \"yaxis\": \"y\"}, {\"hovertemplate\": \"to_facility=MASON CHIROPRACTIC HEALTH & WELLNESS INC<br>from_physician=%{x}<br>patient_count=%{y}<extra></extra>\", \"legendgroup\": \"MASON CHIROPRACTIC HEALTH & WELLNESS INC\", \"marker\": {\"color\": \"#636efa\", \"symbol\": \"circle\"}, \"mode\": \"markers\", \"name\": \"MASON CHIROPRACTIC HEALTH & WELLNESS INC\", \"showlegend\": true, \"type\": \"scattergl\", \"x\": [\"DAVID MASON\"], \"xaxis\": \"x\", \"y\": [60], \"yaxis\": \"y\"}, {\"hovertemplate\": \"to_facility=SKIN SOLUTIONS DERMATOLOGY & SKIN CANCER SURGERY, P.C.<br>from_physician=%{x}<br>patient_count=%{y}<extra></extra>\", \"legendgroup\": \"SKIN SOLUTIONS DERMATOLOGY & SKIN CANCER SURGERY, P.C.\", \"marker\": {\"color\": \"#EF553B\", \"symbol\": \"circle\"}, \"mode\": \"markers\", \"name\": \"SKIN SOLUTIONS DERMATOLOGY & SKIN CANCER SURGERY, P.C.\", \"showlegend\": true, \"type\": \"scattergl\", \"x\": [\"CASSIE TRAMEL\", \"KELLY CAUDLE\", \"JO DYSON\", \"LAURA BAUER\"], \"xaxis\": \"x\", \"y\": [521, 160, 422, 153], \"yaxis\": \"y\"}, {\"hovertemplate\": \"to_facility=MID-STATE GASTROENTEROLOGY, PLLC<br>from_physician=%{x}<br>patient_count=%{y}<extra></extra>\", \"legendgroup\": \"MID-STATE GASTROENTEROLOGY, PLLC\", \"marker\": {\"color\": \"#00cc96\", \"symbol\": \"circle\"}, \"mode\": \"markers\", \"name\": \"MID-STATE GASTROENTEROLOGY, PLLC\", \"showlegend\": true, \"type\": \"scattergl\", \"x\": [\"KAORI SAITO\", \"LISA TRAIL\"], \"xaxis\": \"x\", \"y\": [234, 268], \"yaxis\": \"y\"}, {\"hovertemplate\": \"to_facility=COLUMBIA TN ENDOSCOPY ASC LLC<br>from_physician=%{x}<br>patient_count=%{y}<extra></extra>\", \"legendgroup\": \"COLUMBIA TN ENDOSCOPY ASC LLC\", \"marker\": {\"color\": \"#ab63fa\", \"symbol\": \"circle\"}, \"mode\": \"markers\", \"name\": \"COLUMBIA TN ENDOSCOPY ASC LLC\", \"showlegend\": true, \"type\": \"scattergl\", \"x\": [\"AMIT CHOKSI\", \"AMANDA THORNTON\"], \"xaxis\": \"x\", \"y\": [457, 130], \"yaxis\": \"y\"}, {\"hovertemplate\": \"to_facility=HOUSECALL TODAY, INC<br>from_physician=%{x}<br>patient_count=%{y}<extra></extra>\", \"legendgroup\": \"HOUSECALL TODAY, INC\", \"marker\": {\"color\": \"#FFA15A\", \"symbol\": \"circle\"}, \"mode\": \"markers\", \"name\": \"HOUSECALL TODAY, INC\", \"showlegend\": true, \"type\": \"scattergl\", \"x\": [\"EMEM ZELLER\", \"TONYA GAGER\", \"KRISTEN PHILLIPS\"], \"xaxis\": \"x\", \"y\": [60, 226, 209], \"yaxis\": \"y\"}, {\"hovertemplate\": \"to_facility=MATTHEW WALKER COMPREHENSIVE HEALTH CENTER, INC<br>from_physician=%{x}<br>patient_count=%{y}<extra></extra>\", \"legendgroup\": \"MATTHEW WALKER COMPREHENSIVE HEALTH CENTER, INC\", \"marker\": {\"color\": \"#19d3f3\", \"symbol\": \"circle\"}, \"mode\": \"markers\", \"name\": \"MATTHEW WALKER COMPREHENSIVE HEALTH CENTER, INC\", \"showlegend\": true, \"type\": \"scattergl\", \"x\": [\"PAMELA JONES\", \"SHANIQUA CLARK\", \"NITARA CARSWELL\"], \"xaxis\": \"x\", \"y\": [60, 46, 51], \"yaxis\": \"y\"}, {\"hovertemplate\": \"to_facility=GRACEFUL HANDS CHIROPRACTIC & WELLNESS CENTER, PLLC<br>from_physician=%{x}<br>patient_count=%{y}<extra></extra>\", \"legendgroup\": \"GRACEFUL HANDS CHIROPRACTIC & WELLNESS CENTER, PLLC\", \"marker\": {\"color\": \"#FF6692\", \"symbol\": \"circle\"}, \"mode\": \"markers\", \"name\": \"GRACEFUL HANDS CHIROPRACTIC & WELLNESS CENTER, PLLC\", \"showlegend\": true, \"type\": \"scattergl\", \"x\": [\"ILA FOSTER\"], \"xaxis\": \"x\", \"y\": [19], \"yaxis\": \"y\"}, {\"hovertemplate\": \"to_facility=SUMNER ANESTHESIA ASSOCIATES, INC.<br>from_physician=%{x}<br>patient_count=%{y}<extra></extra>\", \"legendgroup\": \"SUMNER ANESTHESIA ASSOCIATES, INC.\", \"marker\": {\"color\": \"#B6E880\", \"symbol\": \"circle\"}, \"mode\": \"markers\", \"name\": \"SUMNER ANESTHESIA ASSOCIATES, INC.\", \"showlegend\": true, \"type\": \"scattergl\", \"x\": [\"JENNIFER WEBB\", \"STEPHANIE GUSTAFSON\", \"JENNIFER DICKENS\", \"NIKKI WALLACE\", \"SHAWN MIERS\", \"LAURA WILLIS\", \"MARCIA TEASHICKS\", \"MARY FARRELL\", \"CHARLES MONROE\"], \"xaxis\": \"x\", \"y\": [98, 50, 206, 203, 183, 217, 83, 225, 190], \"yaxis\": \"y\"}, {\"hovertemplate\": \"to_facility=DIXON CENTER OF CHIROPRACTIC INC<br>from_physician=%{x}<br>patient_count=%{y}<extra></extra>\", \"legendgroup\": \"DIXON CENTER OF CHIROPRACTIC INC\", \"marker\": {\"color\": \"#FF97FF\", \"symbol\": \"circle\"}, \"mode\": \"markers\", \"name\": \"DIXON CENTER OF CHIROPRACTIC INC\", \"showlegend\": true, \"type\": \"scattergl\", \"x\": [\"ANDREW DIXON\", \"CHRISTY DIAZ\"], \"xaxis\": \"x\", \"y\": [110, 44], \"yaxis\": \"y\"}, {\"hovertemplate\": \"to_facility=COMPASSIONATE HEALTH ASSOCIATES PLLC<br>from_physician=%{x}<br>patient_count=%{y}<extra></extra>\", \"legendgroup\": \"COMPASSIONATE HEALTH ASSOCIATES PLLC\", \"marker\": {\"color\": \"#FECB52\", \"symbol\": \"circle\"}, \"mode\": \"markers\", \"name\": \"COMPASSIONATE HEALTH ASSOCIATES PLLC\", \"showlegend\": true, \"type\": \"scattergl\", \"x\": [\"JACY CUNNINGHAM\", \"TRACY EDWARDS\", \"CARRIE WEBB\"], \"xaxis\": \"x\", \"y\": [405, 421, 434], \"yaxis\": \"y\"}, {\"hovertemplate\": \"to_facility=DIALYSIS CLINIC INC.<br>from_physician=%{x}<br>patient_count=%{y}<extra></extra>\", \"legendgroup\": \"DIALYSIS CLINIC INC.\", \"marker\": {\"color\": \"#636efa\", \"symbol\": \"circle\"}, \"mode\": \"markers\", \"name\": \"DIALYSIS CLINIC INC.\", \"showlegend\": true, \"type\": \"scattergl\", \"x\": [\"BHABENDRA PUTATUNDA\", \"MARQUETTA FAULKNER\", \"CESAR CARDONA\"], \"xaxis\": \"x\", \"y\": [16, 33, 12], \"yaxis\": \"y\"}, {\"hovertemplate\": \"to_facility=SMYRNA CHIROPRACTIC CLINIC<br>from_physician=%{x}<br>patient_count=%{y}<extra></extra>\", \"legendgroup\": \"SMYRNA CHIROPRACTIC CLINIC\", \"marker\": {\"color\": \"#EF553B\", \"symbol\": \"circle\"}, \"mode\": \"markers\", \"name\": \"SMYRNA CHIROPRACTIC CLINIC\", \"showlegend\": true, \"type\": \"scattergl\", \"x\": [\"DAVID DAGEN\"], \"xaxis\": \"x\", \"y\": [27], \"yaxis\": \"y\"}, {\"hovertemplate\": \"to_facility=MT. JULIET HEALTH AND WELLNESS, LLC<br>from_physician=%{x}<br>patient_count=%{y}<extra></extra>\", \"legendgroup\": \"MT. JULIET HEALTH AND WELLNESS, LLC\", \"marker\": {\"color\": \"#00cc96\", \"symbol\": \"circle\"}, \"mode\": \"markers\", \"name\": \"MT. JULIET HEALTH AND WELLNESS, LLC\", \"showlegend\": true, \"type\": \"scattergl\", \"x\": [\"ANDREA WEDDLE\"], \"xaxis\": \"x\", \"y\": [63], \"yaxis\": \"y\"}, {\"hovertemplate\": \"to_facility=THE OPTICAL SHOPPE PLLC<br>from_physician=%{x}<br>patient_count=%{y}<extra></extra>\", \"legendgroup\": \"THE OPTICAL SHOPPE PLLC\", \"marker\": {\"color\": \"#ab63fa\", \"symbol\": \"circle\"}, \"mode\": \"markers\", \"name\": \"THE OPTICAL SHOPPE PLLC\", \"showlegend\": true, \"type\": \"scattergl\", \"x\": [\"PAUL TRAPENI\"], \"xaxis\": \"x\", \"y\": [128], \"yaxis\": \"y\"}, {\"hovertemplate\": \"to_facility=ISAAC SPINE, JOINT & PAIN INSTITUTE, PLLC<br>from_physician=%{x}<br>patient_count=%{y}<extra></extra>\", \"legendgroup\": \"ISAAC SPINE, JOINT & PAIN INSTITUTE, PLLC\", \"marker\": {\"color\": \"#FFA15A\", \"symbol\": \"circle\"}, \"mode\": \"markers\", \"name\": \"ISAAC SPINE, JOINT & PAIN INSTITUTE, PLLC\", \"showlegend\": true, \"type\": \"scattergl\", \"x\": [\"ANGELA OWENS\", \"YALONDA PARRISH\", \"MICHELLE PITTS\", \"REBEKAH CASHIN\"], \"xaxis\": \"x\", \"y\": [81, 48, 101, 54], \"yaxis\": \"y\"}, {\"hovertemplate\": \"to_facility=SAINT THOMAS CAMPUS SURGICARE LP<br>from_physician=%{x}<br>patient_count=%{y}<extra></extra>\", \"legendgroup\": \"SAINT THOMAS CAMPUS SURGICARE LP\", \"marker\": {\"color\": \"#19d3f3\", \"symbol\": \"circle\"}, \"mode\": \"markers\", \"name\": \"SAINT THOMAS CAMPUS SURGICARE LP\", \"showlegend\": true, \"type\": \"scattergl\", \"x\": [\"THOMAS TOOMEY\", \"LAURA JOHNSON\", \"FRANCES BERKELEY\", \"TAMMY JACKSON\"], \"xaxis\": \"x\", \"y\": [193, 198, 140, 124], \"yaxis\": \"y\"}, {\"hovertemplate\": \"to_facility=STONES RIVER DERMATOLOGY PLC<br>from_physician=%{x}<br>patient_count=%{y}<extra></extra>\", \"legendgroup\": \"STONES RIVER DERMATOLOGY PLC\", \"marker\": {\"color\": \"#FF6692\", \"symbol\": \"circle\"}, \"mode\": \"markers\", \"name\": \"STONES RIVER DERMATOLOGY PLC\", \"showlegend\": true, \"type\": \"scattergl\", \"x\": [\"ELIZABETH HIGNEY\", \"GILLIAN CHOATE\", \"RONALD NELSON\"], \"xaxis\": \"x\", \"y\": [144, 336, 1153], \"yaxis\": \"y\"}, {\"hovertemplate\": \"to_facility=ODYSSEY HEALTHCARE OPERATING A, LP<br>from_physician=%{x}<br>patient_count=%{y}<extra></extra>\", \"legendgroup\": \"ODYSSEY HEALTHCARE OPERATING A, LP\", \"marker\": {\"color\": \"#B6E880\", \"symbol\": \"circle\"}, \"mode\": \"markers\", \"name\": \"ODYSSEY HEALTHCARE OPERATING A, LP\", \"showlegend\": true, \"type\": \"scattergl\", \"x\": [\"KEVIN MCKECHNIE\"], \"xaxis\": \"x\", \"y\": [25], \"yaxis\": \"y\"}, {\"hovertemplate\": \"to_facility=M A M LLC<br>from_physician=%{x}<br>patient_count=%{y}<extra></extra>\", \"legendgroup\": \"M A M LLC\", \"marker\": {\"color\": \"#FF97FF\", \"symbol\": \"circle\"}, \"mode\": \"markers\", \"name\": \"M A M LLC\", \"showlegend\": true, \"type\": \"scattergl\", \"x\": [\"ASHLEY HALL\"], \"xaxis\": \"x\", \"y\": [173], \"yaxis\": \"y\"}, {\"hovertemplate\": \"to_facility=UROCARE, LLC<br>from_physician=%{x}<br>patient_count=%{y}<extra></extra>\", \"legendgroup\": \"UROCARE, LLC\", \"marker\": {\"color\": \"#FECB52\", \"symbol\": \"circle\"}, \"mode\": \"markers\", \"name\": \"UROCARE, LLC\", \"showlegend\": true, \"type\": \"scattergl\", \"x\": [\"ASHLEY KLEKAMP\"], \"xaxis\": \"x\", \"y\": [55], \"yaxis\": \"y\"}, {\"hovertemplate\": \"to_facility=THE EYE CLINIC GROUP L.L.C.<br>from_physician=%{x}<br>patient_count=%{y}<extra></extra>\", \"legendgroup\": \"THE EYE CLINIC GROUP L.L.C.\", \"marker\": {\"color\": \"#636efa\", \"symbol\": \"circle\"}, \"mode\": \"markers\", \"name\": \"THE EYE CLINIC GROUP L.L.C.\", \"showlegend\": true, \"type\": \"scattergl\", \"x\": [\"CONSTANCE ALLMOND\", \"KELLI JOHNSON\"], \"xaxis\": \"x\", \"y\": [90, 63], \"yaxis\": \"y\"}, {\"hovertemplate\": \"to_facility=PREMIER EYE GROUP, INC.<br>from_physician=%{x}<br>patient_count=%{y}<extra></extra>\", \"legendgroup\": \"PREMIER EYE GROUP, INC.\", \"marker\": {\"color\": \"#EF553B\", \"symbol\": \"circle\"}, \"mode\": \"markers\", \"name\": \"PREMIER EYE GROUP, INC.\", \"showlegend\": true, \"type\": \"scattergl\", \"x\": [\"JOANNA MURRAY\", \"LISA MARTIN\"], \"xaxis\": \"x\", \"y\": [41, 96], \"yaxis\": \"y\"}, {\"hovertemplate\": \"to_facility=TOTAL FAMILY CARE AND WALK-IN CLINIC, LLC<br>from_physician=%{x}<br>patient_count=%{y}<extra></extra>\", \"legendgroup\": \"TOTAL FAMILY CARE AND WALK-IN CLINIC, LLC\", \"marker\": {\"color\": \"#00cc96\", \"symbol\": \"circle\"}, \"mode\": \"markers\", \"name\": \"TOTAL FAMILY CARE AND WALK-IN CLINIC, LLC\", \"showlegend\": true, \"type\": \"scattergl\", \"x\": [\"SHERWAN AHMAD\"], \"xaxis\": \"x\", \"y\": [93], \"yaxis\": \"y\"}, {\"hovertemplate\": \"to_facility=PREMIER ORTHOPAEDICS & SPORTS MEDICINE PLC<br>from_physician=%{x}<br>patient_count=%{y}<extra></extra>\", \"legendgroup\": \"PREMIER ORTHOPAEDICS & SPORTS MEDICINE PLC\", \"marker\": {\"color\": \"#ab63fa\", \"symbol\": \"circle\"}, \"mode\": \"markers\", \"name\": \"PREMIER ORTHOPAEDICS & SPORTS MEDICINE PLC\", \"showlegend\": true, \"type\": \"scattergl\", \"x\": [\"LISA FARRAR\", \"SARAH COLL\", \"BRITTANY RICHARDSON\", \"PATRICK TIGHE\", \"CARA HATAWAY\", \"HALLIE CHONKO\", \"PAUL ABBEY\", \"JESSICA DEAL\", \"LAUREN YUSKO\", \"JOHN CHAPMAN\", \"KATHLEEN WALKER\", \"JEFFREY DAY\", \"NICHOLAS ROBERSON\", \"LAURA SMITH\"], \"xaxis\": \"x\", \"y\": [47, 11, 39, 56, 58, 38, 205, 39, 34, 60, 137, 175, 21, 100], \"yaxis\": \"y\"}, {\"hovertemplate\": \"to_facility=MARATHON INPATIENT SERVICES PLLC<br>from_physician=%{x}<br>patient_count=%{y}<extra></extra>\", \"legendgroup\": \"MARATHON INPATIENT SERVICES PLLC\", \"marker\": {\"color\": \"#FFA15A\", \"symbol\": \"circle\"}, \"mode\": \"markers\", \"name\": \"MARATHON INPATIENT SERVICES PLLC\", \"showlegend\": true, \"type\": \"scattergl\", \"x\": [\"OLABISI AKANBI\", \"NIKOL MOORE\"], \"xaxis\": \"x\", \"y\": [44, 216], \"yaxis\": \"y\"}, {\"hovertemplate\": \"to_facility=UNITED CHIROPRACTIC-DONELSON<br>from_physician=%{x}<br>patient_count=%{y}<extra></extra>\", \"legendgroup\": \"UNITED CHIROPRACTIC-DONELSON\", \"marker\": {\"color\": \"#19d3f3\", \"symbol\": \"circle\"}, \"mode\": \"markers\", \"name\": \"UNITED CHIROPRACTIC-DONELSON\", \"showlegend\": true, \"type\": \"scattergl\", \"x\": [\"DONALD LOUNSBURY\"], \"xaxis\": \"x\", \"y\": [41], \"yaxis\": \"y\"}, {\"hovertemplate\": \"to_facility=NASHVILLE PAIN & WELLNESS CENTER PLLC<br>from_physician=%{x}<br>patient_count=%{y}<extra></extra>\", \"legendgroup\": \"NASHVILLE PAIN & WELLNESS CENTER PLLC\", \"marker\": {\"color\": \"#FF6692\", \"symbol\": \"circle\"}, \"mode\": \"markers\", \"name\": \"NASHVILLE PAIN & WELLNESS CENTER PLLC\", \"showlegend\": true, \"type\": \"scattergl\", \"x\": [\"ASHOK SAHA\", \"CYNTHIA BEARD\", \"MADHU YELAMELI\"], \"xaxis\": \"x\", \"y\": [71, 66, 446], \"yaxis\": \"y\"}, {\"hovertemplate\": \"to_facility=ISD RENAL, INC<br>from_physician=%{x}<br>patient_count=%{y}<extra></extra>\", \"legendgroup\": \"ISD RENAL, INC\", \"marker\": {\"color\": \"#B6E880\", \"symbol\": \"circle\"}, \"mode\": \"markers\", \"name\": \"ISD RENAL, INC\", \"showlegend\": true, \"type\": \"scattergl\", \"x\": [\"JENNIFER SANTANA DE LOS SANTOS\"], \"xaxis\": \"x\", \"y\": [31], \"yaxis\": \"y\"}, {\"hovertemplate\": \"to_facility=NASHVILLE EYE ASSOCIATES, P.C.<br>from_physician=%{x}<br>patient_count=%{y}<extra></extra>\", \"legendgroup\": \"NASHVILLE EYE ASSOCIATES, P.C.\", \"marker\": {\"color\": \"#FF97FF\", \"symbol\": \"circle\"}, \"mode\": \"markers\", \"name\": \"NASHVILLE EYE ASSOCIATES, P.C.\", \"showlegend\": true, \"type\": \"scattergl\", \"x\": [\"DARRELL WILLIAMS\", \"DONALD PHILLIPS\"], \"xaxis\": \"x\", \"y\": [882, 52], \"yaxis\": \"y\"}, {\"hovertemplate\": \"to_facility=INNOVATIVE SENIOR CARE HOME HEALTH OF NASHVILLE LLC<br>from_physician=%{x}<br>patient_count=%{y}<extra></extra>\", \"legendgroup\": \"INNOVATIVE SENIOR CARE HOME HEALTH OF NASHVILLE LLC\", \"marker\": {\"color\": \"#FECB52\", \"symbol\": \"circle\"}, \"mode\": \"markers\", \"name\": \"INNOVATIVE SENIOR CARE HOME HEALTH OF NASHVILLE LLC\", \"showlegend\": true, \"type\": \"scattergl\", \"x\": [\"CAMERON SHEARER\"], \"xaxis\": \"x\", \"y\": [29], \"yaxis\": \"y\"}, {\"hovertemplate\": \"to_facility=HERMITAGE INPATIENT SERVICES PLLC<br>from_physician=%{x}<br>patient_count=%{y}<extra></extra>\", \"legendgroup\": \"HERMITAGE INPATIENT SERVICES PLLC\", \"marker\": {\"color\": \"#636efa\", \"symbol\": \"circle\"}, \"mode\": \"markers\", \"name\": \"HERMITAGE INPATIENT SERVICES PLLC\", \"showlegend\": true, \"type\": \"scattergl\", \"x\": [\"KEVIN RIGTRUP\", \"CASEY SASSER\"], \"xaxis\": \"x\", \"y\": [45, 80], \"yaxis\": \"y\"}, {\"hovertemplate\": \"to_facility=OPTOMETRY UNLIMITED, LLC<br>from_physician=%{x}<br>patient_count=%{y}<extra></extra>\", \"legendgroup\": \"OPTOMETRY UNLIMITED, LLC\", \"marker\": {\"color\": \"#EF553B\", \"symbol\": \"circle\"}, \"mode\": \"markers\", \"name\": \"OPTOMETRY UNLIMITED, LLC\", \"showlegend\": true, \"type\": \"scattergl\", \"x\": [\"GREG BEEM\", \"C WADE HYATT III\"], \"xaxis\": \"x\", \"y\": [219, 196], \"yaxis\": \"y\"}, {\"hovertemplate\": \"to_facility=PEPELEA FAMILY EYE CARE PLLC<br>from_physician=%{x}<br>patient_count=%{y}<extra></extra>\", \"legendgroup\": \"PEPELEA FAMILY EYE CARE PLLC\", \"marker\": {\"color\": \"#00cc96\", \"symbol\": \"circle\"}, \"mode\": \"markers\", \"name\": \"PEPELEA FAMILY EYE CARE PLLC\", \"showlegend\": true, \"type\": \"scattergl\", \"x\": [\"ALISSA PEPELEA\"], \"xaxis\": \"x\", \"y\": [140], \"yaxis\": \"y\"}, {\"hovertemplate\": \"to_facility=JOSEPH D. WEATHERFORD, PLC<br>from_physician=%{x}<br>patient_count=%{y}<extra></extra>\", \"legendgroup\": \"JOSEPH D. WEATHERFORD, PLC\", \"marker\": {\"color\": \"#ab63fa\", \"symbol\": \"circle\"}, \"mode\": \"markers\", \"name\": \"JOSEPH D. WEATHERFORD, PLC\", \"showlegend\": true, \"type\": \"scattergl\", \"x\": [\"JOSEPH WEATHERFORD\"], \"xaxis\": \"x\", \"y\": [82], \"yaxis\": \"y\"}, {\"hovertemplate\": \"to_facility=WCJ MEDICAL PLLC<br>from_physician=%{x}<br>patient_count=%{y}<extra></extra>\", \"legendgroup\": \"WCJ MEDICAL PLLC\", \"marker\": {\"color\": \"#FFA15A\", \"symbol\": \"circle\"}, \"mode\": \"markers\", \"name\": \"WCJ MEDICAL PLLC\", \"showlegend\": true, \"type\": \"scattergl\", \"x\": [\"WARREN CLAYTON\"], \"xaxis\": \"x\", \"y\": [112], \"yaxis\": \"y\"}, {\"hovertemplate\": \"to_facility=NASHVILLE DERMAGOLOGY & SKIN CANCER CLINIC<br>from_physician=%{x}<br>patient_count=%{y}<extra></extra>\", \"legendgroup\": \"NASHVILLE DERMAGOLOGY & SKIN CANCER CLINIC\", \"marker\": {\"color\": \"#19d3f3\", \"symbol\": \"circle\"}, \"mode\": \"markers\", \"name\": \"NASHVILLE DERMAGOLOGY & SKIN CANCER CLINIC\", \"showlegend\": true, \"type\": \"scattergl\", \"x\": [\"BARBARA KEYES\"], \"xaxis\": \"x\", \"y\": [1141], \"yaxis\": \"y\"}, {\"hovertemplate\": \"to_facility=NORTHRIDGE SURGERY CENTER, LP<br>from_physician=%{x}<br>patient_count=%{y}<extra></extra>\", \"legendgroup\": \"NORTHRIDGE SURGERY CENTER, LP\", \"marker\": {\"color\": \"#FF6692\", \"symbol\": \"circle\"}, \"mode\": \"markers\", \"name\": \"NORTHRIDGE SURGERY CENTER, LP\", \"showlegend\": true, \"type\": \"scattergl\", \"x\": [\"HANI GALAL ELALAYLI\", \"MEAGAN JONES\", \"WILLIAM ROGERS\"], \"xaxis\": \"x\", \"y\": [73, 87, 156], \"yaxis\": \"y\"}, {\"hovertemplate\": \"to_facility=GOLD SKIN CARE CENTER<br>from_physician=%{x}<br>patient_count=%{y}<extra></extra>\", \"legendgroup\": \"GOLD SKIN CARE CENTER\", \"marker\": {\"color\": \"#B6E880\", \"symbol\": \"circle\"}, \"mode\": \"markers\", \"name\": \"GOLD SKIN CARE CENTER\", \"showlegend\": true, \"type\": \"scattergl\", \"x\": [\"MICHAEL GOLD\"], \"xaxis\": \"x\", \"y\": [470], \"yaxis\": \"y\"}, {\"hovertemplate\": \"to_facility=RIGHT CARE INC<br>from_physician=%{x}<br>patient_count=%{y}<extra></extra>\", \"legendgroup\": \"RIGHT CARE INC\", \"marker\": {\"color\": \"#FF97FF\", \"symbol\": \"circle\"}, \"mode\": \"markers\", \"name\": \"RIGHT CARE INC\", \"showlegend\": true, \"type\": \"scattergl\", \"x\": [\"LESLIE SHEALY\", \"CHANDLER ANDERSON\"], \"xaxis\": \"x\", \"y\": [97, 124], \"yaxis\": \"y\"}, {\"hovertemplate\": \"to_facility=CROSSROADS URGENT CARE PLLC<br>from_physician=%{x}<br>patient_count=%{y}<extra></extra>\", \"legendgroup\": \"CROSSROADS URGENT CARE PLLC\", \"marker\": {\"color\": \"#FECB52\", \"symbol\": \"circle\"}, \"mode\": \"markers\", \"name\": \"CROSSROADS URGENT CARE PLLC\", \"showlegend\": true, \"type\": \"scattergl\", \"x\": [\"TIFFANIE STAUFFER\", \"SHEILA LOWREY\", \"JAN SPARKS\"], \"xaxis\": \"x\", \"y\": [99, 73, 257], \"yaxis\": \"y\"}, {\"hovertemplate\": \"to_facility=RICHARD & CARTER M.D. P.C.<br>from_physician=%{x}<br>patient_count=%{y}<extra></extra>\", \"legendgroup\": \"RICHARD & CARTER M.D. P.C.\", \"marker\": {\"color\": \"#636efa\", \"symbol\": \"circle\"}, \"mode\": \"markers\", \"name\": \"RICHARD & CARTER M.D. P.C.\", \"showlegend\": true, \"type\": \"scattergl\", \"x\": [\"FLOYD RICHARD\"], \"xaxis\": \"x\", \"y\": [25], \"yaxis\": \"y\"}, {\"hovertemplate\": \"to_facility=PATIENT PARTNERS LLC<br>from_physician=%{x}<br>patient_count=%{y}<extra></extra>\", \"legendgroup\": \"PATIENT PARTNERS LLC\", \"marker\": {\"color\": \"#EF553B\", \"symbol\": \"circle\"}, \"mode\": \"markers\", \"name\": \"PATIENT PARTNERS LLC\", \"showlegend\": true, \"type\": \"scattergl\", \"x\": [\"CHRISTOPHER BUELL\", \"RICHARD YOUNG\"], \"xaxis\": \"x\", \"y\": [175, 238], \"yaxis\": \"y\"}, {\"hovertemplate\": \"to_facility=DUE WEST FAMILY HEALTHCARE INC<br>from_physician=%{x}<br>patient_count=%{y}<extra></extra>\", \"legendgroup\": \"DUE WEST FAMILY HEALTHCARE INC\", \"marker\": {\"color\": \"#00cc96\", \"symbol\": \"circle\"}, \"mode\": \"markers\", \"name\": \"DUE WEST FAMILY HEALTHCARE INC\", \"showlegend\": true, \"type\": \"scattergl\", \"x\": [\"HARRY BONNAIRE\"], \"xaxis\": \"x\", \"y\": [255], \"yaxis\": \"y\"}, {\"hovertemplate\": \"to_facility=DICKSON PAIN AND WELLNESS PLLC<br>from_physician=%{x}<br>patient_count=%{y}<extra></extra>\", \"legendgroup\": \"DICKSON PAIN AND WELLNESS PLLC\", \"marker\": {\"color\": \"#ab63fa\", \"symbol\": \"circle\"}, \"mode\": \"markers\", \"name\": \"DICKSON PAIN AND WELLNESS PLLC\", \"showlegend\": true, \"type\": \"scattergl\", \"x\": [\"ROSE WIDENER\"], \"xaxis\": \"x\", \"y\": [136], \"yaxis\": \"y\"}, {\"hovertemplate\": \"to_facility=WALTER L. CHOATE, O.D.<br>from_physician=%{x}<br>patient_count=%{y}<extra></extra>\", \"legendgroup\": \"WALTER L. CHOATE, O.D.\", \"marker\": {\"color\": \"#FFA15A\", \"symbol\": \"circle\"}, \"mode\": \"markers\", \"name\": \"WALTER L. CHOATE, O.D.\", \"showlegend\": true, \"type\": \"scattergl\", \"x\": [\"WALTER CHOATE\"], \"xaxis\": \"x\", \"y\": [282], \"yaxis\": \"y\"}, {\"hovertemplate\": \"to_facility=KNOLLS PLACE MEDICAL CLINIC LLC<br>from_physician=%{x}<br>patient_count=%{y}<extra></extra>\", \"legendgroup\": \"KNOLLS PLACE MEDICAL CLINIC LLC\", \"marker\": {\"color\": \"#19d3f3\", \"symbol\": \"circle\"}, \"mode\": \"markers\", \"name\": \"KNOLLS PLACE MEDICAL CLINIC LLC\", \"showlegend\": true, \"type\": \"scattergl\", \"x\": [\"SONGMIN CAI\"], \"xaxis\": \"x\", \"y\": [80], \"yaxis\": \"y\"}, {\"hovertemplate\": \"to_facility=GASTROENTEROLOGY & HEPATOLOGY ASSOCIATES PLLC<br>from_physician=%{x}<br>patient_count=%{y}<extra></extra>\", \"legendgroup\": \"GASTROENTEROLOGY & HEPATOLOGY ASSOCIATES PLLC\", \"marker\": {\"color\": \"#FF6692\", \"symbol\": \"circle\"}, \"mode\": \"markers\", \"name\": \"GASTROENTEROLOGY & HEPATOLOGY ASSOCIATES PLLC\", \"showlegend\": true, \"type\": \"scattergl\", \"x\": [\"CHRISTOPHER BUELL\", \"RICHARD YOUNG\"], \"xaxis\": \"x\", \"y\": [54, 80], \"yaxis\": \"y\"}, {\"hovertemplate\": \"to_facility=CANTRELL PHYSICAL THERAPY, INC.<br>from_physician=%{x}<br>patient_count=%{y}<extra></extra>\", \"legendgroup\": \"CANTRELL PHYSICAL THERAPY, INC.\", \"marker\": {\"color\": \"#B6E880\", \"symbol\": \"circle\"}, \"mode\": \"markers\", \"name\": \"CANTRELL PHYSICAL THERAPY, INC.\", \"showlegend\": true, \"type\": \"scattergl\", \"x\": [\"CHRISTOPHER HUMPHREYS\", \"CHRISTOPHER O'BRIEN\", \"MEGAN AHER\", \"AMANDA KESTERSON\", \"NIXON CANTRELL\"], \"xaxis\": \"x\", \"y\": [59, 17, 49, 41, 29], \"yaxis\": \"y\"}, {\"hovertemplate\": \"to_facility=ROOSEVELT PEEBLES, JR., MD, PC<br>from_physician=%{x}<br>patient_count=%{y}<extra></extra>\", \"legendgroup\": \"ROOSEVELT PEEBLES, JR., MD, PC\", \"marker\": {\"color\": \"#FF97FF\", \"symbol\": \"circle\"}, \"mode\": \"markers\", \"name\": \"ROOSEVELT PEEBLES, JR., MD, PC\", \"showlegend\": true, \"type\": \"scattergl\", \"x\": [\"ROOSEVELT PEEBLES\"], \"xaxis\": \"x\", \"y\": [30], \"yaxis\": \"y\"}, {\"hovertemplate\": \"to_facility=JOHN NEUHOFF III OD AND ASSOCIATES<br>from_physician=%{x}<br>patient_count=%{y}<extra></extra>\", \"legendgroup\": \"JOHN NEUHOFF III OD AND ASSOCIATES\", \"marker\": {\"color\": \"#FECB52\", \"symbol\": \"circle\"}, \"mode\": \"markers\", \"name\": \"JOHN NEUHOFF III OD AND ASSOCIATES\", \"showlegend\": true, \"type\": \"scattergl\", \"x\": [\"BARBARA TEMPKINS\", \"JOHN NEUHOFF\"], \"xaxis\": \"x\", \"y\": [37, 419], \"yaxis\": \"y\"}, {\"hovertemplate\": \"to_facility=CHIROPRACTIC NASHVILLE, PC<br>from_physician=%{x}<br>patient_count=%{y}<extra></extra>\", \"legendgroup\": \"CHIROPRACTIC NASHVILLE, PC\", \"marker\": {\"color\": \"#636efa\", \"symbol\": \"circle\"}, \"mode\": \"markers\", \"name\": \"CHIROPRACTIC NASHVILLE, PC\", \"showlegend\": true, \"type\": \"scattergl\", \"x\": [\"CHARLES MCCLELLAN\"], \"xaxis\": \"x\", \"y\": [41], \"yaxis\": \"y\"}, {\"hovertemplate\": \"to_facility=ARIZONS OBSTETRICS AND GYNECOLOGY, PLLC<br>from_physician=%{x}<br>patient_count=%{y}<extra></extra>\", \"legendgroup\": \"ARIZONS OBSTETRICS AND GYNECOLOGY, PLLC\", \"marker\": {\"color\": \"#EF553B\", \"symbol\": \"circle\"}, \"mode\": \"markers\", \"name\": \"ARIZONS OBSTETRICS AND GYNECOLOGY, PLLC\", \"showlegend\": true, \"type\": \"scattergl\", \"x\": [\"MARCO JARRETT\"], \"xaxis\": \"x\", \"y\": [36], \"yaxis\": \"y\"}, {\"hovertemplate\": \"to_facility=GREEN SURGERY CENTER LLC<br>from_physician=%{x}<br>patient_count=%{y}<extra></extra>\", \"legendgroup\": \"GREEN SURGERY CENTER LLC\", \"marker\": {\"color\": \"#00cc96\", \"symbol\": \"circle\"}, \"mode\": \"markers\", \"name\": \"GREEN SURGERY CENTER LLC\", \"showlegend\": true, \"type\": \"scattergl\", \"x\": [\"MICHAEL GREEN\"], \"xaxis\": \"x\", \"y\": [242], \"yaxis\": \"y\"}, {\"hovertemplate\": \"to_facility=CHARLES A. MITCHELL<br>from_physician=%{x}<br>patient_count=%{y}<extra></extra>\", \"legendgroup\": \"CHARLES A. MITCHELL\", \"marker\": {\"color\": \"#ab63fa\", \"symbol\": \"circle\"}, \"mode\": \"markers\", \"name\": \"CHARLES A. MITCHELL\", \"showlegend\": true, \"type\": \"scattergl\", \"x\": [\"CHARLES MITCHELL\"], \"xaxis\": \"x\", \"y\": [728], \"yaxis\": \"y\"}, {\"hovertemplate\": \"to_facility=MIDDLE TENNESSEE CHIROPRACTIC AND SPORTS INJURY, PLLC<br>from_physician=%{x}<br>patient_count=%{y}<extra></extra>\", \"legendgroup\": \"MIDDLE TENNESSEE CHIROPRACTIC AND SPORTS INJURY, PLLC\", \"marker\": {\"color\": \"#FFA15A\", \"symbol\": \"circle\"}, \"mode\": \"markers\", \"name\": \"MIDDLE TENNESSEE CHIROPRACTIC AND SPORTS INJURY, PLLC\", \"showlegend\": true, \"type\": \"scattergl\", \"x\": [\"JONATHAN ELSON\"], \"xaxis\": \"x\", \"y\": [14], \"yaxis\": \"y\"}, {\"hovertemplate\": \"to_facility=AMERICAN BEHAVIORAL CONSULTANTS<br>from_physician=%{x}<br>patient_count=%{y}<extra></extra>\", \"legendgroup\": \"AMERICAN BEHAVIORAL CONSULTANTS\", \"marker\": {\"color\": \"#19d3f3\", \"symbol\": \"circle\"}, \"mode\": \"markers\", \"name\": \"AMERICAN BEHAVIORAL CONSULTANTS\", \"showlegend\": true, \"type\": \"scattergl\", \"x\": [\"ANGELA WOOD\", \"SHARON GROSCH\", \"CYNTHIA RECTOR\", \"JANE PIERCE\"], \"xaxis\": \"x\", \"y\": [58, 27, 136, 59], \"yaxis\": \"y\"}, {\"hovertemplate\": \"to_facility=CARRIER CHIROPRACTIC P C<br>from_physician=%{x}<br>patient_count=%{y}<extra></extra>\", \"legendgroup\": \"CARRIER CHIROPRACTIC P C\", \"marker\": {\"color\": \"#FF6692\", \"symbol\": \"circle\"}, \"mode\": \"markers\", \"name\": \"CARRIER CHIROPRACTIC P C\", \"showlegend\": true, \"type\": \"scattergl\", \"x\": [\"GARY CARRIER\", \"MICHELE CARRIER\"], \"xaxis\": \"x\", \"y\": [32, 21], \"yaxis\": \"y\"}, {\"hovertemplate\": \"to_facility=CHIROPRACTIC ASSOCIATES OF MURFREESBORO, PLLC<br>from_physician=%{x}<br>patient_count=%{y}<extra></extra>\", \"legendgroup\": \"CHIROPRACTIC ASSOCIATES OF MURFREESBORO, PLLC\", \"marker\": {\"color\": \"#B6E880\", \"symbol\": \"circle\"}, \"mode\": \"markers\", \"name\": \"CHIROPRACTIC ASSOCIATES OF MURFREESBORO, PLLC\", \"showlegend\": true, \"type\": \"scattergl\", \"x\": [\"JAMES DANIEL\"], \"xaxis\": \"x\", \"y\": [29], \"yaxis\": \"y\"}, {\"hovertemplate\": \"to_facility=COGENT HEALTHCARE OF TENNESSEE, PC<br>from_physician=%{x}<br>patient_count=%{y}<extra></extra>\", \"legendgroup\": \"COGENT HEALTHCARE OF TENNESSEE, PC\", \"marker\": {\"color\": \"#FF97FF\", \"symbol\": \"circle\"}, \"mode\": \"markers\", \"name\": \"COGENT HEALTHCARE OF TENNESSEE, PC\", \"showlegend\": true, \"type\": \"scattergl\", \"x\": [\"LEVI BENSON\", \"JAMES MILLER\", \"JAYANTHI SAMUEL\"], \"xaxis\": \"x\", \"y\": [568, 163, 472], \"yaxis\": \"y\"}, {\"hovertemplate\": \"to_facility=NULIFE PHYSICAL THERAPY INC<br>from_physician=%{x}<br>patient_count=%{y}<extra></extra>\", \"legendgroup\": \"NULIFE PHYSICAL THERAPY INC\", \"marker\": {\"color\": \"#FECB52\", \"symbol\": \"circle\"}, \"mode\": \"markers\", \"name\": \"NULIFE PHYSICAL THERAPY INC\", \"showlegend\": true, \"type\": \"scattergl\", \"x\": [\"SHERRY FLECKSTEINER\"], \"xaxis\": \"x\", \"y\": [59], \"yaxis\": \"y\"}, {\"hovertemplate\": \"to_facility=T SCOTT BAKER MD PC<br>from_physician=%{x}<br>patient_count=%{y}<extra></extra>\", \"legendgroup\": \"T SCOTT BAKER MD PC\", \"marker\": {\"color\": \"#636efa\", \"symbol\": \"circle\"}, \"mode\": \"markers\", \"name\": \"T SCOTT BAKER MD PC\", \"showlegend\": true, \"type\": \"scattergl\", \"x\": [\"THOMAS BAKER\"], \"xaxis\": \"x\", \"y\": [735], \"yaxis\": \"y\"}, {\"hovertemplate\": \"to_facility=PAXXON HEALTHCARE SERVICES LLC<br>from_physician=%{x}<br>patient_count=%{y}<extra></extra>\", \"legendgroup\": \"PAXXON HEALTHCARE SERVICES LLC\", \"marker\": {\"color\": \"#EF553B\", \"symbol\": \"circle\"}, \"mode\": \"markers\", \"name\": \"PAXXON HEALTHCARE SERVICES LLC\", \"showlegend\": true, \"type\": \"scattergl\", \"x\": [\"JUSTIN MARTIN\", \"LINDA COLLIER\"], \"xaxis\": \"x\", \"y\": [11, 12], \"yaxis\": \"y\"}, {\"hovertemplate\": \"to_facility=NASHVILLE TN OPHTHALMOLOGY ASC LLC<br>from_physician=%{x}<br>patient_count=%{y}<extra></extra>\", \"legendgroup\": \"NASHVILLE TN OPHTHALMOLOGY ASC LLC\", \"marker\": {\"color\": \"#00cc96\", \"symbol\": \"circle\"}, \"mode\": \"markers\", \"name\": \"NASHVILLE TN OPHTHALMOLOGY ASC LLC\", \"showlegend\": true, \"type\": \"scattergl\", \"x\": [\"KIP NEUHOFF\"], \"xaxis\": \"x\", \"y\": [76], \"yaxis\": \"y\"}, {\"hovertemplate\": \"to_facility=SWAN UROGYNECOLOGY, PC<br>from_physician=%{x}<br>patient_count=%{y}<extra></extra>\", \"legendgroup\": \"SWAN UROGYNECOLOGY, PC\", \"marker\": {\"color\": \"#ab63fa\", \"symbol\": \"circle\"}, \"mode\": \"markers\", \"name\": \"SWAN UROGYNECOLOGY, PC\", \"showlegend\": true, \"type\": \"scattergl\", \"x\": [\"JAMES MIXON\"], \"xaxis\": \"x\", \"y\": [75], \"yaxis\": \"y\"}, {\"hovertemplate\": \"to_facility=IMAC REGENERATION CENTER OF NASHVILLE, P.C.<br>from_physician=%{x}<br>patient_count=%{y}<extra></extra>\", \"legendgroup\": \"IMAC REGENERATION CENTER OF NASHVILLE, P.C.\", \"marker\": {\"color\": \"#FFA15A\", \"symbol\": \"circle\"}, \"mode\": \"markers\", \"name\": \"IMAC REGENERATION CENTER OF NASHVILLE, P.C.\", \"showlegend\": true, \"type\": \"scattergl\", \"x\": [\"JILL CLEMENT\", \"STEPHANIE CRAWFORD\", \"BRITTANY MONTGOMERY\"], \"xaxis\": \"x\", \"y\": [18, 11, 46], \"yaxis\": \"y\"}, {\"hovertemplate\": \"to_facility=ALIVE HOSPICE, INC<br>from_physician=%{x}<br>patient_count=%{y}<extra></extra>\", \"legendgroup\": \"ALIVE HOSPICE, INC\", \"marker\": {\"color\": \"#19d3f3\", \"symbol\": \"circle\"}, \"mode\": \"markers\", \"name\": \"ALIVE HOSPICE, INC\", \"showlegend\": true, \"type\": \"scattergl\", \"x\": [\"ANH MEADOWS\", \"LAURA THARPE\", \"SASHA BOWERS\", \"ROBERT BERKOMPAS\"], \"xaxis\": \"x\", \"y\": [282, 984, 566, 300], \"yaxis\": \"y\"}, {\"hovertemplate\": \"to_facility=MAURY REGIONAL MEDICAL GROUP, INC<br>from_physician=%{x}<br>patient_count=%{y}<extra></extra>\", \"legendgroup\": \"MAURY REGIONAL MEDICAL GROUP, INC\", \"marker\": {\"color\": \"#FF6692\", \"symbol\": \"circle\"}, \"mode\": \"markers\", \"name\": \"MAURY REGIONAL MEDICAL GROUP, INC\", \"showlegend\": true, \"type\": \"scattergl\", \"x\": [\"MICHAEL BACKUES\", \"SEAN CANNADY\", \"MARTIN CHANEY\", \"BRANDIE GORRELL\", \"JERALD TAGGART\", \"KAREN PERRY\", \"JOE PHILIP\", \"CHRISTINA LANNOM\", \"JOHNNY NOWLIN\", \"SARAH ESSARY\", \"AMY RICHARDSON\", \"ELIAS MANZELLA\"], \"xaxis\": \"x\", \"y\": [298, 100, 99, 275, 186, 608, 362, 163, 115, 488, 265, 184], \"yaxis\": \"y\"}, {\"hovertemplate\": \"to_facility=DIALYSIS CLINIC INC<br>from_physician=%{x}<br>patient_count=%{y}<extra></extra>\", \"legendgroup\": \"DIALYSIS CLINIC INC\", \"marker\": {\"color\": \"#B6E880\", \"symbol\": \"circle\"}, \"mode\": \"markers\", \"name\": \"DIALYSIS CLINIC INC\", \"showlegend\": true, \"type\": \"scattergl\", \"x\": [\"HARRY JOHNSON\"], \"xaxis\": \"x\", \"y\": [20], \"yaxis\": \"y\"}, {\"hovertemplate\": \"to_facility=ASSOCIATED CHIROPRACTIC AND MEDICAL P.C.<br>from_physician=%{x}<br>patient_count=%{y}<extra></extra>\", \"legendgroup\": \"ASSOCIATED CHIROPRACTIC AND MEDICAL P.C.\", \"marker\": {\"color\": \"#FF97FF\", \"symbol\": \"circle\"}, \"mode\": \"markers\", \"name\": \"ASSOCIATED CHIROPRACTIC AND MEDICAL P.C.\", \"showlegend\": true, \"type\": \"scattergl\", \"x\": [\"GIL KENTOF\"], \"xaxis\": \"x\", \"y\": [240], \"yaxis\": \"y\"}, {\"hovertemplate\": \"to_facility=CHIROCORE WELLNESS PLLC<br>from_physician=%{x}<br>patient_count=%{y}<extra></extra>\", \"legendgroup\": \"CHIROCORE WELLNESS PLLC\", \"marker\": {\"color\": \"#FECB52\", \"symbol\": \"circle\"}, \"mode\": \"markers\", \"name\": \"CHIROCORE WELLNESS PLLC\", \"showlegend\": true, \"type\": \"scattergl\", \"x\": [\"JASON THARPE\"], \"xaxis\": \"x\", \"y\": [40], \"yaxis\": \"y\"}, {\"hovertemplate\": \"to_facility=DAVID H. MCCORD, M.D., P.C.<br>from_physician=%{x}<br>patient_count=%{y}<extra></extra>\", \"legendgroup\": \"DAVID H. MCCORD, M.D., P.C.\", \"marker\": {\"color\": \"#636efa\", \"symbol\": \"circle\"}, \"mode\": \"markers\", \"name\": \"DAVID H. MCCORD, M.D., P.C.\", \"showlegend\": true, \"type\": \"scattergl\", \"x\": [\"DAVID MCCORD\"], \"xaxis\": \"x\", \"y\": [150], \"yaxis\": \"y\"}, {\"hovertemplate\": \"to_facility=CURCIO DERMATOLOGY, PC<br>from_physician=%{x}<br>patient_count=%{y}<extra></extra>\", \"legendgroup\": \"CURCIO DERMATOLOGY, PC\", \"marker\": {\"color\": \"#EF553B\", \"symbol\": \"circle\"}, \"mode\": \"markers\", \"name\": \"CURCIO DERMATOLOGY, PC\", \"showlegend\": true, \"type\": \"scattergl\", \"x\": [\"NATALIE CURCIO\", \"KATHERINE REDDING\"], \"xaxis\": \"x\", \"y\": [153, 80], \"yaxis\": \"y\"}, {\"hovertemplate\": \"to_facility=GORDON JOHNSON<br>from_physician=%{x}<br>patient_count=%{y}<extra></extra>\", \"legendgroup\": \"GORDON JOHNSON\", \"marker\": {\"color\": \"#00cc96\", \"symbol\": \"circle\"}, \"mode\": \"markers\", \"name\": \"GORDON JOHNSON\", \"showlegend\": true, \"type\": \"scattergl\", \"x\": [\"CAROL JOHNSON\", \"GORDON JOHNSON\"], \"xaxis\": \"x\", \"y\": [35, 41], \"yaxis\": \"y\"}, {\"hovertemplate\": \"to_facility=GETHSEMANE CARDIOVASCULAR CLINIC PLLC<br>from_physician=%{x}<br>patient_count=%{y}<extra></extra>\", \"legendgroup\": \"GETHSEMANE CARDIOVASCULAR CLINIC PLLC\", \"marker\": {\"color\": \"#ab63fa\", \"symbol\": \"circle\"}, \"mode\": \"markers\", \"name\": \"GETHSEMANE CARDIOVASCULAR CLINIC PLLC\", \"showlegend\": true, \"type\": \"scattergl\", \"x\": [\"PAUL JACKSON\"], \"xaxis\": \"x\", \"y\": [477], \"yaxis\": \"y\"}, {\"hovertemplate\": \"to_facility=CARESPOT OF LEBANON 1705 WEST MAIN STREET LLC<br>from_physician=%{x}<br>patient_count=%{y}<extra></extra>\", \"legendgroup\": \"CARESPOT OF LEBANON 1705 WEST MAIN STREET LLC\", \"marker\": {\"color\": \"#FFA15A\", \"symbol\": \"circle\"}, \"mode\": \"markers\", \"name\": \"CARESPOT OF LEBANON 1705 WEST MAIN STREET LLC\", \"showlegend\": true, \"type\": \"scattergl\", \"x\": [\"STEPHANIE VAUGHN\"], \"xaxis\": \"x\", \"y\": [59], \"yaxis\": \"y\"}, {\"hovertemplate\": \"to_facility=ADVANCED NEUROSCIENCES INSTITUTE<br>from_physician=%{x}<br>patient_count=%{y}<extra></extra>\", \"legendgroup\": \"ADVANCED NEUROSCIENCES INSTITUTE\", \"marker\": {\"color\": \"#19d3f3\", \"symbol\": \"circle\"}, \"mode\": \"markers\", \"name\": \"ADVANCED NEUROSCIENCES INSTITUTE\", \"showlegend\": true, \"type\": \"scattergl\", \"x\": [\"SAMUEL HUNTER\"], \"xaxis\": \"x\", \"y\": [261], \"yaxis\": \"y\"}, {\"hovertemplate\": \"to_facility=HEALTH CARE FOR LIFE TN, LLC<br>from_physician=%{x}<br>patient_count=%{y}<extra></extra>\", \"legendgroup\": \"HEALTH CARE FOR LIFE TN, LLC\", \"marker\": {\"color\": \"#FF6692\", \"symbol\": \"circle\"}, \"mode\": \"markers\", \"name\": \"HEALTH CARE FOR LIFE TN, LLC\", \"showlegend\": true, \"type\": \"scattergl\", \"x\": [\"JEFFREY JESSUP\"], \"xaxis\": \"x\", \"y\": [1021], \"yaxis\": \"y\"}, {\"hovertemplate\": \"to_facility=SUMMIT SURGERY CENTER LP<br>from_physician=%{x}<br>patient_count=%{y}<extra></extra>\", \"legendgroup\": \"SUMMIT SURGERY CENTER LP\", \"marker\": {\"color\": \"#B6E880\", \"symbol\": \"circle\"}, \"mode\": \"markers\", \"name\": \"SUMMIT SURGERY CENTER LP\", \"showlegend\": true, \"type\": \"scattergl\", \"x\": [\"NINA PORTER\", \"JANET FERGUSSON\", \"LEE SIMMONS\", \"STEVEN PLAXCO\", \"SARAH PALAZOLA\"], \"xaxis\": \"x\", \"y\": [57, 65, 158, 198, 56], \"yaxis\": \"y\"}, {\"hovertemplate\": \"to_facility=RACHEL B. DORRIS, LCSW, LLC<br>from_physician=%{x}<br>patient_count=%{y}<extra></extra>\", \"legendgroup\": \"RACHEL B. DORRIS, LCSW, LLC\", \"marker\": {\"color\": \"#FF97FF\", \"symbol\": \"circle\"}, \"mode\": \"markers\", \"name\": \"RACHEL B. DORRIS, LCSW, LLC\", \"showlegend\": true, \"type\": \"scattergl\", \"x\": [\"RACHEL DORRIS\"], \"xaxis\": \"x\", \"y\": [17], \"yaxis\": \"y\"}, {\"hovertemplate\": \"to_facility=TENNESSEE OBSTETRICS & GYNECOLOGY PLLC<br>from_physician=%{x}<br>patient_count=%{y}<extra></extra>\", \"legendgroup\": \"TENNESSEE OBSTETRICS & GYNECOLOGY PLLC\", \"marker\": {\"color\": \"#FECB52\", \"symbol\": \"circle\"}, \"mode\": \"markers\", \"name\": \"TENNESSEE OBSTETRICS & GYNECOLOGY PLLC\", \"showlegend\": true, \"type\": \"scattergl\", \"x\": [\"STEPHEN STAGGS\"], \"xaxis\": \"x\", \"y\": [73], \"yaxis\": \"y\"}, {\"hovertemplate\": \"to_facility=BALSAM PARTNERS, PLLC<br>from_physician=%{x}<br>patient_count=%{y}<extra></extra>\", \"legendgroup\": \"BALSAM PARTNERS, PLLC\", \"marker\": {\"color\": \"#636efa\", \"symbol\": \"circle\"}, \"mode\": \"markers\", \"name\": \"BALSAM PARTNERS, PLLC\", \"showlegend\": true, \"type\": \"scattergl\", \"x\": [\"JEFF TODD\"], \"xaxis\": \"x\", \"y\": [44], \"yaxis\": \"y\"}, {\"hovertemplate\": \"to_facility=MITCHELL STANLICK, D.C., LLC<br>from_physician=%{x}<br>patient_count=%{y}<extra></extra>\", \"legendgroup\": \"MITCHELL STANLICK, D.C., LLC\", \"marker\": {\"color\": \"#EF553B\", \"symbol\": \"circle\"}, \"mode\": \"markers\", \"name\": \"MITCHELL STANLICK, D.C., LLC\", \"showlegend\": true, \"type\": \"scattergl\", \"x\": [\"JEREMY BILLS\", \"MITCHELL STANLICK\"], \"xaxis\": \"x\", \"y\": [53, 51], \"yaxis\": \"y\"}, {\"hovertemplate\": \"to_facility=GENESYS FAMILY MEDICINE, PC<br>from_physician=%{x}<br>patient_count=%{y}<extra></extra>\", \"legendgroup\": \"GENESYS FAMILY MEDICINE, PC\", \"marker\": {\"color\": \"#00cc96\", \"symbol\": \"circle\"}, \"mode\": \"markers\", \"name\": \"GENESYS FAMILY MEDICINE, PC\", \"showlegend\": true, \"type\": \"scattergl\", \"x\": [\"CHRIS INGRAHAM\", \"HEIDI LAKES\"], \"xaxis\": \"x\", \"y\": [128, 131], \"yaxis\": \"y\"}, {\"hovertemplate\": \"to_facility=BETHANY CENTER FOR REHABILITATION AND HEALING LLC<br>from_physician=%{x}<br>patient_count=%{y}<extra></extra>\", \"legendgroup\": \"BETHANY CENTER FOR REHABILITATION AND HEALING LLC\", \"marker\": {\"color\": \"#ab63fa\", \"symbol\": \"circle\"}, \"mode\": \"markers\", \"name\": \"BETHANY CENTER FOR REHABILITATION AND HEALING LLC\", \"showlegend\": true, \"type\": \"scattergl\", \"x\": [\"RALF HABERMANN\"], \"xaxis\": \"x\", \"y\": [235], \"yaxis\": \"y\"}, {\"hovertemplate\": \"to_facility=SURGERY CENTER OF MIDDLE TENNESSEE LLC<br>from_physician=%{x}<br>patient_count=%{y}<extra></extra>\", \"legendgroup\": \"SURGERY CENTER OF MIDDLE TENNESSEE LLC\", \"marker\": {\"color\": \"#FFA15A\", \"symbol\": \"circle\"}, \"mode\": \"markers\", \"name\": \"SURGERY CENTER OF MIDDLE TENNESSEE LLC\", \"showlegend\": true, \"type\": \"scattergl\", \"x\": [\"JOSEPH NETTERVILLE\", \"LORI JOHNSON\", \"LINDA REYNOLDS\", \"ROSCOE ROBINSON\"], \"xaxis\": \"x\", \"y\": [69, 71, 117, 77], \"yaxis\": \"y\"}, {\"hovertemplate\": \"to_facility=WILLIAM J LITTMAN MD PC<br>from_physician=%{x}<br>patient_count=%{y}<extra></extra>\", \"legendgroup\": \"WILLIAM J LITTMAN MD PC\", \"marker\": {\"color\": \"#19d3f3\", \"symbol\": \"circle\"}, \"mode\": \"markers\", \"name\": \"WILLIAM J LITTMAN MD PC\", \"showlegend\": true, \"type\": \"scattergl\", \"x\": [\"WILLIAM LITTMAN\"], \"xaxis\": \"x\", \"y\": [307], \"yaxis\": \"y\"}, {\"hovertemplate\": \"to_facility=PERRIGIN MEDICAL PLLC<br>from_physician=%{x}<br>patient_count=%{y}<extra></extra>\", \"legendgroup\": \"PERRIGIN MEDICAL PLLC\", \"marker\": {\"color\": \"#FF6692\", \"symbol\": \"circle\"}, \"mode\": \"markers\", \"name\": \"PERRIGIN MEDICAL PLLC\", \"showlegend\": true, \"type\": \"scattergl\", \"x\": [\"JULIE PERRIGIN\"], \"xaxis\": \"x\", \"y\": [300], \"yaxis\": \"y\"}, {\"hovertemplate\": \"to_facility=MEADOWLARK INPATIENT SERVICES PLLC<br>from_physician=%{x}<br>patient_count=%{y}<extra></extra>\", \"legendgroup\": \"MEADOWLARK INPATIENT SERVICES PLLC\", \"marker\": {\"color\": \"#B6E880\", \"symbol\": \"circle\"}, \"mode\": \"markers\", \"name\": \"MEADOWLARK INPATIENT SERVICES PLLC\", \"showlegend\": true, \"type\": \"scattergl\", \"x\": [\"AMANDA ZIMMERMAN\", \"BRANDEE LYLE\"], \"xaxis\": \"x\", \"y\": [158, 211], \"yaxis\": \"y\"}, {\"hovertemplate\": \"to_facility=ROBBINS PLASTIC SURGERY, PLC<br>from_physician=%{x}<br>patient_count=%{y}<extra></extra>\", \"legendgroup\": \"ROBBINS PLASTIC SURGERY, PLC\", \"marker\": {\"color\": \"#FF97FF\", \"symbol\": \"circle\"}, \"mode\": \"markers\", \"name\": \"ROBBINS PLASTIC SURGERY, PLC\", \"showlegend\": true, \"type\": \"scattergl\", \"x\": [\"CHADWELL ROBBINS\"], \"xaxis\": \"x\", \"y\": [105], \"yaxis\": \"y\"}, {\"hovertemplate\": \"to_facility=OLD HICKORY PSYCHATRIC ASSOCIATED PLLC<br>from_physician=%{x}<br>patient_count=%{y}<extra></extra>\", \"legendgroup\": \"OLD HICKORY PSYCHATRIC ASSOCIATED PLLC\", \"marker\": {\"color\": \"#FECB52\", \"symbol\": \"circle\"}, \"mode\": \"markers\", \"name\": \"OLD HICKORY PSYCHATRIC ASSOCIATED PLLC\", \"showlegend\": true, \"type\": \"scattergl\", \"x\": [\"DON ELAZAR\"], \"xaxis\": \"x\", \"y\": [168], \"yaxis\": \"y\"}, {\"hovertemplate\": \"to_facility=NEW HORIZON DIABETES CLINIC<br>from_physician=%{x}<br>patient_count=%{y}<extra></extra>\", \"legendgroup\": \"NEW HORIZON DIABETES CLINIC\", \"marker\": {\"color\": \"#636efa\", \"symbol\": \"circle\"}, \"mode\": \"markers\", \"name\": \"NEW HORIZON DIABETES CLINIC\", \"showlegend\": true, \"type\": \"scattergl\", \"x\": [\"LUISA LEAL\"], \"xaxis\": \"x\", \"y\": [45], \"yaxis\": \"y\"}, {\"hovertemplate\": \"to_facility=EDMONDSON PIKE FAMILY PRACTICE AND WALK IN CLINIC<br>from_physician=%{x}<br>patient_count=%{y}<extra></extra>\", \"legendgroup\": \"EDMONDSON PIKE FAMILY PRACTICE AND WALK IN CLINIC\", \"marker\": {\"color\": \"#EF553B\", \"symbol\": \"circle\"}, \"mode\": \"markers\", \"name\": \"EDMONDSON PIKE FAMILY PRACTICE AND WALK IN CLINIC\", \"showlegend\": true, \"type\": \"scattergl\", \"x\": [\"JIAN WEI\"], \"xaxis\": \"x\", \"y\": [174], \"yaxis\": \"y\"}, {\"hovertemplate\": \"to_facility=MILLER CHIROPRACTIC CLINIC PA<br>from_physician=%{x}<br>patient_count=%{y}<extra></extra>\", \"legendgroup\": \"MILLER CHIROPRACTIC CLINIC PA\", \"marker\": {\"color\": \"#00cc96\", \"symbol\": \"circle\"}, \"mode\": \"markers\", \"name\": \"MILLER CHIROPRACTIC CLINIC PA\", \"showlegend\": true, \"type\": \"scattergl\", \"x\": [\"WILLIAM MILLER\"], \"xaxis\": \"x\", \"y\": [23], \"yaxis\": \"y\"}, {\"hovertemplate\": \"to_facility=STONES RIVER MEDICAL GROUP PC<br>from_physician=%{x}<br>patient_count=%{y}<extra></extra>\", \"legendgroup\": \"STONES RIVER MEDICAL GROUP PC\", \"marker\": {\"color\": \"#ab63fa\", \"symbol\": \"circle\"}, \"mode\": \"markers\", \"name\": \"STONES RIVER MEDICAL GROUP PC\", \"showlegend\": true, \"type\": \"scattergl\", \"x\": [\"LISA JACK\", \"TEJAL PATEL\"], \"xaxis\": \"x\", \"y\": [133, 196], \"yaxis\": \"y\"}, {\"hovertemplate\": \"to_facility=PRECISION CARE CHIROPRACTIC, PLLC<br>from_physician=%{x}<br>patient_count=%{y}<extra></extra>\", \"legendgroup\": \"PRECISION CARE CHIROPRACTIC, PLLC\", \"marker\": {\"color\": \"#FFA15A\", \"symbol\": \"circle\"}, \"mode\": \"markers\", \"name\": \"PRECISION CARE CHIROPRACTIC, PLLC\", \"showlegend\": true, \"type\": \"scattergl\", \"x\": [\"NICOLE ZYLA-HERRERA\"], \"xaxis\": \"x\", \"y\": [30], \"yaxis\": \"y\"}, {\"hovertemplate\": \"to_facility=TROUSDALE PHYSICIAN PRACTICES LLC<br>from_physician=%{x}<br>patient_count=%{y}<extra></extra>\", \"legendgroup\": \"TROUSDALE PHYSICIAN PRACTICES LLC\", \"marker\": {\"color\": \"#19d3f3\", \"symbol\": \"circle\"}, \"mode\": \"markers\", \"name\": \"TROUSDALE PHYSICIAN PRACTICES LLC\", \"showlegend\": true, \"type\": \"scattergl\", \"x\": [\"ANNE HENSLEY\"], \"xaxis\": \"x\", \"y\": [69], \"yaxis\": \"y\"}, {\"hovertemplate\": \"to_facility=NASHVILLE SKIN AND CANCER, PLC<br>from_physician=%{x}<br>patient_count=%{y}<extra></extra>\", \"legendgroup\": \"NASHVILLE SKIN AND CANCER, PLC\", \"marker\": {\"color\": \"#FF6692\", \"symbol\": \"circle\"}, \"mode\": \"markers\", \"name\": \"NASHVILLE SKIN AND CANCER, PLC\", \"showlegend\": true, \"type\": \"scattergl\", \"x\": [\"SHI FAY CHENG\", \"BRENT PENNINGTON\", \"ALLYSON BROOKE EASTHAM\", \"WALTER SIMS\", \"ADRIAN RODRIGUEZ\", \"LORIEN SITES\"], \"xaxis\": \"x\", \"y\": [485, 769, 1424, 404, 989, 1098], \"yaxis\": \"y\"}, {\"hovertemplate\": \"to_facility=GERTRUDE STONE MD PLLC<br>from_physician=%{x}<br>patient_count=%{y}<extra></extra>\", \"legendgroup\": \"GERTRUDE STONE MD PLLC\", \"marker\": {\"color\": \"#B6E880\", \"symbol\": \"circle\"}, \"mode\": \"markers\", \"name\": \"GERTRUDE STONE MD PLLC\", \"showlegend\": true, \"type\": \"scattergl\", \"x\": [\"GERTRUDE STONE\"], \"xaxis\": \"x\", \"y\": [89], \"yaxis\": \"y\"}, {\"hovertemplate\": \"to_facility=HEARING SOLUTIONS OF TENNESSEE, LLC<br>from_physician=%{x}<br>patient_count=%{y}<extra></extra>\", \"legendgroup\": \"HEARING SOLUTIONS OF TENNESSEE, LLC\", \"marker\": {\"color\": \"#FF97FF\", \"symbol\": \"circle\"}, \"mode\": \"markers\", \"name\": \"HEARING SOLUTIONS OF TENNESSEE, LLC\", \"showlegend\": true, \"type\": \"scattergl\", \"x\": [\"ANNE BOLING\", \"TANIA WILLIAMS\"], \"xaxis\": \"x\", \"y\": [91, 63], \"yaxis\": \"y\"}, {\"hovertemplate\": \"to_facility=TREVECCA CENTER FOR REHABILITATION AND HEALING LLC<br>from_physician=%{x}<br>patient_count=%{y}<extra></extra>\", \"legendgroup\": \"TREVECCA CENTER FOR REHABILITATION AND HEALING LLC\", \"marker\": {\"color\": \"#FECB52\", \"symbol\": \"circle\"}, \"mode\": \"markers\", \"name\": \"TREVECCA CENTER FOR REHABILITATION AND HEALING LLC\", \"showlegend\": true, \"type\": \"scattergl\", \"x\": [\"RALF HABERMANN\"], \"xaxis\": \"x\", \"y\": [239], \"yaxis\": \"y\"}, {\"hovertemplate\": \"to_facility=CENTENNIAL SURGERY CENTER LP<br>from_physician=%{x}<br>patient_count=%{y}<extra></extra>\", \"legendgroup\": \"CENTENNIAL SURGERY CENTER LP\", \"marker\": {\"color\": \"#636efa\", \"symbol\": \"circle\"}, \"mode\": \"markers\", \"name\": \"CENTENNIAL SURGERY CENTER LP\", \"showlegend\": true, \"type\": \"scattergl\", \"x\": [\"VON KHAMKEN\", \"MICHAEL SANTI\", \"AARON ELMORE\", \"PRISILA SALINAS\", \"STEVEN SPERRING\", \"TREVOR ELDRED\"], \"xaxis\": \"x\", \"y\": [62, 86, 106, 91, 312, 106], \"yaxis\": \"y\"}, {\"hovertemplate\": \"to_facility=FOOT AND ANKLE SPECIALISTS OF MIDDLE TENNESSEE<br>from_physician=%{x}<br>patient_count=%{y}<extra></extra>\", \"legendgroup\": \"FOOT AND ANKLE SPECIALISTS OF MIDDLE TENNESSEE\", \"marker\": {\"color\": \"#EF553B\", \"symbol\": \"circle\"}, \"mode\": \"markers\", \"name\": \"FOOT AND ANKLE SPECIALISTS OF MIDDLE TENNESSEE\", \"showlegend\": true, \"type\": \"scattergl\", \"x\": [\"MEEGHAN GILES\"], \"xaxis\": \"x\", \"y\": [205], \"yaxis\": \"y\"}, {\"hovertemplate\": \"to_facility=MIDTOWN HEALTH, PLLC<br>from_physician=%{x}<br>patient_count=%{y}<extra></extra>\", \"legendgroup\": \"MIDTOWN HEALTH, PLLC\", \"marker\": {\"color\": \"#00cc96\", \"symbol\": \"circle\"}, \"mode\": \"markers\", \"name\": \"MIDTOWN HEALTH, PLLC\", \"showlegend\": true, \"type\": \"scattergl\", \"x\": [\"CHADWICK JAMES\"], \"xaxis\": \"x\", \"y\": [102], \"yaxis\": \"y\"}, {\"hovertemplate\": \"to_facility=SOUTHERN ANESTHESIA CONSULTANTS LLC<br>from_physician=%{x}<br>patient_count=%{y}<extra></extra>\", \"legendgroup\": \"SOUTHERN ANESTHESIA CONSULTANTS LLC\", \"marker\": {\"color\": \"#ab63fa\", \"symbol\": \"circle\"}, \"mode\": \"markers\", \"name\": \"SOUTHERN ANESTHESIA CONSULTANTS LLC\", \"showlegend\": true, \"type\": \"scattergl\", \"x\": [\"STEVEN WADE\"], \"xaxis\": \"x\", \"y\": [241], \"yaxis\": \"y\"}, {\"hovertemplate\": \"to_facility=ODYSSEY HEALTHCARE OPERATING A LP<br>from_physician=%{x}<br>patient_count=%{y}<extra></extra>\", \"legendgroup\": \"ODYSSEY HEALTHCARE OPERATING A LP\", \"marker\": {\"color\": \"#FFA15A\", \"symbol\": \"circle\"}, \"mode\": \"markers\", \"name\": \"ODYSSEY HEALTHCARE OPERATING A LP\", \"showlegend\": true, \"type\": \"scattergl\", \"x\": [\"ALEXIS BRADDOCK\", \"BLAIR LEYHEW\"], \"xaxis\": \"x\", \"y\": [91, 60], \"yaxis\": \"y\"}, {\"hovertemplate\": \"to_facility=GASTROENTEROLOGY ASSOCIATES AT THE SUMMIT, P.C.<br>from_physician=%{x}<br>patient_count=%{y}<extra></extra>\", \"legendgroup\": \"GASTROENTEROLOGY ASSOCIATES AT THE SUMMIT, P.C.\", \"marker\": {\"color\": \"#19d3f3\", \"symbol\": \"circle\"}, \"mode\": \"markers\", \"name\": \"GASTROENTEROLOGY ASSOCIATES AT THE SUMMIT, P.C.\", \"showlegend\": true, \"type\": \"scattergl\", \"x\": [\"MAURICE BARNES, M.D.\"], \"xaxis\": \"x\", \"y\": [261], \"yaxis\": \"y\"}, {\"hovertemplate\": \"to_facility=SASH HEALTHCARE, PLC<br>from_physician=%{x}<br>patient_count=%{y}<extra></extra>\", \"legendgroup\": \"SASH HEALTHCARE, PLC\", \"marker\": {\"color\": \"#FF6692\", \"symbol\": \"circle\"}, \"mode\": \"markers\", \"name\": \"SASH HEALTHCARE, PLC\", \"showlegend\": true, \"type\": \"scattergl\", \"x\": [\"GERARD SHU TANGYIE\"], \"xaxis\": \"x\", \"y\": [227], \"yaxis\": \"y\"}, {\"hovertemplate\": \"to_facility=WILLOWBROOK HOSPICE, INC.<br>from_physician=%{x}<br>patient_count=%{y}<extra></extra>\", \"legendgroup\": \"WILLOWBROOK HOSPICE, INC.\", \"marker\": {\"color\": \"#B6E880\", \"symbol\": \"circle\"}, \"mode\": \"markers\", \"name\": \"WILLOWBROOK HOSPICE, INC.\", \"showlegend\": true, \"type\": \"scattergl\", \"x\": [\"HENRY LAU\"], \"xaxis\": \"x\", \"y\": [111], \"yaxis\": \"y\"}, {\"hovertemplate\": \"to_facility=BRENTWOOD DERMATOLOGY<br>from_physician=%{x}<br>patient_count=%{y}<extra></extra>\", \"legendgroup\": \"BRENTWOOD DERMATOLOGY\", \"marker\": {\"color\": \"#FF97FF\", \"symbol\": \"circle\"}, \"mode\": \"markers\", \"name\": \"BRENTWOOD DERMATOLOGY\", \"showlegend\": true, \"type\": \"scattergl\", \"x\": [\"WILLIAM MCDANIEL\"], \"xaxis\": \"x\", \"y\": [1266], \"yaxis\": \"y\"}, {\"hovertemplate\": \"to_facility=WATSON PRIMARY CARE PLLC<br>from_physician=%{x}<br>patient_count=%{y}<extra></extra>\", \"legendgroup\": \"WATSON PRIMARY CARE PLLC\", \"marker\": {\"color\": \"#FECB52\", \"symbol\": \"circle\"}, \"mode\": \"markers\", \"name\": \"WATSON PRIMARY CARE PLLC\", \"showlegend\": true, \"type\": \"scattergl\", \"x\": [\"STEPHEN WATSON\"], \"xaxis\": \"x\", \"y\": [97], \"yaxis\": \"y\"}, {\"hovertemplate\": \"to_facility=TOTAL BODY HEALTHCARE, INC<br>from_physician=%{x}<br>patient_count=%{y}<extra></extra>\", \"legendgroup\": \"TOTAL BODY HEALTHCARE, INC\", \"marker\": {\"color\": \"#636efa\", \"symbol\": \"circle\"}, \"mode\": \"markers\", \"name\": \"TOTAL BODY HEALTHCARE, INC\", \"showlegend\": true, \"type\": \"scattergl\", \"x\": [\"ALBERT THOMAS\"], \"xaxis\": \"x\", \"y\": [31], \"yaxis\": \"y\"}, {\"hovertemplate\": \"to_facility=HEALTH4LIFE CHIROPRACTIC, INC<br>from_physician=%{x}<br>patient_count=%{y}<extra></extra>\", \"legendgroup\": \"HEALTH4LIFE CHIROPRACTIC, INC\", \"marker\": {\"color\": \"#EF553B\", \"symbol\": \"circle\"}, \"mode\": \"markers\", \"name\": \"HEALTH4LIFE CHIROPRACTIC, INC\", \"showlegend\": true, \"type\": \"scattergl\", \"x\": [\"ADAM BROWN\", \"ZSOLT MULLER\"], \"xaxis\": \"x\", \"y\": [38, 14], \"yaxis\": \"y\"}, {\"hovertemplate\": \"to_facility=LASCASSAS EYE CARE PLLC<br>from_physician=%{x}<br>patient_count=%{y}<extra></extra>\", \"legendgroup\": \"LASCASSAS EYE CARE PLLC\", \"marker\": {\"color\": \"#00cc96\", \"symbol\": \"circle\"}, \"mode\": \"markers\", \"name\": \"LASCASSAS EYE CARE PLLC\", \"showlegend\": true, \"type\": \"scattergl\", \"x\": [\"MARY MCCUBBIN\"], \"xaxis\": \"x\", \"y\": [56], \"yaxis\": \"y\"}, {\"hovertemplate\": \"to_facility=MERCY HEALTH SERVICES, INC.<br>from_physician=%{x}<br>patient_count=%{y}<extra></extra>\", \"legendgroup\": \"MERCY HEALTH SERVICES, INC.\", \"marker\": {\"color\": \"#ab63fa\", \"symbol\": \"circle\"}, \"mode\": \"markers\", \"name\": \"MERCY HEALTH SERVICES, INC.\", \"showlegend\": true, \"type\": \"scattergl\", \"x\": [\"ANNE FOTTRELL\", \"CHRISTINE BETT-BELLEAU\", \"JASON TILLMAN\"], \"xaxis\": \"x\", \"y\": [24, 34, 52], \"yaxis\": \"y\"}, {\"hovertemplate\": \"to_facility=TWIN OAKS PRIMARY CARE, INC.<br>from_physician=%{x}<br>patient_count=%{y}<extra></extra>\", \"legendgroup\": \"TWIN OAKS PRIMARY CARE, INC.\", \"marker\": {\"color\": \"#FFA15A\", \"symbol\": \"circle\"}, \"mode\": \"markers\", \"name\": \"TWIN OAKS PRIMARY CARE, INC.\", \"showlegend\": true, \"type\": \"scattergl\", \"x\": [\"MICHAEL MACQUARRIE\"], \"xaxis\": \"x\", \"y\": [160], \"yaxis\": \"y\"}, {\"hovertemplate\": \"to_facility=PINEWOOD MEDICAL LLC<br>from_physician=%{x}<br>patient_count=%{y}<extra></extra>\", \"legendgroup\": \"PINEWOOD MEDICAL LLC\", \"marker\": {\"color\": \"#19d3f3\", \"symbol\": \"circle\"}, \"mode\": \"markers\", \"name\": \"PINEWOOD MEDICAL LLC\", \"showlegend\": true, \"type\": \"scattergl\", \"x\": [\"SUSAN ORSBON\"], \"xaxis\": \"x\", \"y\": [63], \"yaxis\": \"y\"}, {\"hovertemplate\": \"to_facility=PROHEALTH RURAL HEALTH SERVICES, INC<br>from_physician=%{x}<br>patient_count=%{y}<extra></extra>\", \"legendgroup\": \"PROHEALTH RURAL HEALTH SERVICES, INC\", \"marker\": {\"color\": \"#FF6692\", \"symbol\": \"circle\"}, \"mode\": \"markers\", \"name\": \"PROHEALTH RURAL HEALTH SERVICES, INC\", \"showlegend\": true, \"type\": \"scattergl\", \"x\": [\"BILL SEKULOVSKI\"], \"xaxis\": \"x\", \"y\": [108], \"yaxis\": \"y\"}, {\"hovertemplate\": \"to_facility=COOL SPRINGS EYECARE, PLLC<br>from_physician=%{x}<br>patient_count=%{y}<extra></extra>\", \"legendgroup\": \"COOL SPRINGS EYECARE, PLLC\", \"marker\": {\"color\": \"#B6E880\", \"symbol\": \"circle\"}, \"mode\": \"markers\", \"name\": \"COOL SPRINGS EYECARE, PLLC\", \"showlegend\": true, \"type\": \"scattergl\", \"x\": [\"MELISSA DOW\"], \"xaxis\": \"x\", \"y\": [142], \"yaxis\": \"y\"}, {\"hovertemplate\": \"to_facility=CONVENIENT & CARING CLINICS, PLLC<br>from_physician=%{x}<br>patient_count=%{y}<extra></extra>\", \"legendgroup\": \"CONVENIENT & CARING CLINICS, PLLC\", \"marker\": {\"color\": \"#FF97FF\", \"symbol\": \"circle\"}, \"mode\": \"markers\", \"name\": \"CONVENIENT & CARING CLINICS, PLLC\", \"showlegend\": true, \"type\": \"scattergl\", \"x\": [\"SOUTHIDA SENGSAYADETH\", \"STEVEN HATCHER\"], \"xaxis\": \"x\", \"y\": [72, 63], \"yaxis\": \"y\"}, {\"hovertemplate\": \"to_facility=TENNESSEE ORTHOPEDICS, P.C.<br>from_physician=%{x}<br>patient_count=%{y}<extra></extra>\", \"legendgroup\": \"TENNESSEE ORTHOPEDICS, P.C.\", \"marker\": {\"color\": \"#FECB52\", \"symbol\": \"circle\"}, \"mode\": \"markers\", \"name\": \"TENNESSEE ORTHOPEDICS, P.C.\", \"showlegend\": true, \"type\": \"scattergl\", \"x\": [\"CHRISTINA WOODS\", \"MARIE WISER\"], \"xaxis\": \"x\", \"y\": [56, 25], \"yaxis\": \"y\"}, {\"hovertemplate\": \"to_facility=AMEDISYS TENNESSEE, LLC<br>from_physician=%{x}<br>patient_count=%{y}<extra></extra>\", \"legendgroup\": \"AMEDISYS TENNESSEE, LLC\", \"marker\": {\"color\": \"#636efa\", \"symbol\": \"circle\"}, \"mode\": \"markers\", \"name\": \"AMEDISYS TENNESSEE, LLC\", \"showlegend\": true, \"type\": \"scattergl\", \"x\": [\"CAMERON SHEARER\"], \"xaxis\": \"x\", \"y\": [47], \"yaxis\": \"y\"}, {\"hovertemplate\": \"to_facility=FAMILY PODIATRY CENTER, P.C.<br>from_physician=%{x}<br>patient_count=%{y}<extra></extra>\", \"legendgroup\": \"FAMILY PODIATRY CENTER, P.C.\", \"marker\": {\"color\": \"#EF553B\", \"symbol\": \"circle\"}, \"mode\": \"markers\", \"name\": \"FAMILY PODIATRY CENTER, P.C.\", \"showlegend\": true, \"type\": \"scattergl\", \"x\": [\"WILLIAM COHEN\"], \"xaxis\": \"x\", \"y\": [339], \"yaxis\": \"y\"}, {\"hovertemplate\": \"to_facility=CARESPOT OF MURFREESBORO (1340 BROAD STREET), LLC<br>from_physician=%{x}<br>patient_count=%{y}<extra></extra>\", \"legendgroup\": \"CARESPOT OF MURFREESBORO (1340 BROAD STREET), LLC\", \"marker\": {\"color\": \"#00cc96\", \"symbol\": \"circle\"}, \"mode\": \"markers\", \"name\": \"CARESPOT OF MURFREESBORO (1340 BROAD STREET), LLC\", \"showlegend\": true, \"type\": \"scattergl\", \"x\": [\"JILL WENTZ\"], \"xaxis\": \"x\", \"y\": [54], \"yaxis\": \"y\"}, {\"hovertemplate\": \"to_facility=TOD R BUSHMAN DPM PC<br>from_physician=%{x}<br>patient_count=%{y}<extra></extra>\", \"legendgroup\": \"TOD R BUSHMAN DPM PC\", \"marker\": {\"color\": \"#ab63fa\", \"symbol\": \"circle\"}, \"mode\": \"markers\", \"name\": \"TOD R BUSHMAN DPM PC\", \"showlegend\": true, \"type\": \"scattergl\", \"x\": [\"TOD BUSHMAN\"], \"xaxis\": \"x\", \"y\": [101], \"yaxis\": \"y\"}, {\"hovertemplate\": \"to_facility=STEWART MENTAL HEALTH<br>from_physician=%{x}<br>patient_count=%{y}<extra></extra>\", \"legendgroup\": \"STEWART MENTAL HEALTH\", \"marker\": {\"color\": \"#FFA15A\", \"symbol\": \"circle\"}, \"mode\": \"markers\", \"name\": \"STEWART MENTAL HEALTH\", \"showlegend\": true, \"type\": \"scattergl\", \"x\": [\"SHARON STEWART\"], \"xaxis\": \"x\", \"y\": [83], \"yaxis\": \"y\"}, {\"hovertemplate\": \"to_facility=CRYSTAL CHIROPRACTIC PC<br>from_physician=%{x}<br>patient_count=%{y}<extra></extra>\", \"legendgroup\": \"CRYSTAL CHIROPRACTIC PC\", \"marker\": {\"color\": \"#19d3f3\", \"symbol\": \"circle\"}, \"mode\": \"markers\", \"name\": \"CRYSTAL CHIROPRACTIC PC\", \"showlegend\": true, \"type\": \"scattergl\", \"x\": [\"REJEANA CRYSTAL\", \"KEITH CRYSTAL\"], \"xaxis\": \"x\", \"y\": [24, 24], \"yaxis\": \"y\"}, {\"hovertemplate\": \"to_facility=MT. JULIET FAMILY CARE AND WALK-IN CLINIC, LLC<br>from_physician=%{x}<br>patient_count=%{y}<extra></extra>\", \"legendgroup\": \"MT. JULIET FAMILY CARE AND WALK-IN CLINIC, LLC\", \"marker\": {\"color\": \"#FF6692\", \"symbol\": \"circle\"}, \"mode\": \"markers\", \"name\": \"MT. JULIET FAMILY CARE AND WALK-IN CLINIC, LLC\", \"showlegend\": true, \"type\": \"scattergl\", \"x\": [\"JIMMY CHEEKS\"], \"xaxis\": \"x\", \"y\": [197], \"yaxis\": \"y\"}, {\"hovertemplate\": \"to_facility=MIDDLE TENNESSEE MEDICAL INC.<br>from_physician=%{x}<br>patient_count=%{y}<extra></extra>\", \"legendgroup\": \"MIDDLE TENNESSEE MEDICAL INC.\", \"marker\": {\"color\": \"#B6E880\", \"symbol\": \"circle\"}, \"mode\": \"markers\", \"name\": \"MIDDLE TENNESSEE MEDICAL INC.\", \"showlegend\": true, \"type\": \"scattergl\", \"x\": [\"SUE LEE\"], \"xaxis\": \"x\", \"y\": [85], \"yaxis\": \"y\"}, {\"hovertemplate\": \"to_facility=CARDIOVASCULAR INSTITUTE PC<br>from_physician=%{x}<br>patient_count=%{y}<extra></extra>\", \"legendgroup\": \"CARDIOVASCULAR INSTITUTE PC\", \"marker\": {\"color\": \"#FF97FF\", \"symbol\": \"circle\"}, \"mode\": \"markers\", \"name\": \"CARDIOVASCULAR INSTITUTE PC\", \"showlegend\": true, \"type\": \"scattergl\", \"x\": [\"RAM SHARMA\"], \"xaxis\": \"x\", \"y\": [520], \"yaxis\": \"y\"}, {\"hovertemplate\": \"to_facility=HENDERSONVILLE HOSPITAL CORPORATION<br>from_physician=%{x}<br>patient_count=%{y}<extra></extra>\", \"legendgroup\": \"HENDERSONVILLE HOSPITAL CORPORATION\", \"marker\": {\"color\": \"#FECB52\", \"symbol\": \"circle\"}, \"mode\": \"markers\", \"name\": \"HENDERSONVILLE HOSPITAL CORPORATION\", \"showlegend\": true, \"type\": \"scattergl\", \"x\": [\"DESIRAE TWILLA\", \"LUKE CANADA\", \"MICHAEL BERNUI\"], \"xaxis\": \"x\", \"y\": [62, 77, 40], \"yaxis\": \"y\"}, {\"hovertemplate\": \"to_facility=SCALES NUTRITION AND WELLNESS CENTER, PLLC<br>from_physician=%{x}<br>patient_count=%{y}<extra></extra>\", \"legendgroup\": \"SCALES NUTRITION AND WELLNESS CENTER, PLLC\", \"marker\": {\"color\": \"#636efa\", \"symbol\": \"circle\"}, \"mode\": \"markers\", \"name\": \"SCALES NUTRITION AND WELLNESS CENTER, PLLC\", \"showlegend\": true, \"type\": \"scattergl\", \"x\": [\"THOMAS SCALES\"], \"xaxis\": \"x\", \"y\": [105], \"yaxis\": \"y\"}, {\"hovertemplate\": \"to_facility=RISHI K SAXENA MD PC<br>from_physician=%{x}<br>patient_count=%{y}<extra></extra>\", \"legendgroup\": \"RISHI K SAXENA MD PC\", \"marker\": {\"color\": \"#EF553B\", \"symbol\": \"circle\"}, \"mode\": \"markers\", \"name\": \"RISHI K SAXENA MD PC\", \"showlegend\": true, \"type\": \"scattergl\", \"x\": [\"RISHI SAXENA\"], \"xaxis\": \"x\", \"y\": [158], \"yaxis\": \"y\"}, {\"hovertemplate\": \"to_facility=HH NUSS DPM INC PC<br>from_physician=%{x}<br>patient_count=%{y}<extra></extra>\", \"legendgroup\": \"HH NUSS DPM INC PC\", \"marker\": {\"color\": \"#00cc96\", \"symbol\": \"circle\"}, \"mode\": \"markers\", \"name\": \"HH NUSS DPM INC PC\", \"showlegend\": true, \"type\": \"scattergl\", \"x\": [\"HOWARD NUSS\"], \"xaxis\": \"x\", \"y\": [212], \"yaxis\": \"y\"}, {\"hovertemplate\": \"to_facility=NASHVILLE CARDIOLOGY CONSULTANTS, PC<br>from_physician=%{x}<br>patient_count=%{y}<extra></extra>\", \"legendgroup\": \"NASHVILLE CARDIOLOGY CONSULTANTS, PC\", \"marker\": {\"color\": \"#ab63fa\", \"symbol\": \"circle\"}, \"mode\": \"markers\", \"name\": \"NASHVILLE CARDIOLOGY CONSULTANTS, PC\", \"showlegend\": true, \"type\": \"scattergl\", \"x\": [\"MARCEL ELUHU\"], \"xaxis\": \"x\", \"y\": [77], \"yaxis\": \"y\"}, {\"hovertemplate\": \"to_facility=PRO MOTION PHYSICAL THERAPY LLC<br>from_physician=%{x}<br>patient_count=%{y}<extra></extra>\", \"legendgroup\": \"PRO MOTION PHYSICAL THERAPY LLC\", \"marker\": {\"color\": \"#FFA15A\", \"symbol\": \"circle\"}, \"mode\": \"markers\", \"name\": \"PRO MOTION PHYSICAL THERAPY LLC\", \"showlegend\": true, \"type\": \"scattergl\", \"x\": [\"PERRY SMITH\"], \"xaxis\": \"x\", \"y\": [15], \"yaxis\": \"y\"}, {\"hovertemplate\": \"to_facility=TRISTAR MEDICAL GROUP - CENTENNIAL PRIMARY CARE, LLC<br>from_physician=%{x}<br>patient_count=%{y}<extra></extra>\", \"legendgroup\": \"TRISTAR MEDICAL GROUP - CENTENNIAL PRIMARY CARE, LLC\", \"marker\": {\"color\": \"#19d3f3\", \"symbol\": \"circle\"}, \"mode\": \"markers\", \"name\": \"TRISTAR MEDICAL GROUP - CENTENNIAL PRIMARY CARE, LLC\", \"showlegend\": true, \"type\": \"scattergl\", \"x\": [\"TAMERA PACE\"], \"xaxis\": \"x\", \"y\": [165], \"yaxis\": \"y\"}, {\"hovertemplate\": \"to_facility=TRILBY E. WILLIAMS, M.D., PLLC<br>from_physician=%{x}<br>patient_count=%{y}<extra></extra>\", \"legendgroup\": \"TRILBY E. WILLIAMS, M.D., PLLC\", \"marker\": {\"color\": \"#FF6692\", \"symbol\": \"circle\"}, \"mode\": \"markers\", \"name\": \"TRILBY E. WILLIAMS, M.D., PLLC\", \"showlegend\": true, \"type\": \"scattergl\", \"x\": [\"TRILBY WILLIAMS\"], \"xaxis\": \"x\", \"y\": [103], \"yaxis\": \"y\"}, {\"hovertemplate\": \"to_facility=TENNESSEE FOOT & ANKLE SPECIALISTS PC<br>from_physician=%{x}<br>patient_count=%{y}<extra></extra>\", \"legendgroup\": \"TENNESSEE FOOT & ANKLE SPECIALISTS PC\", \"marker\": {\"color\": \"#B6E880\", \"symbol\": \"circle\"}, \"mode\": \"markers\", \"name\": \"TENNESSEE FOOT & ANKLE SPECIALISTS PC\", \"showlegend\": true, \"type\": \"scattergl\", \"x\": [\"JUSTIN JEX\"], \"xaxis\": \"x\", \"y\": [123], \"yaxis\": \"y\"}, {\"hovertemplate\": \"to_facility=ALLEGRY & ENT ASSOCIATES OF MIDDLE TENNESSEE, P.C.<br>from_physician=%{x}<br>patient_count=%{y}<extra></extra>\", \"legendgroup\": \"ALLEGRY & ENT ASSOCIATES OF MIDDLE TENNESSEE, P.C.\", \"marker\": {\"color\": \"#FF97FF\", \"symbol\": \"circle\"}, \"mode\": \"markers\", \"name\": \"ALLEGRY & ENT ASSOCIATES OF MIDDLE TENNESSEE, P.C.\", \"showlegend\": true, \"type\": \"scattergl\", \"x\": [\"SARAH WYATT\"], \"xaxis\": \"x\", \"y\": [191], \"yaxis\": \"y\"}, {\"hovertemplate\": \"to_facility=PRIMARY EYECARE GROUP, P.C.<br>from_physician=%{x}<br>patient_count=%{y}<extra></extra>\", \"legendgroup\": \"PRIMARY EYECARE GROUP, P.C.\", \"marker\": {\"color\": \"#FECB52\", \"symbol\": \"circle\"}, \"mode\": \"markers\", \"name\": \"PRIMARY EYECARE GROUP, P.C.\", \"showlegend\": true, \"type\": \"scattergl\", \"x\": [\"PETER VAN HOVEN\", \"KENNETH YOUNG\", \"NICHOLAS ENGLE\"], \"xaxis\": \"x\", \"y\": [285, 132, 56], \"yaxis\": \"y\"}, {\"hovertemplate\": \"to_facility=ALLERGY & ASTHMA CENTERS, PC<br>from_physician=%{x}<br>patient_count=%{y}<extra></extra>\", \"legendgroup\": \"ALLERGY & ASTHMA CENTERS, PC\", \"marker\": {\"color\": \"#636efa\", \"symbol\": \"circle\"}, \"mode\": \"markers\", \"name\": \"ALLERGY & ASTHMA CENTERS, PC\", \"showlegend\": true, \"type\": \"scattergl\", \"x\": [\"STEVEN TATE\"], \"xaxis\": \"x\", \"y\": [36], \"yaxis\": \"y\"}, {\"hovertemplate\": \"to_facility=CENTER FOR INFLAMMATORY DISEASE, PC<br>from_physician=%{x}<br>patient_count=%{y}<extra></extra>\", \"legendgroup\": \"CENTER FOR INFLAMMATORY DISEASE, PC\", \"marker\": {\"color\": \"#EF553B\", \"symbol\": \"circle\"}, \"mode\": \"markers\", \"name\": \"CENTER FOR INFLAMMATORY DISEASE, PC\", \"showlegend\": true, \"type\": \"scattergl\", \"x\": [\"ROBERT LAGRONE\"], \"xaxis\": \"x\", \"y\": [421], \"yaxis\": \"y\"}, {\"hovertemplate\": \"to_facility=PRAMOD B. WASUDEV, M.D., PLLC<br>from_physician=%{x}<br>patient_count=%{y}<extra></extra>\", \"legendgroup\": \"PRAMOD B. WASUDEV, M.D., PLLC\", \"marker\": {\"color\": \"#00cc96\", \"symbol\": \"circle\"}, \"mode\": \"markers\", \"name\": \"PRAMOD B. WASUDEV, M.D., PLLC\", \"showlegend\": true, \"type\": \"scattergl\", \"x\": [\"PRAMOD WASUDEV\"], \"xaxis\": \"x\", \"y\": [48], \"yaxis\": \"y\"}, {\"hovertemplate\": \"to_facility=FOR YOUR WELLNESS CHIROPRACTIC, LLC<br>from_physician=%{x}<br>patient_count=%{y}<extra></extra>\", \"legendgroup\": \"FOR YOUR WELLNESS CHIROPRACTIC, LLC\", \"marker\": {\"color\": \"#ab63fa\", \"symbol\": \"circle\"}, \"mode\": \"markers\", \"name\": \"FOR YOUR WELLNESS CHIROPRACTIC, LLC\", \"showlegend\": true, \"type\": \"scattergl\", \"x\": [\"KRISTEN WALKERWICZ\"], \"xaxis\": \"x\", \"y\": [16], \"yaxis\": \"y\"}, {\"hovertemplate\": \"to_facility=STEWART SHOFNER MD PC<br>from_physician=%{x}<br>patient_count=%{y}<extra></extra>\", \"legendgroup\": \"STEWART SHOFNER MD PC\", \"marker\": {\"color\": \"#FFA15A\", \"symbol\": \"circle\"}, \"mode\": \"markers\", \"name\": \"STEWART SHOFNER MD PC\", \"showlegend\": true, \"type\": \"scattergl\", \"x\": [\"ROBERT SHOFNER\"], \"xaxis\": \"x\", \"y\": [282], \"yaxis\": \"y\"}, {\"hovertemplate\": \"to_facility=PRECISION HEALTHCARE, INC.<br>from_physician=%{x}<br>patient_count=%{y}<extra></extra>\", \"legendgroup\": \"PRECISION HEALTHCARE, INC.\", \"marker\": {\"color\": \"#19d3f3\", \"symbol\": \"circle\"}, \"mode\": \"markers\", \"name\": \"PRECISION HEALTHCARE, INC.\", \"showlegend\": true, \"type\": \"scattergl\", \"x\": [\"RUTH KNAB\", \"MARY DUFF\", \"NICOLE PAGE\"], \"xaxis\": \"x\", \"y\": [65, 44, 106], \"yaxis\": \"y\"}, {\"hovertemplate\": \"to_facility=KATHERINE W. JONES, MD, PLC<br>from_physician=%{x}<br>patient_count=%{y}<extra></extra>\", \"legendgroup\": \"KATHERINE W. JONES, MD, PLC\", \"marker\": {\"color\": \"#FF6692\", \"symbol\": \"circle\"}, \"mode\": \"markers\", \"name\": \"KATHERINE W. JONES, MD, PLC\", \"showlegend\": true, \"type\": \"scattergl\", \"x\": [\"KATHERINE JONES\"], \"xaxis\": \"x\", \"y\": [312], \"yaxis\": \"y\"}, {\"hovertemplate\": \"to_facility=SUSAN DONAGHEY MD APMC<br>from_physician=%{x}<br>patient_count=%{y}<extra></extra>\", \"legendgroup\": \"SUSAN DONAGHEY MD APMC\", \"marker\": {\"color\": \"#B6E880\", \"symbol\": \"circle\"}, \"mode\": \"markers\", \"name\": \"SUSAN DONAGHEY MD APMC\", \"showlegend\": true, \"type\": \"scattergl\", \"x\": [\"SUSANA DONAGHEY\"], \"xaxis\": \"x\", \"y\": [367], \"yaxis\": \"y\"}, {\"hovertemplate\": \"to_facility=COOL SPRINGS OBSTETRICS & GYNECOLOGY, P.C.<br>from_physician=%{x}<br>patient_count=%{y}<extra></extra>\", \"legendgroup\": \"COOL SPRINGS OBSTETRICS & GYNECOLOGY, P.C.\", \"marker\": {\"color\": \"#FF97FF\", \"symbol\": \"circle\"}, \"mode\": \"markers\", \"name\": \"COOL SPRINGS OBSTETRICS & GYNECOLOGY, P.C.\", \"showlegend\": true, \"type\": \"scattergl\", \"x\": [\"JEFFREY LODGE\"], \"xaxis\": \"x\", \"y\": [112], \"yaxis\": \"y\"}, {\"hovertemplate\": \"to_facility=GORDONSVILLE CLINIC<br>from_physician=%{x}<br>patient_count=%{y}<extra></extra>\", \"legendgroup\": \"GORDONSVILLE CLINIC\", \"marker\": {\"color\": \"#FECB52\", \"symbol\": \"circle\"}, \"mode\": \"markers\", \"name\": \"GORDONSVILLE CLINIC\", \"showlegend\": true, \"type\": \"scattergl\", \"x\": [\"ANGELA MOSS\"], \"xaxis\": \"x\", \"y\": [258], \"yaxis\": \"y\"}, {\"hovertemplate\": \"to_facility=SURESH C. SARASWAT, MD, PC<br>from_physician=%{x}<br>patient_count=%{y}<extra></extra>\", \"legendgroup\": \"SURESH C. SARASWAT, MD, PC\", \"marker\": {\"color\": \"#636efa\", \"symbol\": \"circle\"}, \"mode\": \"markers\", \"name\": \"SURESH C. SARASWAT, MD, PC\", \"showlegend\": true, \"type\": \"scattergl\", \"x\": [\"SURESH SARASWAT\"], \"xaxis\": \"x\", \"y\": [150], \"yaxis\": \"y\"}, {\"hovertemplate\": \"to_facility=PULLIAM MIDDLE TENNESSEE SURGICAL ASSOCIATES PLLC<br>from_physician=%{x}<br>patient_count=%{y}<extra></extra>\", \"legendgroup\": \"PULLIAM MIDDLE TENNESSEE SURGICAL ASSOCIATES PLLC\", \"marker\": {\"color\": \"#EF553B\", \"symbol\": \"circle\"}, \"mode\": \"markers\", \"name\": \"PULLIAM MIDDLE TENNESSEE SURGICAL ASSOCIATES PLLC\", \"showlegend\": true, \"type\": \"scattergl\", \"x\": [\"SINA IRANMANESH\"], \"xaxis\": \"x\", \"y\": [125], \"yaxis\": \"y\"}, {\"hovertemplate\": \"to_facility=IN STEP FOOT & ANKLE CARE PC<br>from_physician=%{x}<br>patient_count=%{y}<extra></extra>\", \"legendgroup\": \"IN STEP FOOT & ANKLE CARE PC\", \"marker\": {\"color\": \"#00cc96\", \"symbol\": \"circle\"}, \"mode\": \"markers\", \"name\": \"IN STEP FOOT & ANKLE CARE PC\", \"showlegend\": true, \"type\": \"scattergl\", \"x\": [\"IRENE CAMPBELL\"], \"xaxis\": \"x\", \"y\": [1114], \"yaxis\": \"y\"}, {\"hovertemplate\": \"to_facility=IMPACT PHYSICAL THERAPY, LLC<br>from_physician=%{x}<br>patient_count=%{y}<extra></extra>\", \"legendgroup\": \"IMPACT PHYSICAL THERAPY, LLC\", \"marker\": {\"color\": \"#ab63fa\", \"symbol\": \"circle\"}, \"mode\": \"markers\", \"name\": \"IMPACT PHYSICAL THERAPY, LLC\", \"showlegend\": true, \"type\": \"scattergl\", \"x\": [\"JOHN BOUCHER\"], \"xaxis\": \"x\", \"y\": [33], \"yaxis\": \"y\"}, {\"hovertemplate\": \"to_facility=LONG HOLLOW CHIROPRACTIC LLC<br>from_physician=%{x}<br>patient_count=%{y}<extra></extra>\", \"legendgroup\": \"LONG HOLLOW CHIROPRACTIC LLC\", \"marker\": {\"color\": \"#FFA15A\", \"symbol\": \"circle\"}, \"mode\": \"markers\", \"name\": \"LONG HOLLOW CHIROPRACTIC LLC\", \"showlegend\": true, \"type\": \"scattergl\", \"x\": [\"STEVEN KOESTER\"], \"xaxis\": \"x\", \"y\": [22], \"yaxis\": \"y\"}, {\"hovertemplate\": \"to_facility=ADVANCED HEALTH AND WELLNESS CENTER OF NASHVILLE LLC<br>from_physician=%{x}<br>patient_count=%{y}<extra></extra>\", \"legendgroup\": \"ADVANCED HEALTH AND WELLNESS CENTER OF NASHVILLE LLC\", \"marker\": {\"color\": \"#19d3f3\", \"symbol\": \"circle\"}, \"mode\": \"markers\", \"name\": \"ADVANCED HEALTH AND WELLNESS CENTER OF NASHVILLE LLC\", \"showlegend\": true, \"type\": \"scattergl\", \"x\": [\"TRAVIS MORGAN\"], \"xaxis\": \"x\", \"y\": [11], \"yaxis\": \"y\"}, {\"hovertemplate\": \"to_facility=THE ALLERGY AND ASTHMA CENTER, P.C.<br>from_physician=%{x}<br>patient_count=%{y}<extra></extra>\", \"legendgroup\": \"THE ALLERGY AND ASTHMA CENTER, P.C.\", \"marker\": {\"color\": \"#FF6692\", \"symbol\": \"circle\"}, \"mode\": \"markers\", \"name\": \"THE ALLERGY AND ASTHMA CENTER, P.C.\", \"showlegend\": true, \"type\": \"scattergl\", \"x\": [\"CSABA RUSZNAK\", \"MARTHA BUTTERFIELD\", \"LESLIE NEWMAN\", \"EVA MILLER\"], \"xaxis\": \"x\", \"y\": [88, 59, 21, 29], \"yaxis\": \"y\"}, {\"hovertemplate\": \"to_facility=SKYLINE WOMENS HEALTH ASSOCIATES<br>from_physician=%{x}<br>patient_count=%{y}<extra></extra>\", \"legendgroup\": \"SKYLINE WOMENS HEALTH ASSOCIATES\", \"marker\": {\"color\": \"#B6E880\", \"symbol\": \"circle\"}, \"mode\": \"markers\", \"name\": \"SKYLINE WOMENS HEALTH ASSOCIATES\", \"showlegend\": true, \"type\": \"scattergl\", \"x\": [\"SARA HABIBIAN\", \"JAMES MILLER\"], \"xaxis\": \"x\", \"y\": [99, 154], \"yaxis\": \"y\"}, {\"hovertemplate\": \"to_facility=CENTENNIAL PSYCHIATRIC ASSOCIATES, LLC<br>from_physician=%{x}<br>patient_count=%{y}<extra></extra>\", \"legendgroup\": \"CENTENNIAL PSYCHIATRIC ASSOCIATES, LLC\", \"marker\": {\"color\": \"#FF97FF\", \"symbol\": \"circle\"}, \"mode\": \"markers\", \"name\": \"CENTENNIAL PSYCHIATRIC ASSOCIATES, LLC\", \"showlegend\": true, \"type\": \"scattergl\", \"x\": [\"ROBERT YATES\", \"JEFFREY ANDERSON\", \"BORIS VOINOV\", \"WILLIAM HINDS\", \"ANDREI AVENIDO\", \"JAMES MCFERRIN\", \"JAYMIE AVENIDO\", \"SARAN MUDUMBI\"], \"xaxis\": \"x\", \"y\": [89, 241, 78, 47, 268, 104, 183, 64], \"yaxis\": \"y\"}, {\"hovertemplate\": \"to_facility=COLLIER EYECARE, PLLC<br>from_physician=%{x}<br>patient_count=%{y}<extra></extra>\", \"legendgroup\": \"COLLIER EYECARE, PLLC\", \"marker\": {\"color\": \"#FECB52\", \"symbol\": \"circle\"}, \"mode\": \"markers\", \"name\": \"COLLIER EYECARE, PLLC\", \"showlegend\": true, \"type\": \"scattergl\", \"x\": [\"ELENA COLLIER\"], \"xaxis\": \"x\", \"y\": [46], \"yaxis\": \"y\"}, {\"hovertemplate\": \"to_facility=TENNESSEE HEALTHCARE PARTNERS, LLC<br>from_physician=%{x}<br>patient_count=%{y}<extra></extra>\", \"legendgroup\": \"TENNESSEE HEALTHCARE PARTNERS, LLC\", \"marker\": {\"color\": \"#636efa\", \"symbol\": \"circle\"}, \"mode\": \"markers\", \"name\": \"TENNESSEE HEALTHCARE PARTNERS, LLC\", \"showlegend\": true, \"type\": \"scattergl\", \"x\": [\"KRISTAL REED\"], \"xaxis\": \"x\", \"y\": [148], \"yaxis\": \"y\"}, {\"hovertemplate\": \"to_facility=CEDAR GROVE MEDICAL ASSOCIATES,LLC<br>from_physician=%{x}<br>patient_count=%{y}<extra></extra>\", \"legendgroup\": \"CEDAR GROVE MEDICAL ASSOCIATES,LLC\", \"marker\": {\"color\": \"#EF553B\", \"symbol\": \"circle\"}, \"mode\": \"markers\", \"name\": \"CEDAR GROVE MEDICAL ASSOCIATES,LLC\", \"showlegend\": true, \"type\": \"scattergl\", \"x\": [\"DANIELA CULLEN\", \"JACQUELINE PETERS\", \"TRACY CARTER\"], \"xaxis\": \"x\", \"y\": [67, 111, 39], \"yaxis\": \"y\"}, {\"hovertemplate\": \"to_facility=ALPHA MEDICAL ASSOCIATES, INC<br>from_physician=%{x}<br>patient_count=%{y}<extra></extra>\", \"legendgroup\": \"ALPHA MEDICAL ASSOCIATES, INC\", \"marker\": {\"color\": \"#00cc96\", \"symbol\": \"circle\"}, \"mode\": \"markers\", \"name\": \"ALPHA MEDICAL ASSOCIATES, INC\", \"showlegend\": true, \"type\": \"scattergl\", \"x\": [\"OLUFEMI ODUNUSI\"], \"xaxis\": \"x\", \"y\": [496], \"yaxis\": \"y\"}, {\"hovertemplate\": \"to_facility=GARY J SMITH MD PC<br>from_physician=%{x}<br>patient_count=%{y}<extra></extra>\", \"legendgroup\": \"GARY J SMITH MD PC\", \"marker\": {\"color\": \"#ab63fa\", \"symbol\": \"circle\"}, \"mode\": \"markers\", \"name\": \"GARY J SMITH MD PC\", \"showlegend\": true, \"type\": \"scattergl\", \"x\": [\"ELIZABETH EVERS\"], \"xaxis\": \"x\", \"y\": [860], \"yaxis\": \"y\"}, {\"hovertemplate\": \"to_facility=GENESIS PALLIATIVE CARE, PLLC<br>from_physician=%{x}<br>patient_count=%{y}<extra></extra>\", \"legendgroup\": \"GENESIS PALLIATIVE CARE, PLLC\", \"marker\": {\"color\": \"#FFA15A\", \"symbol\": \"circle\"}, \"mode\": \"markers\", \"name\": \"GENESIS PALLIATIVE CARE, PLLC\", \"showlegend\": true, \"type\": \"scattergl\", \"x\": [\"CHRISTOPHER PUCKETT\"], \"xaxis\": \"x\", \"y\": [40], \"yaxis\": \"y\"}, {\"hovertemplate\": \"to_facility=LIVING WELL CENTER, PLLC<br>from_physician=%{x}<br>patient_count=%{y}<extra></extra>\", \"legendgroup\": \"LIVING WELL CENTER, PLLC\", \"marker\": {\"color\": \"#19d3f3\", \"symbol\": \"circle\"}, \"mode\": \"markers\", \"name\": \"LIVING WELL CENTER, PLLC\", \"showlegend\": true, \"type\": \"scattergl\", \"x\": [\"KAREN BRIGGS\"], \"xaxis\": \"x\", \"y\": [30], \"yaxis\": \"y\"}, {\"hovertemplate\": \"to_facility=MIDDLE TENNESSEE EYECARE PLLC<br>from_physician=%{x}<br>patient_count=%{y}<extra></extra>\", \"legendgroup\": \"MIDDLE TENNESSEE EYECARE PLLC\", \"marker\": {\"color\": \"#FF6692\", \"symbol\": \"circle\"}, \"mode\": \"markers\", \"name\": \"MIDDLE TENNESSEE EYECARE PLLC\", \"showlegend\": true, \"type\": \"scattergl\", \"x\": [\"ANDREW COSTELLO\"], \"xaxis\": \"x\", \"y\": [120], \"yaxis\": \"y\"}, {\"hovertemplate\": \"to_facility=SMITH COUNTY FAMILY MEDICAL LLC<br>from_physician=%{x}<br>patient_count=%{y}<extra></extra>\", \"legendgroup\": \"SMITH COUNTY FAMILY MEDICAL LLC\", \"marker\": {\"color\": \"#B6E880\", \"symbol\": \"circle\"}, \"mode\": \"markers\", \"name\": \"SMITH COUNTY FAMILY MEDICAL LLC\", \"showlegend\": true, \"type\": \"scattergl\", \"x\": [\"KIMBERLY GREGORY\"], \"xaxis\": \"x\", \"y\": [87], \"yaxis\": \"y\"}, {\"hovertemplate\": \"to_facility=HEIKKI E KOSTAMAA MD PC<br>from_physician=%{x}<br>patient_count=%{y}<extra></extra>\", \"legendgroup\": \"HEIKKI E KOSTAMAA MD PC\", \"marker\": {\"color\": \"#FF97FF\", \"symbol\": \"circle\"}, \"mode\": \"markers\", \"name\": \"HEIKKI E KOSTAMAA MD PC\", \"showlegend\": true, \"type\": \"scattergl\", \"x\": [\"HEIKKI KOSTAMAA\"], \"xaxis\": \"x\", \"y\": [943], \"yaxis\": \"y\"}, {\"hovertemplate\": \"to_facility=SPRING HILL SURGERY CENTER, LLC<br>from_physician=%{x}<br>patient_count=%{y}<extra></extra>\", \"legendgroup\": \"SPRING HILL SURGERY CENTER, LLC\", \"marker\": {\"color\": \"#FECB52\", \"symbol\": \"circle\"}, \"mode\": \"markers\", \"name\": \"SPRING HILL SURGERY CENTER, LLC\", \"showlegend\": true, \"type\": \"scattergl\", \"x\": [\"DANIEL WEIKERT\"], \"xaxis\": \"x\", \"y\": [38], \"yaxis\": \"y\"}, {\"hovertemplate\": \"to_facility=ORAL SURGICAL INSTITUTE INC<br>from_physician=%{x}<br>patient_count=%{y}<extra></extra>\", \"legendgroup\": \"ORAL SURGICAL INSTITUTE INC\", \"marker\": {\"color\": \"#636efa\", \"symbol\": \"circle\"}, \"mode\": \"markers\", \"name\": \"ORAL SURGICAL INSTITUTE INC\", \"showlegend\": true, \"type\": \"scattergl\", \"x\": [\"ADAM PITTS\"], \"xaxis\": \"x\", \"y\": [52], \"yaxis\": \"y\"}, {\"hovertemplate\": \"to_facility=TRACESIDE DERMATOLOGY AND ALLERGY PLC<br>from_physician=%{x}<br>patient_count=%{y}<extra></extra>\", \"legendgroup\": \"TRACESIDE DERMATOLOGY AND ALLERGY PLC\", \"marker\": {\"color\": \"#EF553B\", \"symbol\": \"circle\"}, \"mode\": \"markers\", \"name\": \"TRACESIDE DERMATOLOGY AND ALLERGY PLC\", \"showlegend\": true, \"type\": \"scattergl\", \"x\": [\"AMY VALET\"], \"xaxis\": \"x\", \"y\": [131], \"yaxis\": \"y\"}, {\"hovertemplate\": \"to_facility=JOHN E. ANDERSON<br>from_physician=%{x}<br>patient_count=%{y}<extra></extra>\", \"legendgroup\": \"JOHN E. ANDERSON\", \"marker\": {\"color\": \"#00cc96\", \"symbol\": \"circle\"}, \"mode\": \"markers\", \"name\": \"JOHN E. ANDERSON\", \"showlegend\": true, \"type\": \"scattergl\", \"x\": [\"JOHN ANDERSON\", \"TERRI ANDERSON\"], \"xaxis\": \"x\", \"y\": [129, 57], \"yaxis\": \"y\"}, {\"hovertemplate\": \"to_facility=LOIS WAGSTROM M.D., P.C.<br>from_physician=%{x}<br>patient_count=%{y}<extra></extra>\", \"legendgroup\": \"LOIS WAGSTROM M.D., P.C.\", \"marker\": {\"color\": \"#ab63fa\", \"symbol\": \"circle\"}, \"mode\": \"markers\", \"name\": \"LOIS WAGSTROM M.D., P.C.\", \"showlegend\": true, \"type\": \"scattergl\", \"x\": [\"LOIS WAGSTROM\"], \"xaxis\": \"x\", \"y\": [62], \"yaxis\": \"y\"}, {\"hovertemplate\": \"to_facility=BRUCE L WOLF MD<br>from_physician=%{x}<br>patient_count=%{y}<extra></extra>\", \"legendgroup\": \"BRUCE L WOLF MD\", \"marker\": {\"color\": \"#FFA15A\", \"symbol\": \"circle\"}, \"mode\": \"markers\", \"name\": \"BRUCE L WOLF MD\", \"showlegend\": true, \"type\": \"scattergl\", \"x\": [\"BRUCE WOLF\"], \"xaxis\": \"x\", \"y\": [171], \"yaxis\": \"y\"}, {\"hovertemplate\": \"to_facility=PROGRESS IN MOTION, LLC<br>from_physician=%{x}<br>patient_count=%{y}<extra></extra>\", \"legendgroup\": \"PROGRESS IN MOTION, LLC\", \"marker\": {\"color\": \"#19d3f3\", \"symbol\": \"circle\"}, \"mode\": \"markers\", \"name\": \"PROGRESS IN MOTION, LLC\", \"showlegend\": true, \"type\": \"scattergl\", \"x\": [\"DANIEL HEADRICK\"], \"xaxis\": \"x\", \"y\": [45], \"yaxis\": \"y\"}, {\"hovertemplate\": \"to_facility=TENNESSEE IMAGING CONSULTANTS<br>from_physician=%{x}<br>patient_count=%{y}<extra></extra>\", \"legendgroup\": \"TENNESSEE IMAGING CONSULTANTS\", \"marker\": {\"color\": \"#FF6692\", \"symbol\": \"circle\"}, \"mode\": \"markers\", \"name\": \"TENNESSEE IMAGING CONSULTANTS\", \"showlegend\": true, \"type\": \"scattergl\", \"x\": [\"BARRY ALLEN\"], \"xaxis\": \"x\", \"y\": [2747], \"yaxis\": \"y\"}, {\"hovertemplate\": \"to_facility=RADNOR PSYCHIATRIC GROUP<br>from_physician=%{x}<br>patient_count=%{y}<extra></extra>\", \"legendgroup\": \"RADNOR PSYCHIATRIC GROUP\", \"marker\": {\"color\": \"#B6E880\", \"symbol\": \"circle\"}, \"mode\": \"markers\", \"name\": \"RADNOR PSYCHIATRIC GROUP\", \"showlegend\": true, \"type\": \"scattergl\", \"x\": [\"RICHARD ROCHESTER\"], \"xaxis\": \"x\", \"y\": [130], \"yaxis\": \"y\"}, {\"hovertemplate\": \"to_facility=FEAGINS MEDICAL GROUP, PLLC<br>from_physician=%{x}<br>patient_count=%{y}<extra></extra>\", \"legendgroup\": \"FEAGINS MEDICAL GROUP, PLLC\", \"marker\": {\"color\": \"#FF97FF\", \"symbol\": \"circle\"}, \"mode\": \"markers\", \"name\": \"FEAGINS MEDICAL GROUP, PLLC\", \"showlegend\": true, \"type\": \"scattergl\", \"x\": [\"SHINDANA FEAGINS\"], \"xaxis\": \"x\", \"y\": [79], \"yaxis\": \"y\"}, {\"hovertemplate\": \"to_facility=FAMILY HEALTH CARE OF GALLATIN<br>from_physician=%{x}<br>patient_count=%{y}<extra></extra>\", \"legendgroup\": \"FAMILY HEALTH CARE OF GALLATIN\", \"marker\": {\"color\": \"#FECB52\", \"symbol\": \"circle\"}, \"mode\": \"markers\", \"name\": \"FAMILY HEALTH CARE OF GALLATIN\", \"showlegend\": true, \"type\": \"scattergl\", \"x\": [\"SUSAN ANDERSON\"], \"xaxis\": \"x\", \"y\": [105], \"yaxis\": \"y\"}, {\"hovertemplate\": \"to_facility=OSLIN PLASTIC SURGERY PLLC<br>from_physician=%{x}<br>patient_count=%{y}<extra></extra>\", \"legendgroup\": \"OSLIN PLASTIC SURGERY PLLC\", \"marker\": {\"color\": \"#636efa\", \"symbol\": \"circle\"}, \"mode\": \"markers\", \"name\": \"OSLIN PLASTIC SURGERY PLLC\", \"showlegend\": true, \"type\": \"scattergl\", \"x\": [\"BRYAN OSLIN\"], \"xaxis\": \"x\", \"y\": [143], \"yaxis\": \"y\"}, {\"hovertemplate\": \"to_facility=WILLIAM C SMITH II OD PC<br>from_physician=%{x}<br>patient_count=%{y}<extra></extra>\", \"legendgroup\": \"WILLIAM C SMITH II OD PC\", \"marker\": {\"color\": \"#EF553B\", \"symbol\": \"circle\"}, \"mode\": \"markers\", \"name\": \"WILLIAM C SMITH II OD PC\", \"showlegend\": true, \"type\": \"scattergl\", \"x\": [\"WILLIAM SMITH\"], \"xaxis\": \"x\", \"y\": [216], \"yaxis\": \"y\"}, {\"hovertemplate\": \"to_facility=SPECIAL CARE OPTOMETRY OF TENNESSEE, LLC<br>from_physician=%{x}<br>patient_count=%{y}<extra></extra>\", \"legendgroup\": \"SPECIAL CARE OPTOMETRY OF TENNESSEE, LLC\", \"marker\": {\"color\": \"#00cc96\", \"symbol\": \"circle\"}, \"mode\": \"markers\", \"name\": \"SPECIAL CARE OPTOMETRY OF TENNESSEE, LLC\", \"showlegend\": true, \"type\": \"scattergl\", \"x\": [\"MICHAEL POLITZER\"], \"xaxis\": \"x\", \"y\": [340], \"yaxis\": \"y\"}, {\"hovertemplate\": \"to_facility=CARESPOT OF DONELSON (2372 LEBANON ROAD), LLC<br>from_physician=%{x}<br>patient_count=%{y}<extra></extra>\", \"legendgroup\": \"CARESPOT OF DONELSON (2372 LEBANON ROAD), LLC\", \"marker\": {\"color\": \"#ab63fa\", \"symbol\": \"circle\"}, \"mode\": \"markers\", \"name\": \"CARESPOT OF DONELSON (2372 LEBANON ROAD), LLC\", \"showlegend\": true, \"type\": \"scattergl\", \"x\": [\"BRIAN JOHNS\", \"KATHRYN HEIDORN\"], \"xaxis\": \"x\", \"y\": [73, 85], \"yaxis\": \"y\"}, {\"hovertemplate\": \"to_facility=TRISTAR FAMILY CARE, LLC<br>from_physician=%{x}<br>patient_count=%{y}<extra></extra>\", \"legendgroup\": \"TRISTAR FAMILY CARE, LLC\", \"marker\": {\"color\": \"#FFA15A\", \"symbol\": \"circle\"}, \"mode\": \"markers\", \"name\": \"TRISTAR FAMILY CARE, LLC\", \"showlegend\": true, \"type\": \"scattergl\", \"x\": [\"DEANA HOOTON\"], \"xaxis\": \"x\", \"y\": [168], \"yaxis\": \"y\"}, {\"hovertemplate\": \"to_facility=TOP FLIGHT MEDICAL GROUP PLLC<br>from_physician=%{x}<br>patient_count=%{y}<extra></extra>\", \"legendgroup\": \"TOP FLIGHT MEDICAL GROUP PLLC\", \"marker\": {\"color\": \"#19d3f3\", \"symbol\": \"circle\"}, \"mode\": \"markers\", \"name\": \"TOP FLIGHT MEDICAL GROUP PLLC\", \"showlegend\": true, \"type\": \"scattergl\", \"x\": [\"SEKOU MOLETTE\"], \"xaxis\": \"x\", \"y\": [171], \"yaxis\": \"y\"}, {\"hovertemplate\": \"to_facility=OPTIQUE, PLLC.<br>from_physician=%{x}<br>patient_count=%{y}<extra></extra>\", \"legendgroup\": \"OPTIQUE, PLLC.\", \"marker\": {\"color\": \"#FF6692\", \"symbol\": \"circle\"}, \"mode\": \"markers\", \"name\": \"OPTIQUE, PLLC.\", \"showlegend\": true, \"type\": \"scattergl\", \"x\": [\"JEFFREY SONSINO\"], \"xaxis\": \"x\", \"y\": [42], \"yaxis\": \"y\"}, {\"hovertemplate\": \"to_facility=HO VISION GROUP, PLLC<br>from_physician=%{x}<br>patient_count=%{y}<extra></extra>\", \"legendgroup\": \"HO VISION GROUP, PLLC\", \"marker\": {\"color\": \"#B6E880\", \"symbol\": \"circle\"}, \"mode\": \"markers\", \"name\": \"HO VISION GROUP, PLLC\", \"showlegend\": true, \"type\": \"scattergl\", \"x\": [\"MICHAEL POLITZER\", \"JAMIE HO\"], \"xaxis\": \"x\", \"y\": [69, 77], \"yaxis\": \"y\"}, {\"hovertemplate\": \"to_facility=BIENVENIDO T. SAMSON MD<br>from_physician=%{x}<br>patient_count=%{y}<extra></extra>\", \"legendgroup\": \"BIENVENIDO T. SAMSON MD\", \"marker\": {\"color\": \"#FF97FF\", \"symbol\": \"circle\"}, \"mode\": \"markers\", \"name\": \"BIENVENIDO T. SAMSON MD\", \"showlegend\": true, \"type\": \"scattergl\", \"x\": [\"BIENVENIDO SAMSON\"], \"xaxis\": \"x\", \"y\": [205], \"yaxis\": \"y\"}, {\"hovertemplate\": \"to_facility=KENNETH L WILLIAMS MD PHD<br>from_physician=%{x}<br>patient_count=%{y}<extra></extra>\", \"legendgroup\": \"KENNETH L WILLIAMS MD PHD\", \"marker\": {\"color\": \"#FECB52\", \"symbol\": \"circle\"}, \"mode\": \"markers\", \"name\": \"KENNETH L WILLIAMS MD PHD\", \"showlegend\": true, \"type\": \"scattergl\", \"x\": [\"KENNETH WILLIAMS\"], \"xaxis\": \"x\", \"y\": [139], \"yaxis\": \"y\"}, {\"hovertemplate\": \"to_facility=MADISON ADULT MEDICINE, INC.<br>from_physician=%{x}<br>patient_count=%{y}<extra></extra>\", \"legendgroup\": \"MADISON ADULT MEDICINE, INC.\", \"marker\": {\"color\": \"#636efa\", \"symbol\": \"circle\"}, \"mode\": \"markers\", \"name\": \"MADISON ADULT MEDICINE, INC.\", \"showlegend\": true, \"type\": \"scattergl\", \"x\": [\"MARCUS MIN\"], \"xaxis\": \"x\", \"y\": [244], \"yaxis\": \"y\"}, {\"hovertemplate\": \"to_facility=SAINT THOMAS WEST HOSPITAL<br>from_physician=%{x}<br>patient_count=%{y}<extra></extra>\", \"legendgroup\": \"SAINT THOMAS WEST HOSPITAL\", \"marker\": {\"color\": \"#EF553B\", \"symbol\": \"circle\"}, \"mode\": \"markers\", \"name\": \"SAINT THOMAS WEST HOSPITAL\", \"showlegend\": true, \"type\": \"scattergl\", \"x\": [\"DONALD CRUMBO\"], \"xaxis\": \"x\", \"y\": [53], \"yaxis\": \"y\"}, {\"hovertemplate\": \"to_facility=SYMED, LLC<br>from_physician=%{x}<br>patient_count=%{y}<extra></extra>\", \"legendgroup\": \"SYMED, LLC\", \"marker\": {\"color\": \"#00cc96\", \"symbol\": \"circle\"}, \"mode\": \"markers\", \"name\": \"SYMED, LLC\", \"showlegend\": true, \"type\": \"scattergl\", \"x\": [\"AMY POWERS\", \"KIMBERLY SAVAGE\"], \"xaxis\": \"x\", \"y\": [312, 391], \"yaxis\": \"y\"}, {\"hovertemplate\": \"to_facility=CUMBERLAND CHIROPRACTIC AND SPORTS MEDICINE, LLC<br>from_physician=%{x}<br>patient_count=%{y}<extra></extra>\", \"legendgroup\": \"CUMBERLAND CHIROPRACTIC AND SPORTS MEDICINE, LLC\", \"marker\": {\"color\": \"#ab63fa\", \"symbol\": \"circle\"}, \"mode\": \"markers\", \"name\": \"CUMBERLAND CHIROPRACTIC AND SPORTS MEDICINE, LLC\", \"showlegend\": true, \"type\": \"scattergl\", \"x\": [\"RYAN HOUSE\"], \"xaxis\": \"x\", \"y\": [30], \"yaxis\": \"y\"}, {\"hovertemplate\": \"to_facility=KNIGHT FAMILY CHIROPRACTIC, PC<br>from_physician=%{x}<br>patient_count=%{y}<extra></extra>\", \"legendgroup\": \"KNIGHT FAMILY CHIROPRACTIC, PC\", \"marker\": {\"color\": \"#FFA15A\", \"symbol\": \"circle\"}, \"mode\": \"markers\", \"name\": \"KNIGHT FAMILY CHIROPRACTIC, PC\", \"showlegend\": true, \"type\": \"scattergl\", \"x\": [\"SUSAN KNIGHT-NANNI\"], \"xaxis\": \"x\", \"y\": [27], \"yaxis\": \"y\"}, {\"hovertemplate\": \"to_facility=TOTTY CHIROPRACTIC HEALTH & WELLNESS CENTER<br>from_physician=%{x}<br>patient_count=%{y}<extra></extra>\", \"legendgroup\": \"TOTTY CHIROPRACTIC HEALTH & WELLNESS CENTER\", \"marker\": {\"color\": \"#19d3f3\", \"symbol\": \"circle\"}, \"mode\": \"markers\", \"name\": \"TOTTY CHIROPRACTIC HEALTH & WELLNESS CENTER\", \"showlegend\": true, \"type\": \"scattergl\", \"x\": [\"MARK TOTTY\"], \"xaxis\": \"x\", \"y\": [42], \"yaxis\": \"y\"}, {\"hovertemplate\": \"to_facility=SMITH CHIROPRACTIC & REHABILITATION<br>from_physician=%{x}<br>patient_count=%{y}<extra></extra>\", \"legendgroup\": \"SMITH CHIROPRACTIC & REHABILITATION\", \"marker\": {\"color\": \"#FF6692\", \"symbol\": \"circle\"}, \"mode\": \"markers\", \"name\": \"SMITH CHIROPRACTIC & REHABILITATION\", \"showlegend\": true, \"type\": \"scattergl\", \"x\": [\"MATTHEW SMITH\"], \"xaxis\": \"x\", \"y\": [63], \"yaxis\": \"y\"}, {\"hovertemplate\": \"to_facility=BADRU, INC<br>from_physician=%{x}<br>patient_count=%{y}<extra></extra>\", \"legendgroup\": \"BADRU, INC\", \"marker\": {\"color\": \"#B6E880\", \"symbol\": \"circle\"}, \"mode\": \"markers\", \"name\": \"BADRU, INC\", \"showlegend\": true, \"type\": \"scattergl\", \"x\": [\"ALEXANDER BADRU\"], \"xaxis\": \"x\", \"y\": [479], \"yaxis\": \"y\"}, {\"hovertemplate\": \"to_facility=DONELSON OBSTETRICS & GYN<br>from_physician=%{x}<br>patient_count=%{y}<extra></extra>\", \"legendgroup\": \"DONELSON OBSTETRICS & GYN\", \"marker\": {\"color\": \"#FF97FF\", \"symbol\": \"circle\"}, \"mode\": \"markers\", \"name\": \"DONELSON OBSTETRICS & GYN\", \"showlegend\": true, \"type\": \"scattergl\", \"x\": [\"JOHN LINK\"], \"xaxis\": \"x\", \"y\": [137], \"yaxis\": \"y\"}, {\"hovertemplate\": \"to_facility=ELITE SPORTS MEDICINE AND ORTHOPAEDIC CENTER, PLC<br>from_physician=%{x}<br>patient_count=%{y}<extra></extra>\", \"legendgroup\": \"ELITE SPORTS MEDICINE AND ORTHOPAEDIC CENTER, PLC\", \"marker\": {\"color\": \"#FECB52\", \"symbol\": \"circle\"}, \"mode\": \"markers\", \"name\": \"ELITE SPORTS MEDICINE AND ORTHOPAEDIC CENTER, PLC\", \"showlegend\": true, \"type\": \"scattergl\", \"x\": [\"KATHRYN DIAL\", \"SIERRA DENEFE\"], \"xaxis\": \"x\", \"y\": [64, 190], \"yaxis\": \"y\"}, {\"hovertemplate\": \"to_facility=JAMES W GARNER JR MD PC<br>from_physician=%{x}<br>patient_count=%{y}<extra></extra>\", \"legendgroup\": \"JAMES W GARNER JR MD PC\", \"marker\": {\"color\": \"#636efa\", \"symbol\": \"circle\"}, \"mode\": \"markers\", \"name\": \"JAMES W GARNER JR MD PC\", \"showlegend\": true, \"type\": \"scattergl\", \"x\": [\"JAMES GARNER\"], \"xaxis\": \"x\", \"y\": [575], \"yaxis\": \"y\"}, {\"hovertemplate\": \"to_facility=FAMILY EYE CARE PLLC<br>from_physician=%{x}<br>patient_count=%{y}<extra></extra>\", \"legendgroup\": \"FAMILY EYE CARE PLLC\", \"marker\": {\"color\": \"#EF553B\", \"symbol\": \"circle\"}, \"mode\": \"markers\", \"name\": \"FAMILY EYE CARE PLLC\", \"showlegend\": true, \"type\": \"scattergl\", \"x\": [\"TERRY HENDRICKSON\"], \"xaxis\": \"x\", \"y\": [235], \"yaxis\": \"y\"}, {\"hovertemplate\": \"to_facility=NAGESWARA RAO CHUNDURU<br>from_physician=%{x}<br>patient_count=%{y}<extra></extra>\", \"legendgroup\": \"NAGESWARA RAO CHUNDURU\", \"marker\": {\"color\": \"#00cc96\", \"symbol\": \"circle\"}, \"mode\": \"markers\", \"name\": \"NAGESWARA RAO CHUNDURU\", \"showlegend\": true, \"type\": \"scattergl\", \"x\": [\"NAGESWARA CHUNDURU\"], \"xaxis\": \"x\", \"y\": [365], \"yaxis\": \"y\"}, {\"hovertemplate\": \"to_facility=WILLIAM J. BINKLEY, M.D. LLC<br>from_physician=%{x}<br>patient_count=%{y}<extra></extra>\", \"legendgroup\": \"WILLIAM J. BINKLEY, M.D. LLC\", \"marker\": {\"color\": \"#ab63fa\", \"symbol\": \"circle\"}, \"mode\": \"markers\", \"name\": \"WILLIAM J. BINKLEY, M.D. LLC\", \"showlegend\": true, \"type\": \"scattergl\", \"x\": [\"WILLIAM BINKLEY\"], \"xaxis\": \"x\", \"y\": [145], \"yaxis\": \"y\"}, {\"hovertemplate\": \"to_facility=THE CRESTVIEW CARE AND REHABILITATION CENTER, LLC<br>from_physician=%{x}<br>patient_count=%{y}<extra></extra>\", \"legendgroup\": \"THE CRESTVIEW CARE AND REHABILITATION CENTER, LLC\", \"marker\": {\"color\": \"#FFA15A\", \"symbol\": \"circle\"}, \"mode\": \"markers\", \"name\": \"THE CRESTVIEW CARE AND REHABILITATION CENTER, LLC\", \"showlegend\": true, \"type\": \"scattergl\", \"x\": [\"KEITH JUNIOR\"], \"xaxis\": \"x\", \"y\": [60], \"yaxis\": \"y\"}, {\"hovertemplate\": \"to_facility=CENTENNIAL SURGICAL CLINIC, LLC<br>from_physician=%{x}<br>patient_count=%{y}<extra></extra>\", \"legendgroup\": \"CENTENNIAL SURGICAL CLINIC, LLC\", \"marker\": {\"color\": \"#19d3f3\", \"symbol\": \"circle\"}, \"mode\": \"markers\", \"name\": \"CENTENNIAL SURGICAL CLINIC, LLC\", \"showlegend\": true, \"type\": \"scattergl\", \"x\": [\"SUSAN GARWOOD\"], \"xaxis\": \"x\", \"y\": [201], \"yaxis\": \"y\"}, {\"hovertemplate\": \"to_facility=T MICHAEL HELTON MD PLLC<br>from_physician=%{x}<br>patient_count=%{y}<extra></extra>\", \"legendgroup\": \"T MICHAEL HELTON MD PLLC\", \"marker\": {\"color\": \"#FF6692\", \"symbol\": \"circle\"}, \"mode\": \"markers\", \"name\": \"T MICHAEL HELTON MD PLLC\", \"showlegend\": true, \"type\": \"scattergl\", \"x\": [\"THOMAS HELTON\"], \"xaxis\": \"x\", \"y\": [768], \"yaxis\": \"y\"}, {\"hovertemplate\": \"to_facility=VOLUNTEER BEHAVIORAL HEALTH CARE SYSTEM<br>from_physician=%{x}<br>patient_count=%{y}<extra></extra>\", \"legendgroup\": \"VOLUNTEER BEHAVIORAL HEALTH CARE SYSTEM\", \"marker\": {\"color\": \"#B6E880\", \"symbol\": \"circle\"}, \"mode\": \"markers\", \"name\": \"VOLUNTEER BEHAVIORAL HEALTH CARE SYSTEM\", \"showlegend\": true, \"type\": \"scattergl\", \"x\": [\"KATHERINE GEE\", \"KAREN HALL\", \"MELYNIE CAGLE\", \"MELISSA SISCO\"], \"xaxis\": \"x\", \"y\": [126, 49, 140, 212], \"yaxis\": \"y\"}, {\"hovertemplate\": \"to_facility=IMPACT SPORTS MEDICINE & ORTHOPEDICS, PLLC<br>from_physician=%{x}<br>patient_count=%{y}<extra></extra>\", \"legendgroup\": \"IMPACT SPORTS MEDICINE & ORTHOPEDICS, PLLC\", \"marker\": {\"color\": \"#FF97FF\", \"symbol\": \"circle\"}, \"mode\": \"markers\", \"name\": \"IMPACT SPORTS MEDICINE & ORTHOPEDICS, PLLC\", \"showlegend\": true, \"type\": \"scattergl\", \"x\": [\"FRANK HOLMES\"], \"xaxis\": \"x\", \"y\": [150], \"yaxis\": \"y\"}, {\"hovertemplate\": \"to_facility=PREMIER ASC LLC<br>from_physician=%{x}<br>patient_count=%{y}<extra></extra>\", \"legendgroup\": \"PREMIER ASC LLC\", \"marker\": {\"color\": \"#FECB52\", \"symbol\": \"circle\"}, \"mode\": \"markers\", \"name\": \"PREMIER ASC LLC\", \"showlegend\": true, \"type\": \"scattergl\", \"x\": [\"LORI RIVARD\"], \"xaxis\": \"x\", \"y\": [60], \"yaxis\": \"y\"}, {\"hovertemplate\": \"to_facility=STEVEN G SCHOEMER PC<br>from_physician=%{x}<br>patient_count=%{y}<extra></extra>\", \"legendgroup\": \"STEVEN G SCHOEMER PC\", \"marker\": {\"color\": \"#636efa\", \"symbol\": \"circle\"}, \"mode\": \"markers\", \"name\": \"STEVEN G SCHOEMER PC\", \"showlegend\": true, \"type\": \"scattergl\", \"x\": [\"STEVEN SCHOEMER\", \"SARAH BALDWIN\"], \"xaxis\": \"x\", \"y\": [280, 168], \"yaxis\": \"y\"}, {\"hovertemplate\": \"to_facility=COLLINS EYE CENTER, PLLC<br>from_physician=%{x}<br>patient_count=%{y}<extra></extra>\", \"legendgroup\": \"COLLINS EYE CENTER, PLLC\", \"marker\": {\"color\": \"#EF553B\", \"symbol\": \"circle\"}, \"mode\": \"markers\", \"name\": \"COLLINS EYE CENTER, PLLC\", \"showlegend\": true, \"type\": \"scattergl\", \"x\": [\"CHARLES COLLINS\"], \"xaxis\": \"x\", \"y\": [43], \"yaxis\": \"y\"}, {\"hovertemplate\": \"to_facility=RESOLUTION THERAPY ASSOCIATES, PLLC<br>from_physician=%{x}<br>patient_count=%{y}<extra></extra>\", \"legendgroup\": \"RESOLUTION THERAPY ASSOCIATES, PLLC\", \"marker\": {\"color\": \"#00cc96\", \"symbol\": \"circle\"}, \"mode\": \"markers\", \"name\": \"RESOLUTION THERAPY ASSOCIATES, PLLC\", \"showlegend\": true, \"type\": \"scattergl\", \"x\": [\"TAMMIE CRECELIUS\", \"CHRISTINA JONES\"], \"xaxis\": \"x\", \"y\": [39, 27], \"yaxis\": \"y\"}, {\"hovertemplate\": \"to_facility=NASHVILLE GASTROINTESTINAL SPECIALISTS, LLC<br>from_physician=%{x}<br>patient_count=%{y}<extra></extra>\", \"legendgroup\": \"NASHVILLE GASTROINTESTINAL SPECIALISTS, LLC\", \"marker\": {\"color\": \"#ab63fa\", \"symbol\": \"circle\"}, \"mode\": \"markers\", \"name\": \"NASHVILLE GASTROINTESTINAL SPECIALISTS, LLC\", \"showlegend\": true, \"type\": \"scattergl\", \"x\": [\"MEGHAN DAHL\", \"YOUNG KIM\"], \"xaxis\": \"x\", \"y\": [74, 429], \"yaxis\": \"y\"}, {\"hovertemplate\": \"to_facility=JAY SCHRODER, DC, LLC<br>from_physician=%{x}<br>patient_count=%{y}<extra></extra>\", \"legendgroup\": \"JAY SCHRODER, DC, LLC\", \"marker\": {\"color\": \"#FFA15A\", \"symbol\": \"circle\"}, \"mode\": \"markers\", \"name\": \"JAY SCHRODER, DC, LLC\", \"showlegend\": true, \"type\": \"scattergl\", \"x\": [\"JAY SCHRODER\"], \"xaxis\": \"x\", \"y\": [33], \"yaxis\": \"y\"}, {\"hovertemplate\": \"to_facility=PEACE EYECARE<br>from_physician=%{x}<br>patient_count=%{y}<extra></extra>\", \"legendgroup\": \"PEACE EYECARE\", \"marker\": {\"color\": \"#19d3f3\", \"symbol\": \"circle\"}, \"mode\": \"markers\", \"name\": \"PEACE EYECARE\", \"showlegend\": true, \"type\": \"scattergl\", \"x\": [\"JARROD PEACE\"], \"xaxis\": \"x\", \"y\": [207], \"yaxis\": \"y\"}, {\"hovertemplate\": \"to_facility=NANDIGAM NEUROLOGY PLC<br>from_physician=%{x}<br>patient_count=%{y}<extra></extra>\", \"legendgroup\": \"NANDIGAM NEUROLOGY PLC\", \"marker\": {\"color\": \"#FF6692\", \"symbol\": \"circle\"}, \"mode\": \"markers\", \"name\": \"NANDIGAM NEUROLOGY PLC\", \"showlegend\": true, \"type\": \"scattergl\", \"x\": [\"RAM NARAYAN KAVEER NANDIGAM\"], \"xaxis\": \"x\", \"y\": [36], \"yaxis\": \"y\"}, {\"hovertemplate\": \"to_facility=SMYRNA PULMONARY AND SLEEP ASSOCIATES PLLC<br>from_physician=%{x}<br>patient_count=%{y}<extra></extra>\", \"legendgroup\": \"SMYRNA PULMONARY AND SLEEP ASSOCIATES PLLC\", \"marker\": {\"color\": \"#B6E880\", \"symbol\": \"circle\"}, \"mode\": \"markers\", \"name\": \"SMYRNA PULMONARY AND SLEEP ASSOCIATES PLLC\", \"showlegend\": true, \"type\": \"scattergl\", \"x\": [\"SHERRIE SMITH\", \"JODY WINTERS\"], \"xaxis\": \"x\", \"y\": [157, 71], \"yaxis\": \"y\"}, {\"hovertemplate\": \"to_facility=STUMB HEALTHCARE PROFESSIONALS, LLC<br>from_physician=%{x}<br>patient_count=%{y}<extra></extra>\", \"legendgroup\": \"STUMB HEALTHCARE PROFESSIONALS, LLC\", \"marker\": {\"color\": \"#FF97FF\", \"symbol\": \"circle\"}, \"mode\": \"markers\", \"name\": \"STUMB HEALTHCARE PROFESSIONALS, LLC\", \"showlegend\": true, \"type\": \"scattergl\", \"x\": [\"CRISTY STUMB\"], \"xaxis\": \"x\", \"y\": [115], \"yaxis\": \"y\"}, {\"hovertemplate\": \"to_facility=MARY A. MCELANEY, M.D.<br>from_physician=%{x}<br>patient_count=%{y}<extra></extra>\", \"legendgroup\": \"MARY A. MCELANEY, M.D.\", \"marker\": {\"color\": \"#FECB52\", \"symbol\": \"circle\"}, \"mode\": \"markers\", \"name\": \"MARY A. MCELANEY, M.D.\", \"showlegend\": true, \"type\": \"scattergl\", \"x\": [\"MARY MCELANEY\"], \"xaxis\": \"x\", \"y\": [262], \"yaxis\": \"y\"}, {\"hovertemplate\": \"to_facility=TENNESSEE SPORTS MEDICINE, PC<br>from_physician=%{x}<br>patient_count=%{y}<extra></extra>\", \"legendgroup\": \"TENNESSEE SPORTS MEDICINE, PC\", \"marker\": {\"color\": \"#636efa\", \"symbol\": \"circle\"}, \"mode\": \"markers\", \"name\": \"TENNESSEE SPORTS MEDICINE, PC\", \"showlegend\": true, \"type\": \"scattergl\", \"x\": [\"CHARLES KAELIN\"], \"xaxis\": \"x\", \"y\": [526], \"yaxis\": \"y\"}, {\"hovertemplate\": \"to_facility=NASHVILLE GASTROENTEROLOGY AND HEPATOLOGY PC<br>from_physician=%{x}<br>patient_count=%{y}<extra></extra>\", \"legendgroup\": \"NASHVILLE GASTROENTEROLOGY AND HEPATOLOGY PC\", \"marker\": {\"color\": \"#EF553B\", \"symbol\": \"circle\"}, \"mode\": \"markers\", \"name\": \"NASHVILLE GASTROENTEROLOGY AND HEPATOLOGY PC\", \"showlegend\": true, \"type\": \"scattergl\", \"x\": [\"EDMOND CONWAY\"], \"xaxis\": \"x\", \"y\": [46], \"yaxis\": \"y\"}, {\"hovertemplate\": \"to_facility=OP SERVICES<br>from_physician=%{x}<br>patient_count=%{y}<extra></extra>\", \"legendgroup\": \"OP SERVICES\", \"marker\": {\"color\": \"#00cc96\", \"symbol\": \"circle\"}, \"mode\": \"markers\", \"name\": \"OP SERVICES\", \"showlegend\": true, \"type\": \"scattergl\", \"x\": [\"MICHAEL OVERFELT\"], \"xaxis\": \"x\", \"y\": [27], \"yaxis\": \"y\"}, {\"hovertemplate\": \"to_facility=NOLENSVILLE FAMILY EYECARE LLC<br>from_physician=%{x}<br>patient_count=%{y}<extra></extra>\", \"legendgroup\": \"NOLENSVILLE FAMILY EYECARE LLC\", \"marker\": {\"color\": \"#ab63fa\", \"symbol\": \"circle\"}, \"mode\": \"markers\", \"name\": \"NOLENSVILLE FAMILY EYECARE LLC\", \"showlegend\": true, \"type\": \"scattergl\", \"x\": [\"PHILLIP HAYES\"], \"xaxis\": \"x\", \"y\": [97], \"yaxis\": \"y\"}, {\"hovertemplate\": \"to_facility=GATEWAY HEALTHCARE, PC<br>from_physician=%{x}<br>patient_count=%{y}<extra></extra>\", \"legendgroup\": \"GATEWAY HEALTHCARE, PC\", \"marker\": {\"color\": \"#FFA15A\", \"symbol\": \"circle\"}, \"mode\": \"markers\", \"name\": \"GATEWAY HEALTHCARE, PC\", \"showlegend\": true, \"type\": \"scattergl\", \"x\": [\"JOSEPH WEATHERSBY\"], \"xaxis\": \"x\", \"y\": [114], \"yaxis\": \"y\"}, {\"hovertemplate\": \"to_facility=CUMBERLAND ANESTHESIA, PLLC<br>from_physician=%{x}<br>patient_count=%{y}<extra></extra>\", \"legendgroup\": \"CUMBERLAND ANESTHESIA, PLLC\", \"marker\": {\"color\": \"#19d3f3\", \"symbol\": \"circle\"}, \"mode\": \"markers\", \"name\": \"CUMBERLAND ANESTHESIA, PLLC\", \"showlegend\": true, \"type\": \"scattergl\", \"x\": [\"DANNA WILLIS\", \"WAYNE WINFREE\", \"ADRIENNE KELLEY\"], \"xaxis\": \"x\", \"y\": [88, 97, 75], \"yaxis\": \"y\"}, {\"hovertemplate\": \"to_facility=BERRY HILL CHIROPRACTIC CLINIC<br>from_physician=%{x}<br>patient_count=%{y}<extra></extra>\", \"legendgroup\": \"BERRY HILL CHIROPRACTIC CLINIC\", \"marker\": {\"color\": \"#FF6692\", \"symbol\": \"circle\"}, \"mode\": \"markers\", \"name\": \"BERRY HILL CHIROPRACTIC CLINIC\", \"showlegend\": true, \"type\": \"scattergl\", \"x\": [\"BETH BARNETT\"], \"xaxis\": \"x\", \"y\": [120], \"yaxis\": \"y\"}, {\"hovertemplate\": \"to_facility=SPRINGFIELD SURGERY,P.C.<br>from_physician=%{x}<br>patient_count=%{y}<extra></extra>\", \"legendgroup\": \"SPRINGFIELD SURGERY,P.C.\", \"marker\": {\"color\": \"#B6E880\", \"symbol\": \"circle\"}, \"mode\": \"markers\", \"name\": \"SPRINGFIELD SURGERY,P.C.\", \"showlegend\": true, \"type\": \"scattergl\", \"x\": [\"SARBJEET KUMAR\"], \"xaxis\": \"x\", \"y\": [147], \"yaxis\": \"y\"}, {\"hovertemplate\": \"to_facility=HORIZON CHIROPRACTIC<br>from_physician=%{x}<br>patient_count=%{y}<extra></extra>\", \"legendgroup\": \"HORIZON CHIROPRACTIC\", \"marker\": {\"color\": \"#FF97FF\", \"symbol\": \"circle\"}, \"mode\": \"markers\", \"name\": \"HORIZON CHIROPRACTIC\", \"showlegend\": true, \"type\": \"scattergl\", \"x\": [\"TODD MCGILVRA\"], \"xaxis\": \"x\", \"y\": [33], \"yaxis\": \"y\"}, {\"hovertemplate\": \"to_facility=COLUMBIA MEDICAL GROUP-CENTENNIAL INC<br>from_physician=%{x}<br>patient_count=%{y}<extra></extra>\", \"legendgroup\": \"COLUMBIA MEDICAL GROUP-CENTENNIAL INC\", \"marker\": {\"color\": \"#FECB52\", \"symbol\": \"circle\"}, \"mode\": \"markers\", \"name\": \"COLUMBIA MEDICAL GROUP-CENTENNIAL INC\", \"showlegend\": true, \"type\": \"scattergl\", \"x\": [\"CLARENCE FOSTER III\"], \"xaxis\": \"x\", \"y\": [60], \"yaxis\": \"y\"}, {\"hovertemplate\": \"to_facility=JEFFREY D HORN MD PLLC<br>from_physician=%{x}<br>patient_count=%{y}<extra></extra>\", \"legendgroup\": \"JEFFREY D HORN MD PLLC\", \"marker\": {\"color\": \"#636efa\", \"symbol\": \"circle\"}, \"mode\": \"markers\", \"name\": \"JEFFREY D HORN MD PLLC\", \"showlegend\": true, \"type\": \"scattergl\", \"x\": [\"JEFFREY HORN\"], \"xaxis\": \"x\", \"y\": [469], \"yaxis\": \"y\"}, {\"hovertemplate\": \"to_facility=THE HEART AND VASCULAR CLINIC P.C.<br>from_physician=%{x}<br>patient_count=%{y}<extra></extra>\", \"legendgroup\": \"THE HEART AND VASCULAR CLINIC P.C.\", \"marker\": {\"color\": \"#EF553B\", \"symbol\": \"circle\"}, \"mode\": \"markers\", \"name\": \"THE HEART AND VASCULAR CLINIC P.C.\", \"showlegend\": true, \"type\": \"scattergl\", \"x\": [\"GINA CHANDLER\"], \"xaxis\": \"x\", \"y\": [635], \"yaxis\": \"y\"}, {\"hovertemplate\": \"to_facility=MESECK FAMILY CHIROPRACTIC LLC<br>from_physician=%{x}<br>patient_count=%{y}<extra></extra>\", \"legendgroup\": \"MESECK FAMILY CHIROPRACTIC LLC\", \"marker\": {\"color\": \"#00cc96\", \"symbol\": \"circle\"}, \"mode\": \"markers\", \"name\": \"MESECK FAMILY CHIROPRACTIC LLC\", \"showlegend\": true, \"type\": \"scattergl\", \"x\": [\"JACOB MESECK\"], \"xaxis\": \"x\", \"y\": [31], \"yaxis\": \"y\"}, {\"hovertemplate\": \"to_facility=JESSUP EYE CARE, INC.<br>from_physician=%{x}<br>patient_count=%{y}<extra></extra>\", \"legendgroup\": \"JESSUP EYE CARE, INC.\", \"marker\": {\"color\": \"#ab63fa\", \"symbol\": \"circle\"}, \"mode\": \"markers\", \"name\": \"JESSUP EYE CARE, INC.\", \"showlegend\": true, \"type\": \"scattergl\", \"x\": [\"JEFFREY JESSUP\"], \"xaxis\": \"x\", \"y\": [74], \"yaxis\": \"y\"}, {\"hovertemplate\": \"to_facility=SPINE AND PAIN PHYSICIANS SURGERY CENTER, LLC<br>from_physician=%{x}<br>patient_count=%{y}<extra></extra>\", \"legendgroup\": \"SPINE AND PAIN PHYSICIANS SURGERY CENTER, LLC\", \"marker\": {\"color\": \"#FFA15A\", \"symbol\": \"circle\"}, \"mode\": \"markers\", \"name\": \"SPINE AND PAIN PHYSICIANS SURGERY CENTER, LLC\", \"showlegend\": true, \"type\": \"scattergl\", \"x\": [\"CHARLES HILGENHURST\"], \"xaxis\": \"x\", \"y\": [81], \"yaxis\": \"y\"}, {\"hovertemplate\": \"to_facility=TRISTAR CARDIOVASCULAR SURGERY LLC<br>from_physician=%{x}<br>patient_count=%{y}<extra></extra>\", \"legendgroup\": \"TRISTAR CARDIOVASCULAR SURGERY LLC\", \"marker\": {\"color\": \"#19d3f3\", \"symbol\": \"circle\"}, \"mode\": \"markers\", \"name\": \"TRISTAR CARDIOVASCULAR SURGERY LLC\", \"showlegend\": true, \"type\": \"scattergl\", \"x\": [\"STEPHEN SANTI\"], \"xaxis\": \"x\", \"y\": [55], \"yaxis\": \"y\"}, {\"hovertemplate\": \"to_facility=AXIS CHIROPRACTIC, P.C.<br>from_physician=%{x}<br>patient_count=%{y}<extra></extra>\", \"legendgroup\": \"AXIS CHIROPRACTIC, P.C.\", \"marker\": {\"color\": \"#FF6692\", \"symbol\": \"circle\"}, \"mode\": \"markers\", \"name\": \"AXIS CHIROPRACTIC, P.C.\", \"showlegend\": true, \"type\": \"scattergl\", \"x\": [\"JENNY KIM\", \"STEVE KIM\"], \"xaxis\": \"x\", \"y\": [18, 12], \"yaxis\": \"y\"}, {\"hovertemplate\": \"to_facility=JOHN C WESTERKAMM MD PLLC<br>from_physician=%{x}<br>patient_count=%{y}<extra></extra>\", \"legendgroup\": \"JOHN C WESTERKAMM MD PLLC\", \"marker\": {\"color\": \"#B6E880\", \"symbol\": \"circle\"}, \"mode\": \"markers\", \"name\": \"JOHN C WESTERKAMM MD PLLC\", \"showlegend\": true, \"type\": \"scattergl\", \"x\": [\"JOHN WESTERKAMM\"], \"xaxis\": \"x\", \"y\": [336], \"yaxis\": \"y\"}, {\"hovertemplate\": \"to_facility=CUMBERLAND LUNG SPECIALISTS<br>from_physician=%{x}<br>patient_count=%{y}<extra></extra>\", \"legendgroup\": \"CUMBERLAND LUNG SPECIALISTS\", \"marker\": {\"color\": \"#FF97FF\", \"symbol\": \"circle\"}, \"mode\": \"markers\", \"name\": \"CUMBERLAND LUNG SPECIALISTS\", \"showlegend\": true, \"type\": \"scattergl\", \"x\": [\"AARON ESBENSHADE\"], \"xaxis\": \"x\", \"y\": [226], \"yaxis\": \"y\"}, {\"hovertemplate\": \"to_facility=DAWES CHIROPRACTIC, PLLC<br>from_physician=%{x}<br>patient_count=%{y}<extra></extra>\", \"legendgroup\": \"DAWES CHIROPRACTIC, PLLC\", \"marker\": {\"color\": \"#FECB52\", \"symbol\": \"circle\"}, \"mode\": \"markers\", \"name\": \"DAWES CHIROPRACTIC, PLLC\", \"showlegend\": true, \"type\": \"scattergl\", \"x\": [\"JAMES DAWES\"], \"xaxis\": \"x\", \"y\": [12], \"yaxis\": \"y\"}, {\"hovertemplate\": \"to_facility=STERLING PRIMARY CARE ASSOCIATES LLC<br>from_physician=%{x}<br>patient_count=%{y}<extra></extra>\", \"legendgroup\": \"STERLING PRIMARY CARE ASSOCIATES LLC\", \"marker\": {\"color\": \"#636efa\", \"symbol\": \"circle\"}, \"mode\": \"markers\", \"name\": \"STERLING PRIMARY CARE ASSOCIATES LLC\", \"showlegend\": true, \"type\": \"scattergl\", \"x\": [\"KERSTEN WOODLEE\"], \"xaxis\": \"x\", \"y\": [185], \"yaxis\": \"y\"}, {\"hovertemplate\": \"to_facility=NIDA STEINER, O.D. LLC<br>from_physician=%{x}<br>patient_count=%{y}<extra></extra>\", \"legendgroup\": \"NIDA STEINER, O.D. LLC\", \"marker\": {\"color\": \"#EF553B\", \"symbol\": \"circle\"}, \"mode\": \"markers\", \"name\": \"NIDA STEINER, O.D. LLC\", \"showlegend\": true, \"type\": \"scattergl\", \"x\": [\"NIDA STEINER\"], \"xaxis\": \"x\", \"y\": [166], \"yaxis\": \"y\"}, {\"hovertemplate\": \"to_facility=WOOSLEY CHIROPRACTIC REHABILITATION<br>from_physician=%{x}<br>patient_count=%{y}<extra></extra>\", \"legendgroup\": \"WOOSLEY CHIROPRACTIC REHABILITATION\", \"marker\": {\"color\": \"#00cc96\", \"symbol\": \"circle\"}, \"mode\": \"markers\", \"name\": \"WOOSLEY CHIROPRACTIC REHABILITATION\", \"showlegend\": true, \"type\": \"scattergl\", \"x\": [\"CHARLTON WOOSLEY\"], \"xaxis\": \"x\", \"y\": [80], \"yaxis\": \"y\"}, {\"hovertemplate\": \"to_facility=H DOUGLAS HOLLIDAY MD PLLC<br>from_physician=%{x}<br>patient_count=%{y}<extra></extra>\", \"legendgroup\": \"H DOUGLAS HOLLIDAY MD PLLC\", \"marker\": {\"color\": \"#ab63fa\", \"symbol\": \"circle\"}, \"mode\": \"markers\", \"name\": \"H DOUGLAS HOLLIDAY MD PLLC\", \"showlegend\": true, \"type\": \"scattergl\", \"x\": [\"HUGH HOLLIDAY\"], \"xaxis\": \"x\", \"y\": [140], \"yaxis\": \"y\"}, {\"hovertemplate\": \"to_facility=FULL CIRCLE CHIROPRACTIC & WELLNESS, PLLC<br>from_physician=%{x}<br>patient_count=%{y}<extra></extra>\", \"legendgroup\": \"FULL CIRCLE CHIROPRACTIC & WELLNESS, PLLC\", \"marker\": {\"color\": \"#FFA15A\", \"symbol\": \"circle\"}, \"mode\": \"markers\", \"name\": \"FULL CIRCLE CHIROPRACTIC & WELLNESS, PLLC\", \"showlegend\": true, \"type\": \"scattergl\", \"x\": [\"KYLE WEBB\"], \"xaxis\": \"x\", \"y\": [15], \"yaxis\": \"y\"}, {\"hovertemplate\": \"to_facility=AGAPE FAMILY HEALTHCARE LLC<br>from_physician=%{x}<br>patient_count=%{y}<extra></extra>\", \"legendgroup\": \"AGAPE FAMILY HEALTHCARE LLC\", \"marker\": {\"color\": \"#19d3f3\", \"symbol\": \"circle\"}, \"mode\": \"markers\", \"name\": \"AGAPE FAMILY HEALTHCARE LLC\", \"showlegend\": true, \"type\": \"scattergl\", \"x\": [\"BEVERLY DAVIDSON\"], \"xaxis\": \"x\", \"y\": [33], \"yaxis\": \"y\"}, {\"hovertemplate\": \"to_facility=UNIVERSITY COMMUNITY HEALTH SERVICES, INC<br>from_physician=%{x}<br>patient_count=%{y}<extra></extra>\", \"legendgroup\": \"UNIVERSITY COMMUNITY HEALTH SERVICES, INC\", \"marker\": {\"color\": \"#FF6692\", \"symbol\": \"circle\"}, \"mode\": \"markers\", \"name\": \"UNIVERSITY COMMUNITY HEALTH SERVICES, INC\", \"showlegend\": true, \"type\": \"scattergl\", \"x\": [\"REBEKAH ESPY\"], \"xaxis\": \"x\", \"y\": [35], \"yaxis\": \"y\"}, {\"hovertemplate\": \"to_facility=M.R. TAYLOR RAYBURN, JR. M.D. P.C.<br>from_physician=%{x}<br>patient_count=%{y}<extra></extra>\", \"legendgroup\": \"M.R. TAYLOR RAYBURN, JR. M.D. P.C.\", \"marker\": {\"color\": \"#B6E880\", \"symbol\": \"circle\"}, \"mode\": \"markers\", \"name\": \"M.R. TAYLOR RAYBURN, JR. M.D. P.C.\", \"showlegend\": true, \"type\": \"scattergl\", \"x\": [\"MARTIN RAYBURN\"], \"xaxis\": \"x\", \"y\": [370], \"yaxis\": \"y\"}, {\"hovertemplate\": \"to_facility=ONE STOP FAMILY CLINIC LLC<br>from_physician=%{x}<br>patient_count=%{y}<extra></extra>\", \"legendgroup\": \"ONE STOP FAMILY CLINIC LLC\", \"marker\": {\"color\": \"#FF97FF\", \"symbol\": \"circle\"}, \"mode\": \"markers\", \"name\": \"ONE STOP FAMILY CLINIC LLC\", \"showlegend\": true, \"type\": \"scattergl\", \"x\": [\"EMILY NELSON\"], \"xaxis\": \"x\", \"y\": [46], \"yaxis\": \"y\"}, {\"hovertemplate\": \"to_facility=OMNI COMMUNITY HEALTH<br>from_physician=%{x}<br>patient_count=%{y}<extra></extra>\", \"legendgroup\": \"OMNI COMMUNITY HEALTH\", \"marker\": {\"color\": \"#FECB52\", \"symbol\": \"circle\"}, \"mode\": \"markers\", \"name\": \"OMNI COMMUNITY HEALTH\", \"showlegend\": true, \"type\": \"scattergl\", \"x\": [\"HAYLEY MCMICHAEL\", \"TIMOTHY MOSS\"], \"xaxis\": \"x\", \"y\": [44, 113], \"yaxis\": \"y\"}, {\"hovertemplate\": \"to_facility=COLUMBIA MULTI SPECIALTY CLINIC PLLC<br>from_physician=%{x}<br>patient_count=%{y}<extra></extra>\", \"legendgroup\": \"COLUMBIA MULTI SPECIALTY CLINIC PLLC\", \"marker\": {\"color\": \"#636efa\", \"symbol\": \"circle\"}, \"mode\": \"markers\", \"name\": \"COLUMBIA MULTI SPECIALTY CLINIC PLLC\", \"showlegend\": true, \"type\": \"scattergl\", \"x\": [\"INDU BALI\"], \"xaxis\": \"x\", \"y\": [67], \"yaxis\": \"y\"}, {\"hovertemplate\": \"to_facility=CARTHAGE FAMILY PRACTICE SPECIALISTS, PC<br>from_physician=%{x}<br>patient_count=%{y}<extra></extra>\", \"legendgroup\": \"CARTHAGE FAMILY PRACTICE SPECIALISTS, PC\", \"marker\": {\"color\": \"#EF553B\", \"symbol\": \"circle\"}, \"mode\": \"markers\", \"name\": \"CARTHAGE FAMILY PRACTICE SPECIALISTS, PC\", \"showlegend\": true, \"type\": \"scattergl\", \"x\": [\"SABRA GENTRY\"], \"xaxis\": \"x\", \"y\": [84], \"yaxis\": \"y\"}, {\"hovertemplate\": \"to_facility=TIDWELL FAMILY VENTURES LLC<br>from_physician=%{x}<br>patient_count=%{y}<extra></extra>\", \"legendgroup\": \"TIDWELL FAMILY VENTURES LLC\", \"marker\": {\"color\": \"#00cc96\", \"symbol\": \"circle\"}, \"mode\": \"markers\", \"name\": \"TIDWELL FAMILY VENTURES LLC\", \"showlegend\": true, \"type\": \"scattergl\", \"x\": [\"RANDY TIDWELL\", \"CAROL MEDLEY\"], \"xaxis\": \"x\", \"y\": [97, 53], \"yaxis\": \"y\"}, {\"hovertemplate\": \"to_facility=GENESIS WOMENS CARE INC<br>from_physician=%{x}<br>patient_count=%{y}<extra></extra>\", \"legendgroup\": \"GENESIS WOMENS CARE INC\", \"marker\": {\"color\": \"#ab63fa\", \"symbol\": \"circle\"}, \"mode\": \"markers\", \"name\": \"GENESIS WOMENS CARE INC\", \"showlegend\": true, \"type\": \"scattergl\", \"x\": [\"NORMAN HAMBURGER\", \"KATHRYN KNIGHT\", \"GINA HAMRANG\"], \"xaxis\": \"x\", \"y\": [57, 89, 54], \"yaxis\": \"y\"}, {\"hovertemplate\": \"to_facility=MADISON MINOR EMERG CTR<br>from_physician=%{x}<br>patient_count=%{y}<extra></extra>\", \"legendgroup\": \"MADISON MINOR EMERG CTR\", \"marker\": {\"color\": \"#FFA15A\", \"symbol\": \"circle\"}, \"mode\": \"markers\", \"name\": \"MADISON MINOR EMERG CTR\", \"showlegend\": true, \"type\": \"scattergl\", \"x\": [\"KAREN DUFFY\"], \"xaxis\": \"x\", \"y\": [179], \"yaxis\": \"y\"}, {\"hovertemplate\": \"to_facility=GREEN HILLS CHIROPRACTIC CLINIC<br>from_physician=%{x}<br>patient_count=%{y}<extra></extra>\", \"legendgroup\": \"GREEN HILLS CHIROPRACTIC CLINIC\", \"marker\": {\"color\": \"#19d3f3\", \"symbol\": \"circle\"}, \"mode\": \"markers\", \"name\": \"GREEN HILLS CHIROPRACTIC CLINIC\", \"showlegend\": true, \"type\": \"scattergl\", \"x\": [\"ANDREA SELBY\"], \"xaxis\": \"x\", \"y\": [83], \"yaxis\": \"y\"}, {\"hovertemplate\": \"to_facility=MANESS FAMILY PRACTICE<br>from_physician=%{x}<br>patient_count=%{y}<extra></extra>\", \"legendgroup\": \"MANESS FAMILY PRACTICE\", \"marker\": {\"color\": \"#FF6692\", \"symbol\": \"circle\"}, \"mode\": \"markers\", \"name\": \"MANESS FAMILY PRACTICE\", \"showlegend\": true, \"type\": \"scattergl\", \"x\": [\"JOSEPH MANESS\"], \"xaxis\": \"x\", \"y\": [41], \"yaxis\": \"y\"}, {\"hovertemplate\": \"to_facility=UNIVERSAL REHAB SERVICES, INC.<br>from_physician=%{x}<br>patient_count=%{y}<extra></extra>\", \"legendgroup\": \"UNIVERSAL REHAB SERVICES, INC.\", \"marker\": {\"color\": \"#B6E880\", \"symbol\": \"circle\"}, \"mode\": \"markers\", \"name\": \"UNIVERSAL REHAB SERVICES, INC.\", \"showlegend\": true, \"type\": \"scattergl\", \"x\": [\"DILESH PATEL\", \"SOWMIYA SWAMINATHAN\"], \"xaxis\": \"x\", \"y\": [138, 20], \"yaxis\": \"y\"}, {\"hovertemplate\": \"to_facility=CARESPOT OF NASHVILLE (2001 GLEN ECHO ROAD), LLC<br>from_physician=%{x}<br>patient_count=%{y}<extra></extra>\", \"legendgroup\": \"CARESPOT OF NASHVILLE (2001 GLEN ECHO ROAD), LLC\", \"marker\": {\"color\": \"#FF97FF\", \"symbol\": \"circle\"}, \"mode\": \"markers\", \"name\": \"CARESPOT OF NASHVILLE (2001 GLEN ECHO ROAD), LLC\", \"showlegend\": true, \"type\": \"scattergl\", \"x\": [\"JASEN ISSA\"], \"xaxis\": \"x\", \"y\": [70], \"yaxis\": \"y\"}, {\"hovertemplate\": \"to_facility=DONALD L. MYNSTER, DC PC<br>from_physician=%{x}<br>patient_count=%{y}<extra></extra>\", \"legendgroup\": \"DONALD L. MYNSTER, DC PC\", \"marker\": {\"color\": \"#FECB52\", \"symbol\": \"circle\"}, \"mode\": \"markers\", \"name\": \"DONALD L. MYNSTER, DC PC\", \"showlegend\": true, \"type\": \"scattergl\", \"x\": [\"DONALD MYNSTER\"], \"xaxis\": \"x\", \"y\": [84], \"yaxis\": \"y\"}, {\"hovertemplate\": \"to_facility=VERTEX SPINE AND PAIN, PLLC<br>from_physician=%{x}<br>patient_count=%{y}<extra></extra>\", \"legendgroup\": \"VERTEX SPINE AND PAIN, PLLC\", \"marker\": {\"color\": \"#636efa\", \"symbol\": \"circle\"}, \"mode\": \"markers\", \"name\": \"VERTEX SPINE AND PAIN, PLLC\", \"showlegend\": true, \"type\": \"scattergl\", \"x\": [\"JOE SHAW\"], \"xaxis\": \"x\", \"y\": [143], \"yaxis\": \"y\"}, {\"hovertemplate\": \"to_facility=HOMETOWN HEALTHCARE<br>from_physician=%{x}<br>patient_count=%{y}<extra></extra>\", \"legendgroup\": \"HOMETOWN HEALTHCARE\", \"marker\": {\"color\": \"#EF553B\", \"symbol\": \"circle\"}, \"mode\": \"markers\", \"name\": \"HOMETOWN HEALTHCARE\", \"showlegend\": true, \"type\": \"scattergl\", \"x\": [\"JENIFER HUFFINES\"], \"xaxis\": \"x\", \"y\": [79], \"yaxis\": \"y\"}, {\"hovertemplate\": \"to_facility=LEBANON HEALTH CARE CENTER<br>from_physician=%{x}<br>patient_count=%{y}<extra></extra>\", \"legendgroup\": \"LEBANON HEALTH CARE CENTER\", \"marker\": {\"color\": \"#00cc96\", \"symbol\": \"circle\"}, \"mode\": \"markers\", \"name\": \"LEBANON HEALTH CARE CENTER\", \"showlegend\": true, \"type\": \"scattergl\", \"x\": [\"TYROMA RIGSBY\"], \"xaxis\": \"x\", \"y\": [22], \"yaxis\": \"y\"}, {\"hovertemplate\": \"to_facility=HBC NUTRITION LLC<br>from_physician=%{x}<br>patient_count=%{y}<extra></extra>\", \"legendgroup\": \"HBC NUTRITION LLC\", \"marker\": {\"color\": \"#ab63fa\", \"symbol\": \"circle\"}, \"mode\": \"markers\", \"name\": \"HBC NUTRITION LLC\", \"showlegend\": true, \"type\": \"scattergl\", \"x\": [\"HEATHER CRAIG\"], \"xaxis\": \"x\", \"y\": [29], \"yaxis\": \"y\"}, {\"hovertemplate\": \"to_facility=ENDOCRINOLOGY DIABETES ASSOCIATES<br>from_physician=%{x}<br>patient_count=%{y}<extra></extra>\", \"legendgroup\": \"ENDOCRINOLOGY DIABETES ASSOCIATES\", \"marker\": {\"color\": \"#FFA15A\", \"symbol\": \"circle\"}, \"mode\": \"markers\", \"name\": \"ENDOCRINOLOGY DIABETES ASSOCIATES\", \"showlegend\": true, \"type\": \"scattergl\", \"x\": [\"EMILY NEELY\", \"JOHN MCRAE\"], \"xaxis\": \"x\", \"y\": [423, 637], \"yaxis\": \"y\"}, {\"hovertemplate\": \"to_facility=SENTIENT PHYSICIANS, P.C.<br>from_physician=%{x}<br>patient_count=%{y}<extra></extra>\", \"legendgroup\": \"SENTIENT PHYSICIANS, P.C.\", \"marker\": {\"color\": \"#19d3f3\", \"symbol\": \"circle\"}, \"mode\": \"markers\", \"name\": \"SENTIENT PHYSICIANS, P.C.\", \"showlegend\": true, \"type\": \"scattergl\", \"x\": [\"ONILE SESTOKAS\"], \"xaxis\": \"x\", \"y\": [70], \"yaxis\": \"y\"}, {\"hovertemplate\": \"to_facility=MISSION CHIROPRACTIC<br>from_physician=%{x}<br>patient_count=%{y}<extra></extra>\", \"legendgroup\": \"MISSION CHIROPRACTIC\", \"marker\": {\"color\": \"#FF6692\", \"symbol\": \"circle\"}, \"mode\": \"markers\", \"name\": \"MISSION CHIROPRACTIC\", \"showlegend\": true, \"type\": \"scattergl\", \"x\": [\"RONSON DYKSTRA\"], \"xaxis\": \"x\", \"y\": [36], \"yaxis\": \"y\"}, {\"hovertemplate\": \"to_facility=WHITE BLUFF FAMILY HEALTH CARE CENTER INC<br>from_physician=%{x}<br>patient_count=%{y}<extra></extra>\", \"legendgroup\": \"WHITE BLUFF FAMILY HEALTH CARE CENTER INC\", \"marker\": {\"color\": \"#B6E880\", \"symbol\": \"circle\"}, \"mode\": \"markers\", \"name\": \"WHITE BLUFF FAMILY HEALTH CARE CENTER INC\", \"showlegend\": true, \"type\": \"scattergl\", \"x\": [\"EDWIN SIMON\"], \"xaxis\": \"x\", \"y\": [43], \"yaxis\": \"y\"}, {\"hovertemplate\": \"to_facility=WILSON COUNTY EYE SURGERY CENTER, LLC<br>from_physician=%{x}<br>patient_count=%{y}<extra></extra>\", \"legendgroup\": \"WILSON COUNTY EYE SURGERY CENTER, LLC\", \"marker\": {\"color\": \"#FF97FF\", \"symbol\": \"circle\"}, \"mode\": \"markers\", \"name\": \"WILSON COUNTY EYE SURGERY CENTER, LLC\", \"showlegend\": true, \"type\": \"scattergl\", \"x\": [\"DEBORAH HAAS\"], \"xaxis\": \"x\", \"y\": [65], \"yaxis\": \"y\"}, {\"hovertemplate\": \"to_facility=ASSOCIATED UROLOGISTS OF NASHVILLE<br>from_physician=%{x}<br>patient_count=%{y}<extra></extra>\", \"legendgroup\": \"ASSOCIATED UROLOGISTS OF NASHVILLE\", \"marker\": {\"color\": \"#FECB52\", \"symbol\": \"circle\"}, \"mode\": \"markers\", \"name\": \"ASSOCIATED UROLOGISTS OF NASHVILLE\", \"showlegend\": true, \"type\": \"scattergl\", \"x\": [\"JOHN WARNER\"], \"xaxis\": \"x\", \"y\": [966], \"yaxis\": \"y\"}, {\"hovertemplate\": \"to_facility=W SCOTT WEST, MD PLLC<br>from_physician=%{x}<br>patient_count=%{y}<extra></extra>\", \"legendgroup\": \"W SCOTT WEST, MD PLLC\", \"marker\": {\"color\": \"#636efa\", \"symbol\": \"circle\"}, \"mode\": \"markers\", \"name\": \"W SCOTT WEST, MD PLLC\", \"showlegend\": true, \"type\": \"scattergl\", \"x\": [\"WILLIAM WEST\"], \"xaxis\": \"x\", \"y\": [244], \"yaxis\": \"y\"}, {\"hovertemplate\": \"to_facility=EYE SURGER CENTER OF MIDDLE TENNESSEE, LLC<br>from_physician=%{x}<br>patient_count=%{y}<extra></extra>\", \"legendgroup\": \"EYE SURGER CENTER OF MIDDLE TENNESSEE, LLC\", \"marker\": {\"color\": \"#EF553B\", \"symbol\": \"circle\"}, \"mode\": \"markers\", \"name\": \"EYE SURGER CENTER OF MIDDLE TENNESSEE, LLC\", \"showlegend\": true, \"type\": \"scattergl\", \"x\": [\"JAMIE MORRISON\"], \"xaxis\": \"x\", \"y\": [146], \"yaxis\": \"y\"}, {\"hovertemplate\": \"to_facility=SULKOWSKI FAMILY MEDICINE, PLLC<br>from_physician=%{x}<br>patient_count=%{y}<extra></extra>\", \"legendgroup\": \"SULKOWSKI FAMILY MEDICINE, PLLC\", \"marker\": {\"color\": \"#00cc96\", \"symbol\": \"circle\"}, \"mode\": \"markers\", \"name\": \"SULKOWSKI FAMILY MEDICINE, PLLC\", \"showlegend\": true, \"type\": \"scattergl\", \"x\": [\"THOMAS SULKOWSKI\"], \"xaxis\": \"x\", \"y\": [89], \"yaxis\": \"y\"}, {\"hovertemplate\": \"to_facility=HELPING HOUSE, PLC<br>from_physician=%{x}<br>patient_count=%{y}<extra></extra>\", \"legendgroup\": \"HELPING HOUSE, PLC\", \"marker\": {\"color\": \"#ab63fa\", \"symbol\": \"circle\"}, \"mode\": \"markers\", \"name\": \"HELPING HOUSE, PLC\", \"showlegend\": true, \"type\": \"scattergl\", \"x\": [\"CORENA HARRIS\"], \"xaxis\": \"x\", \"y\": [29], \"yaxis\": \"y\"}, {\"hovertemplate\": \"to_facility=ROGER P. SHERMAN, M.D., P.L.L.C.<br>from_physician=%{x}<br>patient_count=%{y}<extra></extra>\", \"legendgroup\": \"ROGER P. SHERMAN, M.D., P.L.L.C.\", \"marker\": {\"color\": \"#FFA15A\", \"symbol\": \"circle\"}, \"mode\": \"markers\", \"name\": \"ROGER P. SHERMAN, M.D., P.L.L.C.\", \"showlegend\": true, \"type\": \"scattergl\", \"x\": [\"ROGER SHERMAN\"], \"xaxis\": \"x\", \"y\": [13], \"yaxis\": \"y\"}, {\"hovertemplate\": \"to_facility=UNITED NEIGHBORHOOD NEIGHBORHOOD HEALTH SERVICES, INC<br>from_physician=%{x}<br>patient_count=%{y}<extra></extra>\", \"legendgroup\": \"UNITED NEIGHBORHOOD NEIGHBORHOOD HEALTH SERVICES, INC\", \"marker\": {\"color\": \"#19d3f3\", \"symbol\": \"circle\"}, \"mode\": \"markers\", \"name\": \"UNITED NEIGHBORHOOD NEIGHBORHOOD HEALTH SERVICES, INC\", \"showlegend\": true, \"type\": \"scattergl\", \"x\": [\"JOSEPH OJIBWAY\"], \"xaxis\": \"x\", \"y\": [52], \"yaxis\": \"y\"}, {\"hovertemplate\": \"to_facility=LAWRENCE E. BURNS, DPM, INC.<br>from_physician=%{x}<br>patient_count=%{y}<extra></extra>\", \"legendgroup\": \"LAWRENCE E. BURNS, DPM, INC.\", \"marker\": {\"color\": \"#FF6692\", \"symbol\": \"circle\"}, \"mode\": \"markers\", \"name\": \"LAWRENCE E. BURNS, DPM, INC.\", \"showlegend\": true, \"type\": \"scattergl\", \"x\": [\"LAWRENCE BURNS\"], \"xaxis\": \"x\", \"y\": [375], \"yaxis\": \"y\"}, {\"hovertemplate\": \"to_facility=FRANKLIN HEARING CENTER, PC<br>from_physician=%{x}<br>patient_count=%{y}<extra></extra>\", \"legendgroup\": \"FRANKLIN HEARING CENTER, PC\", \"marker\": {\"color\": \"#B6E880\", \"symbol\": \"circle\"}, \"mode\": \"markers\", \"name\": \"FRANKLIN HEARING CENTER, PC\", \"showlegend\": true, \"type\": \"scattergl\", \"x\": [\"CYNTHIA ELLISON\"], \"xaxis\": \"x\", \"y\": [50], \"yaxis\": \"y\"}, {\"hovertemplate\": \"to_facility=HOPE FAMILY HEALTH SERVICES<br>from_physician=%{x}<br>patient_count=%{y}<extra></extra>\", \"legendgroup\": \"HOPE FAMILY HEALTH SERVICES\", \"marker\": {\"color\": \"#FF97FF\", \"symbol\": \"circle\"}, \"mode\": \"markers\", \"name\": \"HOPE FAMILY HEALTH SERVICES\", \"showlegend\": true, \"type\": \"scattergl\", \"x\": [\"RENA ALLGOOD\"], \"xaxis\": \"x\", \"y\": [26], \"yaxis\": \"y\"}, {\"hovertemplate\": \"to_facility=DONELSON FAMILY PRACTICE, PLLC<br>from_physician=%{x}<br>patient_count=%{y}<extra></extra>\", \"legendgroup\": \"DONELSON FAMILY PRACTICE, PLLC\", \"marker\": {\"color\": \"#FECB52\", \"symbol\": \"circle\"}, \"mode\": \"markers\", \"name\": \"DONELSON FAMILY PRACTICE, PLLC\", \"showlegend\": true, \"type\": \"scattergl\", \"x\": [\"GITA MISHRA\"], \"xaxis\": \"x\", \"y\": [43], \"yaxis\": \"y\"}, {\"hovertemplate\": \"to_facility=QIAN EYE CARE PLLC<br>from_physician=%{x}<br>patient_count=%{y}<extra></extra>\", \"legendgroup\": \"QIAN EYE CARE PLLC\", \"marker\": {\"color\": \"#636efa\", \"symbol\": \"circle\"}, \"mode\": \"markers\", \"name\": \"QIAN EYE CARE PLLC\", \"showlegend\": true, \"type\": \"scattergl\", \"x\": [\"JIN QIAN\"], \"xaxis\": \"x\", \"y\": [672], \"yaxis\": \"y\"}, {\"hovertemplate\": \"to_facility=DRAKE EYE CARE AND EYEWEAR PLLC<br>from_physician=%{x}<br>patient_count=%{y}<extra></extra>\", \"legendgroup\": \"DRAKE EYE CARE AND EYEWEAR PLLC\", \"marker\": {\"color\": \"#EF553B\", \"symbol\": \"circle\"}, \"mode\": \"markers\", \"name\": \"DRAKE EYE CARE AND EYEWEAR PLLC\", \"showlegend\": true, \"type\": \"scattergl\", \"x\": [\"JENNIFER DRAKE\"], \"xaxis\": \"x\", \"y\": [136], \"yaxis\": \"y\"}, {\"hovertemplate\": \"to_facility=NASHVILLE BONE AND JOINT PLLC<br>from_physician=%{x}<br>patient_count=%{y}<extra></extra>\", \"legendgroup\": \"NASHVILLE BONE AND JOINT PLLC\", \"marker\": {\"color\": \"#00cc96\", \"symbol\": \"circle\"}, \"mode\": \"markers\", \"name\": \"NASHVILLE BONE AND JOINT PLLC\", \"showlegend\": true, \"type\": \"scattergl\", \"x\": [\"RYAN MEYERS\"], \"xaxis\": \"x\", \"y\": [286], \"yaxis\": \"y\"}, {\"hovertemplate\": \"to_facility=STROKE & HEART ATTACK PREVENTION CENTER, PLLC<br>from_physician=%{x}<br>patient_count=%{y}<extra></extra>\", \"legendgroup\": \"STROKE & HEART ATTACK PREVENTION CENTER, PLLC\", \"marker\": {\"color\": \"#ab63fa\", \"symbol\": \"circle\"}, \"mode\": \"markers\", \"name\": \"STROKE & HEART ATTACK PREVENTION CENTER, PLLC\", \"showlegend\": true, \"type\": \"scattergl\", \"x\": [\"ALFRED CALLAHAN\"], \"xaxis\": \"x\", \"y\": [407], \"yaxis\": \"y\"}, {\"hovertemplate\": \"to_facility=PATTERSON CHIROPRACTIC SERVICES C.P.C.<br>from_physician=%{x}<br>patient_count=%{y}<extra></extra>\", \"legendgroup\": \"PATTERSON CHIROPRACTIC SERVICES C.P.C.\", \"marker\": {\"color\": \"#FFA15A\", \"symbol\": \"circle\"}, \"mode\": \"markers\", \"name\": \"PATTERSON CHIROPRACTIC SERVICES C.P.C.\", \"showlegend\": true, \"type\": \"scattergl\", \"x\": [\"PAUL PATTERSON\"], \"xaxis\": \"x\", \"y\": [78], \"yaxis\": \"y\"}, {\"hovertemplate\": \"to_facility=HTI MEMORIAL HOSPITAL CORPORATION<br>from_physician=%{x}<br>patient_count=%{y}<extra></extra>\", \"legendgroup\": \"HTI MEMORIAL HOSPITAL CORPORATION\", \"marker\": {\"color\": \"#19d3f3\", \"symbol\": \"circle\"}, \"mode\": \"markers\", \"name\": \"HTI MEMORIAL HOSPITAL CORPORATION\", \"showlegend\": true, \"type\": \"scattergl\", \"x\": [\"LYNSEY ROTHENBURGER\"], \"xaxis\": \"x\", \"y\": [126], \"yaxis\": \"y\"}, {\"hovertemplate\": \"to_facility=FAMILY MEDICAL PC<br>from_physician=%{x}<br>patient_count=%{y}<extra></extra>\", \"legendgroup\": \"FAMILY MEDICAL PC\", \"marker\": {\"color\": \"#FF6692\", \"symbol\": \"circle\"}, \"mode\": \"markers\", \"name\": \"FAMILY MEDICAL PC\", \"showlegend\": true, \"type\": \"scattergl\", \"x\": [\"TRACY MOSS\"], \"xaxis\": \"x\", \"y\": [372], \"yaxis\": \"y\"}, {\"hovertemplate\": \"to_facility=MODERN EYECARE CENTER, LLC<br>from_physician=%{x}<br>patient_count=%{y}<extra></extra>\", \"legendgroup\": \"MODERN EYECARE CENTER, LLC\", \"marker\": {\"color\": \"#B6E880\", \"symbol\": \"circle\"}, \"mode\": \"markers\", \"name\": \"MODERN EYECARE CENTER, LLC\", \"showlegend\": true, \"type\": \"scattergl\", \"x\": [\"DAVID MCAFEE\"], \"xaxis\": \"x\", \"y\": [82], \"yaxis\": \"y\"}, {\"hovertemplate\": \"to_facility=LEBANON ENDOSCOPY CENTER LLC<br>from_physician=%{x}<br>patient_count=%{y}<extra></extra>\", \"legendgroup\": \"LEBANON ENDOSCOPY CENTER LLC\", \"marker\": {\"color\": \"#FF97FF\", \"symbol\": \"circle\"}, \"mode\": \"markers\", \"name\": \"LEBANON ENDOSCOPY CENTER LLC\", \"showlegend\": true, \"type\": \"scattergl\", \"x\": [\"BRENDAN O'HARE\", \"CHARLES GOLDEN\"], \"xaxis\": \"x\", \"y\": [101, 98], \"yaxis\": \"y\"}, {\"hovertemplate\": \"to_facility=NASHVILLE PLASTIC AND RECONSTRUCTIVE SURGERY, PLC<br>from_physician=%{x}<br>patient_count=%{y}<extra></extra>\", \"legendgroup\": \"NASHVILLE PLASTIC AND RECONSTRUCTIVE SURGERY, PLC\", \"marker\": {\"color\": \"#FECB52\", \"symbol\": \"circle\"}, \"mode\": \"markers\", \"name\": \"NASHVILLE PLASTIC AND RECONSTRUCTIVE SURGERY, PLC\", \"showlegend\": true, \"type\": \"scattergl\", \"x\": [\"MICHAEL CASH\"], \"xaxis\": \"x\", \"y\": [46], \"yaxis\": \"y\"}, {\"hovertemplate\": \"to_facility=TENNESSEE PODIATRY LLC<br>from_physician=%{x}<br>patient_count=%{y}<extra></extra>\", \"legendgroup\": \"TENNESSEE PODIATRY LLC\", \"marker\": {\"color\": \"#636efa\", \"symbol\": \"circle\"}, \"mode\": \"markers\", \"name\": \"TENNESSEE PODIATRY LLC\", \"showlegend\": true, \"type\": \"scattergl\", \"x\": [\"RICHARD BREEDEN\"], \"xaxis\": \"x\", \"y\": [619], \"yaxis\": \"y\"}, {\"hovertemplate\": \"to_facility=CARESPOT OF HENDERSONVILLE 280 INDIAN LAKE BOULEVARD<br>from_physician=%{x}<br>patient_count=%{y}<extra></extra>\", \"legendgroup\": \"CARESPOT OF HENDERSONVILLE 280 INDIAN LAKE BOULEVARD\", \"marker\": {\"color\": \"#EF553B\", \"symbol\": \"circle\"}, \"mode\": \"markers\", \"name\": \"CARESPOT OF HENDERSONVILLE 280 INDIAN LAKE BOULEVARD\", \"showlegend\": true, \"type\": \"scattergl\", \"x\": [\"CANDICE SCHARKLET\"], \"xaxis\": \"x\", \"y\": [96], \"yaxis\": \"y\"}, {\"hovertemplate\": \"to_facility=GREG KYSER MD LLC<br>from_physician=%{x}<br>patient_count=%{y}<extra></extra>\", \"legendgroup\": \"GREG KYSER MD LLC\", \"marker\": {\"color\": \"#00cc96\", \"symbol\": \"circle\"}, \"mode\": \"markers\", \"name\": \"GREG KYSER MD LLC\", \"showlegend\": true, \"type\": \"scattergl\", \"x\": [\"JAMES KYSER\"], \"xaxis\": \"x\", \"y\": [36], \"yaxis\": \"y\"}, {\"hovertemplate\": \"to_facility=WAYNE A POTTER DC PC<br>from_physician=%{x}<br>patient_count=%{y}<extra></extra>\", \"legendgroup\": \"WAYNE A POTTER DC PC\", \"marker\": {\"color\": \"#ab63fa\", \"symbol\": \"circle\"}, \"mode\": \"markers\", \"name\": \"WAYNE A POTTER DC PC\", \"showlegend\": true, \"type\": \"scattergl\", \"x\": [\"WAYNE POTTER\"], \"xaxis\": \"x\", \"y\": [38], \"yaxis\": \"y\"}, {\"hovertemplate\": \"to_facility=MIDDLE TENN ENT SPECIALISTS<br>from_physician=%{x}<br>patient_count=%{y}<extra></extra>\", \"legendgroup\": \"MIDDLE TENN ENT SPECIALISTS\", \"marker\": {\"color\": \"#FFA15A\", \"symbol\": \"circle\"}, \"mode\": \"markers\", \"name\": \"MIDDLE TENN ENT SPECIALISTS\", \"showlegend\": true, \"type\": \"scattergl\", \"x\": [\"SHAUN CORBIN\"], \"xaxis\": \"x\", \"y\": [1302], \"yaxis\": \"y\"}, {\"hovertemplate\": \"to_facility=HUGHES MCDANIEL & ASSOCIATES PLC<br>from_physician=%{x}<br>patient_count=%{y}<extra></extra>\", \"legendgroup\": \"HUGHES MCDANIEL & ASSOCIATES PLC\", \"marker\": {\"color\": \"#19d3f3\", \"symbol\": \"circle\"}, \"mode\": \"markers\", \"name\": \"HUGHES MCDANIEL & ASSOCIATES PLC\", \"showlegend\": true, \"type\": \"scattergl\", \"x\": [\"JACQUELINE TANG-MORGAN\"], \"xaxis\": \"x\", \"y\": [32], \"yaxis\": \"y\"}, {\"hovertemplate\": \"to_facility=TOTAL WELLNESS THERAPY, LLC<br>from_physician=%{x}<br>patient_count=%{y}<extra></extra>\", \"legendgroup\": \"TOTAL WELLNESS THERAPY, LLC\", \"marker\": {\"color\": \"#FF6692\", \"symbol\": \"circle\"}, \"mode\": \"markers\", \"name\": \"TOTAL WELLNESS THERAPY, LLC\", \"showlegend\": true, \"type\": \"scattergl\", \"x\": [\"SARAH WOODWARD\"], \"xaxis\": \"x\", \"y\": [15], \"yaxis\": \"y\"}, {\"hovertemplate\": \"to_facility=GENERATION CHIROPRACTIC<br>from_physician=%{x}<br>patient_count=%{y}<extra></extra>\", \"legendgroup\": \"GENERATION CHIROPRACTIC\", \"marker\": {\"color\": \"#B6E880\", \"symbol\": \"circle\"}, \"mode\": \"markers\", \"name\": \"GENERATION CHIROPRACTIC\", \"showlegend\": true, \"type\": \"scattergl\", \"x\": [\"DEANDRA HERNDON\"], \"xaxis\": \"x\", \"y\": [37], \"yaxis\": \"y\"}, {\"hovertemplate\": \"to_facility=DR. J CLIFFORD BROWN, A DIVISION OF HENDERSONVILLE REHAB CLINIC, INC<br>from_physician=%{x}<br>patient_count=%{y}<extra></extra>\", \"legendgroup\": \"DR. J CLIFFORD BROWN, A DIVISION OF HENDERSONVILLE REHAB CLINIC, INC\", \"marker\": {\"color\": \"#FF97FF\", \"symbol\": \"circle\"}, \"mode\": \"markers\", \"name\": \"DR. J CLIFFORD BROWN, A DIVISION OF HENDERSONVILLE REHAB CLINIC, INC\", \"showlegend\": true, \"type\": \"scattergl\", \"x\": [\"JAMES BROWN\"], \"xaxis\": \"x\", \"y\": [193], \"yaxis\": \"y\"}, {\"hovertemplate\": \"to_facility=MURFREESBORO FAMILY CARE, P.C.<br>from_physician=%{x}<br>patient_count=%{y}<extra></extra>\", \"legendgroup\": \"MURFREESBORO FAMILY CARE, P.C.\", \"marker\": {\"color\": \"#FECB52\", \"symbol\": \"circle\"}, \"mode\": \"markers\", \"name\": \"MURFREESBORO FAMILY CARE, P.C.\", \"showlegend\": true, \"type\": \"scattergl\", \"x\": [\"DAVID JOHNSON\"], \"xaxis\": \"x\", \"y\": [296], \"yaxis\": \"y\"}, {\"hovertemplate\": \"to_facility=TNMO HEALTHCARE, LLC<br>from_physician=%{x}<br>patient_count=%{y}<extra></extra>\", \"legendgroup\": \"TNMO HEALTHCARE, LLC\", \"marker\": {\"color\": \"#636efa\", \"symbol\": \"circle\"}, \"mode\": \"markers\", \"name\": \"TNMO HEALTHCARE, LLC\", \"showlegend\": true, \"type\": \"scattergl\", \"x\": [\"JOHN FISK\"], \"xaxis\": \"x\", \"y\": [27], \"yaxis\": \"y\"}, {\"hovertemplate\": \"to_facility=EAST NASHVILLE FAMILY MEDICINE<br>from_physician=%{x}<br>patient_count=%{y}<extra></extra>\", \"legendgroup\": \"EAST NASHVILLE FAMILY MEDICINE\", \"marker\": {\"color\": \"#EF553B\", \"symbol\": \"circle\"}, \"mode\": \"markers\", \"name\": \"EAST NASHVILLE FAMILY MEDICINE\", \"showlegend\": true, \"type\": \"scattergl\", \"x\": [\"ROZMOND LEWIS\"], \"xaxis\": \"x\", \"y\": [148], \"yaxis\": \"y\"}, {\"hovertemplate\": \"to_facility=DAVID O RANZ MD<br>from_physician=%{x}<br>patient_count=%{y}<extra></extra>\", \"legendgroup\": \"DAVID O RANZ MD\", \"marker\": {\"color\": \"#00cc96\", \"symbol\": \"circle\"}, \"mode\": \"markers\", \"name\": \"DAVID O RANZ MD\", \"showlegend\": true, \"type\": \"scattergl\", \"x\": [\"DAVID RANZ\"], \"xaxis\": \"x\", \"y\": [906], \"yaxis\": \"y\"}, {\"hovertemplate\": \"to_facility=POWERS CHIROPRACTIC INC<br>from_physician=%{x}<br>patient_count=%{y}<extra></extra>\", \"legendgroup\": \"POWERS CHIROPRACTIC INC\", \"marker\": {\"color\": \"#ab63fa\", \"symbol\": \"circle\"}, \"mode\": \"markers\", \"name\": \"POWERS CHIROPRACTIC INC\", \"showlegend\": true, \"type\": \"scattergl\", \"x\": [\"MYLES CRAWFORD\"], \"xaxis\": \"x\", \"y\": [31], \"yaxis\": \"y\"}, {\"hovertemplate\": \"to_facility=LU PONCE MD PC<br>from_physician=%{x}<br>patient_count=%{y}<extra></extra>\", \"legendgroup\": \"LU PONCE MD PC\", \"marker\": {\"color\": \"#FFA15A\", \"symbol\": \"circle\"}, \"mode\": \"markers\", \"name\": \"LU PONCE MD PC\", \"showlegend\": true, \"type\": \"scattergl\", \"x\": [\"LOU PONCE\"], \"xaxis\": \"x\", \"y\": [113], \"yaxis\": \"y\"}, {\"hovertemplate\": \"to_facility=PRECISION SPINE SPECIALISTS, PLLC<br>from_physician=%{x}<br>patient_count=%{y}<extra></extra>\", \"legendgroup\": \"PRECISION SPINE SPECIALISTS, PLLC\", \"marker\": {\"color\": \"#19d3f3\", \"symbol\": \"circle\"}, \"mode\": \"markers\", \"name\": \"PRECISION SPINE SPECIALISTS, PLLC\", \"showlegend\": true, \"type\": \"scattergl\", \"x\": [\"SHAWN HALL\"], \"xaxis\": \"x\", \"y\": [100], \"yaxis\": \"y\"}, {\"hovertemplate\": \"to_facility=DICKSON MEDICAL ASSOCIATES PC<br>from_physician=%{x}<br>patient_count=%{y}<extra></extra>\", \"legendgroup\": \"DICKSON MEDICAL ASSOCIATES PC\", \"marker\": {\"color\": \"#FF6692\", \"symbol\": \"circle\"}, \"mode\": \"markers\", \"name\": \"DICKSON MEDICAL ASSOCIATES PC\", \"showlegend\": true, \"type\": \"scattergl\", \"x\": [\"JOSHUA VAUGHN\", \"JEAN ALEXANDER\", \"DOLORES LUCAS\"], \"xaxis\": \"x\", \"y\": [118, 54, 872], \"yaxis\": \"y\"}, {\"hovertemplate\": \"to_facility=CORE SOLUTIONS PHYSICAL THERAPY, LLC<br>from_physician=%{x}<br>patient_count=%{y}<extra></extra>\", \"legendgroup\": \"CORE SOLUTIONS PHYSICAL THERAPY, LLC\", \"marker\": {\"color\": \"#B6E880\", \"symbol\": \"circle\"}, \"mode\": \"markers\", \"name\": \"CORE SOLUTIONS PHYSICAL THERAPY, LLC\", \"showlegend\": true, \"type\": \"scattergl\", \"x\": [\"KAREN ODOM\"], \"xaxis\": \"x\", \"y\": [13], \"yaxis\": \"y\"}, {\"hovertemplate\": \"to_facility=CRESCENT MEDICAL GROUP PLLC<br>from_physician=%{x}<br>patient_count=%{y}<extra></extra>\", \"legendgroup\": \"CRESCENT MEDICAL GROUP PLLC\", \"marker\": {\"color\": \"#FF97FF\", \"symbol\": \"circle\"}, \"mode\": \"markers\", \"name\": \"CRESCENT MEDICAL GROUP PLLC\", \"showlegend\": true, \"type\": \"scattergl\", \"x\": [\"FAIZA AMIN\"], \"xaxis\": \"x\", \"y\": [70], \"yaxis\": \"y\"}, {\"hovertemplate\": \"to_facility=SIGNATURE NEPHROLOGY GROUP PC<br>from_physician=%{x}<br>patient_count=%{y}<extra></extra>\", \"legendgroup\": \"SIGNATURE NEPHROLOGY GROUP PC\", \"marker\": {\"color\": \"#FECB52\", \"symbol\": \"circle\"}, \"mode\": \"markers\", \"name\": \"SIGNATURE NEPHROLOGY GROUP PC\", \"showlegend\": true, \"type\": \"scattergl\", \"x\": [\"ORVILLE CAMPBELL\"], \"xaxis\": \"x\", \"y\": [21], \"yaxis\": \"y\"}, {\"hovertemplate\": \"to_facility=TENNESSEE MEDICINE & PEDIATRICS PC<br>from_physician=%{x}<br>patient_count=%{y}<extra></extra>\", \"legendgroup\": \"TENNESSEE MEDICINE & PEDIATRICS PC\", \"marker\": {\"color\": \"#636efa\", \"symbol\": \"circle\"}, \"mode\": \"markers\", \"name\": \"TENNESSEE MEDICINE & PEDIATRICS PC\", \"showlegend\": true, \"type\": \"scattergl\", \"x\": [\"HEATHER PHILLIPS\"], \"xaxis\": \"x\", \"y\": [136], \"yaxis\": \"y\"}, {\"hovertemplate\": \"to_facility=FAMILY VISION CARE OF COOL SPRINGS, LLC<br>from_physician=%{x}<br>patient_count=%{y}<extra></extra>\", \"legendgroup\": \"FAMILY VISION CARE OF COOL SPRINGS, LLC\", \"marker\": {\"color\": \"#EF553B\", \"symbol\": \"circle\"}, \"mode\": \"markers\", \"name\": \"FAMILY VISION CARE OF COOL SPRINGS, LLC\", \"showlegend\": true, \"type\": \"scattergl\", \"x\": [\"DAXX DUNN\"], \"xaxis\": \"x\", \"y\": [46], \"yaxis\": \"y\"}, {\"hovertemplate\": \"to_facility=1ST CHOICE CHIROPRACTIC INC.<br>from_physician=%{x}<br>patient_count=%{y}<extra></extra>\", \"legendgroup\": \"1ST CHOICE CHIROPRACTIC INC.\", \"marker\": {\"color\": \"#00cc96\", \"symbol\": \"circle\"}, \"mode\": \"markers\", \"name\": \"1ST CHOICE CHIROPRACTIC INC.\", \"showlegend\": true, \"type\": \"scattergl\", \"x\": [\"STEPHEN SCHEITEL\"], \"xaxis\": \"x\", \"y\": [62], \"yaxis\": \"y\"}, {\"hovertemplate\": \"to_facility=WAYNE O. WELLS, M.D.<br>from_physician=%{x}<br>patient_count=%{y}<extra></extra>\", \"legendgroup\": \"WAYNE O. WELLS, M.D.\", \"marker\": {\"color\": \"#ab63fa\", \"symbol\": \"circle\"}, \"mode\": \"markers\", \"name\": \"WAYNE O. WELLS, M.D.\", \"showlegend\": true, \"type\": \"scattergl\", \"x\": [\"WAYNE WELLS\"], \"xaxis\": \"x\", \"y\": [235], \"yaxis\": \"y\"}, {\"hovertemplate\": \"to_facility=SUN-YOUNG, PLLC<br>from_physician=%{x}<br>patient_count=%{y}<extra></extra>\", \"legendgroup\": \"SUN-YOUNG, PLLC\", \"marker\": {\"color\": \"#FFA15A\", \"symbol\": \"circle\"}, \"mode\": \"markers\", \"name\": \"SUN-YOUNG, PLLC\", \"showlegend\": true, \"type\": \"scattergl\", \"x\": [\"DARRELL ARNETT\", \"BOBBY AGUAYO\", \"LESLIE FORT\", \"DOUGLAS YOUNG\"], \"xaxis\": \"x\", \"y\": [175, 116, 128, 180], \"yaxis\": \"y\"}, {\"hovertemplate\": \"to_facility=MIDSTATE HEALTH ASSOCIATES INC<br>from_physician=%{x}<br>patient_count=%{y}<extra></extra>\", \"legendgroup\": \"MIDSTATE HEALTH ASSOCIATES INC\", \"marker\": {\"color\": \"#19d3f3\", \"symbol\": \"circle\"}, \"mode\": \"markers\", \"name\": \"MIDSTATE HEALTH ASSOCIATES INC\", \"showlegend\": true, \"type\": \"scattergl\", \"x\": [\"JOHN ADEWUMI\"], \"xaxis\": \"x\", \"y\": [198], \"yaxis\": \"y\"}, {\"hovertemplate\": \"to_facility=BLUESKY HOUSECALLS, LLC<br>from_physician=%{x}<br>patient_count=%{y}<extra></extra>\", \"legendgroup\": \"BLUESKY HOUSECALLS, LLC\", \"marker\": {\"color\": \"#FF6692\", \"symbol\": \"circle\"}, \"mode\": \"markers\", \"name\": \"BLUESKY HOUSECALLS, LLC\", \"showlegend\": true, \"type\": \"scattergl\", \"x\": [\"RONA SISCOE\", \"JULIE DAVIS\"], \"xaxis\": \"x\", \"y\": [32, 82], \"yaxis\": \"y\"}, {\"hovertemplate\": \"to_facility=WOMEN'S HEALTH SPECIALISTS, PLLC<br>from_physician=%{x}<br>patient_count=%{y}<extra></extra>\", \"legendgroup\": \"WOMEN'S HEALTH SPECIALISTS, PLLC\", \"marker\": {\"color\": \"#B6E880\", \"symbol\": \"circle\"}, \"mode\": \"markers\", \"name\": \"WOMEN'S HEALTH SPECIALISTS, PLLC\", \"showlegend\": true, \"type\": \"scattergl\", \"x\": [\"KIMBERLY MCGOWAN\", \"DANA JONES\"], \"xaxis\": \"x\", \"y\": [47, 59], \"yaxis\": \"y\"}, {\"hovertemplate\": \"to_facility=FAIRHURST DERMATOLOGY<br>from_physician=%{x}<br>patient_count=%{y}<extra></extra>\", \"legendgroup\": \"FAIRHURST DERMATOLOGY\", \"marker\": {\"color\": \"#FF97FF\", \"symbol\": \"circle\"}, \"mode\": \"markers\", \"name\": \"FAIRHURST DERMATOLOGY\", \"showlegend\": true, \"type\": \"scattergl\", \"x\": [\"MARK FAIRHURST\"], \"xaxis\": \"x\", \"y\": [1258], \"yaxis\": \"y\"}, {\"hovertemplate\": \"to_facility=WOMEN'S HEALTH CENTER, P.C.<br>from_physician=%{x}<br>patient_count=%{y}<extra></extra>\", \"legendgroup\": \"WOMEN'S HEALTH CENTER, P.C.\", \"marker\": {\"color\": \"#FECB52\", \"symbol\": \"circle\"}, \"mode\": \"markers\", \"name\": \"WOMEN'S HEALTH CENTER, P.C.\", \"showlegend\": true, \"type\": \"scattergl\", \"x\": [\"HEATHER POTTS\"], \"xaxis\": \"x\", \"y\": [68], \"yaxis\": \"y\"}, {\"hovertemplate\": \"to_facility=RYAN D. DUNCAN, PLLC<br>from_physician=%{x}<br>patient_count=%{y}<extra></extra>\", \"legendgroup\": \"RYAN D. DUNCAN, PLLC\", \"marker\": {\"color\": \"#636efa\", \"symbol\": \"circle\"}, \"mode\": \"markers\", \"name\": \"RYAN D. DUNCAN, PLLC\", \"showlegend\": true, \"type\": \"scattergl\", \"x\": [\"RYAN DUNCAN\"], \"xaxis\": \"x\", \"y\": [206], \"yaxis\": \"y\"}, {\"hovertemplate\": \"to_facility=GUARDIAN EYE ASSOCIATES PLC<br>from_physician=%{x}<br>patient_count=%{y}<extra></extra>\", \"legendgroup\": \"GUARDIAN EYE ASSOCIATES PLC\", \"marker\": {\"color\": \"#EF553B\", \"symbol\": \"circle\"}, \"mode\": \"markers\", \"name\": \"GUARDIAN EYE ASSOCIATES PLC\", \"showlegend\": true, \"type\": \"scattergl\", \"x\": [\"MICHAEL DIECKHAUS\", \"JAMES CONRAD\", \"WALTER FREY\"], \"xaxis\": \"x\", \"y\": [889, 1423, 244], \"yaxis\": \"y\"}, {\"hovertemplate\": \"to_facility=LP NASHVILLE II, LLC<br>from_physician=%{x}<br>patient_count=%{y}<extra></extra>\", \"legendgroup\": \"LP NASHVILLE II, LLC\", \"marker\": {\"color\": \"#00cc96\", \"symbol\": \"circle\"}, \"mode\": \"markers\", \"name\": \"LP NASHVILLE II, LLC\", \"showlegend\": true, \"type\": \"scattergl\", \"x\": [\"SRINIVAS NIMMAGADDA\"], \"xaxis\": \"x\", \"y\": [167], \"yaxis\": \"y\"}, {\"hovertemplate\": \"to_facility=HCA HEALTH SERVICES OF TENNESSEE, INC.<br>from_physician=%{x}<br>patient_count=%{y}<extra></extra>\", \"legendgroup\": \"HCA HEALTH SERVICES OF TENNESSEE, INC.\", \"marker\": {\"color\": \"#ab63fa\", \"symbol\": \"circle\"}, \"mode\": \"markers\", \"name\": \"HCA HEALTH SERVICES OF TENNESSEE, INC.\", \"showlegend\": true, \"type\": \"scattergl\", \"x\": [\"STEVEN GARDNER\"], \"xaxis\": \"x\", \"y\": [39], \"yaxis\": \"y\"}, {\"hovertemplate\": \"to_facility=EAR NOSE & THROAT SPECIALISTS OF NASHVILLE PLC<br>from_physician=%{x}<br>patient_count=%{y}<extra></extra>\", \"legendgroup\": \"EAR NOSE & THROAT SPECIALISTS OF NASHVILLE PLC\", \"marker\": {\"color\": \"#FFA15A\", \"symbol\": \"circle\"}, \"mode\": \"markers\", \"name\": \"EAR NOSE & THROAT SPECIALISTS OF NASHVILLE PLC\", \"showlegend\": true, \"type\": \"scattergl\", \"x\": [\"JACKIE WINFREY\", \"PAMALA PANNELL\"], \"xaxis\": \"x\", \"y\": [51, 168], \"yaxis\": \"y\"}, {\"hovertemplate\": \"to_facility=WILLIAMSON EYE GROUP, PC<br>from_physician=%{x}<br>patient_count=%{y}<extra></extra>\", \"legendgroup\": \"WILLIAMSON EYE GROUP, PC\", \"marker\": {\"color\": \"#19d3f3\", \"symbol\": \"circle\"}, \"mode\": \"markers\", \"name\": \"WILLIAMSON EYE GROUP, PC\", \"showlegend\": true, \"type\": \"scattergl\", \"x\": [\"WILLIAM CUTHBERTSON\"], \"xaxis\": \"x\", \"y\": [67], \"yaxis\": \"y\"}, {\"hovertemplate\": \"to_facility=VALLEY MEDICAL CENTER, PLLC<br>from_physician=%{x}<br>patient_count=%{y}<extra></extra>\", \"legendgroup\": \"VALLEY MEDICAL CENTER, PLLC\", \"marker\": {\"color\": \"#FF6692\", \"symbol\": \"circle\"}, \"mode\": \"markers\", \"name\": \"VALLEY MEDICAL CENTER, PLLC\", \"showlegend\": true, \"type\": \"scattergl\", \"x\": [\"ADEJOKE AINA-BABALOLA\"], \"xaxis\": \"x\", \"y\": [146], \"yaxis\": \"y\"}, {\"hovertemplate\": \"to_facility=GEORGE CHEIJ<br>from_physician=%{x}<br>patient_count=%{y}<extra></extra>\", \"legendgroup\": \"GEORGE CHEIJ\", \"marker\": {\"color\": \"#B6E880\", \"symbol\": \"circle\"}, \"mode\": \"markers\", \"name\": \"GEORGE CHEIJ\", \"showlegend\": true, \"type\": \"scattergl\", \"x\": [\"ANNA SKELO\", \"GEORGE CHEIJ\"], \"xaxis\": \"x\", \"y\": [403, 543], \"yaxis\": \"y\"}, {\"hovertemplate\": \"to_facility=RAMA MEDICAL GROUP<br>from_physician=%{x}<br>patient_count=%{y}<extra></extra>\", \"legendgroup\": \"RAMA MEDICAL GROUP\", \"marker\": {\"color\": \"#FF97FF\", \"symbol\": \"circle\"}, \"mode\": \"markers\", \"name\": \"RAMA MEDICAL GROUP\", \"showlegend\": true, \"type\": \"scattergl\", \"x\": [\"FAWWAZ ALKAYYALI\"], \"xaxis\": \"x\", \"y\": [120], \"yaxis\": \"y\"}, {\"hovertemplate\": \"to_facility=ADVENTA HOSPICE LLC<br>from_physician=%{x}<br>patient_count=%{y}<extra></extra>\", \"legendgroup\": \"ADVENTA HOSPICE LLC\", \"marker\": {\"color\": \"#FECB52\", \"symbol\": \"circle\"}, \"mode\": \"markers\", \"name\": \"ADVENTA HOSPICE LLC\", \"showlegend\": true, \"type\": \"scattergl\", \"x\": [\"SRINIVAS NIMMAGADDA\", \"ALLIE HENDERSON-FITTS\"], \"xaxis\": \"x\", \"y\": [163, 43], \"yaxis\": \"y\"}, {\"hovertemplate\": \"to_facility=LIFE SOURCE CREATING WELLNESS CTR INC<br>from_physician=%{x}<br>patient_count=%{y}<extra></extra>\", \"legendgroup\": \"LIFE SOURCE CREATING WELLNESS CTR INC\", \"marker\": {\"color\": \"#636efa\", \"symbol\": \"circle\"}, \"mode\": \"markers\", \"name\": \"LIFE SOURCE CREATING WELLNESS CTR INC\", \"showlegend\": true, \"type\": \"scattergl\", \"x\": [\"CHAD UPCHURCH\"], \"xaxis\": \"x\", \"y\": [46], \"yaxis\": \"y\"}, {\"hovertemplate\": \"to_facility=SUMNER PHYSICIAN PRACTIES LLC<br>from_physician=%{x}<br>patient_count=%{y}<extra></extra>\", \"legendgroup\": \"SUMNER PHYSICIAN PRACTIES LLC\", \"marker\": {\"color\": \"#EF553B\", \"symbol\": \"circle\"}, \"mode\": \"markers\", \"name\": \"SUMNER PHYSICIAN PRACTIES LLC\", \"showlegend\": true, \"type\": \"scattergl\", \"x\": [\"EMILY BIENVENU\", \"TERRI HOLT\"], \"xaxis\": \"x\", \"y\": [49, 95], \"yaxis\": \"y\"}, {\"hovertemplate\": \"to_facility=NEURO RESOURCE PC<br>from_physician=%{x}<br>patient_count=%{y}<extra></extra>\", \"legendgroup\": \"NEURO RESOURCE PC\", \"marker\": {\"color\": \"#00cc96\", \"symbol\": \"circle\"}, \"mode\": \"markers\", \"name\": \"NEURO RESOURCE PC\", \"showlegend\": true, \"type\": \"scattergl\", \"x\": [\"PAULO ACOSTA\"], \"xaxis\": \"x\", \"y\": [279], \"yaxis\": \"y\"}, {\"hovertemplate\": \"to_facility=FRANKLIN EYE CARE, PLLC<br>from_physician=%{x}<br>patient_count=%{y}<extra></extra>\", \"legendgroup\": \"FRANKLIN EYE CARE, PLLC\", \"marker\": {\"color\": \"#ab63fa\", \"symbol\": \"circle\"}, \"mode\": \"markers\", \"name\": \"FRANKLIN EYE CARE, PLLC\", \"showlegend\": true, \"type\": \"scattergl\", \"x\": [\"JON FRANKLIN\"], \"xaxis\": \"x\", \"y\": [239], \"yaxis\": \"y\"}, {\"hovertemplate\": \"to_facility=SLEEP MEDICINE ASSOCIATES, PLLC<br>from_physician=%{x}<br>patient_count=%{y}<extra></extra>\", \"legendgroup\": \"SLEEP MEDICINE ASSOCIATES, PLLC\", \"marker\": {\"color\": \"#FFA15A\", \"symbol\": \"circle\"}, \"mode\": \"markers\", \"name\": \"SLEEP MEDICINE ASSOCIATES, PLLC\", \"showlegend\": true, \"type\": \"scattergl\", \"x\": [\"MARTHA HAGAMAN\"], \"xaxis\": \"x\", \"y\": [93], \"yaxis\": \"y\"}, {\"hovertemplate\": \"to_facility=OLEKSANDR OSIPCHUK MD PHD PSYCHIATRIC SERVICES LLC<br>from_physician=%{x}<br>patient_count=%{y}<extra></extra>\", \"legendgroup\": \"OLEKSANDR OSIPCHUK MD PHD PSYCHIATRIC SERVICES LLC\", \"marker\": {\"color\": \"#19d3f3\", \"symbol\": \"circle\"}, \"mode\": \"markers\", \"name\": \"OLEKSANDR OSIPCHUK MD PHD PSYCHIATRIC SERVICES LLC\", \"showlegend\": true, \"type\": \"scattergl\", \"x\": [\"OLEKSANDR OSIPCHUK\"], \"xaxis\": \"x\", \"y\": [77], \"yaxis\": \"y\"}, {\"hovertemplate\": \"to_facility=BRIAN S. BIESMAN<br>from_physician=%{x}<br>patient_count=%{y}<extra></extra>\", \"legendgroup\": \"BRIAN S. BIESMAN\", \"marker\": {\"color\": \"#FF6692\", \"symbol\": \"circle\"}, \"mode\": \"markers\", \"name\": \"BRIAN S. BIESMAN\", \"showlegend\": true, \"type\": \"scattergl\", \"x\": [\"BRIAN BIESMAN\"], \"xaxis\": \"x\", \"y\": [181], \"yaxis\": \"y\"}, {\"hovertemplate\": \"to_facility=DONELSON EYECARE, PLLC<br>from_physician=%{x}<br>patient_count=%{y}<extra></extra>\", \"legendgroup\": \"DONELSON EYECARE, PLLC\", \"marker\": {\"color\": \"#B6E880\", \"symbol\": \"circle\"}, \"mode\": \"markers\", \"name\": \"DONELSON EYECARE, PLLC\", \"showlegend\": true, \"type\": \"scattergl\", \"x\": [\"MICHAEL BINGHAM\", \"SUSAN KEGARISE\"], \"xaxis\": \"x\", \"y\": [49, 39], \"yaxis\": \"y\"}, {\"hovertemplate\": \"to_facility=PHYSICIANS MEDICAL CARE<br>from_physician=%{x}<br>patient_count=%{y}<extra></extra>\", \"legendgroup\": \"PHYSICIANS MEDICAL CARE\", \"marker\": {\"color\": \"#FF97FF\", \"symbol\": \"circle\"}, \"mode\": \"markers\", \"name\": \"PHYSICIANS MEDICAL CARE\", \"showlegend\": true, \"type\": \"scattergl\", \"x\": [\"MARTIN GLYNN\"], \"xaxis\": \"x\", \"y\": [679], \"yaxis\": \"y\"}, {\"hovertemplate\": \"to_facility=ASHOK K. MEHTA, MD, PC<br>from_physician=%{x}<br>patient_count=%{y}<extra></extra>\", \"legendgroup\": \"ASHOK K. MEHTA, MD, PC\", \"marker\": {\"color\": \"#FECB52\", \"symbol\": \"circle\"}, \"mode\": \"markers\", \"name\": \"ASHOK K. MEHTA, MD, PC\", \"showlegend\": true, \"type\": \"scattergl\", \"x\": [\"KRISTEN ELLSWORTH\"], \"xaxis\": \"x\", \"y\": [88], \"yaxis\": \"y\"}, {\"hovertemplate\": \"to_facility=MIDDLE TENNESSEE NEUROLOGY LLC<br>from_physician=%{x}<br>patient_count=%{y}<extra></extra>\", \"legendgroup\": \"MIDDLE TENNESSEE NEUROLOGY LLC\", \"marker\": {\"color\": \"#636efa\", \"symbol\": \"circle\"}, \"mode\": \"markers\", \"name\": \"MIDDLE TENNESSEE NEUROLOGY LLC\", \"showlegend\": true, \"type\": \"scattergl\", \"x\": [\"SURESH CHITTURI\"], \"xaxis\": \"x\", \"y\": [285], \"yaxis\": \"y\"}, {\"hovertemplate\": \"to_facility=HERMITAGE EYE CARE PLLC<br>from_physician=%{x}<br>patient_count=%{y}<extra></extra>\", \"legendgroup\": \"HERMITAGE EYE CARE PLLC\", \"marker\": {\"color\": \"#EF553B\", \"symbol\": \"circle\"}, \"mode\": \"markers\", \"name\": \"HERMITAGE EYE CARE PLLC\", \"showlegend\": true, \"type\": \"scattergl\", \"x\": [\"PHILLIP HAMMOND\"], \"xaxis\": \"x\", \"y\": [216], \"yaxis\": \"y\"}, {\"hovertemplate\": \"to_facility=LIVINGSTON FAMILY PRACTICE, PLLC<br>from_physician=%{x}<br>patient_count=%{y}<extra></extra>\", \"legendgroup\": \"LIVINGSTON FAMILY PRACTICE, PLLC\", \"marker\": {\"color\": \"#00cc96\", \"symbol\": \"circle\"}, \"mode\": \"markers\", \"name\": \"LIVINGSTON FAMILY PRACTICE, PLLC\", \"showlegend\": true, \"type\": \"scattergl\", \"x\": [\"AMANDA LIVINGSTON\"], \"xaxis\": \"x\", \"y\": [154], \"yaxis\": \"y\"}, {\"hovertemplate\": \"to_facility=SERENITY HEALTH CARE, P.C.<br>from_physician=%{x}<br>patient_count=%{y}<extra></extra>\", \"legendgroup\": \"SERENITY HEALTH CARE, P.C.\", \"marker\": {\"color\": \"#ab63fa\", \"symbol\": \"circle\"}, \"mode\": \"markers\", \"name\": \"SERENITY HEALTH CARE, P.C.\", \"showlegend\": true, \"type\": \"scattergl\", \"x\": [\"IRENE BEAN\"], \"xaxis\": \"x\", \"y\": [61], \"yaxis\": \"y\"}, {\"hovertemplate\": \"to_facility=KEVIN B. COLLEN, M.D. PLLC<br>from_physician=%{x}<br>patient_count=%{y}<extra></extra>\", \"legendgroup\": \"KEVIN B. COLLEN, M.D. PLLC\", \"marker\": {\"color\": \"#FFA15A\", \"symbol\": \"circle\"}, \"mode\": \"markers\", \"name\": \"KEVIN B. COLLEN, M.D. PLLC\", \"showlegend\": true, \"type\": \"scattergl\", \"x\": [\"KEVIN COLLEN\"], \"xaxis\": \"x\", \"y\": [74], \"yaxis\": \"y\"}, {\"hovertemplate\": \"to_facility=LARIMORE C. WARREN, M.D., P.C.<br>from_physician=%{x}<br>patient_count=%{y}<extra></extra>\", \"legendgroup\": \"LARIMORE C. WARREN, M.D., P.C.\", \"marker\": {\"color\": \"#19d3f3\", \"symbol\": \"circle\"}, \"mode\": \"markers\", \"name\": \"LARIMORE C. WARREN, M.D., P.C.\", \"showlegend\": true, \"type\": \"scattergl\", \"x\": [\"LARIMORE WARREN\"], \"xaxis\": \"x\", \"y\": [313], \"yaxis\": \"y\"}, {\"hovertemplate\": \"to_facility=WILLIAMSON MEDICAL GROUP, LLC<br>from_physician=%{x}<br>patient_count=%{y}<extra></extra>\", \"legendgroup\": \"WILLIAMSON MEDICAL GROUP, LLC\", \"marker\": {\"color\": \"#FF6692\", \"symbol\": \"circle\"}, \"mode\": \"markers\", \"name\": \"WILLIAMSON MEDICAL GROUP, LLC\", \"showlegend\": true, \"type\": \"scattergl\", \"x\": [\"TIA ARYAL\"], \"xaxis\": \"x\", \"y\": [340], \"yaxis\": \"y\"}, {\"hovertemplate\": \"to_facility=LIFETIME HEARING CLINIC, INC.<br>from_physician=%{x}<br>patient_count=%{y}<extra></extra>\", \"legendgroup\": \"LIFETIME HEARING CLINIC, INC.\", \"marker\": {\"color\": \"#B6E880\", \"symbol\": \"circle\"}, \"mode\": \"markers\", \"name\": \"LIFETIME HEARING CLINIC, INC.\", \"showlegend\": true, \"type\": \"scattergl\", \"x\": [\"HEATHER DOOLEY\"], \"xaxis\": \"x\", \"y\": [124], \"yaxis\": \"y\"}, {\"hovertemplate\": \"to_facility=SOUTHERN SPORTS SURGICAL, LLC.<br>from_physician=%{x}<br>patient_count=%{y}<extra></extra>\", \"legendgroup\": \"SOUTHERN SPORTS SURGICAL, LLC.\", \"marker\": {\"color\": \"#FF97FF\", \"symbol\": \"circle\"}, \"mode\": \"markers\", \"name\": \"SOUTHERN SPORTS SURGICAL, LLC.\", \"showlegend\": true, \"type\": \"scattergl\", \"x\": [\"STACY ALESSIO\"], \"xaxis\": \"x\", \"y\": [88], \"yaxis\": \"y\"}, {\"hovertemplate\": \"to_facility=PRECISION EYE CARE, PLLC<br>from_physician=%{x}<br>patient_count=%{y}<extra></extra>\", \"legendgroup\": \"PRECISION EYE CARE, PLLC\", \"marker\": {\"color\": \"#FECB52\", \"symbol\": \"circle\"}, \"mode\": \"markers\", \"name\": \"PRECISION EYE CARE, PLLC\", \"showlegend\": true, \"type\": \"scattergl\", \"x\": [\"AMBER FRITSCH\", \"RYAN FRITSCH\"], \"xaxis\": \"x\", \"y\": [44, 92], \"yaxis\": \"y\"}, {\"hovertemplate\": \"to_facility=TENNESSEE PHLEBOLOGY PC<br>from_physician=%{x}<br>patient_count=%{y}<extra></extra>\", \"legendgroup\": \"TENNESSEE PHLEBOLOGY PC\", \"marker\": {\"color\": \"#636efa\", \"symbol\": \"circle\"}, \"mode\": \"markers\", \"name\": \"TENNESSEE PHLEBOLOGY PC\", \"showlegend\": true, \"type\": \"scattergl\", \"x\": [\"THOMAS CUNNINGHAM\"], \"xaxis\": \"x\", \"y\": [195], \"yaxis\": \"y\"}, {\"hovertemplate\": \"to_facility=SWAN SURGICAL, PLLC<br>from_physician=%{x}<br>patient_count=%{y}<extra></extra>\", \"legendgroup\": \"SWAN SURGICAL, PLLC\", \"marker\": {\"color\": \"#EF553B\", \"symbol\": \"circle\"}, \"mode\": \"markers\", \"name\": \"SWAN SURGICAL, PLLC\", \"showlegend\": true, \"type\": \"scattergl\", \"x\": [\"CHAD SWAN\"], \"xaxis\": \"x\", \"y\": [395], \"yaxis\": \"y\"}, {\"hovertemplate\": \"to_facility=ROLLING HILLS HOSPITAL LLC<br>from_physician=%{x}<br>patient_count=%{y}<extra></extra>\", \"legendgroup\": \"ROLLING HILLS HOSPITAL LLC\", \"marker\": {\"color\": \"#00cc96\", \"symbol\": \"circle\"}, \"mode\": \"markers\", \"name\": \"ROLLING HILLS HOSPITAL LLC\", \"showlegend\": true, \"type\": \"scattergl\", \"x\": [\"PRASAD KONDAPAVULURU\"], \"xaxis\": \"x\", \"y\": [234], \"yaxis\": \"y\"}, {\"hovertemplate\": \"to_facility=TIERNEY PLASTIC SURGERY PLC<br>from_physician=%{x}<br>patient_count=%{y}<extra></extra>\", \"legendgroup\": \"TIERNEY PLASTIC SURGERY PLC\", \"marker\": {\"color\": \"#ab63fa\", \"symbol\": \"circle\"}, \"mode\": \"markers\", \"name\": \"TIERNEY PLASTIC SURGERY PLC\", \"showlegend\": true, \"type\": \"scattergl\", \"x\": [\"BRIAN TIERNEY\"], \"xaxis\": \"x\", \"y\": [86], \"yaxis\": \"y\"}, {\"hovertemplate\": \"to_facility=ADORATION HOSPICE, LLC<br>from_physician=%{x}<br>patient_count=%{y}<extra></extra>\", \"legendgroup\": \"ADORATION HOSPICE, LLC\", \"marker\": {\"color\": \"#FFA15A\", \"symbol\": \"circle\"}, \"mode\": \"markers\", \"name\": \"ADORATION HOSPICE, LLC\", \"showlegend\": true, \"type\": \"scattergl\", \"x\": [\"THOMAS MILLER\"], \"xaxis\": \"x\", \"y\": [201], \"yaxis\": \"y\"}, {\"hovertemplate\": \"to_facility=FAMILY CARE OF MIDDLETENNESSEE<br>from_physician=%{x}<br>patient_count=%{y}<extra></extra>\", \"legendgroup\": \"FAMILY CARE OF MIDDLETENNESSEE\", \"marker\": {\"color\": \"#19d3f3\", \"symbol\": \"circle\"}, \"mode\": \"markers\", \"name\": \"FAMILY CARE OF MIDDLETENNESSEE\", \"showlegend\": true, \"type\": \"scattergl\", \"x\": [\"HAYDEH SHARIFI\"], \"xaxis\": \"x\", \"y\": [55], \"yaxis\": \"y\"}, {\"hovertemplate\": \"to_facility=NUVUE OPTICAL, PLLC<br>from_physician=%{x}<br>patient_count=%{y}<extra></extra>\", \"legendgroup\": \"NUVUE OPTICAL, PLLC\", \"marker\": {\"color\": \"#FF6692\", \"symbol\": \"circle\"}, \"mode\": \"markers\", \"name\": \"NUVUE OPTICAL, PLLC\", \"showlegend\": true, \"type\": \"scattergl\", \"x\": [\"DAVID GAVAMI\"], \"xaxis\": \"x\", \"y\": [43], \"yaxis\": \"y\"}, {\"hovertemplate\": \"to_facility=CRIST CHIROPRACTIC<br>from_physician=%{x}<br>patient_count=%{y}<extra></extra>\", \"legendgroup\": \"CRIST CHIROPRACTIC\", \"marker\": {\"color\": \"#B6E880\", \"symbol\": \"circle\"}, \"mode\": \"markers\", \"name\": \"CRIST CHIROPRACTIC\", \"showlegend\": true, \"type\": \"scattergl\", \"x\": [\"JASON CRIST\"], \"xaxis\": \"x\", \"y\": [52], \"yaxis\": \"y\"}, {\"hovertemplate\": \"to_facility=PINNACLE MEDICAL GROUP<br>from_physician=%{x}<br>patient_count=%{y}<extra></extra>\", \"legendgroup\": \"PINNACLE MEDICAL GROUP\", \"marker\": {\"color\": \"#FF97FF\", \"symbol\": \"circle\"}, \"mode\": \"markers\", \"name\": \"PINNACLE MEDICAL GROUP\", \"showlegend\": true, \"type\": \"scattergl\", \"x\": [\"CHARLOTTE LOHREY\"], \"xaxis\": \"x\", \"y\": [211], \"yaxis\": \"y\"}, {\"hovertemplate\": \"to_facility=ADVANCED MEDICAL OF COOL SPRINGS PLLC<br>from_physician=%{x}<br>patient_count=%{y}<extra></extra>\", \"legendgroup\": \"ADVANCED MEDICAL OF COOL SPRINGS PLLC\", \"marker\": {\"color\": \"#FECB52\", \"symbol\": \"circle\"}, \"mode\": \"markers\", \"name\": \"ADVANCED MEDICAL OF COOL SPRINGS PLLC\", \"showlegend\": true, \"type\": \"scattergl\", \"x\": [\"JANET MOONEY\"], \"xaxis\": \"x\", \"y\": [200], \"yaxis\": \"y\"}, {\"hovertemplate\": \"to_facility=XAI FAMILY MEDICAL CLINIC<br>from_physician=%{x}<br>patient_count=%{y}<extra></extra>\", \"legendgroup\": \"XAI FAMILY MEDICAL CLINIC\", \"marker\": {\"color\": \"#636efa\", \"symbol\": \"circle\"}, \"mode\": \"markers\", \"name\": \"XAI FAMILY MEDICAL CLINIC\", \"showlegend\": true, \"type\": \"scattergl\", \"x\": [\"XAIYAVONG SAENPHANSIRI\"], \"xaxis\": \"x\", \"y\": [153], \"yaxis\": \"y\"}, {\"hovertemplate\": \"to_facility=JEFFREY C. MCCLAIN, O.D., P.C.<br>from_physician=%{x}<br>patient_count=%{y}<extra></extra>\", \"legendgroup\": \"JEFFREY C. MCCLAIN, O.D., P.C.\", \"marker\": {\"color\": \"#EF553B\", \"symbol\": \"circle\"}, \"mode\": \"markers\", \"name\": \"JEFFREY C. MCCLAIN, O.D., P.C.\", \"showlegend\": true, \"type\": \"scattergl\", \"x\": [\"JEFFREY MCCLAIN\"], \"xaxis\": \"x\", \"y\": [259], \"yaxis\": \"y\"}, {\"hovertemplate\": \"to_facility=L & K HEALTH SERVICES<br>from_physician=%{x}<br>patient_count=%{y}<extra></extra>\", \"legendgroup\": \"L & K HEALTH SERVICES\", \"marker\": {\"color\": \"#00cc96\", \"symbol\": \"circle\"}, \"mode\": \"markers\", \"name\": \"L & K HEALTH SERVICES\", \"showlegend\": true, \"type\": \"scattergl\", \"x\": [\"LINDA BYRD\"], \"xaxis\": \"x\", \"y\": [45], \"yaxis\": \"y\"}, {\"hovertemplate\": \"to_facility=DOUG HASSENPFLUG PLLC<br>from_physician=%{x}<br>patient_count=%{y}<extra></extra>\", \"legendgroup\": \"DOUG HASSENPFLUG PLLC\", \"marker\": {\"color\": \"#ab63fa\", \"symbol\": \"circle\"}, \"mode\": \"markers\", \"name\": \"DOUG HASSENPFLUG PLLC\", \"showlegend\": true, \"type\": \"scattergl\", \"x\": [\"DOUGLAS HASSENPFLUG\"], \"xaxis\": \"x\", \"y\": [1991], \"yaxis\": \"y\"}, {\"hovertemplate\": \"to_facility=MADISON FAMILY PRACTICE<br>from_physician=%{x}<br>patient_count=%{y}<extra></extra>\", \"legendgroup\": \"MADISON FAMILY PRACTICE\", \"marker\": {\"color\": \"#FFA15A\", \"symbol\": \"circle\"}, \"mode\": \"markers\", \"name\": \"MADISON FAMILY PRACTICE\", \"showlegend\": true, \"type\": \"scattergl\", \"x\": [\"JOHN JORDAN\"], \"xaxis\": \"x\", \"y\": [56], \"yaxis\": \"y\"}, {\"hovertemplate\": \"to_facility=BRIAN D. JACKSON, DPM, LLC<br>from_physician=%{x}<br>patient_count=%{y}<extra></extra>\", \"legendgroup\": \"BRIAN D. JACKSON, DPM, LLC\", \"marker\": {\"color\": \"#19d3f3\", \"symbol\": \"circle\"}, \"mode\": \"markers\", \"name\": \"BRIAN D. JACKSON, DPM, LLC\", \"showlegend\": true, \"type\": \"scattergl\", \"x\": [\"BRIAN JACKSON\"], \"xaxis\": \"x\", \"y\": [1045], \"yaxis\": \"y\"}, {\"hovertemplate\": \"to_facility=ON TARGET MEDICAL CLINIC INC<br>from_physician=%{x}<br>patient_count=%{y}<extra></extra>\", \"legendgroup\": \"ON TARGET MEDICAL CLINIC INC\", \"marker\": {\"color\": \"#FF6692\", \"symbol\": \"circle\"}, \"mode\": \"markers\", \"name\": \"ON TARGET MEDICAL CLINIC INC\", \"showlegend\": true, \"type\": \"scattergl\", \"x\": [\"DEBBIE MOORE\"], \"xaxis\": \"x\", \"y\": [50], \"yaxis\": \"y\"}, {\"hovertemplate\": \"to_facility=UNITY CHIROPRACTIC<br>from_physician=%{x}<br>patient_count=%{y}<extra></extra>\", \"legendgroup\": \"UNITY CHIROPRACTIC\", \"marker\": {\"color\": \"#B6E880\", \"symbol\": \"circle\"}, \"mode\": \"markers\", \"name\": \"UNITY CHIROPRACTIC\", \"showlegend\": true, \"type\": \"scattergl\", \"x\": [\"DEVAN ARMAN\"], \"xaxis\": \"x\", \"y\": [29], \"yaxis\": \"y\"}, {\"hovertemplate\": \"to_facility=ALIVE HOSPICE, INC.<br>from_physician=%{x}<br>patient_count=%{y}<extra></extra>\", \"legendgroup\": \"ALIVE HOSPICE, INC.\", \"marker\": {\"color\": \"#FF97FF\", \"symbol\": \"circle\"}, \"mode\": \"markers\", \"name\": \"ALIVE HOSPICE, INC.\", \"showlegend\": true, \"type\": \"scattergl\", \"x\": [\"VANJA TRUBAJIC\"], \"xaxis\": \"x\", \"y\": [97], \"yaxis\": \"y\"}, {\"hovertemplate\": \"to_facility=GUARDIAN HOME CARE OF NASHVILLE, LLC<br>from_physician=%{x}<br>patient_count=%{y}<extra></extra>\", \"legendgroup\": \"GUARDIAN HOME CARE OF NASHVILLE, LLC\", \"marker\": {\"color\": \"#FECB52\", \"symbol\": \"circle\"}, \"mode\": \"markers\", \"name\": \"GUARDIAN HOME CARE OF NASHVILLE, LLC\", \"showlegend\": true, \"type\": \"scattergl\", \"x\": [\"BRUCE RICHARDS\", \"KENNETH DOZIER\"], \"xaxis\": \"x\", \"y\": [19, 35], \"yaxis\": \"y\"}, {\"hovertemplate\": \"to_facility=HARDIE V. SORRELS III MD P<br>from_physician=%{x}<br>patient_count=%{y}<extra></extra>\", \"legendgroup\": \"HARDIE V. SORRELS III MD P\", \"marker\": {\"color\": \"#636efa\", \"symbol\": \"circle\"}, \"mode\": \"markers\", \"name\": \"HARDIE V. SORRELS III MD P\", \"showlegend\": true, \"type\": \"scattergl\", \"x\": [\"HARDIE SORRELS\"], \"xaxis\": \"x\", \"y\": [467], \"yaxis\": \"y\"}, {\"hovertemplate\": \"to_facility=TENNESSEE STATE VETERANS HOME BOARD<br>from_physician=%{x}<br>patient_count=%{y}<extra></extra>\", \"legendgroup\": \"TENNESSEE STATE VETERANS HOME BOARD\", \"marker\": {\"color\": \"#EF553B\", \"symbol\": \"circle\"}, \"mode\": \"markers\", \"name\": \"TENNESSEE STATE VETERANS HOME BOARD\", \"showlegend\": true, \"type\": \"scattergl\", \"x\": [\"MILLARD COLLINS\"], \"xaxis\": \"x\", \"y\": [13], \"yaxis\": \"y\"}, {\"hovertemplate\": \"to_facility=SCOTT CRAIG MD<br>from_physician=%{x}<br>patient_count=%{y}<extra></extra>\", \"legendgroup\": \"SCOTT CRAIG MD\", \"marker\": {\"color\": \"#00cc96\", \"symbol\": \"circle\"}, \"mode\": \"markers\", \"name\": \"SCOTT CRAIG MD\", \"showlegend\": true, \"type\": \"scattergl\", \"x\": [\"SCOTT CRAIG\"], \"xaxis\": \"x\", \"y\": [315], \"yaxis\": \"y\"}, {\"hovertemplate\": \"to_facility=FAMILY CHIROPRACTIC PC<br>from_physician=%{x}<br>patient_count=%{y}<extra></extra>\", \"legendgroup\": \"FAMILY CHIROPRACTIC PC\", \"marker\": {\"color\": \"#ab63fa\", \"symbol\": \"circle\"}, \"mode\": \"markers\", \"name\": \"FAMILY CHIROPRACTIC PC\", \"showlegend\": true, \"type\": \"scattergl\", \"x\": [\"JENNIFER BETT-GRAY\"], \"xaxis\": \"x\", \"y\": [58], \"yaxis\": \"y\"}, {\"hovertemplate\": \"to_facility=SELECT PHYSICAL THERAPY HOLDINGS, INC.<br>from_physician=%{x}<br>patient_count=%{y}<extra></extra>\", \"legendgroup\": \"SELECT PHYSICAL THERAPY HOLDINGS, INC.\", \"marker\": {\"color\": \"#FFA15A\", \"symbol\": \"circle\"}, \"mode\": \"markers\", \"name\": \"SELECT PHYSICAL THERAPY HOLDINGS, INC.\", \"showlegend\": true, \"type\": \"scattergl\", \"x\": [\"KEVIN RENEAU\"], \"xaxis\": \"x\", \"y\": [22], \"yaxis\": \"y\"}, {\"hovertemplate\": \"to_facility=HENDERSONVILLE EYE CARE<br>from_physician=%{x}<br>patient_count=%{y}<extra></extra>\", \"legendgroup\": \"HENDERSONVILLE EYE CARE\", \"marker\": {\"color\": \"#19d3f3\", \"symbol\": \"circle\"}, \"mode\": \"markers\", \"name\": \"HENDERSONVILLE EYE CARE\", \"showlegend\": true, \"type\": \"scattergl\", \"x\": [\"JAMES SMITH\"], \"xaxis\": \"x\", \"y\": [52], \"yaxis\": \"y\"}, {\"hovertemplate\": \"to_facility=GRESHAM & ASSOCIATES CARDIOLOGY GROUP, PLLC<br>from_physician=%{x}<br>patient_count=%{y}<extra></extra>\", \"legendgroup\": \"GRESHAM & ASSOCIATES CARDIOLOGY GROUP, PLLC\", \"marker\": {\"color\": \"#FF6692\", \"symbol\": \"circle\"}, \"mode\": \"markers\", \"name\": \"GRESHAM & ASSOCIATES CARDIOLOGY GROUP, PLLC\", \"showlegend\": true, \"type\": \"scattergl\", \"x\": [\"TINA GRESHAM\"], \"xaxis\": \"x\", \"y\": [69], \"yaxis\": \"y\"}, {\"hovertemplate\": \"to_facility=TINKER FAMILY CHIROPRACTIC, LLC<br>from_physician=%{x}<br>patient_count=%{y}<extra></extra>\", \"legendgroup\": \"TINKER FAMILY CHIROPRACTIC, LLC\", \"marker\": {\"color\": \"#B6E880\", \"symbol\": \"circle\"}, \"mode\": \"markers\", \"name\": \"TINKER FAMILY CHIROPRACTIC, LLC\", \"showlegend\": true, \"type\": \"scattergl\", \"x\": [\"BRITTANY TINKER\"], \"xaxis\": \"x\", \"y\": [19], \"yaxis\": \"y\"}, {\"hovertemplate\": \"to_facility=NEPHROLOGY ASSOCIATES, PC<br>from_physician=%{x}<br>patient_count=%{y}<extra></extra>\", \"legendgroup\": \"NEPHROLOGY ASSOCIATES, PC\", \"marker\": {\"color\": \"#FF97FF\", \"symbol\": \"circle\"}, \"mode\": \"markers\", \"name\": \"NEPHROLOGY ASSOCIATES, PC\", \"showlegend\": true, \"type\": \"scattergl\", \"x\": [\"MAGDALENA MAKARUCHA\"], \"xaxis\": \"x\", \"y\": [501], \"yaxis\": \"y\"}, {\"hovertemplate\": \"to_facility=TENNESSEE BREAST CARE CENTER PLC<br>from_physician=%{x}<br>patient_count=%{y}<extra></extra>\", \"legendgroup\": \"TENNESSEE BREAST CARE CENTER PLC\", \"marker\": {\"color\": \"#FECB52\", \"symbol\": \"circle\"}, \"mode\": \"markers\", \"name\": \"TENNESSEE BREAST CARE CENTER PLC\", \"showlegend\": true, \"type\": \"scattergl\", \"x\": [\"BEN FURMAN\"], \"xaxis\": \"x\", \"y\": [66], \"yaxis\": \"y\"}, {\"hovertemplate\": \"to_facility=GREEN HILLS EYECARE, PLLC<br>from_physician=%{x}<br>patient_count=%{y}<extra></extra>\", \"legendgroup\": \"GREEN HILLS EYECARE, PLLC\", \"marker\": {\"color\": \"#636efa\", \"symbol\": \"circle\"}, \"mode\": \"markers\", \"name\": \"GREEN HILLS EYECARE, PLLC\", \"showlegend\": true, \"type\": \"scattergl\", \"x\": [\"JESSICA DURHAM\"], \"xaxis\": \"x\", \"y\": [89], \"yaxis\": \"y\"}, {\"hovertemplate\": \"to_facility=MOORE LIFE HEALTHCARE, PC<br>from_physician=%{x}<br>patient_count=%{y}<extra></extra>\", \"legendgroup\": \"MOORE LIFE HEALTHCARE, PC\", \"marker\": {\"color\": \"#EF553B\", \"symbol\": \"circle\"}, \"mode\": \"markers\", \"name\": \"MOORE LIFE HEALTHCARE, PC\", \"showlegend\": true, \"type\": \"scattergl\", \"x\": [\"ANGIE RIDDLE\"], \"xaxis\": \"x\", \"y\": [71], \"yaxis\": \"y\"}, {\"hovertemplate\": \"to_facility=BARFIELD FAMILY WALK IN CLINIC<br>from_physician=%{x}<br>patient_count=%{y}<extra></extra>\", \"legendgroup\": \"BARFIELD FAMILY WALK IN CLINIC\", \"marker\": {\"color\": \"#00cc96\", \"symbol\": \"circle\"}, \"mode\": \"markers\", \"name\": \"BARFIELD FAMILY WALK IN CLINIC\", \"showlegend\": true, \"type\": \"scattergl\", \"x\": [\"LEANNE VENABLE\", \"KURT KNOLL\"], \"xaxis\": \"x\", \"y\": [135, 174], \"yaxis\": \"y\"}, {\"hovertemplate\": \"to_facility=WOOSLEY MEDICAL REHAB AND WELLNESS<br>from_physician=%{x}<br>patient_count=%{y}<extra></extra>\", \"legendgroup\": \"WOOSLEY MEDICAL REHAB AND WELLNESS\", \"marker\": {\"color\": \"#ab63fa\", \"symbol\": \"circle\"}, \"mode\": \"markers\", \"name\": \"WOOSLEY MEDICAL REHAB AND WELLNESS\", \"showlegend\": true, \"type\": \"scattergl\", \"x\": [\"CHARLTON WOOSLEY\"], \"xaxis\": \"x\", \"y\": [46], \"yaxis\": \"y\"}, {\"hovertemplate\": \"to_facility=BENNETT CHIROPRACTIC, LLC<br>from_physician=%{x}<br>patient_count=%{y}<extra></extra>\", \"legendgroup\": \"BENNETT CHIROPRACTIC, LLC\", \"marker\": {\"color\": \"#FFA15A\", \"symbol\": \"circle\"}, \"mode\": \"markers\", \"name\": \"BENNETT CHIROPRACTIC, LLC\", \"showlegend\": true, \"type\": \"scattergl\", \"x\": [\"AMY BENNETT\"], \"xaxis\": \"x\", \"y\": [53], \"yaxis\": \"y\"}, {\"hovertemplate\": \"to_facility=KESTNERPHYSMED, LLC<br>from_physician=%{x}<br>patient_count=%{y}<extra></extra>\", \"legendgroup\": \"KESTNERPHYSMED, LLC\", \"marker\": {\"color\": \"#19d3f3\", \"symbol\": \"circle\"}, \"mode\": \"markers\", \"name\": \"KESTNERPHYSMED, LLC\", \"showlegend\": true, \"type\": \"scattergl\", \"x\": [\"ASHLEY GUSSONI\", \"JENNIFER KESTNER\"], \"xaxis\": \"x\", \"y\": [40, 37], \"yaxis\": \"y\"}, {\"hovertemplate\": \"to_facility=HEALTH AND WELLNESS, ENDOCRINOLOGY, LLC<br>from_physician=%{x}<br>patient_count=%{y}<extra></extra>\", \"legendgroup\": \"HEALTH AND WELLNESS, ENDOCRINOLOGY, LLC\", \"marker\": {\"color\": \"#FF6692\", \"symbol\": \"circle\"}, \"mode\": \"markers\", \"name\": \"HEALTH AND WELLNESS, ENDOCRINOLOGY, LLC\", \"showlegend\": true, \"type\": \"scattergl\", \"x\": [\"DARA BOTTS\"], \"xaxis\": \"x\", \"y\": [69], \"yaxis\": \"y\"}, {\"hovertemplate\": \"to_facility=HERMITAGE TN ENDOSCOPY ASC, LLC<br>from_physician=%{x}<br>patient_count=%{y}<extra></extra>\", \"legendgroup\": \"HERMITAGE TN ENDOSCOPY ASC, LLC\", \"marker\": {\"color\": \"#B6E880\", \"symbol\": \"circle\"}, \"mode\": \"markers\", \"name\": \"HERMITAGE TN ENDOSCOPY ASC, LLC\", \"showlegend\": true, \"type\": \"scattergl\", \"x\": [\"DEBORAH TEMPLE\", \"TRAVIS BERRY\"], \"xaxis\": \"x\", \"y\": [391, 447], \"yaxis\": \"y\"}, {\"hovertemplate\": \"to_facility=ASSOCIATES IN GASTRONETEROLOGY<br>from_physician=%{x}<br>patient_count=%{y}<extra></extra>\", \"legendgroup\": \"ASSOCIATES IN GASTRONETEROLOGY\", \"marker\": {\"color\": \"#FF97FF\", \"symbol\": \"circle\"}, \"mode\": \"markers\", \"name\": \"ASSOCIATES IN GASTRONETEROLOGY\", \"showlegend\": true, \"type\": \"scattergl\", \"x\": [\"DEBORAH TEMPLE\"], \"xaxis\": \"x\", \"y\": [389], \"yaxis\": \"y\"}, {\"hovertemplate\": \"to_facility=COMPREHENSIVE SURGICAL CARE, INC.<br>from_physician=%{x}<br>patient_count=%{y}<extra></extra>\", \"legendgroup\": \"COMPREHENSIVE SURGICAL CARE, INC.\", \"marker\": {\"color\": \"#FECB52\", \"symbol\": \"circle\"}, \"mode\": \"markers\", \"name\": \"COMPREHENSIVE SURGICAL CARE, INC.\", \"showlegend\": true, \"type\": \"scattergl\", \"x\": [\"MUYIWA ADEDOKUN\"], \"xaxis\": \"x\", \"y\": [75], \"yaxis\": \"y\"}, {\"hovertemplate\": \"to_facility=HAYES ENDOCRINE & DIABETES CENTER, PC<br>from_physician=%{x}<br>patient_count=%{y}<extra></extra>\", \"legendgroup\": \"HAYES ENDOCRINE & DIABETES CENTER, PC\", \"marker\": {\"color\": \"#636efa\", \"symbol\": \"circle\"}, \"mode\": \"markers\", \"name\": \"HAYES ENDOCRINE & DIABETES CENTER, PC\", \"showlegend\": true, \"type\": \"scattergl\", \"x\": [\"ANDREA HAYES\"], \"xaxis\": \"x\", \"y\": [428], \"yaxis\": \"y\"}, {\"hovertemplate\": \"to_facility=AMSURG HERMITAGE ANESTHESIA, LLC<br>from_physician=%{x}<br>patient_count=%{y}<extra></extra>\", \"legendgroup\": \"AMSURG HERMITAGE ANESTHESIA, LLC\", \"marker\": {\"color\": \"#EF553B\", \"symbol\": \"circle\"}, \"mode\": \"markers\", \"name\": \"AMSURG HERMITAGE ANESTHESIA, LLC\", \"showlegend\": true, \"type\": \"scattergl\", \"x\": [\"DEBORAH TEMPLE\", \"TRAVIS BERRY\"], \"xaxis\": \"x\", \"y\": [398, 451], \"yaxis\": \"y\"}, {\"hovertemplate\": \"to_facility=PRIMARY CARE CLINIC LLC<br>from_physician=%{x}<br>patient_count=%{y}<extra></extra>\", \"legendgroup\": \"PRIMARY CARE CLINIC LLC\", \"marker\": {\"color\": \"#00cc96\", \"symbol\": \"circle\"}, \"mode\": \"markers\", \"name\": \"PRIMARY CARE CLINIC LLC\", \"showlegend\": true, \"type\": \"scattergl\", \"x\": [\"JEAN TAN\"], \"xaxis\": \"x\", \"y\": [287], \"yaxis\": \"y\"}, {\"hovertemplate\": \"to_facility=KEN HOMOLYA MD LLC<br>from_physician=%{x}<br>patient_count=%{y}<extra></extra>\", \"legendgroup\": \"KEN HOMOLYA MD LLC\", \"marker\": {\"color\": \"#ab63fa\", \"symbol\": \"circle\"}, \"mode\": \"markers\", \"name\": \"KEN HOMOLYA MD LLC\", \"showlegend\": true, \"type\": \"scattergl\", \"x\": [\"BRANDON TOLMAN\"], \"xaxis\": \"x\", \"y\": [242], \"yaxis\": \"y\"}, {\"hovertemplate\": \"to_facility=UNITED NEIGHBORHOOD HEALTH SERVICES, INC.<br>from_physician=%{x}<br>patient_count=%{y}<extra></extra>\", \"legendgroup\": \"UNITED NEIGHBORHOOD HEALTH SERVICES, INC.\", \"marker\": {\"color\": \"#FFA15A\", \"symbol\": \"circle\"}, \"mode\": \"markers\", \"name\": \"UNITED NEIGHBORHOOD HEALTH SERVICES, INC.\", \"showlegend\": true, \"type\": \"scattergl\", \"x\": [\"OSMAN GABURE\", \"JULE WEST\"], \"xaxis\": \"x\", \"y\": [75, 40], \"yaxis\": \"y\"}, {\"hovertemplate\": \"to_facility=GINA MENDOZA DPM PC<br>from_physician=%{x}<br>patient_count=%{y}<extra></extra>\", \"legendgroup\": \"GINA MENDOZA DPM PC\", \"marker\": {\"color\": \"#19d3f3\", \"symbol\": \"circle\"}, \"mode\": \"markers\", \"name\": \"GINA MENDOZA DPM PC\", \"showlegend\": true, \"type\": \"scattergl\", \"x\": [\"GINA MENDOZA\"], \"xaxis\": \"x\", \"y\": [285], \"yaxis\": \"y\"}, {\"hovertemplate\": \"to_facility=BEHAVIORAL HEALTHCARE CENTER AT COLUMBIA INC<br>from_physician=%{x}<br>patient_count=%{y}<extra></extra>\", \"legendgroup\": \"BEHAVIORAL HEALTHCARE CENTER AT COLUMBIA INC\", \"marker\": {\"color\": \"#FF6692\", \"symbol\": \"circle\"}, \"mode\": \"markers\", \"name\": \"BEHAVIORAL HEALTHCARE CENTER AT COLUMBIA INC\", \"showlegend\": true, \"type\": \"scattergl\", \"x\": [\"RODNEY POLING\"], \"xaxis\": \"x\", \"y\": [196], \"yaxis\": \"y\"}, {\"hovertemplate\": \"to_facility=KCS MEDICAL, INC<br>from_physician=%{x}<br>patient_count=%{y}<extra></extra>\", \"legendgroup\": \"KCS MEDICAL, INC\", \"marker\": {\"color\": \"#B6E880\", \"symbol\": \"circle\"}, \"mode\": \"markers\", \"name\": \"KCS MEDICAL, INC\", \"showlegend\": true, \"type\": \"scattergl\", \"x\": [\"KELLEY SCHARRER\"], \"xaxis\": \"x\", \"y\": [59], \"yaxis\": \"y\"}, {\"hovertemplate\": \"to_facility=XUHAN PC LLP<br>from_physician=%{x}<br>patient_count=%{y}<extra></extra>\", \"legendgroup\": \"XUHAN PC LLP\", \"marker\": {\"color\": \"#FF97FF\", \"symbol\": \"circle\"}, \"mode\": \"markers\", \"name\": \"XUHAN PC LLP\", \"showlegend\": true, \"type\": \"scattergl\", \"x\": [\"XUHAN ZHANG\"], \"xaxis\": \"x\", \"y\": [68], \"yaxis\": \"y\"}, {\"hovertemplate\": \"to_facility=REN DERMATOLOGY PLLC<br>from_physician=%{x}<br>patient_count=%{y}<extra></extra>\", \"legendgroup\": \"REN DERMATOLOGY PLLC\", \"marker\": {\"color\": \"#FECB52\", \"symbol\": \"circle\"}, \"mode\": \"markers\", \"name\": \"REN DERMATOLOGY PLLC\", \"showlegend\": true, \"type\": \"scattergl\", \"x\": [\"JENNIFER LEE\"], \"xaxis\": \"x\", \"y\": [368], \"yaxis\": \"y\"}, {\"hovertemplate\": \"to_facility=JOSEPH B DELOZIER III MD PLLC<br>from_physician=%{x}<br>patient_count=%{y}<extra></extra>\", \"legendgroup\": \"JOSEPH B DELOZIER III MD PLLC\", \"marker\": {\"color\": \"#636efa\", \"symbol\": \"circle\"}, \"mode\": \"markers\", \"name\": \"JOSEPH B DELOZIER III MD PLLC\", \"showlegend\": true, \"type\": \"scattergl\", \"x\": [\"JOSEPH DELOZIER\"], \"xaxis\": \"x\", \"y\": [82], \"yaxis\": \"y\"}, {\"hovertemplate\": \"to_facility=MID SOUTH PSYCHIATRIC ASSOCIATES<br>from_physician=%{x}<br>patient_count=%{y}<extra></extra>\", \"legendgroup\": \"MID SOUTH PSYCHIATRIC ASSOCIATES\", \"marker\": {\"color\": \"#EF553B\", \"symbol\": \"circle\"}, \"mode\": \"markers\", \"name\": \"MID SOUTH PSYCHIATRIC ASSOCIATES\", \"showlegend\": true, \"type\": \"scattergl\", \"x\": [\"AHMED FAROOQUE\", \"JUDY REGER\"], \"xaxis\": \"x\", \"y\": [366, 17], \"yaxis\": \"y\"}, {\"hovertemplate\": \"to_facility=B. PAUL TURPIN, MD.PLLC<br>from_physician=%{x}<br>patient_count=%{y}<extra></extra>\", \"legendgroup\": \"B. PAUL TURPIN, MD.PLLC\", \"marker\": {\"color\": \"#00cc96\", \"symbol\": \"circle\"}, \"mode\": \"markers\", \"name\": \"B. PAUL TURPIN, MD.PLLC\", \"showlegend\": true, \"type\": \"scattergl\", \"x\": [\"BUFORD TURPIN\"], \"xaxis\": \"x\", \"y\": [77], \"yaxis\": \"y\"}, {\"hovertemplate\": \"to_facility=NORTHFIELD FAMILY PRACTICE PC<br>from_physician=%{x}<br>patient_count=%{y}<extra></extra>\", \"legendgroup\": \"NORTHFIELD FAMILY PRACTICE PC\", \"marker\": {\"color\": \"#ab63fa\", \"symbol\": \"circle\"}, \"mode\": \"markers\", \"name\": \"NORTHFIELD FAMILY PRACTICE PC\", \"showlegend\": true, \"type\": \"scattergl\", \"x\": [\"MOSES SWAUNCY\"], \"xaxis\": \"x\", \"y\": [184], \"yaxis\": \"y\"}, {\"hovertemplate\": \"to_facility=VANDERBILT MAURY RADIATION ONCOLOGY, LLC<br>from_physician=%{x}<br>patient_count=%{y}<extra></extra>\", \"legendgroup\": \"VANDERBILT MAURY RADIATION ONCOLOGY, LLC\", \"marker\": {\"color\": \"#FFA15A\", \"symbol\": \"circle\"}, \"mode\": \"markers\", \"name\": \"VANDERBILT MAURY RADIATION ONCOLOGY, LLC\", \"showlegend\": true, \"type\": \"scattergl\", \"x\": [\"DIANDRA AYALA-PEACOCK\"], \"xaxis\": \"x\", \"y\": [47], \"yaxis\": \"y\"}, {\"hovertemplate\": \"to_facility=PREMIER CHIROPRACTIC<br>from_physician=%{x}<br>patient_count=%{y}<extra></extra>\", \"legendgroup\": \"PREMIER CHIROPRACTIC\", \"marker\": {\"color\": \"#19d3f3\", \"symbol\": \"circle\"}, \"mode\": \"markers\", \"name\": \"PREMIER CHIROPRACTIC\", \"showlegend\": true, \"type\": \"scattergl\", \"x\": [\"ERICKA MONTELIONE\"], \"xaxis\": \"x\", \"y\": [55], \"yaxis\": \"y\"}, {\"hovertemplate\": \"to_facility=MEHARRY MEDICAL COLLEGE<br>from_physician=%{x}<br>patient_count=%{y}<extra></extra>\", \"legendgroup\": \"MEHARRY MEDICAL COLLEGE\", \"marker\": {\"color\": \"#FF6692\", \"symbol\": \"circle\"}, \"mode\": \"markers\", \"name\": \"MEHARRY MEDICAL COLLEGE\", \"showlegend\": true, \"type\": \"scattergl\", \"x\": [\"AFUA THOMPSON\"], \"xaxis\": \"x\", \"y\": [367], \"yaxis\": \"y\"}, {\"hovertemplate\": \"to_facility=MIDDLE TN WOMENS HEALTH GROUP<br>from_physician=%{x}<br>patient_count=%{y}<extra></extra>\", \"legendgroup\": \"MIDDLE TN WOMENS HEALTH GROUP\", \"marker\": {\"color\": \"#B6E880\", \"symbol\": \"circle\"}, \"mode\": \"markers\", \"name\": \"MIDDLE TN WOMENS HEALTH GROUP\", \"showlegend\": true, \"type\": \"scattergl\", \"x\": [\"CARRIE MARCHMAN\"], \"xaxis\": \"x\", \"y\": [53], \"yaxis\": \"y\"}, {\"hovertemplate\": \"to_facility=ROSE FAMILY CLINIC<br>from_physician=%{x}<br>patient_count=%{y}<extra></extra>\", \"legendgroup\": \"ROSE FAMILY CLINIC\", \"marker\": {\"color\": \"#FF97FF\", \"symbol\": \"circle\"}, \"mode\": \"markers\", \"name\": \"ROSE FAMILY CLINIC\", \"showlegend\": true, \"type\": \"scattergl\", \"x\": [\"JOHN BALL\"], \"xaxis\": \"x\", \"y\": [28], \"yaxis\": \"y\"}, {\"hovertemplate\": \"to_facility=MEDICOS NASHVILLE FAMILY MEDICINE, LLC<br>from_physician=%{x}<br>patient_count=%{y}<extra></extra>\", \"legendgroup\": \"MEDICOS NASHVILLE FAMILY MEDICINE, LLC\", \"marker\": {\"color\": \"#FECB52\", \"symbol\": \"circle\"}, \"mode\": \"markers\", \"name\": \"MEDICOS NASHVILLE FAMILY MEDICINE, LLC\", \"showlegend\": true, \"type\": \"scattergl\", \"x\": [\"CONCEPCION MARTINEZ\"], \"xaxis\": \"x\", \"y\": [31], \"yaxis\": \"y\"}, {\"hovertemplate\": \"to_facility=LEAVITT FAMILY MEDICINE, PLLC<br>from_physician=%{x}<br>patient_count=%{y}<extra></extra>\", \"legendgroup\": \"LEAVITT FAMILY MEDICINE, PLLC\", \"marker\": {\"color\": \"#636efa\", \"symbol\": \"circle\"}, \"mode\": \"markers\", \"name\": \"LEAVITT FAMILY MEDICINE, PLLC\", \"showlegend\": true, \"type\": \"scattergl\", \"x\": [\"PAUL LEAVITT\"], \"xaxis\": \"x\", \"y\": [698], \"yaxis\": \"y\"}, {\"hovertemplate\": \"to_facility=MISTYE TAYLOR MD PLLC<br>from_physician=%{x}<br>patient_count=%{y}<extra></extra>\", \"legendgroup\": \"MISTYE TAYLOR MD PLLC\", \"marker\": {\"color\": \"#EF553B\", \"symbol\": \"circle\"}, \"mode\": \"markers\", \"name\": \"MISTYE TAYLOR MD PLLC\", \"showlegend\": true, \"type\": \"scattergl\", \"x\": [\"MISTYE TAYLOR\"], \"xaxis\": \"x\", \"y\": [27], \"yaxis\": \"y\"}, {\"hovertemplate\": \"to_facility=PREMIER MEDICAL CENTRE, LLC<br>from_physician=%{x}<br>patient_count=%{y}<extra></extra>\", \"legendgroup\": \"PREMIER MEDICAL CENTRE, LLC\", \"marker\": {\"color\": \"#00cc96\", \"symbol\": \"circle\"}, \"mode\": \"markers\", \"name\": \"PREMIER MEDICAL CENTRE, LLC\", \"showlegend\": true, \"type\": \"scattergl\", \"x\": [\"PEARLINE BUTCHER\"], \"xaxis\": \"x\", \"y\": [28], \"yaxis\": \"y\"}, {\"hovertemplate\": \"to_facility=DANIEL E. BUSTOS, M.D., P.C.<br>from_physician=%{x}<br>patient_count=%{y}<extra></extra>\", \"legendgroup\": \"DANIEL E. BUSTOS, M.D., P.C.\", \"marker\": {\"color\": \"#ab63fa\", \"symbol\": \"circle\"}, \"mode\": \"markers\", \"name\": \"DANIEL E. BUSTOS, M.D., P.C.\", \"showlegend\": true, \"type\": \"scattergl\", \"x\": [\"DANIEL BUSTOS\"], \"xaxis\": \"x\", \"y\": [514], \"yaxis\": \"y\"}, {\"hovertemplate\": \"to_facility=COVENANT HEALTHCARE FOR WOMEN PLLC<br>from_physician=%{x}<br>patient_count=%{y}<extra></extra>\", \"legendgroup\": \"COVENANT HEALTHCARE FOR WOMEN PLLC\", \"marker\": {\"color\": \"#FFA15A\", \"symbol\": \"circle\"}, \"mode\": \"markers\", \"name\": \"COVENANT HEALTHCARE FOR WOMEN PLLC\", \"showlegend\": true, \"type\": \"scattergl\", \"x\": [\"CHARLES BOLES\"], \"xaxis\": \"x\", \"y\": [55], \"yaxis\": \"y\"}, {\"hovertemplate\": \"to_facility=WOMENS GROUP OF FRANKLIN<br>from_physician=%{x}<br>patient_count=%{y}<extra></extra>\", \"legendgroup\": \"WOMENS GROUP OF FRANKLIN\", \"marker\": {\"color\": \"#19d3f3\", \"symbol\": \"circle\"}, \"mode\": \"markers\", \"name\": \"WOMENS GROUP OF FRANKLIN\", \"showlegend\": true, \"type\": \"scattergl\", \"x\": [\"LYNN ELLINGTON\", \"HEATHER RUPE\"], \"xaxis\": \"x\", \"y\": [66, 43], \"yaxis\": \"y\"}, {\"hovertemplate\": \"to_facility=ORTHOPAEDIC SPECIALISTS PLLC<br>from_physician=%{x}<br>patient_count=%{y}<extra></extra>\", \"legendgroup\": \"ORTHOPAEDIC SPECIALISTS PLLC\", \"marker\": {\"color\": \"#FF6692\", \"symbol\": \"circle\"}, \"mode\": \"markers\", \"name\": \"ORTHOPAEDIC SPECIALISTS PLLC\", \"showlegend\": true, \"type\": \"scattergl\", \"x\": [\"BRANDON DOWNS\"], \"xaxis\": \"x\", \"y\": [246], \"yaxis\": \"y\"}, {\"hovertemplate\": \"to_facility=VISION SOURCE OF HENDERSONVILLE PLLC<br>from_physician=%{x}<br>patient_count=%{y}<extra></extra>\", \"legendgroup\": \"VISION SOURCE OF HENDERSONVILLE PLLC\", \"marker\": {\"color\": \"#B6E880\", \"symbol\": \"circle\"}, \"mode\": \"markers\", \"name\": \"VISION SOURCE OF HENDERSONVILLE PLLC\", \"showlegend\": true, \"type\": \"scattergl\", \"x\": [\"JAMES STAMPER\"], \"xaxis\": \"x\", \"y\": [143], \"yaxis\": \"y\"}, {\"hovertemplate\": \"to_facility=KERRY BECHT PHYSICAL THERAPY AND MASSAGE, INC.<br>from_physician=%{x}<br>patient_count=%{y}<extra></extra>\", \"legendgroup\": \"KERRY BECHT PHYSICAL THERAPY AND MASSAGE, INC.\", \"marker\": {\"color\": \"#FF97FF\", \"symbol\": \"circle\"}, \"mode\": \"markers\", \"name\": \"KERRY BECHT PHYSICAL THERAPY AND MASSAGE, INC.\", \"showlegend\": true, \"type\": \"scattergl\", \"x\": [\"KERRY BECHT\"], \"xaxis\": \"x\", \"y\": [222], \"yaxis\": \"y\"}, {\"hovertemplate\": \"to_facility=ADVANCED SLEEP CONSULTANTS OF MIDDLE TN, INC<br>from_physician=%{x}<br>patient_count=%{y}<extra></extra>\", \"legendgroup\": \"ADVANCED SLEEP CONSULTANTS OF MIDDLE TN, INC\", \"marker\": {\"color\": \"#FECB52\", \"symbol\": \"circle\"}, \"mode\": \"markers\", \"name\": \"ADVANCED SLEEP CONSULTANTS OF MIDDLE TN, INC\", \"showlegend\": true, \"type\": \"scattergl\", \"x\": [\"RUSSELL GIBSON\"], \"xaxis\": \"x\", \"y\": [286], \"yaxis\": \"y\"}, {\"hovertemplate\": \"to_facility=CORNERSTONE MEDICAL ASSOCIATES PLLC<br>from_physician=%{x}<br>patient_count=%{y}<extra></extra>\", \"legendgroup\": \"CORNERSTONE MEDICAL ASSOCIATES PLLC\", \"marker\": {\"color\": \"#636efa\", \"symbol\": \"circle\"}, \"mode\": \"markers\", \"name\": \"CORNERSTONE MEDICAL ASSOCIATES PLLC\", \"showlegend\": true, \"type\": \"scattergl\", \"x\": [\"RICHMOND AKATUE\"], \"xaxis\": \"x\", \"y\": [52], \"yaxis\": \"y\"}, {\"hovertemplate\": \"to_facility=CONSULTING ASSOCIATES, LLC<br>from_physician=%{x}<br>patient_count=%{y}<extra></extra>\", \"legendgroup\": \"CONSULTING ASSOCIATES, LLC\", \"marker\": {\"color\": \"#EF553B\", \"symbol\": \"circle\"}, \"mode\": \"markers\", \"name\": \"CONSULTING ASSOCIATES, LLC\", \"showlegend\": true, \"type\": \"scattergl\", \"x\": [\"LISA WEBB\"], \"xaxis\": \"x\", \"y\": [79], \"yaxis\": \"y\"}, {\"hovertemplate\": \"to_facility=REMOTE NEUROMONITORING PHYSICIANS ,PC<br>from_physician=%{x}<br>patient_count=%{y}<extra></extra>\", \"legendgroup\": \"REMOTE NEUROMONITORING PHYSICIANS ,PC\", \"marker\": {\"color\": \"#00cc96\", \"symbol\": \"circle\"}, \"mode\": \"markers\", \"name\": \"REMOTE NEUROMONITORING PHYSICIANS ,PC\", \"showlegend\": true, \"type\": \"scattergl\", \"x\": [\"ONILE SESTOKAS\"], \"xaxis\": \"x\", \"y\": [528], \"yaxis\": \"y\"}, {\"hovertemplate\": \"to_facility=NASHVILLE TMS PLLC<br>from_physician=%{x}<br>patient_count=%{y}<extra></extra>\", \"legendgroup\": \"NASHVILLE TMS PLLC\", \"marker\": {\"color\": \"#ab63fa\", \"symbol\": \"circle\"}, \"mode\": \"markers\", \"name\": \"NASHVILLE TMS PLLC\", \"showlegend\": true, \"type\": \"scattergl\", \"x\": [\"WILLIAM WEST\"], \"xaxis\": \"x\", \"y\": [25], \"yaxis\": \"y\"}, {\"hovertemplate\": \"to_facility=PAUL S DAUGHERTY MD PC<br>from_physician=%{x}<br>patient_count=%{y}<extra></extra>\", \"legendgroup\": \"PAUL S DAUGHERTY MD PC\", \"marker\": {\"color\": \"#FFA15A\", \"symbol\": \"circle\"}, \"mode\": \"markers\", \"name\": \"PAUL S DAUGHERTY MD PC\", \"showlegend\": true, \"type\": \"scattergl\", \"x\": [\"PAUL DAUGHERTY\"], \"xaxis\": \"x\", \"y\": [312], \"yaxis\": \"y\"}, {\"hovertemplate\": \"to_facility=FRANKLIN CHIROPRACTIC CENTER LLC<br>from_physician=%{x}<br>patient_count=%{y}<extra></extra>\", \"legendgroup\": \"FRANKLIN CHIROPRACTIC CENTER LLC\", \"marker\": {\"color\": \"#19d3f3\", \"symbol\": \"circle\"}, \"mode\": \"markers\", \"name\": \"FRANKLIN CHIROPRACTIC CENTER LLC\", \"showlegend\": true, \"type\": \"scattergl\", \"x\": [\"DWAINE ALLISON\"], \"xaxis\": \"x\", \"y\": [21], \"yaxis\": \"y\"}, {\"hovertemplate\": \"to_facility=UAP LEBANON ENDO, LLC<br>from_physician=%{x}<br>patient_count=%{y}<extra></extra>\", \"legendgroup\": \"UAP LEBANON ENDO, LLC\", \"marker\": {\"color\": \"#FF6692\", \"symbol\": \"circle\"}, \"mode\": \"markers\", \"name\": \"UAP LEBANON ENDO, LLC\", \"showlegend\": true, \"type\": \"scattergl\", \"x\": [\"CHARLES GOLDEN\"], \"xaxis\": \"x\", \"y\": [99], \"yaxis\": \"y\"}, {\"hovertemplate\": \"to_facility=PRIMARY EYECARE GROUP OF SPRING HILL PLLC<br>from_physician=%{x}<br>patient_count=%{y}<extra></extra>\", \"legendgroup\": \"PRIMARY EYECARE GROUP OF SPRING HILL PLLC\", \"marker\": {\"color\": \"#B6E880\", \"symbol\": \"circle\"}, \"mode\": \"markers\", \"name\": \"PRIMARY EYECARE GROUP OF SPRING HILL PLLC\", \"showlegend\": true, \"type\": \"scattergl\", \"x\": [\"NICHOLAS ENGLE\"], \"xaxis\": \"x\", \"y\": [71], \"yaxis\": \"y\"}, {\"hovertemplate\": \"to_facility=DR. SAID ATTOUSSI INC<br>from_physician=%{x}<br>patient_count=%{y}<extra></extra>\", \"legendgroup\": \"DR. SAID ATTOUSSI INC\", \"marker\": {\"color\": \"#FF97FF\", \"symbol\": \"circle\"}, \"mode\": \"markers\", \"name\": \"DR. SAID ATTOUSSI INC\", \"showlegend\": true, \"type\": \"scattergl\", \"x\": [\"SAID ATTOUSSI\"], \"xaxis\": \"x\", \"y\": [119], \"yaxis\": \"y\"}, {\"hovertemplate\": \"to_facility=GALLAHER EYECARE<br>from_physician=%{x}<br>patient_count=%{y}<extra></extra>\", \"legendgroup\": \"GALLAHER EYECARE\", \"marker\": {\"color\": \"#FECB52\", \"symbol\": \"circle\"}, \"mode\": \"markers\", \"name\": \"GALLAHER EYECARE\", \"showlegend\": true, \"type\": \"scattergl\", \"x\": [\"JOHN GALLAHER\"], \"xaxis\": \"x\", \"y\": [230], \"yaxis\": \"y\"}, {\"hovertemplate\": \"to_facility=FOOT AND ANKLE HEALTHCARE CENTER<br>from_physician=%{x}<br>patient_count=%{y}<extra></extra>\", \"legendgroup\": \"FOOT AND ANKLE HEALTHCARE CENTER\", \"marker\": {\"color\": \"#636efa\", \"symbol\": \"circle\"}, \"mode\": \"markers\", \"name\": \"FOOT AND ANKLE HEALTHCARE CENTER\", \"showlegend\": true, \"type\": \"scattergl\", \"x\": [\"CARMEN APRIL\"], \"xaxis\": \"x\", \"y\": [64], \"yaxis\": \"y\"}, {\"hovertemplate\": \"to_facility=AK HEALTH CONNECTION LLC<br>from_physician=%{x}<br>patient_count=%{y}<extra></extra>\", \"legendgroup\": \"AK HEALTH CONNECTION LLC\", \"marker\": {\"color\": \"#EF553B\", \"symbol\": \"circle\"}, \"mode\": \"markers\", \"name\": \"AK HEALTH CONNECTION LLC\", \"showlegend\": true, \"type\": \"scattergl\", \"x\": [\"GREGORY BEAUCHAMP\"], \"xaxis\": \"x\", \"y\": [36], \"yaxis\": \"y\"}, {\"hovertemplate\": \"to_facility=SUPERIOR HEALTH SOLUTIONS LLC<br>from_physician=%{x}<br>patient_count=%{y}<extra></extra>\", \"legendgroup\": \"SUPERIOR HEALTH SOLUTIONS LLC\", \"marker\": {\"color\": \"#00cc96\", \"symbol\": \"circle\"}, \"mode\": \"markers\", \"name\": \"SUPERIOR HEALTH SOLUTIONS LLC\", \"showlegend\": true, \"type\": \"scattergl\", \"x\": [\"SARAH PEARL\"], \"xaxis\": \"x\", \"y\": [49], \"yaxis\": \"y\"}, {\"hovertemplate\": \"to_facility=QUALITY CARE INVESTORS<br>from_physician=%{x}<br>patient_count=%{y}<extra></extra>\", \"legendgroup\": \"QUALITY CARE INVESTORS\", \"marker\": {\"color\": \"#ab63fa\", \"symbol\": \"circle\"}, \"mode\": \"markers\", \"name\": \"QUALITY CARE INVESTORS\", \"showlegend\": true, \"type\": \"scattergl\", \"x\": [\"ELIZABETH VERNON\"], \"xaxis\": \"x\", \"y\": [101], \"yaxis\": \"y\"}, {\"hovertemplate\": \"to_facility=PRIMARY CARE ASSOCIATES OF SMITH COUNTY, INC.<br>from_physician=%{x}<br>patient_count=%{y}<extra></extra>\", \"legendgroup\": \"PRIMARY CARE ASSOCIATES OF SMITH COUNTY, INC.\", \"marker\": {\"color\": \"#FFA15A\", \"symbol\": \"circle\"}, \"mode\": \"markers\", \"name\": \"PRIMARY CARE ASSOCIATES OF SMITH COUNTY, INC.\", \"showlegend\": true, \"type\": \"scattergl\", \"x\": [\"KAREN SEXTON\"], \"xaxis\": \"x\", \"y\": [103], \"yaxis\": \"y\"}, {\"hovertemplate\": \"to_facility=BURLEY CHIROPRACTIC PC<br>from_physician=%{x}<br>patient_count=%{y}<extra></extra>\", \"legendgroup\": \"BURLEY CHIROPRACTIC PC\", \"marker\": {\"color\": \"#19d3f3\", \"symbol\": \"circle\"}, \"mode\": \"markers\", \"name\": \"BURLEY CHIROPRACTIC PC\", \"showlegend\": true, \"type\": \"scattergl\", \"x\": [\"JOHN BURLEY\"], \"xaxis\": \"x\", \"y\": [21], \"yaxis\": \"y\"}, {\"hovertemplate\": \"to_facility=PARKS PRACTITIONER AND CONSULTING SERVICES LLC<br>from_physician=%{x}<br>patient_count=%{y}<extra></extra>\", \"legendgroup\": \"PARKS PRACTITIONER AND CONSULTING SERVICES LLC\", \"marker\": {\"color\": \"#FF6692\", \"symbol\": \"circle\"}, \"mode\": \"markers\", \"name\": \"PARKS PRACTITIONER AND CONSULTING SERVICES LLC\", \"showlegend\": true, \"type\": \"scattergl\", \"x\": [\"MARY PARKS\"], \"xaxis\": \"x\", \"y\": [57], \"yaxis\": \"y\"}, {\"hovertemplate\": \"to_facility=SCHROEDER CHIROPRACTIC LLC<br>from_physician=%{x}<br>patient_count=%{y}<extra></extra>\", \"legendgroup\": \"SCHROEDER CHIROPRACTIC LLC\", \"marker\": {\"color\": \"#B6E880\", \"symbol\": \"circle\"}, \"mode\": \"markers\", \"name\": \"SCHROEDER CHIROPRACTIC LLC\", \"showlegend\": true, \"type\": \"scattergl\", \"x\": [\"SCOTT SCHROEDER\"], \"xaxis\": \"x\", \"y\": [37], \"yaxis\": \"y\"}, {\"hovertemplate\": \"to_facility=JOHN A TAYLOR MD<br>from_physician=%{x}<br>patient_count=%{y}<extra></extra>\", \"legendgroup\": \"JOHN A TAYLOR MD\", \"marker\": {\"color\": \"#FF97FF\", \"symbol\": \"circle\"}, \"mode\": \"markers\", \"name\": \"JOHN A TAYLOR MD\", \"showlegend\": true, \"type\": \"scattergl\", \"x\": [\"JOHN TAYLOR\"], \"xaxis\": \"x\", \"y\": [228], \"yaxis\": \"y\"}, {\"hovertemplate\": \"to_facility=NASHVILLE VASCULAR AND VEIN INSTITUTE, PLLC<br>from_physician=%{x}<br>patient_count=%{y}<extra></extra>\", \"legendgroup\": \"NASHVILLE VASCULAR AND VEIN INSTITUTE, PLLC\", \"marker\": {\"color\": \"#FECB52\", \"symbol\": \"circle\"}, \"mode\": \"markers\", \"name\": \"NASHVILLE VASCULAR AND VEIN INSTITUTE, PLLC\", \"showlegend\": true, \"type\": \"scattergl\", \"x\": [\"PATRICK RYAN\"], \"xaxis\": \"x\", \"y\": [426], \"yaxis\": \"y\"}, {\"hovertemplate\": \"to_facility=DR KAREN J PUCKETT PLC<br>from_physician=%{x}<br>patient_count=%{y}<extra></extra>\", \"legendgroup\": \"DR KAREN J PUCKETT PLC\", \"marker\": {\"color\": \"#636efa\", \"symbol\": \"circle\"}, \"mode\": \"markers\", \"name\": \"DR KAREN J PUCKETT PLC\", \"showlegend\": true, \"type\": \"scattergl\", \"x\": [\"KAREN PUCKETT\"], \"xaxis\": \"x\", \"y\": [109], \"yaxis\": \"y\"}, {\"hovertemplate\": \"to_facility=DHAR FAMILY MEDICINE, PLLC<br>from_physician=%{x}<br>patient_count=%{y}<extra></extra>\", \"legendgroup\": \"DHAR FAMILY MEDICINE, PLLC\", \"marker\": {\"color\": \"#EF553B\", \"symbol\": \"circle\"}, \"mode\": \"markers\", \"name\": \"DHAR FAMILY MEDICINE, PLLC\", \"showlegend\": true, \"type\": \"scattergl\", \"x\": [\"ANITHA DHAR\"], \"xaxis\": \"x\", \"y\": [165], \"yaxis\": \"y\"}, {\"hovertemplate\": \"to_facility=TANKERSLEY CHIROPRACTIC<br>from_physician=%{x}<br>patient_count=%{y}<extra></extra>\", \"legendgroup\": \"TANKERSLEY CHIROPRACTIC\", \"marker\": {\"color\": \"#00cc96\", \"symbol\": \"circle\"}, \"mode\": \"markers\", \"name\": \"TANKERSLEY CHIROPRACTIC\", \"showlegend\": true, \"type\": \"scattergl\", \"x\": [\"CRAIG TANKERSLEY\"], \"xaxis\": \"x\", \"y\": [28], \"yaxis\": \"y\"}, {\"hovertemplate\": \"to_facility=ANGELA WILLIS FAMILY PRACTICE PLLC<br>from_physician=%{x}<br>patient_count=%{y}<extra></extra>\", \"legendgroup\": \"ANGELA WILLIS FAMILY PRACTICE PLLC\", \"marker\": {\"color\": \"#ab63fa\", \"symbol\": \"circle\"}, \"mode\": \"markers\", \"name\": \"ANGELA WILLIS FAMILY PRACTICE PLLC\", \"showlegend\": true, \"type\": \"scattergl\", \"x\": [\"ANGELA WILLIS\"], \"xaxis\": \"x\", \"y\": [76], \"yaxis\": \"y\"}, {\"hovertemplate\": \"to_facility=L. EDWIN RICE, JR., MD, PLLC<br>from_physician=%{x}<br>patient_count=%{y}<extra></extra>\", \"legendgroup\": \"L. EDWIN RICE, JR., MD, PLLC\", \"marker\": {\"color\": \"#FFA15A\", \"symbol\": \"circle\"}, \"mode\": \"markers\", \"name\": \"L. EDWIN RICE, JR., MD, PLLC\", \"showlegend\": true, \"type\": \"scattergl\", \"x\": [\"LEONIDAS RICE\"], \"xaxis\": \"x\", \"y\": [99], \"yaxis\": \"y\"}, {\"hovertemplate\": \"to_facility=DR. MARK KESTNER GROUP<br>from_physician=%{x}<br>patient_count=%{y}<extra></extra>\", \"legendgroup\": \"DR. MARK KESTNER GROUP\", \"marker\": {\"color\": \"#19d3f3\", \"symbol\": \"circle\"}, \"mode\": \"markers\", \"name\": \"DR. MARK KESTNER GROUP\", \"showlegend\": true, \"type\": \"scattergl\", \"x\": [\"MARK KESTNER\"], \"xaxis\": \"x\", \"y\": [32], \"yaxis\": \"y\"}, {\"hovertemplate\": \"to_facility=HARPETH VALLEY HEALTH CENTER PLLC<br>from_physician=%{x}<br>patient_count=%{y}<extra></extra>\", \"legendgroup\": \"HARPETH VALLEY HEALTH CENTER PLLC\", \"marker\": {\"color\": \"#FF6692\", \"symbol\": \"circle\"}, \"mode\": \"markers\", \"name\": \"HARPETH VALLEY HEALTH CENTER PLLC\", \"showlegend\": true, \"type\": \"scattergl\", \"x\": [\"TAMERA THOENER\"], \"xaxis\": \"x\", \"y\": [109], \"yaxis\": \"y\"}, {\"hovertemplate\": \"to_facility=CHARLES W DANIELS MD PERSONALIZED HEALTHCARE<br>from_physician=%{x}<br>patient_count=%{y}<extra></extra>\", \"legendgroup\": \"CHARLES W DANIELS MD PERSONALIZED HEALTHCARE\", \"marker\": {\"color\": \"#B6E880\", \"symbol\": \"circle\"}, \"mode\": \"markers\", \"name\": \"CHARLES W DANIELS MD PERSONALIZED HEALTHCARE\", \"showlegend\": true, \"type\": \"scattergl\", \"x\": [\"CHARLES DANIELS\"], \"xaxis\": \"x\", \"y\": [118], \"yaxis\": \"y\"}, {\"hovertemplate\": \"to_facility=METROPOLITAN GOVERNMENT OF NASHVILLE & DAVIDSON COUNTY<br>from_physician=%{x}<br>patient_count=%{y}<extra></extra>\", \"legendgroup\": \"METROPOLITAN GOVERNMENT OF NASHVILLE & DAVIDSON COUNTY\", \"marker\": {\"color\": \"#FF97FF\", \"symbol\": \"circle\"}, \"mode\": \"markers\", \"name\": \"METROPOLITAN GOVERNMENT OF NASHVILLE & DAVIDSON COUNTY\", \"showlegend\": true, \"type\": \"scattergl\", \"x\": [\"WILLIAM PAUL\"], \"xaxis\": \"x\", \"y\": [65], \"yaxis\": \"y\"}, {\"hovertemplate\": \"to_facility=STEEL FAMILY MEDICINE<br>from_physician=%{x}<br>patient_count=%{y}<extra></extra>\", \"legendgroup\": \"STEEL FAMILY MEDICINE\", \"marker\": {\"color\": \"#FECB52\", \"symbol\": \"circle\"}, \"mode\": \"markers\", \"name\": \"STEEL FAMILY MEDICINE\", \"showlegend\": true, \"type\": \"scattergl\", \"x\": [\"SHANNAH STEEL\"], \"xaxis\": \"x\", \"y\": [100], \"yaxis\": \"y\"}, {\"hovertemplate\": \"to_facility=OPTIMAL HEALTH CHIROPRACTIC CENTER, PLLC<br>from_physician=%{x}<br>patient_count=%{y}<extra></extra>\", \"legendgroup\": \"OPTIMAL HEALTH CHIROPRACTIC CENTER, PLLC\", \"marker\": {\"color\": \"#636efa\", \"symbol\": \"circle\"}, \"mode\": \"markers\", \"name\": \"OPTIMAL HEALTH CHIROPRACTIC CENTER, PLLC\", \"showlegend\": true, \"type\": \"scattergl\", \"x\": [\"DANIEL HOLLAND\"], \"xaxis\": \"x\", \"y\": [19], \"yaxis\": \"y\"}, {\"hovertemplate\": \"to_facility=BRENTWOOD SKIN CLINIC PLLC<br>from_physician=%{x}<br>patient_count=%{y}<extra></extra>\", \"legendgroup\": \"BRENTWOOD SKIN CLINIC PLLC\", \"marker\": {\"color\": \"#EF553B\", \"symbol\": \"circle\"}, \"mode\": \"markers\", \"name\": \"BRENTWOOD SKIN CLINIC PLLC\", \"showlegend\": true, \"type\": \"scattergl\", \"x\": [\"CHARLES MITCHELL\"], \"xaxis\": \"x\", \"y\": [166], \"yaxis\": \"y\"}, {\"hovertemplate\": \"to_facility=WAWA LLC<br>from_physician=%{x}<br>patient_count=%{y}<extra></extra>\", \"legendgroup\": \"WAWA LLC\", \"marker\": {\"color\": \"#00cc96\", \"symbol\": \"circle\"}, \"mode\": \"markers\", \"name\": \"WAWA LLC\", \"showlegend\": true, \"type\": \"scattergl\", \"x\": [\"FRITZ WAWA\"], \"xaxis\": \"x\", \"y\": [120], \"yaxis\": \"y\"}, {\"hovertemplate\": \"to_facility=STONES RIVER SURGICAL GROUP PLLC<br>from_physician=%{x}<br>patient_count=%{y}<extra></extra>\", \"legendgroup\": \"STONES RIVER SURGICAL GROUP PLLC\", \"marker\": {\"color\": \"#ab63fa\", \"symbol\": \"circle\"}, \"mode\": \"markers\", \"name\": \"STONES RIVER SURGICAL GROUP PLLC\", \"showlegend\": true, \"type\": \"scattergl\", \"x\": [\"ROBERT DURGIN\"], \"xaxis\": \"x\", \"y\": [67], \"yaxis\": \"y\"}, {\"hovertemplate\": \"to_facility=REGIONAL ENT ASSOCIATES, P.C.<br>from_physician=%{x}<br>patient_count=%{y}<extra></extra>\", \"legendgroup\": \"REGIONAL ENT ASSOCIATES, P.C.\", \"marker\": {\"color\": \"#FFA15A\", \"symbol\": \"circle\"}, \"mode\": \"markers\", \"name\": \"REGIONAL ENT ASSOCIATES, P.C.\", \"showlegend\": true, \"type\": \"scattergl\", \"x\": [\"LESLIE ALLEN\"], \"xaxis\": \"x\", \"y\": [168], \"yaxis\": \"y\"}],                        {\"legend\": {\"title\": {\"text\": \"to_facility\"}, \"tracegroupgap\": 0}, \"showlegend\": false, \"template\": {\"data\": {\"bar\": [{\"error_x\": {\"color\": \"#2a3f5f\"}, \"error_y\": {\"color\": \"#2a3f5f\"}, \"marker\": {\"line\": {\"color\": \"#E5ECF6\", \"width\": 0.5}}, \"type\": \"bar\"}], \"barpolar\": [{\"marker\": {\"line\": {\"color\": \"#E5ECF6\", \"width\": 0.5}}, \"type\": \"barpolar\"}], \"carpet\": [{\"aaxis\": {\"endlinecolor\": \"#2a3f5f\", \"gridcolor\": \"white\", \"linecolor\": \"white\", \"minorgridcolor\": \"white\", \"startlinecolor\": \"#2a3f5f\"}, \"baxis\": {\"endlinecolor\": \"#2a3f5f\", \"gridcolor\": \"white\", \"linecolor\": \"white\", \"minorgridcolor\": \"white\", \"startlinecolor\": \"#2a3f5f\"}, \"type\": \"carpet\"}], \"choropleth\": [{\"colorbar\": {\"outlinewidth\": 0, \"ticks\": \"\"}, \"type\": \"choropleth\"}], \"contour\": [{\"colorbar\": {\"outlinewidth\": 0, \"ticks\": \"\"}, \"colorscale\": [[0.0, \"#0d0887\"], [0.1111111111111111, \"#46039f\"], [0.2222222222222222, \"#7201a8\"], [0.3333333333333333, \"#9c179e\"], [0.4444444444444444, \"#bd3786\"], [0.5555555555555556, \"#d8576b\"], [0.6666666666666666, \"#ed7953\"], [0.7777777777777778, \"#fb9f3a\"], [0.8888888888888888, \"#fdca26\"], [1.0, \"#f0f921\"]], \"type\": \"contour\"}], \"contourcarpet\": [{\"colorbar\": {\"outlinewidth\": 0, \"ticks\": \"\"}, \"type\": \"contourcarpet\"}], \"heatmap\": [{\"colorbar\": {\"outlinewidth\": 0, \"ticks\": \"\"}, \"colorscale\": [[0.0, \"#0d0887\"], [0.1111111111111111, \"#46039f\"], [0.2222222222222222, \"#7201a8\"], [0.3333333333333333, \"#9c179e\"], [0.4444444444444444, \"#bd3786\"], [0.5555555555555556, \"#d8576b\"], [0.6666666666666666, \"#ed7953\"], [0.7777777777777778, \"#fb9f3a\"], [0.8888888888888888, \"#fdca26\"], [1.0, \"#f0f921\"]], \"type\": \"heatmap\"}], \"heatmapgl\": [{\"colorbar\": {\"outlinewidth\": 0, \"ticks\": \"\"}, \"colorscale\": [[0.0, \"#0d0887\"], [0.1111111111111111, \"#46039f\"], [0.2222222222222222, \"#7201a8\"], [0.3333333333333333, \"#9c179e\"], [0.4444444444444444, \"#bd3786\"], [0.5555555555555556, \"#d8576b\"], [0.6666666666666666, \"#ed7953\"], [0.7777777777777778, \"#fb9f3a\"], [0.8888888888888888, \"#fdca26\"], [1.0, \"#f0f921\"]], \"type\": \"heatmapgl\"}], \"histogram\": [{\"marker\": {\"colorbar\": {\"outlinewidth\": 0, \"ticks\": \"\"}}, \"type\": \"histogram\"}], \"histogram2d\": [{\"colorbar\": {\"outlinewidth\": 0, \"ticks\": \"\"}, \"colorscale\": [[0.0, \"#0d0887\"], [0.1111111111111111, \"#46039f\"], [0.2222222222222222, \"#7201a8\"], [0.3333333333333333, \"#9c179e\"], [0.4444444444444444, \"#bd3786\"], [0.5555555555555556, \"#d8576b\"], [0.6666666666666666, \"#ed7953\"], [0.7777777777777778, \"#fb9f3a\"], [0.8888888888888888, \"#fdca26\"], [1.0, \"#f0f921\"]], \"type\": \"histogram2d\"}], \"histogram2dcontour\": [{\"colorbar\": {\"outlinewidth\": 0, \"ticks\": \"\"}, \"colorscale\": [[0.0, \"#0d0887\"], [0.1111111111111111, \"#46039f\"], [0.2222222222222222, \"#7201a8\"], [0.3333333333333333, \"#9c179e\"], [0.4444444444444444, \"#bd3786\"], [0.5555555555555556, \"#d8576b\"], [0.6666666666666666, \"#ed7953\"], [0.7777777777777778, \"#fb9f3a\"], [0.8888888888888888, \"#fdca26\"], [1.0, \"#f0f921\"]], \"type\": \"histogram2dcontour\"}], \"mesh3d\": [{\"colorbar\": {\"outlinewidth\": 0, \"ticks\": \"\"}, \"type\": \"mesh3d\"}], \"parcoords\": [{\"line\": {\"colorbar\": {\"outlinewidth\": 0, \"ticks\": \"\"}}, \"type\": \"parcoords\"}], \"pie\": [{\"automargin\": true, \"type\": \"pie\"}], \"scatter\": [{\"marker\": {\"colorbar\": {\"outlinewidth\": 0, \"ticks\": \"\"}}, \"type\": \"scatter\"}], \"scatter3d\": [{\"line\": {\"colorbar\": {\"outlinewidth\": 0, \"ticks\": \"\"}}, \"marker\": {\"colorbar\": {\"outlinewidth\": 0, \"ticks\": \"\"}}, \"type\": \"scatter3d\"}], \"scattercarpet\": [{\"marker\": {\"colorbar\": {\"outlinewidth\": 0, \"ticks\": \"\"}}, \"type\": \"scattercarpet\"}], \"scattergeo\": [{\"marker\": {\"colorbar\": {\"outlinewidth\": 0, \"ticks\": \"\"}}, \"type\": \"scattergeo\"}], \"scattergl\": [{\"marker\": {\"colorbar\": {\"outlinewidth\": 0, \"ticks\": \"\"}}, \"type\": \"scattergl\"}], \"scattermapbox\": [{\"marker\": {\"colorbar\": {\"outlinewidth\": 0, \"ticks\": \"\"}}, \"type\": \"scattermapbox\"}], \"scatterpolar\": [{\"marker\": {\"colorbar\": {\"outlinewidth\": 0, \"ticks\": \"\"}}, \"type\": \"scatterpolar\"}], \"scatterpolargl\": [{\"marker\": {\"colorbar\": {\"outlinewidth\": 0, \"ticks\": \"\"}}, \"type\": \"scatterpolargl\"}], \"scatterternary\": [{\"marker\": {\"colorbar\": {\"outlinewidth\": 0, \"ticks\": \"\"}}, \"type\": \"scatterternary\"}], \"surface\": [{\"colorbar\": {\"outlinewidth\": 0, \"ticks\": \"\"}, \"colorscale\": [[0.0, \"#0d0887\"], [0.1111111111111111, \"#46039f\"], [0.2222222222222222, \"#7201a8\"], [0.3333333333333333, \"#9c179e\"], [0.4444444444444444, \"#bd3786\"], [0.5555555555555556, \"#d8576b\"], [0.6666666666666666, \"#ed7953\"], [0.7777777777777778, \"#fb9f3a\"], [0.8888888888888888, \"#fdca26\"], [1.0, \"#f0f921\"]], \"type\": \"surface\"}], \"table\": [{\"cells\": {\"fill\": {\"color\": \"#EBF0F8\"}, \"line\": {\"color\": \"white\"}}, \"header\": {\"fill\": {\"color\": \"#C8D4E3\"}, \"line\": {\"color\": \"white\"}}, \"type\": \"table\"}]}, \"layout\": {\"annotationdefaults\": {\"arrowcolor\": \"#2a3f5f\", \"arrowhead\": 0, \"arrowwidth\": 1}, \"coloraxis\": {\"colorbar\": {\"outlinewidth\": 0, \"ticks\": \"\"}}, \"colorscale\": {\"diverging\": [[0, \"#8e0152\"], [0.1, \"#c51b7d\"], [0.2, \"#de77ae\"], [0.3, \"#f1b6da\"], [0.4, \"#fde0ef\"], [0.5, \"#f7f7f7\"], [0.6, \"#e6f5d0\"], [0.7, \"#b8e186\"], [0.8, \"#7fbc41\"], [0.9, \"#4d9221\"], [1, \"#276419\"]], \"sequential\": [[0.0, \"#0d0887\"], [0.1111111111111111, \"#46039f\"], [0.2222222222222222, \"#7201a8\"], [0.3333333333333333, \"#9c179e\"], [0.4444444444444444, \"#bd3786\"], [0.5555555555555556, \"#d8576b\"], [0.6666666666666666, \"#ed7953\"], [0.7777777777777778, \"#fb9f3a\"], [0.8888888888888888, \"#fdca26\"], [1.0, \"#f0f921\"]], \"sequentialminus\": [[0.0, \"#0d0887\"], [0.1111111111111111, \"#46039f\"], [0.2222222222222222, \"#7201a8\"], [0.3333333333333333, \"#9c179e\"], [0.4444444444444444, \"#bd3786\"], [0.5555555555555556, \"#d8576b\"], [0.6666666666666666, \"#ed7953\"], [0.7777777777777778, \"#fb9f3a\"], [0.8888888888888888, \"#fdca26\"], [1.0, \"#f0f921\"]]}, \"colorway\": [\"#636efa\", \"#EF553B\", \"#00cc96\", \"#ab63fa\", \"#FFA15A\", \"#19d3f3\", \"#FF6692\", \"#B6E880\", \"#FF97FF\", \"#FECB52\"], \"font\": {\"color\": \"#2a3f5f\"}, \"geo\": {\"bgcolor\": \"white\", \"lakecolor\": \"white\", \"landcolor\": \"#E5ECF6\", \"showlakes\": true, \"showland\": true, \"subunitcolor\": \"white\"}, \"hoverlabel\": {\"align\": \"left\"}, \"hovermode\": \"closest\", \"mapbox\": {\"style\": \"light\"}, \"paper_bgcolor\": \"white\", \"plot_bgcolor\": \"#E5ECF6\", \"polar\": {\"angularaxis\": {\"gridcolor\": \"white\", \"linecolor\": \"white\", \"ticks\": \"\"}, \"bgcolor\": \"#E5ECF6\", \"radialaxis\": {\"gridcolor\": \"white\", \"linecolor\": \"white\", \"ticks\": \"\"}}, \"scene\": {\"xaxis\": {\"backgroundcolor\": \"#E5ECF6\", \"gridcolor\": \"white\", \"gridwidth\": 2, \"linecolor\": \"white\", \"showbackground\": true, \"ticks\": \"\", \"zerolinecolor\": \"white\"}, \"yaxis\": {\"backgroundcolor\": \"#E5ECF6\", \"gridcolor\": \"white\", \"gridwidth\": 2, \"linecolor\": \"white\", \"showbackground\": true, \"ticks\": \"\", \"zerolinecolor\": \"white\"}, \"zaxis\": {\"backgroundcolor\": \"#E5ECF6\", \"gridcolor\": \"white\", \"gridwidth\": 2, \"linecolor\": \"white\", \"showbackground\": true, \"ticks\": \"\", \"zerolinecolor\": \"white\"}}, \"shapedefaults\": {\"line\": {\"color\": \"#2a3f5f\"}}, \"ternary\": {\"aaxis\": {\"gridcolor\": \"white\", \"linecolor\": \"white\", \"ticks\": \"\"}, \"baxis\": {\"gridcolor\": \"white\", \"linecolor\": \"white\", \"ticks\": \"\"}, \"bgcolor\": \"#E5ECF6\", \"caxis\": {\"gridcolor\": \"white\", \"linecolor\": \"white\", \"ticks\": \"\"}}, \"title\": {\"x\": 0.05}, \"xaxis\": {\"automargin\": true, \"gridcolor\": \"white\", \"linecolor\": \"white\", \"ticks\": \"\", \"title\": {\"standoff\": 15}, \"zerolinecolor\": \"white\", \"zerolinewidth\": 2}, \"yaxis\": {\"automargin\": true, \"gridcolor\": \"white\", \"linecolor\": \"white\", \"ticks\": \"\", \"title\": {\"standoff\": 15}, \"zerolinecolor\": \"white\", \"zerolinewidth\": 2}}}, \"title\": {\"text\": \" \"}, \"xaxis\": {\"anchor\": \"y\", \"domain\": [0.0, 1.0], \"title\": {\"text\": \"from_physician\"}}, \"yaxis\": {\"anchor\": \"x\", \"domain\": [0.0, 1.0], \"title\": {\"text\": \"patient_count\"}}},                        {\"responsive\": true}                    ).then(function(){\n",
       "                            \n",
       "var gd = document.getElementById('96f81912-e045-478c-afc6-8802acbf6a04');\n",
       "var x = new MutationObserver(function (mutations, observer) {{\n",
       "        var display = window.getComputedStyle(gd).display;\n",
       "        if (!display || display === 'none') {{\n",
       "            console.log([gd, 'removed!']);\n",
       "            Plotly.purge(gd);\n",
       "            observer.disconnect();\n",
       "        }}\n",
       "}});\n",
       "\n",
       "// Listen for the removal of the full notebook cells\n",
       "var notebookContainer = gd.closest('#notebook-container');\n",
       "if (notebookContainer) {{\n",
       "    x.observe(notebookContainer, {childList: true});\n",
       "}}\n",
       "\n",
       "// Listen for the clearing of the current output cell\n",
       "var outputEl = gd.closest('.output');\n",
       "if (outputEl) {{\n",
       "    x.observe(outputEl, {childList: true});\n",
       "}}\n",
       "\n",
       "                        })                };                });            </script>        </div>"
      ]
     },
     "metadata": {},
     "output_type": "display_data"
    }
   ],
   "source": [
    "fig = px.scatter(no_wait, x=\"from_physician\", y=\"patient_count\",\n",
    "        color=\"to_facility\",\n",
    "        title=\" \")\n",
    "fig.update(layout_showlegend=False)\n",
    "fig.show()"
   ]
  },
  {
   "cell_type": "code",
   "execution_count": null,
   "metadata": {},
   "outputs": [],
   "source": []
  },
  {
   "cell_type": "code",
   "execution_count": null,
   "metadata": {},
   "outputs": [],
   "source": []
  },
  {
   "cell_type": "code",
   "execution_count": null,
   "metadata": {},
   "outputs": [],
   "source": []
  }
 ],
 "metadata": {
  "kernelspec": {
   "display_name": "Python 3",
   "language": "python",
   "name": "python3"
  },
  "language_info": {
   "codemirror_mode": {
    "name": "ipython",
    "version": 3
   },
   "file_extension": ".py",
   "mimetype": "text/x-python",
   "name": "python",
   "nbconvert_exporter": "python",
   "pygments_lexer": "ipython3",
   "version": "3.7.3"
  }
 },
 "nbformat": 4,
 "nbformat_minor": 2
}
