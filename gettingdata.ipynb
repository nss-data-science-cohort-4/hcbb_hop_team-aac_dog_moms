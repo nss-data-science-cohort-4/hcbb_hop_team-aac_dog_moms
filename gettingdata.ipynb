{
 "cells": [
  {
   "cell_type": "code",
   "execution_count": 1,
   "metadata": {},
   "outputs": [],
   "source": [
    "import sqlite3\n",
    "import pandas as pd\n",
    "from tqdm.notebook import tqdm"
   ]
  },
  {
   "cell_type": "markdown",
   "metadata": {},
   "source": [
    "## NPPES data"
   ]
  },
  {
   "cell_type": "markdown",
   "metadata": {},
   "source": [
    "db = sqlite3.connect('data/nppes_lite.sqlite')"
   ]
  },
  {
   "cell_type": "markdown",
   "metadata": {},
   "source": [
    "for chunk in tqdm(pd.read_csv('data/npidata_pfile_20050523-20210207.csv', chunksize = 10000)):\n",
    "    chunk.columns = [x.lower().replace(' ', '_') for x in chunk.columns]      # Clean up the column names\n",
    "    chunk = chunk[chunk['provider_business_mailing_address_state_name']=='TN']\n",
    "    chunk.to_sql('nppes_raw', db, if_exists = 'append', index = False)            # Append the chunk to a calls table"
   ]
  },
  {
   "cell_type": "markdown",
   "metadata": {},
   "source": [
    "## 2017 Hop Teaming dataset"
   ]
  },
  {
   "cell_type": "markdown",
   "metadata": {},
   "source": [
    "db = sqlite3.connect('data/nppes_lite.sqlite')"
   ]
  },
  {
   "cell_type": "markdown",
   "metadata": {},
   "source": [
    "for chunk in tqdm(pd.read_csv('data/DocGraph_Hop_Teaming_2017.csv', chunksize = 10000)):\n",
    "    chunk = chunk[chunk['transaction_count']>=50]\n",
    "    chunk = chunk[chunk['average_day_wait']<50]\n",
    "    chunk.columns = [x.lower().replace(' ', '_') for x in chunk.columns]      # Clean up the column names\n",
    "    chunk.to_sql('hop_team', db, if_exists = 'append', index = False)"
   ]
  },
  {
   "cell_type": "markdown",
   "metadata": {},
   "source": [
    "## Classification\n",
    "National Uniform Claim Committee"
   ]
  },
  {
   "cell_type": "markdown",
   "metadata": {},
   "source": [
    "for chunk in tqdm(pd.read_csv('data/nucc_taxonomy_210.csv',\n",
    "                              chunksize = 10000)):\n",
    "    chunk.columns = [x.lower().replace(' ', '_') for x in chunk.columns]      # Clean up the column names\n",
    "    chunk.to_sql('nucc_taxonomy', db, if_exists = 'append', index = False)   # Append the chunk to nucc_taxonomy table"
   ]
  },
  {
   "cell_type": "markdown",
   "metadata": {},
   "source": [
    "## Zip code to CBSA\n",
    "using the Business Zip code"
   ]
  },
  {
   "cell_type": "markdown",
   "metadata": {},
   "source": [
    "db = sqlite3.connect('data/nppes_lite.sqlite')"
   ]
  },
  {
   "cell_type": "markdown",
   "metadata": {},
   "source": [
    "for chunk in tqdm(pd.read_csv('data/ZIP_CBSA_122020.csv',\n",
    "                         dtype={'ZIP':str}, #convert ZIP col to str to preserve leading zeros\n",
    "                         chunksize=1000)):\n",
    "    chunk.columns = [x.lower().replace(' ', '_') for x in chunk.columns]      # Clean up the column names\n",
    "    chunk.to_sql('zip_cbsa', db, if_exists = 'append', index = False)   # Append the chunk to zip_cbsa table"
   ]
  },
  {
   "cell_type": "markdown",
   "metadata": {},
   "source": [
    "db.close()"
   ]
  },
  {
   "cell_type": "code",
   "execution_count": 2,
   "metadata": {},
   "outputs": [],
   "source": [
    "#could merge within the for loop"
   ]
  },
  {
   "cell_type": "code",
   "execution_count": null,
   "metadata": {},
   "outputs": [],
   "source": []
  }
 ],
 "metadata": {
  "kernelspec": {
   "display_name": "Python 3",
   "language": "python",
   "name": "python3"
  },
  "language_info": {
   "codemirror_mode": {
    "name": "ipython",
    "version": 3
   },
   "file_extension": ".py",
   "mimetype": "text/x-python",
   "name": "python",
   "nbconvert_exporter": "python",
   "pygments_lexer": "ipython3",
   "version": "3.8.3"
  }
 },
 "nbformat": 4,
 "nbformat_minor": 4
}
